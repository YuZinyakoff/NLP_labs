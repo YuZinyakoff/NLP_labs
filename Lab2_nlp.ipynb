{
  "cells": [
    {
      "cell_type": "markdown",
      "metadata": {
        "id": "view-in-github",
        "colab_type": "text"
      },
      "source": [
        "<a href=\"https://colab.research.google.com/github/YuZinyakoff/NLP_labs/blob/main/Lab2_nlp.ipynb\" target=\"_parent\"><img src=\"https://colab.research.google.com/assets/colab-badge.svg\" alt=\"Open In Colab\"/></a>"
      ]
    },
    {
      "cell_type": "code",
      "execution_count": null,
      "metadata": {
        "collapsed": true,
        "id": "b2ZORoPdYFNo"
      },
      "outputs": [],
      "source": [
        "!pip install datasets"
      ]
    },
    {
      "cell_type": "code",
      "execution_count": null,
      "metadata": {
        "id": "s12tDCNrYBxf"
      },
      "outputs": [],
      "source": [
        "from datasets import load_dataset\n",
        "import pandas as pd"
      ]
    },
    {
      "cell_type": "markdown",
      "metadata": {
        "id": "WIk5APqjHS7S"
      },
      "source": [
        "Соединим все три блока в train для удобства, потом рассплитим сами"
      ]
    },
    {
      "cell_type": "code",
      "execution_count": null,
      "metadata": {
        "id": "_lkf8zqJYO_B"
      },
      "outputs": [],
      "source": [
        "dataset = load_dataset(\"iluvvatar/NEREL\")\n",
        "\n",
        "train = pd.concat([pd.DataFrame(dataset['train']), pd.DataFrame(dataset['dev']), pd.DataFrame(dataset['test'])], ignore_index=True).reset_index(drop=True)\n"
      ]
    },
    {
      "cell_type": "code",
      "execution_count": null,
      "metadata": {
        "colab": {
          "base_uri": "https://localhost:8080/"
        },
        "id": "dpMzk8mWZnhf",
        "outputId": "ae7008b2-200a-4558-9080-db672e51d399"
      },
      "outputs": [
        {
          "output_type": "execute_result",
          "data": {
            "text/plain": [
              "Index(['id', 'text', 'entities', 'relations', 'links'], dtype='object')"
            ]
          },
          "metadata": {},
          "execution_count": 7
        }
      ],
      "source": [
        "train.columns"
      ]
    },
    {
      "cell_type": "code",
      "execution_count": null,
      "metadata": {
        "id": "RqIbxTesd7Vt"
      },
      "outputs": [],
      "source": [
        "train = train[['text', 'entities']]"
      ]
    },
    {
      "cell_type": "markdown",
      "source": [
        "Сори, ноутбук не оч хорошо организован и не почищен"
      ],
      "metadata": {
        "id": "FL7u0pW6p-wp"
      }
    },
    {
      "cell_type": "markdown",
      "metadata": {
        "id": "6wbVI8N9cbvj"
      },
      "source": [
        "# Описание датасета\n",
        "\n",
        "[Источник](https://huggingface.co/datasets/iluvvatar/NEREL)\n",
        "```python\n",
        "@article{loukachevitch2021nerel,\n",
        "title={NEREL: A Russian Dataset with Nested Named Entities, Relations and Events},\n",
        "author={Loukachevitch, Natalia and Artemova, Ekaterina and Batura, Tatiana and Braslavski, Pavel and Denisov, Ilia and Ivanov, Vladimir and Manandhar, Suresh and Pugachev, Alexander and Tutubalina, Elena},\n",
        "journal={arXiv preprint arXiv:2108.13112},\n",
        "year={2021}\n",
        "}\n",
        "```\n",
        "\n",
        "Русскоязычный датасет новостных текстов. Для нашей задачи нужны будут только 2 его столбца: сами тексты и соответственно сущности. В следующих двух ячейках показан формат данных.\n",
        "\n",
        "Содержит 29 типов сущностей (ent_types.jsonl в репозитории):\n",
        "```\n",
        "{\"type\": \"AGE\", \"link\": \"\"}\n",
        "{\"type\": \"AWARD\", \"link\": \"<NORM>:Wikidata\"}\n",
        "{\"type\": \"CITY\", \"link\": \"<NORM>:Wikidata\"}\n",
        "{\"type\": \"COUNTRY\", \"link\": \"<NORM>:Wikidata\"}\n",
        "{\"type\": \"CRIME\", \"link\": \"\"}\n",
        "{\"type\": \"DATE\", \"link\": \"\"}\n",
        "{\"type\": \"DISEASE\", \"link\": \"<NORM>:Wikidata\"}\n",
        "{\"type\": \"DISTRICT\", \"link\": \"<NORM>:Wikidata\"}\n",
        "{\"type\": \"EVENT\", \"link\": \"<NORM>:Wikidata\"}\n",
        "{\"type\": \"FACILITY\", \"link\": \"<NORM>:Wikidata\"}\n",
        "{\"type\": \"FAMILY\", \"link\": \"\"}\n",
        "{\"type\": \"IDEOLOGY\", \"link\": \"<NORM>:Wikidata\"}\n",
        "{\"type\": \"LANGUAGE\", \"link\": \"<NORM>:Wikidata\"}\n",
        "{\"type\": \"LAW\", \"link\": \"<NORM>:Wikidata\"}\n",
        "{\"type\": \"LOCATION\", \"link\": \"<NORM>:Wikidata\"}\n",
        "{\"type\": \"MONEY\", \"link\": \"\"}\n",
        "{\"type\": \"NATIONALITY\", \"link\": \"<NORM>:Wikidata\"}\n",
        "{\"type\": \"NUMBER\", \"link\": \"\"}\n",
        "{\"type\": \"ORDINAL\", \"link\": \"\"}\n",
        "{\"type\": \"ORGANIZATION\", \"link\": \"<NORM>:Wikidata\"}\n",
        "{\"type\": \"PENALTY\", \"link\": \"\"}\n",
        "{\"type\": \"PERCENT\", \"link\": \"\"}\n",
        "{\"type\": \"PERSON\", \"link\": \"<NORM>:Wikidata\"}\n",
        "{\"type\": \"PRODUCT\", \"link\": \"<NORM>:Wikidata\"}\n",
        "{\"type\": \"PROFESSION\", \"link\": \"<NORM>:Wikidata\"}\n",
        "{\"type\": \"RELIGION\", \"link\": \"<NORM>:Wikidata\"}\n",
        "{\"type\": \"STATE_OR_PROVINCE\", \"link\": \"<NORM>:Wikidata\"}\n",
        "{\"type\": \"TIME\", \"link\": \"\"}\n",
        "{\"type\": \"WORK_OF_ART\", \"link\": \"<NORM>:Wikidata\"}\n",
        "```"
      ]
    },
    {
      "cell_type": "code",
      "execution_count": null,
      "metadata": {
        "colab": {
          "base_uri": "https://localhost:8080/",
          "height": 123
        },
        "id": "fIPAQ_U0cHsx",
        "outputId": "968a218f-cb20-4b58-97b0-4b0a83ff5dae"
      },
      "outputs": [
        {
          "output_type": "execute_result",
          "data": {
            "text/plain": [
              "'Пулеметы, автоматы и снайперские винтовки изъяты в арендуемом американцами доме в Бишкеке\\n\\n05/08/2008 10:35\\n\\nБИШКЕК, 5 августа /Новости-Грузия/. Правоохранительные органы Киргизии обнаружили в доме, арендуемом гражданами США в Бишкеке, пулеметы, автоматы и снайперские винтовки, сообщает во вторник пресс-служба МВД Киргизии.\\n\\n\"В ходе проведения оперативно-профилактического мероприятия под кодовым названием \"Арсенал\" в новостройке Ынтымак, в доме, принадлежащем 66-летнему гражданину Киргизии и арендуемом гражданами США, обнаружены и изъяты: шесть крупнокалиберных пулеметов с оптическим прицелом и с приборами ночного видения, 26 автоматов калибра 5,56 миллиметра, два винчестера марки МОСВЕГА 12-го калибра, четыре ствола от крупнокалиберного пулемета, два подствольных гранатомета, четыре снайперские винтовки с оптическим прицелом защитного цвета, шесть пистолетов калибра 9 миллиметров марки Беретта, одна винтовка\", - говорится в сообщении МВД.\\n\\nПресс-служба отмечает, что на момент обыска \"в доме находились несколько сотрудников посольства США, обладающих дипломатическим иммунитетом, и 10 военнослужащих, якобы прибывших из США для проведения тренинга с сотрудниками спецподразделения одной из силовых структур республики, личности которых в настоящее время устанавливаются\".\\n\\nСогласно сообщению, в доме было обнаружено и значительное количество боеприпасов. \"Два ножа, 2920 штук патронов калибра 5,56 миллиметра, 10556 штук патронов калибра 9 миллиметров, два ящика патронов калибра 50 миллиметров, в каждом 350 штук, патроны калибра 12 миллиметров в количестве 478 штук, маркировочные (трассирующие) патроны (красного цвета) 1000 штук, 66 штук пустых магазинов от автоматического оружия, 57 штук пустых магазинов от пистолета Беретта\", - говорится в пресс-релизе.\\n\\nПресс-служба МВД сообщила, что расследование по данному факту проводит прокуратура Бишкека. Сейчас выясняется, кому именно принадлежит изъятое оружие, передает РИА Новости.\\n\\nОружие, изъятое у граждан США правоохранительными органами Киргизии, находилось в республике с ведома правительства Киргизии, сообщил во вторник представитель пресс-службы посольства США.\\n\\n\"Все оборудование находилось на территории Киргизии с ведома и разрешения киргизских властей\", - сказал собеседник агентства. Военнослужащие и оружие \"прибыли в республику по приглашению правительства с целью обеспечения антитеррористических учений для министерств\", заявило американское дипломатическое ведомство.\\n\\n\"Дом и оборудование находились под защитой киргизских властей\", - отмечает пресс-служба.\\n\\nПосольство США считает случившееся \"неприятным инцидентом\" и выражает надежду что \"США и Киргизия могли бы продолжить усилия по улучшению антитеррористических возможностей Киргизии\".\\n\\nПресс-служба американской военной базы расположенной в международном аэропорту \"Манас\" столицы Киргизии отказалась комментировать данный инцидент с участием американских военных.\\n\\n\"Всеми вопросами, связанными с данным случаем, занимается посольство США\", - сообщили РИА Новости в пресс-службе базы.'"
            ],
            "application/vnd.google.colaboratory.intrinsic+json": {
              "type": "string"
            }
          },
          "metadata": {},
          "execution_count": 9
        }
      ],
      "source": [
        "train.iloc[0].text"
      ]
    },
    {
      "cell_type": "code",
      "execution_count": null,
      "metadata": {
        "colab": {
          "base_uri": "https://localhost:8080/"
        },
        "id": "7hyfaBnKc0DP",
        "outputId": "64cd6d44-436c-4692-b467-85340744f86a"
      },
      "outputs": [
        {
          "output_type": "execute_result",
          "data": {
            "text/plain": [
              "['T1\\tNATIONALITY 62 74\\tамериканцами',\n",
              " 'T2\\tCITY 82 89\\tБишкеке',\n",
              " 'T3\\tDATE 117 126\\t5 августа',\n",
              " 'T4\\tCOUNTRY 136 142\\tГрузия',\n",
              " 'T5\\tORGANIZATION 145 179\\tПравоохранительные органы Киргизии',\n",
              " 'T6\\tCOUNTRY 171 179\\tКиргизии',\n",
              " 'T7\\tCOUNTRY 221 224\\tСША',\n",
              " 'T8\\tCITY 227 234\\tБишкеке',\n",
              " 'T9\\tDATE 288 298\\tво вторник',\n",
              " 'T10\\tORGANIZATION 312 315\\tМВД',\n",
              " 'T11\\tDATE 91 101\\t05/08/2008',\n",
              " 'T12\\tCITY 433 440\\tЫнтымак',\n",
              " 'T13\\tAGE 464 474\\t66-летнему',\n",
              " 'T14\\tCOUNTRY 486 494\\tКиргизии',\n",
              " 'T15\\tCOUNTRY 519 522\\tСША',\n",
              " 'T16\\tNUMBER 545 550\\tшесть',\n",
              " 'T17\\tNUMBER 631 633\\t26',\n",
              " 'T18\\tNUMBER 652 667\\t5,56 миллиметра',\n",
              " 'T19\\tNUMBER 669 672\\tдва',\n",
              " 'T20\\tPRODUCT 690 697\\tМОСВЕГА',\n",
              " 'T21\\tNUMBER 713 719\\tчетыре',\n",
              " 'T22\\tNUMBER 758 761\\tдва',\n",
              " 'T23\\tNUMBER 788 794\\tчетыре',\n",
              " 'T24\\tNUMBER 855 860\\tшесть',\n",
              " 'T25\\tNUMBER 880 893\\t9 миллиметров',\n",
              " 'T26\\tPRODUCT 900 907\\tБеретта',\n",
              " 'T27\\tNUMBER 909 913\\tодна',\n",
              " 'T28\\tORGANIZATION 949 952\\tМВД',\n",
              " 'T29\\tNUMBER 1098 1100\\t10',\n",
              " 'T30\\tCOUNTRY 1136 1139\\tСША',\n",
              " 'T31\\tNUMBER 1372 1375\\tДва',\n",
              " 'T32\\tNUMBER 1382 1386\\t2920',\n",
              " 'T33\\tNUMBER 1409 1424\\t5,56 миллиметра',\n",
              " 'T34\\tNUMBER 1426 1431\\t10556',\n",
              " 'T35\\tNUMBER 1454 1467\\t9 миллиметров',\n",
              " 'T36\\tNUMBER 1469 1472\\tдва',\n",
              " 'T37\\tNUMBER 1496 1510\\t50 миллиметров',\n",
              " 'T38\\tNUMBER 1521 1524\\t350',\n",
              " 'T39\\tNUMBER 1547 1561\\t12 миллиметров',\n",
              " 'T40\\tNUMBER 1575 1578\\t478',\n",
              " 'T41\\tNUMBER 1639 1643\\t1000',\n",
              " 'T42\\tORGANIZATION 312 324\\tМВД Киргизии',\n",
              " 'T43\\tNUMBER 1650 1652\\t66',\n",
              " 'T44\\tORGANIZATION 1792 1795\\tМВД',\n",
              " 'T45\\tNUMBER 1702 1704\\t57',\n",
              " 'T46\\tPRODUCT 1740 1747\\tБеретта',\n",
              " 'T47\\tORGANIZATION 1779 1795\\tПресс-служба МВД',\n",
              " 'T48\\tORGANIZATION 1850 1861\\tпрокуратура',\n",
              " 'T49\\tORGANIZATION 1939 1950\\tРИА Новости',\n",
              " 'T50\\tCOUNTRY 1979 1982\\tСША',\n",
              " 'T51\\tCOUNTRY 2012 2020\\tКиргизии',\n",
              " 'T52\\tORGANIZATION 2055 2077\\tправительства Киргизии',\n",
              " 'T53\\tDATE 2087 2097\\tво вторник',\n",
              " 'T54\\tORGANIZATION 2216 2234\\tкиргизских властей',\n",
              " 'T55\\tCOUNTRY 2185 2193\\tКиргизии',\n",
              " 'T56\\tCOUNTRY 2216 2226\\tкиргизских',\n",
              " 'T57\\tCOUNTRY 2417 2429\\tамериканское',\n",
              " 'T58\\tCOUNTRY 2501 2511\\tкиргизских',\n",
              " 'T59\\tCITY 2819 2835\\tстолицы Киргизии',\n",
              " 'T60\\tCOUNTRY 2631 2634\\tСША',\n",
              " 'T61\\tCOUNTRY 2637 2645\\tКиргизия',\n",
              " 'T62\\tCOUNTRY 2720 2728\\tКиргизии',\n",
              " 'T63\\tNUMBER 698 711\\t12-го калибра',\n",
              " 'T64\\tFACILITY 2812 2817\\tМанас',\n",
              " 'T65\\tCOUNTRY 2827 2835\\tКиргизии',\n",
              " 'T66\\tCOUNTRY 2889 2901\\tамериканских',\n",
              " 'T67\\tCOUNTRY 2745 2757\\tамериканской',\n",
              " 'T68\\tORGANIZATION 2998 3009\\tРИА Новости',\n",
              " 'T69\\tTIME 91 107\\t05/08/2008 10:35',\n",
              " 'T70\\tEVENT 410 417\\tАрсенал',\n",
              " 'T71\\tCITY 109 115\\tБИШКЕК',\n",
              " 'T72\\tORGANIZATION 128 142\\tНовости-Грузия',\n",
              " 'T73\\tCOUNTRY 316 324\\tКиргизии',\n",
              " 'T74\\tORGANIZATION 299 324\\tпресс-служба МВД Киргизии',\n",
              " 'T75\\tCOUNTRY 1051 1054\\tСША',\n",
              " 'T76\\tORGANIZATION 1040 1054\\tпосольства США',\n",
              " 'T77\\tPROFESSION 1028 1054\\tсотрудников посольства США',\n",
              " 'T78\\tPROFESSION 1101 1115\\tвоеннослужащих',\n",
              " 'T79\\tNATIONALITY 1971 1982\\tграждан США',\n",
              " 'T80\\tPROFESSION 1166 1196\\tсотрудниками спецподразделения',\n",
              " 'T81\\tCOUNTRY 2136 2139\\tСША',\n",
              " 'T82\\tORGANIZATION 1850 1869\\tпрокуратура Бишкека',\n",
              " 'T83\\tCITY 1862 1869\\tБишкека',\n",
              " 'T84\\tTIME 1871 1877\\tСейчас',\n",
              " 'T85\\tORGANIZATION 1983 2020\\tправоохранительными органами Киргизии',\n",
              " 'T86\\tCOUNTRY 2069 2077\\tКиргизии',\n",
              " 'T87\\tORGANIZATION 2125 2139\\tпосольства США',\n",
              " 'T88\\tPROFESSION 2098 2139\\tпредставитель пресс-службы посольства США',\n",
              " 'T89\\tORGANIZATION 2112 2139\\tпресс-службы посольства США',\n",
              " 'T90\\tPROFESSION 2268 2282\\tВоеннослужащие',\n",
              " 'T91\\tORGANIZATION 2395 2406\\tминистерств',\n",
              " 'T92\\tORGANIZATION 2329 2342\\tправительства',\n",
              " 'T93\\tORGANIZATION 2417 2455\\tамериканское дипломатическое ведомство',\n",
              " 'T94\\tORGANIZATION 2430 2455\\tдипломатическое ведомство',\n",
              " 'T95\\tORGANIZATION 2533 2545\\tпресс-служба',\n",
              " 'T96\\tCOUNTRY 2559 2562\\tСША',\n",
              " 'T97\\tORGANIZATION 2548 2562\\tПосольство США',\n",
              " 'T98\\tORGANIZATION 2732 2770\\tПресс-служба американской военной базы',\n",
              " 'T100\\tORGANIZATION 2745 2770\\tамериканской военной базы',\n",
              " 'T101\\tNATIONALITY 475 494\\tгражданину Киргизии',\n",
              " 'T102\\tPROFESSION 2902 2909\\tвоенных',\n",
              " 'T103\\tORGANIZATION 2970 2984\\tпосольство США',\n",
              " 'T104\\tNATIONALITY 210 224\\tгражданами США',\n",
              " 'T105\\tNATIONALITY 508 522\\tгражданами США',\n",
              " 'T106\\tEVENT 524 543\\tобнаружены и изъяты',\n",
              " 'T107\\tORGANIZATION 2501 2519\\tкиргизских властей',\n",
              " 'T108\\tCOUNTRY 2981 2984\\tСША']"
            ]
          },
          "metadata": {},
          "execution_count": 10
        }
      ],
      "source": [
        "train.iloc[0].entities"
      ]
    },
    {
      "cell_type": "markdown",
      "metadata": {
        "id": "d8vtWzhdiQOE"
      },
      "source": [
        "Нужно распарсить тип сущности, номер начального и конечного символов, саму сущность."
      ]
    },
    {
      "cell_type": "code",
      "execution_count": null,
      "metadata": {
        "id": "zPuoVLYmlU2j"
      },
      "outputs": [],
      "source": [
        "import re\n",
        "\n",
        "def parse_entities(entities_list):\n",
        "    parsed = []\n",
        "    for ent in entities_list:\n",
        "        parts = ent.split('\\t')\n",
        "        if len(parts) == 3:\n",
        "            ent_id, ent_info, ent_text = parts\n",
        "            # Разделение типа сущности и позиций\n",
        "            match = re.match(r'(\\w+) (\\d+) (\\d+)', ent_info)\n",
        "            if match:\n",
        "                ent_type, start, end = match.groups()\n",
        "                parsed.append({\n",
        "                    'entity_id': ent_id,\n",
        "                    'entity_type': ent_type,\n",
        "                    'start_pos': int(start),\n",
        "                    'end_pos': int(end),\n",
        "                    'entity_text': ent_text\n",
        "                })\n",
        "    return parsed\n",
        "\n",
        "# Применение функции к DataFrame\n",
        "train['parsed_entities'] = train['entities'].apply(parse_entities)\n"
      ]
    },
    {
      "cell_type": "code",
      "execution_count": null,
      "metadata": {
        "colab": {
          "base_uri": "https://localhost:8080/",
          "height": 423
        },
        "id": "TkeGnYsNl7ga",
        "outputId": "9f579780-b937-4f87-a4c2-a80a1491a525"
      },
      "outputs": [
        {
          "output_type": "execute_result",
          "data": {
            "text/plain": [
              "                                                  text  \\\n",
              "0    Пулеметы, автоматы и снайперские винтовки изъя...   \n",
              "1    Муртаза Рахимов чистит кадры\\n\\t\\nПрезидент Ба...   \n",
              "2    Россия задерживает поставку генсека\\n\\t\\nСегод...   \n",
              "3    Российские менеджеры отказались возглавлять \"г...   \n",
              "4    Facebook нашел нового финансового директора\\nФ...   \n",
              "..                                                 ...   \n",
              "928  Замминистра здравоохранения Великобритании зар...   \n",
              "929  Умер создатель индастриала Дженезис Пи-Орридж\\...   \n",
              "930  Билл Гейтс покинул совет директоров Microsoft\\...   \n",
              "931  Скончался Кузя УО\\n\\nВ Санкт-Петербурге в возр...   \n",
              "932  Умер Эдуард Лимонов\\nЭдуард Лимонов\\nВо вторни...   \n",
              "\n",
              "                                              entities  \\\n",
              "0    [T1\\tNATIONALITY 62 74\\tамериканцами, T2\\tCITY...   \n",
              "1    [T1\\tPERSON 0 15\\tМуртаза Рахимов, T2\\tPROFESS...   \n",
              "2    [T1\\tCOUNTRY 0 6\\tРоссия, T2\\tCITY 48 52\\tДохе...   \n",
              "3    [T1\\tCOUNTRY 0 10\\tРоссийские, T2\\tORGANIZATIO...   \n",
              "4    [T1\\tORGANIZATION 0 8\\tFacebook, T2\\tPROFESSIO...   \n",
              "..                                                 ...   \n",
              "928  [T1\\tPERSON 371 384\\tБорис Джонсон, T2\\tPERSON...   \n",
              "929  [T1\\tEVENT 96 100\\tумер, T2\\tPERSON 27 45\\tДже...   \n",
              "930  [T1\\tPERSON 0 10\\tБилл Гейтс, T2\\tORGANIZATION...   \n",
              "931  [T1\\tPERSON 10 17\\tКузя УО, T2\\tCITY 21 37\\tСа...   \n",
              "932  [T2\\tDATE 35 65\\tВо вторник, 17 марта 2020 год...   \n",
              "\n",
              "                                       parsed_entities  \n",
              "0    [{'entity_id': 'T1', 'entity_type': 'NATIONALI...  \n",
              "1    [{'entity_id': 'T1', 'entity_type': 'PERSON', ...  \n",
              "2    [{'entity_id': 'T1', 'entity_type': 'COUNTRY',...  \n",
              "3    [{'entity_id': 'T1', 'entity_type': 'COUNTRY',...  \n",
              "4    [{'entity_id': 'T1', 'entity_type': 'ORGANIZAT...  \n",
              "..                                                 ...  \n",
              "928  [{'entity_id': 'T1', 'entity_type': 'PERSON', ...  \n",
              "929  [{'entity_id': 'T1', 'entity_type': 'EVENT', '...  \n",
              "930  [{'entity_id': 'T1', 'entity_type': 'PERSON', ...  \n",
              "931  [{'entity_id': 'T1', 'entity_type': 'PERSON', ...  \n",
              "932  [{'entity_id': 'T2', 'entity_type': 'DATE', 's...  \n",
              "\n",
              "[933 rows x 3 columns]"
            ],
            "text/html": [
              "\n",
              "  <div id=\"df-baa83fbf-2aba-4d17-ac88-463e5341f818\" class=\"colab-df-container\">\n",
              "    <div>\n",
              "<style scoped>\n",
              "    .dataframe tbody tr th:only-of-type {\n",
              "        vertical-align: middle;\n",
              "    }\n",
              "\n",
              "    .dataframe tbody tr th {\n",
              "        vertical-align: top;\n",
              "    }\n",
              "\n",
              "    .dataframe thead th {\n",
              "        text-align: right;\n",
              "    }\n",
              "</style>\n",
              "<table border=\"1\" class=\"dataframe\">\n",
              "  <thead>\n",
              "    <tr style=\"text-align: right;\">\n",
              "      <th></th>\n",
              "      <th>text</th>\n",
              "      <th>entities</th>\n",
              "      <th>parsed_entities</th>\n",
              "    </tr>\n",
              "  </thead>\n",
              "  <tbody>\n",
              "    <tr>\n",
              "      <th>0</th>\n",
              "      <td>Пулеметы, автоматы и снайперские винтовки изъя...</td>\n",
              "      <td>[T1\\tNATIONALITY 62 74\\tамериканцами, T2\\tCITY...</td>\n",
              "      <td>[{'entity_id': 'T1', 'entity_type': 'NATIONALI...</td>\n",
              "    </tr>\n",
              "    <tr>\n",
              "      <th>1</th>\n",
              "      <td>Муртаза Рахимов чистит кадры\\n\\t\\nПрезидент Ба...</td>\n",
              "      <td>[T1\\tPERSON 0 15\\tМуртаза Рахимов, T2\\tPROFESS...</td>\n",
              "      <td>[{'entity_id': 'T1', 'entity_type': 'PERSON', ...</td>\n",
              "    </tr>\n",
              "    <tr>\n",
              "      <th>2</th>\n",
              "      <td>Россия задерживает поставку генсека\\n\\t\\nСегод...</td>\n",
              "      <td>[T1\\tCOUNTRY 0 6\\tРоссия, T2\\tCITY 48 52\\tДохе...</td>\n",
              "      <td>[{'entity_id': 'T1', 'entity_type': 'COUNTRY',...</td>\n",
              "    </tr>\n",
              "    <tr>\n",
              "      <th>3</th>\n",
              "      <td>Российские менеджеры отказались возглавлять \"г...</td>\n",
              "      <td>[T1\\tCOUNTRY 0 10\\tРоссийские, T2\\tORGANIZATIO...</td>\n",
              "      <td>[{'entity_id': 'T1', 'entity_type': 'COUNTRY',...</td>\n",
              "    </tr>\n",
              "    <tr>\n",
              "      <th>4</th>\n",
              "      <td>Facebook нашел нового финансового директора\\nФ...</td>\n",
              "      <td>[T1\\tORGANIZATION 0 8\\tFacebook, T2\\tPROFESSIO...</td>\n",
              "      <td>[{'entity_id': 'T1', 'entity_type': 'ORGANIZAT...</td>\n",
              "    </tr>\n",
              "    <tr>\n",
              "      <th>...</th>\n",
              "      <td>...</td>\n",
              "      <td>...</td>\n",
              "      <td>...</td>\n",
              "    </tr>\n",
              "    <tr>\n",
              "      <th>928</th>\n",
              "      <td>Замминистра здравоохранения Великобритании зар...</td>\n",
              "      <td>[T1\\tPERSON 371 384\\tБорис Джонсон, T2\\tPERSON...</td>\n",
              "      <td>[{'entity_id': 'T1', 'entity_type': 'PERSON', ...</td>\n",
              "    </tr>\n",
              "    <tr>\n",
              "      <th>929</th>\n",
              "      <td>Умер создатель индастриала Дженезис Пи-Орридж\\...</td>\n",
              "      <td>[T1\\tEVENT 96 100\\tумер, T2\\tPERSON 27 45\\tДже...</td>\n",
              "      <td>[{'entity_id': 'T1', 'entity_type': 'EVENT', '...</td>\n",
              "    </tr>\n",
              "    <tr>\n",
              "      <th>930</th>\n",
              "      <td>Билл Гейтс покинул совет директоров Microsoft\\...</td>\n",
              "      <td>[T1\\tPERSON 0 10\\tБилл Гейтс, T2\\tORGANIZATION...</td>\n",
              "      <td>[{'entity_id': 'T1', 'entity_type': 'PERSON', ...</td>\n",
              "    </tr>\n",
              "    <tr>\n",
              "      <th>931</th>\n",
              "      <td>Скончался Кузя УО\\n\\nВ Санкт-Петербурге в возр...</td>\n",
              "      <td>[T1\\tPERSON 10 17\\tКузя УО, T2\\tCITY 21 37\\tСа...</td>\n",
              "      <td>[{'entity_id': 'T1', 'entity_type': 'PERSON', ...</td>\n",
              "    </tr>\n",
              "    <tr>\n",
              "      <th>932</th>\n",
              "      <td>Умер Эдуард Лимонов\\nЭдуард Лимонов\\nВо вторни...</td>\n",
              "      <td>[T2\\tDATE 35 65\\tВо вторник, 17 марта 2020 год...</td>\n",
              "      <td>[{'entity_id': 'T2', 'entity_type': 'DATE', 's...</td>\n",
              "    </tr>\n",
              "  </tbody>\n",
              "</table>\n",
              "<p>933 rows × 3 columns</p>\n",
              "</div>\n",
              "    <div class=\"colab-df-buttons\">\n",
              "\n",
              "  <div class=\"colab-df-container\">\n",
              "    <button class=\"colab-df-convert\" onclick=\"convertToInteractive('df-baa83fbf-2aba-4d17-ac88-463e5341f818')\"\n",
              "            title=\"Convert this dataframe to an interactive table.\"\n",
              "            style=\"display:none;\">\n",
              "\n",
              "  <svg xmlns=\"http://www.w3.org/2000/svg\" height=\"24px\" viewBox=\"0 -960 960 960\">\n",
              "    <path d=\"M120-120v-720h720v720H120Zm60-500h600v-160H180v160Zm220 220h160v-160H400v160Zm0 220h160v-160H400v160ZM180-400h160v-160H180v160Zm440 0h160v-160H620v160ZM180-180h160v-160H180v160Zm440 0h160v-160H620v160Z\"/>\n",
              "  </svg>\n",
              "    </button>\n",
              "\n",
              "  <style>\n",
              "    .colab-df-container {\n",
              "      display:flex;\n",
              "      gap: 12px;\n",
              "    }\n",
              "\n",
              "    .colab-df-convert {\n",
              "      background-color: #E8F0FE;\n",
              "      border: none;\n",
              "      border-radius: 50%;\n",
              "      cursor: pointer;\n",
              "      display: none;\n",
              "      fill: #1967D2;\n",
              "      height: 32px;\n",
              "      padding: 0 0 0 0;\n",
              "      width: 32px;\n",
              "    }\n",
              "\n",
              "    .colab-df-convert:hover {\n",
              "      background-color: #E2EBFA;\n",
              "      box-shadow: 0px 1px 2px rgba(60, 64, 67, 0.3), 0px 1px 3px 1px rgba(60, 64, 67, 0.15);\n",
              "      fill: #174EA6;\n",
              "    }\n",
              "\n",
              "    .colab-df-buttons div {\n",
              "      margin-bottom: 4px;\n",
              "    }\n",
              "\n",
              "    [theme=dark] .colab-df-convert {\n",
              "      background-color: #3B4455;\n",
              "      fill: #D2E3FC;\n",
              "    }\n",
              "\n",
              "    [theme=dark] .colab-df-convert:hover {\n",
              "      background-color: #434B5C;\n",
              "      box-shadow: 0px 1px 3px 1px rgba(0, 0, 0, 0.15);\n",
              "      filter: drop-shadow(0px 1px 2px rgba(0, 0, 0, 0.3));\n",
              "      fill: #FFFFFF;\n",
              "    }\n",
              "  </style>\n",
              "\n",
              "    <script>\n",
              "      const buttonEl =\n",
              "        document.querySelector('#df-baa83fbf-2aba-4d17-ac88-463e5341f818 button.colab-df-convert');\n",
              "      buttonEl.style.display =\n",
              "        google.colab.kernel.accessAllowed ? 'block' : 'none';\n",
              "\n",
              "      async function convertToInteractive(key) {\n",
              "        const element = document.querySelector('#df-baa83fbf-2aba-4d17-ac88-463e5341f818');\n",
              "        const dataTable =\n",
              "          await google.colab.kernel.invokeFunction('convertToInteractive',\n",
              "                                                    [key], {});\n",
              "        if (!dataTable) return;\n",
              "\n",
              "        const docLinkHtml = 'Like what you see? Visit the ' +\n",
              "          '<a target=\"_blank\" href=https://colab.research.google.com/notebooks/data_table.ipynb>data table notebook</a>'\n",
              "          + ' to learn more about interactive tables.';\n",
              "        element.innerHTML = '';\n",
              "        dataTable['output_type'] = 'display_data';\n",
              "        await google.colab.output.renderOutput(dataTable, element);\n",
              "        const docLink = document.createElement('div');\n",
              "        docLink.innerHTML = docLinkHtml;\n",
              "        element.appendChild(docLink);\n",
              "      }\n",
              "    </script>\n",
              "  </div>\n",
              "\n",
              "\n",
              "<div id=\"df-6d6924c4-2449-46a6-b2ff-5b6691b271f3\">\n",
              "  <button class=\"colab-df-quickchart\" onclick=\"quickchart('df-6d6924c4-2449-46a6-b2ff-5b6691b271f3')\"\n",
              "            title=\"Suggest charts\"\n",
              "            style=\"display:none;\">\n",
              "\n",
              "<svg xmlns=\"http://www.w3.org/2000/svg\" height=\"24px\"viewBox=\"0 0 24 24\"\n",
              "     width=\"24px\">\n",
              "    <g>\n",
              "        <path d=\"M19 3H5c-1.1 0-2 .9-2 2v14c0 1.1.9 2 2 2h14c1.1 0 2-.9 2-2V5c0-1.1-.9-2-2-2zM9 17H7v-7h2v7zm4 0h-2V7h2v10zm4 0h-2v-4h2v4z\"/>\n",
              "    </g>\n",
              "</svg>\n",
              "  </button>\n",
              "\n",
              "<style>\n",
              "  .colab-df-quickchart {\n",
              "      --bg-color: #E8F0FE;\n",
              "      --fill-color: #1967D2;\n",
              "      --hover-bg-color: #E2EBFA;\n",
              "      --hover-fill-color: #174EA6;\n",
              "      --disabled-fill-color: #AAA;\n",
              "      --disabled-bg-color: #DDD;\n",
              "  }\n",
              "\n",
              "  [theme=dark] .colab-df-quickchart {\n",
              "      --bg-color: #3B4455;\n",
              "      --fill-color: #D2E3FC;\n",
              "      --hover-bg-color: #434B5C;\n",
              "      --hover-fill-color: #FFFFFF;\n",
              "      --disabled-bg-color: #3B4455;\n",
              "      --disabled-fill-color: #666;\n",
              "  }\n",
              "\n",
              "  .colab-df-quickchart {\n",
              "    background-color: var(--bg-color);\n",
              "    border: none;\n",
              "    border-radius: 50%;\n",
              "    cursor: pointer;\n",
              "    display: none;\n",
              "    fill: var(--fill-color);\n",
              "    height: 32px;\n",
              "    padding: 0;\n",
              "    width: 32px;\n",
              "  }\n",
              "\n",
              "  .colab-df-quickchart:hover {\n",
              "    background-color: var(--hover-bg-color);\n",
              "    box-shadow: 0 1px 2px rgba(60, 64, 67, 0.3), 0 1px 3px 1px rgba(60, 64, 67, 0.15);\n",
              "    fill: var(--button-hover-fill-color);\n",
              "  }\n",
              "\n",
              "  .colab-df-quickchart-complete:disabled,\n",
              "  .colab-df-quickchart-complete:disabled:hover {\n",
              "    background-color: var(--disabled-bg-color);\n",
              "    fill: var(--disabled-fill-color);\n",
              "    box-shadow: none;\n",
              "  }\n",
              "\n",
              "  .colab-df-spinner {\n",
              "    border: 2px solid var(--fill-color);\n",
              "    border-color: transparent;\n",
              "    border-bottom-color: var(--fill-color);\n",
              "    animation:\n",
              "      spin 1s steps(1) infinite;\n",
              "  }\n",
              "\n",
              "  @keyframes spin {\n",
              "    0% {\n",
              "      border-color: transparent;\n",
              "      border-bottom-color: var(--fill-color);\n",
              "      border-left-color: var(--fill-color);\n",
              "    }\n",
              "    20% {\n",
              "      border-color: transparent;\n",
              "      border-left-color: var(--fill-color);\n",
              "      border-top-color: var(--fill-color);\n",
              "    }\n",
              "    30% {\n",
              "      border-color: transparent;\n",
              "      border-left-color: var(--fill-color);\n",
              "      border-top-color: var(--fill-color);\n",
              "      border-right-color: var(--fill-color);\n",
              "    }\n",
              "    40% {\n",
              "      border-color: transparent;\n",
              "      border-right-color: var(--fill-color);\n",
              "      border-top-color: var(--fill-color);\n",
              "    }\n",
              "    60% {\n",
              "      border-color: transparent;\n",
              "      border-right-color: var(--fill-color);\n",
              "    }\n",
              "    80% {\n",
              "      border-color: transparent;\n",
              "      border-right-color: var(--fill-color);\n",
              "      border-bottom-color: var(--fill-color);\n",
              "    }\n",
              "    90% {\n",
              "      border-color: transparent;\n",
              "      border-bottom-color: var(--fill-color);\n",
              "    }\n",
              "  }\n",
              "</style>\n",
              "\n",
              "  <script>\n",
              "    async function quickchart(key) {\n",
              "      const quickchartButtonEl =\n",
              "        document.querySelector('#' + key + ' button');\n",
              "      quickchartButtonEl.disabled = true;  // To prevent multiple clicks.\n",
              "      quickchartButtonEl.classList.add('colab-df-spinner');\n",
              "      try {\n",
              "        const charts = await google.colab.kernel.invokeFunction(\n",
              "            'suggestCharts', [key], {});\n",
              "      } catch (error) {\n",
              "        console.error('Error during call to suggestCharts:', error);\n",
              "      }\n",
              "      quickchartButtonEl.classList.remove('colab-df-spinner');\n",
              "      quickchartButtonEl.classList.add('colab-df-quickchart-complete');\n",
              "    }\n",
              "    (() => {\n",
              "      let quickchartButtonEl =\n",
              "        document.querySelector('#df-6d6924c4-2449-46a6-b2ff-5b6691b271f3 button');\n",
              "      quickchartButtonEl.style.display =\n",
              "        google.colab.kernel.accessAllowed ? 'block' : 'none';\n",
              "    })();\n",
              "  </script>\n",
              "</div>\n",
              "\n",
              "  <div id=\"id_5a8cbd1a-8590-4ccf-bcaf-c8fddf6da319\">\n",
              "    <style>\n",
              "      .colab-df-generate {\n",
              "        background-color: #E8F0FE;\n",
              "        border: none;\n",
              "        border-radius: 50%;\n",
              "        cursor: pointer;\n",
              "        display: none;\n",
              "        fill: #1967D2;\n",
              "        height: 32px;\n",
              "        padding: 0 0 0 0;\n",
              "        width: 32px;\n",
              "      }\n",
              "\n",
              "      .colab-df-generate:hover {\n",
              "        background-color: #E2EBFA;\n",
              "        box-shadow: 0px 1px 2px rgba(60, 64, 67, 0.3), 0px 1px 3px 1px rgba(60, 64, 67, 0.15);\n",
              "        fill: #174EA6;\n",
              "      }\n",
              "\n",
              "      [theme=dark] .colab-df-generate {\n",
              "        background-color: #3B4455;\n",
              "        fill: #D2E3FC;\n",
              "      }\n",
              "\n",
              "      [theme=dark] .colab-df-generate:hover {\n",
              "        background-color: #434B5C;\n",
              "        box-shadow: 0px 1px 3px 1px rgba(0, 0, 0, 0.15);\n",
              "        filter: drop-shadow(0px 1px 2px rgba(0, 0, 0, 0.3));\n",
              "        fill: #FFFFFF;\n",
              "      }\n",
              "    </style>\n",
              "    <button class=\"colab-df-generate\" onclick=\"generateWithVariable('train')\"\n",
              "            title=\"Generate code using this dataframe.\"\n",
              "            style=\"display:none;\">\n",
              "\n",
              "  <svg xmlns=\"http://www.w3.org/2000/svg\" height=\"24px\"viewBox=\"0 0 24 24\"\n",
              "       width=\"24px\">\n",
              "    <path d=\"M7,19H8.4L18.45,9,17,7.55,7,17.6ZM5,21V16.75L18.45,3.32a2,2,0,0,1,2.83,0l1.4,1.43a1.91,1.91,0,0,1,.58,1.4,1.91,1.91,0,0,1-.58,1.4L9.25,21ZM18.45,9,17,7.55Zm-12,3A5.31,5.31,0,0,0,4.9,8.1,5.31,5.31,0,0,0,1,6.5,5.31,5.31,0,0,0,4.9,4.9,5.31,5.31,0,0,0,6.5,1,5.31,5.31,0,0,0,8.1,4.9,5.31,5.31,0,0,0,12,6.5,5.46,5.46,0,0,0,6.5,12Z\"/>\n",
              "  </svg>\n",
              "    </button>\n",
              "    <script>\n",
              "      (() => {\n",
              "      const buttonEl =\n",
              "        document.querySelector('#id_5a8cbd1a-8590-4ccf-bcaf-c8fddf6da319 button.colab-df-generate');\n",
              "      buttonEl.style.display =\n",
              "        google.colab.kernel.accessAllowed ? 'block' : 'none';\n",
              "\n",
              "      buttonEl.onclick = () => {\n",
              "        google.colab.notebook.generateWithVariable('train');\n",
              "      }\n",
              "      })();\n",
              "    </script>\n",
              "  </div>\n",
              "\n",
              "    </div>\n",
              "  </div>\n"
            ],
            "application/vnd.google.colaboratory.intrinsic+json": {
              "type": "dataframe",
              "variable_name": "train",
              "summary": "{\n  \"name\": \"train\",\n  \"rows\": 933,\n  \"fields\": [\n    {\n      \"column\": \"text\",\n      \"properties\": {\n        \"dtype\": \"string\",\n        \"num_unique_values\": 933,\n        \"samples\": [\n          \"\\u041f\\u043e\\u0436\\u0430\\u0440 \\u0432 \\u0427\\u0435\\u0440\\u043d\\u043e\\u0431\\u044b\\u043b\\u0435 \\u043b\\u043e\\u043a\\u0430\\u043b\\u0438\\u0437\\u043e\\u0432\\u0430\\u043d\\n\\u0427\\u0435\\u0440\\u043d\\u043e\\u0431\\u044b\\u043b\\u044c\\u0441\\u043a\\u0430\\u044f \\u0437\\u043e\\u043d\\u0430 \\u043e\\u0442\\u0447\\u0443\\u0436\\u0434\\u0435\\u043d\\u0438\\u044f\\n\\u0427\\u043b\\u0435\\u043d \\u043e\\u0431\\u0449\\u0435\\u0441\\u0442\\u0432\\u0435\\u043d\\u043d\\u043e\\u0433\\u043e \\u0441\\u043e\\u0432\\u0435\\u0442\\u0430 \\u043f\\u0440\\u0438 \\u0433\\u043e\\u0441\\u0443\\u0434\\u0430\\u0440\\u0441\\u0442\\u0432\\u0435\\u043d\\u043d\\u043e\\u043c \\u0430\\u0433\\u0435\\u043d\\u0442\\u0441\\u0442\\u0432\\u0435 \\u043f\\u043e \\u0443\\u043f\\u0440\\u0430\\u0432\\u043b\\u0435\\u043d\\u0438\\u044e \\u0437\\u043e\\u043d\\u043e\\u0439 \\u043e\\u0442\\u0447\\u0443\\u0436\\u0434\\u0435\\u043d\\u0438\\u044f \\u042f\\u0440\\u043e\\u0441\\u043b\\u0430\\u0432 \\u0415\\u043c\\u0435\\u043b\\u044c\\u044f\\u043d\\u0435\\u043d\\u043a\\u043e \\u0437\\u0430\\u044f\\u0432\\u0438\\u043b \\u043e \\u0442\\u043e\\u043c, \\u0447\\u0442\\u043e \\u043f\\u043e\\u0436\\u0430\\u0440 \\u0432 \\u0437\\u043e\\u043d\\u0435 \\u043e\\u0442\\u0447\\u0443\\u0436\\u0434\\u0435\\u043d\\u0438\\u044f \\u0430\\u0442\\u043e\\u043c\\u043d\\u043e\\u0439 \\u0441\\u0442\\u0430\\u043d\\u0446\\u0438\\u0438 \\u043b\\u043e\\u043a\\u0430\\u043b\\u0438\\u0437\\u043e\\u0432\\u0430\\u043d. \\u0420\\u0430\\u043d\\u0435\\u0435 \\u043e\\u043d \\u0441\\u043e\\u043e\\u0431\\u0449\\u0430\\u043b, \\u0447\\u0442\\u043e \\u043e\\u0433\\u043e\\u043d\\u044c \\u043f\\u043e\\u0447\\u0442\\u0438 \\u0434\\u043e\\u0441\\u0442\\u0438\\u0433 \\u0445\\u0440\\u0430\\u043d\\u0438\\u043b\\u0438\\u0449 \\u0441 \\u0440\\u0430\\u0434\\u0438\\u043e\\u0430\\u043a\\u0442\\u0438\\u0432\\u043d\\u044b\\u043c\\u0438 \\u043e\\u0442\\u0445\\u043e\\u0434\\u0430\\u043c\\u0438, \\u0430 \\u0443\\u0440\\u043e\\u0432\\u0435\\u043d\\u044c \\u0440\\u0430\\u0434\\u0438\\u0430\\u0446\\u0438\\u0438 \\u0431\\u044b\\u043b \\u043c\\u043d\\u043e\\u0433\\u043e\\u043a\\u0440\\u0430\\u0442\\u043d\\u043e \\u043f\\u0440\\u0435\\u0432\\u044b\\u0448\\u0435\\u043d.\\n\\n\\u042f\\u0440\\u043e\\u0441\\u043b\\u0430\\u0432 \\u043f\\u0438\\u0441\\u0430\\u043b, \\u0447\\u0442\\u043e \\u043e\\u0433\\u043e\\u043d\\u044c \\u0434\\u043e\\u0431\\u0440\\u0430\\u043b\\u0441\\u044f \\u0434\\u043e \\u041f\\u0440\\u0438\\u043f\\u044f\\u0442\\u0438 \\u0438 \\u043d\\u0430\\u0445\\u043e\\u0434\\u0438\\u043b\\u0441\\u044f \\u0432 \\u0434\\u0432\\u0443\\u0445 \\u043a\\u0438\\u043b\\u043e\\u043c\\u0435\\u0442\\u0440\\u0430\\u0445 \\u043e\\u0442 \\u0445\\u0440\\u0430\\u043d\\u0438\\u043b\\u0438\\u0449\\u0430 \\u00ab\\u041f\\u043e\\u0434\\u043b\\u0435\\u0441\\u043d\\u044b\\u0439\\u00bb. \\u041e\\u0433\\u043e\\u043d\\u044c \\u043d\\u0430\\u043f\\u0440\\u0430\\u0432\\u043b\\u044f\\u043b\\u0441\\u044f \\u0432 \\u0441\\u0442\\u043e\\u0440\\u043e\\u043d\\u0443 \\u0427\\u0435\\u0440\\u043d\\u043e\\u0431\\u044b\\u043b\\u044c\\u0441\\u043a\\u043e\\u0439 \\u0410\\u042d\\u0421, \\u0442\\u0430\\u043a \\u043a\\u0430\\u043a \\u043a \\u043d\\u0435\\u0439 \\u0434\\u0443\\u043b \\u0432\\u0435\\u0442\\u0435\\u0440.\\n\\n\\u041e\\u0433\\u043e\\u043d\\u044c \\u043d\\u0430 \\u0442\\u0435\\u0440\\u0440\\u0438\\u0442\\u043e\\u0440\\u0438\\u0438 \\u0437\\u043e\\u043d\\u044b \\u043e\\u0442\\u0447\\u0443\\u0436\\u0434\\u0435\\u043d\\u0438\\u044f \\u0431\\u0443\\u0448\\u0435\\u0432\\u0430\\u043b \\u0431\\u043e\\u043b\\u044c\\u0448\\u0435 \\u043d\\u0435\\u0434\\u0435\\u043b\\u0438. \\u0421\\u0433\\u043e\\u0440\\u0435\\u043b\\u0438 \\u043c\\u043d\\u043e\\u0433\\u0438\\u0435 \\u0431\\u044b\\u0432\\u0448\\u0438\\u0435 \\u0441\\u0435\\u043b\\u0430, \\u0440\\u0430\\u0441\\u043f\\u043e\\u043b\\u043e\\u0436\\u0435\\u043d\\u043d\\u044b\\u0435 \\u0440\\u044f\\u0434\\u043e\\u043c \\u0441 \\u0410\\u042d\\u0421, \\u0431\\u044b\\u043b \\u0443\\u043d\\u0438\\u0447\\u0442\\u043e\\u0436\\u0435\\u043d \\u0420\\u044b\\u0436\\u0438\\u0439 \\u043b\\u0435\\u0441. \\u0412 \\u0442\\u0443\\u0448\\u0435\\u043d\\u0438\\u0438 \\u043f\\u0440\\u0438\\u043d\\u0438\\u043c\\u0430\\u043b\\u0430 \\u0443\\u0447\\u0430\\u0441\\u0442\\u0438\\u0435 \\u0430\\u0432\\u0438\\u0430\\u0446\\u0438\\u044f.\\n\\n\\u041f\\u043e \\u0444\\u0430\\u043a\\u0442\\u0443 \\u043f\\u043e\\u0434\\u0436\\u043e\\u0433\\u0430 \\u0431\\u044b\\u043b \\u0437\\u0430\\u0434\\u0435\\u0440\\u0436\\u0430\\u043d 27-\\u043b\\u0435\\u0442\\u043d\\u0438\\u0439 \\u0436\\u0438\\u0442\\u0435\\u043b\\u044c \\u043e\\u0434\\u043d\\u043e\\u0433\\u043e \\u0438\\u0437 \\u0441\\u0451\\u043b \\u041a\\u0438\\u0435\\u0432\\u0441\\u043a\\u043e\\u0439 \\u043e\\u0431\\u043b\\u0430\\u0441\\u0442\\u0438. \\u041e\\u043d \\u0441\\u043a\\u0430\\u0437\\u0430\\u043b, \\u0447\\u0442\\u043e \\u043f\\u043e\\u0434\\u0436\\u0451\\u0433 \\u043c\\u0443\\u0441\\u043e\\u0440 \\u0438 \\u0442\\u0440\\u0430\\u0432\\u0443 \\u0432 \\u0442\\u0440\\u0451\\u0445 \\u043c\\u0435\\u0441\\u0442\\u0430\\u0445 \\u0440\\u0430\\u0434\\u0438 \\u0437\\u0430\\u0431\\u0430\\u0432\\u044b, \\u043f\\u043e\\u0441\\u043b\\u0435 \\u0447\\u0435\\u0433\\u043e \\u00ab\\u043e\\u0433\\u043e\\u043d\\u044c \\u0432\\u0435\\u0442\\u0440\\u043e\\u043c \\u043e\\u043f\\u0440\\u043e\\u043a\\u0438\\u043d\\u0443\\u043b\\u0441\\u044f \\u0434\\u0430\\u043b\\u044c\\u0448\\u0435\\u00bb.\\n\\n\\u0412\\u0441\\u0451 \\u044d\\u0442\\u043e \\u0432\\u0440\\u0435\\u043c\\u044f \\u0441 \\u043e\\u0433\\u043d\\u0451\\u043c \\u0431\\u043e\\u0440\\u043e\\u043b\\u0438\\u0441\\u044c \\u0443\\u0441\\u0438\\u043b\\u0435\\u043d\\u043d\\u044b\\u0435 \\u043d\\u0430\\u0440\\u044f\\u0434\\u044b \\u043f\\u043e\\u0436\\u0430\\u0440\\u043d\\u044b\\u0445. \\u041f\\u043e \\u0441\\u043b\\u043e\\u0432\\u0430\\u043c \\u042f\\u0440\\u043e\\u0441\\u043b\\u0430\\u0432\\u0430, \\u0437\\u0430\\u043c\\u0435\\u0442\\u043d\\u044b\\u0439 \\u0432\\u043a\\u043b\\u0430\\u0434 \\u0432 \\u043f\\u0440\\u0435\\u0434\\u043e\\u0442\\u0432\\u0440\\u0430\\u0449\\u0435\\u043d\\u0438\\u044f \\u0431\\u0435\\u0434\\u0441\\u0442\\u0432\\u0438\\u044f \\u0432\\u043d\\u0435\\u0441\\u043b\\u0438 \\u043f\\u0440\\u043e\\u0448\\u0435\\u0434\\u0448\\u0438\\u0435 \\u0434\\u043e\\u0436\\u0434\\u0438 \\u0438 \\u0434\\u0430\\u0436\\u0435 \\u0441\\u043d\\u0435\\u0433. \\u0421\\u0435\\u0439\\u0447\\u0430\\u0441 \\u0443\\u0433\\u0440\\u043e\\u0437\\u0430 \\u043c\\u0438\\u043d\\u043e\\u0432\\u0430\\u043b\\u0430.\\n\",\n          \"\\u041f\\u043e\\u0434\\u043e\\u0437\\u0440\\u0435\\u0432\\u0430\\u0435\\u043c\\u044b\\u0439 \\u0432 \\u043f\\u043e\\u0434\\u0433\\u043e\\u0442\\u043e\\u0432\\u043a\\u0435 \\u0432\\u0437\\u0440\\u044b\\u0432\\u043e\\u0432 \\u0432 \\u041d\\u044c\\u044e-\\u0419\\u043e\\u0440\\u043a\\u0435 \\u043a\\u0443\\u043f\\u0438\\u043b \\u0434\\u0435\\u0442\\u0430\\u043b\\u0438 \\u0434\\u043b\\u044f \\u0431\\u043e\\u043c\\u0431\\u044b \\u043f\\u043e \\u0418\\u043d\\u0442\\u0435\\u0440\\u043d\\u0435\\u0442\\u0443\\n\\u0411\\u043e\\u043c\\u0431\\u0430 \\n\\u041f\\u043e \\u0434\\u0430\\u043d\\u043d\\u044b\\u043c \\u0441\\u043b\\u0435\\u0434\\u0441\\u0442\\u0432\\u0438\\u044f \\u0410\\u0445\\u043c\\u0430\\u0434 \\u0420\\u0430\\u0445\\u0430\\u043c\\u0438, \\u043f\\u043e\\u0434\\u043e\\u0437\\u0440\\u0435\\u0432\\u0430\\u0435\\u043c\\u044b\\u0439 \\u0432 \\u043f\\u043e\\u0434\\u0433\\u043e\\u0442\\u043e\\u0432\\u043a\\u0435 \\u0432\\u0437\\u0440\\u044b\\u0432\\u043e\\u0432, \\u043f\\u0440\\u043e\\u0433\\u0440\\u0435\\u043c\\u0435\\u0432\\u0448\\u0438\\u0445 \\u0432 \\u043c\\u0438\\u043d\\u0443\\u0432\\u0448\\u0443\\u044e \\u0441\\u0443\\u0431\\u0431\\u043e\\u0442\\u0443, 17 \\u0441\\u0435\\u043d\\u0442\\u044f\\u0431\\u0440\\u044f 2016 \\u0433\\u043e\\u0434\\u0430, \\u0432 \\u041d\\u044c\\u044e-\\u0419\\u043e\\u0440\\u043a\\u0435 \\u0438 \\u041d\\u044c\\u044e-\\u0414\\u0436\\u0435\\u0440\\u0441\\u0438, \\u043f\\u0440\\u0438\\u043e\\u0431\\u0440\\u0435\\u043b \\u043d\\u0435\\u043e\\u0431\\u0445\\u043e\\u0434\\u0438\\u043c\\u044b\\u0435 \\u0435\\u043c\\u0443 \\u0434\\u043b\\u044f \\u0442\\u0435\\u0440\\u0430\\u043a\\u0442\\u0430 \\u043a\\u043e\\u043c\\u043f\\u043e\\u043d\\u0435\\u043d\\u0442\\u044b \\u043d\\u0430 eBay, \\u0430 \\u0432 \\u043a\\u0430\\u0447\\u0435\\u0441\\u0442\\u0432\\u0435 \\u0434\\u0435\\u0442\\u043e\\u043d\\u0430\\u0442\\u043e\\u0440\\u0430 \\u0438\\u0441\\u043f\\u043e\\u043b\\u044c\\u0437\\u043e\\u0432\\u0430\\u043b \\u0441\\u043e\\u0442\\u043e\\u0432\\u044b\\u0435 \\u0442\\u0435\\u043b\\u0435\\u0444\\u043e\\u043d\\u044b, \\u043a\\u0443\\u043f\\u043b\\u0435\\u043d\\u043d\\u044b\\u0435 \\u0432 \\u043c\\u0430\\u0433\\u0430\\u0437\\u0438\\u043d\\u0435, \\u0440\\u0430\\u0441\\u043f\\u043e\\u043b\\u043e\\u0436\\u0435\\u043d\\u043d\\u043e\\u043c \\u0432 500 \\u043c\\u0435\\u0442\\u0440\\u0430\\u0445 \\u043e\\u0442 \\u0430\\u0434\\u0440\\u0435\\u0441\\u0430, \\u0440\\u0430\\u043d\\u0435\\u0435 \\u0443\\u043a\\u0430\\u0437\\u0430\\u043d\\u043d\\u043e\\u0433\\u043e \\u0438\\u043c \\u043a\\u0430\\u043a \\u043c\\u0435\\u0441\\u0442\\u043e \\u043f\\u0440\\u043e\\u0436\\u0438\\u0432\\u0430\\u043d\\u0438\\u044f.\\n\\n\\u0412 \\u043e\\u0431\\u043d\\u0430\\u0440\\u043e\\u0434\\u043e\\u0432\\u0430\\u043d\\u043d\\u043e\\u043c \\u0432\\u043e \\u0432\\u0442\\u043e\\u0440\\u043d\\u0438\\u043a \\u0437\\u0430\\u044f\\u0432\\u043b\\u0435\\u043d\\u0438\\u0438 \\u043e \\u0432\\u043e\\u0437\\u0431\\u0443\\u0436\\u0434\\u0435\\u043d\\u0438\\u0438 \\u0443\\u0433\\u043e\\u043b\\u043e\\u0432\\u043d\\u043e\\u0433\\u043e \\u0434\\u0435\\u043b\\u0430 \\u0438\\u0437\\u043b\\u0430\\u0433\\u0430\\u044e\\u0442\\u0441\\u044f \\u043c\\u043d\\u043e\\u0433\\u043e\\u0447\\u0438\\u0441\\u043b\\u0435\\u043d\\u043d\\u044b\\u0435 \\u043e\\u0431\\u0432\\u0438\\u043d\\u0435\\u043d\\u0438\\u044f \\u043f\\u0440\\u043e\\u0442\\u0438\\u0432 28-\\u043b\\u0435\\u0442\\u043d\\u0435\\u0433\\u043e \\u0410\\u0445\\u043c\\u0430\\u0434\\u0430 \\u0420\\u0430\\u0445\\u0430\\u043c\\u0438. \\u041c\\u0430\\u043a\\u0441\\u0438\\u043c\\u0430\\u043b\\u044c\\u043d\\u044b\\u043c \\u043d\\u0430\\u043a\\u0430\\u0437\\u0430\\u043d\\u0438\\u0435\\u043c \\u043f\\u043e \\u0431\\u043e\\u043b\\u044c\\u0448\\u0438\\u043d\\u0441\\u0442\\u0432\\u0443 \\u0438\\u0437 \\u043d\\u0438\\u0445 \\u044f\\u0432\\u043b\\u044f\\u0435\\u0442\\u0441\\u044f \\u043f\\u043e\\u0436\\u0438\\u0437\\u043d\\u0435\\u043d\\u043d\\u043e\\u0435 \\u0437\\u0430\\u043a\\u043b\\u044e\\u0447\\u0435\\u043d\\u0438\\u0435.\\n\\n\\u0420\\u0430\\u0445\\u0430\\u043c\\u0438 \\u0431\\u044b\\u043b \\u0430\\u0440\\u0435\\u0441\\u0442\\u043e\\u0432\\u0430\\u043d \\u0432 \\u043f\\u043e\\u043d\\u0435\\u0434\\u0435\\u043b\\u044c\\u043d\\u0438\\u043a \\u043f\\u043e\\u0441\\u043b\\u0435 \\u043f\\u0435\\u0440\\u0435\\u0441\\u0442\\u0440\\u0435\\u043b\\u043a\\u0438 \\u0441 \\u043f\\u043e\\u043b\\u0438\\u0446\\u0438\\u0435\\u0439, \\u0432 \\u0445\\u043e\\u0434\\u0435 \\u043a\\u043e\\u0442\\u043e\\u0440\\u043e\\u0439 \\u043e\\u043d \\u0438 \\u0434\\u0432\\u043e\\u0435 \\u043f\\u043e\\u043b\\u0438\\u0446\\u0435\\u0439\\u0441\\u043a\\u0438\\u0445 \\u043f\\u043e\\u043b\\u0443\\u0447\\u0438\\u043b\\u0438 \\u0440\\u0430\\u043d\\u0435\\u043d\\u0438\\u044f.\\n\\n\\u0421\\u043e\\u0433\\u043b\\u0430\\u0441\\u043d\\u043e \\u0434\\u043e\\u043a\\u0443\\u043c\\u0435\\u043d\\u0442\\u0430\\u043c \\u0434\\u0435\\u043b\\u0430, \\u0441\\u043b\\u0435\\u0434\\u0441\\u0442\\u0432\\u0438\\u0435 \\u043f\\u043e\\u043b\\u0430\\u0433\\u0430\\u0435\\u0442, \\u0447\\u0442\\u043e \\u0420\\u0430\\u0445\\u0430\\u043c\\u0438, \\u0438\\u0441\\u043f\\u043e\\u043b\\u044c\\u0437\\u0443\\u044f \\u043d\\u0430 eBay \\u0430\\u043a\\u043a\\u0430\\u0443\\u043d\\u0442 \\u00abAhmad Rahami\\u00bb, \\u0432 \\u043f\\u0435\\u0440\\u0438\\u043e\\u0434 \\u043c\\u0435\\u0436\\u0434\\u0443 20 \\u0438\\u044e\\u043d\\u044f \\u0438 10 \\u0430\\u0432\\u0433\\u0443\\u0441\\u0442\\u0430 \\u043f\\u0440\\u0438\\u043e\\u0431\\u0440\\u0435\\u043b \\u043b\\u0438\\u043c\\u043e\\u043d\\u043d\\u0443\\u044e \\u043a\\u0438\\u0441\\u043b\\u043e\\u0442\\u0443, \\u0441\\u0445\\u0435\\u043c\\u043d\\u0443\\u044e \\u043f\\u043b\\u0430\\u0442\\u0443, \\u044d\\u043b\\u0435\\u043a\\u0442\\u0440\\u0438\\u0447\\u0435\\u0441\\u043a\\u0438\\u0435 \\u0432\\u043e\\u0441\\u043f\\u043b\\u0430\\u043c\\u0435\\u043d\\u0438\\u0442\\u0435\\u043b\\u0438 \\u0438 \\u0441\\u043e\\u0442\\u043d\\u0438 \\u0448\\u0430\\u0440\\u0438\\u043a\\u043e\\u043f\\u043e\\u0434\\u0448\\u0438\\u043f\\u043d\\u0438\\u043a\\u043e\\u0432. \\u0412\\u0441\\u0435 \\u043a\\u0443\\u043f\\u043b\\u0435\\u043d\\u043d\\u044b\\u0435 \\u0438\\u043c \\u0432\\u0435\\u0449\\u0438 \\u0431\\u044b\\u043b\\u0438 \\u0434\\u043e\\u0441\\u0442\\u0430\\u0432\\u043b\\u0435\\u043d\\u044b \\u0432 \\u0433\\u043e\\u0440\\u043e\\u0434 \\u041f\\u0435\\u0440\\u0442 \\u0410\\u043c\\u0431\\u043e\\u0439, \\u0433\\u0434\\u0435 \\u0420\\u0430\\u0445\\u0430\\u043c\\u0438 \\u0440\\u0430\\u0431\\u043e\\u0442\\u0430\\u043b \\u0432\\u043f\\u043b\\u043e\\u0442\\u044c \\u0434\\u043e 12 \\u0441\\u0435\\u043d\\u0442\\u044f\\u0431\\u0440\\u044f.\\n\\n\\u0428\\u0430\\u0440\\u0438\\u043a\\u043e\\u0432\\u044b\\u0435 \\u043f\\u043e\\u0434\\u0448\\u0438\\u043f\\u043d\\u0438\\u043a\\u0438 \\u0431\\u044b\\u043b\\u0438 \\u043d\\u0430\\u0439\\u0434\\u0435\\u043d\\u044b \\u0432 \\u0434\\u0432\\u0443\\u0445 \\u0432\\u0437\\u0440\\u044b\\u0432\\u043d\\u044b\\u0445 \\u0443\\u0441\\u0442\\u0440\\u043e\\u0439\\u0441\\u0442\\u0432\\u0430\\u0445, \\u0438\\u0437\\u0433\\u043e\\u0442\\u043e\\u0432\\u043b\\u0435\\u043d\\u043d\\u044b\\u0445 \\u0438\\u0437 \\u0441\\u043a\\u043e\\u0440\\u043e\\u0432\\u0430\\u0440\\u043e\\u043a, \\u043a\\u043e\\u0442\\u043e\\u0440\\u044b\\u0435 \\u0431\\u044b\\u043b\\u0438 \\u0437\\u0430\\u043b\\u043e\\u0436\\u0435\\u043d\\u044b \\u0432 \\u0441\\u0443\\u0431\\u0431\\u043e\\u0442\\u0443 \\u0432 \\u0447\\u0435\\u0442\\u044b\\u0440\\u0451\\u0445 \\u043a\\u0432\\u0430\\u0440\\u0442\\u0430\\u043b\\u0430\\u0445 \\u0434\\u0440\\u0443\\u0433 \\u043e\\u0442 \\u0434\\u0440\\u0443\\u0433\\u0430 \\u0432 \\u043d\\u044c\\u044e-\\u0439\\u043e\\u0440\\u043a\\u0441\\u043a\\u043e\\u043c \\u0440\\u0430\\u0439\\u043e\\u043d\\u0435 \\u0427\\u0435\\u043b\\u0441\\u0438. \\u041e\\u0434\\u043d\\u0430 \\u0438\\u0437 \\u0441\\u0430\\u043c\\u043e\\u0434\\u0435\\u043b\\u044c\\u043d\\u044b\\u0445 \\u0431\\u043e\\u043c\\u0431 \\u0432\\u0437\\u043e\\u0440\\u0432\\u0430\\u043b\\u0430\\u0441\\u044c, \\u0440\\u0430\\u043d\\u0438\\u0432 29 \\u0447\\u0435\\u043b\\u043e\\u0432\\u0435\\u043a, \\u0434\\u0440\\u0443\\u0433\\u0430\\u044f \\u043d\\u0435 \\u0441\\u0440\\u0430\\u0431\\u043e\\u0442\\u0430\\u043b\\u0430. \\u041f\\u043e \\u0441\\u043b\\u043e\\u0432\\u0430\\u043c \\u0441\\u043b\\u0435\\u0434\\u043e\\u0432\\u0430\\u0442\\u0435\\u043b\\u0435\\u0439, \\u0432\\u0442\\u043e\\u0440\\u0430\\u044f \\u0431\\u043e\\u043c\\u0431\\u0430 \\u0441\\u043e\\u0441\\u0442\\u043e\\u044f\\u043b\\u0430 \\u0438\\u0437 \\u043c\\u043d\\u043e\\u0433\\u043e\\u0447\\u0438\\u0441\\u043b\\u0435\\u043d\\u043d\\u044b\\u0445 \\u044d\\u043b\\u0435\\u043a\\u0442\\u0440\\u0438\\u0447\\u0435\\u0441\\u043a\\u0438\\u0445 \\u0432\\u043e\\u0441\\u043f\\u043b\\u0430\\u043c\\u0435\\u043d\\u0438\\u0442\\u0435\\u043b\\u0435\\u0439.\\n\\n\\u041d\\u0435\\u0432\\u0437\\u043e\\u0440\\u0432\\u0430\\u0432\\u0448\\u0435\\u0435\\u0441\\u044f \\u0443\\u0441\\u0442\\u0440\\u043e\\u0439\\u0441\\u0442\\u0432\\u043e \\u0431\\u044b\\u043b\\u043e \\u043f\\u0440\\u043e\\u0442\\u0435\\u0441\\u0442\\u0438\\u0440\\u043e\\u0432\\u0430\\u043d\\u043e \\u043d\\u0430 \\u043e\\u0442\\u043f\\u0435\\u0447\\u0430\\u0442\\u043a\\u0438 \\u043f\\u0430\\u043b\\u044c\\u0446\\u0435\\u0432, \\u0432 \\u0440\\u0435\\u0437\\u0443\\u043b\\u044c\\u0442\\u0430\\u0442\\u0435 \\u0447\\u0435\\u0433\\u043e, \\u0441\\u043e\\u0433\\u043b\\u0430\\u0441\\u043d\\u043e \\u043c\\u0430\\u0442\\u0435\\u0440\\u0438\\u0430\\u043b\\u0430\\u043c \\u0441\\u043b\\u0435\\u0434\\u0441\\u0442\\u0432\\u0438\\u044f, \\u0431\\u044b\\u043b\\u043e \\u043d\\u0430\\u0439\\u0434\\u0435\\u043d\\u043e 12 \\u043e\\u0442\\u043f\\u0435\\u0447\\u0430\\u0442\\u043a\\u043e\\u0432 \\u043f\\u0430\\u043b\\u044c\\u0446\\u0435\\u0432 \\u0420\\u0430\\u0445\\u0430\\u043c\\u0438. \\u041e\\u0442\\u043f\\u0435\\u0447\\u0430\\u0442\\u043a\\u0438 \\u043f\\u0430\\u043b\\u044c\\u0446\\u0435\\u0432 \\u043f\\u043e\\u0434\\u043e\\u0437\\u0440\\u0435\\u0432\\u0430\\u0435\\u043c\\u043e\\u0433\\u043e \\u0431\\u044b\\u043b\\u0438 \\u0442\\u0430\\u043a\\u0436\\u0435 \\u043e\\u0431\\u043d\\u0430\\u0440\\u0443\\u0436\\u0435\\u043d\\u044b \\u043d\\u0430 \\u043f\\u0440\\u0435\\u0434\\u043c\\u0435\\u0442\\u0430\\u0445 \\u0432\\u043d\\u0443\\u0442\\u0440\\u0438 \\u0440\\u044e\\u043a\\u0437\\u0430\\u043a\\u0430, \\u043a\\u043e\\u0442\\u043e\\u0440\\u044b\\u0439 \\u0431\\u044b\\u043b \\u043d\\u0430\\u0439\\u0434\\u0435\\u043d \\u0432 \\u0432\\u043e\\u0441\\u043a\\u0440\\u0435\\u0441\\u0435\\u043d\\u044c\\u0435 \\u0432\\u0435\\u0447\\u0435\\u0440\\u043e\\u043c \\u043d\\u0430 \\u0432\\u043e\\u043a\\u0437\\u0430\\u043b\\u0435 \\u0432 \\u0433\\u043e\\u0440\\u043e\\u0434\\u0435 \\u042d\\u043b\\u0438\\u0437\\u0430\\u0431\\u0435\\u0442, \\u0448\\u0442\\u0430\\u0442 \\u041d\\u044c\\u044e-\\u0414\\u0436\\u0435\\u0440\\u0441\\u0438, \\u043d\\u0435\\u0434\\u0430\\u043b\\u0435\\u043a\\u043e \\u043e\\u0442 \\u041d\\u044c\\u044e-\\u0419\\u043e\\u0440\\u043a\\u0430. \\u0412 \\u0440\\u044e\\u043a\\u0437\\u0430\\u043a\\u0435 \\u0431\\u044b\\u043b\\u043e \\u043d\\u0435\\u0441\\u043a\\u043e\\u043b\\u044c\\u043a\\u043e \\u0432\\u0437\\u0440\\u044b\\u0432\\u043d\\u044b\\u0445 \\u0443\\u0441\\u0442\\u0440\\u043e\\u0439\\u0441\\u0442\\u0432, \\u043e\\u0434\\u043d\\u043e \\u0438\\u0437 \\u043a\\u043e\\u0442\\u043e\\u0440\\u044b\\u0445 \\u0432\\u0437\\u043e\\u0440\\u0432\\u0430\\u043b\\u043e\\u0441\\u044c, \\u043a\\u043e\\u0433\\u0434\\u0430 \\u043f\\u043e\\u043b\\u0438\\u0446\\u0438\\u044f \\u043f\\u044b\\u0442\\u0430\\u043b\\u0430\\u0441\\u044c \\u043e\\u0431\\u0435\\u0437\\u0432\\u0440\\u0435\\u0434\\u0438\\u0442\\u044c \\u0435\\u0433\\u043e \\u043f\\u0440\\u0438 \\u043f\\u043e\\u043c\\u043e\\u0449\\u0438 \\u0441\\u043f\\u0435\\u0446\\u0438\\u0430\\u043b\\u044c\\u043d\\u043e\\u0433\\u043e \\u0440\\u043e\\u0431\\u043e\\u0442\\u0430.\\n\\n\\u0412\\u043b\\u0430\\u0441\\u0442\\u0438 \\u0442\\u0430\\u043a\\u0436\\u0435 \\u0441\\u0432\\u044f\\u0437\\u044b\\u0432\\u0430\\u044e\\u0442 \\u0420\\u0430\\u0445\\u0430\\u043c\\u0438 \\u0441\\u043e \\u0432\\u0437\\u0440\\u044b\\u0432\\u043e\\u043c \\u0431\\u043e\\u043c\\u0431\\u044b \\u0432 \\u043c\\u0443\\u0441\\u043e\\u0440\\u043d\\u043e\\u0439 \\u043a\\u043e\\u0440\\u0437\\u0438\\u043d\\u0435, \\u043f\\u0440\\u043e\\u0438\\u0437\\u043e\\u0448\\u0435\\u0434\\u0448\\u0435\\u043c \\u0432 \\u0433\\u043e\\u0440\\u043e\\u0434\\u0435 \\u0421\\u0438\\u0441\\u0430\\u0439\\u0434 \\u041f\\u0430\\u0440\\u043a, \\u0448\\u0442\\u0430\\u0442 \\u041d\\u044c\\u044e-\\u0414\\u0436\\u0435\\u0440\\u0441\\u0438 \\u0432 \\u0441\\u0443\\u0431\\u0431\\u043e\\u0442\\u0443 \\u0443\\u0442\\u0440\\u043e\\u043c.\\n\",\n          \"\\u0421\\u0442\\u0443\\u0434\\u0435\\u043d\\u0442 \\u0420\\u0413\\u0423 \\u0438\\u043c \\u041a\\u043e\\u0441\\u044b\\u0433\\u0438\\u043d\\u0430 \\u043f\\u0440\\u0438\\u0437\\u043d\\u0430\\u043b, \\u0447\\u0442\\u043e \\u043a\\u0438\\u043d\\u0443\\u043b \\u0434\\u0432\\u0435 \\u043f\\u0443\\u0441\\u0442\\u044b\\u0435 \\u043f\\u043b\\u0430\\u0441\\u0442\\u0438\\u043a\\u043e\\u0432\\u044b\\u0435 \\u0431\\u0443\\u0442\\u044b\\u043b\\u043a\\u0438 \\u0432 \\u0441\\u043e\\u0442\\u0440\\u0443\\u0434\\u043d\\u0438\\u043a\\u043e\\u0432 \\u043f\\u0440\\u0430\\u0432\\u043e\\u043f\\u043e\\u0440\\u044f\\u0434\\u043a\\u0430\\n\\u0412\\u0430\\u043b\\u0435\\u0440\\u0438\\u0439 \\u041a\\u043e\\u0441\\u0442\\u0435\\u043d\\u043e\\u043a\\n\\u0421\\u0442\\u0443\\u0434\\u0435\\u043d\\u0442 \\u0420\\u0413\\u0423 \\u0438\\u043c \\u041a\\u043e\\u0441\\u044b\\u0433\\u0438\\u043d\\u0430 20-\\u043b\\u0435\\u0442\\u043d\\u0438\\u0439 \\u0432\\u043e\\u043b\\u043e\\u043d\\u0442\\u0451\\u0440 \\u0448\\u0442\\u0430\\u0431\\u0430 \\u043d\\u0435\\u0437\\u0430\\u0440\\u0435\\u0433\\u0438\\u0441\\u0442\\u0440\\u0438\\u0440\\u043e\\u0432\\u0430\\u043d\\u043d\\u043e\\u0433\\u043e \\u043a\\u0430\\u043d\\u0434\\u0438\\u0434\\u0430\\u0442\\u0430 \\u0432 \\u0434\\u0435\\u043f\\u0443\\u0442\\u0430\\u0442\\u044b \\u041c\\u0413\\u0414 7-\\u0433\\u043e \\u0441\\u043e\\u0437\\u044b\\u0432\\u0430 \\u041a\\u0438\\u0440\\u0438\\u043b\\u043b\\u0430 \\u0413\\u043e\\u043d\\u0447\\u0430\\u0440\\u043e\\u0432\\u0430 \\u0412\\u0430\\u043b\\u0435\\u0440\\u0438\\u0439 \\u041a\\u043e\\u0441\\u0442\\u0435\\u043d\\u043e\\u043a \\u043e\\u0442\\u043f\\u0440\\u0430\\u0432\\u043b\\u0435\\u043d 12 \\u0430\\u0432\\u0433\\u0443\\u0441\\u0442\\u0430 \\u0411\\u0430\\u0441\\u043c\\u0430\\u043d\\u043d\\u044b\\u043c \\u0441\\u0443\\u0434\\u043e\\u043c \\u0432 \\u0421\\u0418\\u0417\\u041e \\u043d\\u0430 2 \\u043c\\u0435\\u0441\\u044f\\u0446\\u0430. \\u0420\\u0430\\u043d\\u0435\\u0435 \\u0441\\u0442\\u0430\\u043b\\u043e \\u0438\\u0437\\u0432\\u0435\\u0441\\u0442\\u043d\\u043e, \\u0447\\u0442\\u043e 11 \\u0430\\u0432\\u0433\\u0443\\u0441\\u0442\\u0430 \\u0432 \\u043a\\u0432\\u0430\\u0440\\u0442\\u0438\\u0440\\u0435 \\u0430\\u043a\\u0442\\u0438\\u0432\\u0438\\u0441\\u0442\\u0430 \\u043d\\u0430 \\u0412\\u0430\\u0440\\u0448\\u0430\\u0432\\u0441\\u043a\\u043e\\u043c \\u0448\\u043e\\u0441\\u0441\\u0435 \\u043f\\u0440\\u043e\\u0448\\u0451\\u043b \\u043e\\u0431\\u044b\\u0441\\u043a.\\n\\n\\u041d\\u0430 \\u0434\\u043e\\u043f\\u0440\\u043e\\u0441\\u0435 \\u041a\\u043e\\u0441\\u0442\\u0435\\u043d\\u043e\\u043a \\u043f\\u0440\\u0438\\u0437\\u043d\\u0430\\u043b, \\u0447\\u0442\\u043e 27 \\u0438\\u044e\\u043b\\u044f \\u043d\\u0430 \\u0443\\u043b\\u0438\\u0446\\u0435 \\u0420\\u043e\\u0436\\u0434\\u0435\\u0441\\u0442\\u0432\\u0435\\u043d\\u043a\\u0430 \\u043f\\u043e\\u0434\\u043e\\u0431\\u0440\\u0430\\u043b \\u043f\\u043b\\u0430\\u0441\\u0442\\u0438\\u043a\\u043e\\u0432\\u0443\\u044e \\u0431\\u0443\\u0442\\u044b\\u043b\\u043a\\u0443 \\u0438\\u0437 \\u043c\\u0443\\u0441\\u043e\\u0440\\u043d\\u043e\\u0433\\u043e \\u0431\\u0430\\u043a\\u0430, \\u043a\\u043e\\u0442\\u043e\\u0440\\u044b\\u0439 \\u0431\\u0440\\u043e\\u0441\\u0438\\u043b \\u0415\\u0432\\u0433\\u0435\\u043d\\u0438\\u0439 \\u041a\\u043e\\u0432\\u0430\\u043b\\u0435\\u043d\\u043a\\u043e \\u0432 \\u0431\\u043e\\u0439\\u0446\\u0430 \\u041d\\u0430\\u0446\\u0433\\u0432\\u0430\\u0440\\u0434\\u0438\\u0438, \\u0438 \\u0431\\u0440\\u043e\\u0441\\u0438\\u043b \\u0435\\u0451 \\u0432 \\u043f\\u043e\\u043b\\u0438\\u0446\\u0435\\u0439\\u0441\\u043a\\u043e\\u0433\\u043e \\u00ab\\u0431\\u0435\\u0437 \\u0446\\u0435\\u043b\\u0438 \\u043f\\u0440\\u0438\\u0447\\u0438\\u043d\\u0438\\u0442\\u044c \\u0432\\u0440\\u0435\\u0434 \\u0437\\u0434\\u043e\\u0440\\u043e\\u0432\\u044c\\u044e \\u043f\\u0440\\u0435\\u0434\\u0441\\u0442\\u0430\\u0432\\u0438\\u0442\\u0435\\u043b\\u044f \\u0432\\u043b\\u0430\\u0441\\u0442\\u0438\\u00bb; \\u043f\\u043e\\u0442\\u043e\\u043c \\u0431\\u0440\\u043e\\u0441\\u0438\\u043b \\u0434\\u0440\\u0443\\u0433\\u0443\\u044e \\u043f\\u043b\\u0430\\u0441\\u0442\\u0438\\u043a\\u043e\\u0432\\u0443\\u044e \\u0431\\u0443\\u0442\\u044b\\u043b\\u043a\\u0443 \\u0432 \\u0435\\u0449\\u0451 \\u043e\\u0434\\u043d\\u043e\\u0433\\u043e \\u043f\\u043e\\u043b\\u0438\\u0446\\u0435\\u0439\\u0441\\u043a\\u043e\\u0433\\u043e. \\u041e\\u0434\\u043d\\u0430 \\u0438\\u0437 \\u043d\\u0438\\u0445 \\u043f\\u043e\\u043f\\u0430\\u043b\\u0430 \\u0432 \\u043a\\u0430\\u0441\\u043a\\u0443. \\u00ab\\u0414\\u0443\\u043c\\u0430\\u044e, \\u0447\\u0442\\u043e \\u043e\\u0442 \\u043c\\u043e\\u0438\\u0445 \\u0434\\u0435\\u0439\\u0441\\u0442\\u0432\\u0438\\u0439 \\u0438\\u0441\\u043f\\u044b\\u0442\\u0430\\u0442\\u044c \\u0431\\u043e\\u043b\\u044c \\u0441\\u043e\\u0442\\u0440\\u0443\\u0434\\u043d\\u0438\\u043a\\u0438 \\u043f\\u043e\\u043b\\u0438\\u0446\\u0438\\u0438 \\u043d\\u0435 \\u043c\\u043e\\u0433\\u043b\\u0438. \\u041c\\u043e\\u0438 \\u0434\\u0435\\u0439\\u0441\\u0442\\u0432\\u0438\\u044f \\u0431\\u044b\\u043b\\u0438 \\u0432\\u044b\\u0437\\u0432\\u0430\\u043d\\u044b \\u044d\\u043c\\u043e\\u0446\\u0438\\u043e\\u043d\\u0430\\u043b\\u044c\\u043d\\u044b\\u043c \\u0438 \\u043d\\u0435\\u043e\\u043f\\u0440\\u0430\\u0432\\u0434\\u0430\\u043d\\u043d\\u044b\\u043c \\u043f\\u043e\\u0432\\u0435\\u0434\\u0435\\u043d\\u0438\\u0435\\u043c \\u0441 \\u043c\\u043e\\u0435\\u0439 \\u0441\\u0442\\u043e\\u0440\\u043e\\u043d\\u044b. \\u0412 \\u0447\\u0435\\u043c \\u044f \\u0440\\u0430\\u0441\\u043a\\u0430\\u0438\\u0432\\u0430\\u044e\\u0441\\u044c \\u0438 \\u043f\\u0440\\u0438\\u043d\\u043e\\u0448\\u0443 \\u0438\\u0437\\u0432\\u0438\\u043d\\u0435\\u043d\\u0438\\u044f\\u00bb, \\u2014 \\u0433\\u043e\\u0432\\u043e\\u0440\\u0438\\u043b \\u043e\\u043d \\u043d\\u0430 \\u0434\\u043e\\u043f\\u0440\\u043e\\u0441\\u0435.\\n\\n\\u041d\\u0435\\u0441\\u043c\\u043e\\u0442\\u0440\\u044f \\u043d\\u0430 \\u0442\\u043e, \\u0447\\u0442\\u043e \\u043f\\u0440\\u0435\\u0434\\u0441\\u0442\\u0430\\u0432\\u0438\\u0442\\u0435\\u043b\\u044c \\u043e\\u0431\\u0432\\u0438\\u043d\\u0435\\u043d\\u0438\\u044f \\u0442\\u0440\\u0435\\u0431\\u043e\\u0432\\u0430\\u043b \\u043c\\u0435\\u0440\\u0443 \\u043f\\u0440\\u0435\\u0441\\u0435\\u0447\\u0435\\u043d\\u0438\\u044f \\u0432 \\u0432\\u0438\\u0434\\u0435 \\u0434\\u043e\\u043c\\u0430\\u0448\\u043d\\u0435\\u0433\\u043e \\u0430\\u0440\\u0435\\u0441\\u0442\\u0430 (\\u0442\\u043e\\u0433\\u043e \\u0436\\u0435 \\u0442\\u0440\\u0435\\u0431\\u043e\\u0432\\u0430\\u043b \\u0438 \\u0430\\u0434\\u0432\\u043e\\u043a\\u0430\\u0442 \\u043e\\u0431\\u0432\\u0438\\u043d\\u044f\\u0435\\u043c\\u043e\\u0433\\u043e \\u0438 \\u0441\\u0430\\u043c \\u0430\\u043a\\u0442\\u0438\\u0432\\u0438\\u0441\\u0442) \\u0441\\u0443\\u0434\\u044c\\u044f \\u043f\\u0440\\u0438\\u043d\\u044f\\u043b\\u0430 \\u0440\\u0435\\u0448\\u0435\\u043d\\u0438\\u0435 \\u043e\\u0431 \\u0430\\u0440\\u0435\\u0441\\u0442\\u0435 \\u0447\\u043b\\u0435\\u043d\\u0430 \\u043f\\u0430\\u0440\\u0442\\u0438\\u0438 \\u00ab\\u042f\\u0431\\u043b\\u043e\\u043a\\u043e\\u00bb \\u0434\\u043e 11 \\u043e\\u043a\\u0442\\u044f\\u0431\\u0440\\u044f.\\n\\n\\u041d\\u0430\\u043f\\u043e\\u043c\\u043d\\u0438\\u043c, \\u0447\\u0442\\u043e \\u0432 \\u0438\\u044e\\u043b\\u0435 \\u0438 \\u0430\\u0432\\u0433\\u0443\\u0441\\u0442\\u0435 2019 \\u0433\\u043e\\u0434\\u0430 \\u043f\\u043e \\u0441\\u0443\\u0431\\u0431\\u043e\\u0442\\u0430\\u043c \\u0432 \\u0446\\u0435\\u043d\\u0442\\u0440\\u0435 \\u0441\\u0442\\u043e\\u043b\\u0438\\u0446\\u044b \\u043f\\u0440\\u043e\\u0445\\u043e\\u0434\\u0438\\u043b\\u0438 \\u0441\\u043e\\u0433\\u043b\\u0430\\u0441\\u043e\\u0432\\u0430\\u043d\\u043d\\u044b\\u0435 \\u0438 \\u043d\\u0435\\u0441\\u043e\\u0433\\u043b\\u0430\\u0441\\u043e\\u0432\\u0430\\u043d\\u043d\\u044b\\u0435 \\u0430\\u043a\\u0446\\u0438\\u0438 \\u043f\\u0440\\u043e\\u0442\\u0435\\u0441\\u0442\\u0430 \\u0432 \\u0441\\u0432\\u044f\\u0437\\u0438 \\u0441 \\u043d\\u0435\\u0434\\u043e\\u043f\\u0443\\u0441\\u043a\\u043e\\u043c \\u043d\\u0435\\u0437\\u0430\\u0432\\u0438\\u0441\\u0438\\u043c\\u044b\\u0445 \\u043a\\u0430\\u043d\\u0434\\u0438\\u0434\\u0430\\u0442\\u043e\\u0432 \\u043d\\u0430 \\u0432\\u044b\\u0431\\u043e\\u0440\\u044b \\u041c\\u043e\\u0441\\u043a\\u043e\\u0432\\u0441\\u043a\\u043e\\u0439 \\u0433\\u043e\\u0440\\u043e\\u0434\\u0441\\u043a\\u043e\\u0439 \\u0434\\u0443\\u043c\\u044b \\u0441\\u0435\\u0434\\u044c\\u043c\\u043e\\u0433\\u043e \\u0441\\u043e\\u0437\\u044b\\u0432\\u0430. \\u041f\\u043e \\u0438\\u0442\\u043e\\u0433\\u0430\\u043c \\u0441\\u043e\\u0431\\u044b\\u0442\\u0438\\u0439 27 \\u0438\\u044e\\u043b\\u044f \\u0441\\u043b\\u0435\\u0434\\u0441\\u0442\\u0432\\u0435\\u043d\\u043d\\u044b\\u0439 \\u043a\\u043e\\u043c\\u0438\\u0442\\u0435\\u0442 \\u0432\\u043e\\u0437\\u0431\\u0443\\u0434\\u0438\\u043b \\u0434\\u0435\\u043b\\u0430 \\u043f\\u043e \\u0441\\u0442. 318 \\u0438 212 \\u0423\\u041a \\u0420\\u0424. \\u041a\\u043e\\u0441\\u0442\\u0435\\u043d\\u043e\\u043a \\u0441\\u0442\\u0430\\u043b 14-\\u043c \\u043e\\u0431\\u0432\\u0438\\u043d\\u044f\\u0435\\u043c\\u044b\\u043c \\u0432 \\u0440\\u0430\\u043c\\u043a\\u0430\\u0445 \\u044d\\u0442\\u043e\\u0433\\u043e \\u0434\\u0435\\u043b\\u0430. \\u0412 \\u0441\\u0432\\u043e\\u0438\\u0445 \\u043f\\u043e\\u043a\\u0430\\u0437\\u0430\\u043d\\u0438\\u044f\\u0445 \\u043e\\u043d \\u0444\\u0430\\u043a\\u0442\\u0438\\u0447\\u0435\\u0441\\u043a\\u0438 \\u0434\\u0430\\u043b \\u043f\\u0440\\u0438\\u0437\\u043d\\u0430\\u0442\\u0435\\u043b\\u044c\\u043d\\u044b\\u0435 \\u043f\\u043e\\u043a\\u0430\\u0437\\u0430\\u043d\\u0438\\u044f \\u043d\\u0435 \\u0442\\u043e\\u043b\\u044c\\u043a\\u043e \\u043d\\u0430 \\u0441\\u0435\\u0431\\u044f, \\u043d\\u043e \\u0438 \\u043d\\u0430 \\u0434\\u0440\\u0443\\u0433\\u043e\\u0433\\u043e \\u043e\\u0431\\u0432\\u0438\\u043d\\u044f\\u0435\\u043c\\u043e\\u0433\\u043e \\u2014 48-\\u043b\\u0435\\u0442\\u043d\\u0435\\u0433\\u043e \\u0415\\u0432\\u0433\\u0435\\u043d\\u0438\\u044f \\u041a\\u043e\\u0432\\u0430\\u043b\\u0435\\u043d\\u043a\\u043e.\\n\\n\\u0412 2017 \\u0433\\u043e\\u0434\\u0443 \\u041a\\u043e\\u0441\\u0442\\u0435\\u043d\\u043e\\u043a \\u0431\\u0430\\u043b\\u043b\\u043e\\u0442\\u0438\\u0440\\u043e\\u0432\\u0430\\u043b\\u0441\\u044f \\u0432 \\u043c\\u0443\\u043d\\u0438\\u0446\\u0438\\u043f\\u0430\\u043b\\u044c\\u043d\\u044b\\u0435 \\u0434\\u0435\\u043f\\u0443\\u0442\\u0430\\u0442\\u044b \\u0414\\u043e\\u043d\\u0441\\u043a\\u043e\\u0433\\u043e \\u0440\\u0430\\u0439\\u043e\\u043d\\u0430 \\u041c\\u043e\\u0441\\u043a\\u0432\\u044b \\u0438 \\u043d\\u0430\\u0431\\u0440\\u0430\\u043b 253 \\u0433\\u043e\\u043b\\u043e\\u0441\\u0430.\\n\"\n        ],\n        \"semantic_type\": \"\",\n        \"description\": \"\"\n      }\n    },\n    {\n      \"column\": \"entities\",\n      \"properties\": {\n        \"dtype\": \"object\",\n        \"semantic_type\": \"\",\n        \"description\": \"\"\n      }\n    },\n    {\n      \"column\": \"parsed_entities\",\n      \"properties\": {\n        \"dtype\": \"object\",\n        \"semantic_type\": \"\",\n        \"description\": \"\"\n      }\n    }\n  ]\n}"
            }
          },
          "metadata": {},
          "execution_count": 12
        }
      ],
      "source": [
        "train"
      ]
    },
    {
      "cell_type": "code",
      "execution_count": null,
      "metadata": {
        "colab": {
          "base_uri": "https://localhost:8080/",
          "height": 423
        },
        "id": "5KK8ZjNboIvR",
        "outputId": "bbe6917a-2d31-4c5e-a9d1-eb60cec913f0"
      },
      "outputs": [
        {
          "output_type": "execute_result",
          "data": {
            "text/plain": [
              "                                                    text  \\\n",
              "0      Пулеметы, автоматы и снайперские винтовки изъя...   \n",
              "1      Пулеметы, автоматы и снайперские винтовки изъя...   \n",
              "2      Пулеметы, автоматы и снайперские винтовки изъя...   \n",
              "3      Пулеметы, автоматы и снайперские винтовки изъя...   \n",
              "4      Пулеметы, автоматы и снайперские винтовки изъя...   \n",
              "...                                                  ...   \n",
              "56250  Умер Эдуард Лимонов\\nЭдуард Лимонов\\nВо вторни...   \n",
              "56251  Умер Эдуард Лимонов\\nЭдуард Лимонов\\nВо вторни...   \n",
              "56252  Умер Эдуард Лимонов\\nЭдуард Лимонов\\nВо вторни...   \n",
              "56253  Умер Эдуард Лимонов\\nЭдуард Лимонов\\nВо вторни...   \n",
              "56254  Умер Эдуард Лимонов\\nЭдуард Лимонов\\nВо вторни...   \n",
              "\n",
              "                                                entities  \\\n",
              "0      [T1\\tNATIONALITY 62 74\\tамериканцами, T2\\tCITY...   \n",
              "1      [T1\\tNATIONALITY 62 74\\tамериканцами, T2\\tCITY...   \n",
              "2      [T1\\tNATIONALITY 62 74\\tамериканцами, T2\\tCITY...   \n",
              "3      [T1\\tNATIONALITY 62 74\\tамериканцами, T2\\tCITY...   \n",
              "4      [T1\\tNATIONALITY 62 74\\tамериканцами, T2\\tCITY...   \n",
              "...                                                  ...   \n",
              "56250  [T2\\tDATE 35 65\\tВо вторник, 17 марта 2020 год...   \n",
              "56251  [T2\\tDATE 35 65\\tВо вторник, 17 марта 2020 год...   \n",
              "56252  [T2\\tDATE 35 65\\tВо вторник, 17 марта 2020 год...   \n",
              "56253  [T2\\tDATE 35 65\\tВо вторник, 17 марта 2020 год...   \n",
              "56254  [T2\\tDATE 35 65\\tВо вторник, 17 марта 2020 год...   \n",
              "\n",
              "                                         parsed_entities  \n",
              "0      {'entity_id': 'T1', 'entity_type': 'NATIONALIT...  \n",
              "1      {'entity_id': 'T2', 'entity_type': 'CITY', 'st...  \n",
              "2      {'entity_id': 'T3', 'entity_type': 'DATE', 'st...  \n",
              "3      {'entity_id': 'T4', 'entity_type': 'COUNTRY', ...  \n",
              "4      {'entity_id': 'T5', 'entity_type': 'ORGANIZATI...  \n",
              "...                                                  ...  \n",
              "56250  {'entity_id': 'T53', 'entity_type': 'PERSON', ...  \n",
              "56251  {'entity_id': 'T54', 'entity_type': 'PERSON', ...  \n",
              "56252  {'entity_id': 'T55', 'entity_type': 'LOCATION'...  \n",
              "56253  {'entity_id': 'T56', 'entity_type': 'WORK_OF_A...  \n",
              "56254  {'entity_id': 'T57', 'entity_type': 'LANGUAGE'...  \n",
              "\n",
              "[56255 rows x 3 columns]"
            ],
            "text/html": [
              "\n",
              "  <div id=\"df-ba2286fe-7229-4f9d-bc49-e103374b82e9\" class=\"colab-df-container\">\n",
              "    <div>\n",
              "<style scoped>\n",
              "    .dataframe tbody tr th:only-of-type {\n",
              "        vertical-align: middle;\n",
              "    }\n",
              "\n",
              "    .dataframe tbody tr th {\n",
              "        vertical-align: top;\n",
              "    }\n",
              "\n",
              "    .dataframe thead th {\n",
              "        text-align: right;\n",
              "    }\n",
              "</style>\n",
              "<table border=\"1\" class=\"dataframe\">\n",
              "  <thead>\n",
              "    <tr style=\"text-align: right;\">\n",
              "      <th></th>\n",
              "      <th>text</th>\n",
              "      <th>entities</th>\n",
              "      <th>parsed_entities</th>\n",
              "    </tr>\n",
              "  </thead>\n",
              "  <tbody>\n",
              "    <tr>\n",
              "      <th>0</th>\n",
              "      <td>Пулеметы, автоматы и снайперские винтовки изъя...</td>\n",
              "      <td>[T1\\tNATIONALITY 62 74\\tамериканцами, T2\\tCITY...</td>\n",
              "      <td>{'entity_id': 'T1', 'entity_type': 'NATIONALIT...</td>\n",
              "    </tr>\n",
              "    <tr>\n",
              "      <th>1</th>\n",
              "      <td>Пулеметы, автоматы и снайперские винтовки изъя...</td>\n",
              "      <td>[T1\\tNATIONALITY 62 74\\tамериканцами, T2\\tCITY...</td>\n",
              "      <td>{'entity_id': 'T2', 'entity_type': 'CITY', 'st...</td>\n",
              "    </tr>\n",
              "    <tr>\n",
              "      <th>2</th>\n",
              "      <td>Пулеметы, автоматы и снайперские винтовки изъя...</td>\n",
              "      <td>[T1\\tNATIONALITY 62 74\\tамериканцами, T2\\tCITY...</td>\n",
              "      <td>{'entity_id': 'T3', 'entity_type': 'DATE', 'st...</td>\n",
              "    </tr>\n",
              "    <tr>\n",
              "      <th>3</th>\n",
              "      <td>Пулеметы, автоматы и снайперские винтовки изъя...</td>\n",
              "      <td>[T1\\tNATIONALITY 62 74\\tамериканцами, T2\\tCITY...</td>\n",
              "      <td>{'entity_id': 'T4', 'entity_type': 'COUNTRY', ...</td>\n",
              "    </tr>\n",
              "    <tr>\n",
              "      <th>4</th>\n",
              "      <td>Пулеметы, автоматы и снайперские винтовки изъя...</td>\n",
              "      <td>[T1\\tNATIONALITY 62 74\\tамериканцами, T2\\tCITY...</td>\n",
              "      <td>{'entity_id': 'T5', 'entity_type': 'ORGANIZATI...</td>\n",
              "    </tr>\n",
              "    <tr>\n",
              "      <th>...</th>\n",
              "      <td>...</td>\n",
              "      <td>...</td>\n",
              "      <td>...</td>\n",
              "    </tr>\n",
              "    <tr>\n",
              "      <th>56250</th>\n",
              "      <td>Умер Эдуард Лимонов\\nЭдуард Лимонов\\nВо вторни...</td>\n",
              "      <td>[T2\\tDATE 35 65\\tВо вторник, 17 марта 2020 год...</td>\n",
              "      <td>{'entity_id': 'T53', 'entity_type': 'PERSON', ...</td>\n",
              "    </tr>\n",
              "    <tr>\n",
              "      <th>56251</th>\n",
              "      <td>Умер Эдуард Лимонов\\nЭдуард Лимонов\\nВо вторни...</td>\n",
              "      <td>[T2\\tDATE 35 65\\tВо вторник, 17 марта 2020 год...</td>\n",
              "      <td>{'entity_id': 'T54', 'entity_type': 'PERSON', ...</td>\n",
              "    </tr>\n",
              "    <tr>\n",
              "      <th>56252</th>\n",
              "      <td>Умер Эдуард Лимонов\\nЭдуард Лимонов\\nВо вторни...</td>\n",
              "      <td>[T2\\tDATE 35 65\\tВо вторник, 17 марта 2020 год...</td>\n",
              "      <td>{'entity_id': 'T55', 'entity_type': 'LOCATION'...</td>\n",
              "    </tr>\n",
              "    <tr>\n",
              "      <th>56253</th>\n",
              "      <td>Умер Эдуард Лимонов\\nЭдуард Лимонов\\nВо вторни...</td>\n",
              "      <td>[T2\\tDATE 35 65\\tВо вторник, 17 марта 2020 год...</td>\n",
              "      <td>{'entity_id': 'T56', 'entity_type': 'WORK_OF_A...</td>\n",
              "    </tr>\n",
              "    <tr>\n",
              "      <th>56254</th>\n",
              "      <td>Умер Эдуард Лимонов\\nЭдуард Лимонов\\nВо вторни...</td>\n",
              "      <td>[T2\\tDATE 35 65\\tВо вторник, 17 марта 2020 год...</td>\n",
              "      <td>{'entity_id': 'T57', 'entity_type': 'LANGUAGE'...</td>\n",
              "    </tr>\n",
              "  </tbody>\n",
              "</table>\n",
              "<p>56255 rows × 3 columns</p>\n",
              "</div>\n",
              "    <div class=\"colab-df-buttons\">\n",
              "\n",
              "  <div class=\"colab-df-container\">\n",
              "    <button class=\"colab-df-convert\" onclick=\"convertToInteractive('df-ba2286fe-7229-4f9d-bc49-e103374b82e9')\"\n",
              "            title=\"Convert this dataframe to an interactive table.\"\n",
              "            style=\"display:none;\">\n",
              "\n",
              "  <svg xmlns=\"http://www.w3.org/2000/svg\" height=\"24px\" viewBox=\"0 -960 960 960\">\n",
              "    <path d=\"M120-120v-720h720v720H120Zm60-500h600v-160H180v160Zm220 220h160v-160H400v160Zm0 220h160v-160H400v160ZM180-400h160v-160H180v160Zm440 0h160v-160H620v160ZM180-180h160v-160H180v160Zm440 0h160v-160H620v160Z\"/>\n",
              "  </svg>\n",
              "    </button>\n",
              "\n",
              "  <style>\n",
              "    .colab-df-container {\n",
              "      display:flex;\n",
              "      gap: 12px;\n",
              "    }\n",
              "\n",
              "    .colab-df-convert {\n",
              "      background-color: #E8F0FE;\n",
              "      border: none;\n",
              "      border-radius: 50%;\n",
              "      cursor: pointer;\n",
              "      display: none;\n",
              "      fill: #1967D2;\n",
              "      height: 32px;\n",
              "      padding: 0 0 0 0;\n",
              "      width: 32px;\n",
              "    }\n",
              "\n",
              "    .colab-df-convert:hover {\n",
              "      background-color: #E2EBFA;\n",
              "      box-shadow: 0px 1px 2px rgba(60, 64, 67, 0.3), 0px 1px 3px 1px rgba(60, 64, 67, 0.15);\n",
              "      fill: #174EA6;\n",
              "    }\n",
              "\n",
              "    .colab-df-buttons div {\n",
              "      margin-bottom: 4px;\n",
              "    }\n",
              "\n",
              "    [theme=dark] .colab-df-convert {\n",
              "      background-color: #3B4455;\n",
              "      fill: #D2E3FC;\n",
              "    }\n",
              "\n",
              "    [theme=dark] .colab-df-convert:hover {\n",
              "      background-color: #434B5C;\n",
              "      box-shadow: 0px 1px 3px 1px rgba(0, 0, 0, 0.15);\n",
              "      filter: drop-shadow(0px 1px 2px rgba(0, 0, 0, 0.3));\n",
              "      fill: #FFFFFF;\n",
              "    }\n",
              "  </style>\n",
              "\n",
              "    <script>\n",
              "      const buttonEl =\n",
              "        document.querySelector('#df-ba2286fe-7229-4f9d-bc49-e103374b82e9 button.colab-df-convert');\n",
              "      buttonEl.style.display =\n",
              "        google.colab.kernel.accessAllowed ? 'block' : 'none';\n",
              "\n",
              "      async function convertToInteractive(key) {\n",
              "        const element = document.querySelector('#df-ba2286fe-7229-4f9d-bc49-e103374b82e9');\n",
              "        const dataTable =\n",
              "          await google.colab.kernel.invokeFunction('convertToInteractive',\n",
              "                                                    [key], {});\n",
              "        if (!dataTable) return;\n",
              "\n",
              "        const docLinkHtml = 'Like what you see? Visit the ' +\n",
              "          '<a target=\"_blank\" href=https://colab.research.google.com/notebooks/data_table.ipynb>data table notebook</a>'\n",
              "          + ' to learn more about interactive tables.';\n",
              "        element.innerHTML = '';\n",
              "        dataTable['output_type'] = 'display_data';\n",
              "        await google.colab.output.renderOutput(dataTable, element);\n",
              "        const docLink = document.createElement('div');\n",
              "        docLink.innerHTML = docLinkHtml;\n",
              "        element.appendChild(docLink);\n",
              "      }\n",
              "    </script>\n",
              "  </div>\n",
              "\n",
              "\n",
              "<div id=\"df-70234de7-12fe-46a3-a48a-3c07b2e3258a\">\n",
              "  <button class=\"colab-df-quickchart\" onclick=\"quickchart('df-70234de7-12fe-46a3-a48a-3c07b2e3258a')\"\n",
              "            title=\"Suggest charts\"\n",
              "            style=\"display:none;\">\n",
              "\n",
              "<svg xmlns=\"http://www.w3.org/2000/svg\" height=\"24px\"viewBox=\"0 0 24 24\"\n",
              "     width=\"24px\">\n",
              "    <g>\n",
              "        <path d=\"M19 3H5c-1.1 0-2 .9-2 2v14c0 1.1.9 2 2 2h14c1.1 0 2-.9 2-2V5c0-1.1-.9-2-2-2zM9 17H7v-7h2v7zm4 0h-2V7h2v10zm4 0h-2v-4h2v4z\"/>\n",
              "    </g>\n",
              "</svg>\n",
              "  </button>\n",
              "\n",
              "<style>\n",
              "  .colab-df-quickchart {\n",
              "      --bg-color: #E8F0FE;\n",
              "      --fill-color: #1967D2;\n",
              "      --hover-bg-color: #E2EBFA;\n",
              "      --hover-fill-color: #174EA6;\n",
              "      --disabled-fill-color: #AAA;\n",
              "      --disabled-bg-color: #DDD;\n",
              "  }\n",
              "\n",
              "  [theme=dark] .colab-df-quickchart {\n",
              "      --bg-color: #3B4455;\n",
              "      --fill-color: #D2E3FC;\n",
              "      --hover-bg-color: #434B5C;\n",
              "      --hover-fill-color: #FFFFFF;\n",
              "      --disabled-bg-color: #3B4455;\n",
              "      --disabled-fill-color: #666;\n",
              "  }\n",
              "\n",
              "  .colab-df-quickchart {\n",
              "    background-color: var(--bg-color);\n",
              "    border: none;\n",
              "    border-radius: 50%;\n",
              "    cursor: pointer;\n",
              "    display: none;\n",
              "    fill: var(--fill-color);\n",
              "    height: 32px;\n",
              "    padding: 0;\n",
              "    width: 32px;\n",
              "  }\n",
              "\n",
              "  .colab-df-quickchart:hover {\n",
              "    background-color: var(--hover-bg-color);\n",
              "    box-shadow: 0 1px 2px rgba(60, 64, 67, 0.3), 0 1px 3px 1px rgba(60, 64, 67, 0.15);\n",
              "    fill: var(--button-hover-fill-color);\n",
              "  }\n",
              "\n",
              "  .colab-df-quickchart-complete:disabled,\n",
              "  .colab-df-quickchart-complete:disabled:hover {\n",
              "    background-color: var(--disabled-bg-color);\n",
              "    fill: var(--disabled-fill-color);\n",
              "    box-shadow: none;\n",
              "  }\n",
              "\n",
              "  .colab-df-spinner {\n",
              "    border: 2px solid var(--fill-color);\n",
              "    border-color: transparent;\n",
              "    border-bottom-color: var(--fill-color);\n",
              "    animation:\n",
              "      spin 1s steps(1) infinite;\n",
              "  }\n",
              "\n",
              "  @keyframes spin {\n",
              "    0% {\n",
              "      border-color: transparent;\n",
              "      border-bottom-color: var(--fill-color);\n",
              "      border-left-color: var(--fill-color);\n",
              "    }\n",
              "    20% {\n",
              "      border-color: transparent;\n",
              "      border-left-color: var(--fill-color);\n",
              "      border-top-color: var(--fill-color);\n",
              "    }\n",
              "    30% {\n",
              "      border-color: transparent;\n",
              "      border-left-color: var(--fill-color);\n",
              "      border-top-color: var(--fill-color);\n",
              "      border-right-color: var(--fill-color);\n",
              "    }\n",
              "    40% {\n",
              "      border-color: transparent;\n",
              "      border-right-color: var(--fill-color);\n",
              "      border-top-color: var(--fill-color);\n",
              "    }\n",
              "    60% {\n",
              "      border-color: transparent;\n",
              "      border-right-color: var(--fill-color);\n",
              "    }\n",
              "    80% {\n",
              "      border-color: transparent;\n",
              "      border-right-color: var(--fill-color);\n",
              "      border-bottom-color: var(--fill-color);\n",
              "    }\n",
              "    90% {\n",
              "      border-color: transparent;\n",
              "      border-bottom-color: var(--fill-color);\n",
              "    }\n",
              "  }\n",
              "</style>\n",
              "\n",
              "  <script>\n",
              "    async function quickchart(key) {\n",
              "      const quickchartButtonEl =\n",
              "        document.querySelector('#' + key + ' button');\n",
              "      quickchartButtonEl.disabled = true;  // To prevent multiple clicks.\n",
              "      quickchartButtonEl.classList.add('colab-df-spinner');\n",
              "      try {\n",
              "        const charts = await google.colab.kernel.invokeFunction(\n",
              "            'suggestCharts', [key], {});\n",
              "      } catch (error) {\n",
              "        console.error('Error during call to suggestCharts:', error);\n",
              "      }\n",
              "      quickchartButtonEl.classList.remove('colab-df-spinner');\n",
              "      quickchartButtonEl.classList.add('colab-df-quickchart-complete');\n",
              "    }\n",
              "    (() => {\n",
              "      let quickchartButtonEl =\n",
              "        document.querySelector('#df-70234de7-12fe-46a3-a48a-3c07b2e3258a button');\n",
              "      quickchartButtonEl.style.display =\n",
              "        google.colab.kernel.accessAllowed ? 'block' : 'none';\n",
              "    })();\n",
              "  </script>\n",
              "</div>\n",
              "\n",
              "  <div id=\"id_1039b851-d843-4c6a-961e-c727c2795cdd\">\n",
              "    <style>\n",
              "      .colab-df-generate {\n",
              "        background-color: #E8F0FE;\n",
              "        border: none;\n",
              "        border-radius: 50%;\n",
              "        cursor: pointer;\n",
              "        display: none;\n",
              "        fill: #1967D2;\n",
              "        height: 32px;\n",
              "        padding: 0 0 0 0;\n",
              "        width: 32px;\n",
              "      }\n",
              "\n",
              "      .colab-df-generate:hover {\n",
              "        background-color: #E2EBFA;\n",
              "        box-shadow: 0px 1px 2px rgba(60, 64, 67, 0.3), 0px 1px 3px 1px rgba(60, 64, 67, 0.15);\n",
              "        fill: #174EA6;\n",
              "      }\n",
              "\n",
              "      [theme=dark] .colab-df-generate {\n",
              "        background-color: #3B4455;\n",
              "        fill: #D2E3FC;\n",
              "      }\n",
              "\n",
              "      [theme=dark] .colab-df-generate:hover {\n",
              "        background-color: #434B5C;\n",
              "        box-shadow: 0px 1px 3px 1px rgba(0, 0, 0, 0.15);\n",
              "        filter: drop-shadow(0px 1px 2px rgba(0, 0, 0, 0.3));\n",
              "        fill: #FFFFFF;\n",
              "      }\n",
              "    </style>\n",
              "    <button class=\"colab-df-generate\" onclick=\"generateWithVariable('train_exploded')\"\n",
              "            title=\"Generate code using this dataframe.\"\n",
              "            style=\"display:none;\">\n",
              "\n",
              "  <svg xmlns=\"http://www.w3.org/2000/svg\" height=\"24px\"viewBox=\"0 0 24 24\"\n",
              "       width=\"24px\">\n",
              "    <path d=\"M7,19H8.4L18.45,9,17,7.55,7,17.6ZM5,21V16.75L18.45,3.32a2,2,0,0,1,2.83,0l1.4,1.43a1.91,1.91,0,0,1,.58,1.4,1.91,1.91,0,0,1-.58,1.4L9.25,21ZM18.45,9,17,7.55Zm-12,3A5.31,5.31,0,0,0,4.9,8.1,5.31,5.31,0,0,0,1,6.5,5.31,5.31,0,0,0,4.9,4.9,5.31,5.31,0,0,0,6.5,1,5.31,5.31,0,0,0,8.1,4.9,5.31,5.31,0,0,0,12,6.5,5.46,5.46,0,0,0,6.5,12Z\"/>\n",
              "  </svg>\n",
              "    </button>\n",
              "    <script>\n",
              "      (() => {\n",
              "      const buttonEl =\n",
              "        document.querySelector('#id_1039b851-d843-4c6a-961e-c727c2795cdd button.colab-df-generate');\n",
              "      buttonEl.style.display =\n",
              "        google.colab.kernel.accessAllowed ? 'block' : 'none';\n",
              "\n",
              "      buttonEl.onclick = () => {\n",
              "        google.colab.notebook.generateWithVariable('train_exploded');\n",
              "      }\n",
              "      })();\n",
              "    </script>\n",
              "  </div>\n",
              "\n",
              "    </div>\n",
              "  </div>\n"
            ],
            "application/vnd.google.colaboratory.intrinsic+json": {
              "type": "dataframe",
              "variable_name": "train_exploded",
              "summary": "{\n  \"name\": \"train_exploded\",\n  \"rows\": 56255,\n  \"fields\": [\n    {\n      \"column\": \"text\",\n      \"properties\": {\n        \"dtype\": \"category\",\n        \"num_unique_values\": 933,\n        \"samples\": [\n          \"\\u041f\\u043e\\u0436\\u0430\\u0440 \\u0432 \\u0427\\u0435\\u0440\\u043d\\u043e\\u0431\\u044b\\u043b\\u0435 \\u043b\\u043e\\u043a\\u0430\\u043b\\u0438\\u0437\\u043e\\u0432\\u0430\\u043d\\n\\u0427\\u0435\\u0440\\u043d\\u043e\\u0431\\u044b\\u043b\\u044c\\u0441\\u043a\\u0430\\u044f \\u0437\\u043e\\u043d\\u0430 \\u043e\\u0442\\u0447\\u0443\\u0436\\u0434\\u0435\\u043d\\u0438\\u044f\\n\\u0427\\u043b\\u0435\\u043d \\u043e\\u0431\\u0449\\u0435\\u0441\\u0442\\u0432\\u0435\\u043d\\u043d\\u043e\\u0433\\u043e \\u0441\\u043e\\u0432\\u0435\\u0442\\u0430 \\u043f\\u0440\\u0438 \\u0433\\u043e\\u0441\\u0443\\u0434\\u0430\\u0440\\u0441\\u0442\\u0432\\u0435\\u043d\\u043d\\u043e\\u043c \\u0430\\u0433\\u0435\\u043d\\u0442\\u0441\\u0442\\u0432\\u0435 \\u043f\\u043e \\u0443\\u043f\\u0440\\u0430\\u0432\\u043b\\u0435\\u043d\\u0438\\u044e \\u0437\\u043e\\u043d\\u043e\\u0439 \\u043e\\u0442\\u0447\\u0443\\u0436\\u0434\\u0435\\u043d\\u0438\\u044f \\u042f\\u0440\\u043e\\u0441\\u043b\\u0430\\u0432 \\u0415\\u043c\\u0435\\u043b\\u044c\\u044f\\u043d\\u0435\\u043d\\u043a\\u043e \\u0437\\u0430\\u044f\\u0432\\u0438\\u043b \\u043e \\u0442\\u043e\\u043c, \\u0447\\u0442\\u043e \\u043f\\u043e\\u0436\\u0430\\u0440 \\u0432 \\u0437\\u043e\\u043d\\u0435 \\u043e\\u0442\\u0447\\u0443\\u0436\\u0434\\u0435\\u043d\\u0438\\u044f \\u0430\\u0442\\u043e\\u043c\\u043d\\u043e\\u0439 \\u0441\\u0442\\u0430\\u043d\\u0446\\u0438\\u0438 \\u043b\\u043e\\u043a\\u0430\\u043b\\u0438\\u0437\\u043e\\u0432\\u0430\\u043d. \\u0420\\u0430\\u043d\\u0435\\u0435 \\u043e\\u043d \\u0441\\u043e\\u043e\\u0431\\u0449\\u0430\\u043b, \\u0447\\u0442\\u043e \\u043e\\u0433\\u043e\\u043d\\u044c \\u043f\\u043e\\u0447\\u0442\\u0438 \\u0434\\u043e\\u0441\\u0442\\u0438\\u0433 \\u0445\\u0440\\u0430\\u043d\\u0438\\u043b\\u0438\\u0449 \\u0441 \\u0440\\u0430\\u0434\\u0438\\u043e\\u0430\\u043a\\u0442\\u0438\\u0432\\u043d\\u044b\\u043c\\u0438 \\u043e\\u0442\\u0445\\u043e\\u0434\\u0430\\u043c\\u0438, \\u0430 \\u0443\\u0440\\u043e\\u0432\\u0435\\u043d\\u044c \\u0440\\u0430\\u0434\\u0438\\u0430\\u0446\\u0438\\u0438 \\u0431\\u044b\\u043b \\u043c\\u043d\\u043e\\u0433\\u043e\\u043a\\u0440\\u0430\\u0442\\u043d\\u043e \\u043f\\u0440\\u0435\\u0432\\u044b\\u0448\\u0435\\u043d.\\n\\n\\u042f\\u0440\\u043e\\u0441\\u043b\\u0430\\u0432 \\u043f\\u0438\\u0441\\u0430\\u043b, \\u0447\\u0442\\u043e \\u043e\\u0433\\u043e\\u043d\\u044c \\u0434\\u043e\\u0431\\u0440\\u0430\\u043b\\u0441\\u044f \\u0434\\u043e \\u041f\\u0440\\u0438\\u043f\\u044f\\u0442\\u0438 \\u0438 \\u043d\\u0430\\u0445\\u043e\\u0434\\u0438\\u043b\\u0441\\u044f \\u0432 \\u0434\\u0432\\u0443\\u0445 \\u043a\\u0438\\u043b\\u043e\\u043c\\u0435\\u0442\\u0440\\u0430\\u0445 \\u043e\\u0442 \\u0445\\u0440\\u0430\\u043d\\u0438\\u043b\\u0438\\u0449\\u0430 \\u00ab\\u041f\\u043e\\u0434\\u043b\\u0435\\u0441\\u043d\\u044b\\u0439\\u00bb. \\u041e\\u0433\\u043e\\u043d\\u044c \\u043d\\u0430\\u043f\\u0440\\u0430\\u0432\\u043b\\u044f\\u043b\\u0441\\u044f \\u0432 \\u0441\\u0442\\u043e\\u0440\\u043e\\u043d\\u0443 \\u0427\\u0435\\u0440\\u043d\\u043e\\u0431\\u044b\\u043b\\u044c\\u0441\\u043a\\u043e\\u0439 \\u0410\\u042d\\u0421, \\u0442\\u0430\\u043a \\u043a\\u0430\\u043a \\u043a \\u043d\\u0435\\u0439 \\u0434\\u0443\\u043b \\u0432\\u0435\\u0442\\u0435\\u0440.\\n\\n\\u041e\\u0433\\u043e\\u043d\\u044c \\u043d\\u0430 \\u0442\\u0435\\u0440\\u0440\\u0438\\u0442\\u043e\\u0440\\u0438\\u0438 \\u0437\\u043e\\u043d\\u044b \\u043e\\u0442\\u0447\\u0443\\u0436\\u0434\\u0435\\u043d\\u0438\\u044f \\u0431\\u0443\\u0448\\u0435\\u0432\\u0430\\u043b \\u0431\\u043e\\u043b\\u044c\\u0448\\u0435 \\u043d\\u0435\\u0434\\u0435\\u043b\\u0438. \\u0421\\u0433\\u043e\\u0440\\u0435\\u043b\\u0438 \\u043c\\u043d\\u043e\\u0433\\u0438\\u0435 \\u0431\\u044b\\u0432\\u0448\\u0438\\u0435 \\u0441\\u0435\\u043b\\u0430, \\u0440\\u0430\\u0441\\u043f\\u043e\\u043b\\u043e\\u0436\\u0435\\u043d\\u043d\\u044b\\u0435 \\u0440\\u044f\\u0434\\u043e\\u043c \\u0441 \\u0410\\u042d\\u0421, \\u0431\\u044b\\u043b \\u0443\\u043d\\u0438\\u0447\\u0442\\u043e\\u0436\\u0435\\u043d \\u0420\\u044b\\u0436\\u0438\\u0439 \\u043b\\u0435\\u0441. \\u0412 \\u0442\\u0443\\u0448\\u0435\\u043d\\u0438\\u0438 \\u043f\\u0440\\u0438\\u043d\\u0438\\u043c\\u0430\\u043b\\u0430 \\u0443\\u0447\\u0430\\u0441\\u0442\\u0438\\u0435 \\u0430\\u0432\\u0438\\u0430\\u0446\\u0438\\u044f.\\n\\n\\u041f\\u043e \\u0444\\u0430\\u043a\\u0442\\u0443 \\u043f\\u043e\\u0434\\u0436\\u043e\\u0433\\u0430 \\u0431\\u044b\\u043b \\u0437\\u0430\\u0434\\u0435\\u0440\\u0436\\u0430\\u043d 27-\\u043b\\u0435\\u0442\\u043d\\u0438\\u0439 \\u0436\\u0438\\u0442\\u0435\\u043b\\u044c \\u043e\\u0434\\u043d\\u043e\\u0433\\u043e \\u0438\\u0437 \\u0441\\u0451\\u043b \\u041a\\u0438\\u0435\\u0432\\u0441\\u043a\\u043e\\u0439 \\u043e\\u0431\\u043b\\u0430\\u0441\\u0442\\u0438. \\u041e\\u043d \\u0441\\u043a\\u0430\\u0437\\u0430\\u043b, \\u0447\\u0442\\u043e \\u043f\\u043e\\u0434\\u0436\\u0451\\u0433 \\u043c\\u0443\\u0441\\u043e\\u0440 \\u0438 \\u0442\\u0440\\u0430\\u0432\\u0443 \\u0432 \\u0442\\u0440\\u0451\\u0445 \\u043c\\u0435\\u0441\\u0442\\u0430\\u0445 \\u0440\\u0430\\u0434\\u0438 \\u0437\\u0430\\u0431\\u0430\\u0432\\u044b, \\u043f\\u043e\\u0441\\u043b\\u0435 \\u0447\\u0435\\u0433\\u043e \\u00ab\\u043e\\u0433\\u043e\\u043d\\u044c \\u0432\\u0435\\u0442\\u0440\\u043e\\u043c \\u043e\\u043f\\u0440\\u043e\\u043a\\u0438\\u043d\\u0443\\u043b\\u0441\\u044f \\u0434\\u0430\\u043b\\u044c\\u0448\\u0435\\u00bb.\\n\\n\\u0412\\u0441\\u0451 \\u044d\\u0442\\u043e \\u0432\\u0440\\u0435\\u043c\\u044f \\u0441 \\u043e\\u0433\\u043d\\u0451\\u043c \\u0431\\u043e\\u0440\\u043e\\u043b\\u0438\\u0441\\u044c \\u0443\\u0441\\u0438\\u043b\\u0435\\u043d\\u043d\\u044b\\u0435 \\u043d\\u0430\\u0440\\u044f\\u0434\\u044b \\u043f\\u043e\\u0436\\u0430\\u0440\\u043d\\u044b\\u0445. \\u041f\\u043e \\u0441\\u043b\\u043e\\u0432\\u0430\\u043c \\u042f\\u0440\\u043e\\u0441\\u043b\\u0430\\u0432\\u0430, \\u0437\\u0430\\u043c\\u0435\\u0442\\u043d\\u044b\\u0439 \\u0432\\u043a\\u043b\\u0430\\u0434 \\u0432 \\u043f\\u0440\\u0435\\u0434\\u043e\\u0442\\u0432\\u0440\\u0430\\u0449\\u0435\\u043d\\u0438\\u044f \\u0431\\u0435\\u0434\\u0441\\u0442\\u0432\\u0438\\u044f \\u0432\\u043d\\u0435\\u0441\\u043b\\u0438 \\u043f\\u0440\\u043e\\u0448\\u0435\\u0434\\u0448\\u0438\\u0435 \\u0434\\u043e\\u0436\\u0434\\u0438 \\u0438 \\u0434\\u0430\\u0436\\u0435 \\u0441\\u043d\\u0435\\u0433. \\u0421\\u0435\\u0439\\u0447\\u0430\\u0441 \\u0443\\u0433\\u0440\\u043e\\u0437\\u0430 \\u043c\\u0438\\u043d\\u043e\\u0432\\u0430\\u043b\\u0430.\\n\",\n          \"\\u041f\\u043e\\u0434\\u043e\\u0437\\u0440\\u0435\\u0432\\u0430\\u0435\\u043c\\u044b\\u0439 \\u0432 \\u043f\\u043e\\u0434\\u0433\\u043e\\u0442\\u043e\\u0432\\u043a\\u0435 \\u0432\\u0437\\u0440\\u044b\\u0432\\u043e\\u0432 \\u0432 \\u041d\\u044c\\u044e-\\u0419\\u043e\\u0440\\u043a\\u0435 \\u043a\\u0443\\u043f\\u0438\\u043b \\u0434\\u0435\\u0442\\u0430\\u043b\\u0438 \\u0434\\u043b\\u044f \\u0431\\u043e\\u043c\\u0431\\u044b \\u043f\\u043e \\u0418\\u043d\\u0442\\u0435\\u0440\\u043d\\u0435\\u0442\\u0443\\n\\u0411\\u043e\\u043c\\u0431\\u0430 \\n\\u041f\\u043e \\u0434\\u0430\\u043d\\u043d\\u044b\\u043c \\u0441\\u043b\\u0435\\u0434\\u0441\\u0442\\u0432\\u0438\\u044f \\u0410\\u0445\\u043c\\u0430\\u0434 \\u0420\\u0430\\u0445\\u0430\\u043c\\u0438, \\u043f\\u043e\\u0434\\u043e\\u0437\\u0440\\u0435\\u0432\\u0430\\u0435\\u043c\\u044b\\u0439 \\u0432 \\u043f\\u043e\\u0434\\u0433\\u043e\\u0442\\u043e\\u0432\\u043a\\u0435 \\u0432\\u0437\\u0440\\u044b\\u0432\\u043e\\u0432, \\u043f\\u0440\\u043e\\u0433\\u0440\\u0435\\u043c\\u0435\\u0432\\u0448\\u0438\\u0445 \\u0432 \\u043c\\u0438\\u043d\\u0443\\u0432\\u0448\\u0443\\u044e \\u0441\\u0443\\u0431\\u0431\\u043e\\u0442\\u0443, 17 \\u0441\\u0435\\u043d\\u0442\\u044f\\u0431\\u0440\\u044f 2016 \\u0433\\u043e\\u0434\\u0430, \\u0432 \\u041d\\u044c\\u044e-\\u0419\\u043e\\u0440\\u043a\\u0435 \\u0438 \\u041d\\u044c\\u044e-\\u0414\\u0436\\u0435\\u0440\\u0441\\u0438, \\u043f\\u0440\\u0438\\u043e\\u0431\\u0440\\u0435\\u043b \\u043d\\u0435\\u043e\\u0431\\u0445\\u043e\\u0434\\u0438\\u043c\\u044b\\u0435 \\u0435\\u043c\\u0443 \\u0434\\u043b\\u044f \\u0442\\u0435\\u0440\\u0430\\u043a\\u0442\\u0430 \\u043a\\u043e\\u043c\\u043f\\u043e\\u043d\\u0435\\u043d\\u0442\\u044b \\u043d\\u0430 eBay, \\u0430 \\u0432 \\u043a\\u0430\\u0447\\u0435\\u0441\\u0442\\u0432\\u0435 \\u0434\\u0435\\u0442\\u043e\\u043d\\u0430\\u0442\\u043e\\u0440\\u0430 \\u0438\\u0441\\u043f\\u043e\\u043b\\u044c\\u0437\\u043e\\u0432\\u0430\\u043b \\u0441\\u043e\\u0442\\u043e\\u0432\\u044b\\u0435 \\u0442\\u0435\\u043b\\u0435\\u0444\\u043e\\u043d\\u044b, \\u043a\\u0443\\u043f\\u043b\\u0435\\u043d\\u043d\\u044b\\u0435 \\u0432 \\u043c\\u0430\\u0433\\u0430\\u0437\\u0438\\u043d\\u0435, \\u0440\\u0430\\u0441\\u043f\\u043e\\u043b\\u043e\\u0436\\u0435\\u043d\\u043d\\u043e\\u043c \\u0432 500 \\u043c\\u0435\\u0442\\u0440\\u0430\\u0445 \\u043e\\u0442 \\u0430\\u0434\\u0440\\u0435\\u0441\\u0430, \\u0440\\u0430\\u043d\\u0435\\u0435 \\u0443\\u043a\\u0430\\u0437\\u0430\\u043d\\u043d\\u043e\\u0433\\u043e \\u0438\\u043c \\u043a\\u0430\\u043a \\u043c\\u0435\\u0441\\u0442\\u043e \\u043f\\u0440\\u043e\\u0436\\u0438\\u0432\\u0430\\u043d\\u0438\\u044f.\\n\\n\\u0412 \\u043e\\u0431\\u043d\\u0430\\u0440\\u043e\\u0434\\u043e\\u0432\\u0430\\u043d\\u043d\\u043e\\u043c \\u0432\\u043e \\u0432\\u0442\\u043e\\u0440\\u043d\\u0438\\u043a \\u0437\\u0430\\u044f\\u0432\\u043b\\u0435\\u043d\\u0438\\u0438 \\u043e \\u0432\\u043e\\u0437\\u0431\\u0443\\u0436\\u0434\\u0435\\u043d\\u0438\\u0438 \\u0443\\u0433\\u043e\\u043b\\u043e\\u0432\\u043d\\u043e\\u0433\\u043e \\u0434\\u0435\\u043b\\u0430 \\u0438\\u0437\\u043b\\u0430\\u0433\\u0430\\u044e\\u0442\\u0441\\u044f \\u043c\\u043d\\u043e\\u0433\\u043e\\u0447\\u0438\\u0441\\u043b\\u0435\\u043d\\u043d\\u044b\\u0435 \\u043e\\u0431\\u0432\\u0438\\u043d\\u0435\\u043d\\u0438\\u044f \\u043f\\u0440\\u043e\\u0442\\u0438\\u0432 28-\\u043b\\u0435\\u0442\\u043d\\u0435\\u0433\\u043e \\u0410\\u0445\\u043c\\u0430\\u0434\\u0430 \\u0420\\u0430\\u0445\\u0430\\u043c\\u0438. \\u041c\\u0430\\u043a\\u0441\\u0438\\u043c\\u0430\\u043b\\u044c\\u043d\\u044b\\u043c \\u043d\\u0430\\u043a\\u0430\\u0437\\u0430\\u043d\\u0438\\u0435\\u043c \\u043f\\u043e \\u0431\\u043e\\u043b\\u044c\\u0448\\u0438\\u043d\\u0441\\u0442\\u0432\\u0443 \\u0438\\u0437 \\u043d\\u0438\\u0445 \\u044f\\u0432\\u043b\\u044f\\u0435\\u0442\\u0441\\u044f \\u043f\\u043e\\u0436\\u0438\\u0437\\u043d\\u0435\\u043d\\u043d\\u043e\\u0435 \\u0437\\u0430\\u043a\\u043b\\u044e\\u0447\\u0435\\u043d\\u0438\\u0435.\\n\\n\\u0420\\u0430\\u0445\\u0430\\u043c\\u0438 \\u0431\\u044b\\u043b \\u0430\\u0440\\u0435\\u0441\\u0442\\u043e\\u0432\\u0430\\u043d \\u0432 \\u043f\\u043e\\u043d\\u0435\\u0434\\u0435\\u043b\\u044c\\u043d\\u0438\\u043a \\u043f\\u043e\\u0441\\u043b\\u0435 \\u043f\\u0435\\u0440\\u0435\\u0441\\u0442\\u0440\\u0435\\u043b\\u043a\\u0438 \\u0441 \\u043f\\u043e\\u043b\\u0438\\u0446\\u0438\\u0435\\u0439, \\u0432 \\u0445\\u043e\\u0434\\u0435 \\u043a\\u043e\\u0442\\u043e\\u0440\\u043e\\u0439 \\u043e\\u043d \\u0438 \\u0434\\u0432\\u043e\\u0435 \\u043f\\u043e\\u043b\\u0438\\u0446\\u0435\\u0439\\u0441\\u043a\\u0438\\u0445 \\u043f\\u043e\\u043b\\u0443\\u0447\\u0438\\u043b\\u0438 \\u0440\\u0430\\u043d\\u0435\\u043d\\u0438\\u044f.\\n\\n\\u0421\\u043e\\u0433\\u043b\\u0430\\u0441\\u043d\\u043e \\u0434\\u043e\\u043a\\u0443\\u043c\\u0435\\u043d\\u0442\\u0430\\u043c \\u0434\\u0435\\u043b\\u0430, \\u0441\\u043b\\u0435\\u0434\\u0441\\u0442\\u0432\\u0438\\u0435 \\u043f\\u043e\\u043b\\u0430\\u0433\\u0430\\u0435\\u0442, \\u0447\\u0442\\u043e \\u0420\\u0430\\u0445\\u0430\\u043c\\u0438, \\u0438\\u0441\\u043f\\u043e\\u043b\\u044c\\u0437\\u0443\\u044f \\u043d\\u0430 eBay \\u0430\\u043a\\u043a\\u0430\\u0443\\u043d\\u0442 \\u00abAhmad Rahami\\u00bb, \\u0432 \\u043f\\u0435\\u0440\\u0438\\u043e\\u0434 \\u043c\\u0435\\u0436\\u0434\\u0443 20 \\u0438\\u044e\\u043d\\u044f \\u0438 10 \\u0430\\u0432\\u0433\\u0443\\u0441\\u0442\\u0430 \\u043f\\u0440\\u0438\\u043e\\u0431\\u0440\\u0435\\u043b \\u043b\\u0438\\u043c\\u043e\\u043d\\u043d\\u0443\\u044e \\u043a\\u0438\\u0441\\u043b\\u043e\\u0442\\u0443, \\u0441\\u0445\\u0435\\u043c\\u043d\\u0443\\u044e \\u043f\\u043b\\u0430\\u0442\\u0443, \\u044d\\u043b\\u0435\\u043a\\u0442\\u0440\\u0438\\u0447\\u0435\\u0441\\u043a\\u0438\\u0435 \\u0432\\u043e\\u0441\\u043f\\u043b\\u0430\\u043c\\u0435\\u043d\\u0438\\u0442\\u0435\\u043b\\u0438 \\u0438 \\u0441\\u043e\\u0442\\u043d\\u0438 \\u0448\\u0430\\u0440\\u0438\\u043a\\u043e\\u043f\\u043e\\u0434\\u0448\\u0438\\u043f\\u043d\\u0438\\u043a\\u043e\\u0432. \\u0412\\u0441\\u0435 \\u043a\\u0443\\u043f\\u043b\\u0435\\u043d\\u043d\\u044b\\u0435 \\u0438\\u043c \\u0432\\u0435\\u0449\\u0438 \\u0431\\u044b\\u043b\\u0438 \\u0434\\u043e\\u0441\\u0442\\u0430\\u0432\\u043b\\u0435\\u043d\\u044b \\u0432 \\u0433\\u043e\\u0440\\u043e\\u0434 \\u041f\\u0435\\u0440\\u0442 \\u0410\\u043c\\u0431\\u043e\\u0439, \\u0433\\u0434\\u0435 \\u0420\\u0430\\u0445\\u0430\\u043c\\u0438 \\u0440\\u0430\\u0431\\u043e\\u0442\\u0430\\u043b \\u0432\\u043f\\u043b\\u043e\\u0442\\u044c \\u0434\\u043e 12 \\u0441\\u0435\\u043d\\u0442\\u044f\\u0431\\u0440\\u044f.\\n\\n\\u0428\\u0430\\u0440\\u0438\\u043a\\u043e\\u0432\\u044b\\u0435 \\u043f\\u043e\\u0434\\u0448\\u0438\\u043f\\u043d\\u0438\\u043a\\u0438 \\u0431\\u044b\\u043b\\u0438 \\u043d\\u0430\\u0439\\u0434\\u0435\\u043d\\u044b \\u0432 \\u0434\\u0432\\u0443\\u0445 \\u0432\\u0437\\u0440\\u044b\\u0432\\u043d\\u044b\\u0445 \\u0443\\u0441\\u0442\\u0440\\u043e\\u0439\\u0441\\u0442\\u0432\\u0430\\u0445, \\u0438\\u0437\\u0433\\u043e\\u0442\\u043e\\u0432\\u043b\\u0435\\u043d\\u043d\\u044b\\u0445 \\u0438\\u0437 \\u0441\\u043a\\u043e\\u0440\\u043e\\u0432\\u0430\\u0440\\u043e\\u043a, \\u043a\\u043e\\u0442\\u043e\\u0440\\u044b\\u0435 \\u0431\\u044b\\u043b\\u0438 \\u0437\\u0430\\u043b\\u043e\\u0436\\u0435\\u043d\\u044b \\u0432 \\u0441\\u0443\\u0431\\u0431\\u043e\\u0442\\u0443 \\u0432 \\u0447\\u0435\\u0442\\u044b\\u0440\\u0451\\u0445 \\u043a\\u0432\\u0430\\u0440\\u0442\\u0430\\u043b\\u0430\\u0445 \\u0434\\u0440\\u0443\\u0433 \\u043e\\u0442 \\u0434\\u0440\\u0443\\u0433\\u0430 \\u0432 \\u043d\\u044c\\u044e-\\u0439\\u043e\\u0440\\u043a\\u0441\\u043a\\u043e\\u043c \\u0440\\u0430\\u0439\\u043e\\u043d\\u0435 \\u0427\\u0435\\u043b\\u0441\\u0438. \\u041e\\u0434\\u043d\\u0430 \\u0438\\u0437 \\u0441\\u0430\\u043c\\u043e\\u0434\\u0435\\u043b\\u044c\\u043d\\u044b\\u0445 \\u0431\\u043e\\u043c\\u0431 \\u0432\\u0437\\u043e\\u0440\\u0432\\u0430\\u043b\\u0430\\u0441\\u044c, \\u0440\\u0430\\u043d\\u0438\\u0432 29 \\u0447\\u0435\\u043b\\u043e\\u0432\\u0435\\u043a, \\u0434\\u0440\\u0443\\u0433\\u0430\\u044f \\u043d\\u0435 \\u0441\\u0440\\u0430\\u0431\\u043e\\u0442\\u0430\\u043b\\u0430. \\u041f\\u043e \\u0441\\u043b\\u043e\\u0432\\u0430\\u043c \\u0441\\u043b\\u0435\\u0434\\u043e\\u0432\\u0430\\u0442\\u0435\\u043b\\u0435\\u0439, \\u0432\\u0442\\u043e\\u0440\\u0430\\u044f \\u0431\\u043e\\u043c\\u0431\\u0430 \\u0441\\u043e\\u0441\\u0442\\u043e\\u044f\\u043b\\u0430 \\u0438\\u0437 \\u043c\\u043d\\u043e\\u0433\\u043e\\u0447\\u0438\\u0441\\u043b\\u0435\\u043d\\u043d\\u044b\\u0445 \\u044d\\u043b\\u0435\\u043a\\u0442\\u0440\\u0438\\u0447\\u0435\\u0441\\u043a\\u0438\\u0445 \\u0432\\u043e\\u0441\\u043f\\u043b\\u0430\\u043c\\u0435\\u043d\\u0438\\u0442\\u0435\\u043b\\u0435\\u0439.\\n\\n\\u041d\\u0435\\u0432\\u0437\\u043e\\u0440\\u0432\\u0430\\u0432\\u0448\\u0435\\u0435\\u0441\\u044f \\u0443\\u0441\\u0442\\u0440\\u043e\\u0439\\u0441\\u0442\\u0432\\u043e \\u0431\\u044b\\u043b\\u043e \\u043f\\u0440\\u043e\\u0442\\u0435\\u0441\\u0442\\u0438\\u0440\\u043e\\u0432\\u0430\\u043d\\u043e \\u043d\\u0430 \\u043e\\u0442\\u043f\\u0435\\u0447\\u0430\\u0442\\u043a\\u0438 \\u043f\\u0430\\u043b\\u044c\\u0446\\u0435\\u0432, \\u0432 \\u0440\\u0435\\u0437\\u0443\\u043b\\u044c\\u0442\\u0430\\u0442\\u0435 \\u0447\\u0435\\u0433\\u043e, \\u0441\\u043e\\u0433\\u043b\\u0430\\u0441\\u043d\\u043e \\u043c\\u0430\\u0442\\u0435\\u0440\\u0438\\u0430\\u043b\\u0430\\u043c \\u0441\\u043b\\u0435\\u0434\\u0441\\u0442\\u0432\\u0438\\u044f, \\u0431\\u044b\\u043b\\u043e \\u043d\\u0430\\u0439\\u0434\\u0435\\u043d\\u043e 12 \\u043e\\u0442\\u043f\\u0435\\u0447\\u0430\\u0442\\u043a\\u043e\\u0432 \\u043f\\u0430\\u043b\\u044c\\u0446\\u0435\\u0432 \\u0420\\u0430\\u0445\\u0430\\u043c\\u0438. \\u041e\\u0442\\u043f\\u0435\\u0447\\u0430\\u0442\\u043a\\u0438 \\u043f\\u0430\\u043b\\u044c\\u0446\\u0435\\u0432 \\u043f\\u043e\\u0434\\u043e\\u0437\\u0440\\u0435\\u0432\\u0430\\u0435\\u043c\\u043e\\u0433\\u043e \\u0431\\u044b\\u043b\\u0438 \\u0442\\u0430\\u043a\\u0436\\u0435 \\u043e\\u0431\\u043d\\u0430\\u0440\\u0443\\u0436\\u0435\\u043d\\u044b \\u043d\\u0430 \\u043f\\u0440\\u0435\\u0434\\u043c\\u0435\\u0442\\u0430\\u0445 \\u0432\\u043d\\u0443\\u0442\\u0440\\u0438 \\u0440\\u044e\\u043a\\u0437\\u0430\\u043a\\u0430, \\u043a\\u043e\\u0442\\u043e\\u0440\\u044b\\u0439 \\u0431\\u044b\\u043b \\u043d\\u0430\\u0439\\u0434\\u0435\\u043d \\u0432 \\u0432\\u043e\\u0441\\u043a\\u0440\\u0435\\u0441\\u0435\\u043d\\u044c\\u0435 \\u0432\\u0435\\u0447\\u0435\\u0440\\u043e\\u043c \\u043d\\u0430 \\u0432\\u043e\\u043a\\u0437\\u0430\\u043b\\u0435 \\u0432 \\u0433\\u043e\\u0440\\u043e\\u0434\\u0435 \\u042d\\u043b\\u0438\\u0437\\u0430\\u0431\\u0435\\u0442, \\u0448\\u0442\\u0430\\u0442 \\u041d\\u044c\\u044e-\\u0414\\u0436\\u0435\\u0440\\u0441\\u0438, \\u043d\\u0435\\u0434\\u0430\\u043b\\u0435\\u043a\\u043e \\u043e\\u0442 \\u041d\\u044c\\u044e-\\u0419\\u043e\\u0440\\u043a\\u0430. \\u0412 \\u0440\\u044e\\u043a\\u0437\\u0430\\u043a\\u0435 \\u0431\\u044b\\u043b\\u043e \\u043d\\u0435\\u0441\\u043a\\u043e\\u043b\\u044c\\u043a\\u043e \\u0432\\u0437\\u0440\\u044b\\u0432\\u043d\\u044b\\u0445 \\u0443\\u0441\\u0442\\u0440\\u043e\\u0439\\u0441\\u0442\\u0432, \\u043e\\u0434\\u043d\\u043e \\u0438\\u0437 \\u043a\\u043e\\u0442\\u043e\\u0440\\u044b\\u0445 \\u0432\\u0437\\u043e\\u0440\\u0432\\u0430\\u043b\\u043e\\u0441\\u044c, \\u043a\\u043e\\u0433\\u0434\\u0430 \\u043f\\u043e\\u043b\\u0438\\u0446\\u0438\\u044f \\u043f\\u044b\\u0442\\u0430\\u043b\\u0430\\u0441\\u044c \\u043e\\u0431\\u0435\\u0437\\u0432\\u0440\\u0435\\u0434\\u0438\\u0442\\u044c \\u0435\\u0433\\u043e \\u043f\\u0440\\u0438 \\u043f\\u043e\\u043c\\u043e\\u0449\\u0438 \\u0441\\u043f\\u0435\\u0446\\u0438\\u0430\\u043b\\u044c\\u043d\\u043e\\u0433\\u043e \\u0440\\u043e\\u0431\\u043e\\u0442\\u0430.\\n\\n\\u0412\\u043b\\u0430\\u0441\\u0442\\u0438 \\u0442\\u0430\\u043a\\u0436\\u0435 \\u0441\\u0432\\u044f\\u0437\\u044b\\u0432\\u0430\\u044e\\u0442 \\u0420\\u0430\\u0445\\u0430\\u043c\\u0438 \\u0441\\u043e \\u0432\\u0437\\u0440\\u044b\\u0432\\u043e\\u043c \\u0431\\u043e\\u043c\\u0431\\u044b \\u0432 \\u043c\\u0443\\u0441\\u043e\\u0440\\u043d\\u043e\\u0439 \\u043a\\u043e\\u0440\\u0437\\u0438\\u043d\\u0435, \\u043f\\u0440\\u043e\\u0438\\u0437\\u043e\\u0448\\u0435\\u0434\\u0448\\u0435\\u043c \\u0432 \\u0433\\u043e\\u0440\\u043e\\u0434\\u0435 \\u0421\\u0438\\u0441\\u0430\\u0439\\u0434 \\u041f\\u0430\\u0440\\u043a, \\u0448\\u0442\\u0430\\u0442 \\u041d\\u044c\\u044e-\\u0414\\u0436\\u0435\\u0440\\u0441\\u0438 \\u0432 \\u0441\\u0443\\u0431\\u0431\\u043e\\u0442\\u0443 \\u0443\\u0442\\u0440\\u043e\\u043c.\\n\",\n          \"\\u0421\\u0442\\u0443\\u0434\\u0435\\u043d\\u0442 \\u0420\\u0413\\u0423 \\u0438\\u043c \\u041a\\u043e\\u0441\\u044b\\u0433\\u0438\\u043d\\u0430 \\u043f\\u0440\\u0438\\u0437\\u043d\\u0430\\u043b, \\u0447\\u0442\\u043e \\u043a\\u0438\\u043d\\u0443\\u043b \\u0434\\u0432\\u0435 \\u043f\\u0443\\u0441\\u0442\\u044b\\u0435 \\u043f\\u043b\\u0430\\u0441\\u0442\\u0438\\u043a\\u043e\\u0432\\u044b\\u0435 \\u0431\\u0443\\u0442\\u044b\\u043b\\u043a\\u0438 \\u0432 \\u0441\\u043e\\u0442\\u0440\\u0443\\u0434\\u043d\\u0438\\u043a\\u043e\\u0432 \\u043f\\u0440\\u0430\\u0432\\u043e\\u043f\\u043e\\u0440\\u044f\\u0434\\u043a\\u0430\\n\\u0412\\u0430\\u043b\\u0435\\u0440\\u0438\\u0439 \\u041a\\u043e\\u0441\\u0442\\u0435\\u043d\\u043e\\u043a\\n\\u0421\\u0442\\u0443\\u0434\\u0435\\u043d\\u0442 \\u0420\\u0413\\u0423 \\u0438\\u043c \\u041a\\u043e\\u0441\\u044b\\u0433\\u0438\\u043d\\u0430 20-\\u043b\\u0435\\u0442\\u043d\\u0438\\u0439 \\u0432\\u043e\\u043b\\u043e\\u043d\\u0442\\u0451\\u0440 \\u0448\\u0442\\u0430\\u0431\\u0430 \\u043d\\u0435\\u0437\\u0430\\u0440\\u0435\\u0433\\u0438\\u0441\\u0442\\u0440\\u0438\\u0440\\u043e\\u0432\\u0430\\u043d\\u043d\\u043e\\u0433\\u043e \\u043a\\u0430\\u043d\\u0434\\u0438\\u0434\\u0430\\u0442\\u0430 \\u0432 \\u0434\\u0435\\u043f\\u0443\\u0442\\u0430\\u0442\\u044b \\u041c\\u0413\\u0414 7-\\u0433\\u043e \\u0441\\u043e\\u0437\\u044b\\u0432\\u0430 \\u041a\\u0438\\u0440\\u0438\\u043b\\u043b\\u0430 \\u0413\\u043e\\u043d\\u0447\\u0430\\u0440\\u043e\\u0432\\u0430 \\u0412\\u0430\\u043b\\u0435\\u0440\\u0438\\u0439 \\u041a\\u043e\\u0441\\u0442\\u0435\\u043d\\u043e\\u043a \\u043e\\u0442\\u043f\\u0440\\u0430\\u0432\\u043b\\u0435\\u043d 12 \\u0430\\u0432\\u0433\\u0443\\u0441\\u0442\\u0430 \\u0411\\u0430\\u0441\\u043c\\u0430\\u043d\\u043d\\u044b\\u043c \\u0441\\u0443\\u0434\\u043e\\u043c \\u0432 \\u0421\\u0418\\u0417\\u041e \\u043d\\u0430 2 \\u043c\\u0435\\u0441\\u044f\\u0446\\u0430. \\u0420\\u0430\\u043d\\u0435\\u0435 \\u0441\\u0442\\u0430\\u043b\\u043e \\u0438\\u0437\\u0432\\u0435\\u0441\\u0442\\u043d\\u043e, \\u0447\\u0442\\u043e 11 \\u0430\\u0432\\u0433\\u0443\\u0441\\u0442\\u0430 \\u0432 \\u043a\\u0432\\u0430\\u0440\\u0442\\u0438\\u0440\\u0435 \\u0430\\u043a\\u0442\\u0438\\u0432\\u0438\\u0441\\u0442\\u0430 \\u043d\\u0430 \\u0412\\u0430\\u0440\\u0448\\u0430\\u0432\\u0441\\u043a\\u043e\\u043c \\u0448\\u043e\\u0441\\u0441\\u0435 \\u043f\\u0440\\u043e\\u0448\\u0451\\u043b \\u043e\\u0431\\u044b\\u0441\\u043a.\\n\\n\\u041d\\u0430 \\u0434\\u043e\\u043f\\u0440\\u043e\\u0441\\u0435 \\u041a\\u043e\\u0441\\u0442\\u0435\\u043d\\u043e\\u043a \\u043f\\u0440\\u0438\\u0437\\u043d\\u0430\\u043b, \\u0447\\u0442\\u043e 27 \\u0438\\u044e\\u043b\\u044f \\u043d\\u0430 \\u0443\\u043b\\u0438\\u0446\\u0435 \\u0420\\u043e\\u0436\\u0434\\u0435\\u0441\\u0442\\u0432\\u0435\\u043d\\u043a\\u0430 \\u043f\\u043e\\u0434\\u043e\\u0431\\u0440\\u0430\\u043b \\u043f\\u043b\\u0430\\u0441\\u0442\\u0438\\u043a\\u043e\\u0432\\u0443\\u044e \\u0431\\u0443\\u0442\\u044b\\u043b\\u043a\\u0443 \\u0438\\u0437 \\u043c\\u0443\\u0441\\u043e\\u0440\\u043d\\u043e\\u0433\\u043e \\u0431\\u0430\\u043a\\u0430, \\u043a\\u043e\\u0442\\u043e\\u0440\\u044b\\u0439 \\u0431\\u0440\\u043e\\u0441\\u0438\\u043b \\u0415\\u0432\\u0433\\u0435\\u043d\\u0438\\u0439 \\u041a\\u043e\\u0432\\u0430\\u043b\\u0435\\u043d\\u043a\\u043e \\u0432 \\u0431\\u043e\\u0439\\u0446\\u0430 \\u041d\\u0430\\u0446\\u0433\\u0432\\u0430\\u0440\\u0434\\u0438\\u0438, \\u0438 \\u0431\\u0440\\u043e\\u0441\\u0438\\u043b \\u0435\\u0451 \\u0432 \\u043f\\u043e\\u043b\\u0438\\u0446\\u0435\\u0439\\u0441\\u043a\\u043e\\u0433\\u043e \\u00ab\\u0431\\u0435\\u0437 \\u0446\\u0435\\u043b\\u0438 \\u043f\\u0440\\u0438\\u0447\\u0438\\u043d\\u0438\\u0442\\u044c \\u0432\\u0440\\u0435\\u0434 \\u0437\\u0434\\u043e\\u0440\\u043e\\u0432\\u044c\\u044e \\u043f\\u0440\\u0435\\u0434\\u0441\\u0442\\u0430\\u0432\\u0438\\u0442\\u0435\\u043b\\u044f \\u0432\\u043b\\u0430\\u0441\\u0442\\u0438\\u00bb; \\u043f\\u043e\\u0442\\u043e\\u043c \\u0431\\u0440\\u043e\\u0441\\u0438\\u043b \\u0434\\u0440\\u0443\\u0433\\u0443\\u044e \\u043f\\u043b\\u0430\\u0441\\u0442\\u0438\\u043a\\u043e\\u0432\\u0443\\u044e \\u0431\\u0443\\u0442\\u044b\\u043b\\u043a\\u0443 \\u0432 \\u0435\\u0449\\u0451 \\u043e\\u0434\\u043d\\u043e\\u0433\\u043e \\u043f\\u043e\\u043b\\u0438\\u0446\\u0435\\u0439\\u0441\\u043a\\u043e\\u0433\\u043e. \\u041e\\u0434\\u043d\\u0430 \\u0438\\u0437 \\u043d\\u0438\\u0445 \\u043f\\u043e\\u043f\\u0430\\u043b\\u0430 \\u0432 \\u043a\\u0430\\u0441\\u043a\\u0443. \\u00ab\\u0414\\u0443\\u043c\\u0430\\u044e, \\u0447\\u0442\\u043e \\u043e\\u0442 \\u043c\\u043e\\u0438\\u0445 \\u0434\\u0435\\u0439\\u0441\\u0442\\u0432\\u0438\\u0439 \\u0438\\u0441\\u043f\\u044b\\u0442\\u0430\\u0442\\u044c \\u0431\\u043e\\u043b\\u044c \\u0441\\u043e\\u0442\\u0440\\u0443\\u0434\\u043d\\u0438\\u043a\\u0438 \\u043f\\u043e\\u043b\\u0438\\u0446\\u0438\\u0438 \\u043d\\u0435 \\u043c\\u043e\\u0433\\u043b\\u0438. \\u041c\\u043e\\u0438 \\u0434\\u0435\\u0439\\u0441\\u0442\\u0432\\u0438\\u044f \\u0431\\u044b\\u043b\\u0438 \\u0432\\u044b\\u0437\\u0432\\u0430\\u043d\\u044b \\u044d\\u043c\\u043e\\u0446\\u0438\\u043e\\u043d\\u0430\\u043b\\u044c\\u043d\\u044b\\u043c \\u0438 \\u043d\\u0435\\u043e\\u043f\\u0440\\u0430\\u0432\\u0434\\u0430\\u043d\\u043d\\u044b\\u043c \\u043f\\u043e\\u0432\\u0435\\u0434\\u0435\\u043d\\u0438\\u0435\\u043c \\u0441 \\u043c\\u043e\\u0435\\u0439 \\u0441\\u0442\\u043e\\u0440\\u043e\\u043d\\u044b. \\u0412 \\u0447\\u0435\\u043c \\u044f \\u0440\\u0430\\u0441\\u043a\\u0430\\u0438\\u0432\\u0430\\u044e\\u0441\\u044c \\u0438 \\u043f\\u0440\\u0438\\u043d\\u043e\\u0448\\u0443 \\u0438\\u0437\\u0432\\u0438\\u043d\\u0435\\u043d\\u0438\\u044f\\u00bb, \\u2014 \\u0433\\u043e\\u0432\\u043e\\u0440\\u0438\\u043b \\u043e\\u043d \\u043d\\u0430 \\u0434\\u043e\\u043f\\u0440\\u043e\\u0441\\u0435.\\n\\n\\u041d\\u0435\\u0441\\u043c\\u043e\\u0442\\u0440\\u044f \\u043d\\u0430 \\u0442\\u043e, \\u0447\\u0442\\u043e \\u043f\\u0440\\u0435\\u0434\\u0441\\u0442\\u0430\\u0432\\u0438\\u0442\\u0435\\u043b\\u044c \\u043e\\u0431\\u0432\\u0438\\u043d\\u0435\\u043d\\u0438\\u044f \\u0442\\u0440\\u0435\\u0431\\u043e\\u0432\\u0430\\u043b \\u043c\\u0435\\u0440\\u0443 \\u043f\\u0440\\u0435\\u0441\\u0435\\u0447\\u0435\\u043d\\u0438\\u044f \\u0432 \\u0432\\u0438\\u0434\\u0435 \\u0434\\u043e\\u043c\\u0430\\u0448\\u043d\\u0435\\u0433\\u043e \\u0430\\u0440\\u0435\\u0441\\u0442\\u0430 (\\u0442\\u043e\\u0433\\u043e \\u0436\\u0435 \\u0442\\u0440\\u0435\\u0431\\u043e\\u0432\\u0430\\u043b \\u0438 \\u0430\\u0434\\u0432\\u043e\\u043a\\u0430\\u0442 \\u043e\\u0431\\u0432\\u0438\\u043d\\u044f\\u0435\\u043c\\u043e\\u0433\\u043e \\u0438 \\u0441\\u0430\\u043c \\u0430\\u043a\\u0442\\u0438\\u0432\\u0438\\u0441\\u0442) \\u0441\\u0443\\u0434\\u044c\\u044f \\u043f\\u0440\\u0438\\u043d\\u044f\\u043b\\u0430 \\u0440\\u0435\\u0448\\u0435\\u043d\\u0438\\u0435 \\u043e\\u0431 \\u0430\\u0440\\u0435\\u0441\\u0442\\u0435 \\u0447\\u043b\\u0435\\u043d\\u0430 \\u043f\\u0430\\u0440\\u0442\\u0438\\u0438 \\u00ab\\u042f\\u0431\\u043b\\u043e\\u043a\\u043e\\u00bb \\u0434\\u043e 11 \\u043e\\u043a\\u0442\\u044f\\u0431\\u0440\\u044f.\\n\\n\\u041d\\u0430\\u043f\\u043e\\u043c\\u043d\\u0438\\u043c, \\u0447\\u0442\\u043e \\u0432 \\u0438\\u044e\\u043b\\u0435 \\u0438 \\u0430\\u0432\\u0433\\u0443\\u0441\\u0442\\u0435 2019 \\u0433\\u043e\\u0434\\u0430 \\u043f\\u043e \\u0441\\u0443\\u0431\\u0431\\u043e\\u0442\\u0430\\u043c \\u0432 \\u0446\\u0435\\u043d\\u0442\\u0440\\u0435 \\u0441\\u0442\\u043e\\u043b\\u0438\\u0446\\u044b \\u043f\\u0440\\u043e\\u0445\\u043e\\u0434\\u0438\\u043b\\u0438 \\u0441\\u043e\\u0433\\u043b\\u0430\\u0441\\u043e\\u0432\\u0430\\u043d\\u043d\\u044b\\u0435 \\u0438 \\u043d\\u0435\\u0441\\u043e\\u0433\\u043b\\u0430\\u0441\\u043e\\u0432\\u0430\\u043d\\u043d\\u044b\\u0435 \\u0430\\u043a\\u0446\\u0438\\u0438 \\u043f\\u0440\\u043e\\u0442\\u0435\\u0441\\u0442\\u0430 \\u0432 \\u0441\\u0432\\u044f\\u0437\\u0438 \\u0441 \\u043d\\u0435\\u0434\\u043e\\u043f\\u0443\\u0441\\u043a\\u043e\\u043c \\u043d\\u0435\\u0437\\u0430\\u0432\\u0438\\u0441\\u0438\\u043c\\u044b\\u0445 \\u043a\\u0430\\u043d\\u0434\\u0438\\u0434\\u0430\\u0442\\u043e\\u0432 \\u043d\\u0430 \\u0432\\u044b\\u0431\\u043e\\u0440\\u044b \\u041c\\u043e\\u0441\\u043a\\u043e\\u0432\\u0441\\u043a\\u043e\\u0439 \\u0433\\u043e\\u0440\\u043e\\u0434\\u0441\\u043a\\u043e\\u0439 \\u0434\\u0443\\u043c\\u044b \\u0441\\u0435\\u0434\\u044c\\u043c\\u043e\\u0433\\u043e \\u0441\\u043e\\u0437\\u044b\\u0432\\u0430. \\u041f\\u043e \\u0438\\u0442\\u043e\\u0433\\u0430\\u043c \\u0441\\u043e\\u0431\\u044b\\u0442\\u0438\\u0439 27 \\u0438\\u044e\\u043b\\u044f \\u0441\\u043b\\u0435\\u0434\\u0441\\u0442\\u0432\\u0435\\u043d\\u043d\\u044b\\u0439 \\u043a\\u043e\\u043c\\u0438\\u0442\\u0435\\u0442 \\u0432\\u043e\\u0437\\u0431\\u0443\\u0434\\u0438\\u043b \\u0434\\u0435\\u043b\\u0430 \\u043f\\u043e \\u0441\\u0442. 318 \\u0438 212 \\u0423\\u041a \\u0420\\u0424. \\u041a\\u043e\\u0441\\u0442\\u0435\\u043d\\u043e\\u043a \\u0441\\u0442\\u0430\\u043b 14-\\u043c \\u043e\\u0431\\u0432\\u0438\\u043d\\u044f\\u0435\\u043c\\u044b\\u043c \\u0432 \\u0440\\u0430\\u043c\\u043a\\u0430\\u0445 \\u044d\\u0442\\u043e\\u0433\\u043e \\u0434\\u0435\\u043b\\u0430. \\u0412 \\u0441\\u0432\\u043e\\u0438\\u0445 \\u043f\\u043e\\u043a\\u0430\\u0437\\u0430\\u043d\\u0438\\u044f\\u0445 \\u043e\\u043d \\u0444\\u0430\\u043a\\u0442\\u0438\\u0447\\u0435\\u0441\\u043a\\u0438 \\u0434\\u0430\\u043b \\u043f\\u0440\\u0438\\u0437\\u043d\\u0430\\u0442\\u0435\\u043b\\u044c\\u043d\\u044b\\u0435 \\u043f\\u043e\\u043a\\u0430\\u0437\\u0430\\u043d\\u0438\\u044f \\u043d\\u0435 \\u0442\\u043e\\u043b\\u044c\\u043a\\u043e \\u043d\\u0430 \\u0441\\u0435\\u0431\\u044f, \\u043d\\u043e \\u0438 \\u043d\\u0430 \\u0434\\u0440\\u0443\\u0433\\u043e\\u0433\\u043e \\u043e\\u0431\\u0432\\u0438\\u043d\\u044f\\u0435\\u043c\\u043e\\u0433\\u043e \\u2014 48-\\u043b\\u0435\\u0442\\u043d\\u0435\\u0433\\u043e \\u0415\\u0432\\u0433\\u0435\\u043d\\u0438\\u044f \\u041a\\u043e\\u0432\\u0430\\u043b\\u0435\\u043d\\u043a\\u043e.\\n\\n\\u0412 2017 \\u0433\\u043e\\u0434\\u0443 \\u041a\\u043e\\u0441\\u0442\\u0435\\u043d\\u043e\\u043a \\u0431\\u0430\\u043b\\u043b\\u043e\\u0442\\u0438\\u0440\\u043e\\u0432\\u0430\\u043b\\u0441\\u044f \\u0432 \\u043c\\u0443\\u043d\\u0438\\u0446\\u0438\\u043f\\u0430\\u043b\\u044c\\u043d\\u044b\\u0435 \\u0434\\u0435\\u043f\\u0443\\u0442\\u0430\\u0442\\u044b \\u0414\\u043e\\u043d\\u0441\\u043a\\u043e\\u0433\\u043e \\u0440\\u0430\\u0439\\u043e\\u043d\\u0430 \\u041c\\u043e\\u0441\\u043a\\u0432\\u044b \\u0438 \\u043d\\u0430\\u0431\\u0440\\u0430\\u043b 253 \\u0433\\u043e\\u043b\\u043e\\u0441\\u0430.\\n\"\n        ],\n        \"semantic_type\": \"\",\n        \"description\": \"\"\n      }\n    },\n    {\n      \"column\": \"entities\",\n      \"properties\": {\n        \"dtype\": \"object\",\n        \"semantic_type\": \"\",\n        \"description\": \"\"\n      }\n    },\n    {\n      \"column\": \"parsed_entities\",\n      \"properties\": {\n        \"dtype\": \"object\",\n        \"semantic_type\": \"\",\n        \"description\": \"\"\n      }\n    }\n  ]\n}"
            }
          },
          "metadata": {},
          "execution_count": 13
        }
      ],
      "source": [
        "train_exploded = train.explode('parsed_entities').reset_index(drop = True)\n",
        "train_exploded"
      ]
    },
    {
      "cell_type": "code",
      "execution_count": null,
      "metadata": {
        "colab": {
          "base_uri": "https://localhost:8080/",
          "height": 423
        },
        "id": "2ky2mmyinyZz",
        "outputId": "fc4afb80-20c4-4ea7-8103-2dac3886799a"
      },
      "outputs": [
        {
          "output_type": "execute_result",
          "data": {
            "text/plain": [
              "                                                    text   entity_type  \\\n",
              "0      Пулеметы, автоматы и снайперские винтовки изъя...   NATIONALITY   \n",
              "1      Пулеметы, автоматы и снайперские винтовки изъя...          CITY   \n",
              "2      Пулеметы, автоматы и снайперские винтовки изъя...          DATE   \n",
              "3      Пулеметы, автоматы и снайперские винтовки изъя...       COUNTRY   \n",
              "4      Пулеметы, автоматы и снайперские винтовки изъя...  ORGANIZATION   \n",
              "...                                                  ...           ...   \n",
              "56250  Умер Эдуард Лимонов\\nЭдуард Лимонов\\nВо вторни...        PERSON   \n",
              "56251  Умер Эдуард Лимонов\\nЭдуард Лимонов\\nВо вторни...        PERSON   \n",
              "56252  Умер Эдуард Лимонов\\nЭдуард Лимонов\\nВо вторни...      LOCATION   \n",
              "56253  Умер Эдуард Лимонов\\nЭдуард Лимонов\\nВо вторни...   WORK_OF_ART   \n",
              "56254  Умер Эдуард Лимонов\\nЭдуард Лимонов\\nВо вторни...      LANGUAGE   \n",
              "\n",
              "       start_pos  end_pos                         entity_text  \n",
              "0             62       74                        американцами  \n",
              "1             82       89                             Бишкеке  \n",
              "2            117      126                           5 августа  \n",
              "3            136      142                              Грузия  \n",
              "4            145      179  Правоохранительные органы Киргизии  \n",
              "...          ...      ...                                 ...  \n",
              "56250        901      909                            Молотова  \n",
              "56251        910      921                         Риббентропа  \n",
              "56252        958      964                              восток  \n",
              "56253       1103     1122                 Старик путешествует  \n",
              "56254        733      748                     русскоговорящие  \n",
              "\n",
              "[56255 rows x 5 columns]"
            ],
            "text/html": [
              "\n",
              "  <div id=\"df-f49f95f3-c37e-4445-a16d-761a6169fa17\" class=\"colab-df-container\">\n",
              "    <div>\n",
              "<style scoped>\n",
              "    .dataframe tbody tr th:only-of-type {\n",
              "        vertical-align: middle;\n",
              "    }\n",
              "\n",
              "    .dataframe tbody tr th {\n",
              "        vertical-align: top;\n",
              "    }\n",
              "\n",
              "    .dataframe thead th {\n",
              "        text-align: right;\n",
              "    }\n",
              "</style>\n",
              "<table border=\"1\" class=\"dataframe\">\n",
              "  <thead>\n",
              "    <tr style=\"text-align: right;\">\n",
              "      <th></th>\n",
              "      <th>text</th>\n",
              "      <th>entity_type</th>\n",
              "      <th>start_pos</th>\n",
              "      <th>end_pos</th>\n",
              "      <th>entity_text</th>\n",
              "    </tr>\n",
              "  </thead>\n",
              "  <tbody>\n",
              "    <tr>\n",
              "      <th>0</th>\n",
              "      <td>Пулеметы, автоматы и снайперские винтовки изъя...</td>\n",
              "      <td>NATIONALITY</td>\n",
              "      <td>62</td>\n",
              "      <td>74</td>\n",
              "      <td>американцами</td>\n",
              "    </tr>\n",
              "    <tr>\n",
              "      <th>1</th>\n",
              "      <td>Пулеметы, автоматы и снайперские винтовки изъя...</td>\n",
              "      <td>CITY</td>\n",
              "      <td>82</td>\n",
              "      <td>89</td>\n",
              "      <td>Бишкеке</td>\n",
              "    </tr>\n",
              "    <tr>\n",
              "      <th>2</th>\n",
              "      <td>Пулеметы, автоматы и снайперские винтовки изъя...</td>\n",
              "      <td>DATE</td>\n",
              "      <td>117</td>\n",
              "      <td>126</td>\n",
              "      <td>5 августа</td>\n",
              "    </tr>\n",
              "    <tr>\n",
              "      <th>3</th>\n",
              "      <td>Пулеметы, автоматы и снайперские винтовки изъя...</td>\n",
              "      <td>COUNTRY</td>\n",
              "      <td>136</td>\n",
              "      <td>142</td>\n",
              "      <td>Грузия</td>\n",
              "    </tr>\n",
              "    <tr>\n",
              "      <th>4</th>\n",
              "      <td>Пулеметы, автоматы и снайперские винтовки изъя...</td>\n",
              "      <td>ORGANIZATION</td>\n",
              "      <td>145</td>\n",
              "      <td>179</td>\n",
              "      <td>Правоохранительные органы Киргизии</td>\n",
              "    </tr>\n",
              "    <tr>\n",
              "      <th>...</th>\n",
              "      <td>...</td>\n",
              "      <td>...</td>\n",
              "      <td>...</td>\n",
              "      <td>...</td>\n",
              "      <td>...</td>\n",
              "    </tr>\n",
              "    <tr>\n",
              "      <th>56250</th>\n",
              "      <td>Умер Эдуард Лимонов\\nЭдуард Лимонов\\nВо вторни...</td>\n",
              "      <td>PERSON</td>\n",
              "      <td>901</td>\n",
              "      <td>909</td>\n",
              "      <td>Молотова</td>\n",
              "    </tr>\n",
              "    <tr>\n",
              "      <th>56251</th>\n",
              "      <td>Умер Эдуард Лимонов\\nЭдуард Лимонов\\nВо вторни...</td>\n",
              "      <td>PERSON</td>\n",
              "      <td>910</td>\n",
              "      <td>921</td>\n",
              "      <td>Риббентропа</td>\n",
              "    </tr>\n",
              "    <tr>\n",
              "      <th>56252</th>\n",
              "      <td>Умер Эдуард Лимонов\\nЭдуард Лимонов\\nВо вторни...</td>\n",
              "      <td>LOCATION</td>\n",
              "      <td>958</td>\n",
              "      <td>964</td>\n",
              "      <td>восток</td>\n",
              "    </tr>\n",
              "    <tr>\n",
              "      <th>56253</th>\n",
              "      <td>Умер Эдуард Лимонов\\nЭдуард Лимонов\\nВо вторни...</td>\n",
              "      <td>WORK_OF_ART</td>\n",
              "      <td>1103</td>\n",
              "      <td>1122</td>\n",
              "      <td>Старик путешествует</td>\n",
              "    </tr>\n",
              "    <tr>\n",
              "      <th>56254</th>\n",
              "      <td>Умер Эдуард Лимонов\\nЭдуард Лимонов\\nВо вторни...</td>\n",
              "      <td>LANGUAGE</td>\n",
              "      <td>733</td>\n",
              "      <td>748</td>\n",
              "      <td>русскоговорящие</td>\n",
              "    </tr>\n",
              "  </tbody>\n",
              "</table>\n",
              "<p>56255 rows × 5 columns</p>\n",
              "</div>\n",
              "    <div class=\"colab-df-buttons\">\n",
              "\n",
              "  <div class=\"colab-df-container\">\n",
              "    <button class=\"colab-df-convert\" onclick=\"convertToInteractive('df-f49f95f3-c37e-4445-a16d-761a6169fa17')\"\n",
              "            title=\"Convert this dataframe to an interactive table.\"\n",
              "            style=\"display:none;\">\n",
              "\n",
              "  <svg xmlns=\"http://www.w3.org/2000/svg\" height=\"24px\" viewBox=\"0 -960 960 960\">\n",
              "    <path d=\"M120-120v-720h720v720H120Zm60-500h600v-160H180v160Zm220 220h160v-160H400v160Zm0 220h160v-160H400v160ZM180-400h160v-160H180v160Zm440 0h160v-160H620v160ZM180-180h160v-160H180v160Zm440 0h160v-160H620v160Z\"/>\n",
              "  </svg>\n",
              "    </button>\n",
              "\n",
              "  <style>\n",
              "    .colab-df-container {\n",
              "      display:flex;\n",
              "      gap: 12px;\n",
              "    }\n",
              "\n",
              "    .colab-df-convert {\n",
              "      background-color: #E8F0FE;\n",
              "      border: none;\n",
              "      border-radius: 50%;\n",
              "      cursor: pointer;\n",
              "      display: none;\n",
              "      fill: #1967D2;\n",
              "      height: 32px;\n",
              "      padding: 0 0 0 0;\n",
              "      width: 32px;\n",
              "    }\n",
              "\n",
              "    .colab-df-convert:hover {\n",
              "      background-color: #E2EBFA;\n",
              "      box-shadow: 0px 1px 2px rgba(60, 64, 67, 0.3), 0px 1px 3px 1px rgba(60, 64, 67, 0.15);\n",
              "      fill: #174EA6;\n",
              "    }\n",
              "\n",
              "    .colab-df-buttons div {\n",
              "      margin-bottom: 4px;\n",
              "    }\n",
              "\n",
              "    [theme=dark] .colab-df-convert {\n",
              "      background-color: #3B4455;\n",
              "      fill: #D2E3FC;\n",
              "    }\n",
              "\n",
              "    [theme=dark] .colab-df-convert:hover {\n",
              "      background-color: #434B5C;\n",
              "      box-shadow: 0px 1px 3px 1px rgba(0, 0, 0, 0.15);\n",
              "      filter: drop-shadow(0px 1px 2px rgba(0, 0, 0, 0.3));\n",
              "      fill: #FFFFFF;\n",
              "    }\n",
              "  </style>\n",
              "\n",
              "    <script>\n",
              "      const buttonEl =\n",
              "        document.querySelector('#df-f49f95f3-c37e-4445-a16d-761a6169fa17 button.colab-df-convert');\n",
              "      buttonEl.style.display =\n",
              "        google.colab.kernel.accessAllowed ? 'block' : 'none';\n",
              "\n",
              "      async function convertToInteractive(key) {\n",
              "        const element = document.querySelector('#df-f49f95f3-c37e-4445-a16d-761a6169fa17');\n",
              "        const dataTable =\n",
              "          await google.colab.kernel.invokeFunction('convertToInteractive',\n",
              "                                                    [key], {});\n",
              "        if (!dataTable) return;\n",
              "\n",
              "        const docLinkHtml = 'Like what you see? Visit the ' +\n",
              "          '<a target=\"_blank\" href=https://colab.research.google.com/notebooks/data_table.ipynb>data table notebook</a>'\n",
              "          + ' to learn more about interactive tables.';\n",
              "        element.innerHTML = '';\n",
              "        dataTable['output_type'] = 'display_data';\n",
              "        await google.colab.output.renderOutput(dataTable, element);\n",
              "        const docLink = document.createElement('div');\n",
              "        docLink.innerHTML = docLinkHtml;\n",
              "        element.appendChild(docLink);\n",
              "      }\n",
              "    </script>\n",
              "  </div>\n",
              "\n",
              "\n",
              "<div id=\"df-c90dffe3-fb4c-4ab3-b22c-a986a1297c6b\">\n",
              "  <button class=\"colab-df-quickchart\" onclick=\"quickchart('df-c90dffe3-fb4c-4ab3-b22c-a986a1297c6b')\"\n",
              "            title=\"Suggest charts\"\n",
              "            style=\"display:none;\">\n",
              "\n",
              "<svg xmlns=\"http://www.w3.org/2000/svg\" height=\"24px\"viewBox=\"0 0 24 24\"\n",
              "     width=\"24px\">\n",
              "    <g>\n",
              "        <path d=\"M19 3H5c-1.1 0-2 .9-2 2v14c0 1.1.9 2 2 2h14c1.1 0 2-.9 2-2V5c0-1.1-.9-2-2-2zM9 17H7v-7h2v7zm4 0h-2V7h2v10zm4 0h-2v-4h2v4z\"/>\n",
              "    </g>\n",
              "</svg>\n",
              "  </button>\n",
              "\n",
              "<style>\n",
              "  .colab-df-quickchart {\n",
              "      --bg-color: #E8F0FE;\n",
              "      --fill-color: #1967D2;\n",
              "      --hover-bg-color: #E2EBFA;\n",
              "      --hover-fill-color: #174EA6;\n",
              "      --disabled-fill-color: #AAA;\n",
              "      --disabled-bg-color: #DDD;\n",
              "  }\n",
              "\n",
              "  [theme=dark] .colab-df-quickchart {\n",
              "      --bg-color: #3B4455;\n",
              "      --fill-color: #D2E3FC;\n",
              "      --hover-bg-color: #434B5C;\n",
              "      --hover-fill-color: #FFFFFF;\n",
              "      --disabled-bg-color: #3B4455;\n",
              "      --disabled-fill-color: #666;\n",
              "  }\n",
              "\n",
              "  .colab-df-quickchart {\n",
              "    background-color: var(--bg-color);\n",
              "    border: none;\n",
              "    border-radius: 50%;\n",
              "    cursor: pointer;\n",
              "    display: none;\n",
              "    fill: var(--fill-color);\n",
              "    height: 32px;\n",
              "    padding: 0;\n",
              "    width: 32px;\n",
              "  }\n",
              "\n",
              "  .colab-df-quickchart:hover {\n",
              "    background-color: var(--hover-bg-color);\n",
              "    box-shadow: 0 1px 2px rgba(60, 64, 67, 0.3), 0 1px 3px 1px rgba(60, 64, 67, 0.15);\n",
              "    fill: var(--button-hover-fill-color);\n",
              "  }\n",
              "\n",
              "  .colab-df-quickchart-complete:disabled,\n",
              "  .colab-df-quickchart-complete:disabled:hover {\n",
              "    background-color: var(--disabled-bg-color);\n",
              "    fill: var(--disabled-fill-color);\n",
              "    box-shadow: none;\n",
              "  }\n",
              "\n",
              "  .colab-df-spinner {\n",
              "    border: 2px solid var(--fill-color);\n",
              "    border-color: transparent;\n",
              "    border-bottom-color: var(--fill-color);\n",
              "    animation:\n",
              "      spin 1s steps(1) infinite;\n",
              "  }\n",
              "\n",
              "  @keyframes spin {\n",
              "    0% {\n",
              "      border-color: transparent;\n",
              "      border-bottom-color: var(--fill-color);\n",
              "      border-left-color: var(--fill-color);\n",
              "    }\n",
              "    20% {\n",
              "      border-color: transparent;\n",
              "      border-left-color: var(--fill-color);\n",
              "      border-top-color: var(--fill-color);\n",
              "    }\n",
              "    30% {\n",
              "      border-color: transparent;\n",
              "      border-left-color: var(--fill-color);\n",
              "      border-top-color: var(--fill-color);\n",
              "      border-right-color: var(--fill-color);\n",
              "    }\n",
              "    40% {\n",
              "      border-color: transparent;\n",
              "      border-right-color: var(--fill-color);\n",
              "      border-top-color: var(--fill-color);\n",
              "    }\n",
              "    60% {\n",
              "      border-color: transparent;\n",
              "      border-right-color: var(--fill-color);\n",
              "    }\n",
              "    80% {\n",
              "      border-color: transparent;\n",
              "      border-right-color: var(--fill-color);\n",
              "      border-bottom-color: var(--fill-color);\n",
              "    }\n",
              "    90% {\n",
              "      border-color: transparent;\n",
              "      border-bottom-color: var(--fill-color);\n",
              "    }\n",
              "  }\n",
              "</style>\n",
              "\n",
              "  <script>\n",
              "    async function quickchart(key) {\n",
              "      const quickchartButtonEl =\n",
              "        document.querySelector('#' + key + ' button');\n",
              "      quickchartButtonEl.disabled = true;  // To prevent multiple clicks.\n",
              "      quickchartButtonEl.classList.add('colab-df-spinner');\n",
              "      try {\n",
              "        const charts = await google.colab.kernel.invokeFunction(\n",
              "            'suggestCharts', [key], {});\n",
              "      } catch (error) {\n",
              "        console.error('Error during call to suggestCharts:', error);\n",
              "      }\n",
              "      quickchartButtonEl.classList.remove('colab-df-spinner');\n",
              "      quickchartButtonEl.classList.add('colab-df-quickchart-complete');\n",
              "    }\n",
              "    (() => {\n",
              "      let quickchartButtonEl =\n",
              "        document.querySelector('#df-c90dffe3-fb4c-4ab3-b22c-a986a1297c6b button');\n",
              "      quickchartButtonEl.style.display =\n",
              "        google.colab.kernel.accessAllowed ? 'block' : 'none';\n",
              "    })();\n",
              "  </script>\n",
              "</div>\n",
              "\n",
              "  <div id=\"id_6b36cbee-7b51-49b5-bf70-d089374d8e8b\">\n",
              "    <style>\n",
              "      .colab-df-generate {\n",
              "        background-color: #E8F0FE;\n",
              "        border: none;\n",
              "        border-radius: 50%;\n",
              "        cursor: pointer;\n",
              "        display: none;\n",
              "        fill: #1967D2;\n",
              "        height: 32px;\n",
              "        padding: 0 0 0 0;\n",
              "        width: 32px;\n",
              "      }\n",
              "\n",
              "      .colab-df-generate:hover {\n",
              "        background-color: #E2EBFA;\n",
              "        box-shadow: 0px 1px 2px rgba(60, 64, 67, 0.3), 0px 1px 3px 1px rgba(60, 64, 67, 0.15);\n",
              "        fill: #174EA6;\n",
              "      }\n",
              "\n",
              "      [theme=dark] .colab-df-generate {\n",
              "        background-color: #3B4455;\n",
              "        fill: #D2E3FC;\n",
              "      }\n",
              "\n",
              "      [theme=dark] .colab-df-generate:hover {\n",
              "        background-color: #434B5C;\n",
              "        box-shadow: 0px 1px 3px 1px rgba(0, 0, 0, 0.15);\n",
              "        filter: drop-shadow(0px 1px 2px rgba(0, 0, 0, 0.3));\n",
              "        fill: #FFFFFF;\n",
              "      }\n",
              "    </style>\n",
              "    <button class=\"colab-df-generate\" onclick=\"generateWithVariable('train_exploded')\"\n",
              "            title=\"Generate code using this dataframe.\"\n",
              "            style=\"display:none;\">\n",
              "\n",
              "  <svg xmlns=\"http://www.w3.org/2000/svg\" height=\"24px\"viewBox=\"0 0 24 24\"\n",
              "       width=\"24px\">\n",
              "    <path d=\"M7,19H8.4L18.45,9,17,7.55,7,17.6ZM5,21V16.75L18.45,3.32a2,2,0,0,1,2.83,0l1.4,1.43a1.91,1.91,0,0,1,.58,1.4,1.91,1.91,0,0,1-.58,1.4L9.25,21ZM18.45,9,17,7.55Zm-12,3A5.31,5.31,0,0,0,4.9,8.1,5.31,5.31,0,0,0,1,6.5,5.31,5.31,0,0,0,4.9,4.9,5.31,5.31,0,0,0,6.5,1,5.31,5.31,0,0,0,8.1,4.9,5.31,5.31,0,0,0,12,6.5,5.46,5.46,0,0,0,6.5,12Z\"/>\n",
              "  </svg>\n",
              "    </button>\n",
              "    <script>\n",
              "      (() => {\n",
              "      const buttonEl =\n",
              "        document.querySelector('#id_6b36cbee-7b51-49b5-bf70-d089374d8e8b button.colab-df-generate');\n",
              "      buttonEl.style.display =\n",
              "        google.colab.kernel.accessAllowed ? 'block' : 'none';\n",
              "\n",
              "      buttonEl.onclick = () => {\n",
              "        google.colab.notebook.generateWithVariable('train_exploded');\n",
              "      }\n",
              "      })();\n",
              "    </script>\n",
              "  </div>\n",
              "\n",
              "    </div>\n",
              "  </div>\n"
            ],
            "application/vnd.google.colaboratory.intrinsic+json": {
              "type": "dataframe",
              "variable_name": "train_exploded",
              "summary": "{\n  \"name\": \"train_exploded\",\n  \"rows\": 56255,\n  \"fields\": [\n    {\n      \"column\": \"text\",\n      \"properties\": {\n        \"dtype\": \"category\",\n        \"num_unique_values\": 933,\n        \"samples\": [\n          \"\\u041f\\u043e\\u0436\\u0430\\u0440 \\u0432 \\u0427\\u0435\\u0440\\u043d\\u043e\\u0431\\u044b\\u043b\\u0435 \\u043b\\u043e\\u043a\\u0430\\u043b\\u0438\\u0437\\u043e\\u0432\\u0430\\u043d\\n\\u0427\\u0435\\u0440\\u043d\\u043e\\u0431\\u044b\\u043b\\u044c\\u0441\\u043a\\u0430\\u044f \\u0437\\u043e\\u043d\\u0430 \\u043e\\u0442\\u0447\\u0443\\u0436\\u0434\\u0435\\u043d\\u0438\\u044f\\n\\u0427\\u043b\\u0435\\u043d \\u043e\\u0431\\u0449\\u0435\\u0441\\u0442\\u0432\\u0435\\u043d\\u043d\\u043e\\u0433\\u043e \\u0441\\u043e\\u0432\\u0435\\u0442\\u0430 \\u043f\\u0440\\u0438 \\u0433\\u043e\\u0441\\u0443\\u0434\\u0430\\u0440\\u0441\\u0442\\u0432\\u0435\\u043d\\u043d\\u043e\\u043c \\u0430\\u0433\\u0435\\u043d\\u0442\\u0441\\u0442\\u0432\\u0435 \\u043f\\u043e \\u0443\\u043f\\u0440\\u0430\\u0432\\u043b\\u0435\\u043d\\u0438\\u044e \\u0437\\u043e\\u043d\\u043e\\u0439 \\u043e\\u0442\\u0447\\u0443\\u0436\\u0434\\u0435\\u043d\\u0438\\u044f \\u042f\\u0440\\u043e\\u0441\\u043b\\u0430\\u0432 \\u0415\\u043c\\u0435\\u043b\\u044c\\u044f\\u043d\\u0435\\u043d\\u043a\\u043e \\u0437\\u0430\\u044f\\u0432\\u0438\\u043b \\u043e \\u0442\\u043e\\u043c, \\u0447\\u0442\\u043e \\u043f\\u043e\\u0436\\u0430\\u0440 \\u0432 \\u0437\\u043e\\u043d\\u0435 \\u043e\\u0442\\u0447\\u0443\\u0436\\u0434\\u0435\\u043d\\u0438\\u044f \\u0430\\u0442\\u043e\\u043c\\u043d\\u043e\\u0439 \\u0441\\u0442\\u0430\\u043d\\u0446\\u0438\\u0438 \\u043b\\u043e\\u043a\\u0430\\u043b\\u0438\\u0437\\u043e\\u0432\\u0430\\u043d. \\u0420\\u0430\\u043d\\u0435\\u0435 \\u043e\\u043d \\u0441\\u043e\\u043e\\u0431\\u0449\\u0430\\u043b, \\u0447\\u0442\\u043e \\u043e\\u0433\\u043e\\u043d\\u044c \\u043f\\u043e\\u0447\\u0442\\u0438 \\u0434\\u043e\\u0441\\u0442\\u0438\\u0433 \\u0445\\u0440\\u0430\\u043d\\u0438\\u043b\\u0438\\u0449 \\u0441 \\u0440\\u0430\\u0434\\u0438\\u043e\\u0430\\u043a\\u0442\\u0438\\u0432\\u043d\\u044b\\u043c\\u0438 \\u043e\\u0442\\u0445\\u043e\\u0434\\u0430\\u043c\\u0438, \\u0430 \\u0443\\u0440\\u043e\\u0432\\u0435\\u043d\\u044c \\u0440\\u0430\\u0434\\u0438\\u0430\\u0446\\u0438\\u0438 \\u0431\\u044b\\u043b \\u043c\\u043d\\u043e\\u0433\\u043e\\u043a\\u0440\\u0430\\u0442\\u043d\\u043e \\u043f\\u0440\\u0435\\u0432\\u044b\\u0448\\u0435\\u043d.\\n\\n\\u042f\\u0440\\u043e\\u0441\\u043b\\u0430\\u0432 \\u043f\\u0438\\u0441\\u0430\\u043b, \\u0447\\u0442\\u043e \\u043e\\u0433\\u043e\\u043d\\u044c \\u0434\\u043e\\u0431\\u0440\\u0430\\u043b\\u0441\\u044f \\u0434\\u043e \\u041f\\u0440\\u0438\\u043f\\u044f\\u0442\\u0438 \\u0438 \\u043d\\u0430\\u0445\\u043e\\u0434\\u0438\\u043b\\u0441\\u044f \\u0432 \\u0434\\u0432\\u0443\\u0445 \\u043a\\u0438\\u043b\\u043e\\u043c\\u0435\\u0442\\u0440\\u0430\\u0445 \\u043e\\u0442 \\u0445\\u0440\\u0430\\u043d\\u0438\\u043b\\u0438\\u0449\\u0430 \\u00ab\\u041f\\u043e\\u0434\\u043b\\u0435\\u0441\\u043d\\u044b\\u0439\\u00bb. \\u041e\\u0433\\u043e\\u043d\\u044c \\u043d\\u0430\\u043f\\u0440\\u0430\\u0432\\u043b\\u044f\\u043b\\u0441\\u044f \\u0432 \\u0441\\u0442\\u043e\\u0440\\u043e\\u043d\\u0443 \\u0427\\u0435\\u0440\\u043d\\u043e\\u0431\\u044b\\u043b\\u044c\\u0441\\u043a\\u043e\\u0439 \\u0410\\u042d\\u0421, \\u0442\\u0430\\u043a \\u043a\\u0430\\u043a \\u043a \\u043d\\u0435\\u0439 \\u0434\\u0443\\u043b \\u0432\\u0435\\u0442\\u0435\\u0440.\\n\\n\\u041e\\u0433\\u043e\\u043d\\u044c \\u043d\\u0430 \\u0442\\u0435\\u0440\\u0440\\u0438\\u0442\\u043e\\u0440\\u0438\\u0438 \\u0437\\u043e\\u043d\\u044b \\u043e\\u0442\\u0447\\u0443\\u0436\\u0434\\u0435\\u043d\\u0438\\u044f \\u0431\\u0443\\u0448\\u0435\\u0432\\u0430\\u043b \\u0431\\u043e\\u043b\\u044c\\u0448\\u0435 \\u043d\\u0435\\u0434\\u0435\\u043b\\u0438. \\u0421\\u0433\\u043e\\u0440\\u0435\\u043b\\u0438 \\u043c\\u043d\\u043e\\u0433\\u0438\\u0435 \\u0431\\u044b\\u0432\\u0448\\u0438\\u0435 \\u0441\\u0435\\u043b\\u0430, \\u0440\\u0430\\u0441\\u043f\\u043e\\u043b\\u043e\\u0436\\u0435\\u043d\\u043d\\u044b\\u0435 \\u0440\\u044f\\u0434\\u043e\\u043c \\u0441 \\u0410\\u042d\\u0421, \\u0431\\u044b\\u043b \\u0443\\u043d\\u0438\\u0447\\u0442\\u043e\\u0436\\u0435\\u043d \\u0420\\u044b\\u0436\\u0438\\u0439 \\u043b\\u0435\\u0441. \\u0412 \\u0442\\u0443\\u0448\\u0435\\u043d\\u0438\\u0438 \\u043f\\u0440\\u0438\\u043d\\u0438\\u043c\\u0430\\u043b\\u0430 \\u0443\\u0447\\u0430\\u0441\\u0442\\u0438\\u0435 \\u0430\\u0432\\u0438\\u0430\\u0446\\u0438\\u044f.\\n\\n\\u041f\\u043e \\u0444\\u0430\\u043a\\u0442\\u0443 \\u043f\\u043e\\u0434\\u0436\\u043e\\u0433\\u0430 \\u0431\\u044b\\u043b \\u0437\\u0430\\u0434\\u0435\\u0440\\u0436\\u0430\\u043d 27-\\u043b\\u0435\\u0442\\u043d\\u0438\\u0439 \\u0436\\u0438\\u0442\\u0435\\u043b\\u044c \\u043e\\u0434\\u043d\\u043e\\u0433\\u043e \\u0438\\u0437 \\u0441\\u0451\\u043b \\u041a\\u0438\\u0435\\u0432\\u0441\\u043a\\u043e\\u0439 \\u043e\\u0431\\u043b\\u0430\\u0441\\u0442\\u0438. \\u041e\\u043d \\u0441\\u043a\\u0430\\u0437\\u0430\\u043b, \\u0447\\u0442\\u043e \\u043f\\u043e\\u0434\\u0436\\u0451\\u0433 \\u043c\\u0443\\u0441\\u043e\\u0440 \\u0438 \\u0442\\u0440\\u0430\\u0432\\u0443 \\u0432 \\u0442\\u0440\\u0451\\u0445 \\u043c\\u0435\\u0441\\u0442\\u0430\\u0445 \\u0440\\u0430\\u0434\\u0438 \\u0437\\u0430\\u0431\\u0430\\u0432\\u044b, \\u043f\\u043e\\u0441\\u043b\\u0435 \\u0447\\u0435\\u0433\\u043e \\u00ab\\u043e\\u0433\\u043e\\u043d\\u044c \\u0432\\u0435\\u0442\\u0440\\u043e\\u043c \\u043e\\u043f\\u0440\\u043e\\u043a\\u0438\\u043d\\u0443\\u043b\\u0441\\u044f \\u0434\\u0430\\u043b\\u044c\\u0448\\u0435\\u00bb.\\n\\n\\u0412\\u0441\\u0451 \\u044d\\u0442\\u043e \\u0432\\u0440\\u0435\\u043c\\u044f \\u0441 \\u043e\\u0433\\u043d\\u0451\\u043c \\u0431\\u043e\\u0440\\u043e\\u043b\\u0438\\u0441\\u044c \\u0443\\u0441\\u0438\\u043b\\u0435\\u043d\\u043d\\u044b\\u0435 \\u043d\\u0430\\u0440\\u044f\\u0434\\u044b \\u043f\\u043e\\u0436\\u0430\\u0440\\u043d\\u044b\\u0445. \\u041f\\u043e \\u0441\\u043b\\u043e\\u0432\\u0430\\u043c \\u042f\\u0440\\u043e\\u0441\\u043b\\u0430\\u0432\\u0430, \\u0437\\u0430\\u043c\\u0435\\u0442\\u043d\\u044b\\u0439 \\u0432\\u043a\\u043b\\u0430\\u0434 \\u0432 \\u043f\\u0440\\u0435\\u0434\\u043e\\u0442\\u0432\\u0440\\u0430\\u0449\\u0435\\u043d\\u0438\\u044f \\u0431\\u0435\\u0434\\u0441\\u0442\\u0432\\u0438\\u044f \\u0432\\u043d\\u0435\\u0441\\u043b\\u0438 \\u043f\\u0440\\u043e\\u0448\\u0435\\u0434\\u0448\\u0438\\u0435 \\u0434\\u043e\\u0436\\u0434\\u0438 \\u0438 \\u0434\\u0430\\u0436\\u0435 \\u0441\\u043d\\u0435\\u0433. \\u0421\\u0435\\u0439\\u0447\\u0430\\u0441 \\u0443\\u0433\\u0440\\u043e\\u0437\\u0430 \\u043c\\u0438\\u043d\\u043e\\u0432\\u0430\\u043b\\u0430.\\n\",\n          \"\\u041f\\u043e\\u0434\\u043e\\u0437\\u0440\\u0435\\u0432\\u0430\\u0435\\u043c\\u044b\\u0439 \\u0432 \\u043f\\u043e\\u0434\\u0433\\u043e\\u0442\\u043e\\u0432\\u043a\\u0435 \\u0432\\u0437\\u0440\\u044b\\u0432\\u043e\\u0432 \\u0432 \\u041d\\u044c\\u044e-\\u0419\\u043e\\u0440\\u043a\\u0435 \\u043a\\u0443\\u043f\\u0438\\u043b \\u0434\\u0435\\u0442\\u0430\\u043b\\u0438 \\u0434\\u043b\\u044f \\u0431\\u043e\\u043c\\u0431\\u044b \\u043f\\u043e \\u0418\\u043d\\u0442\\u0435\\u0440\\u043d\\u0435\\u0442\\u0443\\n\\u0411\\u043e\\u043c\\u0431\\u0430 \\n\\u041f\\u043e \\u0434\\u0430\\u043d\\u043d\\u044b\\u043c \\u0441\\u043b\\u0435\\u0434\\u0441\\u0442\\u0432\\u0438\\u044f \\u0410\\u0445\\u043c\\u0430\\u0434 \\u0420\\u0430\\u0445\\u0430\\u043c\\u0438, \\u043f\\u043e\\u0434\\u043e\\u0437\\u0440\\u0435\\u0432\\u0430\\u0435\\u043c\\u044b\\u0439 \\u0432 \\u043f\\u043e\\u0434\\u0433\\u043e\\u0442\\u043e\\u0432\\u043a\\u0435 \\u0432\\u0437\\u0440\\u044b\\u0432\\u043e\\u0432, \\u043f\\u0440\\u043e\\u0433\\u0440\\u0435\\u043c\\u0435\\u0432\\u0448\\u0438\\u0445 \\u0432 \\u043c\\u0438\\u043d\\u0443\\u0432\\u0448\\u0443\\u044e \\u0441\\u0443\\u0431\\u0431\\u043e\\u0442\\u0443, 17 \\u0441\\u0435\\u043d\\u0442\\u044f\\u0431\\u0440\\u044f 2016 \\u0433\\u043e\\u0434\\u0430, \\u0432 \\u041d\\u044c\\u044e-\\u0419\\u043e\\u0440\\u043a\\u0435 \\u0438 \\u041d\\u044c\\u044e-\\u0414\\u0436\\u0435\\u0440\\u0441\\u0438, \\u043f\\u0440\\u0438\\u043e\\u0431\\u0440\\u0435\\u043b \\u043d\\u0435\\u043e\\u0431\\u0445\\u043e\\u0434\\u0438\\u043c\\u044b\\u0435 \\u0435\\u043c\\u0443 \\u0434\\u043b\\u044f \\u0442\\u0435\\u0440\\u0430\\u043a\\u0442\\u0430 \\u043a\\u043e\\u043c\\u043f\\u043e\\u043d\\u0435\\u043d\\u0442\\u044b \\u043d\\u0430 eBay, \\u0430 \\u0432 \\u043a\\u0430\\u0447\\u0435\\u0441\\u0442\\u0432\\u0435 \\u0434\\u0435\\u0442\\u043e\\u043d\\u0430\\u0442\\u043e\\u0440\\u0430 \\u0438\\u0441\\u043f\\u043e\\u043b\\u044c\\u0437\\u043e\\u0432\\u0430\\u043b \\u0441\\u043e\\u0442\\u043e\\u0432\\u044b\\u0435 \\u0442\\u0435\\u043b\\u0435\\u0444\\u043e\\u043d\\u044b, \\u043a\\u0443\\u043f\\u043b\\u0435\\u043d\\u043d\\u044b\\u0435 \\u0432 \\u043c\\u0430\\u0433\\u0430\\u0437\\u0438\\u043d\\u0435, \\u0440\\u0430\\u0441\\u043f\\u043e\\u043b\\u043e\\u0436\\u0435\\u043d\\u043d\\u043e\\u043c \\u0432 500 \\u043c\\u0435\\u0442\\u0440\\u0430\\u0445 \\u043e\\u0442 \\u0430\\u0434\\u0440\\u0435\\u0441\\u0430, \\u0440\\u0430\\u043d\\u0435\\u0435 \\u0443\\u043a\\u0430\\u0437\\u0430\\u043d\\u043d\\u043e\\u0433\\u043e \\u0438\\u043c \\u043a\\u0430\\u043a \\u043c\\u0435\\u0441\\u0442\\u043e \\u043f\\u0440\\u043e\\u0436\\u0438\\u0432\\u0430\\u043d\\u0438\\u044f.\\n\\n\\u0412 \\u043e\\u0431\\u043d\\u0430\\u0440\\u043e\\u0434\\u043e\\u0432\\u0430\\u043d\\u043d\\u043e\\u043c \\u0432\\u043e \\u0432\\u0442\\u043e\\u0440\\u043d\\u0438\\u043a \\u0437\\u0430\\u044f\\u0432\\u043b\\u0435\\u043d\\u0438\\u0438 \\u043e \\u0432\\u043e\\u0437\\u0431\\u0443\\u0436\\u0434\\u0435\\u043d\\u0438\\u0438 \\u0443\\u0433\\u043e\\u043b\\u043e\\u0432\\u043d\\u043e\\u0433\\u043e \\u0434\\u0435\\u043b\\u0430 \\u0438\\u0437\\u043b\\u0430\\u0433\\u0430\\u044e\\u0442\\u0441\\u044f \\u043c\\u043d\\u043e\\u0433\\u043e\\u0447\\u0438\\u0441\\u043b\\u0435\\u043d\\u043d\\u044b\\u0435 \\u043e\\u0431\\u0432\\u0438\\u043d\\u0435\\u043d\\u0438\\u044f \\u043f\\u0440\\u043e\\u0442\\u0438\\u0432 28-\\u043b\\u0435\\u0442\\u043d\\u0435\\u0433\\u043e \\u0410\\u0445\\u043c\\u0430\\u0434\\u0430 \\u0420\\u0430\\u0445\\u0430\\u043c\\u0438. \\u041c\\u0430\\u043a\\u0441\\u0438\\u043c\\u0430\\u043b\\u044c\\u043d\\u044b\\u043c \\u043d\\u0430\\u043a\\u0430\\u0437\\u0430\\u043d\\u0438\\u0435\\u043c \\u043f\\u043e \\u0431\\u043e\\u043b\\u044c\\u0448\\u0438\\u043d\\u0441\\u0442\\u0432\\u0443 \\u0438\\u0437 \\u043d\\u0438\\u0445 \\u044f\\u0432\\u043b\\u044f\\u0435\\u0442\\u0441\\u044f \\u043f\\u043e\\u0436\\u0438\\u0437\\u043d\\u0435\\u043d\\u043d\\u043e\\u0435 \\u0437\\u0430\\u043a\\u043b\\u044e\\u0447\\u0435\\u043d\\u0438\\u0435.\\n\\n\\u0420\\u0430\\u0445\\u0430\\u043c\\u0438 \\u0431\\u044b\\u043b \\u0430\\u0440\\u0435\\u0441\\u0442\\u043e\\u0432\\u0430\\u043d \\u0432 \\u043f\\u043e\\u043d\\u0435\\u0434\\u0435\\u043b\\u044c\\u043d\\u0438\\u043a \\u043f\\u043e\\u0441\\u043b\\u0435 \\u043f\\u0435\\u0440\\u0435\\u0441\\u0442\\u0440\\u0435\\u043b\\u043a\\u0438 \\u0441 \\u043f\\u043e\\u043b\\u0438\\u0446\\u0438\\u0435\\u0439, \\u0432 \\u0445\\u043e\\u0434\\u0435 \\u043a\\u043e\\u0442\\u043e\\u0440\\u043e\\u0439 \\u043e\\u043d \\u0438 \\u0434\\u0432\\u043e\\u0435 \\u043f\\u043e\\u043b\\u0438\\u0446\\u0435\\u0439\\u0441\\u043a\\u0438\\u0445 \\u043f\\u043e\\u043b\\u0443\\u0447\\u0438\\u043b\\u0438 \\u0440\\u0430\\u043d\\u0435\\u043d\\u0438\\u044f.\\n\\n\\u0421\\u043e\\u0433\\u043b\\u0430\\u0441\\u043d\\u043e \\u0434\\u043e\\u043a\\u0443\\u043c\\u0435\\u043d\\u0442\\u0430\\u043c \\u0434\\u0435\\u043b\\u0430, \\u0441\\u043b\\u0435\\u0434\\u0441\\u0442\\u0432\\u0438\\u0435 \\u043f\\u043e\\u043b\\u0430\\u0433\\u0430\\u0435\\u0442, \\u0447\\u0442\\u043e \\u0420\\u0430\\u0445\\u0430\\u043c\\u0438, \\u0438\\u0441\\u043f\\u043e\\u043b\\u044c\\u0437\\u0443\\u044f \\u043d\\u0430 eBay \\u0430\\u043a\\u043a\\u0430\\u0443\\u043d\\u0442 \\u00abAhmad Rahami\\u00bb, \\u0432 \\u043f\\u0435\\u0440\\u0438\\u043e\\u0434 \\u043c\\u0435\\u0436\\u0434\\u0443 20 \\u0438\\u044e\\u043d\\u044f \\u0438 10 \\u0430\\u0432\\u0433\\u0443\\u0441\\u0442\\u0430 \\u043f\\u0440\\u0438\\u043e\\u0431\\u0440\\u0435\\u043b \\u043b\\u0438\\u043c\\u043e\\u043d\\u043d\\u0443\\u044e \\u043a\\u0438\\u0441\\u043b\\u043e\\u0442\\u0443, \\u0441\\u0445\\u0435\\u043c\\u043d\\u0443\\u044e \\u043f\\u043b\\u0430\\u0442\\u0443, \\u044d\\u043b\\u0435\\u043a\\u0442\\u0440\\u0438\\u0447\\u0435\\u0441\\u043a\\u0438\\u0435 \\u0432\\u043e\\u0441\\u043f\\u043b\\u0430\\u043c\\u0435\\u043d\\u0438\\u0442\\u0435\\u043b\\u0438 \\u0438 \\u0441\\u043e\\u0442\\u043d\\u0438 \\u0448\\u0430\\u0440\\u0438\\u043a\\u043e\\u043f\\u043e\\u0434\\u0448\\u0438\\u043f\\u043d\\u0438\\u043a\\u043e\\u0432. \\u0412\\u0441\\u0435 \\u043a\\u0443\\u043f\\u043b\\u0435\\u043d\\u043d\\u044b\\u0435 \\u0438\\u043c \\u0432\\u0435\\u0449\\u0438 \\u0431\\u044b\\u043b\\u0438 \\u0434\\u043e\\u0441\\u0442\\u0430\\u0432\\u043b\\u0435\\u043d\\u044b \\u0432 \\u0433\\u043e\\u0440\\u043e\\u0434 \\u041f\\u0435\\u0440\\u0442 \\u0410\\u043c\\u0431\\u043e\\u0439, \\u0433\\u0434\\u0435 \\u0420\\u0430\\u0445\\u0430\\u043c\\u0438 \\u0440\\u0430\\u0431\\u043e\\u0442\\u0430\\u043b \\u0432\\u043f\\u043b\\u043e\\u0442\\u044c \\u0434\\u043e 12 \\u0441\\u0435\\u043d\\u0442\\u044f\\u0431\\u0440\\u044f.\\n\\n\\u0428\\u0430\\u0440\\u0438\\u043a\\u043e\\u0432\\u044b\\u0435 \\u043f\\u043e\\u0434\\u0448\\u0438\\u043f\\u043d\\u0438\\u043a\\u0438 \\u0431\\u044b\\u043b\\u0438 \\u043d\\u0430\\u0439\\u0434\\u0435\\u043d\\u044b \\u0432 \\u0434\\u0432\\u0443\\u0445 \\u0432\\u0437\\u0440\\u044b\\u0432\\u043d\\u044b\\u0445 \\u0443\\u0441\\u0442\\u0440\\u043e\\u0439\\u0441\\u0442\\u0432\\u0430\\u0445, \\u0438\\u0437\\u0433\\u043e\\u0442\\u043e\\u0432\\u043b\\u0435\\u043d\\u043d\\u044b\\u0445 \\u0438\\u0437 \\u0441\\u043a\\u043e\\u0440\\u043e\\u0432\\u0430\\u0440\\u043e\\u043a, \\u043a\\u043e\\u0442\\u043e\\u0440\\u044b\\u0435 \\u0431\\u044b\\u043b\\u0438 \\u0437\\u0430\\u043b\\u043e\\u0436\\u0435\\u043d\\u044b \\u0432 \\u0441\\u0443\\u0431\\u0431\\u043e\\u0442\\u0443 \\u0432 \\u0447\\u0435\\u0442\\u044b\\u0440\\u0451\\u0445 \\u043a\\u0432\\u0430\\u0440\\u0442\\u0430\\u043b\\u0430\\u0445 \\u0434\\u0440\\u0443\\u0433 \\u043e\\u0442 \\u0434\\u0440\\u0443\\u0433\\u0430 \\u0432 \\u043d\\u044c\\u044e-\\u0439\\u043e\\u0440\\u043a\\u0441\\u043a\\u043e\\u043c \\u0440\\u0430\\u0439\\u043e\\u043d\\u0435 \\u0427\\u0435\\u043b\\u0441\\u0438. \\u041e\\u0434\\u043d\\u0430 \\u0438\\u0437 \\u0441\\u0430\\u043c\\u043e\\u0434\\u0435\\u043b\\u044c\\u043d\\u044b\\u0445 \\u0431\\u043e\\u043c\\u0431 \\u0432\\u0437\\u043e\\u0440\\u0432\\u0430\\u043b\\u0430\\u0441\\u044c, \\u0440\\u0430\\u043d\\u0438\\u0432 29 \\u0447\\u0435\\u043b\\u043e\\u0432\\u0435\\u043a, \\u0434\\u0440\\u0443\\u0433\\u0430\\u044f \\u043d\\u0435 \\u0441\\u0440\\u0430\\u0431\\u043e\\u0442\\u0430\\u043b\\u0430. \\u041f\\u043e \\u0441\\u043b\\u043e\\u0432\\u0430\\u043c \\u0441\\u043b\\u0435\\u0434\\u043e\\u0432\\u0430\\u0442\\u0435\\u043b\\u0435\\u0439, \\u0432\\u0442\\u043e\\u0440\\u0430\\u044f \\u0431\\u043e\\u043c\\u0431\\u0430 \\u0441\\u043e\\u0441\\u0442\\u043e\\u044f\\u043b\\u0430 \\u0438\\u0437 \\u043c\\u043d\\u043e\\u0433\\u043e\\u0447\\u0438\\u0441\\u043b\\u0435\\u043d\\u043d\\u044b\\u0445 \\u044d\\u043b\\u0435\\u043a\\u0442\\u0440\\u0438\\u0447\\u0435\\u0441\\u043a\\u0438\\u0445 \\u0432\\u043e\\u0441\\u043f\\u043b\\u0430\\u043c\\u0435\\u043d\\u0438\\u0442\\u0435\\u043b\\u0435\\u0439.\\n\\n\\u041d\\u0435\\u0432\\u0437\\u043e\\u0440\\u0432\\u0430\\u0432\\u0448\\u0435\\u0435\\u0441\\u044f \\u0443\\u0441\\u0442\\u0440\\u043e\\u0439\\u0441\\u0442\\u0432\\u043e \\u0431\\u044b\\u043b\\u043e \\u043f\\u0440\\u043e\\u0442\\u0435\\u0441\\u0442\\u0438\\u0440\\u043e\\u0432\\u0430\\u043d\\u043e \\u043d\\u0430 \\u043e\\u0442\\u043f\\u0435\\u0447\\u0430\\u0442\\u043a\\u0438 \\u043f\\u0430\\u043b\\u044c\\u0446\\u0435\\u0432, \\u0432 \\u0440\\u0435\\u0437\\u0443\\u043b\\u044c\\u0442\\u0430\\u0442\\u0435 \\u0447\\u0435\\u0433\\u043e, \\u0441\\u043e\\u0433\\u043b\\u0430\\u0441\\u043d\\u043e \\u043c\\u0430\\u0442\\u0435\\u0440\\u0438\\u0430\\u043b\\u0430\\u043c \\u0441\\u043b\\u0435\\u0434\\u0441\\u0442\\u0432\\u0438\\u044f, \\u0431\\u044b\\u043b\\u043e \\u043d\\u0430\\u0439\\u0434\\u0435\\u043d\\u043e 12 \\u043e\\u0442\\u043f\\u0435\\u0447\\u0430\\u0442\\u043a\\u043e\\u0432 \\u043f\\u0430\\u043b\\u044c\\u0446\\u0435\\u0432 \\u0420\\u0430\\u0445\\u0430\\u043c\\u0438. \\u041e\\u0442\\u043f\\u0435\\u0447\\u0430\\u0442\\u043a\\u0438 \\u043f\\u0430\\u043b\\u044c\\u0446\\u0435\\u0432 \\u043f\\u043e\\u0434\\u043e\\u0437\\u0440\\u0435\\u0432\\u0430\\u0435\\u043c\\u043e\\u0433\\u043e \\u0431\\u044b\\u043b\\u0438 \\u0442\\u0430\\u043a\\u0436\\u0435 \\u043e\\u0431\\u043d\\u0430\\u0440\\u0443\\u0436\\u0435\\u043d\\u044b \\u043d\\u0430 \\u043f\\u0440\\u0435\\u0434\\u043c\\u0435\\u0442\\u0430\\u0445 \\u0432\\u043d\\u0443\\u0442\\u0440\\u0438 \\u0440\\u044e\\u043a\\u0437\\u0430\\u043a\\u0430, \\u043a\\u043e\\u0442\\u043e\\u0440\\u044b\\u0439 \\u0431\\u044b\\u043b \\u043d\\u0430\\u0439\\u0434\\u0435\\u043d \\u0432 \\u0432\\u043e\\u0441\\u043a\\u0440\\u0435\\u0441\\u0435\\u043d\\u044c\\u0435 \\u0432\\u0435\\u0447\\u0435\\u0440\\u043e\\u043c \\u043d\\u0430 \\u0432\\u043e\\u043a\\u0437\\u0430\\u043b\\u0435 \\u0432 \\u0433\\u043e\\u0440\\u043e\\u0434\\u0435 \\u042d\\u043b\\u0438\\u0437\\u0430\\u0431\\u0435\\u0442, \\u0448\\u0442\\u0430\\u0442 \\u041d\\u044c\\u044e-\\u0414\\u0436\\u0435\\u0440\\u0441\\u0438, \\u043d\\u0435\\u0434\\u0430\\u043b\\u0435\\u043a\\u043e \\u043e\\u0442 \\u041d\\u044c\\u044e-\\u0419\\u043e\\u0440\\u043a\\u0430. \\u0412 \\u0440\\u044e\\u043a\\u0437\\u0430\\u043a\\u0435 \\u0431\\u044b\\u043b\\u043e \\u043d\\u0435\\u0441\\u043a\\u043e\\u043b\\u044c\\u043a\\u043e \\u0432\\u0437\\u0440\\u044b\\u0432\\u043d\\u044b\\u0445 \\u0443\\u0441\\u0442\\u0440\\u043e\\u0439\\u0441\\u0442\\u0432, \\u043e\\u0434\\u043d\\u043e \\u0438\\u0437 \\u043a\\u043e\\u0442\\u043e\\u0440\\u044b\\u0445 \\u0432\\u0437\\u043e\\u0440\\u0432\\u0430\\u043b\\u043e\\u0441\\u044c, \\u043a\\u043e\\u0433\\u0434\\u0430 \\u043f\\u043e\\u043b\\u0438\\u0446\\u0438\\u044f \\u043f\\u044b\\u0442\\u0430\\u043b\\u0430\\u0441\\u044c \\u043e\\u0431\\u0435\\u0437\\u0432\\u0440\\u0435\\u0434\\u0438\\u0442\\u044c \\u0435\\u0433\\u043e \\u043f\\u0440\\u0438 \\u043f\\u043e\\u043c\\u043e\\u0449\\u0438 \\u0441\\u043f\\u0435\\u0446\\u0438\\u0430\\u043b\\u044c\\u043d\\u043e\\u0433\\u043e \\u0440\\u043e\\u0431\\u043e\\u0442\\u0430.\\n\\n\\u0412\\u043b\\u0430\\u0441\\u0442\\u0438 \\u0442\\u0430\\u043a\\u0436\\u0435 \\u0441\\u0432\\u044f\\u0437\\u044b\\u0432\\u0430\\u044e\\u0442 \\u0420\\u0430\\u0445\\u0430\\u043c\\u0438 \\u0441\\u043e \\u0432\\u0437\\u0440\\u044b\\u0432\\u043e\\u043c \\u0431\\u043e\\u043c\\u0431\\u044b \\u0432 \\u043c\\u0443\\u0441\\u043e\\u0440\\u043d\\u043e\\u0439 \\u043a\\u043e\\u0440\\u0437\\u0438\\u043d\\u0435, \\u043f\\u0440\\u043e\\u0438\\u0437\\u043e\\u0448\\u0435\\u0434\\u0448\\u0435\\u043c \\u0432 \\u0433\\u043e\\u0440\\u043e\\u0434\\u0435 \\u0421\\u0438\\u0441\\u0430\\u0439\\u0434 \\u041f\\u0430\\u0440\\u043a, \\u0448\\u0442\\u0430\\u0442 \\u041d\\u044c\\u044e-\\u0414\\u0436\\u0435\\u0440\\u0441\\u0438 \\u0432 \\u0441\\u0443\\u0431\\u0431\\u043e\\u0442\\u0443 \\u0443\\u0442\\u0440\\u043e\\u043c.\\n\",\n          \"\\u0421\\u0442\\u0443\\u0434\\u0435\\u043d\\u0442 \\u0420\\u0413\\u0423 \\u0438\\u043c \\u041a\\u043e\\u0441\\u044b\\u0433\\u0438\\u043d\\u0430 \\u043f\\u0440\\u0438\\u0437\\u043d\\u0430\\u043b, \\u0447\\u0442\\u043e \\u043a\\u0438\\u043d\\u0443\\u043b \\u0434\\u0432\\u0435 \\u043f\\u0443\\u0441\\u0442\\u044b\\u0435 \\u043f\\u043b\\u0430\\u0441\\u0442\\u0438\\u043a\\u043e\\u0432\\u044b\\u0435 \\u0431\\u0443\\u0442\\u044b\\u043b\\u043a\\u0438 \\u0432 \\u0441\\u043e\\u0442\\u0440\\u0443\\u0434\\u043d\\u0438\\u043a\\u043e\\u0432 \\u043f\\u0440\\u0430\\u0432\\u043e\\u043f\\u043e\\u0440\\u044f\\u0434\\u043a\\u0430\\n\\u0412\\u0430\\u043b\\u0435\\u0440\\u0438\\u0439 \\u041a\\u043e\\u0441\\u0442\\u0435\\u043d\\u043e\\u043a\\n\\u0421\\u0442\\u0443\\u0434\\u0435\\u043d\\u0442 \\u0420\\u0413\\u0423 \\u0438\\u043c \\u041a\\u043e\\u0441\\u044b\\u0433\\u0438\\u043d\\u0430 20-\\u043b\\u0435\\u0442\\u043d\\u0438\\u0439 \\u0432\\u043e\\u043b\\u043e\\u043d\\u0442\\u0451\\u0440 \\u0448\\u0442\\u0430\\u0431\\u0430 \\u043d\\u0435\\u0437\\u0430\\u0440\\u0435\\u0433\\u0438\\u0441\\u0442\\u0440\\u0438\\u0440\\u043e\\u0432\\u0430\\u043d\\u043d\\u043e\\u0433\\u043e \\u043a\\u0430\\u043d\\u0434\\u0438\\u0434\\u0430\\u0442\\u0430 \\u0432 \\u0434\\u0435\\u043f\\u0443\\u0442\\u0430\\u0442\\u044b \\u041c\\u0413\\u0414 7-\\u0433\\u043e \\u0441\\u043e\\u0437\\u044b\\u0432\\u0430 \\u041a\\u0438\\u0440\\u0438\\u043b\\u043b\\u0430 \\u0413\\u043e\\u043d\\u0447\\u0430\\u0440\\u043e\\u0432\\u0430 \\u0412\\u0430\\u043b\\u0435\\u0440\\u0438\\u0439 \\u041a\\u043e\\u0441\\u0442\\u0435\\u043d\\u043e\\u043a \\u043e\\u0442\\u043f\\u0440\\u0430\\u0432\\u043b\\u0435\\u043d 12 \\u0430\\u0432\\u0433\\u0443\\u0441\\u0442\\u0430 \\u0411\\u0430\\u0441\\u043c\\u0430\\u043d\\u043d\\u044b\\u043c \\u0441\\u0443\\u0434\\u043e\\u043c \\u0432 \\u0421\\u0418\\u0417\\u041e \\u043d\\u0430 2 \\u043c\\u0435\\u0441\\u044f\\u0446\\u0430. \\u0420\\u0430\\u043d\\u0435\\u0435 \\u0441\\u0442\\u0430\\u043b\\u043e \\u0438\\u0437\\u0432\\u0435\\u0441\\u0442\\u043d\\u043e, \\u0447\\u0442\\u043e 11 \\u0430\\u0432\\u0433\\u0443\\u0441\\u0442\\u0430 \\u0432 \\u043a\\u0432\\u0430\\u0440\\u0442\\u0438\\u0440\\u0435 \\u0430\\u043a\\u0442\\u0438\\u0432\\u0438\\u0441\\u0442\\u0430 \\u043d\\u0430 \\u0412\\u0430\\u0440\\u0448\\u0430\\u0432\\u0441\\u043a\\u043e\\u043c \\u0448\\u043e\\u0441\\u0441\\u0435 \\u043f\\u0440\\u043e\\u0448\\u0451\\u043b \\u043e\\u0431\\u044b\\u0441\\u043a.\\n\\n\\u041d\\u0430 \\u0434\\u043e\\u043f\\u0440\\u043e\\u0441\\u0435 \\u041a\\u043e\\u0441\\u0442\\u0435\\u043d\\u043e\\u043a \\u043f\\u0440\\u0438\\u0437\\u043d\\u0430\\u043b, \\u0447\\u0442\\u043e 27 \\u0438\\u044e\\u043b\\u044f \\u043d\\u0430 \\u0443\\u043b\\u0438\\u0446\\u0435 \\u0420\\u043e\\u0436\\u0434\\u0435\\u0441\\u0442\\u0432\\u0435\\u043d\\u043a\\u0430 \\u043f\\u043e\\u0434\\u043e\\u0431\\u0440\\u0430\\u043b \\u043f\\u043b\\u0430\\u0441\\u0442\\u0438\\u043a\\u043e\\u0432\\u0443\\u044e \\u0431\\u0443\\u0442\\u044b\\u043b\\u043a\\u0443 \\u0438\\u0437 \\u043c\\u0443\\u0441\\u043e\\u0440\\u043d\\u043e\\u0433\\u043e \\u0431\\u0430\\u043a\\u0430, \\u043a\\u043e\\u0442\\u043e\\u0440\\u044b\\u0439 \\u0431\\u0440\\u043e\\u0441\\u0438\\u043b \\u0415\\u0432\\u0433\\u0435\\u043d\\u0438\\u0439 \\u041a\\u043e\\u0432\\u0430\\u043b\\u0435\\u043d\\u043a\\u043e \\u0432 \\u0431\\u043e\\u0439\\u0446\\u0430 \\u041d\\u0430\\u0446\\u0433\\u0432\\u0430\\u0440\\u0434\\u0438\\u0438, \\u0438 \\u0431\\u0440\\u043e\\u0441\\u0438\\u043b \\u0435\\u0451 \\u0432 \\u043f\\u043e\\u043b\\u0438\\u0446\\u0435\\u0439\\u0441\\u043a\\u043e\\u0433\\u043e \\u00ab\\u0431\\u0435\\u0437 \\u0446\\u0435\\u043b\\u0438 \\u043f\\u0440\\u0438\\u0447\\u0438\\u043d\\u0438\\u0442\\u044c \\u0432\\u0440\\u0435\\u0434 \\u0437\\u0434\\u043e\\u0440\\u043e\\u0432\\u044c\\u044e \\u043f\\u0440\\u0435\\u0434\\u0441\\u0442\\u0430\\u0432\\u0438\\u0442\\u0435\\u043b\\u044f \\u0432\\u043b\\u0430\\u0441\\u0442\\u0438\\u00bb; \\u043f\\u043e\\u0442\\u043e\\u043c \\u0431\\u0440\\u043e\\u0441\\u0438\\u043b \\u0434\\u0440\\u0443\\u0433\\u0443\\u044e \\u043f\\u043b\\u0430\\u0441\\u0442\\u0438\\u043a\\u043e\\u0432\\u0443\\u044e \\u0431\\u0443\\u0442\\u044b\\u043b\\u043a\\u0443 \\u0432 \\u0435\\u0449\\u0451 \\u043e\\u0434\\u043d\\u043e\\u0433\\u043e \\u043f\\u043e\\u043b\\u0438\\u0446\\u0435\\u0439\\u0441\\u043a\\u043e\\u0433\\u043e. \\u041e\\u0434\\u043d\\u0430 \\u0438\\u0437 \\u043d\\u0438\\u0445 \\u043f\\u043e\\u043f\\u0430\\u043b\\u0430 \\u0432 \\u043a\\u0430\\u0441\\u043a\\u0443. \\u00ab\\u0414\\u0443\\u043c\\u0430\\u044e, \\u0447\\u0442\\u043e \\u043e\\u0442 \\u043c\\u043e\\u0438\\u0445 \\u0434\\u0435\\u0439\\u0441\\u0442\\u0432\\u0438\\u0439 \\u0438\\u0441\\u043f\\u044b\\u0442\\u0430\\u0442\\u044c \\u0431\\u043e\\u043b\\u044c \\u0441\\u043e\\u0442\\u0440\\u0443\\u0434\\u043d\\u0438\\u043a\\u0438 \\u043f\\u043e\\u043b\\u0438\\u0446\\u0438\\u0438 \\u043d\\u0435 \\u043c\\u043e\\u0433\\u043b\\u0438. \\u041c\\u043e\\u0438 \\u0434\\u0435\\u0439\\u0441\\u0442\\u0432\\u0438\\u044f \\u0431\\u044b\\u043b\\u0438 \\u0432\\u044b\\u0437\\u0432\\u0430\\u043d\\u044b \\u044d\\u043c\\u043e\\u0446\\u0438\\u043e\\u043d\\u0430\\u043b\\u044c\\u043d\\u044b\\u043c \\u0438 \\u043d\\u0435\\u043e\\u043f\\u0440\\u0430\\u0432\\u0434\\u0430\\u043d\\u043d\\u044b\\u043c \\u043f\\u043e\\u0432\\u0435\\u0434\\u0435\\u043d\\u0438\\u0435\\u043c \\u0441 \\u043c\\u043e\\u0435\\u0439 \\u0441\\u0442\\u043e\\u0440\\u043e\\u043d\\u044b. \\u0412 \\u0447\\u0435\\u043c \\u044f \\u0440\\u0430\\u0441\\u043a\\u0430\\u0438\\u0432\\u0430\\u044e\\u0441\\u044c \\u0438 \\u043f\\u0440\\u0438\\u043d\\u043e\\u0448\\u0443 \\u0438\\u0437\\u0432\\u0438\\u043d\\u0435\\u043d\\u0438\\u044f\\u00bb, \\u2014 \\u0433\\u043e\\u0432\\u043e\\u0440\\u0438\\u043b \\u043e\\u043d \\u043d\\u0430 \\u0434\\u043e\\u043f\\u0440\\u043e\\u0441\\u0435.\\n\\n\\u041d\\u0435\\u0441\\u043c\\u043e\\u0442\\u0440\\u044f \\u043d\\u0430 \\u0442\\u043e, \\u0447\\u0442\\u043e \\u043f\\u0440\\u0435\\u0434\\u0441\\u0442\\u0430\\u0432\\u0438\\u0442\\u0435\\u043b\\u044c \\u043e\\u0431\\u0432\\u0438\\u043d\\u0435\\u043d\\u0438\\u044f \\u0442\\u0440\\u0435\\u0431\\u043e\\u0432\\u0430\\u043b \\u043c\\u0435\\u0440\\u0443 \\u043f\\u0440\\u0435\\u0441\\u0435\\u0447\\u0435\\u043d\\u0438\\u044f \\u0432 \\u0432\\u0438\\u0434\\u0435 \\u0434\\u043e\\u043c\\u0430\\u0448\\u043d\\u0435\\u0433\\u043e \\u0430\\u0440\\u0435\\u0441\\u0442\\u0430 (\\u0442\\u043e\\u0433\\u043e \\u0436\\u0435 \\u0442\\u0440\\u0435\\u0431\\u043e\\u0432\\u0430\\u043b \\u0438 \\u0430\\u0434\\u0432\\u043e\\u043a\\u0430\\u0442 \\u043e\\u0431\\u0432\\u0438\\u043d\\u044f\\u0435\\u043c\\u043e\\u0433\\u043e \\u0438 \\u0441\\u0430\\u043c \\u0430\\u043a\\u0442\\u0438\\u0432\\u0438\\u0441\\u0442) \\u0441\\u0443\\u0434\\u044c\\u044f \\u043f\\u0440\\u0438\\u043d\\u044f\\u043b\\u0430 \\u0440\\u0435\\u0448\\u0435\\u043d\\u0438\\u0435 \\u043e\\u0431 \\u0430\\u0440\\u0435\\u0441\\u0442\\u0435 \\u0447\\u043b\\u0435\\u043d\\u0430 \\u043f\\u0430\\u0440\\u0442\\u0438\\u0438 \\u00ab\\u042f\\u0431\\u043b\\u043e\\u043a\\u043e\\u00bb \\u0434\\u043e 11 \\u043e\\u043a\\u0442\\u044f\\u0431\\u0440\\u044f.\\n\\n\\u041d\\u0430\\u043f\\u043e\\u043c\\u043d\\u0438\\u043c, \\u0447\\u0442\\u043e \\u0432 \\u0438\\u044e\\u043b\\u0435 \\u0438 \\u0430\\u0432\\u0433\\u0443\\u0441\\u0442\\u0435 2019 \\u0433\\u043e\\u0434\\u0430 \\u043f\\u043e \\u0441\\u0443\\u0431\\u0431\\u043e\\u0442\\u0430\\u043c \\u0432 \\u0446\\u0435\\u043d\\u0442\\u0440\\u0435 \\u0441\\u0442\\u043e\\u043b\\u0438\\u0446\\u044b \\u043f\\u0440\\u043e\\u0445\\u043e\\u0434\\u0438\\u043b\\u0438 \\u0441\\u043e\\u0433\\u043b\\u0430\\u0441\\u043e\\u0432\\u0430\\u043d\\u043d\\u044b\\u0435 \\u0438 \\u043d\\u0435\\u0441\\u043e\\u0433\\u043b\\u0430\\u0441\\u043e\\u0432\\u0430\\u043d\\u043d\\u044b\\u0435 \\u0430\\u043a\\u0446\\u0438\\u0438 \\u043f\\u0440\\u043e\\u0442\\u0435\\u0441\\u0442\\u0430 \\u0432 \\u0441\\u0432\\u044f\\u0437\\u0438 \\u0441 \\u043d\\u0435\\u0434\\u043e\\u043f\\u0443\\u0441\\u043a\\u043e\\u043c \\u043d\\u0435\\u0437\\u0430\\u0432\\u0438\\u0441\\u0438\\u043c\\u044b\\u0445 \\u043a\\u0430\\u043d\\u0434\\u0438\\u0434\\u0430\\u0442\\u043e\\u0432 \\u043d\\u0430 \\u0432\\u044b\\u0431\\u043e\\u0440\\u044b \\u041c\\u043e\\u0441\\u043a\\u043e\\u0432\\u0441\\u043a\\u043e\\u0439 \\u0433\\u043e\\u0440\\u043e\\u0434\\u0441\\u043a\\u043e\\u0439 \\u0434\\u0443\\u043c\\u044b \\u0441\\u0435\\u0434\\u044c\\u043c\\u043e\\u0433\\u043e \\u0441\\u043e\\u0437\\u044b\\u0432\\u0430. \\u041f\\u043e \\u0438\\u0442\\u043e\\u0433\\u0430\\u043c \\u0441\\u043e\\u0431\\u044b\\u0442\\u0438\\u0439 27 \\u0438\\u044e\\u043b\\u044f \\u0441\\u043b\\u0435\\u0434\\u0441\\u0442\\u0432\\u0435\\u043d\\u043d\\u044b\\u0439 \\u043a\\u043e\\u043c\\u0438\\u0442\\u0435\\u0442 \\u0432\\u043e\\u0437\\u0431\\u0443\\u0434\\u0438\\u043b \\u0434\\u0435\\u043b\\u0430 \\u043f\\u043e \\u0441\\u0442. 318 \\u0438 212 \\u0423\\u041a \\u0420\\u0424. \\u041a\\u043e\\u0441\\u0442\\u0435\\u043d\\u043e\\u043a \\u0441\\u0442\\u0430\\u043b 14-\\u043c \\u043e\\u0431\\u0432\\u0438\\u043d\\u044f\\u0435\\u043c\\u044b\\u043c \\u0432 \\u0440\\u0430\\u043c\\u043a\\u0430\\u0445 \\u044d\\u0442\\u043e\\u0433\\u043e \\u0434\\u0435\\u043b\\u0430. \\u0412 \\u0441\\u0432\\u043e\\u0438\\u0445 \\u043f\\u043e\\u043a\\u0430\\u0437\\u0430\\u043d\\u0438\\u044f\\u0445 \\u043e\\u043d \\u0444\\u0430\\u043a\\u0442\\u0438\\u0447\\u0435\\u0441\\u043a\\u0438 \\u0434\\u0430\\u043b \\u043f\\u0440\\u0438\\u0437\\u043d\\u0430\\u0442\\u0435\\u043b\\u044c\\u043d\\u044b\\u0435 \\u043f\\u043e\\u043a\\u0430\\u0437\\u0430\\u043d\\u0438\\u044f \\u043d\\u0435 \\u0442\\u043e\\u043b\\u044c\\u043a\\u043e \\u043d\\u0430 \\u0441\\u0435\\u0431\\u044f, \\u043d\\u043e \\u0438 \\u043d\\u0430 \\u0434\\u0440\\u0443\\u0433\\u043e\\u0433\\u043e \\u043e\\u0431\\u0432\\u0438\\u043d\\u044f\\u0435\\u043c\\u043e\\u0433\\u043e \\u2014 48-\\u043b\\u0435\\u0442\\u043d\\u0435\\u0433\\u043e \\u0415\\u0432\\u0433\\u0435\\u043d\\u0438\\u044f \\u041a\\u043e\\u0432\\u0430\\u043b\\u0435\\u043d\\u043a\\u043e.\\n\\n\\u0412 2017 \\u0433\\u043e\\u0434\\u0443 \\u041a\\u043e\\u0441\\u0442\\u0435\\u043d\\u043e\\u043a \\u0431\\u0430\\u043b\\u043b\\u043e\\u0442\\u0438\\u0440\\u043e\\u0432\\u0430\\u043b\\u0441\\u044f \\u0432 \\u043c\\u0443\\u043d\\u0438\\u0446\\u0438\\u043f\\u0430\\u043b\\u044c\\u043d\\u044b\\u0435 \\u0434\\u0435\\u043f\\u0443\\u0442\\u0430\\u0442\\u044b \\u0414\\u043e\\u043d\\u0441\\u043a\\u043e\\u0433\\u043e \\u0440\\u0430\\u0439\\u043e\\u043d\\u0430 \\u041c\\u043e\\u0441\\u043a\\u0432\\u044b \\u0438 \\u043d\\u0430\\u0431\\u0440\\u0430\\u043b 253 \\u0433\\u043e\\u043b\\u043e\\u0441\\u0430.\\n\"\n        ],\n        \"semantic_type\": \"\",\n        \"description\": \"\"\n      }\n    },\n    {\n      \"column\": \"entity_type\",\n      \"properties\": {\n        \"dtype\": \"category\",\n        \"num_unique_values\": 29,\n        \"samples\": [\n          \"AWARD\",\n          \"PERCENT\",\n          \"PERSON\"\n        ],\n        \"semantic_type\": \"\",\n        \"description\": \"\"\n      }\n    },\n    {\n      \"column\": \"start_pos\",\n      \"properties\": {\n        \"dtype\": \"number\",\n        \"std\": 1045,\n        \"min\": 0,\n        \"max\": 12918,\n        \"num_unique_values\": 3882,\n        \"samples\": [\n          2705,\n          2603,\n          813\n        ],\n        \"semantic_type\": \"\",\n        \"description\": \"\"\n      }\n    },\n    {\n      \"column\": \"end_pos\",\n      \"properties\": {\n        \"dtype\": \"number\",\n        \"std\": 1045,\n        \"min\": 1,\n        \"max\": 12930,\n        \"num_unique_values\": 3806,\n        \"samples\": [\n          2213,\n          880,\n          30\n        ],\n        \"semantic_type\": \"\",\n        \"description\": \"\"\n      }\n    },\n    {\n      \"column\": \"entity_text\",\n      \"properties\": {\n        \"dtype\": \"string\",\n        \"num_unique_values\": 29495,\n        \"samples\": [\n          \"\\u0441\\u0438\\u043b\\u0430\\u043c\\u0438 \\u0421\\u0428\\u0410 \\u0432 \\u0410\\u0444\\u0433\\u0430\\u043d\\u0438\\u0441\\u0442\\u0430\\u043d\\u0435\",\n          \"\\u0442\\u0440\\u0430\\u043d\\u0441\\u043f\\u043e\\u0440\\u0442\\u043d\\u043e\\u0433\\u043e \\u0447\\u0438\\u043d\\u043e\\u0432\\u043d\\u0438\\u043a\\u0430\",\n          \"\\u041e\\u0441\\u0432\\u043e\\u0431\\u043e\\u0436\\u0434\\u0435\\u043d\\u0438\\u0435 \\u043f\\u043e\\u0434 \\u0437\\u0430\\u043b\\u043e\\u0433\"\n        ],\n        \"semantic_type\": \"\",\n        \"description\": \"\"\n      }\n    }\n  ]\n}"
            }
          },
          "metadata": {},
          "execution_count": 14
        }
      ],
      "source": [
        "train_exploded['entity_type'] = train_exploded['parsed_entities'].apply(lambda x: x['entity_type'] if isinstance(x, dict) else None)\n",
        "train_exploded['start_pos'] = train_exploded['parsed_entities'].apply(lambda x: x['start_pos'] if isinstance(x, dict) else None)\n",
        "train_exploded['end_pos'] = train_exploded['parsed_entities'].apply(lambda x: x['end_pos'] if isinstance(x, dict) else None)\n",
        "train_exploded['entity_text'] = train_exploded['parsed_entities'].apply(lambda x: x['entity_text'] if isinstance(x, dict) else None)\n",
        "\n",
        "train_exploded.drop(columns=['parsed_entities', 'entities'], inplace=True)\n",
        "train_exploded"
      ]
    },
    {
      "cell_type": "markdown",
      "metadata": {
        "id": "XdkhsoRGmhd9"
      },
      "source": [
        "# EDA"
      ]
    },
    {
      "cell_type": "code",
      "execution_count": null,
      "metadata": {
        "colab": {
          "base_uri": "https://localhost:8080/",
          "height": 927
        },
        "id": "N9ty6Ijah247",
        "outputId": "10e8d9b0-cd6e-4c9a-80b5-7e02905a4256"
      },
      "outputs": [
        {
          "output_type": "display_data",
          "data": {
            "text/plain": [
              "<Figure size 640x480 with 1 Axes>"
            ],
            "image/png": "[encoded data removed]"
          },
          "metadata": {}
        },
        {
          "output_type": "display_data",
          "data": {
            "text/plain": [
              "<Figure size 640x480 with 1 Axes>"
            ],
            "image/png": "[encoded data removed]"
          },
          "metadata": {}
        }
      ],
      "source": [
        "import seaborn as sns\n",
        "import matplotlib.pyplot as plt\n",
        "\n",
        "train_exploded['length'] = train_exploded['text'].apply(len)\n",
        "train_exploded['length'] = train_exploded['length'].astype(float)\n",
        "\n",
        "train_exploded['word_count'] = train_exploded['text'].apply(lambda x: len(x.replace('\\n', ' ').split()))\n",
        "train_exploded['word_count'] = train_exploded['word_count'].astype(float)\n",
        "\n",
        "sns.histplot(data=train_exploded, x='length', kde=True)\n",
        "plt.title('Distribution of Length (Characters)')\n",
        "plt.xlabel('Length (Characters)')\n",
        "plt.ylabel('Frequency')\n",
        "plt.show()\n",
        "\n",
        "sns.histplot(data=train_exploded, x='word_count', kde=True)\n",
        "plt.title('Distribution of Length (Words)')\n",
        "plt.xlabel('Length (Words)')\n",
        "plt.ylabel('Frequency')\n",
        "plt.show()"
      ]
    },
    {
      "cell_type": "markdown",
      "metadata": {
        "id": "hHQ3qerE8T7m"
      },
      "source": [
        "Довольно длинный хвост по длинам текстов. В среднем около 2 тысяч символов. По словам в среднем в районе 250, По идее в NN подходе мы должны будем привести тексты к одной длине, если будем его использовать\n",
        "\n",
        "\n"
      ]
    },
    {
      "cell_type": "code",
      "execution_count": null,
      "metadata": {
        "colab": {
          "base_uri": "https://localhost:8080/",
          "height": 300
        },
        "id": "Z0JFLCneHLL9",
        "outputId": "572a7e05-6224-4c91-c986-6d70038bb1f1"
      },
      "outputs": [
        {
          "output_type": "execute_result",
          "data": {
            "text/plain": [
              "             length    word_count\n",
              "count  56255.000000  56255.000000\n",
              "mean    1973.704755    269.191112\n",
              "std     1522.380157    202.688978\n",
              "min      426.000000     60.000000\n",
              "25%     1292.000000    178.000000\n",
              "50%     1696.000000    231.000000\n",
              "75%     2186.000000    297.000000\n",
              "max    12932.000000   1710.000000"
            ],
            "text/html": [
              "\n",
              "  <div id=\"df-c0975b7e-861f-4c2e-aa31-0f03d9835909\" class=\"colab-df-container\">\n",
              "    <div>\n",
              "<style scoped>\n",
              "    .dataframe tbody tr th:only-of-type {\n",
              "        vertical-align: middle;\n",
              "    }\n",
              "\n",
              "    .dataframe tbody tr th {\n",
              "        vertical-align: top;\n",
              "    }\n",
              "\n",
              "    .dataframe thead th {\n",
              "        text-align: right;\n",
              "    }\n",
              "</style>\n",
              "<table border=\"1\" class=\"dataframe\">\n",
              "  <thead>\n",
              "    <tr style=\"text-align: right;\">\n",
              "      <th></th>\n",
              "      <th>length</th>\n",
              "      <th>word_count</th>\n",
              "    </tr>\n",
              "  </thead>\n",
              "  <tbody>\n",
              "    <tr>\n",
              "      <th>count</th>\n",
              "      <td>56255.000000</td>\n",
              "      <td>56255.000000</td>\n",
              "    </tr>\n",
              "    <tr>\n",
              "      <th>mean</th>\n",
              "      <td>1973.704755</td>\n",
              "      <td>269.191112</td>\n",
              "    </tr>\n",
              "    <tr>\n",
              "      <th>std</th>\n",
              "      <td>1522.380157</td>\n",
              "      <td>202.688978</td>\n",
              "    </tr>\n",
              "    <tr>\n",
              "      <th>min</th>\n",
              "      <td>426.000000</td>\n",
              "      <td>60.000000</td>\n",
              "    </tr>\n",
              "    <tr>\n",
              "      <th>25%</th>\n",
              "      <td>1292.000000</td>\n",
              "      <td>178.000000</td>\n",
              "    </tr>\n",
              "    <tr>\n",
              "      <th>50%</th>\n",
              "      <td>1696.000000</td>\n",
              "      <td>231.000000</td>\n",
              "    </tr>\n",
              "    <tr>\n",
              "      <th>75%</th>\n",
              "      <td>2186.000000</td>\n",
              "      <td>297.000000</td>\n",
              "    </tr>\n",
              "    <tr>\n",
              "      <th>max</th>\n",
              "      <td>12932.000000</td>\n",
              "      <td>1710.000000</td>\n",
              "    </tr>\n",
              "  </tbody>\n",
              "</table>\n",
              "</div>\n",
              "    <div class=\"colab-df-buttons\">\n",
              "\n",
              "  <div class=\"colab-df-container\">\n",
              "    <button class=\"colab-df-convert\" onclick=\"convertToInteractive('df-c0975b7e-861f-4c2e-aa31-0f03d9835909')\"\n",
              "            title=\"Convert this dataframe to an interactive table.\"\n",
              "            style=\"display:none;\">\n",
              "\n",
              "  <svg xmlns=\"http://www.w3.org/2000/svg\" height=\"24px\" viewBox=\"0 -960 960 960\">\n",
              "    <path d=\"M120-120v-720h720v720H120Zm60-500h600v-160H180v160Zm220 220h160v-160H400v160Zm0 220h160v-160H400v160ZM180-400h160v-160H180v160Zm440 0h160v-160H620v160ZM180-180h160v-160H180v160Zm440 0h160v-160H620v160Z\"/>\n",
              "  </svg>\n",
              "    </button>\n",
              "\n",
              "  <style>\n",
              "    .colab-df-container {\n",
              "      display:flex;\n",
              "      gap: 12px;\n",
              "    }\n",
              "\n",
              "    .colab-df-convert {\n",
              "      background-color: #E8F0FE;\n",
              "      border: none;\n",
              "      border-radius: 50%;\n",
              "      cursor: pointer;\n",
              "      display: none;\n",
              "      fill: #1967D2;\n",
              "      height: 32px;\n",
              "      padding: 0 0 0 0;\n",
              "      width: 32px;\n",
              "    }\n",
              "\n",
              "    .colab-df-convert:hover {\n",
              "      background-color: #E2EBFA;\n",
              "      box-shadow: 0px 1px 2px rgba(60, 64, 67, 0.3), 0px 1px 3px 1px rgba(60, 64, 67, 0.15);\n",
              "      fill: #174EA6;\n",
              "    }\n",
              "\n",
              "    .colab-df-buttons div {\n",
              "      margin-bottom: 4px;\n",
              "    }\n",
              "\n",
              "    [theme=dark] .colab-df-convert {\n",
              "      background-color: #3B4455;\n",
              "      fill: #D2E3FC;\n",
              "    }\n",
              "\n",
              "    [theme=dark] .colab-df-convert:hover {\n",
              "      background-color: #434B5C;\n",
              "      box-shadow: 0px 1px 3px 1px rgba(0, 0, 0, 0.15);\n",
              "      filter: drop-shadow(0px 1px 2px rgba(0, 0, 0, 0.3));\n",
              "      fill: #FFFFFF;\n",
              "    }\n",
              "  </style>\n",
              "\n",
              "    <script>\n",
              "      const buttonEl =\n",
              "        document.querySelector('#df-c0975b7e-861f-4c2e-aa31-0f03d9835909 button.colab-df-convert');\n",
              "      buttonEl.style.display =\n",
              "        google.colab.kernel.accessAllowed ? 'block' : 'none';\n",
              "\n",
              "      async function convertToInteractive(key) {\n",
              "        const element = document.querySelector('#df-c0975b7e-861f-4c2e-aa31-0f03d9835909');\n",
              "        const dataTable =\n",
              "          await google.colab.kernel.invokeFunction('convertToInteractive',\n",
              "                                                    [key], {});\n",
              "        if (!dataTable) return;\n",
              "\n",
              "        const docLinkHtml = 'Like what you see? Visit the ' +\n",
              "          '<a target=\"_blank\" href=https://colab.research.google.com/notebooks/data_table.ipynb>data table notebook</a>'\n",
              "          + ' to learn more about interactive tables.';\n",
              "        element.innerHTML = '';\n",
              "        dataTable['output_type'] = 'display_data';\n",
              "        await google.colab.output.renderOutput(dataTable, element);\n",
              "        const docLink = document.createElement('div');\n",
              "        docLink.innerHTML = docLinkHtml;\n",
              "        element.appendChild(docLink);\n",
              "      }\n",
              "    </script>\n",
              "  </div>\n",
              "\n",
              "\n",
              "<div id=\"df-6e0060fb-388b-407f-b425-99e6814dca50\">\n",
              "  <button class=\"colab-df-quickchart\" onclick=\"quickchart('df-6e0060fb-388b-407f-b425-99e6814dca50')\"\n",
              "            title=\"Suggest charts\"\n",
              "            style=\"display:none;\">\n",
              "\n",
              "<svg xmlns=\"http://www.w3.org/2000/svg\" height=\"24px\"viewBox=\"0 0 24 24\"\n",
              "     width=\"24px\">\n",
              "    <g>\n",
              "        <path d=\"M19 3H5c-1.1 0-2 .9-2 2v14c0 1.1.9 2 2 2h14c1.1 0 2-.9 2-2V5c0-1.1-.9-2-2-2zM9 17H7v-7h2v7zm4 0h-2V7h2v10zm4 0h-2v-4h2v4z\"/>\n",
              "    </g>\n",
              "</svg>\n",
              "  </button>\n",
              "\n",
              "<style>\n",
              "  .colab-df-quickchart {\n",
              "      --bg-color: #E8F0FE;\n",
              "      --fill-color: #1967D2;\n",
              "      --hover-bg-color: #E2EBFA;\n",
              "      --hover-fill-color: #174EA6;\n",
              "      --disabled-fill-color: #AAA;\n",
              "      --disabled-bg-color: #DDD;\n",
              "  }\n",
              "\n",
              "  [theme=dark] .colab-df-quickchart {\n",
              "      --bg-color: #3B4455;\n",
              "      --fill-color: #D2E3FC;\n",
              "      --hover-bg-color: #434B5C;\n",
              "      --hover-fill-color: #FFFFFF;\n",
              "      --disabled-bg-color: #3B4455;\n",
              "      --disabled-fill-color: #666;\n",
              "  }\n",
              "\n",
              "  .colab-df-quickchart {\n",
              "    background-color: var(--bg-color);\n",
              "    border: none;\n",
              "    border-radius: 50%;\n",
              "    cursor: pointer;\n",
              "    display: none;\n",
              "    fill: var(--fill-color);\n",
              "    height: 32px;\n",
              "    padding: 0;\n",
              "    width: 32px;\n",
              "  }\n",
              "\n",
              "  .colab-df-quickchart:hover {\n",
              "    background-color: var(--hover-bg-color);\n",
              "    box-shadow: 0 1px 2px rgba(60, 64, 67, 0.3), 0 1px 3px 1px rgba(60, 64, 67, 0.15);\n",
              "    fill: var(--button-hover-fill-color);\n",
              "  }\n",
              "\n",
              "  .colab-df-quickchart-complete:disabled,\n",
              "  .colab-df-quickchart-complete:disabled:hover {\n",
              "    background-color: var(--disabled-bg-color);\n",
              "    fill: var(--disabled-fill-color);\n",
              "    box-shadow: none;\n",
              "  }\n",
              "\n",
              "  .colab-df-spinner {\n",
              "    border: 2px solid var(--fill-color);\n",
              "    border-color: transparent;\n",
              "    border-bottom-color: var(--fill-color);\n",
              "    animation:\n",
              "      spin 1s steps(1) infinite;\n",
              "  }\n",
              "\n",
              "  @keyframes spin {\n",
              "    0% {\n",
              "      border-color: transparent;\n",
              "      border-bottom-color: var(--fill-color);\n",
              "      border-left-color: var(--fill-color);\n",
              "    }\n",
              "    20% {\n",
              "      border-color: transparent;\n",
              "      border-left-color: var(--fill-color);\n",
              "      border-top-color: var(--fill-color);\n",
              "    }\n",
              "    30% {\n",
              "      border-color: transparent;\n",
              "      border-left-color: var(--fill-color);\n",
              "      border-top-color: var(--fill-color);\n",
              "      border-right-color: var(--fill-color);\n",
              "    }\n",
              "    40% {\n",
              "      border-color: transparent;\n",
              "      border-right-color: var(--fill-color);\n",
              "      border-top-color: var(--fill-color);\n",
              "    }\n",
              "    60% {\n",
              "      border-color: transparent;\n",
              "      border-right-color: var(--fill-color);\n",
              "    }\n",
              "    80% {\n",
              "      border-color: transparent;\n",
              "      border-right-color: var(--fill-color);\n",
              "      border-bottom-color: var(--fill-color);\n",
              "    }\n",
              "    90% {\n",
              "      border-color: transparent;\n",
              "      border-bottom-color: var(--fill-color);\n",
              "    }\n",
              "  }\n",
              "</style>\n",
              "\n",
              "  <script>\n",
              "    async function quickchart(key) {\n",
              "      const quickchartButtonEl =\n",
              "        document.querySelector('#' + key + ' button');\n",
              "      quickchartButtonEl.disabled = true;  // To prevent multiple clicks.\n",
              "      quickchartButtonEl.classList.add('colab-df-spinner');\n",
              "      try {\n",
              "        const charts = await google.colab.kernel.invokeFunction(\n",
              "            'suggestCharts', [key], {});\n",
              "      } catch (error) {\n",
              "        console.error('Error during call to suggestCharts:', error);\n",
              "      }\n",
              "      quickchartButtonEl.classList.remove('colab-df-spinner');\n",
              "      quickchartButtonEl.classList.add('colab-df-quickchart-complete');\n",
              "    }\n",
              "    (() => {\n",
              "      let quickchartButtonEl =\n",
              "        document.querySelector('#df-6e0060fb-388b-407f-b425-99e6814dca50 button');\n",
              "      quickchartButtonEl.style.display =\n",
              "        google.colab.kernel.accessAllowed ? 'block' : 'none';\n",
              "    })();\n",
              "  </script>\n",
              "</div>\n",
              "\n",
              "    </div>\n",
              "  </div>\n"
            ],
            "application/vnd.google.colaboratory.intrinsic+json": {
              "type": "dataframe",
              "summary": "{\n  \"name\": \"train_exploded[['length', 'word_count']]\",\n  \"rows\": 8,\n  \"fields\": [\n    {\n      \"column\": \"length\",\n      \"properties\": {\n        \"dtype\": \"number\",\n        \"std\": 19203.9816551434,\n        \"min\": 426.0,\n        \"max\": 56255.0,\n        \"num_unique_values\": 8,\n        \"samples\": [\n          1973.7047551328772,\n          1696.0,\n          56255.0\n        ],\n        \"semantic_type\": \"\",\n        \"description\": \"\"\n      }\n    },\n    {\n      \"column\": \"word_count\",\n      \"properties\": {\n        \"dtype\": \"number\",\n        \"std\": 19747.393677258828,\n        \"min\": 60.0,\n        \"max\": 56255.0,\n        \"num_unique_values\": 8,\n        \"samples\": [\n          269.19111190116433,\n          231.0,\n          56255.0\n        ],\n        \"semantic_type\": \"\",\n        \"description\": \"\"\n      }\n    }\n  ]\n}"
            }
          },
          "metadata": {},
          "execution_count": 16
        }
      ],
      "source": [
        "# Ещё раз посмотрим через describe\n",
        "train_exploded[['length', 'word_count']].describe()"
      ]
    },
    {
      "cell_type": "code",
      "execution_count": null,
      "metadata": {
        "colab": {
          "base_uri": "https://localhost:8080/"
        },
        "id": "7RA44hj6rwiz",
        "outputId": "176b7916-a432-4c6f-f20a-0d22ed61969c"
      },
      "outputs": [
        {
          "output_type": "execute_result",
          "data": {
            "text/plain": [
              "206606.0"
            ]
          },
          "metadata": {},
          "execution_count": 17
        }
      ],
      "source": [
        "# Получается примерно 206к токенов\n",
        "train_exploded.groupby('text').agg({'length': 'max', 'word_count': 'max'}).word_count.sum()"
      ]
    },
    {
      "cell_type": "code",
      "execution_count": null,
      "metadata": {
        "colab": {
          "base_uri": "https://localhost:8080/",
          "height": 175
        },
        "id": "M3EQQrZ_H7L4",
        "outputId": "2ff4b347-707e-4b94-aa6d-d0e7013910c9"
      },
      "outputs": [
        {
          "output_type": "execute_result",
          "data": {
            "text/plain": [
              "                                                     text entity_type  \\\n",
              "count                                               56255       56255   \n",
              "unique                                                933          29   \n",
              "top     Политический кризис в Чехии: движение в сторон...      PERSON   \n",
              "freq                                                  450        9687   \n",
              "\n",
              "       entity_text  \n",
              "count        56255  \n",
              "unique       29495  \n",
              "top         России  \n",
              "freq           446  "
            ],
            "text/html": [
              "\n",
              "  <div id=\"df-d7488e95-9790-4653-b275-27edaf33c6aa\" class=\"colab-df-container\">\n",
              "    <div>\n",
              "<style scoped>\n",
              "    .dataframe tbody tr th:only-of-type {\n",
              "        vertical-align: middle;\n",
              "    }\n",
              "\n",
              "    .dataframe tbody tr th {\n",
              "        vertical-align: top;\n",
              "    }\n",
              "\n",
              "    .dataframe thead th {\n",
              "        text-align: right;\n",
              "    }\n",
              "</style>\n",
              "<table border=\"1\" class=\"dataframe\">\n",
              "  <thead>\n",
              "    <tr style=\"text-align: right;\">\n",
              "      <th></th>\n",
              "      <th>text</th>\n",
              "      <th>entity_type</th>\n",
              "      <th>entity_text</th>\n",
              "    </tr>\n",
              "  </thead>\n",
              "  <tbody>\n",
              "    <tr>\n",
              "      <th>count</th>\n",
              "      <td>56255</td>\n",
              "      <td>56255</td>\n",
              "      <td>56255</td>\n",
              "    </tr>\n",
              "    <tr>\n",
              "      <th>unique</th>\n",
              "      <td>933</td>\n",
              "      <td>29</td>\n",
              "      <td>29495</td>\n",
              "    </tr>\n",
              "    <tr>\n",
              "      <th>top</th>\n",
              "      <td>Политический кризис в Чехии: движение в сторон...</td>\n",
              "      <td>PERSON</td>\n",
              "      <td>России</td>\n",
              "    </tr>\n",
              "    <tr>\n",
              "      <th>freq</th>\n",
              "      <td>450</td>\n",
              "      <td>9687</td>\n",
              "      <td>446</td>\n",
              "    </tr>\n",
              "  </tbody>\n",
              "</table>\n",
              "</div>\n",
              "    <div class=\"colab-df-buttons\">\n",
              "\n",
              "  <div class=\"colab-df-container\">\n",
              "    <button class=\"colab-df-convert\" onclick=\"convertToInteractive('df-d7488e95-9790-4653-b275-27edaf33c6aa')\"\n",
              "            title=\"Convert this dataframe to an interactive table.\"\n",
              "            style=\"display:none;\">\n",
              "\n",
              "  <svg xmlns=\"http://www.w3.org/2000/svg\" height=\"24px\" viewBox=\"0 -960 960 960\">\n",
              "    <path d=\"M120-120v-720h720v720H120Zm60-500h600v-160H180v160Zm220 220h160v-160H400v160Zm0 220h160v-160H400v160ZM180-400h160v-160H180v160Zm440 0h160v-160H620v160ZM180-180h160v-160H180v160Zm440 0h160v-160H620v160Z\"/>\n",
              "  </svg>\n",
              "    </button>\n",
              "\n",
              "  <style>\n",
              "    .colab-df-container {\n",
              "      display:flex;\n",
              "      gap: 12px;\n",
              "    }\n",
              "\n",
              "    .colab-df-convert {\n",
              "      background-color: #E8F0FE;\n",
              "      border: none;\n",
              "      border-radius: 50%;\n",
              "      cursor: pointer;\n",
              "      display: none;\n",
              "      fill: #1967D2;\n",
              "      height: 32px;\n",
              "      padding: 0 0 0 0;\n",
              "      width: 32px;\n",
              "    }\n",
              "\n",
              "    .colab-df-convert:hover {\n",
              "      background-color: #E2EBFA;\n",
              "      box-shadow: 0px 1px 2px rgba(60, 64, 67, 0.3), 0px 1px 3px 1px rgba(60, 64, 67, 0.15);\n",
              "      fill: #174EA6;\n",
              "    }\n",
              "\n",
              "    .colab-df-buttons div {\n",
              "      margin-bottom: 4px;\n",
              "    }\n",
              "\n",
              "    [theme=dark] .colab-df-convert {\n",
              "      background-color: #3B4455;\n",
              "      fill: #D2E3FC;\n",
              "    }\n",
              "\n",
              "    [theme=dark] .colab-df-convert:hover {\n",
              "      background-color: #434B5C;\n",
              "      box-shadow: 0px 1px 3px 1px rgba(0, 0, 0, 0.15);\n",
              "      filter: drop-shadow(0px 1px 2px rgba(0, 0, 0, 0.3));\n",
              "      fill: #FFFFFF;\n",
              "    }\n",
              "  </style>\n",
              "\n",
              "    <script>\n",
              "      const buttonEl =\n",
              "        document.querySelector('#df-d7488e95-9790-4653-b275-27edaf33c6aa button.colab-df-convert');\n",
              "      buttonEl.style.display =\n",
              "        google.colab.kernel.accessAllowed ? 'block' : 'none';\n",
              "\n",
              "      async function convertToInteractive(key) {\n",
              "        const element = document.querySelector('#df-d7488e95-9790-4653-b275-27edaf33c6aa');\n",
              "        const dataTable =\n",
              "          await google.colab.kernel.invokeFunction('convertToInteractive',\n",
              "                                                    [key], {});\n",
              "        if (!dataTable) return;\n",
              "\n",
              "        const docLinkHtml = 'Like what you see? Visit the ' +\n",
              "          '<a target=\"_blank\" href=https://colab.research.google.com/notebooks/data_table.ipynb>data table notebook</a>'\n",
              "          + ' to learn more about interactive tables.';\n",
              "        element.innerHTML = '';\n",
              "        dataTable['output_type'] = 'display_data';\n",
              "        await google.colab.output.renderOutput(dataTable, element);\n",
              "        const docLink = document.createElement('div');\n",
              "        docLink.innerHTML = docLinkHtml;\n",
              "        element.appendChild(docLink);\n",
              "      }\n",
              "    </script>\n",
              "  </div>\n",
              "\n",
              "\n",
              "<div id=\"df-ebb8fb39-3d25-4521-b8e2-cabca06e9e17\">\n",
              "  <button class=\"colab-df-quickchart\" onclick=\"quickchart('df-ebb8fb39-3d25-4521-b8e2-cabca06e9e17')\"\n",
              "            title=\"Suggest charts\"\n",
              "            style=\"display:none;\">\n",
              "\n",
              "<svg xmlns=\"http://www.w3.org/2000/svg\" height=\"24px\"viewBox=\"0 0 24 24\"\n",
              "     width=\"24px\">\n",
              "    <g>\n",
              "        <path d=\"M19 3H5c-1.1 0-2 .9-2 2v14c0 1.1.9 2 2 2h14c1.1 0 2-.9 2-2V5c0-1.1-.9-2-2-2zM9 17H7v-7h2v7zm4 0h-2V7h2v10zm4 0h-2v-4h2v4z\"/>\n",
              "    </g>\n",
              "</svg>\n",
              "  </button>\n",
              "\n",
              "<style>\n",
              "  .colab-df-quickchart {\n",
              "      --bg-color: #E8F0FE;\n",
              "      --fill-color: #1967D2;\n",
              "      --hover-bg-color: #E2EBFA;\n",
              "      --hover-fill-color: #174EA6;\n",
              "      --disabled-fill-color: #AAA;\n",
              "      --disabled-bg-color: #DDD;\n",
              "  }\n",
              "\n",
              "  [theme=dark] .colab-df-quickchart {\n",
              "      --bg-color: #3B4455;\n",
              "      --fill-color: #D2E3FC;\n",
              "      --hover-bg-color: #434B5C;\n",
              "      --hover-fill-color: #FFFFFF;\n",
              "      --disabled-bg-color: #3B4455;\n",
              "      --disabled-fill-color: #666;\n",
              "  }\n",
              "\n",
              "  .colab-df-quickchart {\n",
              "    background-color: var(--bg-color);\n",
              "    border: none;\n",
              "    border-radius: 50%;\n",
              "    cursor: pointer;\n",
              "    display: none;\n",
              "    fill: var(--fill-color);\n",
              "    height: 32px;\n",
              "    padding: 0;\n",
              "    width: 32px;\n",
              "  }\n",
              "\n",
              "  .colab-df-quickchart:hover {\n",
              "    background-color: var(--hover-bg-color);\n",
              "    box-shadow: 0 1px 2px rgba(60, 64, 67, 0.3), 0 1px 3px 1px rgba(60, 64, 67, 0.15);\n",
              "    fill: var(--button-hover-fill-color);\n",
              "  }\n",
              "\n",
              "  .colab-df-quickchart-complete:disabled,\n",
              "  .colab-df-quickchart-complete:disabled:hover {\n",
              "    background-color: var(--disabled-bg-color);\n",
              "    fill: var(--disabled-fill-color);\n",
              "    box-shadow: none;\n",
              "  }\n",
              "\n",
              "  .colab-df-spinner {\n",
              "    border: 2px solid var(--fill-color);\n",
              "    border-color: transparent;\n",
              "    border-bottom-color: var(--fill-color);\n",
              "    animation:\n",
              "      spin 1s steps(1) infinite;\n",
              "  }\n",
              "\n",
              "  @keyframes spin {\n",
              "    0% {\n",
              "      border-color: transparent;\n",
              "      border-bottom-color: var(--fill-color);\n",
              "      border-left-color: var(--fill-color);\n",
              "    }\n",
              "    20% {\n",
              "      border-color: transparent;\n",
              "      border-left-color: var(--fill-color);\n",
              "      border-top-color: var(--fill-color);\n",
              "    }\n",
              "    30% {\n",
              "      border-color: transparent;\n",
              "      border-left-color: var(--fill-color);\n",
              "      border-top-color: var(--fill-color);\n",
              "      border-right-color: var(--fill-color);\n",
              "    }\n",
              "    40% {\n",
              "      border-color: transparent;\n",
              "      border-right-color: var(--fill-color);\n",
              "      border-top-color: var(--fill-color);\n",
              "    }\n",
              "    60% {\n",
              "      border-color: transparent;\n",
              "      border-right-color: var(--fill-color);\n",
              "    }\n",
              "    80% {\n",
              "      border-color: transparent;\n",
              "      border-right-color: var(--fill-color);\n",
              "      border-bottom-color: var(--fill-color);\n",
              "    }\n",
              "    90% {\n",
              "      border-color: transparent;\n",
              "      border-bottom-color: var(--fill-color);\n",
              "    }\n",
              "  }\n",
              "</style>\n",
              "\n",
              "  <script>\n",
              "    async function quickchart(key) {\n",
              "      const quickchartButtonEl =\n",
              "        document.querySelector('#' + key + ' button');\n",
              "      quickchartButtonEl.disabled = true;  // To prevent multiple clicks.\n",
              "      quickchartButtonEl.classList.add('colab-df-spinner');\n",
              "      try {\n",
              "        const charts = await google.colab.kernel.invokeFunction(\n",
              "            'suggestCharts', [key], {});\n",
              "      } catch (error) {\n",
              "        console.error('Error during call to suggestCharts:', error);\n",
              "      }\n",
              "      quickchartButtonEl.classList.remove('colab-df-spinner');\n",
              "      quickchartButtonEl.classList.add('colab-df-quickchart-complete');\n",
              "    }\n",
              "    (() => {\n",
              "      let quickchartButtonEl =\n",
              "        document.querySelector('#df-ebb8fb39-3d25-4521-b8e2-cabca06e9e17 button');\n",
              "      quickchartButtonEl.style.display =\n",
              "        google.colab.kernel.accessAllowed ? 'block' : 'none';\n",
              "    })();\n",
              "  </script>\n",
              "</div>\n",
              "\n",
              "    </div>\n",
              "  </div>\n"
            ],
            "application/vnd.google.colaboratory.intrinsic+json": {
              "type": "dataframe",
              "summary": "{\n  \"name\": \"train_exploded\",\n  \"rows\": 4,\n  \"fields\": [\n    {\n      \"column\": \"text\",\n      \"properties\": {\n        \"dtype\": \"string\",\n        \"num_unique_values\": 4,\n        \"samples\": [\n          933,\n          \"450\",\n          \"56255\"\n        ],\n        \"semantic_type\": \"\",\n        \"description\": \"\"\n      }\n    },\n    {\n      \"column\": \"entity_type\",\n      \"properties\": {\n        \"dtype\": \"string\",\n        \"num_unique_values\": 4,\n        \"samples\": [\n          29,\n          \"9687\",\n          \"56255\"\n        ],\n        \"semantic_type\": \"\",\n        \"description\": \"\"\n      }\n    },\n    {\n      \"column\": \"entity_text\",\n      \"properties\": {\n        \"dtype\": \"string\",\n        \"num_unique_values\": 4,\n        \"samples\": [\n          29495,\n          \"446\",\n          \"56255\"\n        ],\n        \"semantic_type\": \"\",\n        \"description\": \"\"\n      }\n    }\n  ]\n}"
            }
          },
          "metadata": {},
          "execution_count": 18
        }
      ],
      "source": [
        "train_exploded.describe(include='object')"
      ]
    },
    {
      "cell_type": "markdown",
      "metadata": {
        "id": "gX15pB5QWLyw"
      },
      "source": [
        "Чаще всего в текстах встречаются люди. Самая частая сущность \"России\" - конкретно в такой форме, поскольку в исходном датасете сущности не лемматизированы."
      ]
    },
    {
      "cell_type": "code",
      "execution_count": null,
      "metadata": {
        "colab": {
          "base_uri": "https://localhost:8080/",
          "height": 1000
        },
        "id": "L7VIq2lZh3K-",
        "outputId": "9f7008d5-b9f4-438a-f82d-bd5b79e62efa"
      },
      "outputs": [
        {
          "output_type": "execute_result",
          "data": {
            "text/plain": [
              "entity_type\n",
              "PERSON               9687\n",
              "PROFESSION           8758\n",
              "ORGANIZATION         7067\n",
              "EVENT                6152\n",
              "DATE                 4936\n",
              "COUNTRY              4444\n",
              "CITY                 2293\n",
              "NUMBER               1912\n",
              "AGE                  1193\n",
              "ORDINAL              1019\n",
              "AWARD                 767\n",
              "NATIONALITY           754\n",
              "STATE_OR_PROVINCE     750\n",
              "FACILITY              741\n",
              "LAW                   713\n",
              "WORK_OF_ART           689\n",
              "CRIME                 592\n",
              "DISEASE               561\n",
              "LOCATION              534\n",
              "IDEOLOGY              525\n",
              "PRODUCT               492\n",
              "PENALTY               381\n",
              "TIME                  336\n",
              "MONEY                 325\n",
              "DISTRICT              203\n",
              "RELIGION              175\n",
              "PERCENT               118\n",
              "LANGUAGE               85\n",
              "FAMILY                 53\n",
              "Name: count, dtype: int64"
            ],
            "text/html": [
              "<div>\n",
              "<style scoped>\n",
              "    .dataframe tbody tr th:only-of-type {\n",
              "        vertical-align: middle;\n",
              "    }\n",
              "\n",
              "    .dataframe tbody tr th {\n",
              "        vertical-align: top;\n",
              "    }\n",
              "\n",
              "    .dataframe thead th {\n",
              "        text-align: right;\n",
              "    }\n",
              "</style>\n",
              "<table border=\"1\" class=\"dataframe\">\n",
              "  <thead>\n",
              "    <tr style=\"text-align: right;\">\n",
              "      <th></th>\n",
              "      <th>count</th>\n",
              "    </tr>\n",
              "    <tr>\n",
              "      <th>entity_type</th>\n",
              "      <th></th>\n",
              "    </tr>\n",
              "  </thead>\n",
              "  <tbody>\n",
              "    <tr>\n",
              "      <th>PERSON</th>\n",
              "      <td>9687</td>\n",
              "    </tr>\n",
              "    <tr>\n",
              "      <th>PROFESSION</th>\n",
              "      <td>8758</td>\n",
              "    </tr>\n",
              "    <tr>\n",
              "      <th>ORGANIZATION</th>\n",
              "      <td>7067</td>\n",
              "    </tr>\n",
              "    <tr>\n",
              "      <th>EVENT</th>\n",
              "      <td>6152</td>\n",
              "    </tr>\n",
              "    <tr>\n",
              "      <th>DATE</th>\n",
              "      <td>4936</td>\n",
              "    </tr>\n",
              "    <tr>\n",
              "      <th>COUNTRY</th>\n",
              "      <td>4444</td>\n",
              "    </tr>\n",
              "    <tr>\n",
              "      <th>CITY</th>\n",
              "      <td>2293</td>\n",
              "    </tr>\n",
              "    <tr>\n",
              "      <th>NUMBER</th>\n",
              "      <td>1912</td>\n",
              "    </tr>\n",
              "    <tr>\n",
              "      <th>AGE</th>\n",
              "      <td>1193</td>\n",
              "    </tr>\n",
              "    <tr>\n",
              "      <th>ORDINAL</th>\n",
              "      <td>1019</td>\n",
              "    </tr>\n",
              "    <tr>\n",
              "      <th>AWARD</th>\n",
              "      <td>767</td>\n",
              "    </tr>\n",
              "    <tr>\n",
              "      <th>NATIONALITY</th>\n",
              "      <td>754</td>\n",
              "    </tr>\n",
              "    <tr>\n",
              "      <th>STATE_OR_PROVINCE</th>\n",
              "      <td>750</td>\n",
              "    </tr>\n",
              "    <tr>\n",
              "      <th>FACILITY</th>\n",
              "      <td>741</td>\n",
              "    </tr>\n",
              "    <tr>\n",
              "      <th>LAW</th>\n",
              "      <td>713</td>\n",
              "    </tr>\n",
              "    <tr>\n",
              "      <th>WORK_OF_ART</th>\n",
              "      <td>689</td>\n",
              "    </tr>\n",
              "    <tr>\n",
              "      <th>CRIME</th>\n",
              "      <td>592</td>\n",
              "    </tr>\n",
              "    <tr>\n",
              "      <th>DISEASE</th>\n",
              "      <td>561</td>\n",
              "    </tr>\n",
              "    <tr>\n",
              "      <th>LOCATION</th>\n",
              "      <td>534</td>\n",
              "    </tr>\n",
              "    <tr>\n",
              "      <th>IDEOLOGY</th>\n",
              "      <td>525</td>\n",
              "    </tr>\n",
              "    <tr>\n",
              "      <th>PRODUCT</th>\n",
              "      <td>492</td>\n",
              "    </tr>\n",
              "    <tr>\n",
              "      <th>PENALTY</th>\n",
              "      <td>381</td>\n",
              "    </tr>\n",
              "    <tr>\n",
              "      <th>TIME</th>\n",
              "      <td>336</td>\n",
              "    </tr>\n",
              "    <tr>\n",
              "      <th>MONEY</th>\n",
              "      <td>325</td>\n",
              "    </tr>\n",
              "    <tr>\n",
              "      <th>DISTRICT</th>\n",
              "      <td>203</td>\n",
              "    </tr>\n",
              "    <tr>\n",
              "      <th>RELIGION</th>\n",
              "      <td>175</td>\n",
              "    </tr>\n",
              "    <tr>\n",
              "      <th>PERCENT</th>\n",
              "      <td>118</td>\n",
              "    </tr>\n",
              "    <tr>\n",
              "      <th>LANGUAGE</th>\n",
              "      <td>85</td>\n",
              "    </tr>\n",
              "    <tr>\n",
              "      <th>FAMILY</th>\n",
              "      <td>53</td>\n",
              "    </tr>\n",
              "  </tbody>\n",
              "</table>\n",
              "</div><br><label><b>dtype:</b> int64</label>"
            ]
          },
          "metadata": {},
          "execution_count": 19
        }
      ],
      "source": [
        "train_exploded['entity_type'].value_counts()"
      ]
    },
    {
      "cell_type": "markdown",
      "metadata": {
        "id": "u7ta2V6tWwqD"
      },
      "source": [
        "В целом вот так распределены у нас сущности. В топе - люди, профессии, организации, события и даты. Реже всего встречаются районы, религии, проценты, языки и видимо что-то про семью, посмотрим на примерах"
      ]
    },
    {
      "cell_type": "code",
      "execution_count": null,
      "metadata": {
        "colab": {
          "base_uri": "https://localhost:8080/"
        },
        "id": "cvIciPWKMj8U",
        "outputId": "306ce370-7da0-4462-cac3-4a1f80122a64"
      },
      "outputs": [
        {
          "output_type": "stream",
          "name": "stdout",
          "text": [
            "<class 'pandas.core.frame.DataFrame'>\n",
            "RangeIndex: 56255 entries, 0 to 56254\n",
            "Data columns (total 7 columns):\n",
            " #   Column       Non-Null Count  Dtype  \n",
            "---  ------       --------------  -----  \n",
            " 0   text         56255 non-null  object \n",
            " 1   entity_type  56255 non-null  object \n",
            " 2   start_pos    56255 non-null  int64  \n",
            " 3   end_pos      56255 non-null  int64  \n",
            " 4   entity_text  56255 non-null  object \n",
            " 5   length       56255 non-null  float64\n",
            " 6   word_count   56255 non-null  float64\n",
            "dtypes: float64(2), int64(2), object(3)\n",
            "memory usage: 3.0+ MB\n"
          ]
        }
      ],
      "source": [
        "train_exploded.info()"
      ]
    },
    {
      "cell_type": "markdown",
      "metadata": {
        "id": "GMZJz0GXXK3N"
      },
      "source": [
        "Интересно посмотреть на самые частые сущности по категориям"
      ]
    },
    {
      "cell_type": "code",
      "execution_count": null,
      "metadata": {
        "colab": {
          "base_uri": "https://localhost:8080/",
          "height": 993
        },
        "id": "55nyO0AhYUI7",
        "outputId": "50a1d941-d544-4393-d3e0-25a6d6b571b4"
      },
      "outputs": [
        {
          "output_type": "stream",
          "name": "stderr",
          "text": [
            "<ipython-input-21-5a16c67a6da8>:26: FutureWarning: Styler.applymap has been deprecated. Use Styler.map instead.\n",
            "  styled_df = top_entities_df.style.applymap(highlight_none, subset=['Топ-1', 'Топ-2', 'Топ-3', 'Топ-4', 'Топ-5'])\n"
          ]
        },
        {
          "output_type": "display_data",
          "data": {
            "text/plain": [
              "<pandas.io.formats.style.Styler at 0x7fd3c936ae90>"
            ],
            "text/html": [
              "<style type=\"text/css\">\n",
              "</style>\n",
              "<table id=\"T_2b403\" class=\"dataframe\">\n",
              "  <thead>\n",
              "    <tr>\n",
              "      <th class=\"blank level0\" >&nbsp;</th>\n",
              "      <th id=\"T_2b403_level0_col0\" class=\"col_heading level0 col0\" >Тип сущности</th>\n",
              "      <th id=\"T_2b403_level0_col1\" class=\"col_heading level0 col1\" >Топ-1</th>\n",
              "      <th id=\"T_2b403_level0_col2\" class=\"col_heading level0 col2\" >Топ-2</th>\n",
              "      <th id=\"T_2b403_level0_col3\" class=\"col_heading level0 col3\" >Топ-3</th>\n",
              "      <th id=\"T_2b403_level0_col4\" class=\"col_heading level0 col4\" >Топ-4</th>\n",
              "      <th id=\"T_2b403_level0_col5\" class=\"col_heading level0 col5\" >Топ-5</th>\n",
              "    </tr>\n",
              "  </thead>\n",
              "  <tbody>\n",
              "    <tr>\n",
              "      <th id=\"T_2b403_level0_row0\" class=\"row_heading level0 row0\" >0</th>\n",
              "      <td id=\"T_2b403_row0_col0\" class=\"data row0 col0\" >PERSON</td>\n",
              "      <td id=\"T_2b403_row0_col1\" class=\"data row0 col1\" >Владимир Путин</td>\n",
              "      <td id=\"T_2b403_row0_col2\" class=\"data row0 col2\" >Путин</td>\n",
              "      <td id=\"T_2b403_row0_col3\" class=\"data row0 col3\" >Барак Обама</td>\n",
              "      <td id=\"T_2b403_row0_col4\" class=\"data row0 col4\" >Обама</td>\n",
              "      <td id=\"T_2b403_row0_col5\" class=\"data row0 col5\" >Дмитрий Медведев</td>\n",
              "    </tr>\n",
              "    <tr>\n",
              "      <th id=\"T_2b403_level0_row1\" class=\"row_heading level0 row1\" >1</th>\n",
              "      <td id=\"T_2b403_row1_col0\" class=\"data row1 col0\" >PROFESSION</td>\n",
              "      <td id=\"T_2b403_row1_col1\" class=\"data row1 col1\" >президента</td>\n",
              "      <td id=\"T_2b403_row1_col2\" class=\"data row1 col2\" >президент</td>\n",
              "      <td id=\"T_2b403_row1_col3\" class=\"data row1 col3\" >Президент</td>\n",
              "      <td id=\"T_2b403_row1_col4\" class=\"data row1 col4\" >президентом</td>\n",
              "      <td id=\"T_2b403_row1_col5\" class=\"data row1 col5\" >премьер-министра</td>\n",
              "    </tr>\n",
              "    <tr>\n",
              "      <th id=\"T_2b403_level0_row2\" class=\"row_heading level0 row2\" >2</th>\n",
              "      <td id=\"T_2b403_row2_col0\" class=\"data row2 col0\" >ORGANIZATION</td>\n",
              "      <td id=\"T_2b403_row2_col1\" class=\"data row2 col1\" >правительство</td>\n",
              "      <td id=\"T_2b403_row2_col2\" class=\"data row2 col2\" >правительства</td>\n",
              "      <td id=\"T_2b403_row2_col3\" class=\"data row2 col3\" >ИГ</td>\n",
              "      <td id=\"T_2b403_row2_col4\" class=\"data row2 col4\" >полиции</td>\n",
              "      <td id=\"T_2b403_row2_col5\" class=\"data row2 col5\" >МВД</td>\n",
              "    </tr>\n",
              "    <tr>\n",
              "      <th id=\"T_2b403_level0_row3\" class=\"row_heading level0 row3\" >3</th>\n",
              "      <td id=\"T_2b403_row3_col0\" class=\"data row3 col0\" >EVENT</td>\n",
              "      <td id=\"T_2b403_row3_col1\" class=\"data row3 col1\" >скончался</td>\n",
              "      <td id=\"T_2b403_row3_col2\" class=\"data row3 col2\" >умер</td>\n",
              "      <td id=\"T_2b403_row3_col3\" class=\"data row3 col3\" >родился</td>\n",
              "      <td id=\"T_2b403_row3_col4\" class=\"data row3 col4\" >выборах</td>\n",
              "      <td id=\"T_2b403_row3_col5\" class=\"data row3 col5\" >отставку</td>\n",
              "    </tr>\n",
              "    <tr>\n",
              "      <th id=\"T_2b403_level0_row4\" class=\"row_heading level0 row4\" >4</th>\n",
              "      <td id=\"T_2b403_row4_col0\" class=\"data row4 col0\" >DATE</td>\n",
              "      <td id=\"T_2b403_row4_col1\" class=\"data row4 col1\" >в понедельник</td>\n",
              "      <td id=\"T_2b403_row4_col2\" class=\"data row4 col2\" >в 2009 году</td>\n",
              "      <td id=\"T_2b403_row4_col3\" class=\"data row4 col3\" >во вторник</td>\n",
              "      <td id=\"T_2b403_row4_col4\" class=\"data row4 col4\" >Сегодня</td>\n",
              "      <td id=\"T_2b403_row4_col5\" class=\"data row4 col5\" >в 2004 году</td>\n",
              "    </tr>\n",
              "    <tr>\n",
              "      <th id=\"T_2b403_level0_row5\" class=\"row_heading level0 row5\" >5</th>\n",
              "      <td id=\"T_2b403_row5_col0\" class=\"data row5 col0\" >COUNTRY</td>\n",
              "      <td id=\"T_2b403_row5_col1\" class=\"data row5 col1\" >России</td>\n",
              "      <td id=\"T_2b403_row5_col2\" class=\"data row5 col2\" >США</td>\n",
              "      <td id=\"T_2b403_row5_col3\" class=\"data row5 col3\" >РФ</td>\n",
              "      <td id=\"T_2b403_row5_col4\" class=\"data row5 col4\" >Украины</td>\n",
              "      <td id=\"T_2b403_row5_col5\" class=\"data row5 col5\" >Великобритании</td>\n",
              "    </tr>\n",
              "    <tr>\n",
              "      <th id=\"T_2b403_level0_row6\" class=\"row_heading level0 row6\" >6</th>\n",
              "      <td id=\"T_2b403_row6_col0\" class=\"data row6 col0\" >CITY</td>\n",
              "      <td id=\"T_2b403_row6_col1\" class=\"data row6 col1\" >Москве</td>\n",
              "      <td id=\"T_2b403_row6_col2\" class=\"data row6 col2\" >Москвы</td>\n",
              "      <td id=\"T_2b403_row6_col3\" class=\"data row6 col3\" >Нью-Йорке</td>\n",
              "      <td id=\"T_2b403_row6_col4\" class=\"data row6 col4\" >Лондоне</td>\n",
              "      <td id=\"T_2b403_row6_col5\" class=\"data row6 col5\" >московского</td>\n",
              "    </tr>\n",
              "    <tr>\n",
              "      <th id=\"T_2b403_level0_row7\" class=\"row_heading level0 row7\" >7</th>\n",
              "      <td id=\"T_2b403_row7_col0\" class=\"data row7 col0\" >NUMBER</td>\n",
              "      <td id=\"T_2b403_row7_col1\" class=\"data row7 col1\" >двух</td>\n",
              "      <td id=\"T_2b403_row7_col2\" class=\"data row7 col2\" >два</td>\n",
              "      <td id=\"T_2b403_row7_col3\" class=\"data row7 col3\" >один</td>\n",
              "      <td id=\"T_2b403_row7_col4\" class=\"data row7 col4\" >три</td>\n",
              "      <td id=\"T_2b403_row7_col5\" class=\"data row7 col5\" >двое</td>\n",
              "    </tr>\n",
              "    <tr>\n",
              "      <th id=\"T_2b403_level0_row8\" class=\"row_heading level0 row8\" >8</th>\n",
              "      <td id=\"T_2b403_row8_col0\" class=\"data row8 col0\" >AGE</td>\n",
              "      <td id=\"T_2b403_row8_col1\" class=\"data row8 col1\" >40-летний</td>\n",
              "      <td id=\"T_2b403_row8_col2\" class=\"data row8 col2\" >54-летний</td>\n",
              "      <td id=\"T_2b403_row8_col3\" class=\"data row8 col3\" >31-летний</td>\n",
              "      <td id=\"T_2b403_row8_col4\" class=\"data row8 col4\" >50 лет</td>\n",
              "      <td id=\"T_2b403_row8_col5\" class=\"data row8 col5\" >26-летний</td>\n",
              "    </tr>\n",
              "    <tr>\n",
              "      <th id=\"T_2b403_level0_row9\" class=\"row_heading level0 row9\" >9</th>\n",
              "      <td id=\"T_2b403_row9_col0\" class=\"data row9 col0\" >ORDINAL</td>\n",
              "      <td id=\"T_2b403_row9_col1\" class=\"data row9 col1\" >первый</td>\n",
              "      <td id=\"T_2b403_row9_col2\" class=\"data row9 col2\" >второй</td>\n",
              "      <td id=\"T_2b403_row9_col3\" class=\"data row9 col3\" >первым</td>\n",
              "      <td id=\"T_2b403_row9_col4\" class=\"data row9 col4\" >первого</td>\n",
              "      <td id=\"T_2b403_row9_col5\" class=\"data row9 col5\" >II</td>\n",
              "    </tr>\n",
              "    <tr>\n",
              "      <th id=\"T_2b403_level0_row10\" class=\"row_heading level0 row10\" >10</th>\n",
              "      <td id=\"T_2b403_row10_col0\" class=\"data row10 col0\" >AWARD</td>\n",
              "      <td id=\"T_2b403_row10_col1\" class=\"data row10 col1\" >Оскар</td>\n",
              "      <td id=\"T_2b403_row10_col2\" class=\"data row10 col2\" >За заслуги перед Отечеством</td>\n",
              "      <td id=\"T_2b403_row10_col3\" class=\"data row10 col3\" >Нобелевской премии</td>\n",
              "      <td id=\"T_2b403_row10_col4\" class=\"data row10 col4\" >Нобелевскую премию</td>\n",
              "      <td id=\"T_2b403_row10_col5\" class=\"data row10 col5\" >чемпион мира</td>\n",
              "    </tr>\n",
              "    <tr>\n",
              "      <th id=\"T_2b403_level0_row11\" class=\"row_heading level0 row11\" >11</th>\n",
              "      <td id=\"T_2b403_row11_col0\" class=\"data row11 col0\" >NATIONALITY</td>\n",
              "      <td id=\"T_2b403_row11_col1\" class=\"data row11 col1\" >американский</td>\n",
              "      <td id=\"T_2b403_row11_col2\" class=\"data row11 col2\" >российский</td>\n",
              "      <td id=\"T_2b403_row11_col3\" class=\"data row11 col3\" >россиян</td>\n",
              "      <td id=\"T_2b403_row11_col4\" class=\"data row11 col4\" >американец</td>\n",
              "      <td id=\"T_2b403_row11_col5\" class=\"data row11 col5\" >россиянин</td>\n",
              "    </tr>\n",
              "    <tr>\n",
              "      <th id=\"T_2b403_level0_row12\" class=\"row_heading level0 row12\" >12</th>\n",
              "      <td id=\"T_2b403_row12_col0\" class=\"data row12 col0\" >STATE_OR_PROVINCE</td>\n",
              "      <td id=\"T_2b403_row12_col1\" class=\"data row12 col1\" >Чувашии</td>\n",
              "      <td id=\"T_2b403_row12_col2\" class=\"data row12 col2\" >Массачусетс</td>\n",
              "      <td id=\"T_2b403_row12_col3\" class=\"data row12 col3\" >Калифорния</td>\n",
              "      <td id=\"T_2b403_row12_col4\" class=\"data row12 col4\" >Каталонии</td>\n",
              "      <td id=\"T_2b403_row12_col5\" class=\"data row12 col5\" >Калифорнии</td>\n",
              "    </tr>\n",
              "    <tr>\n",
              "      <th id=\"T_2b403_level0_row13\" class=\"row_heading level0 row13\" >13</th>\n",
              "      <td id=\"T_2b403_row13_col0\" class=\"data row13 col0\" >FACILITY</td>\n",
              "      <td id=\"T_2b403_row13_col1\" class=\"data row13 col1\" >МКС</td>\n",
              "      <td id=\"T_2b403_row13_col2\" class=\"data row13 col2\" >Войковская</td>\n",
              "      <td id=\"T_2b403_row13_col3\" class=\"data row13 col3\" >Храмовую гору</td>\n",
              "      <td id=\"T_2b403_row13_col4\" class=\"data row13 col4\" >Белом доме</td>\n",
              "      <td id=\"T_2b403_row13_col5\" class=\"data row13 col5\" >Гуантанамо</td>\n",
              "    </tr>\n",
              "    <tr>\n",
              "      <th id=\"T_2b403_level0_row14\" class=\"row_heading level0 row14\" >14</th>\n",
              "      <td id=\"T_2b403_row14_col0\" class=\"data row14 col0\" >LAW</td>\n",
              "      <td id=\"T_2b403_row14_col1\" class=\"data row14 col1\" >УК</td>\n",
              "      <td id=\"T_2b403_row14_col2\" class=\"data row14 col2\" >УК РФ</td>\n",
              "      <td id=\"T_2b403_row14_col3\" class=\"data row14 col3\" >Конституции</td>\n",
              "      <td id=\"T_2b403_row14_col4\" class=\"data row14 col4\" >конституции</td>\n",
              "      <td id=\"T_2b403_row14_col5\" class=\"data row14 col5\" >КоАП</td>\n",
              "    </tr>\n",
              "    <tr>\n",
              "      <th id=\"T_2b403_level0_row15\" class=\"row_heading level0 row15\" >15</th>\n",
              "      <td id=\"T_2b403_row15_col0\" class=\"data row15 col0\" >WORK_OF_ART</td>\n",
              "      <td id=\"T_2b403_row15_col1\" class=\"data row15 col1\" >Spirit</td>\n",
              "      <td id=\"T_2b403_row15_col2\" class=\"data row15 col2\" >Gangnam Style</td>\n",
              "      <td id=\"T_2b403_row15_col3\" class=\"data row15 col3\" >Один день Ивана Денисовича</td>\n",
              "      <td id=\"T_2b403_row15_col4\" class=\"data row15 col4\" >Манифест</td>\n",
              "      <td id=\"T_2b403_row15_col5\" class=\"data row15 col5\" >КВН</td>\n",
              "    </tr>\n",
              "    <tr>\n",
              "      <th id=\"T_2b403_level0_row16\" class=\"row_heading level0 row16\" >16</th>\n",
              "      <td id=\"T_2b403_row16_col0\" class=\"data row16 col0\" >CRIME</td>\n",
              "      <td id=\"T_2b403_row16_col1\" class=\"data row16 col1\" >убийстве</td>\n",
              "      <td id=\"T_2b403_row16_col2\" class=\"data row16 col2\" >коррупции</td>\n",
              "      <td id=\"T_2b403_row16_col3\" class=\"data row16 col3\" >мошенничестве</td>\n",
              "      <td id=\"T_2b403_row16_col4\" class=\"data row16 col4\" >убийство</td>\n",
              "      <td id=\"T_2b403_row16_col5\" class=\"data row16 col5\" >шпионаже</td>\n",
              "    </tr>\n",
              "    <tr>\n",
              "      <th id=\"T_2b403_level0_row17\" class=\"row_heading level0 row17\" >17</th>\n",
              "      <td id=\"T_2b403_row17_col0\" class=\"data row17 col0\" >DISEASE</td>\n",
              "      <td id=\"T_2b403_row17_col1\" class=\"data row17 col1\" >рака</td>\n",
              "      <td id=\"T_2b403_row17_col2\" class=\"data row17 col2\" >коронавируса</td>\n",
              "      <td id=\"T_2b403_row17_col3\" class=\"data row17 col3\" >COVID-19</td>\n",
              "      <td id=\"T_2b403_row17_col4\" class=\"data row17 col4\" >коронавирусом</td>\n",
              "      <td id=\"T_2b403_row17_col5\" class=\"data row17 col5\" >SARS-CoV-2</td>\n",
              "    </tr>\n",
              "    <tr>\n",
              "      <th id=\"T_2b403_level0_row18\" class=\"row_heading level0 row18\" >18</th>\n",
              "      <td id=\"T_2b403_row18_col0\" class=\"data row18 col0\" >LOCATION</td>\n",
              "      <td id=\"T_2b403_row18_col1\" class=\"data row18 col1\" >Европы</td>\n",
              "      <td id=\"T_2b403_row18_col2\" class=\"data row18 col2\" >Европе</td>\n",
              "      <td id=\"T_2b403_row18_col3\" class=\"data row18 col3\" >Европейского</td>\n",
              "      <td id=\"T_2b403_row18_col4\" class=\"data row18 col4\" >Европу</td>\n",
              "      <td id=\"T_2b403_row18_col5\" class=\"data row18 col5\" >Азии</td>\n",
              "    </tr>\n",
              "    <tr>\n",
              "      <th id=\"T_2b403_level0_row19\" class=\"row_heading level0 row19\" >19</th>\n",
              "      <td id=\"T_2b403_row19_col0\" class=\"data row19 col0\" >IDEOLOGY</td>\n",
              "      <td id=\"T_2b403_row19_col1\" class=\"data row19 col1\" >оппозиции</td>\n",
              "      <td id=\"T_2b403_row19_col2\" class=\"data row19 col2\" >Коммунистической</td>\n",
              "      <td id=\"T_2b403_row19_col3\" class=\"data row19 col3\" >Демократической</td>\n",
              "      <td id=\"T_2b403_row19_col4\" class=\"data row19 col4\" >Республиканской</td>\n",
              "      <td id=\"T_2b403_row19_col5\" class=\"data row19 col5\" >терроризма</td>\n",
              "    </tr>\n",
              "    <tr>\n",
              "      <th id=\"T_2b403_level0_row20\" class=\"row_heading level0 row20\" >20</th>\n",
              "      <td id=\"T_2b403_row20_col0\" class=\"data row20 col0\" >PRODUCT</td>\n",
              "      <td id=\"T_2b403_row20_col1\" class=\"data row20 col1\" >Facebook</td>\n",
              "      <td id=\"T_2b403_row20_col2\" class=\"data row20 col2\" >интернет</td>\n",
              "      <td id=\"T_2b403_row20_col3\" class=\"data row20 col3\" >Twitter</td>\n",
              "      <td id=\"T_2b403_row20_col4\" class=\"data row20 col4\" >Интернет</td>\n",
              "      <td id=\"T_2b403_row20_col5\" class=\"data row20 col5\" >Telegram</td>\n",
              "    </tr>\n",
              "    <tr>\n",
              "      <th id=\"T_2b403_level0_row21\" class=\"row_heading level0 row21\" >21</th>\n",
              "      <td id=\"T_2b403_row21_col0\" class=\"data row21 col0\" >PENALTY</td>\n",
              "      <td id=\"T_2b403_row21_col1\" class=\"data row21 col1\" >тюрьмы</td>\n",
              "      <td id=\"T_2b403_row21_col2\" class=\"data row21 col2\" >лишения свободы</td>\n",
              "      <td id=\"T_2b403_row21_col3\" class=\"data row21 col3\" >штраф</td>\n",
              "      <td id=\"T_2b403_row21_col4\" class=\"data row21 col4\" >тюремного заключения</td>\n",
              "      <td id=\"T_2b403_row21_col5\" class=\"data row21 col5\" >ограничения свободы</td>\n",
              "    </tr>\n",
              "    <tr>\n",
              "      <th id=\"T_2b403_level0_row22\" class=\"row_heading level0 row22\" >22</th>\n",
              "      <td id=\"T_2b403_row22_col0\" class=\"data row22 col0\" >TIME</td>\n",
              "      <td id=\"T_2b403_row22_col1\" class=\"data row22 col1\" >Через несколько часов</td>\n",
              "      <td id=\"T_2b403_row22_col2\" class=\"data row22 col2\" >за несколько часов</td>\n",
              "      <td id=\"T_2b403_row22_col3\" class=\"data row22 col3\" >утром</td>\n",
              "      <td id=\"T_2b403_row22_col4\" class=\"data row22 col4\" >ночью</td>\n",
              "      <td id=\"T_2b403_row22_col5\" class=\"data row22 col5\" >За несколько часов</td>\n",
              "    </tr>\n",
              "    <tr>\n",
              "      <th id=\"T_2b403_level0_row23\" class=\"row_heading level0 row23\" >23</th>\n",
              "      <td id=\"T_2b403_row23_col0\" class=\"data row23 col0\" >MONEY</td>\n",
              "      <td id=\"T_2b403_row23_col1\" class=\"data row23 col1\" >$200 млн</td>\n",
              "      <td id=\"T_2b403_row23_col2\" class=\"data row23 col2\" >$27 млн</td>\n",
              "      <td id=\"T_2b403_row23_col3\" class=\"data row23 col3\" >биткоина</td>\n",
              "      <td id=\"T_2b403_row23_col4\" class=\"data row23 col4\" >биткоины</td>\n",
              "      <td id=\"T_2b403_row23_col5\" class=\"data row23 col5\" >5000 рублей</td>\n",
              "    </tr>\n",
              "    <tr>\n",
              "      <th id=\"T_2b403_level0_row24\" class=\"row_heading level0 row24\" >24</th>\n",
              "      <td id=\"T_2b403_row24_col0\" class=\"data row24 col0\" >DISTRICT</td>\n",
              "      <td id=\"T_2b403_row24_col1\" class=\"data row24 col1\" >Манхэттене</td>\n",
              "      <td id=\"T_2b403_row24_col2\" class=\"data row24 col2\" >Зурмат</td>\n",
              "      <td id=\"T_2b403_row24_col3\" class=\"data row24 col3\" >Московского района</td>\n",
              "      <td id=\"T_2b403_row24_col4\" class=\"data row24 col4\" >СКФО</td>\n",
              "      <td id=\"T_2b403_row24_col5\" class=\"data row24 col5\" >Манхэттена</td>\n",
              "    </tr>\n",
              "    <tr>\n",
              "      <th id=\"T_2b403_level0_row25\" class=\"row_heading level0 row25\" >25</th>\n",
              "      <td id=\"T_2b403_row25_col0\" class=\"data row25 col0\" >RELIGION</td>\n",
              "      <td id=\"T_2b403_row25_col1\" class=\"data row25 col1\" >мусульман</td>\n",
              "      <td id=\"T_2b403_row25_col2\" class=\"data row25 col2\" >ислам</td>\n",
              "      <td id=\"T_2b403_row25_col3\" class=\"data row25 col3\" >Исламского</td>\n",
              "      <td id=\"T_2b403_row25_col4\" class=\"data row25 col4\" >Исламское</td>\n",
              "      <td id=\"T_2b403_row25_col5\" class=\"data row25 col5\" >православной</td>\n",
              "    </tr>\n",
              "    <tr>\n",
              "      <th id=\"T_2b403_level0_row26\" class=\"row_heading level0 row26\" >26</th>\n",
              "      <td id=\"T_2b403_row26_col0\" class=\"data row26 col0\" >PERCENT</td>\n",
              "      <td id=\"T_2b403_row26_col1\" class=\"data row26 col1\" >30 %</td>\n",
              "      <td id=\"T_2b403_row26_col2\" class=\"data row26 col2\" >1 %</td>\n",
              "      <td id=\"T_2b403_row26_col3\" class=\"data row26 col3\" >50 процентов</td>\n",
              "      <td id=\"T_2b403_row26_col4\" class=\"data row26 col4\" >49 процентов</td>\n",
              "      <td id=\"T_2b403_row26_col5\" class=\"data row26 col5\" >более 90 %</td>\n",
              "    </tr>\n",
              "    <tr>\n",
              "      <th id=\"T_2b403_level0_row27\" class=\"row_heading level0 row27\" >27</th>\n",
              "      <td id=\"T_2b403_row27_col0\" class=\"data row27 col0\" >LANGUAGE</td>\n",
              "      <td id=\"T_2b403_row27_col1\" class=\"data row27 col1\" >русском</td>\n",
              "      <td id=\"T_2b403_row27_col2\" class=\"data row27 col2\" >арабском</td>\n",
              "      <td id=\"T_2b403_row27_col3\" class=\"data row27 col3\" >английском</td>\n",
              "      <td id=\"T_2b403_row27_col4\" class=\"data row27 col4\" >английским</td>\n",
              "      <td id=\"T_2b403_row27_col5\" class=\"data row27 col5\" >русс</td>\n",
              "    </tr>\n",
              "    <tr>\n",
              "      <th id=\"T_2b403_level0_row28\" class=\"row_heading level0 row28\" >28</th>\n",
              "      <td id=\"T_2b403_row28_col0\" class=\"data row28 col0\" >FAMILY</td>\n",
              "      <td id=\"T_2b403_row28_col1\" class=\"data row28 col1\" >Скрипалей</td>\n",
              "      <td id=\"T_2b403_row28_col2\" class=\"data row28 col2\" >братья Царнаевы</td>\n",
              "      <td id=\"T_2b403_row28_col3\" class=\"data row28 col3\" >королевской семьи</td>\n",
              "      <td id=\"T_2b403_row28_col4\" class=\"data row28 col4\" >дома Романовых</td>\n",
              "      <td id=\"T_2b403_row28_col5\" class=\"data row28 col5\" >Семья Обама</td>\n",
              "    </tr>\n",
              "  </tbody>\n",
              "</table>\n"
            ]
          },
          "metadata": {}
        }
      ],
      "source": [
        "def get_top_entities(df, entity_type, top_n=5):\n",
        "    return df[df['entity_type'] == entity_type]['entity_text'].value_counts().head(top_n).index.tolist()\n",
        "\n",
        "unique_entity_types = train_exploded['entity_type'].value_counts().index\n",
        "\n",
        "results = []\n",
        "\n",
        "for ent_type in unique_entity_types:\n",
        "    top_entities = get_top_entities(train_exploded, ent_type, top_n=5)\n",
        "    results.append({\n",
        "        'Тип сущности': ent_type,\n",
        "        'Топ-1': top_entities[0],\n",
        "        'Топ-2': top_entities[1],\n",
        "        'Топ-3': top_entities[2],\n",
        "        'Топ-4': top_entities[3],\n",
        "        'Топ-5': top_entities[4],\n",
        "    })\n",
        "\n",
        "top_entities_df = pd.DataFrame(results)\n",
        "\n",
        "from IPython.display import display, HTML\n",
        "\n",
        "def highlight_none(val):\n",
        "    return 'background-color: #f2f2f2' if val is None else ''\n",
        "\n",
        "styled_df = top_entities_df.style.applymap(highlight_none, subset=['Топ-1', 'Топ-2', 'Топ-3', 'Топ-4', 'Топ-5'])\n",
        "\n",
        "display(styled_df)\n"
      ]
    },
    {
      "cell_type": "markdown",
      "metadata": {
        "id": "cLiP1veWaCNB"
      },
      "source": [
        "Посмотрим на количество сущностей в текстах"
      ]
    },
    {
      "cell_type": "code",
      "execution_count": null,
      "metadata": {
        "colab": {
          "base_uri": "https://localhost:8080/",
          "height": 781
        },
        "id": "0wuh8oppXvbZ",
        "outputId": "9c0c4007-050c-48ef-ae14-1a16b1d50887"
      },
      "outputs": [
        {
          "output_type": "display_data",
          "data": {
            "text/plain": [
              "<Figure size 1000x600 with 1 Axes>"
            ],
            "image/png": "[encoded data removed]"
          },
          "metadata": {}
        },
        {
          "output_type": "stream",
          "name": "stdout",
          "text": [
            "Статистика количества сущностей на текст:\n",
            "count    933.000000\n",
            "mean      60.294748\n",
            "std       29.167894\n",
            "min       10.000000\n",
            "25%       42.000000\n",
            "50%       56.000000\n",
            "75%       74.000000\n",
            "max      450.000000\n",
            "dtype: float64\n"
          ]
        }
      ],
      "source": [
        "entities_per_text = train_exploded.groupby('text').size()\n",
        "\n",
        "plt.figure(figsize=(10, 6))\n",
        "sns.histplot(entities_per_text, bins=50, kde=True, color='skyblue')\n",
        "plt.title('Распределение количества сущностей на один текст')\n",
        "plt.xlabel('Количество сущностей')\n",
        "plt.ylabel('Частота')\n",
        "plt.tight_layout()\n",
        "plt.show()\n",
        "\n",
        "# Вывод основных статистик\n",
        "print(\"Статистика количества сущностей на текст:\")\n",
        "print(entities_per_text.describe())"
      ]
    },
    {
      "cell_type": "markdown",
      "metadata": {
        "id": "p8mLRz_haYOV"
      },
      "source": [
        "В среднем по 60 сущностей в текстах. Максимум - 450, однако более 100 сущностей в одном тексте встречается редко"
      ]
    },
    {
      "cell_type": "code",
      "execution_count": null,
      "metadata": {
        "colab": {
          "base_uri": "https://localhost:8080/"
        },
        "id": "Tlyf8THsYQux",
        "outputId": "3a282c6f-e145-4e53-9ff7-b4fef77105f4"
      },
      "outputs": [
        {
          "output_type": "stream",
          "name": "stdout",
          "text": [
            "Количество текстов с пересекающимися сущностями: 914\n",
            "Общее количество пересечений сущностей: 11833\n"
          ]
        },
        {
          "output_type": "stream",
          "name": "stderr",
          "text": [
            "<ipython-input-23-07560c58be3c>:21: DeprecationWarning: DataFrameGroupBy.apply operated on the grouping columns. This behavior is deprecated, and in a future version of pandas the grouping columns will be excluded from the operation. Either pass `include_groups=False` to exclude the groupings or explicitly select the grouping columns after groupby to silence this warning.\n",
            "  overlap_results = train_exploded.groupby('text').apply(has_overlapping_entities)\n"
          ]
        }
      ],
      "source": [
        "def has_overlapping_entities(df):\n",
        "    df_sorted = df.sort_values(by='start_pos')\n",
        "\n",
        "    previous_end = 0\n",
        "    has_overlap = False\n",
        "    overlap_count = 0\n",
        "\n",
        "    for _, row in df_sorted.iterrows():\n",
        "        current_start = row['start_pos']\n",
        "        current_end = row['end_pos']\n",
        "\n",
        "        if current_start < previous_end:\n",
        "            has_overlap = True\n",
        "            overlap_count += 1\n",
        "            previous_end = max(previous_end, current_end)\n",
        "        else:\n",
        "            previous_end = current_end\n",
        "\n",
        "    return pd.Series({'has_overlap': has_overlap, 'overlap_count': overlap_count})\n",
        "\n",
        "overlap_results = train_exploded.groupby('text').apply(has_overlapping_entities)\n",
        "\n",
        "texts_with_overlaps = overlap_results['has_overlap'].sum()\n",
        "\n",
        "total_overlaps = overlap_results['overlap_count'].sum()\n",
        "\n",
        "print(f\"Количество текстов с пересекающимися сущностями: {texts_with_overlaps}\")\n",
        "print(f\"Общее количество пересечений сущностей: {total_overlaps}\")"
      ]
    },
    {
      "cell_type": "markdown",
      "metadata": {
        "id": "-vUpJFYbauhT"
      },
      "source": [
        "Получается что примерно 20% сущностей у нас с пересечениями. Черт его знает, что делать в такой ситуации. Вроде есть модели, поддерживающие пересечения, но базово правила не должны конфликтовать друг с другом (если rule-based), а значит каждый токен может принадлежать только одной какой-то сущности."
      ]
    },
    {
      "cell_type": "code",
      "execution_count": null,
      "metadata": {
        "id": "vw9Xf64orioR"
      },
      "outputs": [],
      "source": [
        "def choose_by_entity_type_frequency(df):\n",
        "\n",
        "    type_freq = df['entity_type'].value_counts().to_dict()\n",
        "\n",
        "    df_sorted = df.sort_values(\n",
        "        by=['text', 'start_pos', 'entity_type'],\n",
        "        ascending=[True, True, True]\n",
        "    ).reset_index(drop=True)\n",
        "\n",
        "    non_overlapping = []\n",
        "    occupied_by_text = {}\n",
        "\n",
        "    for _, row in df_sorted.iterrows():\n",
        "        text = row['text']\n",
        "        start, end = row['start_pos'], row['end_pos']\n",
        "        overlap = False\n",
        "\n",
        "        if text not in occupied_by_text:\n",
        "            occupied_by_text[text] = set()\n",
        "\n",
        "        for existing_start, existing_end in occupied_by_text[text]:\n",
        "            if not (end <= existing_start or start >= existing_end):\n",
        "                overlap = True\n",
        "                break\n",
        "\n",
        "        if not overlap:\n",
        "            non_overlapping.append(row)\n",
        "            occupied_by_text[text].add((start, end))\n",
        "\n",
        "    return pd.DataFrame(non_overlapping)\n",
        "\n",
        "train_without_overlaps = choose_by_entity_type_frequency(train_exploded)"
      ]
    },
    {
      "cell_type": "code",
      "execution_count": null,
      "metadata": {
        "colab": {
          "base_uri": "https://localhost:8080/",
          "height": 423
        },
        "id": "6L2YjsDIp-xn",
        "outputId": "2873f0fb-8419-4d73-badd-3ab1dd9aadc9"
      },
      "outputs": [
        {
          "output_type": "execute_result",
          "data": {
            "text/plain": [
              "                                                    text   entity_type  \\\n",
              "0      \\n\\nПалестинские СМИ прокомментировали отставк...       COUNTRY   \n",
              "1      \\n\\nПалестинские СМИ прокомментировали отставк...         EVENT   \n",
              "2      \\n\\nПалестинские СМИ прокомментировали отставк...    PROFESSION   \n",
              "5      \\n\\nПалестинские СМИ прокомментировали отставк...        PERSON   \n",
              "6      \\n\\nПалестинские СМИ прокомментировали отставк...  ORGANIZATION   \n",
              "...                                                  ...           ...   \n",
              "56250  Ярослав Песков: очередной заплыв не за горами\\...      LOCATION   \n",
              "56251  Ярослав Песков: очередной заплыв не за горами\\...        PERSON   \n",
              "56252  Ярослав Песков: очередной заплыв не за горами\\...      LOCATION   \n",
              "56253  Ярослав Песков: очередной заплыв не за горами\\...      LOCATION   \n",
              "56254  Ярослав Песков: очередной заплыв не за горами\\...      LOCATION   \n",
              "\n",
              "       start_pos  end_pos               entity_text  length  word_count  \n",
              "0              2       14              Палестинские  1252.0       158.0  \n",
              "1             37       45                  отставку  1252.0       158.0  \n",
              "2             46       70  министра обороны Израиля  1252.0       158.0  \n",
              "5             71       83              Эхуда Барака  1252.0       158.0  \n",
              "6            190      195                     Хамас  1252.0       158.0  \n",
              "...          ...      ...                       ...     ...         ...  \n",
              "56250        785      791                    Енисея   872.0       122.0  \n",
              "56251        800      806                    Песков   872.0       122.0  \n",
              "56252        848      852                      Неву   872.0       122.0  \n",
              "56253        854      860                    Днестр   872.0       122.0  \n",
              "56254        863      870                   Ла-Манш   872.0       122.0  \n",
              "\n",
              "[46054 rows x 7 columns]"
            ],
            "text/html": [
              "\n",
              "  <div id=\"df-ed1c8549-6d52-41b4-8d18-67a15cec0417\" class=\"colab-df-container\">\n",
              "    <div>\n",
              "<style scoped>\n",
              "    .dataframe tbody tr th:only-of-type {\n",
              "        vertical-align: middle;\n",
              "    }\n",
              "\n",
              "    .dataframe tbody tr th {\n",
              "        vertical-align: top;\n",
              "    }\n",
              "\n",
              "    .dataframe thead th {\n",
              "        text-align: right;\n",
              "    }\n",
              "</style>\n",
              "<table border=\"1\" class=\"dataframe\">\n",
              "  <thead>\n",
              "    <tr style=\"text-align: right;\">\n",
              "      <th></th>\n",
              "      <th>text</th>\n",
              "      <th>entity_type</th>\n",
              "      <th>start_pos</th>\n",
              "      <th>end_pos</th>\n",
              "      <th>entity_text</th>\n",
              "      <th>length</th>\n",
              "      <th>word_count</th>\n",
              "    </tr>\n",
              "  </thead>\n",
              "  <tbody>\n",
              "    <tr>\n",
              "      <th>0</th>\n",
              "      <td>\\n\\nПалестинские СМИ прокомментировали отставк...</td>\n",
              "      <td>COUNTRY</td>\n",
              "      <td>2</td>\n",
              "      <td>14</td>\n",
              "      <td>Палестинские</td>\n",
              "      <td>1252.0</td>\n",
              "      <td>158.0</td>\n",
              "    </tr>\n",
              "    <tr>\n",
              "      <th>1</th>\n",
              "      <td>\\n\\nПалестинские СМИ прокомментировали отставк...</td>\n",
              "      <td>EVENT</td>\n",
              "      <td>37</td>\n",
              "      <td>45</td>\n",
              "      <td>отставку</td>\n",
              "      <td>1252.0</td>\n",
              "      <td>158.0</td>\n",
              "    </tr>\n",
              "    <tr>\n",
              "      <th>2</th>\n",
              "      <td>\\n\\nПалестинские СМИ прокомментировали отставк...</td>\n",
              "      <td>PROFESSION</td>\n",
              "      <td>46</td>\n",
              "      <td>70</td>\n",
              "      <td>министра обороны Израиля</td>\n",
              "      <td>1252.0</td>\n",
              "      <td>158.0</td>\n",
              "    </tr>\n",
              "    <tr>\n",
              "      <th>5</th>\n",
              "      <td>\\n\\nПалестинские СМИ прокомментировали отставк...</td>\n",
              "      <td>PERSON</td>\n",
              "      <td>71</td>\n",
              "      <td>83</td>\n",
              "      <td>Эхуда Барака</td>\n",
              "      <td>1252.0</td>\n",
              "      <td>158.0</td>\n",
              "    </tr>\n",
              "    <tr>\n",
              "      <th>6</th>\n",
              "      <td>\\n\\nПалестинские СМИ прокомментировали отставк...</td>\n",
              "      <td>ORGANIZATION</td>\n",
              "      <td>190</td>\n",
              "      <td>195</td>\n",
              "      <td>Хамас</td>\n",
              "      <td>1252.0</td>\n",
              "      <td>158.0</td>\n",
              "    </tr>\n",
              "    <tr>\n",
              "      <th>...</th>\n",
              "      <td>...</td>\n",
              "      <td>...</td>\n",
              "      <td>...</td>\n",
              "      <td>...</td>\n",
              "      <td>...</td>\n",
              "      <td>...</td>\n",
              "      <td>...</td>\n",
              "    </tr>\n",
              "    <tr>\n",
              "      <th>56250</th>\n",
              "      <td>Ярослав Песков: очередной заплыв не за горами\\...</td>\n",
              "      <td>LOCATION</td>\n",
              "      <td>785</td>\n",
              "      <td>791</td>\n",
              "      <td>Енисея</td>\n",
              "      <td>872.0</td>\n",
              "      <td>122.0</td>\n",
              "    </tr>\n",
              "    <tr>\n",
              "      <th>56251</th>\n",
              "      <td>Ярослав Песков: очередной заплыв не за горами\\...</td>\n",
              "      <td>PERSON</td>\n",
              "      <td>800</td>\n",
              "      <td>806</td>\n",
              "      <td>Песков</td>\n",
              "      <td>872.0</td>\n",
              "      <td>122.0</td>\n",
              "    </tr>\n",
              "    <tr>\n",
              "      <th>56252</th>\n",
              "      <td>Ярослав Песков: очередной заплыв не за горами\\...</td>\n",
              "      <td>LOCATION</td>\n",
              "      <td>848</td>\n",
              "      <td>852</td>\n",
              "      <td>Неву</td>\n",
              "      <td>872.0</td>\n",
              "      <td>122.0</td>\n",
              "    </tr>\n",
              "    <tr>\n",
              "      <th>56253</th>\n",
              "      <td>Ярослав Песков: очередной заплыв не за горами\\...</td>\n",
              "      <td>LOCATION</td>\n",
              "      <td>854</td>\n",
              "      <td>860</td>\n",
              "      <td>Днестр</td>\n",
              "      <td>872.0</td>\n",
              "      <td>122.0</td>\n",
              "    </tr>\n",
              "    <tr>\n",
              "      <th>56254</th>\n",
              "      <td>Ярослав Песков: очередной заплыв не за горами\\...</td>\n",
              "      <td>LOCATION</td>\n",
              "      <td>863</td>\n",
              "      <td>870</td>\n",
              "      <td>Ла-Манш</td>\n",
              "      <td>872.0</td>\n",
              "      <td>122.0</td>\n",
              "    </tr>\n",
              "  </tbody>\n",
              "</table>\n",
              "<p>46054 rows × 7 columns</p>\n",
              "</div>\n",
              "    <div class=\"colab-df-buttons\">\n",
              "\n",
              "  <div class=\"colab-df-container\">\n",
              "    <button class=\"colab-df-convert\" onclick=\"convertToInteractive('df-ed1c8549-6d52-41b4-8d18-67a15cec0417')\"\n",
              "            title=\"Convert this dataframe to an interactive table.\"\n",
              "            style=\"display:none;\">\n",
              "\n",
              "  <svg xmlns=\"http://www.w3.org/2000/svg\" height=\"24px\" viewBox=\"0 -960 960 960\">\n",
              "    <path d=\"M120-120v-720h720v720H120Zm60-500h600v-160H180v160Zm220 220h160v-160H400v160Zm0 220h160v-160H400v160ZM180-400h160v-160H180v160Zm440 0h160v-160H620v160ZM180-180h160v-160H180v160Zm440 0h160v-160H620v160Z\"/>\n",
              "  </svg>\n",
              "    </button>\n",
              "\n",
              "  <style>\n",
              "    .colab-df-container {\n",
              "      display:flex;\n",
              "      gap: 12px;\n",
              "    }\n",
              "\n",
              "    .colab-df-convert {\n",
              "      background-color: #E8F0FE;\n",
              "      border: none;\n",
              "      border-radius: 50%;\n",
              "      cursor: pointer;\n",
              "      display: none;\n",
              "      fill: #1967D2;\n",
              "      height: 32px;\n",
              "      padding: 0 0 0 0;\n",
              "      width: 32px;\n",
              "    }\n",
              "\n",
              "    .colab-df-convert:hover {\n",
              "      background-color: #E2EBFA;\n",
              "      box-shadow: 0px 1px 2px rgba(60, 64, 67, 0.3), 0px 1px 3px 1px rgba(60, 64, 67, 0.15);\n",
              "      fill: #174EA6;\n",
              "    }\n",
              "\n",
              "    .colab-df-buttons div {\n",
              "      margin-bottom: 4px;\n",
              "    }\n",
              "\n",
              "    [theme=dark] .colab-df-convert {\n",
              "      background-color: #3B4455;\n",
              "      fill: #D2E3FC;\n",
              "    }\n",
              "\n",
              "    [theme=dark] .colab-df-convert:hover {\n",
              "      background-color: #434B5C;\n",
              "      box-shadow: 0px 1px 3px 1px rgba(0, 0, 0, 0.15);\n",
              "      filter: drop-shadow(0px 1px 2px rgba(0, 0, 0, 0.3));\n",
              "      fill: #FFFFFF;\n",
              "    }\n",
              "  </style>\n",
              "\n",
              "    <script>\n",
              "      const buttonEl =\n",
              "        document.querySelector('#df-ed1c8549-6d52-41b4-8d18-67a15cec0417 button.colab-df-convert');\n",
              "      buttonEl.style.display =\n",
              "        google.colab.kernel.accessAllowed ? 'block' : 'none';\n",
              "\n",
              "      async function convertToInteractive(key) {\n",
              "        const element = document.querySelector('#df-ed1c8549-6d52-41b4-8d18-67a15cec0417');\n",
              "        const dataTable =\n",
              "          await google.colab.kernel.invokeFunction('convertToInteractive',\n",
              "                                                    [key], {});\n",
              "        if (!dataTable) return;\n",
              "\n",
              "        const docLinkHtml = 'Like what you see? Visit the ' +\n",
              "          '<a target=\"_blank\" href=https://colab.research.google.com/notebooks/data_table.ipynb>data table notebook</a>'\n",
              "          + ' to learn more about interactive tables.';\n",
              "        element.innerHTML = '';\n",
              "        dataTable['output_type'] = 'display_data';\n",
              "        await google.colab.output.renderOutput(dataTable, element);\n",
              "        const docLink = document.createElement('div');\n",
              "        docLink.innerHTML = docLinkHtml;\n",
              "        element.appendChild(docLink);\n",
              "      }\n",
              "    </script>\n",
              "  </div>\n",
              "\n",
              "\n",
              "<div id=\"df-434dd270-0614-4ab7-a169-d4d3c3611a77\">\n",
              "  <button class=\"colab-df-quickchart\" onclick=\"quickchart('df-434dd270-0614-4ab7-a169-d4d3c3611a77')\"\n",
              "            title=\"Suggest charts\"\n",
              "            style=\"display:none;\">\n",
              "\n",
              "<svg xmlns=\"http://www.w3.org/2000/svg\" height=\"24px\"viewBox=\"0 0 24 24\"\n",
              "     width=\"24px\">\n",
              "    <g>\n",
              "        <path d=\"M19 3H5c-1.1 0-2 .9-2 2v14c0 1.1.9 2 2 2h14c1.1 0 2-.9 2-2V5c0-1.1-.9-2-2-2zM9 17H7v-7h2v7zm4 0h-2V7h2v10zm4 0h-2v-4h2v4z\"/>\n",
              "    </g>\n",
              "</svg>\n",
              "  </button>\n",
              "\n",
              "<style>\n",
              "  .colab-df-quickchart {\n",
              "      --bg-color: #E8F0FE;\n",
              "      --fill-color: #1967D2;\n",
              "      --hover-bg-color: #E2EBFA;\n",
              "      --hover-fill-color: #174EA6;\n",
              "      --disabled-fill-color: #AAA;\n",
              "      --disabled-bg-color: #DDD;\n",
              "  }\n",
              "\n",
              "  [theme=dark] .colab-df-quickchart {\n",
              "      --bg-color: #3B4455;\n",
              "      --fill-color: #D2E3FC;\n",
              "      --hover-bg-color: #434B5C;\n",
              "      --hover-fill-color: #FFFFFF;\n",
              "      --disabled-bg-color: #3B4455;\n",
              "      --disabled-fill-color: #666;\n",
              "  }\n",
              "\n",
              "  .colab-df-quickchart {\n",
              "    background-color: var(--bg-color);\n",
              "    border: none;\n",
              "    border-radius: 50%;\n",
              "    cursor: pointer;\n",
              "    display: none;\n",
              "    fill: var(--fill-color);\n",
              "    height: 32px;\n",
              "    padding: 0;\n",
              "    width: 32px;\n",
              "  }\n",
              "\n",
              "  .colab-df-quickchart:hover {\n",
              "    background-color: var(--hover-bg-color);\n",
              "    box-shadow: 0 1px 2px rgba(60, 64, 67, 0.3), 0 1px 3px 1px rgba(60, 64, 67, 0.15);\n",
              "    fill: var(--button-hover-fill-color);\n",
              "  }\n",
              "\n",
              "  .colab-df-quickchart-complete:disabled,\n",
              "  .colab-df-quickchart-complete:disabled:hover {\n",
              "    background-color: var(--disabled-bg-color);\n",
              "    fill: var(--disabled-fill-color);\n",
              "    box-shadow: none;\n",
              "  }\n",
              "\n",
              "  .colab-df-spinner {\n",
              "    border: 2px solid var(--fill-color);\n",
              "    border-color: transparent;\n",
              "    border-bottom-color: var(--fill-color);\n",
              "    animation:\n",
              "      spin 1s steps(1) infinite;\n",
              "  }\n",
              "\n",
              "  @keyframes spin {\n",
              "    0% {\n",
              "      border-color: transparent;\n",
              "      border-bottom-color: var(--fill-color);\n",
              "      border-left-color: var(--fill-color);\n",
              "    }\n",
              "    20% {\n",
              "      border-color: transparent;\n",
              "      border-left-color: var(--fill-color);\n",
              "      border-top-color: var(--fill-color);\n",
              "    }\n",
              "    30% {\n",
              "      border-color: transparent;\n",
              "      border-left-color: var(--fill-color);\n",
              "      border-top-color: var(--fill-color);\n",
              "      border-right-color: var(--fill-color);\n",
              "    }\n",
              "    40% {\n",
              "      border-color: transparent;\n",
              "      border-right-color: var(--fill-color);\n",
              "      border-top-color: var(--fill-color);\n",
              "    }\n",
              "    60% {\n",
              "      border-color: transparent;\n",
              "      border-right-color: var(--fill-color);\n",
              "    }\n",
              "    80% {\n",
              "      border-color: transparent;\n",
              "      border-right-color: var(--fill-color);\n",
              "      border-bottom-color: var(--fill-color);\n",
              "    }\n",
              "    90% {\n",
              "      border-color: transparent;\n",
              "      border-bottom-color: var(--fill-color);\n",
              "    }\n",
              "  }\n",
              "</style>\n",
              "\n",
              "  <script>\n",
              "    async function quickchart(key) {\n",
              "      const quickchartButtonEl =\n",
              "        document.querySelector('#' + key + ' button');\n",
              "      quickchartButtonEl.disabled = true;  // To prevent multiple clicks.\n",
              "      quickchartButtonEl.classList.add('colab-df-spinner');\n",
              "      try {\n",
              "        const charts = await google.colab.kernel.invokeFunction(\n",
              "            'suggestCharts', [key], {});\n",
              "      } catch (error) {\n",
              "        console.error('Error during call to suggestCharts:', error);\n",
              "      }\n",
              "      quickchartButtonEl.classList.remove('colab-df-spinner');\n",
              "      quickchartButtonEl.classList.add('colab-df-quickchart-complete');\n",
              "    }\n",
              "    (() => {\n",
              "      let quickchartButtonEl =\n",
              "        document.querySelector('#df-434dd270-0614-4ab7-a169-d4d3c3611a77 button');\n",
              "      quickchartButtonEl.style.display =\n",
              "        google.colab.kernel.accessAllowed ? 'block' : 'none';\n",
              "    })();\n",
              "  </script>\n",
              "</div>\n",
              "\n",
              "  <div id=\"id_093d067e-da87-414f-a78a-d2ca4089a6f3\">\n",
              "    <style>\n",
              "      .colab-df-generate {\n",
              "        background-color: #E8F0FE;\n",
              "        border: none;\n",
              "        border-radius: 50%;\n",
              "        cursor: pointer;\n",
              "        display: none;\n",
              "        fill: #1967D2;\n",
              "        height: 32px;\n",
              "        padding: 0 0 0 0;\n",
              "        width: 32px;\n",
              "      }\n",
              "\n",
              "      .colab-df-generate:hover {\n",
              "        background-color: #E2EBFA;\n",
              "        box-shadow: 0px 1px 2px rgba(60, 64, 67, 0.3), 0px 1px 3px 1px rgba(60, 64, 67, 0.15);\n",
              "        fill: #174EA6;\n",
              "      }\n",
              "\n",
              "      [theme=dark] .colab-df-generate {\n",
              "        background-color: #3B4455;\n",
              "        fill: #D2E3FC;\n",
              "      }\n",
              "\n",
              "      [theme=dark] .colab-df-generate:hover {\n",
              "        background-color: #434B5C;\n",
              "        box-shadow: 0px 1px 3px 1px rgba(0, 0, 0, 0.15);\n",
              "        filter: drop-shadow(0px 1px 2px rgba(0, 0, 0, 0.3));\n",
              "        fill: #FFFFFF;\n",
              "      }\n",
              "    </style>\n",
              "    <button class=\"colab-df-generate\" onclick=\"generateWithVariable('train_without_overlaps')\"\n",
              "            title=\"Generate code using this dataframe.\"\n",
              "            style=\"display:none;\">\n",
              "\n",
              "  <svg xmlns=\"http://www.w3.org/2000/svg\" height=\"24px\"viewBox=\"0 0 24 24\"\n",
              "       width=\"24px\">\n",
              "    <path d=\"M7,19H8.4L18.45,9,17,7.55,7,17.6ZM5,21V16.75L18.45,3.32a2,2,0,0,1,2.83,0l1.4,1.43a1.91,1.91,0,0,1,.58,1.4,1.91,1.91,0,0,1-.58,1.4L9.25,21ZM18.45,9,17,7.55Zm-12,3A5.31,5.31,0,0,0,4.9,8.1,5.31,5.31,0,0,0,1,6.5,5.31,5.31,0,0,0,4.9,4.9,5.31,5.31,0,0,0,6.5,1,5.31,5.31,0,0,0,8.1,4.9,5.31,5.31,0,0,0,12,6.5,5.46,5.46,0,0,0,6.5,12Z\"/>\n",
              "  </svg>\n",
              "    </button>\n",
              "    <script>\n",
              "      (() => {\n",
              "      const buttonEl =\n",
              "        document.querySelector('#id_093d067e-da87-414f-a78a-d2ca4089a6f3 button.colab-df-generate');\n",
              "      buttonEl.style.display =\n",
              "        google.colab.kernel.accessAllowed ? 'block' : 'none';\n",
              "\n",
              "      buttonEl.onclick = () => {\n",
              "        google.colab.notebook.generateWithVariable('train_without_overlaps');\n",
              "      }\n",
              "      })();\n",
              "    </script>\n",
              "  </div>\n",
              "\n",
              "    </div>\n",
              "  </div>\n"
            ],
            "application/vnd.google.colaboratory.intrinsic+json": {
              "type": "dataframe",
              "variable_name": "train_without_overlaps",
              "summary": "{\n  \"name\": \"train_without_overlaps\",\n  \"rows\": 46054,\n  \"fields\": [\n    {\n      \"column\": \"text\",\n      \"properties\": {\n        \"dtype\": \"category\",\n        \"num_unique_values\": 933,\n        \"samples\": [\n          \"\\u0423\\u043c\\u0435\\u0440 \\u0424\\u0438\\u0434\\u0435\\u043b\\u044c \\u041a\\u0430\\u0441\\u0442\\u0440\\u043e\\n\\n\\u0424\\u0438\\u0434\\u0435\\u043b\\u044c \\u041a\\u0430\\u0441\\u0442\\u0440\\u043e\\n26 \\u043d\\u043e\\u044f\\u0431\\u0440\\u044f 2016 \\u0433\\u043e\\u0434\\u0430 \\u0443\\u043c\\u0435\\u0440 \\u043b\\u0438\\u0434\\u0435\\u0440 \\u043a\\u0443\\u0431\\u0438\\u043d\\u0441\\u043a\\u043e\\u0439 \\u0440\\u0435\\u0432\\u043e\\u043b\\u044e\\u0446\\u0438\\u0438 \\u0424\\u0438\\u0434\\u0435\\u043b\\u044c \\u041a\\u0430\\u0441\\u0442\\u0440\\u043e. \\u041d\\u0430 \\u043c\\u043e\\u043c\\u0435\\u043d\\u0442 \\u0441\\u043c\\u0435\\u0440\\u0442\\u0438 \\u0435\\u043c\\u0443 \\u0431\\u044b\\u043b\\u043e 90 \\u043b\\u0435\\u0442.\\n\\n\\u041e\\u0431 \\u044d\\u0442\\u043e\\u043c \\u0441\\u043e\\u043e\\u0431\\u0449\\u0438\\u043b \\u0435\\u0433\\u043e \\u0431\\u0440\\u0430\\u0442 \\u0420\\u0430\\u0443\\u043b\\u044c \\u041a\\u0430\\u0441\\u0442\\u0440\\u043e, \\u043f\\u0440\\u0435\\u0434\\u0441\\u0435\\u0434\\u0430\\u0442\\u0435\\u043b\\u044c \\u0413\\u043e\\u0441\\u0443\\u0434\\u0430\\u0440\\u0441\\u0442\\u0432\\u0435\\u043d\\u043d\\u043e\\u0433\\u043e \\u0441\\u043e\\u0432\\u0435\\u0442\\u0430 \\u041a\\u0443\\u0431\\u044b, \\u0432 \\u044d\\u0444\\u0438\\u0440\\u0435 \\u0433\\u043e\\u0441\\u0443\\u0434\\u0430\\u0440\\u0441\\u0442\\u0432\\u0435\\u043d\\u043d\\u043e\\u0433\\u043e \\u0442\\u0435\\u043b\\u0435\\u0432\\u0438\\u0434\\u0435\\u043d\\u0438\\u044f. \\u041f\\u043e \\u0435\\u0433\\u043e \\u0441\\u043e\\u043e\\u0431\\u0449\\u0435\\u043d\\u0438\\u044e, \\u0424\\u0438\\u0434\\u0435\\u043b\\u044c \\u0443\\u043c\\u0435\\u0440 \\u0432 19:00 25 \\u043d\\u043e\\u044f\\u0431\\u0440\\u044f 2016 \\u0433\\u043e\\u0434\\u0430 (3:00 \\u043f\\u043e \\u043c\\u043e\\u0441\\u043a\\u043e\\u0432\\u0441\\u043a\\u043e\\u043c\\u0443 \\u0432\\u0440\\u0435\\u043c\\u0435\\u043d\\u0438).\\n\\n\\u0412 \\u0430\\u043f\\u0440\\u0435\\u043b\\u0435 \\u0424\\u0438\\u0434\\u0435\\u043b\\u044c \\u041a\\u0430\\u0441\\u0442\\u0440\\u043e \\u0432\\u044b\\u0441\\u0442\\u0443\\u043f\\u0438\\u043b \\u0441 \\u0440\\u0435\\u0447\\u044c\\u044e:\\n\\n\\n\\u0424\\u0438\\u0434\\u0435\\u043b\\u044c \\u0410\\u043b\\u0435\\u0445\\u0430\\u043d\\u0434\\u0440\\u043e \\u041a\\u0430\\u0441\\u0442\\u0440\\u043e \\u0420\\u0443\\u0441 \\u0440\\u043e\\u0434\\u0438\\u043b\\u0441\\u044f 13 \\u0430\\u0432\\u0433\\u0443\\u0441\\u0442\\u0430 1926 \\u0433\\u043e\\u0434\\u0430 \\u0432 \\u0411\\u0438\\u0440\\u0430\\u043d\\u0435, \\u041a\\u0443\\u0431\\u0430 \\u0432 \\u0441\\u0435\\u043c\\u044c\\u0435 \\u043a\\u0440\\u0443\\u043f\\u043d\\u043e\\u0433\\u043e \\u0437\\u0435\\u043c\\u043b\\u0435\\u0432\\u043b\\u0430\\u0434\\u0435\\u043b\\u044c\\u0446\\u0430. \\u0412\\u043e \\u0432\\u0440\\u0435\\u043c\\u044f \\u0443\\u0447\\u0451\\u0431\\u044b \\u043d\\u0430 \\u044e\\u0440\\u0438\\u0434\\u0438\\u0447\\u0435\\u0441\\u043a\\u043e\\u043c \\u0444\\u0430\\u043a\\u0443\\u043b\\u044c\\u0442\\u0435\\u0442\\u0435 \\u0413\\u0430\\u0432\\u0430\\u043d\\u0441\\u043a\\u043e\\u0433\\u043e \\u0443\\u043d\\u0438\\u0432\\u0435\\u0440\\u0441\\u0438\\u0442\\u0435\\u0442\\u0430 \\u041a\\u0430\\u0441\\u0442\\u0440\\u043e \\u043f\\u0440\\u0438\\u043e\\u0431\\u0440\\u0451\\u043b \\u043b\\u0435\\u0432\\u044b\\u0435 \\u0430\\u043d\\u0442\\u0438\\u0438\\u043c\\u043f\\u0435\\u0440\\u0438\\u0430\\u043b\\u0438\\u0441\\u0442\\u0438\\u0447\\u0435\\u0441\\u043a\\u0438\\u0435 \\u0432\\u0437\\u0433\\u043b\\u044f\\u0434\\u044b. \\u0412 1954 \\u0433\\u043e\\u0434\\u0443 \\u0441\\u043e\\u0432\\u043c\\u0435\\u0441\\u0442\\u043d\\u043e \\u0441 \\u0427\\u0435 \\u0413\\u0435\\u0432\\u0430\\u0440\\u043e\\u0439 \\u0438 \\u0441\\u0432\\u043e\\u0438\\u043c \\u0431\\u0440\\u0430\\u0442\\u043e\\u043c \\u0420\\u0430\\u0443\\u043b\\u0435\\u043c \\u043e\\u0440\\u0433\\u0430\\u043d\\u0438\\u0437\\u043e\\u0432\\u0430\\u043b \\u0440\\u0435\\u0432\\u043e\\u043b\\u044e\\u0446\\u0438\\u043e\\u043d\\u043d\\u043e\\u0435 \\u0414\\u0432\\u0438\\u0436\\u0435\\u043d\\u0438\\u0435 26 \\u0438\\u044e\\u043b\\u044f. \\u0412\\u0435\\u0440\\u043d\\u0443\\u0432\\u0448\\u0438\\u0441\\u044c \\u043d\\u0430 \\u041a\\u0443\\u0431\\u0443, \\u043e\\u043d \\u0432\\u043e\\u0437\\u0433\\u043b\\u0430\\u0432\\u0438\\u043b \\u043f\\u0430\\u0440\\u0442\\u0438\\u0437\\u0430\\u043d\\u0441\\u043a\\u0443\\u044e \\u0432\\u043e\\u0439\\u043d\\u0443 \\u043f\\u0440\\u043e\\u0442\\u0438\\u0432 \\u0440\\u0435\\u0436\\u0438\\u043c\\u0430 \\u0411\\u0430\\u0442\\u0438\\u0441\\u0442\\u044b. \\u0412 1959 \\u0433\\u043e\\u0434\\u0443 \\u0440\\u0435\\u0432\\u043e\\u043b\\u044e\\u0446\\u0438\\u043e\\u043d\\u0435\\u0440\\u044b \\u043f\\u0440\\u0438\\u0448\\u043b\\u0438 \\u043a \\u0432\\u043b\\u0430\\u0441\\u0442\\u0438. \\u0412 1961 \\u0433\\u043e\\u0434\\u0443 \\u0421\\u0428\\u0410 \\u043f\\u0440\\u0435\\u0434\\u043f\\u0440\\u0438\\u043d\\u044f\\u043b\\u0438 \\u043f\\u043e\\u043f\\u044b\\u0442\\u043a\\u0443 \\u0441\\u0432\\u0435\\u0440\\u0436\\u0435\\u043d\\u0438\\u044f \\u041a\\u0430\\u0441\\u0442\\u0440\\u043e, \\u043e\\u0434\\u043d\\u0430\\u043a\\u043e \\u0432\\u044b\\u0441\\u0430\\u0434\\u043a\\u0430 \\u0432 \\u0417\\u0430\\u043b\\u0438\\u0432\\u0435 \\u0421\\u0432\\u0438\\u043d\\u0435\\u0439 \\u0437\\u0430\\u0432\\u0435\\u0440\\u0448\\u0438\\u043b\\u0430\\u0441\\u044c \\u0443\\u043d\\u0438\\u0447\\u0442\\u043e\\u0436\\u0435\\u043d\\u0438\\u0435\\u043c \\u0434\\u0435\\u0441\\u0430\\u043d\\u0442\\u0430.\\n\\n\\u0412 1961 \\u0433\\u043e\\u0434\\u0443 \\u041a\\u0430\\u0441\\u0442\\u0440\\u043e \\u043f\\u0440\\u043e\\u0432\\u043e\\u0437\\u0433\\u043b\\u0430\\u0441\\u0438\\u043b \\u0441\\u043e\\u0446\\u0438\\u0430\\u043b\\u0438\\u0441\\u0442\\u0438\\u0447\\u0435\\u0441\\u043a\\u0438\\u0439 \\u0445\\u0430\\u0440\\u0430\\u043a\\u0442\\u0435\\u0440 \\u043a\\u0443\\u0431\\u0438\\u043d\\u0441\\u043a\\u043e\\u0439 \\u0440\\u0435\\u0432\\u043e\\u043b\\u044e\\u0446\\u0438\\u0438. \\u041a\\u0443\\u0431\\u0430 \\u0441\\u0442\\u0430\\u043b\\u0430 \\u043e\\u0434\\u043d\\u043e\\u043f\\u0430\\u0440\\u0442\\u0438\\u0439\\u043d\\u044b\\u043c \\u0433\\u043e\\u0441\\u0443\\u0434\\u0430\\u0440\\u0441\\u0442\\u0432\\u043e\\u043c \\u043f\\u043e\\u0434 \\u0440\\u0443\\u043a\\u043e\\u0432\\u043e\\u0434\\u0441\\u0442\\u0432\\u043e\\u043c \\u043a\\u043e\\u043c\\u043f\\u0430\\u0440\\u0442\\u0438\\u0438, \\u043f\\u0435\\u0440\\u0432\\u044b\\u043c \\u0432 \\u0417\\u0430\\u043f\\u0430\\u0434\\u043d\\u043e\\u043c \\u043f\\u043e\\u043b\\u0443\\u0448\\u0430\\u0440\\u0438\\u0438. \\u0411\\u044b\\u043b\\u0430 \\u043f\\u0440\\u0438\\u043d\\u044f\\u0442\\u0430 \\u043c\\u0430\\u0440\\u043a\\u0441\\u0438\\u0441\\u0442\\u0441\\u043a\\u043e-\\u043b\\u0435\\u043d\\u0438\\u043d\\u0441\\u043a\\u0430\\u044f \\u043c\\u043e\\u0434\\u0435\\u043b\\u044c \\u0440\\u0430\\u0437\\u0432\\u0438\\u0442\\u0438\\u044f, \\u043f\\u0440\\u043e\\u0432\\u0435\\u0434\\u0435\\u043d\\u044b \\u0441\\u043e\\u0446\\u0438\\u0430\\u043b\\u0438\\u0441\\u0442\\u0438\\u0447\\u0435\\u0441\\u043a\\u0438\\u0435 \\u0440\\u0435\\u0444\\u043e\\u0440\\u043c\\u044b, \\u044d\\u043a\\u043e\\u043d\\u043e\\u043c\\u0438\\u043a\\u0430 \\u043f\\u043e\\u0441\\u0442\\u0430\\u0432\\u043b\\u0435\\u043d\\u0430 \\u043f\\u043e\\u0434 \\u0446\\u0435\\u043d\\u0442\\u0440\\u0430\\u043b\\u0438\\u0437\\u043e\\u0432\\u0430\\u043d\\u043d\\u044b\\u0439 \\u043a\\u043e\\u043d\\u0442\\u0440\\u043e\\u043b\\u044c, \\u043f\\u0440\\u0438\\u043d\\u044f\\u0442\\u044b \\u043c\\u0435\\u0440\\u044b \\u043f\\u043e \\u0440\\u0430\\u0437\\u0432\\u0438\\u0442\\u0438\\u044e \\u043e\\u0431\\u0440\\u0430\\u0437\\u043e\\u0432\\u0430\\u043d\\u0438\\u044f \\u0438 \\u0437\\u0434\\u0440\\u0430\\u0432\\u043e\\u043e\\u0445\\u0440\\u0430\\u043d\\u0435\\u043d\\u0438\\u044f, \\u043a\\u043e\\u0442\\u043e\\u0440\\u044b\\u0435, \\u0432\\u043c\\u0435\\u0441\\u0442\\u0435 \\u0441 \\u0442\\u0435\\u043c, \\u0441\\u043e\\u043f\\u0440\\u043e\\u0432\\u043e\\u0436\\u0434\\u0430\\u043b\\u0438\\u0441\\u044c \\u0443\\u0441\\u0442\\u0430\\u043d\\u043e\\u0432\\u043b\\u0435\\u043d\\u0438\\u0435\\u043c \\u0433\\u043e\\u0441\\u0443\\u0434\\u0430\\u0440\\u0441\\u0442\\u0432\\u0435\\u043d\\u043d\\u043e\\u0433\\u043e \\u043a\\u043e\\u043d\\u0442\\u0440\\u043e\\u043b\\u044f \\u043d\\u0430\\u0434 \\u043f\\u0440\\u0435\\u0441\\u0441\\u043e\\u0439 \\u0438 \\u043f\\u043e\\u0434\\u0430\\u0432\\u043b\\u0435\\u043d\\u0438\\u0435\\u043c \\u0438\\u043d\\u0430\\u043a\\u043e\\u043c\\u044b\\u0441\\u043b\\u0438\\u044f. 31 \\u0438\\u044e\\u043b\\u044f 2006 \\u0433\\u043e\\u0434\\u0430 \\u041a\\u0430\\u0441\\u0442\\u0440\\u043e \\u043f\\u043e \\u0441\\u043e\\u0441\\u0442\\u043e\\u044f\\u043d\\u0438\\u044e \\u0437\\u0434\\u043e\\u0440\\u043e\\u0432\\u044c\\u044f \\u043f\\u0435\\u0440\\u0435\\u0434\\u0430\\u043b \\u0438\\u0441\\u043f\\u043e\\u043b\\u043d\\u0435\\u043d\\u0438\\u0435 \\u043e\\u0431\\u044f\\u0437\\u0430\\u043d\\u043d\\u043e\\u0441\\u0442\\u0435\\u0439 \\u043d\\u0430 \\u0432\\u0441\\u0435\\u0445 \\u0441\\u0432\\u043e\\u0438\\u0445 \\u043a\\u043b\\u044e\\u0447\\u0435\\u0432\\u044b\\u0445 \\u0434\\u043e\\u043b\\u0436\\u043d\\u043e\\u0441\\u0442\\u044f\\u0445 \\u0441\\u0432\\u043e\\u0435\\u043c\\u0443 \\u0431\\u0440\\u0430\\u0442\\u0443 \\u0420\\u0430\\u0443\\u043b\\u044e. 24 \\u0444\\u0435\\u0432\\u0440\\u0430\\u043b\\u044f 2008 \\u0433\\u043e\\u0434\\u0430 \\u043e\\u043d \\u043f\\u043e\\u043a\\u0438\\u043d\\u0443\\u043b \\u0432\\u0441\\u0435 \\u0433\\u043e\\u0441\\u0443\\u0434\\u0430\\u0440\\u0441\\u0442\\u0432\\u0435\\u043d\\u043d\\u044b\\u0435 \\u0434\\u043e\\u043b\\u0436\\u043d\\u043e\\u0441\\u0442\\u0438, \\u0430 19 \\u0430\\u043f\\u0440\\u0435\\u043b\\u044f 2011 \\u0433\\u043e\\u0434\\u0430 \\u0443\\u0448\\u0451\\u043b \\u0438 \\u0441 \\u043f\\u043e\\u0441\\u0442\\u0430 \\u0433\\u043b\\u0430\\u0432\\u044b \\u043f\\u0440\\u0430\\u0432\\u044f\\u0449\\u0435\\u0439 \\u043f\\u0430\\u0440\\u0442\\u0438\\u0438.\\n\\n\\n\\n\",\n          \"\\u0411.\\u041e\\u0431\\u0430\\u043c\\u0430 \\u043d\\u0430\\u0437\\u043d\\u0430\\u0447\\u0438\\u043b \\u043d\\u043e\\u0432\\u043e\\u0433\\u043e \\u0441\\u043e\\u0432\\u0435\\u0442\\u043d\\u0438\\u043a\\u0430 \\u043f\\u043e \\u043d\\u0430\\u0446\\u0438\\u043e\\u043d\\u0430\\u043b\\u044c\\u043d\\u043e\\u0439 \\u0431\\u0435\\u0437\\u043e\\u043f\\u0430\\u0441\\u043d\\u043e\\u0441\\u0442\\u0438\\n\\n\\u041f\\u0440\\u0435\\u0437\\u0438\\u0434\\u0435\\u043d\\u0442 \\u0421\\u0428\\u0410 \\u0411\\u0430\\u0440\\u0430\\u043a \\u041e\\u0431\\u0430\\u043c\\u0430 \\u043e\\u0444\\u0438\\u0446\\u0438\\u0430\\u043b\\u044c\\u043d\\u043e \\u043e\\u0431\\u044a\\u044f\\u0432\\u0438\\u043b \\u043e \\u043d\\u0430\\u0437\\u043d\\u0430\\u0447\\u0435\\u043d\\u0438\\u0438 \\u0422\\u043e\\u043c\\u0430 \\u0414\\u043e\\u043d\\u0438\\u043b\\u043e\\u043d\\u0430 \\u0441\\u0432\\u043e\\u0438\\u043c \\u0441\\u043e\\u0432\\u0435\\u0442\\u043d\\u0438\\u043a\\u043e\\u043c \\u043f\\u043e \\u043d\\u0430\\u0446\\u0438\\u043e\\u043d\\u0430\\u043b\\u044c\\u043d\\u043e\\u0439 \\u0431\\u0435\\u0437\\u043e\\u043f\\u0430\\u0441\\u043d\\u043e\\u0441\\u0442\\u0438. \\u041d\\u0430 \\u044d\\u0442\\u043e\\u043c \\u043f\\u043e\\u0441\\u0442\\u0443 \\u043e\\u043d \\u0441\\u043c\\u0435\\u043d\\u0438\\u0442 \\u043e\\u0442\\u0441\\u0442\\u0430\\u0432\\u043d\\u043e\\u0433\\u043e \\u0433\\u0435\\u043d\\u0435\\u0440\\u0430\\u043b\\u0430 \\u043c\\u043e\\u0440\\u0441\\u043a\\u043e\\u0439 \\u043f\\u0435\\u0445\\u043e\\u0442\\u044b \\u0421\\u0428\\u0410 \\u0414\\u0436\\u0435\\u0439\\u043c\\u0441\\u0430 \\u0414\\u0436\\u043e\\u043d\\u0441\\u0430, \\u043e\\u0431 \\u0443\\u0445\\u043e\\u0434\\u0435 \\u043a\\u043e\\u0442\\u043e\\u0440\\u043e\\u0433\\u043e \\u0431\\u044b\\u043b\\u043e \\u043e\\u0431\\u044a\\u044f\\u0432\\u043b\\u0435\\u043d\\u043e \\u043d\\u0430\\u043a\\u0430\\u043d\\u0443\\u043d\\u0435.\\n\\n\\u041f\\u0440\\u0435\\u0434\\u0441\\u0442\\u0430\\u0432\\u0438\\u0442\\u0435\\u043b\\u0438 \\u0430\\u0434\\u043c\\u0438\\u043d\\u0438\\u0441\\u0442\\u0440\\u0430\\u0446\\u0438\\u0438 \\u043f\\u0440\\u0435\\u0437\\u0438\\u0434\\u0435\\u043d\\u0442\\u0430 \\u043d\\u0430\\u043a\\u0430\\u043d\\u0443\\u043d\\u0435 \\u0432\\u0435\\u0447\\u0435\\u0440\\u043e\\u043c \\u043d\\u0430 \\u0443\\u0441\\u043b\\u043e\\u0432\\u0438\\u044f\\u0445 \\u0430\\u043d\\u043e\\u043d\\u0438\\u043c\\u043d\\u043e\\u0441\\u0442\\u0438 \\u0441\\u043e\\u043e\\u0431\\u0449\\u0438\\u043b\\u0438 \\u043e\\u0431 \\u043e\\u0442\\u0441\\u0442\\u0430\\u0432\\u043a\\u0435 \\u0414\\u0436.\\u0414\\u0436\\u043e\\u043d\\u0441\\u0430, \\u043e\\u0434\\u043d\\u0430\\u043a\\u043e \\u044d\\u0442\\u0430 \\u0438\\u043d\\u0444\\u043e\\u0440\\u043c\\u0430\\u0446\\u0438\\u044f \\u043d\\u0435 \\u0441\\u0440\\u0430\\u0437\\u0443 \\u0431\\u044b\\u043b\\u0430 \\u043e\\u0444\\u0438\\u0446\\u0438\\u0430\\u043b\\u044c\\u043d\\u043e \\u043f\\u043e\\u0434\\u0442\\u0432\\u0435\\u0440\\u0436\\u0434\\u0435\\u043d\\u0430.\\n\\n\\u041a\\u0430\\u043a \\u0441\\u043e\\u043e\\u0431\\u0449\\u0430\\u044e\\u0442 \\u0430\\u043c\\u0435\\u0440\\u0438\\u043a\\u0430\\u043d\\u0441\\u043a\\u0438\\u0435 \\u0421\\u041c\\u0418, 55-\\u043b\\u0435\\u0442\\u043d\\u0438\\u0439 \\u0422.\\u0414\\u043e\\u043d\\u0438\\u043b\\u043e\\u043d \\u0434\\u043e\\u043b\\u0433\\u043e\\u0435 \\u0432\\u0440\\u0435\\u043c\\u044f \\u0431\\u044b\\u043b \\u044e\\u0440\\u0438\\u0441\\u043a\\u043e\\u043d\\u0441\\u0443\\u043b\\u044c\\u0442\\u043e\\u043c, \\u043e\\u043a\\u0430\\u0437\\u044b\\u0432\\u0430\\u0432\\u0448\\u0438\\u043c \\u0443\\u0441\\u043b\\u0443\\u0433\\u0438 \\u043a\\u0440\\u0443\\u043f\\u043d\\u044b\\u043c \\u0430\\u043c\\u0435\\u0440\\u0438\\u043a\\u0430\\u043d\\u0441\\u043a\\u0438\\u043c \\u043a\\u043e\\u043c\\u043f\\u0430\\u043d\\u0438\\u044f\\u043c. \\u041e\\u043d \\u0442\\u0430\\u043a\\u0436\\u0435 \\u0431\\u043b\\u0438\\u0437\\u043e\\u043a \\u043a \\u043d\\u044b\\u043d\\u0435\\u0448\\u043d\\u0435\\u043c\\u0443 \\u0432\\u0438\\u0446\\u0435-\\u043f\\u0440\\u0435\\u0437\\u0438\\u0434\\u0435\\u043d\\u0442\\u0443 \\u0421\\u0428\\u0410 \\u0414\\u0436\\u043e \\u0411\\u0430\\u0439\\u0434\\u0435\\u043d\\u0443: \\u0431\\u0440\\u0430\\u0442 \\u0422.\\u0414\\u043e\\u043d\\u0438\\u043b\\u043e\\u043d\\u0430 \\u041c\\u0430\\u0439\\u043a\\u043b \\u0440\\u0430\\u0431\\u043e\\u0442\\u0430\\u0435\\u0442 \\u0441\\u043e\\u0432\\u0435\\u0442\\u043d\\u0438\\u043a\\u043e\\u043c \\u044d\\u0442\\u043e\\u0433\\u043e \\u043f\\u043e\\u043b\\u0438\\u0442\\u0438\\u043a\\u0430. \\u041d\\u0435\\u043a\\u043e\\u0442\\u043e\\u0440\\u043e\\u0435 \\u0432\\u0440\\u0435\\u043c\\u044f \\u043d\\u0430\\u0437\\u0430\\u0434 \\u0422.\\u0414\\u043e\\u043d\\u0438\\u043b\\u043e\\u043d\\u0430 \\u0441\\u0447\\u0438\\u0442\\u0430\\u043b\\u0438 \\u043f\\u0440\\u043e\\u0442\\u0438\\u0432\\u043d\\u0438\\u043a\\u043e\\u043c \\u0440\\u0430\\u0437\\u0432\\u0438\\u0442\\u0438\\u044f \\u0431\\u043e\\u0435\\u0432\\u044b\\u0445 \\u0434\\u0435\\u0439\\u0441\\u0442\\u0432\\u0438\\u0439 \\u0432 \\u0410\\u0444\\u0433\\u0430\\u043d\\u0438\\u0441\\u0442\\u0430\\u043d\\u0435.\\n\\n\\u0412 \\u0446\\u0435\\u043b\\u043e\\u043c, \\u043a\\u0430\\u043a \\u043e\\u0442\\u043c\\u0435\\u0447\\u0430\\u044e\\u0442 \\u044d\\u043a\\u0441\\u043f\\u0435\\u0440\\u0442\\u044b, \\u0434\\u0430\\u043d\\u043d\\u0430\\u044f \\u043d\\u043e\\u0432\\u043e\\u0441\\u0442\\u044c \\u043d\\u0435 \\u0441\\u0442\\u0430\\u043b\\u0430 \\u043d\\u0435\\u043e\\u0436\\u0438\\u0434\\u0430\\u043d\\u043d\\u043e\\u0441\\u0442\\u044c\\u044e. \\u0413\\u0435\\u043d\\u0435\\u0440\\u0430\\u043b \\u0414\\u0436.\\u0414\\u0436\\u043e\\u043d\\u0441 \\u0443\\u0448\\u0435\\u043b \\u0432 \\u043e\\u0442\\u0441\\u0442\\u0430\\u0432\\u043a\\u0443 \\u0438\\u0437 \\u043a\\u043e\\u0440\\u043f\\u0443\\u0441\\u0430 \\u043c\\u043e\\u0440\\u0441\\u043a\\u043e\\u0439 \\u043f\\u0435\\u0445\\u043e\\u0442\\u044b 1 \\u0444\\u0435\\u0432\\u0440\\u0430\\u043b\\u044f 2007\\u0433. \\u043f\\u043e\\u0441\\u043b\\u0435 40-\\u043b\\u0435\\u0442\\u043d\\u0435\\u0439 \\u0432\\u043e\\u0435\\u043d\\u043d\\u043e\\u0439 \\u0441\\u043b\\u0443\\u0436\\u0431\\u044b, \\u043d\\u043e \\u043e\\u0441\\u0442\\u0430\\u043b\\u0441\\u044f \\u0432\\u043e\\u0432\\u043b\\u0435\\u0447\\u0435\\u043d\\u043d\\u044b\\u043c \\u0432 \\u0432\\u043e\\u043f\\u0440\\u043e\\u0441\\u044b \\u043d\\u0430\\u0446\\u0438\\u043e\\u043d\\u0430\\u043b\\u044c\\u043d\\u043e\\u0439 \\u0431\\u0435\\u0437\\u043e\\u043f\\u0430\\u0441\\u043d\\u043e\\u0441\\u0442\\u0438. \\u0420\\u0430\\u043d\\u0435\\u0435 \\u043e\\u043d \\u0437\\u0430\\u044f\\u0432\\u043b\\u044f\\u043b, \\u0447\\u0442\\u043e \\u0436\\u0435\\u043b\\u0430\\u0435\\u0442 \\u043f\\u043e\\u043a\\u0438\\u043d\\u0443\\u0442\\u044c \\u043f\\u043e\\u0441\\u0442 \\u0441\\u043e\\u0432\\u0435\\u0442\\u043d\\u0438\\u043a\\u0430 \\u043f\\u0440\\u0435\\u0437\\u0438\\u0434\\u0435\\u043d\\u0442\\u0430 \\u0421\\u0428\\u0410 \\u0432 \\u0442\\u0435\\u0447\\u0435\\u043d\\u0438\\u0435 \\u0434\\u0432\\u0443\\u0445 \\u043b\\u0435\\u0442.\\n\\n\\u041d\\u0430\\u043f\\u043e\\u043c\\u043d\\u0438\\u043c, 1 \\u043e\\u043a\\u0442\\u044f\\u0431\\u0440\\u044f 2010\\u0433. \\u0443\\u0448\\u0435\\u043b \\u0432 \\u043e\\u0442\\u0441\\u0442\\u0430\\u0432\\u043a\\u0443 \\u0441 \\u0434\\u043e\\u043b\\u0436\\u043d\\u043e\\u0441\\u0442\\u0438 \\u0433\\u043b\\u0430\\u0432\\u044b \\u0430\\u0434\\u043c\\u0438\\u043d\\u0438\\u0441\\u0442\\u0440\\u0430\\u0446\\u0438\\u0438 \\u0411\\u0435\\u043b\\u043e\\u0433\\u043e \\u0434\\u043e\\u043c\\u0430 \\u0420.\\u042d\\u043c\\u0430\\u043d\\u0443\\u044d\\u043b\\u044c, \\u043a\\u043e\\u0442\\u043e\\u0440\\u044b\\u0439 \\u043f\\u043b\\u0430\\u043d\\u0438\\u0440\\u0443\\u0435\\u0442 \\u0431\\u0430\\u043b\\u043b\\u043e\\u0442\\u0438\\u0440\\u043e\\u0432\\u0430\\u0442\\u044c\\u0441\\u044f \\u043d\\u0430 \\u043f\\u043e\\u0441\\u0442 \\u043c\\u044d\\u0440\\u0430 \\u0427\\u0438\\u043a\\u0430\\u0433\\u043e. \\u041f\\u043e \\u043c\\u043d\\u0435\\u043d\\u0438\\u044e \\u044d\\u043a\\u0441\\u043f\\u0435\\u0440\\u0442\\u043e\\u0432, \\u0438\\u043d\\u0442\\u0435\\u0440\\u0435\\u0441 \\u043a \\u0434\\u043e\\u043b\\u0436\\u043d\\u043e\\u0441\\u0442\\u0438 \\u043c\\u044d\\u0440\\u0430 \\u0427\\u0438\\u043a\\u0430\\u0433\\u043e, \\u043a\\u043e\\u0442\\u043e\\u0440\\u044b\\u0439 \\u0431\\u044b\\u0432\\u0448\\u0438\\u0439 \\u0433\\u043b\\u0430\\u0432\\u0430 \\u043f\\u0440\\u0435\\u0437\\u0438\\u0434\\u0435\\u043d\\u0442\\u0441\\u043a\\u043e\\u0439 \\u0430\\u0434\\u043c\\u0438\\u043d\\u0438\\u0441\\u0442\\u0440\\u0430\\u0446\\u0438\\u0438 \\u043f\\u0440\\u043e\\u044f\\u0432\\u043b\\u044f\\u043b \\u0438 \\u0440\\u0430\\u043d\\u044c\\u0448\\u0435, \\u0435\\u0449\\u0435 \\u0431\\u043e\\u043b\\u044c\\u0448\\u0435 \\u0443\\u0441\\u0438\\u043b\\u0438\\u043b\\u0441\\u044f \\u043f\\u043e\\u0441\\u043b\\u0435 \\u0437\\u0430\\u044f\\u0432\\u043b\\u0435\\u043d\\u0438\\u0439 \\u043d\\u044b\\u043d\\u0435\\u0448\\u043d\\u0435\\u0433\\u043e \\u043c\\u044d\\u0440\\u0430 \\u0433\\u043e\\u0440\\u043e\\u0434\\u0430 \\u0420\\u0438\\u0447\\u0430\\u0440\\u0434\\u0430 \\u0414\\u044d\\u0439\\u043b\\u0438 \\u043e \\u043d\\u0435\\u0436\\u0435\\u043b\\u0430\\u043d\\u0438\\u0438 \\u043f\\u0435\\u0440\\u0435\\u0438\\u0437\\u0431\\u0438\\u0440\\u0430\\u0442\\u044c\\u0441\\u044f \\u043d\\u0430 \\u043d\\u043e\\u0432\\u044b\\u0439 \\u0441\\u0440\\u043e\\u043a. \\u041f\\u0440\\u0435\\u0437\\u0438\\u0434\\u0435\\u043d\\u0442 \\u0421\\u0428\\u0410 \\u043d\\u0430\\u0437\\u043d\\u0430\\u0447\\u0438\\u043b \\u0441\\u0442\\u0430\\u0440\\u0448\\u0435\\u0433\\u043e \\u0441\\u043e\\u0432\\u0435\\u0442\\u043d\\u0438\\u043a\\u0430 \\u0411\\u0435\\u043b\\u043e\\u0433\\u043e \\u0434\\u043e\\u043c\\u0430 \\u041f\\u0438\\u0442\\u0430 \\u0420\\u0430\\u0443\\u0441\\u0430 \\u0432\\u0440\\u0435\\u043c\\u0435\\u043d\\u043d\\u044b\\u043c \\u0433\\u043b\\u0430\\u0432\\u043e\\u0439 \\u043f\\u0440\\u0435\\u0437\\u0438\\u0434\\u0435\\u043d\\u0442\\u0441\\u043a\\u043e\\u0439 \\u0430\\u0434\\u043c\\u0438\\u043d\\u0438\\u0441\\u0442\\u0440\\u0430\\u0446\\u0438\\u0438.\\n\\n\",\n          \"\\u041f\\u044f\\u0442\\u044b\\u0439 \\u043a\\u043e\\u0441\\u043c\\u0438\\u0447\\u0435\\u0441\\u043a\\u0438\\u0439 \\u0442\\u0443\\u0440\\u0438\\u0441\\u0442 \\u0433\\u043e\\u0442\\u043e\\u0432\\u0438\\u0442\\u0441\\u044f \\u043a \\u043f\\u043e\\u043b\\u0451\\u0442\\u0443\\n58-\\u043b\\u0435\\u0442\\u043d\\u0438\\u0439 \\u043f\\u0440\\u043e\\u0433\\u0440\\u0430\\u043c\\u043c\\u0438\\u0441\\u0442 \\u0438 \\u043c\\u0438\\u043b\\u043b\\u0438\\u0430\\u0440\\u0434\\u0435\\u0440 \\u0433\\u043e\\u0442\\u043e\\u0432\\u0438\\u0442\\u0441\\u044f \\u043a \\u043a\\u043e\\u0441\\u043c\\u0438\\u0447\\u0435\\u0441\\u043a\\u043e\\u043c\\u0443 \\u043f\\u043e\\u043b\\u0451\\u0442\\u0443. \\u0427\\u0430\\u0440\\u043b\\u044c\\u0437 \\u0421\\u0438\\u043c\\u043e\\u043d\\u0438, \\u0430\\u043c\\u0435\\u0440\\u0438\\u043a\\u0430\\u043d\\u0435\\u0446 \\u0432\\u0435\\u043d\\u0433\\u0435\\u0440\\u0441\\u043a\\u043e\\u0433\\u043e \\u043f\\u0440\\u043e\\u0438\\u0441\\u0445\\u043e\\u0436\\u0434\\u0435\\u043d\\u0438\\u044f, \\u043a\\u043e\\u0442\\u043e\\u0440\\u044b\\u0439 \\u0440\\u0430\\u0431\\u043e\\u0442\\u0430\\u043b \\u0432 \\u043a\\u043e\\u0440\\u043f\\u043e\\u0440\\u0430\\u0446\\u0438\\u0438 \\u00ab\\u041c\\u0430\\u0439\\u043a\\u0440\\u043e\\u0441\\u043e\\u0444\\u0442\\u00bb, \\u0433\\u0434\\u0435 \\u043e\\u043d \\u0440\\u0430\\u0437\\u0440\\u0430\\u0431\\u0430\\u0442\\u044b\\u0432\\u0430\\u043b \\u0432\\u0441\\u0435\\u043c\\u0438\\u0440\\u043d\\u043e \\u0438\\u0437\\u0432\\u0435\\u0441\\u0442\\u043d\\u044b\\u0435 \\u043f\\u0440\\u043e\\u0433\\u0440\\u0430\\u043c\\u043c\\u044b Word \\u0438 Excel, \\u0433\\u043e\\u0442\\u043e\\u0432\\u0438\\u0442\\u0441\\u044f \\u0441\\u0442\\u0430\\u0440\\u0442\\u043e\\u0432\\u0430\\u0442\\u044c \\u0432 \\u043a\\u043e\\u0441\\u043c\\u043e\\u0441 9 \\u043c\\u0430\\u0440\\u0442\\u0430 \\u043d\\u0430 \\u043a\\u043e\\u0440\\u0430\\u0431\\u043b\\u0435 \\u00ab\\u0421\\u043e\\u044e\\u0437 \\u0422\\u041c\\u0410-10\\u00bb. \\u0421\\u0438\\u043c\\u043e\\u043d\\u0438 \\u043e\\u0442\\u043f\\u0440\\u0430\\u0432\\u0438\\u0442\\u0441\\u044f \\u043d\\u0430 \\u041c\\u0435\\u0436\\u0434\\u0443\\u043d\\u0430\\u0440\\u043e\\u0434\\u043d\\u0443\\u044e \\u043a\\u043e\\u0441\\u043c\\u0438\\u0447\\u0435\\u0441\\u043a\\u0443\\u044e \\u0441\\u0442\\u0430\\u043d\\u0446\\u0438\\u044e \\u0432\\u043c\\u0435\\u0441\\u0442\\u0435 \\u0441 15-\\u043c \\u044d\\u043a\\u0438\\u043f\\u0430\\u0436\\u0435\\u043c \\u041c\\u041a\\u0421, \\u0424\\u0451\\u0434\\u043e\\u0440\\u043e\\u043c \\u042e\\u0440\\u0447\\u0438\\u0445\\u0438\\u043d\\u044b\\u043c \\u0438 \\u041e\\u043b\\u0435\\u0433\\u043e\\u043c \\u041a\\u043e\\u0442\\u043e\\u0432\\u044b\\u043c, \\u0430 \\u0432\\u0435\\u0440\\u043d\\u0451\\u0442\\u0441\\u044f \\u043d\\u0430 \\u0417\\u0435\\u043c\\u043b\\u044e \\u0441 \\u0447\\u043b\\u0435\\u043d\\u0430\\u043c\\u0438 14-\\u043e \\u044d\\u043a\\u0438\\u043f\\u0430\\u0436\\u0430 \\u041c\\u041a\\u0421 \\u041c\\u0430\\u0439\\u043a\\u043b\\u043e\\u043c \\u041b\\u043e\\u043f\\u0435\\u0441\\u043e\\u043c-\\u0410\\u043b\\u0435\\u0433\\u0440\\u0438\\u044f \\u0438 \\u041c\\u0438\\u0445\\u0430\\u0438\\u043b\\u043e\\u043c \\u0422\\u044e\\u0440\\u0438\\u043d\\u044b\\u043c.\\n\\n\\u0421\\u0438\\u043c\\u043e\\u043d\\u0438 \\u0433\\u043e\\u0432\\u043e\\u0440\\u0438\\u0442, \\u0447\\u0442\\u043e \\u043e\\u043d \\u0431\\u0443\\u0434\\u0435\\u0442 \\u043f\\u0435\\u0440\\u0432\\u044b\\u043c \\u00ab\\u0443\\u043c\\u043d\\u0438\\u043a\\u043e\\u043c\\u00bb (nerd) \\u0432 \\u043a\\u043e\\u0441\\u043c\\u043e\\u0441\\u0435.\\n\\n\\u041f\\u043e\\u043b\\u0451\\u0442 \\u0421\\u0438\\u043c\\u043e\\u043d\\u0438 \\u043e\\u0440\\u0433\\u0430\\u043d\\u0438\\u0437\\u0443\\u0435\\u0442 \\u043a\\u043e\\u043c\\u043f\\u0430\\u043d\\u0438\\u044f Space Adventures, \\u043a\\u043e\\u0442\\u043e\\u0440\\u0430\\u044f \\u0437\\u0430\\u043d\\u0438\\u043c\\u0430\\u0435\\u0442\\u0441\\u044f \\u043a\\u043e\\u0441\\u043c\\u0438\\u0447\\u0435\\u0441\\u043a\\u0438\\u043c \\u0442\\u0443\\u0440\\u0438\\u0437\\u043c\\u043e\\u043c, \\u0438 \\u043a\\u043e\\u0442\\u043e\\u0440\\u0430\\u044f \\u043e\\u0442\\u043f\\u0440\\u0430\\u0432\\u0438\\u043b\\u0430 \\u0432 \\u043a\\u043e\\u0441\\u043c\\u043e\\u0441 \\u0443\\u0436\\u0435 \\u0447\\u0435\\u0442\\u0432\\u0435\\u0440\\u044b\\u0445 \\u043a\\u043e\\u0441\\u043c\\u043e\\u043d\\u0430\\u0432\\u0442\\u043e\\u0432-\\u043b\\u044e\\u0431\\u0438\\u0442\\u0435\\u043b\\u0435\\u0439.\\n\\n\\u041f\\u043e\\u043b\\u0451\\u0442 \\u0421\\u0438\\u043c\\u043e\\u043d\\u0438 \\u0431\\u0443\\u0434\\u0435\\u0442 \\u043f\\u0440\\u043e\\u0434\\u043e\\u043b\\u0436\\u0430\\u0442\\u044c\\u0441\\u044f 10 \\u0441\\u0443\\u0442\\u043e\\u043a, \\u0434\\u0432\\u043e\\u0435 \\u0441\\u0443\\u0442\\u043e\\u043a \\u043f\\u043e\\u043b\\u0451\\u0442 \\u043a \\u041c\\u041a\\u0421 \\u0438 8 \\u0441\\u0443\\u0442\\u043e\\u043a \\u043d\\u0430 \\u0441\\u0442\\u0430\\u043d\\u0446\\u0438\\u0438, \\u0437\\u0430 \\u044d\\u0442\\u043e \\u0432\\u0440\\u0435\\u043c\\u044f \\u0421\\u0438\\u043c\\u043e\\u043d\\u0438\\u0438 160 \\u0440\\u0430\\u0437 \\u043e\\u0431\\u043b\\u0435\\u0442\\u0438\\u0442 \\u0417\\u0435\\u043c\\u043b\\u044e \\u0438 \\u043f\\u0440\\u0435\\u043e\\u0434\\u043e\\u043b\\u0435\\u0435\\u0442 6,5 \\u043c\\u0438\\u043b\\u043b\\u0438\\u043e\\u043d\\u043e\\u0432 \\u043a\\u0438\\u043b\\u043e\\u043c\\u0435\\u0442\\u0440\\u043e\\u0432.\\n\\n\\u00ab\\u042f \\u0438\\u043c\\u0435\\u044e \\u0442\\u0440\\u0438 \\u0446\\u0435\\u043b\\u0438\\u00bb, \\u0441\\u043a\\u0430\\u0437\\u0430\\u043b \\u0421\\u0438\\u043c\\u043e\\u043d\\u0438: \\u00ab\\u041e\\u0434\\u043d\\u0430 \\u0438\\u0437 \\u043d\\u0438\\u0445 \\u2014 \\u0440\\u0430\\u0437\\u0432\\u0438\\u0442\\u0438\\u0435 \\u043a\\u043e\\u0441\\u043c\\u0438\\u0447\\u0435\\u0441\\u043a\\u043e\\u0433\\u043e \\u0442\\u0443\\u0440\\u0438\\u0437\\u043c\\u0430, \\u0432\\u0442\\u043e\\u0440\\u0430\\u044f \\u2014 \\u0443\\u0447\\u0430\\u0441\\u0442\\u0432\\u043e\\u0432\\u0430\\u0442\\u044c \\u0432 \\u043d\\u0430\\u0443\\u0447\\u043d\\u044b\\u0445 \\u0438\\u0441\\u0441\\u043b\\u0435\\u0434\\u043e\\u0432\\u0430\\u043d\\u0438\\u044f\\u0445 \\u043d\\u0430 \\u041c\\u041a\\u0421, \\u0442\\u0440\\u0435\\u0442\\u044c\\u044f \\u2014 \\u0432\\u043e\\u0432\\u043b\\u0435\\u0447\\u0435\\u043d\\u0438\\u0435 \\u0434\\u0435\\u0442\\u0435\\u0439 \\u043a \\u043a\\u043e\\u0441\\u043c\\u0438\\u0447\\u0435\\u0441\\u043a\\u0438\\u043c \\u0438\\u0441\\u0441\\u043b\\u0435\\u0434\\u043e\\u0432\\u0430\\u043d\\u0438\\u044f\\u043c\\u00bb.\\n\\n\\u0421\\u0438\\u043c\\u043e\\u043d\\u0438 \\u043e\\u0440\\u0433\\u0430\\u043d\\u0438\\u0437\\u043e\\u0432\\u0430\\u043b \\u0418\\u043d\\u0442\\u0435\\u0440\\u043d\\u0435\\u0442 \\u0441\\u0442\\u0440\\u0430\\u043d\\u0438\\u0446\\u0443, \\u043f\\u043e\\u0441\\u0432\\u044f\\u0449\\u0451\\u043d\\u043d\\u0443\\u044e \\u0435\\u0433\\u043e \\u043f\\u043e\\u043b\\u0451\\u0442\\u0443: charlesinspace.com.\\n\\n\\u0421\\u0438\\u043c\\u043e\\u043d\\u0438\\u0438 \\u043f\\u043b\\u0430\\u043d\\u0438\\u0440\\u0443\\u0435\\u0442 \\u043f\\u043e\\u043b\\u043e\\u0436\\u0438\\u0442\\u044c \\u043d\\u0430\\u0447\\u0430\\u043b\\u043e \\u0441\\u043e\\u0437\\u0434\\u0430\\u043d\\u0438\\u044f \\u0431\\u0438\\u0431\\u043b\\u0438\\u043e\\u0442\\u0435\\u043a\\u0438 \\u043d\\u0430 \\u041c\\u041a\\u0421. \\u041f\\u0435\\u0440\\u0432\\u044b\\u043c \\u0432\\u043a\\u043b\\u0430\\u0434\\u043e\\u043c \\u0432 \\u0431\\u0438\\u0431\\u043b\\u0438\\u043e\\u0442\\u0435\\u043a\\u0443 \\u0431\\u0443\\u0434\\u0443\\u0442 \\u0440\\u043e\\u043c\\u0430\\u043d \\u0420\\u043e\\u0431\\u0435\\u0440\\u0442\\u0430 \\u0425\\u0430\\u0439\\u043d\\u043b\\u0430\\u0439\\u043d\\u0430 \\u00ab\\u041b\\u0443\\u043d\\u0430-\\u0441\\u0443\\u0440\\u043e\\u0432\\u0430\\u044f \\u0445\\u043e\\u0437\\u044f\\u0439\\u043a\\u0430\\u00bb \\u0438 \\u00ab\\u0424\\u0430\\u0443\\u0441\\u0442\\u00bb \\u0413\\u0451\\u0442\\u0435.\\n\\n\\u0421\\u043b\\u0435\\u0434\\u0443\\u044e\\u0449\\u0438\\u0435 \\u043f\\u044f\\u0442\\u044c \\u043c\\u0435\\u0441\\u044f\\u0446\\u0435\\u0432 \\u0421\\u0438\\u043c\\u043e\\u043d\\u0438 \\u043f\\u0440\\u043e\\u0432\\u0435\\u0434\\u0451\\u0442 \\u0432 \\u0417\\u0432\\u0451\\u0437\\u0434\\u043d\\u043e\\u043c \\u0433\\u043e\\u0440\\u043e\\u0434\\u043a\\u0435 \\u0438 \\u043d\\u0430 \\u0411\\u0430\\u0439\\u043a\\u043e\\u043d\\u0443\\u0440\\u0435, \\u0433\\u043e\\u0442\\u043e\\u0432\\u044f\\u0441\\u044c \\u043a \\u043f\\u043e\\u043b\\u0451\\u0442\\u0443.\\n\\n\\u0412 \\u043e\\u0442\\u043b\\u0438\\u0447\\u0438\\u0435 \\u043e\\u0442 \\u0441\\u0432\\u043e\\u0438\\u0445 \\u043f\\u0440\\u0435\\u0434\\u0448\\u0435\\u0441\\u0442\\u0432\\u0435\\u043d\\u043d\\u0438\\u043a\\u043e\\u0432, \\u0421\\u0438\\u043c\\u043e\\u043d\\u0438 \\u043b\\u0443\\u0447\\u0448\\u0435 \\u043f\\u043e\\u0434\\u0433\\u043e\\u0442\\u043e\\u0432\\u043b\\u0435\\u043d \\u043a \\u043a\\u043e\\u0441\\u043c\\u0438\\u0447\\u0435\\u0441\\u043a\\u043e\\u043c\\u0443 \\u043f\\u043e\\u043b\\u0451\\u0442\\u0443. \\u041e\\u043d \\u0438\\u043c\\u0435\\u0435\\u0442 \\u043b\\u0438\\u0446\\u0435\\u043d\\u0437\\u0438\\u044e \\u043b\\u0451\\u0442\\u0447\\u0438\\u043a\\u0430 \\u0440\\u0435\\u0430\\u043a\\u0442\\u0438\\u0432\\u043d\\u043e\\u0433\\u043e \\u0441\\u0430\\u043c\\u043e\\u043b\\u0451\\u0442\\u0430 \\u0438 \\u0432\\u0435\\u0440\\u0442\\u043e\\u043b\\u0451\\u0442\\u0430 \\u0438 \\u0438\\u043c\\u0435\\u0435\\u0442 \\u0431\\u043e\\u043b\\u0435\\u0435 2000 \\u0447\\u0430\\u0441\\u043e\\u0432 \\u043d\\u0430\\u043b\\u0451\\u0442\\u0430.\\n\\n\\u0414\\u043e\\u043a\\u0442\\u043e\\u0440 \\u0421\\u0438\\u043c\\u043e\\u043d\\u0438 \\u0442\\u0430\\u043a\\u0436\\u0435 \\u0441\\u0442\\u0440\\u0435\\u043c\\u0438\\u0442\\u0441\\u044f \\u0445\\u043e\\u0440\\u043e\\u0448\\u043e \\u0438\\u0437\\u0443\\u0447\\u0438\\u0442\\u044c \\u0440\\u0443\\u0441\\u0441\\u043a\\u0438\\u0439 \\u044f\\u0437\\u044b\\u043a \\u0438 \\u0441\\u0438\\u0441\\u0442\\u0435\\u043c\\u044b \\u043a\\u043e\\u0440\\u0430\\u0431\\u043b\\u044f \\u00ab\\u0421\\u043e\\u044e\\u0437\\u00bb. \\u00ab\\u042f \\u0441\\u0447\\u0438\\u0442\\u0430\\u044e \\u044d\\u0442\\u043e \\u043e\\u0442\\u043b\\u0438\\u0447\\u043d\\u0430\\u044f \\u0432\\u043e\\u0437\\u043c\\u043e\\u0436\\u043d\\u043e\\u0441\\u0442\\u044c, \\u0447\\u0442\\u043e\\u0431\\u044b \\u0438\\u0437\\u0443\\u0447\\u0438\\u0442\\u044c \\u044d\\u0442\\u0438 \\u0432\\u0435\\u0449\\u0438\\u00bb, \\u0441\\u043a\\u0430\\u0437\\u0430\\u043b \\u0421\\u0438\\u043c\\u043e\\u043d\\u0438.\\n\"\n        ],\n        \"semantic_type\": \"\",\n        \"description\": \"\"\n      }\n    },\n    {\n      \"column\": \"entity_type\",\n      \"properties\": {\n        \"dtype\": \"category\",\n        \"num_unique_values\": 29,\n        \"samples\": [\n          \"RELIGION\",\n          \"MONEY\",\n          \"LAW\"\n        ],\n        \"semantic_type\": \"\",\n        \"description\": \"\"\n      }\n    },\n    {\n      \"column\": \"start_pos\",\n      \"properties\": {\n        \"dtype\": \"number\",\n        \"std\": 1044,\n        \"min\": 0,\n        \"max\": 12918,\n        \"num_unique_values\": 3741,\n        \"samples\": [\n          6388,\n          2001,\n          721\n        ],\n        \"semantic_type\": \"\",\n        \"description\": \"\"\n      }\n    },\n    {\n      \"column\": \"end_pos\",\n      \"properties\": {\n        \"dtype\": \"number\",\n        \"std\": 1044,\n        \"min\": 2,\n        \"max\": 12930,\n        \"num_unique_values\": 3722,\n        \"samples\": [\n          2046,\n          2276,\n          2428\n        ],\n        \"semantic_type\": \"\",\n        \"description\": \"\"\n      }\n    },\n    {\n      \"column\": \"entity_text\",\n      \"properties\": {\n        \"dtype\": \"string\",\n        \"num_unique_values\": 25212,\n        \"samples\": [\n          \"\\u043f\\u0440\\u0430\\u0432\\u043e\\u043e\\u0445\\u0440\\u0430\\u043d\\u0438\\u0442\\u0435\\u043b\\u044c\\u043d\\u044b\\u0435 \\u043e\\u0440\\u0433\\u0430\\u043d\\u044b\",\n          \"\\u041c\\u0430\\u0440\\u043a\",\n          \"\\u0413\\u043b\\u0430\\u0432\\u0430 Samsung\"\n        ],\n        \"semantic_type\": \"\",\n        \"description\": \"\"\n      }\n    },\n    {\n      \"column\": \"length\",\n      \"properties\": {\n        \"dtype\": \"number\",\n        \"std\": 1523.701743942736,\n        \"min\": 426.0,\n        \"max\": 12932.0,\n        \"num_unique_values\": 735,\n        \"samples\": [\n          1177.0,\n          2374.0,\n          1596.0\n        ],\n        \"semantic_type\": \"\",\n        \"description\": \"\"\n      }\n    },\n    {\n      \"column\": \"word_count\",\n      \"properties\": {\n        \"dtype\": \"number\",\n        \"std\": 203.10867858768788,\n        \"min\": 60.0,\n        \"max\": 1710.0,\n        \"num_unique_values\": 300,\n        \"samples\": [\n          194.0,\n          118.0,\n          224.0\n        ],\n        \"semantic_type\": \"\",\n        \"description\": \"\"\n      }\n    }\n  ]\n}"
            }
          },
          "metadata": {},
          "execution_count": 25
        }
      ],
      "source": [
        "train_without_overlaps"
      ]
    },
    {
      "cell_type": "code",
      "execution_count": null,
      "metadata": {
        "colab": {
          "base_uri": "https://localhost:8080/"
        },
        "id": "qfRfyV2ftOSX",
        "outputId": "dffe0a8e-bf55-4fb1-feb0-d08c4f614533"
      },
      "outputs": [
        {
          "output_type": "stream",
          "name": "stdout",
          "text": [
            "Количество текстов с пересекающимися сущностями: 0\n",
            "Общее количество пересечений сущностей: 0\n"
          ]
        },
        {
          "output_type": "stream",
          "name": "stderr",
          "text": [
            "<ipython-input-26-35fd5e129700>:1: DeprecationWarning: DataFrameGroupBy.apply operated on the grouping columns. This behavior is deprecated, and in a future version of pandas the grouping columns will be excluded from the operation. Either pass `include_groups=False` to exclude the groupings or explicitly select the grouping columns after groupby to silence this warning.\n",
            "  overlap_results = train_without_overlaps.groupby('text').apply(has_overlapping_entities)\n"
          ]
        }
      ],
      "source": [
        "overlap_results = train_without_overlaps.groupby('text').apply(has_overlapping_entities)\n",
        "\n",
        "texts_with_overlaps = overlap_results['has_overlap'].sum()\n",
        "\n",
        "total_overlaps = overlap_results['overlap_count'].sum()\n",
        "\n",
        "print(f\"Количество текстов с пересекающимися сущностями: {texts_with_overlaps}\")\n",
        "print(f\"Общее количество пересечений сущностей: {total_overlaps}\")"
      ]
    },
    {
      "cell_type": "markdown",
      "metadata": {
        "id": "-U2SVgM-hUS8"
      },
      "source": [
        "Получается избавились от пересечений ценой уменьшения датасета на ~10к строк. Что ж, продолжим"
      ]
    },
    {
      "cell_type": "markdown",
      "metadata": {
        "id": "KSiC0qW4hoxO"
      },
      "source": [
        "Ещё раз глянем на примеры сущностей по классам и небольшие кусочки контекста в которых они встречаются"
      ]
    },
    {
      "cell_type": "code",
      "execution_count": null,
      "metadata": {
        "id": "5OXbaXVIY5hJ"
      },
      "outputs": [],
      "source": [
        "from IPython.display import display, HTML\n",
        "import random\n",
        "\n",
        "def display_entity_examples(df, entity_types, examples_per_type=3, context_chars=30):\n",
        "    \"\"\"\n",
        "    Отображает примеры для каждой категории сущностей с выделенными сущностями.\n",
        "\n",
        "    :param df: DataFrame с данными\n",
        "    :param entity_types: Список типов сущностей\n",
        "    :param examples_per_type: Количество примеров для каждой категории\n",
        "    :param context_chars: Количество символов контекста слева и справа от сущности\n",
        "    \"\"\"\n",
        "    for ent_type in entity_types:\n",
        "        subset = df[df['entity_type'] == ent_type]\n",
        "        if subset.empty:\n",
        "            continue\n",
        "        samples = subset.sample(n=examples_per_type, random_state=42)\n",
        "        print(f\"### Тип сущности: {ent_type}\\n\")\n",
        "        for idx, row in samples.iterrows():\n",
        "            text = row['text']\n",
        "            start = row['start_pos']\n",
        "            end = row['end_pos']\n",
        "            entity = row['entity_text']\n",
        "\n",
        "            start_context = max(start - context_chars, 0)\n",
        "            end_context = min(end + context_chars, len(text))\n",
        "\n",
        "            context = text[start_context:start] + f\"<span style='background-color: #FFFF00'>{entity}</span>\" + text[end:end_context]\n",
        "\n",
        "            context = context.replace('&', '&amp;').replace('<', '&lt;').replace('>', '&gt;')\n",
        "\n",
        "            context = context.replace(f\"&lt;span style='background-color: #FFFF00'&gt;{entity}&lt;/span&gt;\",\n",
        "                                      f\"<span style='background-color: #FFFF00'>{entity}</span>\")\n",
        "\n",
        "            display(HTML(f\"<p>...{context}...</p>\"))\n",
        "        print('-'*80)\n",
        "        print(\"\\n\")\n"
      ]
    },
    {
      "cell_type": "code",
      "execution_count": null,
      "metadata": {
        "colab": {
          "base_uri": "https://localhost:8080/"
        },
        "id": "lQbg7sMcY6fF",
        "outputId": "328adeee-01b9-4183-dc9e-7b1007ffa99f"
      },
      "outputs": [
        {
          "output_type": "stream",
          "name": "stdout",
          "text": [
            "Всего типов сущностей: 29\n",
            "['COUNTRY' 'EVENT' 'PROFESSION' 'PERSON' 'ORGANIZATION' 'IDEOLOGY'\n",
            " 'DISTRICT' 'AGE' 'DATE' 'NUMBER' 'STATE_OR_PROVINCE' 'NATIONALITY' 'LAW'\n",
            " 'TIME' 'PENALTY' 'CRIME' 'MONEY' 'FACILITY' 'CITY' 'WORK_OF_ART'\n",
            " 'PRODUCT' 'ORDINAL' 'AWARD' 'LOCATION' 'DISEASE' 'LANGUAGE' 'PERCENT'\n",
            " 'RELIGION' 'FAMILY']\n"
          ]
        }
      ],
      "source": [
        "unique_entity_types = train_without_overlaps['entity_type'].unique()\n",
        "print(f\"Всего типов сущностей: {len(unique_entity_types)}\")\n",
        "print(unique_entity_types)\n"
      ]
    },
    {
      "cell_type": "code",
      "execution_count": null,
      "metadata": {
        "colab": {
          "base_uri": "https://localhost:8080/",
          "height": 1000
        },
        "id": "4NaJl8hbY-jg",
        "outputId": "5a4a21cb-b3bb-4383-98b1-164a38e8a08f"
      },
      "outputs": [
        {
          "output_type": "stream",
          "name": "stdout",
          "text": [
            "### Тип сущности: COUNTRY\n",
            "\n"
          ]
        },
        {
          "output_type": "display_data",
          "data": {
            "text/plain": [
              "<IPython.core.display.HTML object>"
            ],
            "text/html": [
              "<p>... когда пловцы соревновались в <span style='background-color: #FFFF00'>греческом</span> заливе Зеа. Знаменательное со...</p>"
            ]
          },
          "metadata": {}
        },
        {
          "output_type": "display_data",
          "data": {
            "text/plain": [
              "<IPython.core.display.HTML object>"
            ],
            "text/html": [
              "<p>...менного Сингапура и создатель <span style='background-color: #FFFF00'>сингапурского</span> экономического «чуда» Ли Куан...</p>"
            ]
          },
          "metadata": {}
        },
        {
          "output_type": "display_data",
          "data": {
            "text/plain": [
              "<IPython.core.display.HTML object>"
            ],
            "text/html": [
              "<p>...медицинские приборы населению <span style='background-color: #FFFF00'>Ирака</span>. Сюзанна Остхофф участвовала ...</p>"
            ]
          },
          "metadata": {}
        },
        {
          "output_type": "stream",
          "name": "stdout",
          "text": [
            "--------------------------------------------------------------------------------\n",
            "\n",
            "\n",
            "### Тип сущности: EVENT\n",
            "\n"
          ]
        },
        {
          "output_type": "display_data",
          "data": {
            "text/plain": [
              "<IPython.core.display.HTML object>"
            ],
            "text/html": [
              "<p>...состоялся литературный вечер «<span style='background-color: #FFFF00'>Стальная вера</span>», посвященный 110-летию со дн...</p>"
            ]
          },
          "metadata": {}
        },
        {
          "output_type": "display_data",
          "data": {
            "text/plain": [
              "<IPython.core.display.HTML object>"
            ],
            "text/html": [
              "<p>...гуртзис. Одновременно полиция <span style='background-color: #FFFF00'>задержала</span> еще одного ученика, который п...</p>"
            ]
          },
          "metadata": {}
        },
        {
          "output_type": "display_data",
          "data": {
            "text/plain": [
              "<IPython.core.display.HTML object>"
            ],
            "text/html": [
              "<p>...менеть несколько лет. Актриса <span style='background-color: #FFFF00'>вышла замуж</span> за гитариста рок-группы Good ...</p>"
            ]
          },
          "metadata": {}
        },
        {
          "output_type": "stream",
          "name": "stdout",
          "text": [
            "--------------------------------------------------------------------------------\n",
            "\n",
            "\n",
            "### Тип сущности: PROFESSION\n",
            "\n"
          ]
        },
        {
          "output_type": "display_data",
          "data": {
            "text/plain": [
              "<IPython.core.display.HTML object>"
            ],
            "text/html": [
              "<p>...тренних органов.\n",
              "\n",
              "В 12:30 мск <span style='background-color: #FFFF00'>мэр</span> был доставлен в больницу скор...</p>"
            ]
          },
          "metadata": {}
        },
        {
          "output_type": "display_data",
          "data": {
            "text/plain": [
              "<IPython.core.display.HTML object>"
            ],
            "text/html": [
              "<p>...3 УК РФ. По словам 25-летнего <span style='background-color: #FFFF00'>аспиранта</span> МГУ, его били и пытали шурупо...</p>"
            ]
          },
          "metadata": {}
        },
        {
          "output_type": "display_data",
          "data": {
            "text/plain": [
              "<IPython.core.display.HTML object>"
            ],
            "text/html": [
              "<p>...главный соперник французского <span style='background-color: #FFFF00'>президента</span> Николя Саркози на предстоящих...</p>"
            ]
          },
          "metadata": {}
        },
        {
          "output_type": "stream",
          "name": "stdout",
          "text": [
            "--------------------------------------------------------------------------------\n",
            "\n",
            "\n",
            "### Тип сущности: PERSON\n",
            "\n"
          ]
        },
        {
          "output_type": "display_data",
          "data": {
            "text/plain": [
              "<IPython.core.display.HTML object>"
            ],
            "text/html": [
              "<p>...лет\n",
              "Владимир Этуш в 2008 году\n",
              "<span style='background-color: #FFFF00'>Владимир Этуш</span> в 1943 году\n",
              "Владимир Путин в ...</p>"
            ]
          },
          "metadata": {}
        },
        {
          "output_type": "display_data",
          "data": {
            "text/plain": [
              "<IPython.core.display.HTML object>"
            ],
            "text/html": [
              "<p>...а день до трагедии Кристину и <span style='background-color: #FFFF00'>Артёма</span> видели на улице — они шли, де...</p>"
            ]
          },
          "metadata": {}
        },
        {
          "output_type": "display_data",
          "data": {
            "text/plain": [
              "<IPython.core.display.HTML object>"
            ],
            "text/html": [
              "<p>...\n",
              "\n",
              "Однако в октябре 2012 года, <span style='background-color: #FFFF00'>Екатерина Самуцевич</span> была отпущена.\n",
              "Её защита указ...</p>"
            ]
          },
          "metadata": {}
        },
        {
          "output_type": "stream",
          "name": "stdout",
          "text": [
            "--------------------------------------------------------------------------------\n",
            "\n",
            "\n",
            "### Тип сущности: ORGANIZATION\n",
            "\n"
          ]
        },
        {
          "output_type": "display_data",
          "data": {
            "text/plain": [
              "<IPython.core.display.HTML object>"
            ],
            "text/html": [
              "<p>... безопасности в районе здания <span style='background-color: #FFFF00'>МВД</span> погибли, по официальным данны...</p>"
            ]
          },
          "metadata": {}
        },
        {
          "output_type": "display_data",
          "data": {
            "text/plain": [
              "<IPython.core.display.HTML object>"
            ],
            "text/html": [
              "<p>...я», дортмундская «Боруссия», «<span style='background-color: #FFFF00'>ПСЖ</span>», «Рома», «Галатасарай» и мно...</p>"
            ]
          },
          "metadata": {}
        },
        {
          "output_type": "display_data",
          "data": {
            "text/plain": [
              "<IPython.core.display.HTML object>"
            ],
            "text/html": [
              "<p>...х рэперов по версии журнала ''<span style='background-color: #FFFF00'>Forbes</span>'', уступив хип-хоп-исполнител...</p>"
            ]
          },
          "metadata": {}
        },
        {
          "output_type": "stream",
          "name": "stdout",
          "text": [
            "--------------------------------------------------------------------------------\n",
            "\n",
            "\n",
            "### Тип сущности: IDEOLOGY\n",
            "\n"
          ]
        },
        {
          "output_type": "display_data",
          "data": {
            "text/plain": [
              "<IPython.core.display.HTML object>"
            ],
            "text/html": [
              "<p>...азилец, по ошибке принятый за <span style='background-color: #FFFF00'>террориста</span>.\n",
              "Хотя в ходе последовавшего з...</p>"
            ]
          },
          "metadata": {}
        },
        {
          "output_type": "display_data",
          "data": {
            "text/plain": [
              "<IPython.core.display.HTML object>"
            ],
            "text/html": [
              "<p>...б один и ранено двое военных. <span style='background-color: #FFFF00'>Повстанцы</span> «Талибана» утверждают, что вз...</p>"
            ]
          },
          "metadata": {}
        },
        {
          "output_type": "display_data",
          "data": {
            "text/plain": [
              "<IPython.core.display.HTML object>"
            ],
            "text/html": [
              "<p>...ая модель развития, проведены <span style='background-color: #FFFF00'>социалистические</span> реформы, экономика поставлена...</p>"
            ]
          },
          "metadata": {}
        },
        {
          "output_type": "stream",
          "name": "stdout",
          "text": [
            "--------------------------------------------------------------------------------\n",
            "\n",
            "\n",
            "### Тип сущности: DISTRICT\n",
            "\n"
          ]
        },
        {
          "output_type": "display_data",
          "data": {
            "text/plain": [
              "<IPython.core.display.HTML object>"
            ],
            "text/html": [
              "<p>...вня пенсионного обеспечения в <span style='background-color: #FFFF00'>Северо-Кавказском федеральном округе</span> (СКФО), то такому гражданину ...</p>"
            ]
          },
          "metadata": {}
        },
        {
          "output_type": "display_data",
          "data": {
            "text/plain": [
              "<IPython.core.display.HTML object>"
            ],
            "text/html": [
              "<p>...до среднего размера пенсии по <span style='background-color: #FFFF00'>СКФО</span> содержится в договоре между Р...</p>"
            ]
          },
          "metadata": {}
        },
        {
          "output_type": "display_data",
          "data": {
            "text/plain": [
              "<IPython.core.display.HTML object>"
            ],
            "text/html": [
              "<p>... Польши (ныне деревня Вишнево <span style='background-color: #FFFF00'>Воложинского района</span> Минской области Беларуси). в ...</p>"
            ]
          },
          "metadata": {}
        },
        {
          "output_type": "stream",
          "name": "stdout",
          "text": [
            "--------------------------------------------------------------------------------\n",
            "\n",
            "\n",
            "### Тип сущности: AGE\n",
            "\n"
          ]
        },
        {
          "output_type": "display_data",
          "data": {
            "text/plain": [
              "<IPython.core.display.HTML object>"
            ],
            "text/html": [
              "<p>...представители администрации.\n",
              "\n",
              "<span style='background-color: #FFFF00'>54-летняя</span> Сотомайор будет назначена на ...</p>"
            ]
          },
          "metadata": {}
        },
        {
          "output_type": "display_data",
          "data": {
            "text/plain": [
              "<IPython.core.display.HTML object>"
            ],
            "text/html": [
              "<p>... но и далеко за её пределами» <span style='background-color: #FFFF00'>63-летний</span> Жерар Депардьё решил отказать...</p>"
            ]
          },
          "metadata": {}
        },
        {
          "output_type": "display_data",
          "data": {
            "text/plain": [
              "<IPython.core.display.HTML object>"
            ],
            "text/html": [
              "<p>...дред Пирс» (Mildred Pierce).\n",
              "\n",
              "<span style='background-color: #FFFF00'>76-летняя</span> Мэгги Смит признана лучшей ак...</p>"
            ]
          },
          "metadata": {}
        },
        {
          "output_type": "stream",
          "name": "stdout",
          "text": [
            "--------------------------------------------------------------------------------\n",
            "\n",
            "\n",
            "### Тип сущности: DATE\n",
            "\n"
          ]
        },
        {
          "output_type": "display_data",
          "data": {
            "text/plain": [
              "<IPython.core.display.HTML object>"
            ],
            "text/html": [
              "<p>...айами.\n",
              "Вместе с певицей в США <span style='background-color: #FFFF00'>последние месяцы</span> её беременности находилась ро...</p>"
            ]
          },
          "metadata": {}
        },
        {
          "output_type": "display_data",
          "data": {
            "text/plain": [
              "<IPython.core.display.HTML object>"
            ],
            "text/html": [
              "<p>...торая недавно уехала в Сирию. <span style='background-color: #FFFF00'>В апреле</span> его вызвали в полицию и занес...</p>"
            ]
          },
          "metadata": {}
        },
        {
          "output_type": "display_data",
          "data": {
            "text/plain": [
              "<IPython.core.display.HTML object>"
            ],
            "text/html": [
              "<p>...етия.\n",
              "\n",
              "Виталий Чуркин родился <span style='background-color: #FFFF00'>21 февраля 1952 года</span> в Москве.\n",
              "На посту представит...</p>"
            ]
          },
          "metadata": {}
        },
        {
          "output_type": "stream",
          "name": "stdout",
          "text": [
            "--------------------------------------------------------------------------------\n",
            "\n",
            "\n",
            "### Тип сущности: NUMBER\n",
            "\n"
          ]
        },
        {
          "output_type": "display_data",
          "data": {
            "text/plain": [
              "<IPython.core.display.HTML object>"
            ],
            "text/html": [
              "<p>...и австралийского конкурса на \"<span style='background-color: #FFFF00'>шесть</span> лучших вакансий в мире\", сред...</p>"
            ]
          },
          "metadata": {}
        },
        {
          "output_type": "display_data",
          "data": {
            "text/plain": [
              "<IPython.core.display.HTML object>"
            ],
            "text/html": [
              "<p>...нила чемпионское звание, съев <span style='background-color: #FFFF00'>45</span> хот-догов.\n",
              "\n",
              "На втором месте с...</p>"
            ]
          },
          "metadata": {}
        },
        {
          "output_type": "display_data",
          "data": {
            "text/plain": [
              "<IPython.core.display.HTML object>"
            ],
            "text/html": [
              "<p>...кий астронавт Джефф Уильямс и <span style='background-color: #FFFF00'>два</span> российских космонавта заверши...</p>"
            ]
          },
          "metadata": {}
        },
        {
          "output_type": "stream",
          "name": "stdout",
          "text": [
            "--------------------------------------------------------------------------------\n",
            "\n",
            "\n",
            "### Тип сущности: STATE_OR_PROVINCE\n",
            "\n"
          ]
        },
        {
          "output_type": "display_data",
          "data": {
            "text/plain": [
              "<IPython.core.display.HTML object>"
            ],
            "text/html": [
              "<p>...боту — 26 января 2013 в штате <span style='background-color: #FFFF00'>Юта</span>, присудило главный приз карти...</p>"
            ]
          },
          "metadata": {}
        },
        {
          "output_type": "display_data",
          "data": {
            "text/plain": [
              "<IPython.core.display.HTML object>"
            ],
            "text/html": [
              "<p>...скончался в больнице Финикса (<span style='background-color: #FFFF00'>Аризона</span>), куда он был доставлен неско...</p>"
            ]
          },
          "metadata": {}
        },
        {
          "output_type": "display_data",
          "data": {
            "text/plain": [
              "<IPython.core.display.HTML object>"
            ],
            "text/html": [
              "<p>...014 года Борисом Воронцовым в <span style='background-color: #FFFF00'>Крыму</span> (60 км).\n",
              "\n",
              "Уфа выбрана местом ...</p>"
            ]
          },
          "metadata": {}
        },
        {
          "output_type": "stream",
          "name": "stdout",
          "text": [
            "--------------------------------------------------------------------------------\n",
            "\n",
            "\n",
            "### Тип сущности: NATIONALITY\n",
            "\n"
          ]
        },
        {
          "output_type": "display_data",
          "data": {
            "text/plain": [
              "<IPython.core.display.HTML object>"
            ],
            "text/html": [
              "<p>...к\n",
              "Квентин Тарантино\n",
              "54-летний <span style='background-color: #FFFF00'>американский</span> кинорежиссёр и сценарист Квен...</p>"
            ]
          },
          "metadata": {}
        },
        {
          "output_type": "display_data",
          "data": {
            "text/plain": [
              "<IPython.core.display.HTML object>"
            ],
            "text/html": [
              "<p>...сказов Элис выступают молодые <span style='background-color: #FFFF00'>канадские</span> девушки, со всеми трудностями...</p>"
            ]
          },
          "metadata": {}
        },
        {
          "output_type": "display_data",
          "data": {
            "text/plain": [
              "<IPython.core.display.HTML object>"
            ],
            "text/html": [
              "<p>...емя еженедельного обращения к <span style='background-color: #FFFF00'>эквадорцам</span>.\n",
              "По его словам, беседа состоя...</p>"
            ]
          },
          "metadata": {}
        },
        {
          "output_type": "stream",
          "name": "stdout",
          "text": [
            "--------------------------------------------------------------------------------\n",
            "\n",
            "\n",
            "### Тип сущности: LAW\n",
            "\n"
          ]
        },
        {
          "output_type": "display_data",
          "data": {
            "text/plain": [
              "<IPython.core.display.HTML object>"
            ],
            "text/html": [
              "<p>...йской Федерации от 16.04.2014 <span style='background-color: #FFFF00'>№ 83</span>». В противном случае, по мнен...</p>"
            ]
          },
          "metadata": {}
        },
        {
          "output_type": "display_data",
          "data": {
            "text/plain": [
              "<IPython.core.display.HTML object>"
            ],
            "text/html": [
              "<p>...чия во взглядах на проведение <span style='background-color: #FFFF00'>конституционной</span> реформы.\n",
              "\n",
              "...</p>"
            ]
          },
          "metadata": {}
        },
        {
          "output_type": "display_data",
          "data": {
            "text/plain": [
              "<IPython.core.display.HTML object>"
            ],
            "text/html": [
              "<p>...ю необходимую помощь согласно <span style='background-color: #FFFF00'>морскому кодексу</span>.\n",
              "\n",
              "...</p>"
            ]
          },
          "metadata": {}
        },
        {
          "output_type": "stream",
          "name": "stdout",
          "text": [
            "--------------------------------------------------------------------------------\n",
            "\n",
            "\n",
            "### Тип сущности: TIME\n",
            "\n"
          ]
        },
        {
          "output_type": "display_data",
          "data": {
            "text/plain": [
              "<IPython.core.display.HTML object>"
            ],
            "text/html": [
              "<p>...остане «режим самоизоляции».\n",
              "\n",
              "<span style='background-color: #FFFF00'>Ночью 2 апреля 2020 года</span>, в ходе профилактического рей...</p>"
            ]
          },
          "metadata": {}
        },
        {
          "output_type": "display_data",
          "data": {
            "text/plain": [
              "<IPython.core.display.HTML object>"
            ],
            "text/html": [
              "<p>...ифицированными до автоматов.\n",
              "\n",
              "<span style='background-color: #FFFF00'>Ночью 1 октября</span> в Лас-Вегасе 64-летний Стивен...</p>"
            ]
          },
          "metadata": {}
        },
        {
          "output_type": "display_data",
          "data": {
            "text/plain": [
              "<IPython.core.display.HTML object>"
            ],
            "text/html": [
              "<p>...бращение, но вскоре в одну из <span style='background-color: #FFFF00'>ночей</span> талибы ворвались в дом её род...</p>"
            ]
          },
          "metadata": {}
        },
        {
          "output_type": "stream",
          "name": "stdout",
          "text": [
            "--------------------------------------------------------------------------------\n",
            "\n",
            "\n",
            "### Тип сущности: PENALTY\n",
            "\n"
          ]
        },
        {
          "output_type": "display_data",
          "data": {
            "text/plain": [
              "<IPython.core.display.HTML object>"
            ],
            "text/html": [
              "<p>...о наркоза. Клэренс Картер был <span style='background-color: #FFFF00'>приговорён к смерти</span> в 2007, но тогда приговор не ...</p>"
            ]
          },
          "metadata": {}
        },
        {
          "output_type": "display_data",
          "data": {
            "text/plain": [
              "<IPython.core.display.HTML object>"
            ],
            "text/html": [
              "<p>.... В результате наш житель был <span style='background-color: #FFFF00'>оштрафован</span> на 15 тысяч рублей. Мы принял...</p>"
            ]
          },
          "metadata": {}
        },
        {
          "output_type": "display_data",
          "data": {
            "text/plain": [
              "<IPython.core.display.HTML object>"
            ],
            "text/html": [
              "<p>...ода и с тех пор находился под <span style='background-color: #FFFF00'>арестом в федеральной тюрьме</span>. В случае признания виновным ...</p>"
            ]
          },
          "metadata": {}
        },
        {
          "output_type": "stream",
          "name": "stdout",
          "text": [
            "--------------------------------------------------------------------------------\n",
            "\n",
            "\n",
            "### Тип сущности: CRIME\n",
            "\n"
          ]
        },
        {
          "output_type": "display_data",
          "data": {
            "text/plain": [
              "<IPython.core.display.HTML object>"
            ],
            "text/html": [
              "<p>...р наблюдения подозреваемого в <span style='background-color: #FFFF00'>краже медали</span>.\n",
              "\n",
              "В оргкомитете сообщили:\n",
              "Орг...</p>"
            ]
          },
          "metadata": {}
        },
        {
          "output_type": "display_data",
          "data": {
            "text/plain": [
              "<IPython.core.display.HTML object>"
            ],
            "text/html": [
              "<p>...рение гомосексуализма»'' и ''«<span style='background-color: #FFFF00'>формирование у несовершеннолетних искаженного представления о социальной равноценности традиционных и нетрадиционных брачных отношений</span>»''.\n",
              "Кроме того, могут быть вв...</p>"
            ]
          },
          "metadata": {}
        },
        {
          "output_type": "display_data",
          "data": {
            "text/plain": [
              "<IPython.core.display.HTML object>"
            ],
            "text/html": [
              "<p>...х. В 2002 году его обвиняли в <span style='background-color: #FFFF00'>изготовлении детской порнографии</span>.\n",
              "...</p>"
            ]
          },
          "metadata": {}
        },
        {
          "output_type": "stream",
          "name": "stdout",
          "text": [
            "--------------------------------------------------------------------------------\n",
            "\n",
            "\n",
            "### Тип сущности: MONEY\n",
            "\n"
          ]
        },
        {
          "output_type": "display_data",
          "data": {
            "text/plain": [
              "<IPython.core.display.HTML object>"
            ],
            "text/html": [
              "<p>.... Оборудование, которое стоит <span style='background-color: #FFFF00'>несколько сотен миллионов рублей</span>, уже закуплено. Речь идет о т...</p>"
            ]
          },
          "metadata": {}
        },
        {
          "output_type": "display_data",
          "data": {
            "text/plain": [
              "<IPython.core.display.HTML object>"
            ],
            "text/html": [
              "<p>...е США — понесли урон на сумму <span style='background-color: #FFFF00'>несколько сотен тысяч долларов</span>. Кроме того, по данным обвине...</p>"
            ]
          },
          "metadata": {}
        },
        {
          "output_type": "display_data",
          "data": {
            "text/plain": [
              "<IPython.core.display.HTML object>"
            ],
            "text/html": [
              "<p>...иллионов шведских крон (более <span style='background-color: #FFFF00'>миллиона долларов США</span>).\n",
              "\n",
              "Нобелевская премия мира в ...</p>"
            ]
          },
          "metadata": {}
        },
        {
          "output_type": "stream",
          "name": "stdout",
          "text": [
            "--------------------------------------------------------------------------------\n",
            "\n",
            "\n",
            "### Тип сущности: FACILITY\n",
            "\n"
          ]
        },
        {
          "output_type": "display_data",
          "data": {
            "text/plain": [
              "<IPython.core.display.HTML object>"
            ],
            "text/html": [
              "<p>...понцем, который отправится на <span style='background-color: #FFFF00'>Международную космическую станцию</span>. Предположительно, Эномото от...</p>"
            ]
          },
          "metadata": {}
        },
        {
          "output_type": "display_data",
          "data": {
            "text/plain": [
              "<IPython.core.display.HTML object>"
            ],
            "text/html": [
              "<p>...сообщили:\n",
              "\n",
              "''Около 12 часов у <span style='background-color: #FFFF00'>дома 19/38</span> на Онежской улице в САО по не...</p>"
            ]
          },
          "metadata": {}
        },
        {
          "output_type": "display_data",
          "data": {
            "text/plain": [
              "<IPython.core.display.HTML object>"
            ],
            "text/html": [
              "<p>...верг, 19 декабря 2019 года, у <span style='background-color: #FFFF00'>здания ФСБ</span> в Москве произошла стрельба. ...</p>"
            ]
          },
          "metadata": {}
        },
        {
          "output_type": "stream",
          "name": "stdout",
          "text": [
            "--------------------------------------------------------------------------------\n",
            "\n",
            "\n",
            "### Тип сущности: CITY\n",
            "\n"
          ]
        },
        {
          "output_type": "display_data",
          "data": {
            "text/plain": [
              "<IPython.core.display.HTML object>"
            ],
            "text/html": [
              "<p>...рокурор попросил Тверской суд <span style='background-color: #FFFF00'>Москвы</span> заочно приговорить руководите...</p>"
            ]
          },
          "metadata": {}
        },
        {
          "output_type": "display_data",
          "data": {
            "text/plain": [
              "<IPython.core.display.HTML object>"
            ],
            "text/html": [
              "<p>...иятий значились конференции в <span style='background-color: #FFFF00'>Берлине</span> и Москве, историческая реконс...</p>"
            ]
          },
          "metadata": {}
        },
        {
          "output_type": "display_data",
          "data": {
            "text/plain": [
              "<IPython.core.display.HTML object>"
            ],
            "text/html": [
              "<p>...мации Методистского госпиталя <span style='background-color: #FFFF00'>Хьюстона</span>.\n",
              "88-летний Буш был госпитализ...</p>"
            ]
          },
          "metadata": {}
        },
        {
          "output_type": "stream",
          "name": "stdout",
          "text": [
            "--------------------------------------------------------------------------------\n",
            "\n",
            "\n",
            "### Тип сущности: WORK_OF_ART\n",
            "\n"
          ]
        },
        {
          "output_type": "display_data",
          "data": {
            "text/plain": [
              "<IPython.core.display.HTML object>"
            ],
            "text/html": [
              "<p>...Актёр Энтони Рэпп из сериала «<span style='background-color: #FFFF00'>Звёздный путь</span>» обвинил своего коллегу по це...</p>"
            ]
          },
          "metadata": {}
        },
        {
          "output_type": "display_data",
          "data": {
            "text/plain": [
              "<IPython.core.display.HTML object>"
            ],
            "text/html": [
              "<p>...д Россией», «Калина во ржи», «<span style='background-color: #FFFF00'>Растёт в Волгограде берёзка</span>».\n",
              "\n",
              "Людмила Зыкина была удосто...</p>"
            ]
          },
          "metadata": {}
        },
        {
          "output_type": "display_data",
          "data": {
            "text/plain": [
              "<IPython.core.display.HTML object>"
            ],
            "text/html": [
              "<p>...год в качестве антагониста в «<span style='background-color: #FFFF00'>Die Hard</span>» — в котором он сыграл роль Г...</p>"
            ]
          },
          "metadata": {}
        },
        {
          "output_type": "stream",
          "name": "stdout",
          "text": [
            "--------------------------------------------------------------------------------\n",
            "\n",
            "\n",
            "### Тип сущности: PRODUCT\n",
            "\n"
          ]
        },
        {
          "output_type": "display_data",
          "data": {
            "text/plain": [
              "<IPython.core.display.HTML object>"
            ],
            "text/html": [
              "<p>...ых ресурсов был внесен Amazon <span style='background-color: #FFFF00'>S3</span>, которым пользуются крупнейши...</p>"
            ]
          },
          "metadata": {}
        },
        {
          "output_type": "display_data",
          "data": {
            "text/plain": [
              "<IPython.core.display.HTML object>"
            ],
            "text/html": [
              "<p>...омоторных самолётах.\n",
              "Самолёт «<span style='background-color: #FFFF00'>Як-18Т</span>»\n",
              "Сообщение об этой авиационно...</p>"
            ]
          },
          "metadata": {}
        },
        {
          "output_type": "display_data",
          "data": {
            "text/plain": [
              "<IPython.core.display.HTML object>"
            ],
            "text/html": [
              "<p>...) — американский программист, <span style='background-color: #FFFF00'>интернет</span>-активист, писатель и борец за...</p>"
            ]
          },
          "metadata": {}
        },
        {
          "output_type": "stream",
          "name": "stdout",
          "text": [
            "--------------------------------------------------------------------------------\n",
            "\n",
            "\n",
            "### Тип сущности: ORDINAL\n",
            "\n"
          ]
        },
        {
          "output_type": "display_data",
          "data": {
            "text/plain": [
              "<IPython.core.display.HTML object>"
            ],
            "text/html": [
              "<p>...ришел к выводу, что у каждого <span style='background-color: #FFFF00'>пятого</span> школьника наблюдаются признак...</p>"
            ]
          },
          "metadata": {}
        },
        {
          "output_type": "display_data",
          "data": {
            "text/plain": [
              "<IPython.core.display.HTML object>"
            ],
            "text/html": [
              "<p>...ют «фуэрдай» (富二代, «богачи во <span style='background-color: #FFFF00'>втором</span> поколении»), им запретили уча...</p>"
            ]
          },
          "metadata": {}
        },
        {
          "output_type": "display_data",
          "data": {
            "text/plain": [
              "<IPython.core.display.HTML object>"
            ],
            "text/html": [
              "<p>...ан Зухрой Муртазиной.\n",
              "\n",
              "Это не <span style='background-color: #FFFF00'>первый</span> национальный рекорд Дмитрия Е...</p>"
            ]
          },
          "metadata": {}
        },
        {
          "output_type": "stream",
          "name": "stdout",
          "text": [
            "--------------------------------------------------------------------------------\n",
            "\n",
            "\n",
            "### Тип сущности: AWARD\n",
            "\n"
          ]
        },
        {
          "output_type": "display_data",
          "data": {
            "text/plain": [
              "<IPython.core.display.HTML object>"
            ],
            "text/html": [
              "<p>...ная, завоевавшая в Лондоне 12 <span style='background-color: #FFFF00'>медалей</span> (2 золотых, 5 серебряных и 5 ...</p>"
            ]
          },
          "metadata": {}
        },
        {
          "output_type": "display_data",
          "data": {
            "text/plain": [
              "<IPython.core.display.HTML object>"
            ],
            "text/html": [
              "<p>...тую медаль на Олимпиаде-2016\n",
              "\n",
              "<span style='background-color: #FFFF00'>Серебрянaя медаль</span> по спортивной гимнастике в во...</p>"
            ]
          },
          "metadata": {}
        },
        {
          "output_type": "display_data",
          "data": {
            "text/plain": [
              "<IPython.core.display.HTML object>"
            ],
            "text/html": [
              "<p>...Сапиенца (2006).\n",
              "\n",
              "В заявлении <span style='background-color: #FFFF00'>Нобелевского</span> комитета было сказано, что пр...</p>"
            ]
          },
          "metadata": {}
        },
        {
          "output_type": "stream",
          "name": "stdout",
          "text": [
            "--------------------------------------------------------------------------------\n",
            "\n",
            "\n",
            "### Тип сущности: LOCATION\n",
            "\n"
          ]
        },
        {
          "output_type": "display_data",
          "data": {
            "text/plain": [
              "<IPython.core.display.HTML object>"
            ],
            "text/html": [
              "<p>...ацию морального вреда.\n",
              "\n",
              "Судья <span style='background-color: #FFFF00'>Европейского</span> суда по правам человека от Ро...</p>"
            ]
          },
          "metadata": {}
        },
        {
          "output_type": "display_data",
          "data": {
            "text/plain": [
              "<IPython.core.display.HTML object>"
            ],
            "text/html": [
              "<p>...редиземном море неподалёку от <span style='background-color: #FFFF00'>побережья Туниса</span> потерпело крушение судно на б...</p>"
            ]
          },
          "metadata": {}
        },
        {
          "output_type": "display_data",
          "data": {
            "text/plain": [
              "<IPython.core.display.HTML object>"
            ],
            "text/html": [
              "<p>...ада лучшему футболисту года в <span style='background-color: #FFFF00'>Европе</span>. Вручается футболисту, которы...</p>"
            ]
          },
          "metadata": {}
        },
        {
          "output_type": "stream",
          "name": "stdout",
          "text": [
            "--------------------------------------------------------------------------------\n",
            "\n",
            "\n",
            "### Тип сущности: DISEASE\n",
            "\n"
          ]
        },
        {
          "output_type": "display_data",
          "data": {
            "text/plain": [
              "<IPython.core.display.HTML object>"
            ],
            "text/html": [
              "<p>...шла на жесткий карантин из-за <span style='background-color: #FFFF00'>коронавируса</span>: закрыто всё, кроме продуктов...</p>"
            ]
          },
          "metadata": {}
        },
        {
          "output_type": "display_data",
          "data": {
            "text/plain": [
              "<IPython.core.display.HTML object>"
            ],
            "text/html": [
              "<p>... Италии из-за риска заражения <span style='background-color: #FFFF00'>коронавирусом</span>․ Судьи уже освободили как мин...</p>"
            ]
          },
          "metadata": {}
        },
        {
          "output_type": "display_data",
          "data": {
            "text/plain": [
              "<IPython.core.display.HTML object>"
            ],
            "text/html": [
              "<p>...что могут потерять меня из-за <span style='background-color: #FFFF00'>рака</span>. Они могут увидеть мои неболь...</p>"
            ]
          },
          "metadata": {}
        },
        {
          "output_type": "stream",
          "name": "stdout",
          "text": [
            "--------------------------------------------------------------------------------\n",
            "\n",
            "\n",
            "### Тип сущности: LANGUAGE\n",
            "\n"
          ]
        },
        {
          "output_type": "display_data",
          "data": {
            "text/plain": [
              "<IPython.core.display.HTML object>"
            ],
            "text/html": [
              "<p>...олжной мере ни английского ни <span style='background-color: #FFFF00'>испанского</span> языка.\n",
              "\n",
              "Марина Миронова (мать...</p>"
            ]
          },
          "metadata": {}
        },
        {
          "output_type": "display_data",
          "data": {
            "text/plain": [
              "<IPython.core.display.HTML object>"
            ],
            "text/html": [
              "<p>...ойный, добрый, хорошо говорит <span style='background-color: #FFFF00'>по-русски</span>. Мы вместе что-то придумываем...</p>"
            ]
          },
          "metadata": {}
        },
        {
          "output_type": "display_data",
          "data": {
            "text/plain": [
              "<IPython.core.display.HTML object>"
            ],
            "text/html": [
              "<p>...рском, английском, немецком и <span style='background-color: #FFFF00'>французском</span> языках. Также студенты читали...</p>"
            ]
          },
          "metadata": {}
        },
        {
          "output_type": "stream",
          "name": "stdout",
          "text": [
            "--------------------------------------------------------------------------------\n",
            "\n",
            "\n",
            "### Тип сущности: PERCENT\n",
            "\n"
          ]
        },
        {
          "output_type": "display_data",
          "data": {
            "text/plain": [
              "<IPython.core.display.HTML object>"
            ],
            "text/html": [
              "<p>..., а за Кокрела - 44,7 тысячи (<span style='background-color: #FFFF00'>47,7 процента</span>). Победителю предстоит отрабо...</p>"
            ]
          },
          "metadata": {}
        },
        {
          "output_type": "display_data",
          "data": {
            "text/plain": [
              "<IPython.core.display.HTML object>"
            ],
            "text/html": [
              "<p>...ла в Смоленской области всего <span style='background-color: #FFFF00'>36%</span>, его кандидат проиграл и выбо...</p>"
            ]
          },
          "metadata": {}
        },
        {
          "output_type": "display_data",
          "data": {
            "text/plain": [
              "<IPython.core.display.HTML object>"
            ],
            "text/html": [
              "<p>...РСП. Как сообщает NEWSru.com, <span style='background-color: #FFFF00'>1 %</span> этому ведомству уже отчисляют...</p>"
            ]
          },
          "metadata": {}
        },
        {
          "output_type": "stream",
          "name": "stdout",
          "text": [
            "--------------------------------------------------------------------------------\n",
            "\n",
            "\n",
            "### Тип сущности: RELIGION\n",
            "\n"
          ]
        },
        {
          "output_type": "display_data",
          "data": {
            "text/plain": [
              "<IPython.core.display.HTML object>"
            ],
            "text/html": [
              "<p>...игиозного культа, связанные с <span style='background-color: #FFFF00'>христианством</span>.\n",
              "\n",
              "Юрий Пиотровский полностью ...</p>"
            ]
          },
          "metadata": {}
        },
        {
          "output_type": "display_data",
          "data": {
            "text/plain": [
              "<IPython.core.display.HTML object>"
            ],
            "text/html": [
              "<p>...енис Муквеге и правозащитница <span style='background-color: #FFFF00'>езидки</span> из Ирака Надя Мурад.\n",
              "\n",
              "Согласн...</p>"
            ]
          },
          "metadata": {}
        },
        {
          "output_type": "display_data",
          "data": {
            "text/plain": [
              "<IPython.core.display.HTML object>"
            ],
            "text/html": [
              "<p>...влений христианства, ислама и <span style='background-color: #FFFF00'>иудаизма</span>.\n",
              "\n",
              "По предварительным данным з...</p>"
            ]
          },
          "metadata": {}
        },
        {
          "output_type": "stream",
          "name": "stdout",
          "text": [
            "--------------------------------------------------------------------------------\n",
            "\n",
            "\n",
            "### Тип сущности: FAMILY\n",
            "\n"
          ]
        },
        {
          "output_type": "display_data",
          "data": {
            "text/plain": [
              "<IPython.core.display.HTML object>"
            ],
            "text/html": [
              "<p>...й линии; принадлежал к ветви «<span style='background-color: #FFFF00'>Николаевичей</span>» рода Романовых.\n",
              "\n",
              "Большинство...</p>"
            ]
          },
          "metadata": {}
        },
        {
          "output_type": "display_data",
          "data": {
            "text/plain": [
              "<IPython.core.display.HTML object>"
            ],
            "text/html": [
              "<p>...равил Гордон\n",
              "Место отравления <span style='background-color: #FFFF00'>Скрипалей</span>\n",
              "В отравлении Сергея и Юлии Ск...</p>"
            ]
          },
          "metadata": {}
        },
        {
          "output_type": "display_data",
          "data": {
            "text/plain": [
              "<IPython.core.display.HTML object>"
            ],
            "text/html": [
              "<p>...вления Скрипалей\n",
              "В отравлении <span style='background-color: #FFFF00'>Сергея и Юлии Скрипаль</span> подозревается 54-летний шпион...</p>"
            ]
          },
          "metadata": {}
        },
        {
          "output_type": "stream",
          "name": "stdout",
          "text": [
            "--------------------------------------------------------------------------------\n",
            "\n",
            "\n"
          ]
        }
      ],
      "source": [
        "\n",
        "examples_per_type = 3\n",
        "\n",
        "context_chars = 30\n",
        "\n",
        "display_entity_examples(train_without_overlaps, unique_entity_types, examples_per_type, context_chars)\n"
      ]
    },
    {
      "cell_type": "markdown",
      "metadata": {
        "id": "feZ7d6lbiGdP"
      },
      "source": [
        "Видно что данные размечены качественно и скорее всего вручную (первый датасет, который взял, пришлось отбросить из-за большого количества ошибок в их разметке - их выучивать смысла нет). Ну и, кроме того, категорий много и они достаточно сложные."
      ]
    },
    {
      "cell_type": "code",
      "execution_count": null,
      "metadata": {
        "colab": {
          "base_uri": "https://localhost:8080/"
        },
        "id": "kKad1PLtcI-Y",
        "outputId": "fc937a12-cf97-454f-aecf-636db05d68f5"
      },
      "outputs": [
        {
          "output_type": "stream",
          "name": "stdout",
          "text": [
            "<class 'pandas.core.frame.DataFrame'>\n",
            "Index: 46054 entries, 0 to 56254\n",
            "Data columns (total 7 columns):\n",
            " #   Column       Non-Null Count  Dtype  \n",
            "---  ------       --------------  -----  \n",
            " 0   text         46054 non-null  object \n",
            " 1   entity_type  46054 non-null  object \n",
            " 2   start_pos    46054 non-null  int64  \n",
            " 3   end_pos      46054 non-null  int64  \n",
            " 4   entity_text  46054 non-null  object \n",
            " 5   length       46054 non-null  float64\n",
            " 6   word_count   46054 non-null  float64\n",
            "dtypes: float64(2), int64(2), object(3)\n",
            "memory usage: 2.8+ MB\n"
          ]
        }
      ],
      "source": [
        "train_without_overlaps.info()"
      ]
    },
    {
      "cell_type": "markdown",
      "metadata": {
        "id": "0tmvsKPncfSr"
      },
      "source": [
        "# Rule Based Approach"
      ]
    },
    {
      "cell_type": "code",
      "execution_count": null,
      "metadata": {
        "colab": {
          "base_uri": "https://localhost:8080/"
        },
        "collapsed": true,
        "id": "CgujMFzSecJZ",
        "outputId": "a2da3f78-e2c8-4a3e-a402-828b3fa13293"
      },
      "outputs": [
        {
          "output_type": "stream",
          "name": "stdout",
          "text": [
            "Collecting natasha\n",
            "  Downloading natasha-1.6.0-py3-none-any.whl.metadata (23 kB)\n",
            "Requirement already satisfied: tqdm in /usr/local/lib/python3.10/dist-packages (4.66.6)\n",
            "Collecting pymorphy2 (from natasha)\n",
            "  Downloading pymorphy2-0.9.1-py3-none-any.whl.metadata (3.6 kB)\n",
            "Collecting razdel>=0.5.0 (from natasha)\n",
            "  Downloading razdel-0.5.0-py3-none-any.whl.metadata (10.0 kB)\n",
            "Collecting navec>=0.9.0 (from natasha)\n",
            "  Downloading navec-0.10.0-py3-none-any.whl.metadata (21 kB)\n",
            "Collecting slovnet>=0.6.0 (from natasha)\n",
            "  Downloading slovnet-0.6.0-py3-none-any.whl.metadata (34 kB)\n",
            "Collecting yargy>=0.16.0 (from natasha)\n",
            "  Downloading yargy-0.16.0-py3-none-any.whl.metadata (3.5 kB)\n",
            "Collecting ipymarkup>=0.8.0 (from natasha)\n",
            "  Downloading ipymarkup-0.9.0-py3-none-any.whl.metadata (5.6 kB)\n",
            "Collecting intervaltree>=3 (from ipymarkup>=0.8.0->natasha)\n",
            "  Downloading intervaltree-3.1.0.tar.gz (32 kB)\n",
            "  Preparing metadata (setup.py) ... \u001b[?25l\u001b[?25hdone\n",
            "Requirement already satisfied: numpy in /usr/local/lib/python3.10/dist-packages (from navec>=0.9.0->natasha) (1.26.4)\n",
            "Collecting dawg-python>=0.7.1 (from pymorphy2->natasha)\n",
            "  Downloading DAWG_Python-0.7.2-py2.py3-none-any.whl.metadata (7.0 kB)\n",
            "Collecting pymorphy2-dicts-ru<3.0,>=2.4 (from pymorphy2->natasha)\n",
            "  Downloading pymorphy2_dicts_ru-2.4.417127.4579844-py2.py3-none-any.whl.metadata (2.1 kB)\n",
            "Collecting docopt>=0.6 (from pymorphy2->natasha)\n",
            "  Downloading docopt-0.6.2.tar.gz (25 kB)\n",
            "  Preparing metadata (setup.py) ... \u001b[?25l\u001b[?25hdone\n",
            "Collecting sortedcontainers<3.0,>=2.0 (from intervaltree>=3->ipymarkup>=0.8.0->natasha)\n",
            "  Downloading sortedcontainers-2.4.0-py2.py3-none-any.whl.metadata (10 kB)\n",
            "Downloading natasha-1.6.0-py3-none-any.whl (34.4 MB)\n",
            "\u001b[2K   \u001b[90m━━━━━━━━━━━━━━━━━━━━━━━━━━━━━━━━━━━━━━━━\u001b[0m \u001b[32m34.4/34.4 MB\u001b[0m \u001b[31m33.9 MB/s\u001b[0m eta \u001b[36m0:00:00\u001b[0m\n",
            "\u001b[?25hDownloading ipymarkup-0.9.0-py3-none-any.whl (14 kB)\n",
            "Downloading navec-0.10.0-py3-none-any.whl (23 kB)\n",
            "Downloading razdel-0.5.0-py3-none-any.whl (21 kB)\n",
            "Downloading slovnet-0.6.0-py3-none-any.whl (46 kB)\n",
            "\u001b[2K   \u001b[90m━━━━━━━━━━━━━━━━━━━━━━━━━━━━━━━━━━━━━━━━\u001b[0m \u001b[32m46.7/46.7 kB\u001b[0m \u001b[31m4.3 MB/s\u001b[0m eta \u001b[36m0:00:00\u001b[0m\n",
            "\u001b[?25hDownloading yargy-0.16.0-py3-none-any.whl (33 kB)\n",
            "Downloading pymorphy2-0.9.1-py3-none-any.whl (55 kB)\n",
            "\u001b[2K   \u001b[90m━━━━━━━━━━━━━━━━━━━━━━━━━━━━━━━━━━━━━━━━\u001b[0m \u001b[32m55.5/55.5 kB\u001b[0m \u001b[31m3.6 MB/s\u001b[0m eta \u001b[36m0:00:00\u001b[0m\n",
            "\u001b[?25hDownloading DAWG_Python-0.7.2-py2.py3-none-any.whl (11 kB)\n",
            "Downloading pymorphy2_dicts_ru-2.4.417127.4579844-py2.py3-none-any.whl (8.2 MB)\n",
            "\u001b[2K   \u001b[90m━━━━━━━━━━━━━━━━━━━━━━━━━━━━━━━━━━━━━━━━\u001b[0m \u001b[32m8.2/8.2 MB\u001b[0m \u001b[31m74.6 MB/s\u001b[0m eta \u001b[36m0:00:00\u001b[0m\n",
            "\u001b[?25hDownloading sortedcontainers-2.4.0-py2.py3-none-any.whl (29 kB)\n",
            "Building wheels for collected packages: docopt, intervaltree\n",
            "  Building wheel for docopt (setup.py) ... \u001b[?25l\u001b[?25hdone\n",
            "  Created wheel for docopt: filename=docopt-0.6.2-py2.py3-none-any.whl size=13706 sha256=8b89e96a4f41e8df2efd65a5054b4caf2551bb199b66ce6c33ecaff25d69b4b0\n",
            "  Stored in directory: /root/.cache/pip/wheels/fc/ab/d4/5da2067ac95b36618c629a5f93f809425700506f72c9732fac\n",
            "  Building wheel for intervaltree (setup.py) ... \u001b[?25l\u001b[?25hdone\n",
            "  Created wheel for intervaltree: filename=intervaltree-3.1.0-py2.py3-none-any.whl size=26097 sha256=5b440208b0f6dd64a1a37a72e969a9661c516d208874b00c6156e957031fccbb\n",
            "  Stored in directory: /root/.cache/pip/wheels/fa/80/8c/43488a924a046b733b64de3fac99252674c892a4c3801c0a61\n",
            "Successfully built docopt intervaltree\n",
            "Installing collected packages: sortedcontainers, razdel, pymorphy2-dicts-ru, docopt, dawg-python, pymorphy2, navec, intervaltree, yargy, slovnet, ipymarkup, natasha\n",
            "Successfully installed dawg-python-0.7.2 docopt-0.6.2 intervaltree-3.1.0 ipymarkup-0.9.0 natasha-1.6.0 navec-0.10.0 pymorphy2-0.9.1 pymorphy2-dicts-ru-2.4.417127.4579844 razdel-0.5.0 slovnet-0.6.0 sortedcontainers-2.4.0 yargy-0.16.0\n"
          ]
        }
      ],
      "source": [
        "!pip install natasha tqdm"
      ]
    },
    {
      "cell_type": "code",
      "execution_count": null,
      "metadata": {
        "id": "pupbEpUQoXlo"
      },
      "outputs": [],
      "source": [
        "from natasha import (\n",
        "    Segmenter,\n",
        "    NewsEmbedding,\n",
        "    NewsNERTagger,\n",
        "    Doc\n",
        ")\n",
        "from tqdm import tqdm\n",
        "\n",
        "segmenter = Segmenter()\n",
        "embedding = NewsEmbedding()\n",
        "ner_tagger = NewsNERTagger(embedding)\n"
      ]
    },
    {
      "cell_type": "code",
      "execution_count": null,
      "metadata": {
        "colab": {
          "base_uri": "https://localhost:8080/"
        },
        "id": "Lqgc8TxBrAQo",
        "outputId": "7e33a7ac-caa5-42b0-be4b-40af639886ee"
      },
      "outputs": [
        {
          "output_type": "stream",
          "name": "stderr",
          "text": [
            "Processing unique texts: 100%|██████████| 933/933 [01:00<00:00, 15.45it/s]\n"
          ]
        }
      ],
      "source": [
        "\n",
        "unique_texts = train_without_overlaps['text'].unique()\n",
        "\n",
        "results = {}\n",
        "for txt in tqdm(unique_texts, desc=\"Processing unique texts\"):\n",
        "    doc = Doc(txt)\n",
        "    doc.segment(segmenter)\n",
        "    doc.tag_ner(ner_tagger)\n",
        "\n",
        "    entities = []\n",
        "    entity_types = []\n",
        "    start_positions = []\n",
        "    end_positions = []\n",
        "    entity_texts = []\n",
        "\n",
        "    for span in doc.spans:\n",
        "        span.normalize(embedding.vocab)\n",
        "        entities.append(span.type)\n",
        "        entity_types.append(span.type)\n",
        "        start_positions.append(span.start)\n",
        "        end_positions.append(span.stop)\n",
        "        entity_texts.append(span.text)\n",
        "\n",
        "    results[txt] = {\n",
        "        'natasha_entity_types': entities,\n",
        "        'natasha_entities': entity_texts,\n",
        "        'start_pos': start_positions,\n",
        "        'end_pos': end_positions\n",
        "    }\n",
        "\n",
        "res_df = pd.DataFrame.from_dict(results, orient='index').reset_index()\n",
        "res_df.rename(columns={'index': 'text'}, inplace=True)"
      ]
    },
    {
      "cell_type": "code",
      "execution_count": null,
      "metadata": {
        "id": "Wqe2RX3tu8KI"
      },
      "outputs": [],
      "source": [
        "res_exploded = res_df.explode(['natasha_entity_types', 'natasha_entities', 'start_pos', 'end_pos'])\n",
        "\n",
        "res_exploded['length'] = res_exploded['text'].apply(len)\n",
        "\n",
        "res_exploded.rename(columns={\n",
        "    'natasha_entity_types': 'entity_type',\n",
        "    'natasha_entities': 'entity_text'\n",
        "}, inplace=True)\n",
        "\n",
        "res_exploded = res_exploded[['text', 'entity_type', 'start_pos', 'end_pos', 'entity_text', 'length']].reset_index(drop=True)\n"
      ]
    },
    {
      "cell_type": "code",
      "execution_count": null,
      "metadata": {
        "colab": {
          "base_uri": "https://localhost:8080/",
          "height": 423
        },
        "id": "nYk-nMHoAQVM",
        "outputId": "fcb769c6-58e4-46b3-de90-f14960afe854"
      },
      "outputs": [
        {
          "output_type": "execute_result",
          "data": {
            "text/plain": [
              "                                                    text entity_type  \\\n",
              "0      \\n\\nПалестинские СМИ прокомментировали отставк...         ORG   \n",
              "1      \\n\\nПалестинские СМИ прокомментировали отставк...         LOC   \n",
              "2      \\n\\nПалестинские СМИ прокомментировали отставк...         PER   \n",
              "3      \\n\\nПалестинские СМИ прокомментировали отставк...         ORG   \n",
              "4      \\n\\nПалестинские СМИ прокомментировали отставк...         ORG   \n",
              "...                                                  ...         ...   \n",
              "20554  Ярослав Песков: очередной заплыв не за горами\\...         LOC   \n",
              "20555  Ярослав Песков: очередной заплыв не за горами\\...         PER   \n",
              "20556  Ярослав Песков: очередной заплыв не за горами\\...         PER   \n",
              "20557  Ярослав Песков: очередной заплыв не за горами\\...         LOC   \n",
              "20558  Ярослав Песков: очередной заплыв не за горами\\...         LOC   \n",
              "\n",
              "      start_pos end_pos     entity_text  length  \n",
              "0            15      18             СМИ    1252  \n",
              "1            63      70         Израиля    1252  \n",
              "2            71      83    Эхуда Барака    1252  \n",
              "3           190     195           Хамас    1252  \n",
              "4           204     214      Минобороны    1252  \n",
              "...         ...     ...             ...     ...  \n",
              "20554       785     791          Енисея     872  \n",
              "20555       792     806  Ярослав Песков     872  \n",
              "20556       848     852            Неву     872  \n",
              "20557       854     860          Днестр     872  \n",
              "20558       863     870         Ла-Манш     872  \n",
              "\n",
              "[20559 rows x 6 columns]"
            ],
            "text/html": [
              "\n",
              "  <div id=\"df-df79be34-d502-4346-a4b1-6a2bb37f5007\" class=\"colab-df-container\">\n",
              "    <div>\n",
              "<style scoped>\n",
              "    .dataframe tbody tr th:only-of-type {\n",
              "        vertical-align: middle;\n",
              "    }\n",
              "\n",
              "    .dataframe tbody tr th {\n",
              "        vertical-align: top;\n",
              "    }\n",
              "\n",
              "    .dataframe thead th {\n",
              "        text-align: right;\n",
              "    }\n",
              "</style>\n",
              "<table border=\"1\" class=\"dataframe\">\n",
              "  <thead>\n",
              "    <tr style=\"text-align: right;\">\n",
              "      <th></th>\n",
              "      <th>text</th>\n",
              "      <th>entity_type</th>\n",
              "      <th>start_pos</th>\n",
              "      <th>end_pos</th>\n",
              "      <th>entity_text</th>\n",
              "      <th>length</th>\n",
              "    </tr>\n",
              "  </thead>\n",
              "  <tbody>\n",
              "    <tr>\n",
              "      <th>0</th>\n",
              "      <td>\\n\\nПалестинские СМИ прокомментировали отставк...</td>\n",
              "      <td>ORG</td>\n",
              "      <td>15</td>\n",
              "      <td>18</td>\n",
              "      <td>СМИ</td>\n",
              "      <td>1252</td>\n",
              "    </tr>\n",
              "    <tr>\n",
              "      <th>1</th>\n",
              "      <td>\\n\\nПалестинские СМИ прокомментировали отставк...</td>\n",
              "      <td>LOC</td>\n",
              "      <td>63</td>\n",
              "      <td>70</td>\n",
              "      <td>Израиля</td>\n",
              "      <td>1252</td>\n",
              "    </tr>\n",
              "    <tr>\n",
              "      <th>2</th>\n",
              "      <td>\\n\\nПалестинские СМИ прокомментировали отставк...</td>\n",
              "      <td>PER</td>\n",
              "      <td>71</td>\n",
              "      <td>83</td>\n",
              "      <td>Эхуда Барака</td>\n",
              "      <td>1252</td>\n",
              "    </tr>\n",
              "    <tr>\n",
              "      <th>3</th>\n",
              "      <td>\\n\\nПалестинские СМИ прокомментировали отставк...</td>\n",
              "      <td>ORG</td>\n",
              "      <td>190</td>\n",
              "      <td>195</td>\n",
              "      <td>Хамас</td>\n",
              "      <td>1252</td>\n",
              "    </tr>\n",
              "    <tr>\n",
              "      <th>4</th>\n",
              "      <td>\\n\\nПалестинские СМИ прокомментировали отставк...</td>\n",
              "      <td>ORG</td>\n",
              "      <td>204</td>\n",
              "      <td>214</td>\n",
              "      <td>Минобороны</td>\n",
              "      <td>1252</td>\n",
              "    </tr>\n",
              "    <tr>\n",
              "      <th>...</th>\n",
              "      <td>...</td>\n",
              "      <td>...</td>\n",
              "      <td>...</td>\n",
              "      <td>...</td>\n",
              "      <td>...</td>\n",
              "      <td>...</td>\n",
              "    </tr>\n",
              "    <tr>\n",
              "      <th>20554</th>\n",
              "      <td>Ярослав Песков: очередной заплыв не за горами\\...</td>\n",
              "      <td>LOC</td>\n",
              "      <td>785</td>\n",
              "      <td>791</td>\n",
              "      <td>Енисея</td>\n",
              "      <td>872</td>\n",
              "    </tr>\n",
              "    <tr>\n",
              "      <th>20555</th>\n",
              "      <td>Ярослав Песков: очередной заплыв не за горами\\...</td>\n",
              "      <td>PER</td>\n",
              "      <td>792</td>\n",
              "      <td>806</td>\n",
              "      <td>Ярослав Песков</td>\n",
              "      <td>872</td>\n",
              "    </tr>\n",
              "    <tr>\n",
              "      <th>20556</th>\n",
              "      <td>Ярослав Песков: очередной заплыв не за горами\\...</td>\n",
              "      <td>PER</td>\n",
              "      <td>848</td>\n",
              "      <td>852</td>\n",
              "      <td>Неву</td>\n",
              "      <td>872</td>\n",
              "    </tr>\n",
              "    <tr>\n",
              "      <th>20557</th>\n",
              "      <td>Ярослав Песков: очередной заплыв не за горами\\...</td>\n",
              "      <td>LOC</td>\n",
              "      <td>854</td>\n",
              "      <td>860</td>\n",
              "      <td>Днестр</td>\n",
              "      <td>872</td>\n",
              "    </tr>\n",
              "    <tr>\n",
              "      <th>20558</th>\n",
              "      <td>Ярослав Песков: очередной заплыв не за горами\\...</td>\n",
              "      <td>LOC</td>\n",
              "      <td>863</td>\n",
              "      <td>870</td>\n",
              "      <td>Ла-Манш</td>\n",
              "      <td>872</td>\n",
              "    </tr>\n",
              "  </tbody>\n",
              "</table>\n",
              "<p>20559 rows × 6 columns</p>\n",
              "</div>\n",
              "    <div class=\"colab-df-buttons\">\n",
              "\n",
              "  <div class=\"colab-df-container\">\n",
              "    <button class=\"colab-df-convert\" onclick=\"convertToInteractive('df-df79be34-d502-4346-a4b1-6a2bb37f5007')\"\n",
              "            title=\"Convert this dataframe to an interactive table.\"\n",
              "            style=\"display:none;\">\n",
              "\n",
              "  <svg xmlns=\"http://www.w3.org/2000/svg\" height=\"24px\" viewBox=\"0 -960 960 960\">\n",
              "    <path d=\"M120-120v-720h720v720H120Zm60-500h600v-160H180v160Zm220 220h160v-160H400v160Zm0 220h160v-160H400v160ZM180-400h160v-160H180v160Zm440 0h160v-160H620v160ZM180-180h160v-160H180v160Zm440 0h160v-160H620v160Z\"/>\n",
              "  </svg>\n",
              "    </button>\n",
              "\n",
              "  <style>\n",
              "    .colab-df-container {\n",
              "      display:flex;\n",
              "      gap: 12px;\n",
              "    }\n",
              "\n",
              "    .colab-df-convert {\n",
              "      background-color: #E8F0FE;\n",
              "      border: none;\n",
              "      border-radius: 50%;\n",
              "      cursor: pointer;\n",
              "      display: none;\n",
              "      fill: #1967D2;\n",
              "      height: 32px;\n",
              "      padding: 0 0 0 0;\n",
              "      width: 32px;\n",
              "    }\n",
              "\n",
              "    .colab-df-convert:hover {\n",
              "      background-color: #E2EBFA;\n",
              "      box-shadow: 0px 1px 2px rgba(60, 64, 67, 0.3), 0px 1px 3px 1px rgba(60, 64, 67, 0.15);\n",
              "      fill: #174EA6;\n",
              "    }\n",
              "\n",
              "    .colab-df-buttons div {\n",
              "      margin-bottom: 4px;\n",
              "    }\n",
              "\n",
              "    [theme=dark] .colab-df-convert {\n",
              "      background-color: #3B4455;\n",
              "      fill: #D2E3FC;\n",
              "    }\n",
              "\n",
              "    [theme=dark] .colab-df-convert:hover {\n",
              "      background-color: #434B5C;\n",
              "      box-shadow: 0px 1px 3px 1px rgba(0, 0, 0, 0.15);\n",
              "      filter: drop-shadow(0px 1px 2px rgba(0, 0, 0, 0.3));\n",
              "      fill: #FFFFFF;\n",
              "    }\n",
              "  </style>\n",
              "\n",
              "    <script>\n",
              "      const buttonEl =\n",
              "        document.querySelector('#df-df79be34-d502-4346-a4b1-6a2bb37f5007 button.colab-df-convert');\n",
              "      buttonEl.style.display =\n",
              "        google.colab.kernel.accessAllowed ? 'block' : 'none';\n",
              "\n",
              "      async function convertToInteractive(key) {\n",
              "        const element = document.querySelector('#df-df79be34-d502-4346-a4b1-6a2bb37f5007');\n",
              "        const dataTable =\n",
              "          await google.colab.kernel.invokeFunction('convertToInteractive',\n",
              "                                                    [key], {});\n",
              "        if (!dataTable) return;\n",
              "\n",
              "        const docLinkHtml = 'Like what you see? Visit the ' +\n",
              "          '<a target=\"_blank\" href=https://colab.research.google.com/notebooks/data_table.ipynb>data table notebook</a>'\n",
              "          + ' to learn more about interactive tables.';\n",
              "        element.innerHTML = '';\n",
              "        dataTable['output_type'] = 'display_data';\n",
              "        await google.colab.output.renderOutput(dataTable, element);\n",
              "        const docLink = document.createElement('div');\n",
              "        docLink.innerHTML = docLinkHtml;\n",
              "        element.appendChild(docLink);\n",
              "      }\n",
              "    </script>\n",
              "  </div>\n",
              "\n",
              "\n",
              "<div id=\"df-6379da9a-060d-478b-915e-2125f6f62e6d\">\n",
              "  <button class=\"colab-df-quickchart\" onclick=\"quickchart('df-6379da9a-060d-478b-915e-2125f6f62e6d')\"\n",
              "            title=\"Suggest charts\"\n",
              "            style=\"display:none;\">\n",
              "\n",
              "<svg xmlns=\"http://www.w3.org/2000/svg\" height=\"24px\"viewBox=\"0 0 24 24\"\n",
              "     width=\"24px\">\n",
              "    <g>\n",
              "        <path d=\"M19 3H5c-1.1 0-2 .9-2 2v14c0 1.1.9 2 2 2h14c1.1 0 2-.9 2-2V5c0-1.1-.9-2-2-2zM9 17H7v-7h2v7zm4 0h-2V7h2v10zm4 0h-2v-4h2v4z\"/>\n",
              "    </g>\n",
              "</svg>\n",
              "  </button>\n",
              "\n",
              "<style>\n",
              "  .colab-df-quickchart {\n",
              "      --bg-color: #E8F0FE;\n",
              "      --fill-color: #1967D2;\n",
              "      --hover-bg-color: #E2EBFA;\n",
              "      --hover-fill-color: #174EA6;\n",
              "      --disabled-fill-color: #AAA;\n",
              "      --disabled-bg-color: #DDD;\n",
              "  }\n",
              "\n",
              "  [theme=dark] .colab-df-quickchart {\n",
              "      --bg-color: #3B4455;\n",
              "      --fill-color: #D2E3FC;\n",
              "      --hover-bg-color: #434B5C;\n",
              "      --hover-fill-color: #FFFFFF;\n",
              "      --disabled-bg-color: #3B4455;\n",
              "      --disabled-fill-color: #666;\n",
              "  }\n",
              "\n",
              "  .colab-df-quickchart {\n",
              "    background-color: var(--bg-color);\n",
              "    border: none;\n",
              "    border-radius: 50%;\n",
              "    cursor: pointer;\n",
              "    display: none;\n",
              "    fill: var(--fill-color);\n",
              "    height: 32px;\n",
              "    padding: 0;\n",
              "    width: 32px;\n",
              "  }\n",
              "\n",
              "  .colab-df-quickchart:hover {\n",
              "    background-color: var(--hover-bg-color);\n",
              "    box-shadow: 0 1px 2px rgba(60, 64, 67, 0.3), 0 1px 3px 1px rgba(60, 64, 67, 0.15);\n",
              "    fill: var(--button-hover-fill-color);\n",
              "  }\n",
              "\n",
              "  .colab-df-quickchart-complete:disabled,\n",
              "  .colab-df-quickchart-complete:disabled:hover {\n",
              "    background-color: var(--disabled-bg-color);\n",
              "    fill: var(--disabled-fill-color);\n",
              "    box-shadow: none;\n",
              "  }\n",
              "\n",
              "  .colab-df-spinner {\n",
              "    border: 2px solid var(--fill-color);\n",
              "    border-color: transparent;\n",
              "    border-bottom-color: var(--fill-color);\n",
              "    animation:\n",
              "      spin 1s steps(1) infinite;\n",
              "  }\n",
              "\n",
              "  @keyframes spin {\n",
              "    0% {\n",
              "      border-color: transparent;\n",
              "      border-bottom-color: var(--fill-color);\n",
              "      border-left-color: var(--fill-color);\n",
              "    }\n",
              "    20% {\n",
              "      border-color: transparent;\n",
              "      border-left-color: var(--fill-color);\n",
              "      border-top-color: var(--fill-color);\n",
              "    }\n",
              "    30% {\n",
              "      border-color: transparent;\n",
              "      border-left-color: var(--fill-color);\n",
              "      border-top-color: var(--fill-color);\n",
              "      border-right-color: var(--fill-color);\n",
              "    }\n",
              "    40% {\n",
              "      border-color: transparent;\n",
              "      border-right-color: var(--fill-color);\n",
              "      border-top-color: var(--fill-color);\n",
              "    }\n",
              "    60% {\n",
              "      border-color: transparent;\n",
              "      border-right-color: var(--fill-color);\n",
              "    }\n",
              "    80% {\n",
              "      border-color: transparent;\n",
              "      border-right-color: var(--fill-color);\n",
              "      border-bottom-color: var(--fill-color);\n",
              "    }\n",
              "    90% {\n",
              "      border-color: transparent;\n",
              "      border-bottom-color: var(--fill-color);\n",
              "    }\n",
              "  }\n",
              "</style>\n",
              "\n",
              "  <script>\n",
              "    async function quickchart(key) {\n",
              "      const quickchartButtonEl =\n",
              "        document.querySelector('#' + key + ' button');\n",
              "      quickchartButtonEl.disabled = true;  // To prevent multiple clicks.\n",
              "      quickchartButtonEl.classList.add('colab-df-spinner');\n",
              "      try {\n",
              "        const charts = await google.colab.kernel.invokeFunction(\n",
              "            'suggestCharts', [key], {});\n",
              "      } catch (error) {\n",
              "        console.error('Error during call to suggestCharts:', error);\n",
              "      }\n",
              "      quickchartButtonEl.classList.remove('colab-df-spinner');\n",
              "      quickchartButtonEl.classList.add('colab-df-quickchart-complete');\n",
              "    }\n",
              "    (() => {\n",
              "      let quickchartButtonEl =\n",
              "        document.querySelector('#df-6379da9a-060d-478b-915e-2125f6f62e6d button');\n",
              "      quickchartButtonEl.style.display =\n",
              "        google.colab.kernel.accessAllowed ? 'block' : 'none';\n",
              "    })();\n",
              "  </script>\n",
              "</div>\n",
              "\n",
              "  <div id=\"id_b1b823a8-58af-423c-8ded-591e4b020a9b\">\n",
              "    <style>\n",
              "      .colab-df-generate {\n",
              "        background-color: #E8F0FE;\n",
              "        border: none;\n",
              "        border-radius: 50%;\n",
              "        cursor: pointer;\n",
              "        display: none;\n",
              "        fill: #1967D2;\n",
              "        height: 32px;\n",
              "        padding: 0 0 0 0;\n",
              "        width: 32px;\n",
              "      }\n",
              "\n",
              "      .colab-df-generate:hover {\n",
              "        background-color: #E2EBFA;\n",
              "        box-shadow: 0px 1px 2px rgba(60, 64, 67, 0.3), 0px 1px 3px 1px rgba(60, 64, 67, 0.15);\n",
              "        fill: #174EA6;\n",
              "      }\n",
              "\n",
              "      [theme=dark] .colab-df-generate {\n",
              "        background-color: #3B4455;\n",
              "        fill: #D2E3FC;\n",
              "      }\n",
              "\n",
              "      [theme=dark] .colab-df-generate:hover {\n",
              "        background-color: #434B5C;\n",
              "        box-shadow: 0px 1px 3px 1px rgba(0, 0, 0, 0.15);\n",
              "        filter: drop-shadow(0px 1px 2px rgba(0, 0, 0, 0.3));\n",
              "        fill: #FFFFFF;\n",
              "      }\n",
              "    </style>\n",
              "    <button class=\"colab-df-generate\" onclick=\"generateWithVariable('res_exploded')\"\n",
              "            title=\"Generate code using this dataframe.\"\n",
              "            style=\"display:none;\">\n",
              "\n",
              "  <svg xmlns=\"http://www.w3.org/2000/svg\" height=\"24px\"viewBox=\"0 0 24 24\"\n",
              "       width=\"24px\">\n",
              "    <path d=\"M7,19H8.4L18.45,9,17,7.55,7,17.6ZM5,21V16.75L18.45,3.32a2,2,0,0,1,2.83,0l1.4,1.43a1.91,1.91,0,0,1,.58,1.4,1.91,1.91,0,0,1-.58,1.4L9.25,21ZM18.45,9,17,7.55Zm-12,3A5.31,5.31,0,0,0,4.9,8.1,5.31,5.31,0,0,0,1,6.5,5.31,5.31,0,0,0,4.9,4.9,5.31,5.31,0,0,0,6.5,1,5.31,5.31,0,0,0,8.1,4.9,5.31,5.31,0,0,0,12,6.5,5.46,5.46,0,0,0,6.5,12Z\"/>\n",
              "  </svg>\n",
              "    </button>\n",
              "    <script>\n",
              "      (() => {\n",
              "      const buttonEl =\n",
              "        document.querySelector('#id_b1b823a8-58af-423c-8ded-591e4b020a9b button.colab-df-generate');\n",
              "      buttonEl.style.display =\n",
              "        google.colab.kernel.accessAllowed ? 'block' : 'none';\n",
              "\n",
              "      buttonEl.onclick = () => {\n",
              "        google.colab.notebook.generateWithVariable('res_exploded');\n",
              "      }\n",
              "      })();\n",
              "    </script>\n",
              "  </div>\n",
              "\n",
              "    </div>\n",
              "  </div>\n"
            ],
            "application/vnd.google.colaboratory.intrinsic+json": {
              "type": "dataframe",
              "variable_name": "res_exploded",
              "summary": "{\n  \"name\": \"res_exploded\",\n  \"rows\": 20559,\n  \"fields\": [\n    {\n      \"column\": \"text\",\n      \"properties\": {\n        \"dtype\": \"category\",\n        \"num_unique_values\": 933,\n        \"samples\": [\n          \"\\u0423\\u043c\\u0435\\u0440 \\u0424\\u0438\\u0434\\u0435\\u043b\\u044c \\u041a\\u0430\\u0441\\u0442\\u0440\\u043e\\n\\n\\u0424\\u0438\\u0434\\u0435\\u043b\\u044c \\u041a\\u0430\\u0441\\u0442\\u0440\\u043e\\n26 \\u043d\\u043e\\u044f\\u0431\\u0440\\u044f 2016 \\u0433\\u043e\\u0434\\u0430 \\u0443\\u043c\\u0435\\u0440 \\u043b\\u0438\\u0434\\u0435\\u0440 \\u043a\\u0443\\u0431\\u0438\\u043d\\u0441\\u043a\\u043e\\u0439 \\u0440\\u0435\\u0432\\u043e\\u043b\\u044e\\u0446\\u0438\\u0438 \\u0424\\u0438\\u0434\\u0435\\u043b\\u044c \\u041a\\u0430\\u0441\\u0442\\u0440\\u043e. \\u041d\\u0430 \\u043c\\u043e\\u043c\\u0435\\u043d\\u0442 \\u0441\\u043c\\u0435\\u0440\\u0442\\u0438 \\u0435\\u043c\\u0443 \\u0431\\u044b\\u043b\\u043e 90 \\u043b\\u0435\\u0442.\\n\\n\\u041e\\u0431 \\u044d\\u0442\\u043e\\u043c \\u0441\\u043e\\u043e\\u0431\\u0449\\u0438\\u043b \\u0435\\u0433\\u043e \\u0431\\u0440\\u0430\\u0442 \\u0420\\u0430\\u0443\\u043b\\u044c \\u041a\\u0430\\u0441\\u0442\\u0440\\u043e, \\u043f\\u0440\\u0435\\u0434\\u0441\\u0435\\u0434\\u0430\\u0442\\u0435\\u043b\\u044c \\u0413\\u043e\\u0441\\u0443\\u0434\\u0430\\u0440\\u0441\\u0442\\u0432\\u0435\\u043d\\u043d\\u043e\\u0433\\u043e \\u0441\\u043e\\u0432\\u0435\\u0442\\u0430 \\u041a\\u0443\\u0431\\u044b, \\u0432 \\u044d\\u0444\\u0438\\u0440\\u0435 \\u0433\\u043e\\u0441\\u0443\\u0434\\u0430\\u0440\\u0441\\u0442\\u0432\\u0435\\u043d\\u043d\\u043e\\u0433\\u043e \\u0442\\u0435\\u043b\\u0435\\u0432\\u0438\\u0434\\u0435\\u043d\\u0438\\u044f. \\u041f\\u043e \\u0435\\u0433\\u043e \\u0441\\u043e\\u043e\\u0431\\u0449\\u0435\\u043d\\u0438\\u044e, \\u0424\\u0438\\u0434\\u0435\\u043b\\u044c \\u0443\\u043c\\u0435\\u0440 \\u0432 19:00 25 \\u043d\\u043e\\u044f\\u0431\\u0440\\u044f 2016 \\u0433\\u043e\\u0434\\u0430 (3:00 \\u043f\\u043e \\u043c\\u043e\\u0441\\u043a\\u043e\\u0432\\u0441\\u043a\\u043e\\u043c\\u0443 \\u0432\\u0440\\u0435\\u043c\\u0435\\u043d\\u0438).\\n\\n\\u0412 \\u0430\\u043f\\u0440\\u0435\\u043b\\u0435 \\u0424\\u0438\\u0434\\u0435\\u043b\\u044c \\u041a\\u0430\\u0441\\u0442\\u0440\\u043e \\u0432\\u044b\\u0441\\u0442\\u0443\\u043f\\u0438\\u043b \\u0441 \\u0440\\u0435\\u0447\\u044c\\u044e:\\n\\n\\n\\u0424\\u0438\\u0434\\u0435\\u043b\\u044c \\u0410\\u043b\\u0435\\u0445\\u0430\\u043d\\u0434\\u0440\\u043e \\u041a\\u0430\\u0441\\u0442\\u0440\\u043e \\u0420\\u0443\\u0441 \\u0440\\u043e\\u0434\\u0438\\u043b\\u0441\\u044f 13 \\u0430\\u0432\\u0433\\u0443\\u0441\\u0442\\u0430 1926 \\u0433\\u043e\\u0434\\u0430 \\u0432 \\u0411\\u0438\\u0440\\u0430\\u043d\\u0435, \\u041a\\u0443\\u0431\\u0430 \\u0432 \\u0441\\u0435\\u043c\\u044c\\u0435 \\u043a\\u0440\\u0443\\u043f\\u043d\\u043e\\u0433\\u043e \\u0437\\u0435\\u043c\\u043b\\u0435\\u0432\\u043b\\u0430\\u0434\\u0435\\u043b\\u044c\\u0446\\u0430. \\u0412\\u043e \\u0432\\u0440\\u0435\\u043c\\u044f \\u0443\\u0447\\u0451\\u0431\\u044b \\u043d\\u0430 \\u044e\\u0440\\u0438\\u0434\\u0438\\u0447\\u0435\\u0441\\u043a\\u043e\\u043c \\u0444\\u0430\\u043a\\u0443\\u043b\\u044c\\u0442\\u0435\\u0442\\u0435 \\u0413\\u0430\\u0432\\u0430\\u043d\\u0441\\u043a\\u043e\\u0433\\u043e \\u0443\\u043d\\u0438\\u0432\\u0435\\u0440\\u0441\\u0438\\u0442\\u0435\\u0442\\u0430 \\u041a\\u0430\\u0441\\u0442\\u0440\\u043e \\u043f\\u0440\\u0438\\u043e\\u0431\\u0440\\u0451\\u043b \\u043b\\u0435\\u0432\\u044b\\u0435 \\u0430\\u043d\\u0442\\u0438\\u0438\\u043c\\u043f\\u0435\\u0440\\u0438\\u0430\\u043b\\u0438\\u0441\\u0442\\u0438\\u0447\\u0435\\u0441\\u043a\\u0438\\u0435 \\u0432\\u0437\\u0433\\u043b\\u044f\\u0434\\u044b. \\u0412 1954 \\u0433\\u043e\\u0434\\u0443 \\u0441\\u043e\\u0432\\u043c\\u0435\\u0441\\u0442\\u043d\\u043e \\u0441 \\u0427\\u0435 \\u0413\\u0435\\u0432\\u0430\\u0440\\u043e\\u0439 \\u0438 \\u0441\\u0432\\u043e\\u0438\\u043c \\u0431\\u0440\\u0430\\u0442\\u043e\\u043c \\u0420\\u0430\\u0443\\u043b\\u0435\\u043c \\u043e\\u0440\\u0433\\u0430\\u043d\\u0438\\u0437\\u043e\\u0432\\u0430\\u043b \\u0440\\u0435\\u0432\\u043e\\u043b\\u044e\\u0446\\u0438\\u043e\\u043d\\u043d\\u043e\\u0435 \\u0414\\u0432\\u0438\\u0436\\u0435\\u043d\\u0438\\u0435 26 \\u0438\\u044e\\u043b\\u044f. \\u0412\\u0435\\u0440\\u043d\\u0443\\u0432\\u0448\\u0438\\u0441\\u044c \\u043d\\u0430 \\u041a\\u0443\\u0431\\u0443, \\u043e\\u043d \\u0432\\u043e\\u0437\\u0433\\u043b\\u0430\\u0432\\u0438\\u043b \\u043f\\u0430\\u0440\\u0442\\u0438\\u0437\\u0430\\u043d\\u0441\\u043a\\u0443\\u044e \\u0432\\u043e\\u0439\\u043d\\u0443 \\u043f\\u0440\\u043e\\u0442\\u0438\\u0432 \\u0440\\u0435\\u0436\\u0438\\u043c\\u0430 \\u0411\\u0430\\u0442\\u0438\\u0441\\u0442\\u044b. \\u0412 1959 \\u0433\\u043e\\u0434\\u0443 \\u0440\\u0435\\u0432\\u043e\\u043b\\u044e\\u0446\\u0438\\u043e\\u043d\\u0435\\u0440\\u044b \\u043f\\u0440\\u0438\\u0448\\u043b\\u0438 \\u043a \\u0432\\u043b\\u0430\\u0441\\u0442\\u0438. \\u0412 1961 \\u0433\\u043e\\u0434\\u0443 \\u0421\\u0428\\u0410 \\u043f\\u0440\\u0435\\u0434\\u043f\\u0440\\u0438\\u043d\\u044f\\u043b\\u0438 \\u043f\\u043e\\u043f\\u044b\\u0442\\u043a\\u0443 \\u0441\\u0432\\u0435\\u0440\\u0436\\u0435\\u043d\\u0438\\u044f \\u041a\\u0430\\u0441\\u0442\\u0440\\u043e, \\u043e\\u0434\\u043d\\u0430\\u043a\\u043e \\u0432\\u044b\\u0441\\u0430\\u0434\\u043a\\u0430 \\u0432 \\u0417\\u0430\\u043b\\u0438\\u0432\\u0435 \\u0421\\u0432\\u0438\\u043d\\u0435\\u0439 \\u0437\\u0430\\u0432\\u0435\\u0440\\u0448\\u0438\\u043b\\u0430\\u0441\\u044c \\u0443\\u043d\\u0438\\u0447\\u0442\\u043e\\u0436\\u0435\\u043d\\u0438\\u0435\\u043c \\u0434\\u0435\\u0441\\u0430\\u043d\\u0442\\u0430.\\n\\n\\u0412 1961 \\u0433\\u043e\\u0434\\u0443 \\u041a\\u0430\\u0441\\u0442\\u0440\\u043e \\u043f\\u0440\\u043e\\u0432\\u043e\\u0437\\u0433\\u043b\\u0430\\u0441\\u0438\\u043b \\u0441\\u043e\\u0446\\u0438\\u0430\\u043b\\u0438\\u0441\\u0442\\u0438\\u0447\\u0435\\u0441\\u043a\\u0438\\u0439 \\u0445\\u0430\\u0440\\u0430\\u043a\\u0442\\u0435\\u0440 \\u043a\\u0443\\u0431\\u0438\\u043d\\u0441\\u043a\\u043e\\u0439 \\u0440\\u0435\\u0432\\u043e\\u043b\\u044e\\u0446\\u0438\\u0438. \\u041a\\u0443\\u0431\\u0430 \\u0441\\u0442\\u0430\\u043b\\u0430 \\u043e\\u0434\\u043d\\u043e\\u043f\\u0430\\u0440\\u0442\\u0438\\u0439\\u043d\\u044b\\u043c \\u0433\\u043e\\u0441\\u0443\\u0434\\u0430\\u0440\\u0441\\u0442\\u0432\\u043e\\u043c \\u043f\\u043e\\u0434 \\u0440\\u0443\\u043a\\u043e\\u0432\\u043e\\u0434\\u0441\\u0442\\u0432\\u043e\\u043c \\u043a\\u043e\\u043c\\u043f\\u0430\\u0440\\u0442\\u0438\\u0438, \\u043f\\u0435\\u0440\\u0432\\u044b\\u043c \\u0432 \\u0417\\u0430\\u043f\\u0430\\u0434\\u043d\\u043e\\u043c \\u043f\\u043e\\u043b\\u0443\\u0448\\u0430\\u0440\\u0438\\u0438. \\u0411\\u044b\\u043b\\u0430 \\u043f\\u0440\\u0438\\u043d\\u044f\\u0442\\u0430 \\u043c\\u0430\\u0440\\u043a\\u0441\\u0438\\u0441\\u0442\\u0441\\u043a\\u043e-\\u043b\\u0435\\u043d\\u0438\\u043d\\u0441\\u043a\\u0430\\u044f \\u043c\\u043e\\u0434\\u0435\\u043b\\u044c \\u0440\\u0430\\u0437\\u0432\\u0438\\u0442\\u0438\\u044f, \\u043f\\u0440\\u043e\\u0432\\u0435\\u0434\\u0435\\u043d\\u044b \\u0441\\u043e\\u0446\\u0438\\u0430\\u043b\\u0438\\u0441\\u0442\\u0438\\u0447\\u0435\\u0441\\u043a\\u0438\\u0435 \\u0440\\u0435\\u0444\\u043e\\u0440\\u043c\\u044b, \\u044d\\u043a\\u043e\\u043d\\u043e\\u043c\\u0438\\u043a\\u0430 \\u043f\\u043e\\u0441\\u0442\\u0430\\u0432\\u043b\\u0435\\u043d\\u0430 \\u043f\\u043e\\u0434 \\u0446\\u0435\\u043d\\u0442\\u0440\\u0430\\u043b\\u0438\\u0437\\u043e\\u0432\\u0430\\u043d\\u043d\\u044b\\u0439 \\u043a\\u043e\\u043d\\u0442\\u0440\\u043e\\u043b\\u044c, \\u043f\\u0440\\u0438\\u043d\\u044f\\u0442\\u044b \\u043c\\u0435\\u0440\\u044b \\u043f\\u043e \\u0440\\u0430\\u0437\\u0432\\u0438\\u0442\\u0438\\u044e \\u043e\\u0431\\u0440\\u0430\\u0437\\u043e\\u0432\\u0430\\u043d\\u0438\\u044f \\u0438 \\u0437\\u0434\\u0440\\u0430\\u0432\\u043e\\u043e\\u0445\\u0440\\u0430\\u043d\\u0435\\u043d\\u0438\\u044f, \\u043a\\u043e\\u0442\\u043e\\u0440\\u044b\\u0435, \\u0432\\u043c\\u0435\\u0441\\u0442\\u0435 \\u0441 \\u0442\\u0435\\u043c, \\u0441\\u043e\\u043f\\u0440\\u043e\\u0432\\u043e\\u0436\\u0434\\u0430\\u043b\\u0438\\u0441\\u044c \\u0443\\u0441\\u0442\\u0430\\u043d\\u043e\\u0432\\u043b\\u0435\\u043d\\u0438\\u0435\\u043c \\u0433\\u043e\\u0441\\u0443\\u0434\\u0430\\u0440\\u0441\\u0442\\u0432\\u0435\\u043d\\u043d\\u043e\\u0433\\u043e \\u043a\\u043e\\u043d\\u0442\\u0440\\u043e\\u043b\\u044f \\u043d\\u0430\\u0434 \\u043f\\u0440\\u0435\\u0441\\u0441\\u043e\\u0439 \\u0438 \\u043f\\u043e\\u0434\\u0430\\u0432\\u043b\\u0435\\u043d\\u0438\\u0435\\u043c \\u0438\\u043d\\u0430\\u043a\\u043e\\u043c\\u044b\\u0441\\u043b\\u0438\\u044f. 31 \\u0438\\u044e\\u043b\\u044f 2006 \\u0433\\u043e\\u0434\\u0430 \\u041a\\u0430\\u0441\\u0442\\u0440\\u043e \\u043f\\u043e \\u0441\\u043e\\u0441\\u0442\\u043e\\u044f\\u043d\\u0438\\u044e \\u0437\\u0434\\u043e\\u0440\\u043e\\u0432\\u044c\\u044f \\u043f\\u0435\\u0440\\u0435\\u0434\\u0430\\u043b \\u0438\\u0441\\u043f\\u043e\\u043b\\u043d\\u0435\\u043d\\u0438\\u0435 \\u043e\\u0431\\u044f\\u0437\\u0430\\u043d\\u043d\\u043e\\u0441\\u0442\\u0435\\u0439 \\u043d\\u0430 \\u0432\\u0441\\u0435\\u0445 \\u0441\\u0432\\u043e\\u0438\\u0445 \\u043a\\u043b\\u044e\\u0447\\u0435\\u0432\\u044b\\u0445 \\u0434\\u043e\\u043b\\u0436\\u043d\\u043e\\u0441\\u0442\\u044f\\u0445 \\u0441\\u0432\\u043e\\u0435\\u043c\\u0443 \\u0431\\u0440\\u0430\\u0442\\u0443 \\u0420\\u0430\\u0443\\u043b\\u044e. 24 \\u0444\\u0435\\u0432\\u0440\\u0430\\u043b\\u044f 2008 \\u0433\\u043e\\u0434\\u0430 \\u043e\\u043d \\u043f\\u043e\\u043a\\u0438\\u043d\\u0443\\u043b \\u0432\\u0441\\u0435 \\u0433\\u043e\\u0441\\u0443\\u0434\\u0430\\u0440\\u0441\\u0442\\u0432\\u0435\\u043d\\u043d\\u044b\\u0435 \\u0434\\u043e\\u043b\\u0436\\u043d\\u043e\\u0441\\u0442\\u0438, \\u0430 19 \\u0430\\u043f\\u0440\\u0435\\u043b\\u044f 2011 \\u0433\\u043e\\u0434\\u0430 \\u0443\\u0448\\u0451\\u043b \\u0438 \\u0441 \\u043f\\u043e\\u0441\\u0442\\u0430 \\u0433\\u043b\\u0430\\u0432\\u044b \\u043f\\u0440\\u0430\\u0432\\u044f\\u0449\\u0435\\u0439 \\u043f\\u0430\\u0440\\u0442\\u0438\\u0438.\\n\\n\\n\\n\",\n          \"\\u0411.\\u041e\\u0431\\u0430\\u043c\\u0430 \\u043d\\u0430\\u0437\\u043d\\u0430\\u0447\\u0438\\u043b \\u043d\\u043e\\u0432\\u043e\\u0433\\u043e \\u0441\\u043e\\u0432\\u0435\\u0442\\u043d\\u0438\\u043a\\u0430 \\u043f\\u043e \\u043d\\u0430\\u0446\\u0438\\u043e\\u043d\\u0430\\u043b\\u044c\\u043d\\u043e\\u0439 \\u0431\\u0435\\u0437\\u043e\\u043f\\u0430\\u0441\\u043d\\u043e\\u0441\\u0442\\u0438\\n\\n\\u041f\\u0440\\u0435\\u0437\\u0438\\u0434\\u0435\\u043d\\u0442 \\u0421\\u0428\\u0410 \\u0411\\u0430\\u0440\\u0430\\u043a \\u041e\\u0431\\u0430\\u043c\\u0430 \\u043e\\u0444\\u0438\\u0446\\u0438\\u0430\\u043b\\u044c\\u043d\\u043e \\u043e\\u0431\\u044a\\u044f\\u0432\\u0438\\u043b \\u043e \\u043d\\u0430\\u0437\\u043d\\u0430\\u0447\\u0435\\u043d\\u0438\\u0438 \\u0422\\u043e\\u043c\\u0430 \\u0414\\u043e\\u043d\\u0438\\u043b\\u043e\\u043d\\u0430 \\u0441\\u0432\\u043e\\u0438\\u043c \\u0441\\u043e\\u0432\\u0435\\u0442\\u043d\\u0438\\u043a\\u043e\\u043c \\u043f\\u043e \\u043d\\u0430\\u0446\\u0438\\u043e\\u043d\\u0430\\u043b\\u044c\\u043d\\u043e\\u0439 \\u0431\\u0435\\u0437\\u043e\\u043f\\u0430\\u0441\\u043d\\u043e\\u0441\\u0442\\u0438. \\u041d\\u0430 \\u044d\\u0442\\u043e\\u043c \\u043f\\u043e\\u0441\\u0442\\u0443 \\u043e\\u043d \\u0441\\u043c\\u0435\\u043d\\u0438\\u0442 \\u043e\\u0442\\u0441\\u0442\\u0430\\u0432\\u043d\\u043e\\u0433\\u043e \\u0433\\u0435\\u043d\\u0435\\u0440\\u0430\\u043b\\u0430 \\u043c\\u043e\\u0440\\u0441\\u043a\\u043e\\u0439 \\u043f\\u0435\\u0445\\u043e\\u0442\\u044b \\u0421\\u0428\\u0410 \\u0414\\u0436\\u0435\\u0439\\u043c\\u0441\\u0430 \\u0414\\u0436\\u043e\\u043d\\u0441\\u0430, \\u043e\\u0431 \\u0443\\u0445\\u043e\\u0434\\u0435 \\u043a\\u043e\\u0442\\u043e\\u0440\\u043e\\u0433\\u043e \\u0431\\u044b\\u043b\\u043e \\u043e\\u0431\\u044a\\u044f\\u0432\\u043b\\u0435\\u043d\\u043e \\u043d\\u0430\\u043a\\u0430\\u043d\\u0443\\u043d\\u0435.\\n\\n\\u041f\\u0440\\u0435\\u0434\\u0441\\u0442\\u0430\\u0432\\u0438\\u0442\\u0435\\u043b\\u0438 \\u0430\\u0434\\u043c\\u0438\\u043d\\u0438\\u0441\\u0442\\u0440\\u0430\\u0446\\u0438\\u0438 \\u043f\\u0440\\u0435\\u0437\\u0438\\u0434\\u0435\\u043d\\u0442\\u0430 \\u043d\\u0430\\u043a\\u0430\\u043d\\u0443\\u043d\\u0435 \\u0432\\u0435\\u0447\\u0435\\u0440\\u043e\\u043c \\u043d\\u0430 \\u0443\\u0441\\u043b\\u043e\\u0432\\u0438\\u044f\\u0445 \\u0430\\u043d\\u043e\\u043d\\u0438\\u043c\\u043d\\u043e\\u0441\\u0442\\u0438 \\u0441\\u043e\\u043e\\u0431\\u0449\\u0438\\u043b\\u0438 \\u043e\\u0431 \\u043e\\u0442\\u0441\\u0442\\u0430\\u0432\\u043a\\u0435 \\u0414\\u0436.\\u0414\\u0436\\u043e\\u043d\\u0441\\u0430, \\u043e\\u0434\\u043d\\u0430\\u043a\\u043e \\u044d\\u0442\\u0430 \\u0438\\u043d\\u0444\\u043e\\u0440\\u043c\\u0430\\u0446\\u0438\\u044f \\u043d\\u0435 \\u0441\\u0440\\u0430\\u0437\\u0443 \\u0431\\u044b\\u043b\\u0430 \\u043e\\u0444\\u0438\\u0446\\u0438\\u0430\\u043b\\u044c\\u043d\\u043e \\u043f\\u043e\\u0434\\u0442\\u0432\\u0435\\u0440\\u0436\\u0434\\u0435\\u043d\\u0430.\\n\\n\\u041a\\u0430\\u043a \\u0441\\u043e\\u043e\\u0431\\u0449\\u0430\\u044e\\u0442 \\u0430\\u043c\\u0435\\u0440\\u0438\\u043a\\u0430\\u043d\\u0441\\u043a\\u0438\\u0435 \\u0421\\u041c\\u0418, 55-\\u043b\\u0435\\u0442\\u043d\\u0438\\u0439 \\u0422.\\u0414\\u043e\\u043d\\u0438\\u043b\\u043e\\u043d \\u0434\\u043e\\u043b\\u0433\\u043e\\u0435 \\u0432\\u0440\\u0435\\u043c\\u044f \\u0431\\u044b\\u043b \\u044e\\u0440\\u0438\\u0441\\u043a\\u043e\\u043d\\u0441\\u0443\\u043b\\u044c\\u0442\\u043e\\u043c, \\u043e\\u043a\\u0430\\u0437\\u044b\\u0432\\u0430\\u0432\\u0448\\u0438\\u043c \\u0443\\u0441\\u043b\\u0443\\u0433\\u0438 \\u043a\\u0440\\u0443\\u043f\\u043d\\u044b\\u043c \\u0430\\u043c\\u0435\\u0440\\u0438\\u043a\\u0430\\u043d\\u0441\\u043a\\u0438\\u043c \\u043a\\u043e\\u043c\\u043f\\u0430\\u043d\\u0438\\u044f\\u043c. \\u041e\\u043d \\u0442\\u0430\\u043a\\u0436\\u0435 \\u0431\\u043b\\u0438\\u0437\\u043e\\u043a \\u043a \\u043d\\u044b\\u043d\\u0435\\u0448\\u043d\\u0435\\u043c\\u0443 \\u0432\\u0438\\u0446\\u0435-\\u043f\\u0440\\u0435\\u0437\\u0438\\u0434\\u0435\\u043d\\u0442\\u0443 \\u0421\\u0428\\u0410 \\u0414\\u0436\\u043e \\u0411\\u0430\\u0439\\u0434\\u0435\\u043d\\u0443: \\u0431\\u0440\\u0430\\u0442 \\u0422.\\u0414\\u043e\\u043d\\u0438\\u043b\\u043e\\u043d\\u0430 \\u041c\\u0430\\u0439\\u043a\\u043b \\u0440\\u0430\\u0431\\u043e\\u0442\\u0430\\u0435\\u0442 \\u0441\\u043e\\u0432\\u0435\\u0442\\u043d\\u0438\\u043a\\u043e\\u043c \\u044d\\u0442\\u043e\\u0433\\u043e \\u043f\\u043e\\u043b\\u0438\\u0442\\u0438\\u043a\\u0430. \\u041d\\u0435\\u043a\\u043e\\u0442\\u043e\\u0440\\u043e\\u0435 \\u0432\\u0440\\u0435\\u043c\\u044f \\u043d\\u0430\\u0437\\u0430\\u0434 \\u0422.\\u0414\\u043e\\u043d\\u0438\\u043b\\u043e\\u043d\\u0430 \\u0441\\u0447\\u0438\\u0442\\u0430\\u043b\\u0438 \\u043f\\u0440\\u043e\\u0442\\u0438\\u0432\\u043d\\u0438\\u043a\\u043e\\u043c \\u0440\\u0430\\u0437\\u0432\\u0438\\u0442\\u0438\\u044f \\u0431\\u043e\\u0435\\u0432\\u044b\\u0445 \\u0434\\u0435\\u0439\\u0441\\u0442\\u0432\\u0438\\u0439 \\u0432 \\u0410\\u0444\\u0433\\u0430\\u043d\\u0438\\u0441\\u0442\\u0430\\u043d\\u0435.\\n\\n\\u0412 \\u0446\\u0435\\u043b\\u043e\\u043c, \\u043a\\u0430\\u043a \\u043e\\u0442\\u043c\\u0435\\u0447\\u0430\\u044e\\u0442 \\u044d\\u043a\\u0441\\u043f\\u0435\\u0440\\u0442\\u044b, \\u0434\\u0430\\u043d\\u043d\\u0430\\u044f \\u043d\\u043e\\u0432\\u043e\\u0441\\u0442\\u044c \\u043d\\u0435 \\u0441\\u0442\\u0430\\u043b\\u0430 \\u043d\\u0435\\u043e\\u0436\\u0438\\u0434\\u0430\\u043d\\u043d\\u043e\\u0441\\u0442\\u044c\\u044e. \\u0413\\u0435\\u043d\\u0435\\u0440\\u0430\\u043b \\u0414\\u0436.\\u0414\\u0436\\u043e\\u043d\\u0441 \\u0443\\u0448\\u0435\\u043b \\u0432 \\u043e\\u0442\\u0441\\u0442\\u0430\\u0432\\u043a\\u0443 \\u0438\\u0437 \\u043a\\u043e\\u0440\\u043f\\u0443\\u0441\\u0430 \\u043c\\u043e\\u0440\\u0441\\u043a\\u043e\\u0439 \\u043f\\u0435\\u0445\\u043e\\u0442\\u044b 1 \\u0444\\u0435\\u0432\\u0440\\u0430\\u043b\\u044f 2007\\u0433. \\u043f\\u043e\\u0441\\u043b\\u0435 40-\\u043b\\u0435\\u0442\\u043d\\u0435\\u0439 \\u0432\\u043e\\u0435\\u043d\\u043d\\u043e\\u0439 \\u0441\\u043b\\u0443\\u0436\\u0431\\u044b, \\u043d\\u043e \\u043e\\u0441\\u0442\\u0430\\u043b\\u0441\\u044f \\u0432\\u043e\\u0432\\u043b\\u0435\\u0447\\u0435\\u043d\\u043d\\u044b\\u043c \\u0432 \\u0432\\u043e\\u043f\\u0440\\u043e\\u0441\\u044b \\u043d\\u0430\\u0446\\u0438\\u043e\\u043d\\u0430\\u043b\\u044c\\u043d\\u043e\\u0439 \\u0431\\u0435\\u0437\\u043e\\u043f\\u0430\\u0441\\u043d\\u043e\\u0441\\u0442\\u0438. \\u0420\\u0430\\u043d\\u0435\\u0435 \\u043e\\u043d \\u0437\\u0430\\u044f\\u0432\\u043b\\u044f\\u043b, \\u0447\\u0442\\u043e \\u0436\\u0435\\u043b\\u0430\\u0435\\u0442 \\u043f\\u043e\\u043a\\u0438\\u043d\\u0443\\u0442\\u044c \\u043f\\u043e\\u0441\\u0442 \\u0441\\u043e\\u0432\\u0435\\u0442\\u043d\\u0438\\u043a\\u0430 \\u043f\\u0440\\u0435\\u0437\\u0438\\u0434\\u0435\\u043d\\u0442\\u0430 \\u0421\\u0428\\u0410 \\u0432 \\u0442\\u0435\\u0447\\u0435\\u043d\\u0438\\u0435 \\u0434\\u0432\\u0443\\u0445 \\u043b\\u0435\\u0442.\\n\\n\\u041d\\u0430\\u043f\\u043e\\u043c\\u043d\\u0438\\u043c, 1 \\u043e\\u043a\\u0442\\u044f\\u0431\\u0440\\u044f 2010\\u0433. \\u0443\\u0448\\u0435\\u043b \\u0432 \\u043e\\u0442\\u0441\\u0442\\u0430\\u0432\\u043a\\u0443 \\u0441 \\u0434\\u043e\\u043b\\u0436\\u043d\\u043e\\u0441\\u0442\\u0438 \\u0433\\u043b\\u0430\\u0432\\u044b \\u0430\\u0434\\u043c\\u0438\\u043d\\u0438\\u0441\\u0442\\u0440\\u0430\\u0446\\u0438\\u0438 \\u0411\\u0435\\u043b\\u043e\\u0433\\u043e \\u0434\\u043e\\u043c\\u0430 \\u0420.\\u042d\\u043c\\u0430\\u043d\\u0443\\u044d\\u043b\\u044c, \\u043a\\u043e\\u0442\\u043e\\u0440\\u044b\\u0439 \\u043f\\u043b\\u0430\\u043d\\u0438\\u0440\\u0443\\u0435\\u0442 \\u0431\\u0430\\u043b\\u043b\\u043e\\u0442\\u0438\\u0440\\u043e\\u0432\\u0430\\u0442\\u044c\\u0441\\u044f \\u043d\\u0430 \\u043f\\u043e\\u0441\\u0442 \\u043c\\u044d\\u0440\\u0430 \\u0427\\u0438\\u043a\\u0430\\u0433\\u043e. \\u041f\\u043e \\u043c\\u043d\\u0435\\u043d\\u0438\\u044e \\u044d\\u043a\\u0441\\u043f\\u0435\\u0440\\u0442\\u043e\\u0432, \\u0438\\u043d\\u0442\\u0435\\u0440\\u0435\\u0441 \\u043a \\u0434\\u043e\\u043b\\u0436\\u043d\\u043e\\u0441\\u0442\\u0438 \\u043c\\u044d\\u0440\\u0430 \\u0427\\u0438\\u043a\\u0430\\u0433\\u043e, \\u043a\\u043e\\u0442\\u043e\\u0440\\u044b\\u0439 \\u0431\\u044b\\u0432\\u0448\\u0438\\u0439 \\u0433\\u043b\\u0430\\u0432\\u0430 \\u043f\\u0440\\u0435\\u0437\\u0438\\u0434\\u0435\\u043d\\u0442\\u0441\\u043a\\u043e\\u0439 \\u0430\\u0434\\u043c\\u0438\\u043d\\u0438\\u0441\\u0442\\u0440\\u0430\\u0446\\u0438\\u0438 \\u043f\\u0440\\u043e\\u044f\\u0432\\u043b\\u044f\\u043b \\u0438 \\u0440\\u0430\\u043d\\u044c\\u0448\\u0435, \\u0435\\u0449\\u0435 \\u0431\\u043e\\u043b\\u044c\\u0448\\u0435 \\u0443\\u0441\\u0438\\u043b\\u0438\\u043b\\u0441\\u044f \\u043f\\u043e\\u0441\\u043b\\u0435 \\u0437\\u0430\\u044f\\u0432\\u043b\\u0435\\u043d\\u0438\\u0439 \\u043d\\u044b\\u043d\\u0435\\u0448\\u043d\\u0435\\u0433\\u043e \\u043c\\u044d\\u0440\\u0430 \\u0433\\u043e\\u0440\\u043e\\u0434\\u0430 \\u0420\\u0438\\u0447\\u0430\\u0440\\u0434\\u0430 \\u0414\\u044d\\u0439\\u043b\\u0438 \\u043e \\u043d\\u0435\\u0436\\u0435\\u043b\\u0430\\u043d\\u0438\\u0438 \\u043f\\u0435\\u0440\\u0435\\u0438\\u0437\\u0431\\u0438\\u0440\\u0430\\u0442\\u044c\\u0441\\u044f \\u043d\\u0430 \\u043d\\u043e\\u0432\\u044b\\u0439 \\u0441\\u0440\\u043e\\u043a. \\u041f\\u0440\\u0435\\u0437\\u0438\\u0434\\u0435\\u043d\\u0442 \\u0421\\u0428\\u0410 \\u043d\\u0430\\u0437\\u043d\\u0430\\u0447\\u0438\\u043b \\u0441\\u0442\\u0430\\u0440\\u0448\\u0435\\u0433\\u043e \\u0441\\u043e\\u0432\\u0435\\u0442\\u043d\\u0438\\u043a\\u0430 \\u0411\\u0435\\u043b\\u043e\\u0433\\u043e \\u0434\\u043e\\u043c\\u0430 \\u041f\\u0438\\u0442\\u0430 \\u0420\\u0430\\u0443\\u0441\\u0430 \\u0432\\u0440\\u0435\\u043c\\u0435\\u043d\\u043d\\u044b\\u043c \\u0433\\u043b\\u0430\\u0432\\u043e\\u0439 \\u043f\\u0440\\u0435\\u0437\\u0438\\u0434\\u0435\\u043d\\u0442\\u0441\\u043a\\u043e\\u0439 \\u0430\\u0434\\u043c\\u0438\\u043d\\u0438\\u0441\\u0442\\u0440\\u0430\\u0446\\u0438\\u0438.\\n\\n\",\n          \"\\u041f\\u044f\\u0442\\u044b\\u0439 \\u043a\\u043e\\u0441\\u043c\\u0438\\u0447\\u0435\\u0441\\u043a\\u0438\\u0439 \\u0442\\u0443\\u0440\\u0438\\u0441\\u0442 \\u0433\\u043e\\u0442\\u043e\\u0432\\u0438\\u0442\\u0441\\u044f \\u043a \\u043f\\u043e\\u043b\\u0451\\u0442\\u0443\\n58-\\u043b\\u0435\\u0442\\u043d\\u0438\\u0439 \\u043f\\u0440\\u043e\\u0433\\u0440\\u0430\\u043c\\u043c\\u0438\\u0441\\u0442 \\u0438 \\u043c\\u0438\\u043b\\u043b\\u0438\\u0430\\u0440\\u0434\\u0435\\u0440 \\u0433\\u043e\\u0442\\u043e\\u0432\\u0438\\u0442\\u0441\\u044f \\u043a \\u043a\\u043e\\u0441\\u043c\\u0438\\u0447\\u0435\\u0441\\u043a\\u043e\\u043c\\u0443 \\u043f\\u043e\\u043b\\u0451\\u0442\\u0443. \\u0427\\u0430\\u0440\\u043b\\u044c\\u0437 \\u0421\\u0438\\u043c\\u043e\\u043d\\u0438, \\u0430\\u043c\\u0435\\u0440\\u0438\\u043a\\u0430\\u043d\\u0435\\u0446 \\u0432\\u0435\\u043d\\u0433\\u0435\\u0440\\u0441\\u043a\\u043e\\u0433\\u043e \\u043f\\u0440\\u043e\\u0438\\u0441\\u0445\\u043e\\u0436\\u0434\\u0435\\u043d\\u0438\\u044f, \\u043a\\u043e\\u0442\\u043e\\u0440\\u044b\\u0439 \\u0440\\u0430\\u0431\\u043e\\u0442\\u0430\\u043b \\u0432 \\u043a\\u043e\\u0440\\u043f\\u043e\\u0440\\u0430\\u0446\\u0438\\u0438 \\u00ab\\u041c\\u0430\\u0439\\u043a\\u0440\\u043e\\u0441\\u043e\\u0444\\u0442\\u00bb, \\u0433\\u0434\\u0435 \\u043e\\u043d \\u0440\\u0430\\u0437\\u0440\\u0430\\u0431\\u0430\\u0442\\u044b\\u0432\\u0430\\u043b \\u0432\\u0441\\u0435\\u043c\\u0438\\u0440\\u043d\\u043e \\u0438\\u0437\\u0432\\u0435\\u0441\\u0442\\u043d\\u044b\\u0435 \\u043f\\u0440\\u043e\\u0433\\u0440\\u0430\\u043c\\u043c\\u044b Word \\u0438 Excel, \\u0433\\u043e\\u0442\\u043e\\u0432\\u0438\\u0442\\u0441\\u044f \\u0441\\u0442\\u0430\\u0440\\u0442\\u043e\\u0432\\u0430\\u0442\\u044c \\u0432 \\u043a\\u043e\\u0441\\u043c\\u043e\\u0441 9 \\u043c\\u0430\\u0440\\u0442\\u0430 \\u043d\\u0430 \\u043a\\u043e\\u0440\\u0430\\u0431\\u043b\\u0435 \\u00ab\\u0421\\u043e\\u044e\\u0437 \\u0422\\u041c\\u0410-10\\u00bb. \\u0421\\u0438\\u043c\\u043e\\u043d\\u0438 \\u043e\\u0442\\u043f\\u0440\\u0430\\u0432\\u0438\\u0442\\u0441\\u044f \\u043d\\u0430 \\u041c\\u0435\\u0436\\u0434\\u0443\\u043d\\u0430\\u0440\\u043e\\u0434\\u043d\\u0443\\u044e \\u043a\\u043e\\u0441\\u043c\\u0438\\u0447\\u0435\\u0441\\u043a\\u0443\\u044e \\u0441\\u0442\\u0430\\u043d\\u0446\\u0438\\u044e \\u0432\\u043c\\u0435\\u0441\\u0442\\u0435 \\u0441 15-\\u043c \\u044d\\u043a\\u0438\\u043f\\u0430\\u0436\\u0435\\u043c \\u041c\\u041a\\u0421, \\u0424\\u0451\\u0434\\u043e\\u0440\\u043e\\u043c \\u042e\\u0440\\u0447\\u0438\\u0445\\u0438\\u043d\\u044b\\u043c \\u0438 \\u041e\\u043b\\u0435\\u0433\\u043e\\u043c \\u041a\\u043e\\u0442\\u043e\\u0432\\u044b\\u043c, \\u0430 \\u0432\\u0435\\u0440\\u043d\\u0451\\u0442\\u0441\\u044f \\u043d\\u0430 \\u0417\\u0435\\u043c\\u043b\\u044e \\u0441 \\u0447\\u043b\\u0435\\u043d\\u0430\\u043c\\u0438 14-\\u043e \\u044d\\u043a\\u0438\\u043f\\u0430\\u0436\\u0430 \\u041c\\u041a\\u0421 \\u041c\\u0430\\u0439\\u043a\\u043b\\u043e\\u043c \\u041b\\u043e\\u043f\\u0435\\u0441\\u043e\\u043c-\\u0410\\u043b\\u0435\\u0433\\u0440\\u0438\\u044f \\u0438 \\u041c\\u0438\\u0445\\u0430\\u0438\\u043b\\u043e\\u043c \\u0422\\u044e\\u0440\\u0438\\u043d\\u044b\\u043c.\\n\\n\\u0421\\u0438\\u043c\\u043e\\u043d\\u0438 \\u0433\\u043e\\u0432\\u043e\\u0440\\u0438\\u0442, \\u0447\\u0442\\u043e \\u043e\\u043d \\u0431\\u0443\\u0434\\u0435\\u0442 \\u043f\\u0435\\u0440\\u0432\\u044b\\u043c \\u00ab\\u0443\\u043c\\u043d\\u0438\\u043a\\u043e\\u043c\\u00bb (nerd) \\u0432 \\u043a\\u043e\\u0441\\u043c\\u043e\\u0441\\u0435.\\n\\n\\u041f\\u043e\\u043b\\u0451\\u0442 \\u0421\\u0438\\u043c\\u043e\\u043d\\u0438 \\u043e\\u0440\\u0433\\u0430\\u043d\\u0438\\u0437\\u0443\\u0435\\u0442 \\u043a\\u043e\\u043c\\u043f\\u0430\\u043d\\u0438\\u044f Space Adventures, \\u043a\\u043e\\u0442\\u043e\\u0440\\u0430\\u044f \\u0437\\u0430\\u043d\\u0438\\u043c\\u0430\\u0435\\u0442\\u0441\\u044f \\u043a\\u043e\\u0441\\u043c\\u0438\\u0447\\u0435\\u0441\\u043a\\u0438\\u043c \\u0442\\u0443\\u0440\\u0438\\u0437\\u043c\\u043e\\u043c, \\u0438 \\u043a\\u043e\\u0442\\u043e\\u0440\\u0430\\u044f \\u043e\\u0442\\u043f\\u0440\\u0430\\u0432\\u0438\\u043b\\u0430 \\u0432 \\u043a\\u043e\\u0441\\u043c\\u043e\\u0441 \\u0443\\u0436\\u0435 \\u0447\\u0435\\u0442\\u0432\\u0435\\u0440\\u044b\\u0445 \\u043a\\u043e\\u0441\\u043c\\u043e\\u043d\\u0430\\u0432\\u0442\\u043e\\u0432-\\u043b\\u044e\\u0431\\u0438\\u0442\\u0435\\u043b\\u0435\\u0439.\\n\\n\\u041f\\u043e\\u043b\\u0451\\u0442 \\u0421\\u0438\\u043c\\u043e\\u043d\\u0438 \\u0431\\u0443\\u0434\\u0435\\u0442 \\u043f\\u0440\\u043e\\u0434\\u043e\\u043b\\u0436\\u0430\\u0442\\u044c\\u0441\\u044f 10 \\u0441\\u0443\\u0442\\u043e\\u043a, \\u0434\\u0432\\u043e\\u0435 \\u0441\\u0443\\u0442\\u043e\\u043a \\u043f\\u043e\\u043b\\u0451\\u0442 \\u043a \\u041c\\u041a\\u0421 \\u0438 8 \\u0441\\u0443\\u0442\\u043e\\u043a \\u043d\\u0430 \\u0441\\u0442\\u0430\\u043d\\u0446\\u0438\\u0438, \\u0437\\u0430 \\u044d\\u0442\\u043e \\u0432\\u0440\\u0435\\u043c\\u044f \\u0421\\u0438\\u043c\\u043e\\u043d\\u0438\\u0438 160 \\u0440\\u0430\\u0437 \\u043e\\u0431\\u043b\\u0435\\u0442\\u0438\\u0442 \\u0417\\u0435\\u043c\\u043b\\u044e \\u0438 \\u043f\\u0440\\u0435\\u043e\\u0434\\u043e\\u043b\\u0435\\u0435\\u0442 6,5 \\u043c\\u0438\\u043b\\u043b\\u0438\\u043e\\u043d\\u043e\\u0432 \\u043a\\u0438\\u043b\\u043e\\u043c\\u0435\\u0442\\u0440\\u043e\\u0432.\\n\\n\\u00ab\\u042f \\u0438\\u043c\\u0435\\u044e \\u0442\\u0440\\u0438 \\u0446\\u0435\\u043b\\u0438\\u00bb, \\u0441\\u043a\\u0430\\u0437\\u0430\\u043b \\u0421\\u0438\\u043c\\u043e\\u043d\\u0438: \\u00ab\\u041e\\u0434\\u043d\\u0430 \\u0438\\u0437 \\u043d\\u0438\\u0445 \\u2014 \\u0440\\u0430\\u0437\\u0432\\u0438\\u0442\\u0438\\u0435 \\u043a\\u043e\\u0441\\u043c\\u0438\\u0447\\u0435\\u0441\\u043a\\u043e\\u0433\\u043e \\u0442\\u0443\\u0440\\u0438\\u0437\\u043c\\u0430, \\u0432\\u0442\\u043e\\u0440\\u0430\\u044f \\u2014 \\u0443\\u0447\\u0430\\u0441\\u0442\\u0432\\u043e\\u0432\\u0430\\u0442\\u044c \\u0432 \\u043d\\u0430\\u0443\\u0447\\u043d\\u044b\\u0445 \\u0438\\u0441\\u0441\\u043b\\u0435\\u0434\\u043e\\u0432\\u0430\\u043d\\u0438\\u044f\\u0445 \\u043d\\u0430 \\u041c\\u041a\\u0421, \\u0442\\u0440\\u0435\\u0442\\u044c\\u044f \\u2014 \\u0432\\u043e\\u0432\\u043b\\u0435\\u0447\\u0435\\u043d\\u0438\\u0435 \\u0434\\u0435\\u0442\\u0435\\u0439 \\u043a \\u043a\\u043e\\u0441\\u043c\\u0438\\u0447\\u0435\\u0441\\u043a\\u0438\\u043c \\u0438\\u0441\\u0441\\u043b\\u0435\\u0434\\u043e\\u0432\\u0430\\u043d\\u0438\\u044f\\u043c\\u00bb.\\n\\n\\u0421\\u0438\\u043c\\u043e\\u043d\\u0438 \\u043e\\u0440\\u0433\\u0430\\u043d\\u0438\\u0437\\u043e\\u0432\\u0430\\u043b \\u0418\\u043d\\u0442\\u0435\\u0440\\u043d\\u0435\\u0442 \\u0441\\u0442\\u0440\\u0430\\u043d\\u0438\\u0446\\u0443, \\u043f\\u043e\\u0441\\u0432\\u044f\\u0449\\u0451\\u043d\\u043d\\u0443\\u044e \\u0435\\u0433\\u043e \\u043f\\u043e\\u043b\\u0451\\u0442\\u0443: charlesinspace.com.\\n\\n\\u0421\\u0438\\u043c\\u043e\\u043d\\u0438\\u0438 \\u043f\\u043b\\u0430\\u043d\\u0438\\u0440\\u0443\\u0435\\u0442 \\u043f\\u043e\\u043b\\u043e\\u0436\\u0438\\u0442\\u044c \\u043d\\u0430\\u0447\\u0430\\u043b\\u043e \\u0441\\u043e\\u0437\\u0434\\u0430\\u043d\\u0438\\u044f \\u0431\\u0438\\u0431\\u043b\\u0438\\u043e\\u0442\\u0435\\u043a\\u0438 \\u043d\\u0430 \\u041c\\u041a\\u0421. \\u041f\\u0435\\u0440\\u0432\\u044b\\u043c \\u0432\\u043a\\u043b\\u0430\\u0434\\u043e\\u043c \\u0432 \\u0431\\u0438\\u0431\\u043b\\u0438\\u043e\\u0442\\u0435\\u043a\\u0443 \\u0431\\u0443\\u0434\\u0443\\u0442 \\u0440\\u043e\\u043c\\u0430\\u043d \\u0420\\u043e\\u0431\\u0435\\u0440\\u0442\\u0430 \\u0425\\u0430\\u0439\\u043d\\u043b\\u0430\\u0439\\u043d\\u0430 \\u00ab\\u041b\\u0443\\u043d\\u0430-\\u0441\\u0443\\u0440\\u043e\\u0432\\u0430\\u044f \\u0445\\u043e\\u0437\\u044f\\u0439\\u043a\\u0430\\u00bb \\u0438 \\u00ab\\u0424\\u0430\\u0443\\u0441\\u0442\\u00bb \\u0413\\u0451\\u0442\\u0435.\\n\\n\\u0421\\u043b\\u0435\\u0434\\u0443\\u044e\\u0449\\u0438\\u0435 \\u043f\\u044f\\u0442\\u044c \\u043c\\u0435\\u0441\\u044f\\u0446\\u0435\\u0432 \\u0421\\u0438\\u043c\\u043e\\u043d\\u0438 \\u043f\\u0440\\u043e\\u0432\\u0435\\u0434\\u0451\\u0442 \\u0432 \\u0417\\u0432\\u0451\\u0437\\u0434\\u043d\\u043e\\u043c \\u0433\\u043e\\u0440\\u043e\\u0434\\u043a\\u0435 \\u0438 \\u043d\\u0430 \\u0411\\u0430\\u0439\\u043a\\u043e\\u043d\\u0443\\u0440\\u0435, \\u0433\\u043e\\u0442\\u043e\\u0432\\u044f\\u0441\\u044c \\u043a \\u043f\\u043e\\u043b\\u0451\\u0442\\u0443.\\n\\n\\u0412 \\u043e\\u0442\\u043b\\u0438\\u0447\\u0438\\u0435 \\u043e\\u0442 \\u0441\\u0432\\u043e\\u0438\\u0445 \\u043f\\u0440\\u0435\\u0434\\u0448\\u0435\\u0441\\u0442\\u0432\\u0435\\u043d\\u043d\\u0438\\u043a\\u043e\\u0432, \\u0421\\u0438\\u043c\\u043e\\u043d\\u0438 \\u043b\\u0443\\u0447\\u0448\\u0435 \\u043f\\u043e\\u0434\\u0433\\u043e\\u0442\\u043e\\u0432\\u043b\\u0435\\u043d \\u043a \\u043a\\u043e\\u0441\\u043c\\u0438\\u0447\\u0435\\u0441\\u043a\\u043e\\u043c\\u0443 \\u043f\\u043e\\u043b\\u0451\\u0442\\u0443. \\u041e\\u043d \\u0438\\u043c\\u0435\\u0435\\u0442 \\u043b\\u0438\\u0446\\u0435\\u043d\\u0437\\u0438\\u044e \\u043b\\u0451\\u0442\\u0447\\u0438\\u043a\\u0430 \\u0440\\u0435\\u0430\\u043a\\u0442\\u0438\\u0432\\u043d\\u043e\\u0433\\u043e \\u0441\\u0430\\u043c\\u043e\\u043b\\u0451\\u0442\\u0430 \\u0438 \\u0432\\u0435\\u0440\\u0442\\u043e\\u043b\\u0451\\u0442\\u0430 \\u0438 \\u0438\\u043c\\u0435\\u0435\\u0442 \\u0431\\u043e\\u043b\\u0435\\u0435 2000 \\u0447\\u0430\\u0441\\u043e\\u0432 \\u043d\\u0430\\u043b\\u0451\\u0442\\u0430.\\n\\n\\u0414\\u043e\\u043a\\u0442\\u043e\\u0440 \\u0421\\u0438\\u043c\\u043e\\u043d\\u0438 \\u0442\\u0430\\u043a\\u0436\\u0435 \\u0441\\u0442\\u0440\\u0435\\u043c\\u0438\\u0442\\u0441\\u044f \\u0445\\u043e\\u0440\\u043e\\u0448\\u043e \\u0438\\u0437\\u0443\\u0447\\u0438\\u0442\\u044c \\u0440\\u0443\\u0441\\u0441\\u043a\\u0438\\u0439 \\u044f\\u0437\\u044b\\u043a \\u0438 \\u0441\\u0438\\u0441\\u0442\\u0435\\u043c\\u044b \\u043a\\u043e\\u0440\\u0430\\u0431\\u043b\\u044f \\u00ab\\u0421\\u043e\\u044e\\u0437\\u00bb. \\u00ab\\u042f \\u0441\\u0447\\u0438\\u0442\\u0430\\u044e \\u044d\\u0442\\u043e \\u043e\\u0442\\u043b\\u0438\\u0447\\u043d\\u0430\\u044f \\u0432\\u043e\\u0437\\u043c\\u043e\\u0436\\u043d\\u043e\\u0441\\u0442\\u044c, \\u0447\\u0442\\u043e\\u0431\\u044b \\u0438\\u0437\\u0443\\u0447\\u0438\\u0442\\u044c \\u044d\\u0442\\u0438 \\u0432\\u0435\\u0449\\u0438\\u00bb, \\u0441\\u043a\\u0430\\u0437\\u0430\\u043b \\u0421\\u0438\\u043c\\u043e\\u043d\\u0438.\\n\"\n        ],\n        \"semantic_type\": \"\",\n        \"description\": \"\"\n      }\n    },\n    {\n      \"column\": \"entity_type\",\n      \"properties\": {\n        \"dtype\": \"category\",\n        \"num_unique_values\": 3,\n        \"samples\": [\n          \"ORG\",\n          \"LOC\",\n          \"PER\"\n        ],\n        \"semantic_type\": \"\",\n        \"description\": \"\"\n      }\n    },\n    {\n      \"column\": \"start_pos\",\n      \"properties\": {\n        \"dtype\": \"date\",\n        \"min\": 0,\n        \"max\": 12898,\n        \"num_unique_values\": 3012,\n        \"samples\": [\n          1443,\n          1923,\n          1321\n        ],\n        \"semantic_type\": \"\",\n        \"description\": \"\"\n      }\n    },\n    {\n      \"column\": \"end_pos\",\n      \"properties\": {\n        \"dtype\": \"date\",\n        \"min\": 2,\n        \"max\": 12915,\n        \"num_unique_values\": 3019,\n        \"samples\": [\n          1262,\n          1372,\n          1429\n        ],\n        \"semantic_type\": \"\",\n        \"description\": \"\"\n      }\n    },\n    {\n      \"column\": \"entity_text\",\n      \"properties\": {\n        \"dtype\": \"category\",\n        \"num_unique_values\": 9899,\n        \"samples\": [\n          \"\\u0422\\u0435\\u0434 \\u041a\\u0440\\u0443\\u0437\",\n          \"AP\",\n          \"\\u0422\\u0432\\u0435\\u0440\\u0441\\u043a\\u043e\\u043c \\u0431\\u0443\\u043b\\u044c\\u0432\\u0430\\u0440\\u0435\"\n        ],\n        \"semantic_type\": \"\",\n        \"description\": \"\"\n      }\n    },\n    {\n      \"column\": \"length\",\n      \"properties\": {\n        \"dtype\": \"number\",\n        \"std\": 1501,\n        \"min\": 426,\n        \"max\": 12932,\n        \"num_unique_values\": 735,\n        \"samples\": [\n          1177,\n          2374,\n          1596\n        ],\n        \"semantic_type\": \"\",\n        \"description\": \"\"\n      }\n    }\n  ]\n}"
            }
          },
          "metadata": {},
          "execution_count": 35
        }
      ],
      "source": [
        "res_exploded"
      ]
    },
    {
      "cell_type": "code",
      "execution_count": null,
      "metadata": {
        "colab": {
          "base_uri": "https://localhost:8080/",
          "height": 227
        },
        "id": "k3XKQMDJvLVx",
        "outputId": "085461fa-6439-4a60-bb63-ac144b09ad8b"
      },
      "outputs": [
        {
          "output_type": "stream",
          "name": "stdout",
          "text": [
            "(20559, 6)\n"
          ]
        },
        {
          "output_type": "execute_result",
          "data": {
            "text/plain": [
              "entity_type\n",
              "PER    9092\n",
              "LOC    6424\n",
              "ORG    5043\n",
              "Name: count, dtype: int64"
            ],
            "text/html": [
              "<div>\n",
              "<style scoped>\n",
              "    .dataframe tbody tr th:only-of-type {\n",
              "        vertical-align: middle;\n",
              "    }\n",
              "\n",
              "    .dataframe tbody tr th {\n",
              "        vertical-align: top;\n",
              "    }\n",
              "\n",
              "    .dataframe thead th {\n",
              "        text-align: right;\n",
              "    }\n",
              "</style>\n",
              "<table border=\"1\" class=\"dataframe\">\n",
              "  <thead>\n",
              "    <tr style=\"text-align: right;\">\n",
              "      <th></th>\n",
              "      <th>count</th>\n",
              "    </tr>\n",
              "    <tr>\n",
              "      <th>entity_type</th>\n",
              "      <th></th>\n",
              "    </tr>\n",
              "  </thead>\n",
              "  <tbody>\n",
              "    <tr>\n",
              "      <th>PER</th>\n",
              "      <td>9092</td>\n",
              "    </tr>\n",
              "    <tr>\n",
              "      <th>LOC</th>\n",
              "      <td>6424</td>\n",
              "    </tr>\n",
              "    <tr>\n",
              "      <th>ORG</th>\n",
              "      <td>5043</td>\n",
              "    </tr>\n",
              "  </tbody>\n",
              "</table>\n",
              "</div><br><label><b>dtype:</b> int64</label>"
            ]
          },
          "metadata": {},
          "execution_count": 36
        }
      ],
      "source": [
        "print(res_exploded.shape)\n",
        "res_exploded['entity_type'].value_counts()"
      ]
    },
    {
      "cell_type": "markdown",
      "metadata": {
        "id": "gGy0Zxnavnht"
      },
      "source": [
        "Natasha, как видим, нашла нам 20559 сущностей, классифицировав их на PER, LOC и ORG."
      ]
    },
    {
      "cell_type": "markdown",
      "metadata": {
        "id": "TJD35iYqzGSI"
      },
      "source": [
        "Ещё раз взглянем на категории в исходном датасете"
      ]
    },
    {
      "cell_type": "code",
      "execution_count": null,
      "metadata": {
        "colab": {
          "base_uri": "https://localhost:8080/"
        },
        "id": "Uuh-RGDVzRoR",
        "outputId": "4e4e46c9-6e7e-40ad-f434-bf694d39ab93"
      },
      "outputs": [
        {
          "output_type": "execute_result",
          "data": {
            "text/plain": [
              "array(['COUNTRY', 'EVENT', 'PROFESSION', 'PERSON', 'ORGANIZATION',\n",
              "       'IDEOLOGY', 'DISTRICT', 'AGE', 'DATE', 'NUMBER',\n",
              "       'STATE_OR_PROVINCE', 'NATIONALITY', 'LAW', 'TIME', 'PENALTY',\n",
              "       'CRIME', 'MONEY', 'FACILITY', 'CITY', 'WORK_OF_ART', 'PRODUCT',\n",
              "       'ORDINAL', 'AWARD', 'LOCATION', 'DISEASE', 'LANGUAGE', 'PERCENT',\n",
              "       'RELIGION', 'FAMILY'], dtype=object)"
            ]
          },
          "metadata": {},
          "execution_count": 37
        }
      ],
      "source": [
        "train_without_overlaps['entity_type'].unique()"
      ]
    },
    {
      "cell_type": "markdown",
      "metadata": {
        "id": "3DhJPw85z3NH"
      },
      "source": [
        "Глянем (очень бегло) на сущности по категориям от natasha"
      ]
    },
    {
      "cell_type": "code",
      "execution_count": null,
      "metadata": {
        "colab": {
          "base_uri": "https://localhost:8080/",
          "height": 489
        },
        "id": "2ui8y9zryZ-a",
        "outputId": "184a076d-023f-4d76-cd78-ffeef09fdd46"
      },
      "outputs": [
        {
          "output_type": "execute_result",
          "data": {
            "text/plain": [
              "entity_text\n",
              "СМИ                                              141\n",
              "МВД                                               58\n",
              "ООН                                               52\n",
              "ИГ                                                51\n",
              "Facebook                                          48\n",
              "                                                ... \n",
              "Международного центра спортивных исследований      1\n",
              "Союз европейских футбольных ассоциаций (УЕФА)      1\n",
              "Университете Фрибурга                              1\n",
              "Азиатской федерации футбола                        1\n",
              "Книги рекордов Гиннеса                             1\n",
              "Name: count, Length: 2537, dtype: int64"
            ],
            "text/html": [
              "<div>\n",
              "<style scoped>\n",
              "    .dataframe tbody tr th:only-of-type {\n",
              "        vertical-align: middle;\n",
              "    }\n",
              "\n",
              "    .dataframe tbody tr th {\n",
              "        vertical-align: top;\n",
              "    }\n",
              "\n",
              "    .dataframe thead th {\n",
              "        text-align: right;\n",
              "    }\n",
              "</style>\n",
              "<table border=\"1\" class=\"dataframe\">\n",
              "  <thead>\n",
              "    <tr style=\"text-align: right;\">\n",
              "      <th></th>\n",
              "      <th>count</th>\n",
              "    </tr>\n",
              "    <tr>\n",
              "      <th>entity_text</th>\n",
              "      <th></th>\n",
              "    </tr>\n",
              "  </thead>\n",
              "  <tbody>\n",
              "    <tr>\n",
              "      <th>СМИ</th>\n",
              "      <td>141</td>\n",
              "    </tr>\n",
              "    <tr>\n",
              "      <th>МВД</th>\n",
              "      <td>58</td>\n",
              "    </tr>\n",
              "    <tr>\n",
              "      <th>ООН</th>\n",
              "      <td>52</td>\n",
              "    </tr>\n",
              "    <tr>\n",
              "      <th>ИГ</th>\n",
              "      <td>51</td>\n",
              "    </tr>\n",
              "    <tr>\n",
              "      <th>Facebook</th>\n",
              "      <td>48</td>\n",
              "    </tr>\n",
              "    <tr>\n",
              "      <th>...</th>\n",
              "      <td>...</td>\n",
              "    </tr>\n",
              "    <tr>\n",
              "      <th>Международного центра спортивных исследований</th>\n",
              "      <td>1</td>\n",
              "    </tr>\n",
              "    <tr>\n",
              "      <th>Союз европейских футбольных ассоциаций (УЕФА)</th>\n",
              "      <td>1</td>\n",
              "    </tr>\n",
              "    <tr>\n",
              "      <th>Университете Фрибурга</th>\n",
              "      <td>1</td>\n",
              "    </tr>\n",
              "    <tr>\n",
              "      <th>Азиатской федерации футбола</th>\n",
              "      <td>1</td>\n",
              "    </tr>\n",
              "    <tr>\n",
              "      <th>Книги рекордов Гиннеса</th>\n",
              "      <td>1</td>\n",
              "    </tr>\n",
              "  </tbody>\n",
              "</table>\n",
              "<p>2537 rows × 1 columns</p>\n",
              "</div><br><label><b>dtype:</b> int64</label>"
            ]
          },
          "metadata": {},
          "execution_count": 38
        }
      ],
      "source": [
        "res_exploded[res_exploded['entity_type']=='ORG'].entity_text.value_counts()"
      ]
    },
    {
      "cell_type": "markdown",
      "metadata": {
        "id": "Xb7Irx8_0Ksi"
      },
      "source": [
        "Вроде ничего примечательного."
      ]
    },
    {
      "cell_type": "code",
      "execution_count": null,
      "metadata": {
        "colab": {
          "base_uri": "https://localhost:8080/",
          "height": 489
        },
        "id": "vy26ZHrLy9dW",
        "outputId": "72dde70f-5be7-4b23-e37a-beee5808dbba"
      },
      "outputs": [
        {
          "output_type": "execute_result",
          "data": {
            "text/plain": [
              "entity_text\n",
              "США              433\n",
              "России           420\n",
              "РФ               202\n",
              "Москве           136\n",
              "Украины          104\n",
              "                ... \n",
              "Тегеране           1\n",
              "Мехрабад           1\n",
              "Новой Гвинее       1\n",
              "Сукарно Хатта      1\n",
              "Днестр             1\n",
              "Name: count, Length: 1957, dtype: int64"
            ],
            "text/html": [
              "<div>\n",
              "<style scoped>\n",
              "    .dataframe tbody tr th:only-of-type {\n",
              "        vertical-align: middle;\n",
              "    }\n",
              "\n",
              "    .dataframe tbody tr th {\n",
              "        vertical-align: top;\n",
              "    }\n",
              "\n",
              "    .dataframe thead th {\n",
              "        text-align: right;\n",
              "    }\n",
              "</style>\n",
              "<table border=\"1\" class=\"dataframe\">\n",
              "  <thead>\n",
              "    <tr style=\"text-align: right;\">\n",
              "      <th></th>\n",
              "      <th>count</th>\n",
              "    </tr>\n",
              "    <tr>\n",
              "      <th>entity_text</th>\n",
              "      <th></th>\n",
              "    </tr>\n",
              "  </thead>\n",
              "  <tbody>\n",
              "    <tr>\n",
              "      <th>США</th>\n",
              "      <td>433</td>\n",
              "    </tr>\n",
              "    <tr>\n",
              "      <th>России</th>\n",
              "      <td>420</td>\n",
              "    </tr>\n",
              "    <tr>\n",
              "      <th>РФ</th>\n",
              "      <td>202</td>\n",
              "    </tr>\n",
              "    <tr>\n",
              "      <th>Москве</th>\n",
              "      <td>136</td>\n",
              "    </tr>\n",
              "    <tr>\n",
              "      <th>Украины</th>\n",
              "      <td>104</td>\n",
              "    </tr>\n",
              "    <tr>\n",
              "      <th>...</th>\n",
              "      <td>...</td>\n",
              "    </tr>\n",
              "    <tr>\n",
              "      <th>Тегеране</th>\n",
              "      <td>1</td>\n",
              "    </tr>\n",
              "    <tr>\n",
              "      <th>Мехрабад</th>\n",
              "      <td>1</td>\n",
              "    </tr>\n",
              "    <tr>\n",
              "      <th>Новой Гвинее</th>\n",
              "      <td>1</td>\n",
              "    </tr>\n",
              "    <tr>\n",
              "      <th>Сукарно Хатта</th>\n",
              "      <td>1</td>\n",
              "    </tr>\n",
              "    <tr>\n",
              "      <th>Днестр</th>\n",
              "      <td>1</td>\n",
              "    </tr>\n",
              "  </tbody>\n",
              "</table>\n",
              "<p>1957 rows × 1 columns</p>\n",
              "</div><br><label><b>dtype:</b> int64</label>"
            ]
          },
          "metadata": {},
          "execution_count": 39
        }
      ],
      "source": [
        "res_exploded[res_exploded['entity_type']=='LOC'].entity_text.value_counts()"
      ]
    },
    {
      "cell_type": "markdown",
      "metadata": {
        "id": "dJvS-JRD0gq9"
      },
      "source": [
        "Вот тут понятно что надо маппить, здесь и города, и страны, и прочие топонимы"
      ]
    },
    {
      "cell_type": "code",
      "execution_count": null,
      "metadata": {
        "colab": {
          "base_uri": "https://localhost:8080/",
          "height": 489
        },
        "id": "w_IMoW6p0mKw",
        "outputId": "640c61d6-3cde-4352-e583-91783cd30c18"
      },
      "outputs": [
        {
          "output_type": "execute_result",
          "data": {
            "text/plain": [
              "entity_text\n",
              "Владимир Путин       81\n",
              "Барак Обама          27\n",
              "Путин                26\n",
              "Дмитрий Медведев     23\n",
              "Берлускони           22\n",
              "                     ..\n",
              "Алексея Дудки         1\n",
              "срокДанный            1\n",
              "Владимир Кулаков      1\n",
              "Генерал-полковник     1\n",
              "Неву                  1\n",
              "Name: count, Length: 5470, dtype: int64"
            ],
            "text/html": [
              "<div>\n",
              "<style scoped>\n",
              "    .dataframe tbody tr th:only-of-type {\n",
              "        vertical-align: middle;\n",
              "    }\n",
              "\n",
              "    .dataframe tbody tr th {\n",
              "        vertical-align: top;\n",
              "    }\n",
              "\n",
              "    .dataframe thead th {\n",
              "        text-align: right;\n",
              "    }\n",
              "</style>\n",
              "<table border=\"1\" class=\"dataframe\">\n",
              "  <thead>\n",
              "    <tr style=\"text-align: right;\">\n",
              "      <th></th>\n",
              "      <th>count</th>\n",
              "    </tr>\n",
              "    <tr>\n",
              "      <th>entity_text</th>\n",
              "      <th></th>\n",
              "    </tr>\n",
              "  </thead>\n",
              "  <tbody>\n",
              "    <tr>\n",
              "      <th>Владимир Путин</th>\n",
              "      <td>81</td>\n",
              "    </tr>\n",
              "    <tr>\n",
              "      <th>Барак Обама</th>\n",
              "      <td>27</td>\n",
              "    </tr>\n",
              "    <tr>\n",
              "      <th>Путин</th>\n",
              "      <td>26</td>\n",
              "    </tr>\n",
              "    <tr>\n",
              "      <th>Дмитрий Медведев</th>\n",
              "      <td>23</td>\n",
              "    </tr>\n",
              "    <tr>\n",
              "      <th>Берлускони</th>\n",
              "      <td>22</td>\n",
              "    </tr>\n",
              "    <tr>\n",
              "      <th>...</th>\n",
              "      <td>...</td>\n",
              "    </tr>\n",
              "    <tr>\n",
              "      <th>Алексея Дудки</th>\n",
              "      <td>1</td>\n",
              "    </tr>\n",
              "    <tr>\n",
              "      <th>срокДанный</th>\n",
              "      <td>1</td>\n",
              "    </tr>\n",
              "    <tr>\n",
              "      <th>Владимир Кулаков</th>\n",
              "      <td>1</td>\n",
              "    </tr>\n",
              "    <tr>\n",
              "      <th>Генерал-полковник</th>\n",
              "      <td>1</td>\n",
              "    </tr>\n",
              "    <tr>\n",
              "      <th>Неву</th>\n",
              "      <td>1</td>\n",
              "    </tr>\n",
              "  </tbody>\n",
              "</table>\n",
              "<p>5470 rows × 1 columns</p>\n",
              "</div><br><label><b>dtype:</b> int64</label>"
            ]
          },
          "metadata": {},
          "execution_count": 40
        }
      ],
      "source": [
        "res_exploded[res_exploded['entity_type']=='PER'].entity_text.value_counts()"
      ]
    },
    {
      "cell_type": "markdown",
      "metadata": {
        "id": "eHpGx_ia0qHq"
      },
      "source": [
        "Категории по людям вроде как и организации маппятся однозначно"
      ]
    },
    {
      "cell_type": "code",
      "execution_count": null,
      "metadata": {
        "colab": {
          "base_uri": "https://localhost:8080/",
          "height": 423
        },
        "id": "Y7POWWkb8jnd",
        "outputId": "f88fc84d-2054-4966-f55a-30eaf95cd36e"
      },
      "outputs": [
        {
          "output_type": "execute_result",
          "data": {
            "text/plain": [
              "                                                    text   entity_type  \\\n",
              "0      \\n\\nПалестинские СМИ прокомментировали отставк...       COUNTRY   \n",
              "1      \\n\\nПалестинские СМИ прокомментировали отставк...         EVENT   \n",
              "2      \\n\\nПалестинские СМИ прокомментировали отставк...    PROFESSION   \n",
              "5      \\n\\nПалестинские СМИ прокомментировали отставк...        PERSON   \n",
              "6      \\n\\nПалестинские СМИ прокомментировали отставк...  ORGANIZATION   \n",
              "...                                                  ...           ...   \n",
              "56250  Ярослав Песков: очередной заплыв не за горами\\...      LOCATION   \n",
              "56251  Ярослав Песков: очередной заплыв не за горами\\...        PERSON   \n",
              "56252  Ярослав Песков: очередной заплыв не за горами\\...      LOCATION   \n",
              "56253  Ярослав Песков: очередной заплыв не за горами\\...      LOCATION   \n",
              "56254  Ярослав Песков: очередной заплыв не за горами\\...      LOCATION   \n",
              "\n",
              "       start_pos  end_pos               entity_text  length  word_count  \\\n",
              "0              2       14              Палестинские  1252.0       158.0   \n",
              "1             37       45                  отставку  1252.0       158.0   \n",
              "2             46       70  министра обороны Израиля  1252.0       158.0   \n",
              "5             71       83              Эхуда Барака  1252.0       158.0   \n",
              "6            190      195                     Хамас  1252.0       158.0   \n",
              "...          ...      ...                       ...     ...         ...   \n",
              "56250        785      791                    Енисея   872.0       122.0   \n",
              "56251        800      806                    Песков   872.0       122.0   \n",
              "56252        848      852                      Неву   872.0       122.0   \n",
              "56253        854      860                    Днестр   872.0       122.0   \n",
              "56254        863      870                   Ла-Манш   872.0       122.0   \n",
              "\n",
              "      mapped_entity_type  \n",
              "0                    LOC  \n",
              "1                  EVENT  \n",
              "2             PROFESSION  \n",
              "5                    PER  \n",
              "6                    ORG  \n",
              "...                  ...  \n",
              "56250                LOC  \n",
              "56251                PER  \n",
              "56252                LOC  \n",
              "56253                LOC  \n",
              "56254                LOC  \n",
              "\n",
              "[46054 rows x 8 columns]"
            ],
            "text/html": [
              "\n",
              "  <div id=\"df-3b7fffd3-d0c4-4b78-9668-8a86222273c2\" class=\"colab-df-container\">\n",
              "    <div>\n",
              "<style scoped>\n",
              "    .dataframe tbody tr th:only-of-type {\n",
              "        vertical-align: middle;\n",
              "    }\n",
              "\n",
              "    .dataframe tbody tr th {\n",
              "        vertical-align: top;\n",
              "    }\n",
              "\n",
              "    .dataframe thead th {\n",
              "        text-align: right;\n",
              "    }\n",
              "</style>\n",
              "<table border=\"1\" class=\"dataframe\">\n",
              "  <thead>\n",
              "    <tr style=\"text-align: right;\">\n",
              "      <th></th>\n",
              "      <th>text</th>\n",
              "      <th>entity_type</th>\n",
              "      <th>start_pos</th>\n",
              "      <th>end_pos</th>\n",
              "      <th>entity_text</th>\n",
              "      <th>length</th>\n",
              "      <th>word_count</th>\n",
              "      <th>mapped_entity_type</th>\n",
              "    </tr>\n",
              "  </thead>\n",
              "  <tbody>\n",
              "    <tr>\n",
              "      <th>0</th>\n",
              "      <td>\\n\\nПалестинские СМИ прокомментировали отставк...</td>\n",
              "      <td>COUNTRY</td>\n",
              "      <td>2</td>\n",
              "      <td>14</td>\n",
              "      <td>Палестинские</td>\n",
              "      <td>1252.0</td>\n",
              "      <td>158.0</td>\n",
              "      <td>LOC</td>\n",
              "    </tr>\n",
              "    <tr>\n",
              "      <th>1</th>\n",
              "      <td>\\n\\nПалестинские СМИ прокомментировали отставк...</td>\n",
              "      <td>EVENT</td>\n",
              "      <td>37</td>\n",
              "      <td>45</td>\n",
              "      <td>отставку</td>\n",
              "      <td>1252.0</td>\n",
              "      <td>158.0</td>\n",
              "      <td>EVENT</td>\n",
              "    </tr>\n",
              "    <tr>\n",
              "      <th>2</th>\n",
              "      <td>\\n\\nПалестинские СМИ прокомментировали отставк...</td>\n",
              "      <td>PROFESSION</td>\n",
              "      <td>46</td>\n",
              "      <td>70</td>\n",
              "      <td>министра обороны Израиля</td>\n",
              "      <td>1252.0</td>\n",
              "      <td>158.0</td>\n",
              "      <td>PROFESSION</td>\n",
              "    </tr>\n",
              "    <tr>\n",
              "      <th>5</th>\n",
              "      <td>\\n\\nПалестинские СМИ прокомментировали отставк...</td>\n",
              "      <td>PERSON</td>\n",
              "      <td>71</td>\n",
              "      <td>83</td>\n",
              "      <td>Эхуда Барака</td>\n",
              "      <td>1252.0</td>\n",
              "      <td>158.0</td>\n",
              "      <td>PER</td>\n",
              "    </tr>\n",
              "    <tr>\n",
              "      <th>6</th>\n",
              "      <td>\\n\\nПалестинские СМИ прокомментировали отставк...</td>\n",
              "      <td>ORGANIZATION</td>\n",
              "      <td>190</td>\n",
              "      <td>195</td>\n",
              "      <td>Хамас</td>\n",
              "      <td>1252.0</td>\n",
              "      <td>158.0</td>\n",
              "      <td>ORG</td>\n",
              "    </tr>\n",
              "    <tr>\n",
              "      <th>...</th>\n",
              "      <td>...</td>\n",
              "      <td>...</td>\n",
              "      <td>...</td>\n",
              "      <td>...</td>\n",
              "      <td>...</td>\n",
              "      <td>...</td>\n",
              "      <td>...</td>\n",
              "      <td>...</td>\n",
              "    </tr>\n",
              "    <tr>\n",
              "      <th>56250</th>\n",
              "      <td>Ярослав Песков: очередной заплыв не за горами\\...</td>\n",
              "      <td>LOCATION</td>\n",
              "      <td>785</td>\n",
              "      <td>791</td>\n",
              "      <td>Енисея</td>\n",
              "      <td>872.0</td>\n",
              "      <td>122.0</td>\n",
              "      <td>LOC</td>\n",
              "    </tr>\n",
              "    <tr>\n",
              "      <th>56251</th>\n",
              "      <td>Ярослав Песков: очередной заплыв не за горами\\...</td>\n",
              "      <td>PERSON</td>\n",
              "      <td>800</td>\n",
              "      <td>806</td>\n",
              "      <td>Песков</td>\n",
              "      <td>872.0</td>\n",
              "      <td>122.0</td>\n",
              "      <td>PER</td>\n",
              "    </tr>\n",
              "    <tr>\n",
              "      <th>56252</th>\n",
              "      <td>Ярослав Песков: очередной заплыв не за горами\\...</td>\n",
              "      <td>LOCATION</td>\n",
              "      <td>848</td>\n",
              "      <td>852</td>\n",
              "      <td>Неву</td>\n",
              "      <td>872.0</td>\n",
              "      <td>122.0</td>\n",
              "      <td>LOC</td>\n",
              "    </tr>\n",
              "    <tr>\n",
              "      <th>56253</th>\n",
              "      <td>Ярослав Песков: очередной заплыв не за горами\\...</td>\n",
              "      <td>LOCATION</td>\n",
              "      <td>854</td>\n",
              "      <td>860</td>\n",
              "      <td>Днестр</td>\n",
              "      <td>872.0</td>\n",
              "      <td>122.0</td>\n",
              "      <td>LOC</td>\n",
              "    </tr>\n",
              "    <tr>\n",
              "      <th>56254</th>\n",
              "      <td>Ярослав Песков: очередной заплыв не за горами\\...</td>\n",
              "      <td>LOCATION</td>\n",
              "      <td>863</td>\n",
              "      <td>870</td>\n",
              "      <td>Ла-Манш</td>\n",
              "      <td>872.0</td>\n",
              "      <td>122.0</td>\n",
              "      <td>LOC</td>\n",
              "    </tr>\n",
              "  </tbody>\n",
              "</table>\n",
              "<p>46054 rows × 8 columns</p>\n",
              "</div>\n",
              "    <div class=\"colab-df-buttons\">\n",
              "\n",
              "  <div class=\"colab-df-container\">\n",
              "    <button class=\"colab-df-convert\" onclick=\"convertToInteractive('df-3b7fffd3-d0c4-4b78-9668-8a86222273c2')\"\n",
              "            title=\"Convert this dataframe to an interactive table.\"\n",
              "            style=\"display:none;\">\n",
              "\n",
              "  <svg xmlns=\"http://www.w3.org/2000/svg\" height=\"24px\" viewBox=\"0 -960 960 960\">\n",
              "    <path d=\"M120-120v-720h720v720H120Zm60-500h600v-160H180v160Zm220 220h160v-160H400v160Zm0 220h160v-160H400v160ZM180-400h160v-160H180v160Zm440 0h160v-160H620v160ZM180-180h160v-160H180v160Zm440 0h160v-160H620v160Z\"/>\n",
              "  </svg>\n",
              "    </button>\n",
              "\n",
              "  <style>\n",
              "    .colab-df-container {\n",
              "      display:flex;\n",
              "      gap: 12px;\n",
              "    }\n",
              "\n",
              "    .colab-df-convert {\n",
              "      background-color: #E8F0FE;\n",
              "      border: none;\n",
              "      border-radius: 50%;\n",
              "      cursor: pointer;\n",
              "      display: none;\n",
              "      fill: #1967D2;\n",
              "      height: 32px;\n",
              "      padding: 0 0 0 0;\n",
              "      width: 32px;\n",
              "    }\n",
              "\n",
              "    .colab-df-convert:hover {\n",
              "      background-color: #E2EBFA;\n",
              "      box-shadow: 0px 1px 2px rgba(60, 64, 67, 0.3), 0px 1px 3px 1px rgba(60, 64, 67, 0.15);\n",
              "      fill: #174EA6;\n",
              "    }\n",
              "\n",
              "    .colab-df-buttons div {\n",
              "      margin-bottom: 4px;\n",
              "    }\n",
              "\n",
              "    [theme=dark] .colab-df-convert {\n",
              "      background-color: #3B4455;\n",
              "      fill: #D2E3FC;\n",
              "    }\n",
              "\n",
              "    [theme=dark] .colab-df-convert:hover {\n",
              "      background-color: #434B5C;\n",
              "      box-shadow: 0px 1px 3px 1px rgba(0, 0, 0, 0.15);\n",
              "      filter: drop-shadow(0px 1px 2px rgba(0, 0, 0, 0.3));\n",
              "      fill: #FFFFFF;\n",
              "    }\n",
              "  </style>\n",
              "\n",
              "    <script>\n",
              "      const buttonEl =\n",
              "        document.querySelector('#df-3b7fffd3-d0c4-4b78-9668-8a86222273c2 button.colab-df-convert');\n",
              "      buttonEl.style.display =\n",
              "        google.colab.kernel.accessAllowed ? 'block' : 'none';\n",
              "\n",
              "      async function convertToInteractive(key) {\n",
              "        const element = document.querySelector('#df-3b7fffd3-d0c4-4b78-9668-8a86222273c2');\n",
              "        const dataTable =\n",
              "          await google.colab.kernel.invokeFunction('convertToInteractive',\n",
              "                                                    [key], {});\n",
              "        if (!dataTable) return;\n",
              "\n",
              "        const docLinkHtml = 'Like what you see? Visit the ' +\n",
              "          '<a target=\"_blank\" href=https://colab.research.google.com/notebooks/data_table.ipynb>data table notebook</a>'\n",
              "          + ' to learn more about interactive tables.';\n",
              "        element.innerHTML = '';\n",
              "        dataTable['output_type'] = 'display_data';\n",
              "        await google.colab.output.renderOutput(dataTable, element);\n",
              "        const docLink = document.createElement('div');\n",
              "        docLink.innerHTML = docLinkHtml;\n",
              "        element.appendChild(docLink);\n",
              "      }\n",
              "    </script>\n",
              "  </div>\n",
              "\n",
              "\n",
              "<div id=\"df-e850599c-8d3d-42e0-a9ae-bfaab9e32d79\">\n",
              "  <button class=\"colab-df-quickchart\" onclick=\"quickchart('df-e850599c-8d3d-42e0-a9ae-bfaab9e32d79')\"\n",
              "            title=\"Suggest charts\"\n",
              "            style=\"display:none;\">\n",
              "\n",
              "<svg xmlns=\"http://www.w3.org/2000/svg\" height=\"24px\"viewBox=\"0 0 24 24\"\n",
              "     width=\"24px\">\n",
              "    <g>\n",
              "        <path d=\"M19 3H5c-1.1 0-2 .9-2 2v14c0 1.1.9 2 2 2h14c1.1 0 2-.9 2-2V5c0-1.1-.9-2-2-2zM9 17H7v-7h2v7zm4 0h-2V7h2v10zm4 0h-2v-4h2v4z\"/>\n",
              "    </g>\n",
              "</svg>\n",
              "  </button>\n",
              "\n",
              "<style>\n",
              "  .colab-df-quickchart {\n",
              "      --bg-color: #E8F0FE;\n",
              "      --fill-color: #1967D2;\n",
              "      --hover-bg-color: #E2EBFA;\n",
              "      --hover-fill-color: #174EA6;\n",
              "      --disabled-fill-color: #AAA;\n",
              "      --disabled-bg-color: #DDD;\n",
              "  }\n",
              "\n",
              "  [theme=dark] .colab-df-quickchart {\n",
              "      --bg-color: #3B4455;\n",
              "      --fill-color: #D2E3FC;\n",
              "      --hover-bg-color: #434B5C;\n",
              "      --hover-fill-color: #FFFFFF;\n",
              "      --disabled-bg-color: #3B4455;\n",
              "      --disabled-fill-color: #666;\n",
              "  }\n",
              "\n",
              "  .colab-df-quickchart {\n",
              "    background-color: var(--bg-color);\n",
              "    border: none;\n",
              "    border-radius: 50%;\n",
              "    cursor: pointer;\n",
              "    display: none;\n",
              "    fill: var(--fill-color);\n",
              "    height: 32px;\n",
              "    padding: 0;\n",
              "    width: 32px;\n",
              "  }\n",
              "\n",
              "  .colab-df-quickchart:hover {\n",
              "    background-color: var(--hover-bg-color);\n",
              "    box-shadow: 0 1px 2px rgba(60, 64, 67, 0.3), 0 1px 3px 1px rgba(60, 64, 67, 0.15);\n",
              "    fill: var(--button-hover-fill-color);\n",
              "  }\n",
              "\n",
              "  .colab-df-quickchart-complete:disabled,\n",
              "  .colab-df-quickchart-complete:disabled:hover {\n",
              "    background-color: var(--disabled-bg-color);\n",
              "    fill: var(--disabled-fill-color);\n",
              "    box-shadow: none;\n",
              "  }\n",
              "\n",
              "  .colab-df-spinner {\n",
              "    border: 2px solid var(--fill-color);\n",
              "    border-color: transparent;\n",
              "    border-bottom-color: var(--fill-color);\n",
              "    animation:\n",
              "      spin 1s steps(1) infinite;\n",
              "  }\n",
              "\n",
              "  @keyframes spin {\n",
              "    0% {\n",
              "      border-color: transparent;\n",
              "      border-bottom-color: var(--fill-color);\n",
              "      border-left-color: var(--fill-color);\n",
              "    }\n",
              "    20% {\n",
              "      border-color: transparent;\n",
              "      border-left-color: var(--fill-color);\n",
              "      border-top-color: var(--fill-color);\n",
              "    }\n",
              "    30% {\n",
              "      border-color: transparent;\n",
              "      border-left-color: var(--fill-color);\n",
              "      border-top-color: var(--fill-color);\n",
              "      border-right-color: var(--fill-color);\n",
              "    }\n",
              "    40% {\n",
              "      border-color: transparent;\n",
              "      border-right-color: var(--fill-color);\n",
              "      border-top-color: var(--fill-color);\n",
              "    }\n",
              "    60% {\n",
              "      border-color: transparent;\n",
              "      border-right-color: var(--fill-color);\n",
              "    }\n",
              "    80% {\n",
              "      border-color: transparent;\n",
              "      border-right-color: var(--fill-color);\n",
              "      border-bottom-color: var(--fill-color);\n",
              "    }\n",
              "    90% {\n",
              "      border-color: transparent;\n",
              "      border-bottom-color: var(--fill-color);\n",
              "    }\n",
              "  }\n",
              "</style>\n",
              "\n",
              "  <script>\n",
              "    async function quickchart(key) {\n",
              "      const quickchartButtonEl =\n",
              "        document.querySelector('#' + key + ' button');\n",
              "      quickchartButtonEl.disabled = true;  // To prevent multiple clicks.\n",
              "      quickchartButtonEl.classList.add('colab-df-spinner');\n",
              "      try {\n",
              "        const charts = await google.colab.kernel.invokeFunction(\n",
              "            'suggestCharts', [key], {});\n",
              "      } catch (error) {\n",
              "        console.error('Error during call to suggestCharts:', error);\n",
              "      }\n",
              "      quickchartButtonEl.classList.remove('colab-df-spinner');\n",
              "      quickchartButtonEl.classList.add('colab-df-quickchart-complete');\n",
              "    }\n",
              "    (() => {\n",
              "      let quickchartButtonEl =\n",
              "        document.querySelector('#df-e850599c-8d3d-42e0-a9ae-bfaab9e32d79 button');\n",
              "      quickchartButtonEl.style.display =\n",
              "        google.colab.kernel.accessAllowed ? 'block' : 'none';\n",
              "    })();\n",
              "  </script>\n",
              "</div>\n",
              "\n",
              "  <div id=\"id_297cfcc0-9562-48f1-8bc3-03ba1b890946\">\n",
              "    <style>\n",
              "      .colab-df-generate {\n",
              "        background-color: #E8F0FE;\n",
              "        border: none;\n",
              "        border-radius: 50%;\n",
              "        cursor: pointer;\n",
              "        display: none;\n",
              "        fill: #1967D2;\n",
              "        height: 32px;\n",
              "        padding: 0 0 0 0;\n",
              "        width: 32px;\n",
              "      }\n",
              "\n",
              "      .colab-df-generate:hover {\n",
              "        background-color: #E2EBFA;\n",
              "        box-shadow: 0px 1px 2px rgba(60, 64, 67, 0.3), 0px 1px 3px 1px rgba(60, 64, 67, 0.15);\n",
              "        fill: #174EA6;\n",
              "      }\n",
              "\n",
              "      [theme=dark] .colab-df-generate {\n",
              "        background-color: #3B4455;\n",
              "        fill: #D2E3FC;\n",
              "      }\n",
              "\n",
              "      [theme=dark] .colab-df-generate:hover {\n",
              "        background-color: #434B5C;\n",
              "        box-shadow: 0px 1px 3px 1px rgba(0, 0, 0, 0.15);\n",
              "        filter: drop-shadow(0px 1px 2px rgba(0, 0, 0, 0.3));\n",
              "        fill: #FFFFFF;\n",
              "      }\n",
              "    </style>\n",
              "    <button class=\"colab-df-generate\" onclick=\"generateWithVariable('train_without_overlaps')\"\n",
              "            title=\"Generate code using this dataframe.\"\n",
              "            style=\"display:none;\">\n",
              "\n",
              "  <svg xmlns=\"http://www.w3.org/2000/svg\" height=\"24px\"viewBox=\"0 0 24 24\"\n",
              "       width=\"24px\">\n",
              "    <path d=\"M7,19H8.4L18.45,9,17,7.55,7,17.6ZM5,21V16.75L18.45,3.32a2,2,0,0,1,2.83,0l1.4,1.43a1.91,1.91,0,0,1,.58,1.4,1.91,1.91,0,0,1-.58,1.4L9.25,21ZM18.45,9,17,7.55Zm-12,3A5.31,5.31,0,0,0,4.9,8.1,5.31,5.31,0,0,0,1,6.5,5.31,5.31,0,0,0,4.9,4.9,5.31,5.31,0,0,0,6.5,1,5.31,5.31,0,0,0,8.1,4.9,5.31,5.31,0,0,0,12,6.5,5.46,5.46,0,0,0,6.5,12Z\"/>\n",
              "  </svg>\n",
              "    </button>\n",
              "    <script>\n",
              "      (() => {\n",
              "      const buttonEl =\n",
              "        document.querySelector('#id_297cfcc0-9562-48f1-8bc3-03ba1b890946 button.colab-df-generate');\n",
              "      buttonEl.style.display =\n",
              "        google.colab.kernel.accessAllowed ? 'block' : 'none';\n",
              "\n",
              "      buttonEl.onclick = () => {\n",
              "        google.colab.notebook.generateWithVariable('train_without_overlaps');\n",
              "      }\n",
              "      })();\n",
              "    </script>\n",
              "  </div>\n",
              "\n",
              "    </div>\n",
              "  </div>\n"
            ],
            "application/vnd.google.colaboratory.intrinsic+json": {
              "type": "dataframe",
              "variable_name": "train_without_overlaps",
              "summary": "{\n  \"name\": \"train_without_overlaps\",\n  \"rows\": 46054,\n  \"fields\": [\n    {\n      \"column\": \"text\",\n      \"properties\": {\n        \"dtype\": \"category\",\n        \"num_unique_values\": 933,\n        \"samples\": [\n          \"\\u0423\\u043c\\u0435\\u0440 \\u0424\\u0438\\u0434\\u0435\\u043b\\u044c \\u041a\\u0430\\u0441\\u0442\\u0440\\u043e\\n\\n\\u0424\\u0438\\u0434\\u0435\\u043b\\u044c \\u041a\\u0430\\u0441\\u0442\\u0440\\u043e\\n26 \\u043d\\u043e\\u044f\\u0431\\u0440\\u044f 2016 \\u0433\\u043e\\u0434\\u0430 \\u0443\\u043c\\u0435\\u0440 \\u043b\\u0438\\u0434\\u0435\\u0440 \\u043a\\u0443\\u0431\\u0438\\u043d\\u0441\\u043a\\u043e\\u0439 \\u0440\\u0435\\u0432\\u043e\\u043b\\u044e\\u0446\\u0438\\u0438 \\u0424\\u0438\\u0434\\u0435\\u043b\\u044c \\u041a\\u0430\\u0441\\u0442\\u0440\\u043e. \\u041d\\u0430 \\u043c\\u043e\\u043c\\u0435\\u043d\\u0442 \\u0441\\u043c\\u0435\\u0440\\u0442\\u0438 \\u0435\\u043c\\u0443 \\u0431\\u044b\\u043b\\u043e 90 \\u043b\\u0435\\u0442.\\n\\n\\u041e\\u0431 \\u044d\\u0442\\u043e\\u043c \\u0441\\u043e\\u043e\\u0431\\u0449\\u0438\\u043b \\u0435\\u0433\\u043e \\u0431\\u0440\\u0430\\u0442 \\u0420\\u0430\\u0443\\u043b\\u044c \\u041a\\u0430\\u0441\\u0442\\u0440\\u043e, \\u043f\\u0440\\u0435\\u0434\\u0441\\u0435\\u0434\\u0430\\u0442\\u0435\\u043b\\u044c \\u0413\\u043e\\u0441\\u0443\\u0434\\u0430\\u0440\\u0441\\u0442\\u0432\\u0435\\u043d\\u043d\\u043e\\u0433\\u043e \\u0441\\u043e\\u0432\\u0435\\u0442\\u0430 \\u041a\\u0443\\u0431\\u044b, \\u0432 \\u044d\\u0444\\u0438\\u0440\\u0435 \\u0433\\u043e\\u0441\\u0443\\u0434\\u0430\\u0440\\u0441\\u0442\\u0432\\u0435\\u043d\\u043d\\u043e\\u0433\\u043e \\u0442\\u0435\\u043b\\u0435\\u0432\\u0438\\u0434\\u0435\\u043d\\u0438\\u044f. \\u041f\\u043e \\u0435\\u0433\\u043e \\u0441\\u043e\\u043e\\u0431\\u0449\\u0435\\u043d\\u0438\\u044e, \\u0424\\u0438\\u0434\\u0435\\u043b\\u044c \\u0443\\u043c\\u0435\\u0440 \\u0432 19:00 25 \\u043d\\u043e\\u044f\\u0431\\u0440\\u044f 2016 \\u0433\\u043e\\u0434\\u0430 (3:00 \\u043f\\u043e \\u043c\\u043e\\u0441\\u043a\\u043e\\u0432\\u0441\\u043a\\u043e\\u043c\\u0443 \\u0432\\u0440\\u0435\\u043c\\u0435\\u043d\\u0438).\\n\\n\\u0412 \\u0430\\u043f\\u0440\\u0435\\u043b\\u0435 \\u0424\\u0438\\u0434\\u0435\\u043b\\u044c \\u041a\\u0430\\u0441\\u0442\\u0440\\u043e \\u0432\\u044b\\u0441\\u0442\\u0443\\u043f\\u0438\\u043b \\u0441 \\u0440\\u0435\\u0447\\u044c\\u044e:\\n\\n\\n\\u0424\\u0438\\u0434\\u0435\\u043b\\u044c \\u0410\\u043b\\u0435\\u0445\\u0430\\u043d\\u0434\\u0440\\u043e \\u041a\\u0430\\u0441\\u0442\\u0440\\u043e \\u0420\\u0443\\u0441 \\u0440\\u043e\\u0434\\u0438\\u043b\\u0441\\u044f 13 \\u0430\\u0432\\u0433\\u0443\\u0441\\u0442\\u0430 1926 \\u0433\\u043e\\u0434\\u0430 \\u0432 \\u0411\\u0438\\u0440\\u0430\\u043d\\u0435, \\u041a\\u0443\\u0431\\u0430 \\u0432 \\u0441\\u0435\\u043c\\u044c\\u0435 \\u043a\\u0440\\u0443\\u043f\\u043d\\u043e\\u0433\\u043e \\u0437\\u0435\\u043c\\u043b\\u0435\\u0432\\u043b\\u0430\\u0434\\u0435\\u043b\\u044c\\u0446\\u0430. \\u0412\\u043e \\u0432\\u0440\\u0435\\u043c\\u044f \\u0443\\u0447\\u0451\\u0431\\u044b \\u043d\\u0430 \\u044e\\u0440\\u0438\\u0434\\u0438\\u0447\\u0435\\u0441\\u043a\\u043e\\u043c \\u0444\\u0430\\u043a\\u0443\\u043b\\u044c\\u0442\\u0435\\u0442\\u0435 \\u0413\\u0430\\u0432\\u0430\\u043d\\u0441\\u043a\\u043e\\u0433\\u043e \\u0443\\u043d\\u0438\\u0432\\u0435\\u0440\\u0441\\u0438\\u0442\\u0435\\u0442\\u0430 \\u041a\\u0430\\u0441\\u0442\\u0440\\u043e \\u043f\\u0440\\u0438\\u043e\\u0431\\u0440\\u0451\\u043b \\u043b\\u0435\\u0432\\u044b\\u0435 \\u0430\\u043d\\u0442\\u0438\\u0438\\u043c\\u043f\\u0435\\u0440\\u0438\\u0430\\u043b\\u0438\\u0441\\u0442\\u0438\\u0447\\u0435\\u0441\\u043a\\u0438\\u0435 \\u0432\\u0437\\u0433\\u043b\\u044f\\u0434\\u044b. \\u0412 1954 \\u0433\\u043e\\u0434\\u0443 \\u0441\\u043e\\u0432\\u043c\\u0435\\u0441\\u0442\\u043d\\u043e \\u0441 \\u0427\\u0435 \\u0413\\u0435\\u0432\\u0430\\u0440\\u043e\\u0439 \\u0438 \\u0441\\u0432\\u043e\\u0438\\u043c \\u0431\\u0440\\u0430\\u0442\\u043e\\u043c \\u0420\\u0430\\u0443\\u043b\\u0435\\u043c \\u043e\\u0440\\u0433\\u0430\\u043d\\u0438\\u0437\\u043e\\u0432\\u0430\\u043b \\u0440\\u0435\\u0432\\u043e\\u043b\\u044e\\u0446\\u0438\\u043e\\u043d\\u043d\\u043e\\u0435 \\u0414\\u0432\\u0438\\u0436\\u0435\\u043d\\u0438\\u0435 26 \\u0438\\u044e\\u043b\\u044f. \\u0412\\u0435\\u0440\\u043d\\u0443\\u0432\\u0448\\u0438\\u0441\\u044c \\u043d\\u0430 \\u041a\\u0443\\u0431\\u0443, \\u043e\\u043d \\u0432\\u043e\\u0437\\u0433\\u043b\\u0430\\u0432\\u0438\\u043b \\u043f\\u0430\\u0440\\u0442\\u0438\\u0437\\u0430\\u043d\\u0441\\u043a\\u0443\\u044e \\u0432\\u043e\\u0439\\u043d\\u0443 \\u043f\\u0440\\u043e\\u0442\\u0438\\u0432 \\u0440\\u0435\\u0436\\u0438\\u043c\\u0430 \\u0411\\u0430\\u0442\\u0438\\u0441\\u0442\\u044b. \\u0412 1959 \\u0433\\u043e\\u0434\\u0443 \\u0440\\u0435\\u0432\\u043e\\u043b\\u044e\\u0446\\u0438\\u043e\\u043d\\u0435\\u0440\\u044b \\u043f\\u0440\\u0438\\u0448\\u043b\\u0438 \\u043a \\u0432\\u043b\\u0430\\u0441\\u0442\\u0438. \\u0412 1961 \\u0433\\u043e\\u0434\\u0443 \\u0421\\u0428\\u0410 \\u043f\\u0440\\u0435\\u0434\\u043f\\u0440\\u0438\\u043d\\u044f\\u043b\\u0438 \\u043f\\u043e\\u043f\\u044b\\u0442\\u043a\\u0443 \\u0441\\u0432\\u0435\\u0440\\u0436\\u0435\\u043d\\u0438\\u044f \\u041a\\u0430\\u0441\\u0442\\u0440\\u043e, \\u043e\\u0434\\u043d\\u0430\\u043a\\u043e \\u0432\\u044b\\u0441\\u0430\\u0434\\u043a\\u0430 \\u0432 \\u0417\\u0430\\u043b\\u0438\\u0432\\u0435 \\u0421\\u0432\\u0438\\u043d\\u0435\\u0439 \\u0437\\u0430\\u0432\\u0435\\u0440\\u0448\\u0438\\u043b\\u0430\\u0441\\u044c \\u0443\\u043d\\u0438\\u0447\\u0442\\u043e\\u0436\\u0435\\u043d\\u0438\\u0435\\u043c \\u0434\\u0435\\u0441\\u0430\\u043d\\u0442\\u0430.\\n\\n\\u0412 1961 \\u0433\\u043e\\u0434\\u0443 \\u041a\\u0430\\u0441\\u0442\\u0440\\u043e \\u043f\\u0440\\u043e\\u0432\\u043e\\u0437\\u0433\\u043b\\u0430\\u0441\\u0438\\u043b \\u0441\\u043e\\u0446\\u0438\\u0430\\u043b\\u0438\\u0441\\u0442\\u0438\\u0447\\u0435\\u0441\\u043a\\u0438\\u0439 \\u0445\\u0430\\u0440\\u0430\\u043a\\u0442\\u0435\\u0440 \\u043a\\u0443\\u0431\\u0438\\u043d\\u0441\\u043a\\u043e\\u0439 \\u0440\\u0435\\u0432\\u043e\\u043b\\u044e\\u0446\\u0438\\u0438. \\u041a\\u0443\\u0431\\u0430 \\u0441\\u0442\\u0430\\u043b\\u0430 \\u043e\\u0434\\u043d\\u043e\\u043f\\u0430\\u0440\\u0442\\u0438\\u0439\\u043d\\u044b\\u043c \\u0433\\u043e\\u0441\\u0443\\u0434\\u0430\\u0440\\u0441\\u0442\\u0432\\u043e\\u043c \\u043f\\u043e\\u0434 \\u0440\\u0443\\u043a\\u043e\\u0432\\u043e\\u0434\\u0441\\u0442\\u0432\\u043e\\u043c \\u043a\\u043e\\u043c\\u043f\\u0430\\u0440\\u0442\\u0438\\u0438, \\u043f\\u0435\\u0440\\u0432\\u044b\\u043c \\u0432 \\u0417\\u0430\\u043f\\u0430\\u0434\\u043d\\u043e\\u043c \\u043f\\u043e\\u043b\\u0443\\u0448\\u0430\\u0440\\u0438\\u0438. \\u0411\\u044b\\u043b\\u0430 \\u043f\\u0440\\u0438\\u043d\\u044f\\u0442\\u0430 \\u043c\\u0430\\u0440\\u043a\\u0441\\u0438\\u0441\\u0442\\u0441\\u043a\\u043e-\\u043b\\u0435\\u043d\\u0438\\u043d\\u0441\\u043a\\u0430\\u044f \\u043c\\u043e\\u0434\\u0435\\u043b\\u044c \\u0440\\u0430\\u0437\\u0432\\u0438\\u0442\\u0438\\u044f, \\u043f\\u0440\\u043e\\u0432\\u0435\\u0434\\u0435\\u043d\\u044b \\u0441\\u043e\\u0446\\u0438\\u0430\\u043b\\u0438\\u0441\\u0442\\u0438\\u0447\\u0435\\u0441\\u043a\\u0438\\u0435 \\u0440\\u0435\\u0444\\u043e\\u0440\\u043c\\u044b, \\u044d\\u043a\\u043e\\u043d\\u043e\\u043c\\u0438\\u043a\\u0430 \\u043f\\u043e\\u0441\\u0442\\u0430\\u0432\\u043b\\u0435\\u043d\\u0430 \\u043f\\u043e\\u0434 \\u0446\\u0435\\u043d\\u0442\\u0440\\u0430\\u043b\\u0438\\u0437\\u043e\\u0432\\u0430\\u043d\\u043d\\u044b\\u0439 \\u043a\\u043e\\u043d\\u0442\\u0440\\u043e\\u043b\\u044c, \\u043f\\u0440\\u0438\\u043d\\u044f\\u0442\\u044b \\u043c\\u0435\\u0440\\u044b \\u043f\\u043e \\u0440\\u0430\\u0437\\u0432\\u0438\\u0442\\u0438\\u044e \\u043e\\u0431\\u0440\\u0430\\u0437\\u043e\\u0432\\u0430\\u043d\\u0438\\u044f \\u0438 \\u0437\\u0434\\u0440\\u0430\\u0432\\u043e\\u043e\\u0445\\u0440\\u0430\\u043d\\u0435\\u043d\\u0438\\u044f, \\u043a\\u043e\\u0442\\u043e\\u0440\\u044b\\u0435, \\u0432\\u043c\\u0435\\u0441\\u0442\\u0435 \\u0441 \\u0442\\u0435\\u043c, \\u0441\\u043e\\u043f\\u0440\\u043e\\u0432\\u043e\\u0436\\u0434\\u0430\\u043b\\u0438\\u0441\\u044c \\u0443\\u0441\\u0442\\u0430\\u043d\\u043e\\u0432\\u043b\\u0435\\u043d\\u0438\\u0435\\u043c \\u0433\\u043e\\u0441\\u0443\\u0434\\u0430\\u0440\\u0441\\u0442\\u0432\\u0435\\u043d\\u043d\\u043e\\u0433\\u043e \\u043a\\u043e\\u043d\\u0442\\u0440\\u043e\\u043b\\u044f \\u043d\\u0430\\u0434 \\u043f\\u0440\\u0435\\u0441\\u0441\\u043e\\u0439 \\u0438 \\u043f\\u043e\\u0434\\u0430\\u0432\\u043b\\u0435\\u043d\\u0438\\u0435\\u043c \\u0438\\u043d\\u0430\\u043a\\u043e\\u043c\\u044b\\u0441\\u043b\\u0438\\u044f. 31 \\u0438\\u044e\\u043b\\u044f 2006 \\u0433\\u043e\\u0434\\u0430 \\u041a\\u0430\\u0441\\u0442\\u0440\\u043e \\u043f\\u043e \\u0441\\u043e\\u0441\\u0442\\u043e\\u044f\\u043d\\u0438\\u044e \\u0437\\u0434\\u043e\\u0440\\u043e\\u0432\\u044c\\u044f \\u043f\\u0435\\u0440\\u0435\\u0434\\u0430\\u043b \\u0438\\u0441\\u043f\\u043e\\u043b\\u043d\\u0435\\u043d\\u0438\\u0435 \\u043e\\u0431\\u044f\\u0437\\u0430\\u043d\\u043d\\u043e\\u0441\\u0442\\u0435\\u0439 \\u043d\\u0430 \\u0432\\u0441\\u0435\\u0445 \\u0441\\u0432\\u043e\\u0438\\u0445 \\u043a\\u043b\\u044e\\u0447\\u0435\\u0432\\u044b\\u0445 \\u0434\\u043e\\u043b\\u0436\\u043d\\u043e\\u0441\\u0442\\u044f\\u0445 \\u0441\\u0432\\u043e\\u0435\\u043c\\u0443 \\u0431\\u0440\\u0430\\u0442\\u0443 \\u0420\\u0430\\u0443\\u043b\\u044e. 24 \\u0444\\u0435\\u0432\\u0440\\u0430\\u043b\\u044f 2008 \\u0433\\u043e\\u0434\\u0430 \\u043e\\u043d \\u043f\\u043e\\u043a\\u0438\\u043d\\u0443\\u043b \\u0432\\u0441\\u0435 \\u0433\\u043e\\u0441\\u0443\\u0434\\u0430\\u0440\\u0441\\u0442\\u0432\\u0435\\u043d\\u043d\\u044b\\u0435 \\u0434\\u043e\\u043b\\u0436\\u043d\\u043e\\u0441\\u0442\\u0438, \\u0430 19 \\u0430\\u043f\\u0440\\u0435\\u043b\\u044f 2011 \\u0433\\u043e\\u0434\\u0430 \\u0443\\u0448\\u0451\\u043b \\u0438 \\u0441 \\u043f\\u043e\\u0441\\u0442\\u0430 \\u0433\\u043b\\u0430\\u0432\\u044b \\u043f\\u0440\\u0430\\u0432\\u044f\\u0449\\u0435\\u0439 \\u043f\\u0430\\u0440\\u0442\\u0438\\u0438.\\n\\n\\n\\n\",\n          \"\\u0411.\\u041e\\u0431\\u0430\\u043c\\u0430 \\u043d\\u0430\\u0437\\u043d\\u0430\\u0447\\u0438\\u043b \\u043d\\u043e\\u0432\\u043e\\u0433\\u043e \\u0441\\u043e\\u0432\\u0435\\u0442\\u043d\\u0438\\u043a\\u0430 \\u043f\\u043e \\u043d\\u0430\\u0446\\u0438\\u043e\\u043d\\u0430\\u043b\\u044c\\u043d\\u043e\\u0439 \\u0431\\u0435\\u0437\\u043e\\u043f\\u0430\\u0441\\u043d\\u043e\\u0441\\u0442\\u0438\\n\\n\\u041f\\u0440\\u0435\\u0437\\u0438\\u0434\\u0435\\u043d\\u0442 \\u0421\\u0428\\u0410 \\u0411\\u0430\\u0440\\u0430\\u043a \\u041e\\u0431\\u0430\\u043c\\u0430 \\u043e\\u0444\\u0438\\u0446\\u0438\\u0430\\u043b\\u044c\\u043d\\u043e \\u043e\\u0431\\u044a\\u044f\\u0432\\u0438\\u043b \\u043e \\u043d\\u0430\\u0437\\u043d\\u0430\\u0447\\u0435\\u043d\\u0438\\u0438 \\u0422\\u043e\\u043c\\u0430 \\u0414\\u043e\\u043d\\u0438\\u043b\\u043e\\u043d\\u0430 \\u0441\\u0432\\u043e\\u0438\\u043c \\u0441\\u043e\\u0432\\u0435\\u0442\\u043d\\u0438\\u043a\\u043e\\u043c \\u043f\\u043e \\u043d\\u0430\\u0446\\u0438\\u043e\\u043d\\u0430\\u043b\\u044c\\u043d\\u043e\\u0439 \\u0431\\u0435\\u0437\\u043e\\u043f\\u0430\\u0441\\u043d\\u043e\\u0441\\u0442\\u0438. \\u041d\\u0430 \\u044d\\u0442\\u043e\\u043c \\u043f\\u043e\\u0441\\u0442\\u0443 \\u043e\\u043d \\u0441\\u043c\\u0435\\u043d\\u0438\\u0442 \\u043e\\u0442\\u0441\\u0442\\u0430\\u0432\\u043d\\u043e\\u0433\\u043e \\u0433\\u0435\\u043d\\u0435\\u0440\\u0430\\u043b\\u0430 \\u043c\\u043e\\u0440\\u0441\\u043a\\u043e\\u0439 \\u043f\\u0435\\u0445\\u043e\\u0442\\u044b \\u0421\\u0428\\u0410 \\u0414\\u0436\\u0435\\u0439\\u043c\\u0441\\u0430 \\u0414\\u0436\\u043e\\u043d\\u0441\\u0430, \\u043e\\u0431 \\u0443\\u0445\\u043e\\u0434\\u0435 \\u043a\\u043e\\u0442\\u043e\\u0440\\u043e\\u0433\\u043e \\u0431\\u044b\\u043b\\u043e \\u043e\\u0431\\u044a\\u044f\\u0432\\u043b\\u0435\\u043d\\u043e \\u043d\\u0430\\u043a\\u0430\\u043d\\u0443\\u043d\\u0435.\\n\\n\\u041f\\u0440\\u0435\\u0434\\u0441\\u0442\\u0430\\u0432\\u0438\\u0442\\u0435\\u043b\\u0438 \\u0430\\u0434\\u043c\\u0438\\u043d\\u0438\\u0441\\u0442\\u0440\\u0430\\u0446\\u0438\\u0438 \\u043f\\u0440\\u0435\\u0437\\u0438\\u0434\\u0435\\u043d\\u0442\\u0430 \\u043d\\u0430\\u043a\\u0430\\u043d\\u0443\\u043d\\u0435 \\u0432\\u0435\\u0447\\u0435\\u0440\\u043e\\u043c \\u043d\\u0430 \\u0443\\u0441\\u043b\\u043e\\u0432\\u0438\\u044f\\u0445 \\u0430\\u043d\\u043e\\u043d\\u0438\\u043c\\u043d\\u043e\\u0441\\u0442\\u0438 \\u0441\\u043e\\u043e\\u0431\\u0449\\u0438\\u043b\\u0438 \\u043e\\u0431 \\u043e\\u0442\\u0441\\u0442\\u0430\\u0432\\u043a\\u0435 \\u0414\\u0436.\\u0414\\u0436\\u043e\\u043d\\u0441\\u0430, \\u043e\\u0434\\u043d\\u0430\\u043a\\u043e \\u044d\\u0442\\u0430 \\u0438\\u043d\\u0444\\u043e\\u0440\\u043c\\u0430\\u0446\\u0438\\u044f \\u043d\\u0435 \\u0441\\u0440\\u0430\\u0437\\u0443 \\u0431\\u044b\\u043b\\u0430 \\u043e\\u0444\\u0438\\u0446\\u0438\\u0430\\u043b\\u044c\\u043d\\u043e \\u043f\\u043e\\u0434\\u0442\\u0432\\u0435\\u0440\\u0436\\u0434\\u0435\\u043d\\u0430.\\n\\n\\u041a\\u0430\\u043a \\u0441\\u043e\\u043e\\u0431\\u0449\\u0430\\u044e\\u0442 \\u0430\\u043c\\u0435\\u0440\\u0438\\u043a\\u0430\\u043d\\u0441\\u043a\\u0438\\u0435 \\u0421\\u041c\\u0418, 55-\\u043b\\u0435\\u0442\\u043d\\u0438\\u0439 \\u0422.\\u0414\\u043e\\u043d\\u0438\\u043b\\u043e\\u043d \\u0434\\u043e\\u043b\\u0433\\u043e\\u0435 \\u0432\\u0440\\u0435\\u043c\\u044f \\u0431\\u044b\\u043b \\u044e\\u0440\\u0438\\u0441\\u043a\\u043e\\u043d\\u0441\\u0443\\u043b\\u044c\\u0442\\u043e\\u043c, \\u043e\\u043a\\u0430\\u0437\\u044b\\u0432\\u0430\\u0432\\u0448\\u0438\\u043c \\u0443\\u0441\\u043b\\u0443\\u0433\\u0438 \\u043a\\u0440\\u0443\\u043f\\u043d\\u044b\\u043c \\u0430\\u043c\\u0435\\u0440\\u0438\\u043a\\u0430\\u043d\\u0441\\u043a\\u0438\\u043c \\u043a\\u043e\\u043c\\u043f\\u0430\\u043d\\u0438\\u044f\\u043c. \\u041e\\u043d \\u0442\\u0430\\u043a\\u0436\\u0435 \\u0431\\u043b\\u0438\\u0437\\u043e\\u043a \\u043a \\u043d\\u044b\\u043d\\u0435\\u0448\\u043d\\u0435\\u043c\\u0443 \\u0432\\u0438\\u0446\\u0435-\\u043f\\u0440\\u0435\\u0437\\u0438\\u0434\\u0435\\u043d\\u0442\\u0443 \\u0421\\u0428\\u0410 \\u0414\\u0436\\u043e \\u0411\\u0430\\u0439\\u0434\\u0435\\u043d\\u0443: \\u0431\\u0440\\u0430\\u0442 \\u0422.\\u0414\\u043e\\u043d\\u0438\\u043b\\u043e\\u043d\\u0430 \\u041c\\u0430\\u0439\\u043a\\u043b \\u0440\\u0430\\u0431\\u043e\\u0442\\u0430\\u0435\\u0442 \\u0441\\u043e\\u0432\\u0435\\u0442\\u043d\\u0438\\u043a\\u043e\\u043c \\u044d\\u0442\\u043e\\u0433\\u043e \\u043f\\u043e\\u043b\\u0438\\u0442\\u0438\\u043a\\u0430. \\u041d\\u0435\\u043a\\u043e\\u0442\\u043e\\u0440\\u043e\\u0435 \\u0432\\u0440\\u0435\\u043c\\u044f \\u043d\\u0430\\u0437\\u0430\\u0434 \\u0422.\\u0414\\u043e\\u043d\\u0438\\u043b\\u043e\\u043d\\u0430 \\u0441\\u0447\\u0438\\u0442\\u0430\\u043b\\u0438 \\u043f\\u0440\\u043e\\u0442\\u0438\\u0432\\u043d\\u0438\\u043a\\u043e\\u043c \\u0440\\u0430\\u0437\\u0432\\u0438\\u0442\\u0438\\u044f \\u0431\\u043e\\u0435\\u0432\\u044b\\u0445 \\u0434\\u0435\\u0439\\u0441\\u0442\\u0432\\u0438\\u0439 \\u0432 \\u0410\\u0444\\u0433\\u0430\\u043d\\u0438\\u0441\\u0442\\u0430\\u043d\\u0435.\\n\\n\\u0412 \\u0446\\u0435\\u043b\\u043e\\u043c, \\u043a\\u0430\\u043a \\u043e\\u0442\\u043c\\u0435\\u0447\\u0430\\u044e\\u0442 \\u044d\\u043a\\u0441\\u043f\\u0435\\u0440\\u0442\\u044b, \\u0434\\u0430\\u043d\\u043d\\u0430\\u044f \\u043d\\u043e\\u0432\\u043e\\u0441\\u0442\\u044c \\u043d\\u0435 \\u0441\\u0442\\u0430\\u043b\\u0430 \\u043d\\u0435\\u043e\\u0436\\u0438\\u0434\\u0430\\u043d\\u043d\\u043e\\u0441\\u0442\\u044c\\u044e. \\u0413\\u0435\\u043d\\u0435\\u0440\\u0430\\u043b \\u0414\\u0436.\\u0414\\u0436\\u043e\\u043d\\u0441 \\u0443\\u0448\\u0435\\u043b \\u0432 \\u043e\\u0442\\u0441\\u0442\\u0430\\u0432\\u043a\\u0443 \\u0438\\u0437 \\u043a\\u043e\\u0440\\u043f\\u0443\\u0441\\u0430 \\u043c\\u043e\\u0440\\u0441\\u043a\\u043e\\u0439 \\u043f\\u0435\\u0445\\u043e\\u0442\\u044b 1 \\u0444\\u0435\\u0432\\u0440\\u0430\\u043b\\u044f 2007\\u0433. \\u043f\\u043e\\u0441\\u043b\\u0435 40-\\u043b\\u0435\\u0442\\u043d\\u0435\\u0439 \\u0432\\u043e\\u0435\\u043d\\u043d\\u043e\\u0439 \\u0441\\u043b\\u0443\\u0436\\u0431\\u044b, \\u043d\\u043e \\u043e\\u0441\\u0442\\u0430\\u043b\\u0441\\u044f \\u0432\\u043e\\u0432\\u043b\\u0435\\u0447\\u0435\\u043d\\u043d\\u044b\\u043c \\u0432 \\u0432\\u043e\\u043f\\u0440\\u043e\\u0441\\u044b \\u043d\\u0430\\u0446\\u0438\\u043e\\u043d\\u0430\\u043b\\u044c\\u043d\\u043e\\u0439 \\u0431\\u0435\\u0437\\u043e\\u043f\\u0430\\u0441\\u043d\\u043e\\u0441\\u0442\\u0438. \\u0420\\u0430\\u043d\\u0435\\u0435 \\u043e\\u043d \\u0437\\u0430\\u044f\\u0432\\u043b\\u044f\\u043b, \\u0447\\u0442\\u043e \\u0436\\u0435\\u043b\\u0430\\u0435\\u0442 \\u043f\\u043e\\u043a\\u0438\\u043d\\u0443\\u0442\\u044c \\u043f\\u043e\\u0441\\u0442 \\u0441\\u043e\\u0432\\u0435\\u0442\\u043d\\u0438\\u043a\\u0430 \\u043f\\u0440\\u0435\\u0437\\u0438\\u0434\\u0435\\u043d\\u0442\\u0430 \\u0421\\u0428\\u0410 \\u0432 \\u0442\\u0435\\u0447\\u0435\\u043d\\u0438\\u0435 \\u0434\\u0432\\u0443\\u0445 \\u043b\\u0435\\u0442.\\n\\n\\u041d\\u0430\\u043f\\u043e\\u043c\\u043d\\u0438\\u043c, 1 \\u043e\\u043a\\u0442\\u044f\\u0431\\u0440\\u044f 2010\\u0433. \\u0443\\u0448\\u0435\\u043b \\u0432 \\u043e\\u0442\\u0441\\u0442\\u0430\\u0432\\u043a\\u0443 \\u0441 \\u0434\\u043e\\u043b\\u0436\\u043d\\u043e\\u0441\\u0442\\u0438 \\u0433\\u043b\\u0430\\u0432\\u044b \\u0430\\u0434\\u043c\\u0438\\u043d\\u0438\\u0441\\u0442\\u0440\\u0430\\u0446\\u0438\\u0438 \\u0411\\u0435\\u043b\\u043e\\u0433\\u043e \\u0434\\u043e\\u043c\\u0430 \\u0420.\\u042d\\u043c\\u0430\\u043d\\u0443\\u044d\\u043b\\u044c, \\u043a\\u043e\\u0442\\u043e\\u0440\\u044b\\u0439 \\u043f\\u043b\\u0430\\u043d\\u0438\\u0440\\u0443\\u0435\\u0442 \\u0431\\u0430\\u043b\\u043b\\u043e\\u0442\\u0438\\u0440\\u043e\\u0432\\u0430\\u0442\\u044c\\u0441\\u044f \\u043d\\u0430 \\u043f\\u043e\\u0441\\u0442 \\u043c\\u044d\\u0440\\u0430 \\u0427\\u0438\\u043a\\u0430\\u0433\\u043e. \\u041f\\u043e \\u043c\\u043d\\u0435\\u043d\\u0438\\u044e \\u044d\\u043a\\u0441\\u043f\\u0435\\u0440\\u0442\\u043e\\u0432, \\u0438\\u043d\\u0442\\u0435\\u0440\\u0435\\u0441 \\u043a \\u0434\\u043e\\u043b\\u0436\\u043d\\u043e\\u0441\\u0442\\u0438 \\u043c\\u044d\\u0440\\u0430 \\u0427\\u0438\\u043a\\u0430\\u0433\\u043e, \\u043a\\u043e\\u0442\\u043e\\u0440\\u044b\\u0439 \\u0431\\u044b\\u0432\\u0448\\u0438\\u0439 \\u0433\\u043b\\u0430\\u0432\\u0430 \\u043f\\u0440\\u0435\\u0437\\u0438\\u0434\\u0435\\u043d\\u0442\\u0441\\u043a\\u043e\\u0439 \\u0430\\u0434\\u043c\\u0438\\u043d\\u0438\\u0441\\u0442\\u0440\\u0430\\u0446\\u0438\\u0438 \\u043f\\u0440\\u043e\\u044f\\u0432\\u043b\\u044f\\u043b \\u0438 \\u0440\\u0430\\u043d\\u044c\\u0448\\u0435, \\u0435\\u0449\\u0435 \\u0431\\u043e\\u043b\\u044c\\u0448\\u0435 \\u0443\\u0441\\u0438\\u043b\\u0438\\u043b\\u0441\\u044f \\u043f\\u043e\\u0441\\u043b\\u0435 \\u0437\\u0430\\u044f\\u0432\\u043b\\u0435\\u043d\\u0438\\u0439 \\u043d\\u044b\\u043d\\u0435\\u0448\\u043d\\u0435\\u0433\\u043e \\u043c\\u044d\\u0440\\u0430 \\u0433\\u043e\\u0440\\u043e\\u0434\\u0430 \\u0420\\u0438\\u0447\\u0430\\u0440\\u0434\\u0430 \\u0414\\u044d\\u0439\\u043b\\u0438 \\u043e \\u043d\\u0435\\u0436\\u0435\\u043b\\u0430\\u043d\\u0438\\u0438 \\u043f\\u0435\\u0440\\u0435\\u0438\\u0437\\u0431\\u0438\\u0440\\u0430\\u0442\\u044c\\u0441\\u044f \\u043d\\u0430 \\u043d\\u043e\\u0432\\u044b\\u0439 \\u0441\\u0440\\u043e\\u043a. \\u041f\\u0440\\u0435\\u0437\\u0438\\u0434\\u0435\\u043d\\u0442 \\u0421\\u0428\\u0410 \\u043d\\u0430\\u0437\\u043d\\u0430\\u0447\\u0438\\u043b \\u0441\\u0442\\u0430\\u0440\\u0448\\u0435\\u0433\\u043e \\u0441\\u043e\\u0432\\u0435\\u0442\\u043d\\u0438\\u043a\\u0430 \\u0411\\u0435\\u043b\\u043e\\u0433\\u043e \\u0434\\u043e\\u043c\\u0430 \\u041f\\u0438\\u0442\\u0430 \\u0420\\u0430\\u0443\\u0441\\u0430 \\u0432\\u0440\\u0435\\u043c\\u0435\\u043d\\u043d\\u044b\\u043c \\u0433\\u043b\\u0430\\u0432\\u043e\\u0439 \\u043f\\u0440\\u0435\\u0437\\u0438\\u0434\\u0435\\u043d\\u0442\\u0441\\u043a\\u043e\\u0439 \\u0430\\u0434\\u043c\\u0438\\u043d\\u0438\\u0441\\u0442\\u0440\\u0430\\u0446\\u0438\\u0438.\\n\\n\",\n          \"\\u041f\\u044f\\u0442\\u044b\\u0439 \\u043a\\u043e\\u0441\\u043c\\u0438\\u0447\\u0435\\u0441\\u043a\\u0438\\u0439 \\u0442\\u0443\\u0440\\u0438\\u0441\\u0442 \\u0433\\u043e\\u0442\\u043e\\u0432\\u0438\\u0442\\u0441\\u044f \\u043a \\u043f\\u043e\\u043b\\u0451\\u0442\\u0443\\n58-\\u043b\\u0435\\u0442\\u043d\\u0438\\u0439 \\u043f\\u0440\\u043e\\u0433\\u0440\\u0430\\u043c\\u043c\\u0438\\u0441\\u0442 \\u0438 \\u043c\\u0438\\u043b\\u043b\\u0438\\u0430\\u0440\\u0434\\u0435\\u0440 \\u0433\\u043e\\u0442\\u043e\\u0432\\u0438\\u0442\\u0441\\u044f \\u043a \\u043a\\u043e\\u0441\\u043c\\u0438\\u0447\\u0435\\u0441\\u043a\\u043e\\u043c\\u0443 \\u043f\\u043e\\u043b\\u0451\\u0442\\u0443. \\u0427\\u0430\\u0440\\u043b\\u044c\\u0437 \\u0421\\u0438\\u043c\\u043e\\u043d\\u0438, \\u0430\\u043c\\u0435\\u0440\\u0438\\u043a\\u0430\\u043d\\u0435\\u0446 \\u0432\\u0435\\u043d\\u0433\\u0435\\u0440\\u0441\\u043a\\u043e\\u0433\\u043e \\u043f\\u0440\\u043e\\u0438\\u0441\\u0445\\u043e\\u0436\\u0434\\u0435\\u043d\\u0438\\u044f, \\u043a\\u043e\\u0442\\u043e\\u0440\\u044b\\u0439 \\u0440\\u0430\\u0431\\u043e\\u0442\\u0430\\u043b \\u0432 \\u043a\\u043e\\u0440\\u043f\\u043e\\u0440\\u0430\\u0446\\u0438\\u0438 \\u00ab\\u041c\\u0430\\u0439\\u043a\\u0440\\u043e\\u0441\\u043e\\u0444\\u0442\\u00bb, \\u0433\\u0434\\u0435 \\u043e\\u043d \\u0440\\u0430\\u0437\\u0440\\u0430\\u0431\\u0430\\u0442\\u044b\\u0432\\u0430\\u043b \\u0432\\u0441\\u0435\\u043c\\u0438\\u0440\\u043d\\u043e \\u0438\\u0437\\u0432\\u0435\\u0441\\u0442\\u043d\\u044b\\u0435 \\u043f\\u0440\\u043e\\u0433\\u0440\\u0430\\u043c\\u043c\\u044b Word \\u0438 Excel, \\u0433\\u043e\\u0442\\u043e\\u0432\\u0438\\u0442\\u0441\\u044f \\u0441\\u0442\\u0430\\u0440\\u0442\\u043e\\u0432\\u0430\\u0442\\u044c \\u0432 \\u043a\\u043e\\u0441\\u043c\\u043e\\u0441 9 \\u043c\\u0430\\u0440\\u0442\\u0430 \\u043d\\u0430 \\u043a\\u043e\\u0440\\u0430\\u0431\\u043b\\u0435 \\u00ab\\u0421\\u043e\\u044e\\u0437 \\u0422\\u041c\\u0410-10\\u00bb. \\u0421\\u0438\\u043c\\u043e\\u043d\\u0438 \\u043e\\u0442\\u043f\\u0440\\u0430\\u0432\\u0438\\u0442\\u0441\\u044f \\u043d\\u0430 \\u041c\\u0435\\u0436\\u0434\\u0443\\u043d\\u0430\\u0440\\u043e\\u0434\\u043d\\u0443\\u044e \\u043a\\u043e\\u0441\\u043c\\u0438\\u0447\\u0435\\u0441\\u043a\\u0443\\u044e \\u0441\\u0442\\u0430\\u043d\\u0446\\u0438\\u044e \\u0432\\u043c\\u0435\\u0441\\u0442\\u0435 \\u0441 15-\\u043c \\u044d\\u043a\\u0438\\u043f\\u0430\\u0436\\u0435\\u043c \\u041c\\u041a\\u0421, \\u0424\\u0451\\u0434\\u043e\\u0440\\u043e\\u043c \\u042e\\u0440\\u0447\\u0438\\u0445\\u0438\\u043d\\u044b\\u043c \\u0438 \\u041e\\u043b\\u0435\\u0433\\u043e\\u043c \\u041a\\u043e\\u0442\\u043e\\u0432\\u044b\\u043c, \\u0430 \\u0432\\u0435\\u0440\\u043d\\u0451\\u0442\\u0441\\u044f \\u043d\\u0430 \\u0417\\u0435\\u043c\\u043b\\u044e \\u0441 \\u0447\\u043b\\u0435\\u043d\\u0430\\u043c\\u0438 14-\\u043e \\u044d\\u043a\\u0438\\u043f\\u0430\\u0436\\u0430 \\u041c\\u041a\\u0421 \\u041c\\u0430\\u0439\\u043a\\u043b\\u043e\\u043c \\u041b\\u043e\\u043f\\u0435\\u0441\\u043e\\u043c-\\u0410\\u043b\\u0435\\u0433\\u0440\\u0438\\u044f \\u0438 \\u041c\\u0438\\u0445\\u0430\\u0438\\u043b\\u043e\\u043c \\u0422\\u044e\\u0440\\u0438\\u043d\\u044b\\u043c.\\n\\n\\u0421\\u0438\\u043c\\u043e\\u043d\\u0438 \\u0433\\u043e\\u0432\\u043e\\u0440\\u0438\\u0442, \\u0447\\u0442\\u043e \\u043e\\u043d \\u0431\\u0443\\u0434\\u0435\\u0442 \\u043f\\u0435\\u0440\\u0432\\u044b\\u043c \\u00ab\\u0443\\u043c\\u043d\\u0438\\u043a\\u043e\\u043c\\u00bb (nerd) \\u0432 \\u043a\\u043e\\u0441\\u043c\\u043e\\u0441\\u0435.\\n\\n\\u041f\\u043e\\u043b\\u0451\\u0442 \\u0421\\u0438\\u043c\\u043e\\u043d\\u0438 \\u043e\\u0440\\u0433\\u0430\\u043d\\u0438\\u0437\\u0443\\u0435\\u0442 \\u043a\\u043e\\u043c\\u043f\\u0430\\u043d\\u0438\\u044f Space Adventures, \\u043a\\u043e\\u0442\\u043e\\u0440\\u0430\\u044f \\u0437\\u0430\\u043d\\u0438\\u043c\\u0430\\u0435\\u0442\\u0441\\u044f \\u043a\\u043e\\u0441\\u043c\\u0438\\u0447\\u0435\\u0441\\u043a\\u0438\\u043c \\u0442\\u0443\\u0440\\u0438\\u0437\\u043c\\u043e\\u043c, \\u0438 \\u043a\\u043e\\u0442\\u043e\\u0440\\u0430\\u044f \\u043e\\u0442\\u043f\\u0440\\u0430\\u0432\\u0438\\u043b\\u0430 \\u0432 \\u043a\\u043e\\u0441\\u043c\\u043e\\u0441 \\u0443\\u0436\\u0435 \\u0447\\u0435\\u0442\\u0432\\u0435\\u0440\\u044b\\u0445 \\u043a\\u043e\\u0441\\u043c\\u043e\\u043d\\u0430\\u0432\\u0442\\u043e\\u0432-\\u043b\\u044e\\u0431\\u0438\\u0442\\u0435\\u043b\\u0435\\u0439.\\n\\n\\u041f\\u043e\\u043b\\u0451\\u0442 \\u0421\\u0438\\u043c\\u043e\\u043d\\u0438 \\u0431\\u0443\\u0434\\u0435\\u0442 \\u043f\\u0440\\u043e\\u0434\\u043e\\u043b\\u0436\\u0430\\u0442\\u044c\\u0441\\u044f 10 \\u0441\\u0443\\u0442\\u043e\\u043a, \\u0434\\u0432\\u043e\\u0435 \\u0441\\u0443\\u0442\\u043e\\u043a \\u043f\\u043e\\u043b\\u0451\\u0442 \\u043a \\u041c\\u041a\\u0421 \\u0438 8 \\u0441\\u0443\\u0442\\u043e\\u043a \\u043d\\u0430 \\u0441\\u0442\\u0430\\u043d\\u0446\\u0438\\u0438, \\u0437\\u0430 \\u044d\\u0442\\u043e \\u0432\\u0440\\u0435\\u043c\\u044f \\u0421\\u0438\\u043c\\u043e\\u043d\\u0438\\u0438 160 \\u0440\\u0430\\u0437 \\u043e\\u0431\\u043b\\u0435\\u0442\\u0438\\u0442 \\u0417\\u0435\\u043c\\u043b\\u044e \\u0438 \\u043f\\u0440\\u0435\\u043e\\u0434\\u043e\\u043b\\u0435\\u0435\\u0442 6,5 \\u043c\\u0438\\u043b\\u043b\\u0438\\u043e\\u043d\\u043e\\u0432 \\u043a\\u0438\\u043b\\u043e\\u043c\\u0435\\u0442\\u0440\\u043e\\u0432.\\n\\n\\u00ab\\u042f \\u0438\\u043c\\u0435\\u044e \\u0442\\u0440\\u0438 \\u0446\\u0435\\u043b\\u0438\\u00bb, \\u0441\\u043a\\u0430\\u0437\\u0430\\u043b \\u0421\\u0438\\u043c\\u043e\\u043d\\u0438: \\u00ab\\u041e\\u0434\\u043d\\u0430 \\u0438\\u0437 \\u043d\\u0438\\u0445 \\u2014 \\u0440\\u0430\\u0437\\u0432\\u0438\\u0442\\u0438\\u0435 \\u043a\\u043e\\u0441\\u043c\\u0438\\u0447\\u0435\\u0441\\u043a\\u043e\\u0433\\u043e \\u0442\\u0443\\u0440\\u0438\\u0437\\u043c\\u0430, \\u0432\\u0442\\u043e\\u0440\\u0430\\u044f \\u2014 \\u0443\\u0447\\u0430\\u0441\\u0442\\u0432\\u043e\\u0432\\u0430\\u0442\\u044c \\u0432 \\u043d\\u0430\\u0443\\u0447\\u043d\\u044b\\u0445 \\u0438\\u0441\\u0441\\u043b\\u0435\\u0434\\u043e\\u0432\\u0430\\u043d\\u0438\\u044f\\u0445 \\u043d\\u0430 \\u041c\\u041a\\u0421, \\u0442\\u0440\\u0435\\u0442\\u044c\\u044f \\u2014 \\u0432\\u043e\\u0432\\u043b\\u0435\\u0447\\u0435\\u043d\\u0438\\u0435 \\u0434\\u0435\\u0442\\u0435\\u0439 \\u043a \\u043a\\u043e\\u0441\\u043c\\u0438\\u0447\\u0435\\u0441\\u043a\\u0438\\u043c \\u0438\\u0441\\u0441\\u043b\\u0435\\u0434\\u043e\\u0432\\u0430\\u043d\\u0438\\u044f\\u043c\\u00bb.\\n\\n\\u0421\\u0438\\u043c\\u043e\\u043d\\u0438 \\u043e\\u0440\\u0433\\u0430\\u043d\\u0438\\u0437\\u043e\\u0432\\u0430\\u043b \\u0418\\u043d\\u0442\\u0435\\u0440\\u043d\\u0435\\u0442 \\u0441\\u0442\\u0440\\u0430\\u043d\\u0438\\u0446\\u0443, \\u043f\\u043e\\u0441\\u0432\\u044f\\u0449\\u0451\\u043d\\u043d\\u0443\\u044e \\u0435\\u0433\\u043e \\u043f\\u043e\\u043b\\u0451\\u0442\\u0443: charlesinspace.com.\\n\\n\\u0421\\u0438\\u043c\\u043e\\u043d\\u0438\\u0438 \\u043f\\u043b\\u0430\\u043d\\u0438\\u0440\\u0443\\u0435\\u0442 \\u043f\\u043e\\u043b\\u043e\\u0436\\u0438\\u0442\\u044c \\u043d\\u0430\\u0447\\u0430\\u043b\\u043e \\u0441\\u043e\\u0437\\u0434\\u0430\\u043d\\u0438\\u044f \\u0431\\u0438\\u0431\\u043b\\u0438\\u043e\\u0442\\u0435\\u043a\\u0438 \\u043d\\u0430 \\u041c\\u041a\\u0421. \\u041f\\u0435\\u0440\\u0432\\u044b\\u043c \\u0432\\u043a\\u043b\\u0430\\u0434\\u043e\\u043c \\u0432 \\u0431\\u0438\\u0431\\u043b\\u0438\\u043e\\u0442\\u0435\\u043a\\u0443 \\u0431\\u0443\\u0434\\u0443\\u0442 \\u0440\\u043e\\u043c\\u0430\\u043d \\u0420\\u043e\\u0431\\u0435\\u0440\\u0442\\u0430 \\u0425\\u0430\\u0439\\u043d\\u043b\\u0430\\u0439\\u043d\\u0430 \\u00ab\\u041b\\u0443\\u043d\\u0430-\\u0441\\u0443\\u0440\\u043e\\u0432\\u0430\\u044f \\u0445\\u043e\\u0437\\u044f\\u0439\\u043a\\u0430\\u00bb \\u0438 \\u00ab\\u0424\\u0430\\u0443\\u0441\\u0442\\u00bb \\u0413\\u0451\\u0442\\u0435.\\n\\n\\u0421\\u043b\\u0435\\u0434\\u0443\\u044e\\u0449\\u0438\\u0435 \\u043f\\u044f\\u0442\\u044c \\u043c\\u0435\\u0441\\u044f\\u0446\\u0435\\u0432 \\u0421\\u0438\\u043c\\u043e\\u043d\\u0438 \\u043f\\u0440\\u043e\\u0432\\u0435\\u0434\\u0451\\u0442 \\u0432 \\u0417\\u0432\\u0451\\u0437\\u0434\\u043d\\u043e\\u043c \\u0433\\u043e\\u0440\\u043e\\u0434\\u043a\\u0435 \\u0438 \\u043d\\u0430 \\u0411\\u0430\\u0439\\u043a\\u043e\\u043d\\u0443\\u0440\\u0435, \\u0433\\u043e\\u0442\\u043e\\u0432\\u044f\\u0441\\u044c \\u043a \\u043f\\u043e\\u043b\\u0451\\u0442\\u0443.\\n\\n\\u0412 \\u043e\\u0442\\u043b\\u0438\\u0447\\u0438\\u0435 \\u043e\\u0442 \\u0441\\u0432\\u043e\\u0438\\u0445 \\u043f\\u0440\\u0435\\u0434\\u0448\\u0435\\u0441\\u0442\\u0432\\u0435\\u043d\\u043d\\u0438\\u043a\\u043e\\u0432, \\u0421\\u0438\\u043c\\u043e\\u043d\\u0438 \\u043b\\u0443\\u0447\\u0448\\u0435 \\u043f\\u043e\\u0434\\u0433\\u043e\\u0442\\u043e\\u0432\\u043b\\u0435\\u043d \\u043a \\u043a\\u043e\\u0441\\u043c\\u0438\\u0447\\u0435\\u0441\\u043a\\u043e\\u043c\\u0443 \\u043f\\u043e\\u043b\\u0451\\u0442\\u0443. \\u041e\\u043d \\u0438\\u043c\\u0435\\u0435\\u0442 \\u043b\\u0438\\u0446\\u0435\\u043d\\u0437\\u0438\\u044e \\u043b\\u0451\\u0442\\u0447\\u0438\\u043a\\u0430 \\u0440\\u0435\\u0430\\u043a\\u0442\\u0438\\u0432\\u043d\\u043e\\u0433\\u043e \\u0441\\u0430\\u043c\\u043e\\u043b\\u0451\\u0442\\u0430 \\u0438 \\u0432\\u0435\\u0440\\u0442\\u043e\\u043b\\u0451\\u0442\\u0430 \\u0438 \\u0438\\u043c\\u0435\\u0435\\u0442 \\u0431\\u043e\\u043b\\u0435\\u0435 2000 \\u0447\\u0430\\u0441\\u043e\\u0432 \\u043d\\u0430\\u043b\\u0451\\u0442\\u0430.\\n\\n\\u0414\\u043e\\u043a\\u0442\\u043e\\u0440 \\u0421\\u0438\\u043c\\u043e\\u043d\\u0438 \\u0442\\u0430\\u043a\\u0436\\u0435 \\u0441\\u0442\\u0440\\u0435\\u043c\\u0438\\u0442\\u0441\\u044f \\u0445\\u043e\\u0440\\u043e\\u0448\\u043e \\u0438\\u0437\\u0443\\u0447\\u0438\\u0442\\u044c \\u0440\\u0443\\u0441\\u0441\\u043a\\u0438\\u0439 \\u044f\\u0437\\u044b\\u043a \\u0438 \\u0441\\u0438\\u0441\\u0442\\u0435\\u043c\\u044b \\u043a\\u043e\\u0440\\u0430\\u0431\\u043b\\u044f \\u00ab\\u0421\\u043e\\u044e\\u0437\\u00bb. \\u00ab\\u042f \\u0441\\u0447\\u0438\\u0442\\u0430\\u044e \\u044d\\u0442\\u043e \\u043e\\u0442\\u043b\\u0438\\u0447\\u043d\\u0430\\u044f \\u0432\\u043e\\u0437\\u043c\\u043e\\u0436\\u043d\\u043e\\u0441\\u0442\\u044c, \\u0447\\u0442\\u043e\\u0431\\u044b \\u0438\\u0437\\u0443\\u0447\\u0438\\u0442\\u044c \\u044d\\u0442\\u0438 \\u0432\\u0435\\u0449\\u0438\\u00bb, \\u0441\\u043a\\u0430\\u0437\\u0430\\u043b \\u0421\\u0438\\u043c\\u043e\\u043d\\u0438.\\n\"\n        ],\n        \"semantic_type\": \"\",\n        \"description\": \"\"\n      }\n    },\n    {\n      \"column\": \"entity_type\",\n      \"properties\": {\n        \"dtype\": \"category\",\n        \"num_unique_values\": 29,\n        \"samples\": [\n          \"RELIGION\",\n          \"MONEY\",\n          \"LAW\"\n        ],\n        \"semantic_type\": \"\",\n        \"description\": \"\"\n      }\n    },\n    {\n      \"column\": \"start_pos\",\n      \"properties\": {\n        \"dtype\": \"number\",\n        \"std\": 1044,\n        \"min\": 0,\n        \"max\": 12918,\n        \"num_unique_values\": 3741,\n        \"samples\": [\n          6388,\n          2001,\n          721\n        ],\n        \"semantic_type\": \"\",\n        \"description\": \"\"\n      }\n    },\n    {\n      \"column\": \"end_pos\",\n      \"properties\": {\n        \"dtype\": \"number\",\n        \"std\": 1044,\n        \"min\": 2,\n        \"max\": 12930,\n        \"num_unique_values\": 3722,\n        \"samples\": [\n          2046,\n          2276,\n          2428\n        ],\n        \"semantic_type\": \"\",\n        \"description\": \"\"\n      }\n    },\n    {\n      \"column\": \"entity_text\",\n      \"properties\": {\n        \"dtype\": \"string\",\n        \"num_unique_values\": 25212,\n        \"samples\": [\n          \"\\u043f\\u0440\\u0430\\u0432\\u043e\\u043e\\u0445\\u0440\\u0430\\u043d\\u0438\\u0442\\u0435\\u043b\\u044c\\u043d\\u044b\\u0435 \\u043e\\u0440\\u0433\\u0430\\u043d\\u044b\",\n          \"\\u041c\\u0430\\u0440\\u043a\",\n          \"\\u0413\\u043b\\u0430\\u0432\\u0430 Samsung\"\n        ],\n        \"semantic_type\": \"\",\n        \"description\": \"\"\n      }\n    },\n    {\n      \"column\": \"length\",\n      \"properties\": {\n        \"dtype\": \"number\",\n        \"std\": 1523.701743942736,\n        \"min\": 426.0,\n        \"max\": 12932.0,\n        \"num_unique_values\": 735,\n        \"samples\": [\n          1177.0,\n          2374.0,\n          1596.0\n        ],\n        \"semantic_type\": \"\",\n        \"description\": \"\"\n      }\n    },\n    {\n      \"column\": \"word_count\",\n      \"properties\": {\n        \"dtype\": \"number\",\n        \"std\": 203.10867858768788,\n        \"min\": 60.0,\n        \"max\": 1710.0,\n        \"num_unique_values\": 300,\n        \"samples\": [\n          194.0,\n          118.0,\n          224.0\n        ],\n        \"semantic_type\": \"\",\n        \"description\": \"\"\n      }\n    },\n    {\n      \"column\": \"mapped_entity_type\",\n      \"properties\": {\n        \"dtype\": \"category\",\n        \"num_unique_values\": 24,\n        \"samples\": [\n          \"NUMBER\",\n          \"PRODUCT\",\n          \"LOC\"\n        ],\n        \"semantic_type\": \"\",\n        \"description\": \"\"\n      }\n    }\n  ]\n}"
            }
          },
          "metadata": {},
          "execution_count": 41
        }
      ],
      "source": [
        "# Словарь маппинга исходных типов на типы Natasha\n",
        "type_mapping = {\n",
        "    'PERSON': 'PER',\n",
        "    'ORGANIZATION': 'ORG',\n",
        "    'COUNTRY': 'LOC',\n",
        "    'DISTRICT': 'LOC',\n",
        "    'CITY': 'LOC',\n",
        "    'LOCATION': 'LOC',\n",
        "    'STATE_OR_PROVINCE': 'LOC',\n",
        "    'FACILITY': 'LOC'\n",
        "    # Остальные типы не маппируются и останутся как есть\n",
        "}\n",
        "# Применяем маппинг\n",
        "train_without_overlaps['mapped_entity_type'] = train_without_overlaps['entity_type'].map(type_mapping).fillna(train_without_overlaps['entity_type'])\n",
        "train_without_overlaps"
      ]
    },
    {
      "cell_type": "code",
      "execution_count": null,
      "metadata": {
        "id": "cp41kEP2--jf"
      },
      "outputs": [],
      "source": [
        "# Создаём уникальный идентификатор для каждой сущности\n",
        "train_without_overlaps['entity_id'] = train_without_overlaps.apply(\n",
        "    lambda row: f\"{row['text']}_{row['start_pos']}_{row['end_pos']}\", axis=1\n",
        ")\n",
        "res_exploded['entity_id'] = res_exploded.apply(\n",
        "    lambda row: f\"{row['text']}_{row['start_pos']}_{row['end_pos']}\", axis=1\n",
        ")\n"
      ]
    },
    {
      "cell_type": "code",
      "execution_count": null,
      "metadata": {
        "id": "IZVNw0Io8jyx"
      },
      "outputs": [],
      "source": [
        "# Создаём словарь предсказанных типов Natasha\n",
        "predicted_mapping = res_exploded.set_index('entity_id')['entity_type'].to_dict()\n"
      ]
    },
    {
      "cell_type": "code",
      "execution_count": null,
      "metadata": {
        "id": "kLixL5XO_aGM"
      },
      "outputs": [],
      "source": [
        "# Добавляем предсказанные типы в исходный DataFrame\n",
        "train_without_overlaps['predicted_entity_type'] = train_without_overlaps['entity_id'].map(predicted_mapping)\n",
        "\n",
        "# Создаём финальный столбец с предсказанными типами\n",
        "# Если Natasha не предсказала тип, оставляем оригинальный тип\n",
        "train_without_overlaps['final_entity_type'] = train_without_overlaps['predicted_entity_type'].fillna('UNDETECTED')\n"
      ]
    },
    {
      "cell_type": "code",
      "execution_count": null,
      "metadata": {
        "colab": {
          "base_uri": "https://localhost:8080/",
          "height": 857
        },
        "id": "hCr1H7wP_aI4",
        "outputId": "1df672c0-9ab9-49e1-ca4b-847337751eea"
      },
      "outputs": [
        {
          "output_type": "execute_result",
          "data": {
            "text/plain": [
              "                                                    text   entity_type  \\\n",
              "0      \\n\\nПалестинские СМИ прокомментировали отставк...       COUNTRY   \n",
              "1      \\n\\nПалестинские СМИ прокомментировали отставк...         EVENT   \n",
              "2      \\n\\nПалестинские СМИ прокомментировали отставк...    PROFESSION   \n",
              "5      \\n\\nПалестинские СМИ прокомментировали отставк...        PERSON   \n",
              "6      \\n\\nПалестинские СМИ прокомментировали отставк...  ORGANIZATION   \n",
              "...                                                  ...           ...   \n",
              "56250  Ярослав Песков: очередной заплыв не за горами\\...      LOCATION   \n",
              "56251  Ярослав Песков: очередной заплыв не за горами\\...        PERSON   \n",
              "56252  Ярослав Песков: очередной заплыв не за горами\\...      LOCATION   \n",
              "56253  Ярослав Песков: очередной заплыв не за горами\\...      LOCATION   \n",
              "56254  Ярослав Песков: очередной заплыв не за горами\\...      LOCATION   \n",
              "\n",
              "       start_pos  end_pos               entity_text  length  word_count  \\\n",
              "0              2       14              Палестинские  1252.0       158.0   \n",
              "1             37       45                  отставку  1252.0       158.0   \n",
              "2             46       70  министра обороны Израиля  1252.0       158.0   \n",
              "5             71       83              Эхуда Барака  1252.0       158.0   \n",
              "6            190      195                     Хамас  1252.0       158.0   \n",
              "...          ...      ...                       ...     ...         ...   \n",
              "56250        785      791                    Енисея   872.0       122.0   \n",
              "56251        800      806                    Песков   872.0       122.0   \n",
              "56252        848      852                      Неву   872.0       122.0   \n",
              "56253        854      860                    Днестр   872.0       122.0   \n",
              "56254        863      870                   Ла-Манш   872.0       122.0   \n",
              "\n",
              "      mapped_entity_type                                          entity_id  \\\n",
              "0                    LOC  \\n\\nПалестинские СМИ прокомментировали отставк...   \n",
              "1                  EVENT  \\n\\nПалестинские СМИ прокомментировали отставк...   \n",
              "2             PROFESSION  \\n\\nПалестинские СМИ прокомментировали отставк...   \n",
              "5                    PER  \\n\\nПалестинские СМИ прокомментировали отставк...   \n",
              "6                    ORG  \\n\\nПалестинские СМИ прокомментировали отставк...   \n",
              "...                  ...                                                ...   \n",
              "56250                LOC  Ярослав Песков: очередной заплыв не за горами\\...   \n",
              "56251                PER  Ярослав Песков: очередной заплыв не за горами\\...   \n",
              "56252                LOC  Ярослав Песков: очередной заплыв не за горами\\...   \n",
              "56253                LOC  Ярослав Песков: очередной заплыв не за горами\\...   \n",
              "56254                LOC  Ярослав Песков: очередной заплыв не за горами\\...   \n",
              "\n",
              "      predicted_entity_type final_entity_type  \n",
              "0                       NaN        UNDETECTED  \n",
              "1                       NaN        UNDETECTED  \n",
              "2                       NaN        UNDETECTED  \n",
              "5                       PER               PER  \n",
              "6                       ORG               ORG  \n",
              "...                     ...               ...  \n",
              "56250                   LOC               LOC  \n",
              "56251                   NaN        UNDETECTED  \n",
              "56252                   PER               PER  \n",
              "56253                   LOC               LOC  \n",
              "56254                   LOC               LOC  \n",
              "\n",
              "[46054 rows x 11 columns]"
            ],
            "text/html": [
              "\n",
              "  <div id=\"df-2f31dc1f-c415-4d5a-a20c-d30628c7eddc\" class=\"colab-df-container\">\n",
              "    <div>\n",
              "<style scoped>\n",
              "    .dataframe tbody tr th:only-of-type {\n",
              "        vertical-align: middle;\n",
              "    }\n",
              "\n",
              "    .dataframe tbody tr th {\n",
              "        vertical-align: top;\n",
              "    }\n",
              "\n",
              "    .dataframe thead th {\n",
              "        text-align: right;\n",
              "    }\n",
              "</style>\n",
              "<table border=\"1\" class=\"dataframe\">\n",
              "  <thead>\n",
              "    <tr style=\"text-align: right;\">\n",
              "      <th></th>\n",
              "      <th>text</th>\n",
              "      <th>entity_type</th>\n",
              "      <th>start_pos</th>\n",
              "      <th>end_pos</th>\n",
              "      <th>entity_text</th>\n",
              "      <th>length</th>\n",
              "      <th>word_count</th>\n",
              "      <th>mapped_entity_type</th>\n",
              "      <th>entity_id</th>\n",
              "      <th>predicted_entity_type</th>\n",
              "      <th>final_entity_type</th>\n",
              "    </tr>\n",
              "  </thead>\n",
              "  <tbody>\n",
              "    <tr>\n",
              "      <th>0</th>\n",
              "      <td>\\n\\nПалестинские СМИ прокомментировали отставк...</td>\n",
              "      <td>COUNTRY</td>\n",
              "      <td>2</td>\n",
              "      <td>14</td>\n",
              "      <td>Палестинские</td>\n",
              "      <td>1252.0</td>\n",
              "      <td>158.0</td>\n",
              "      <td>LOC</td>\n",
              "      <td>\\n\\nПалестинские СМИ прокомментировали отставк...</td>\n",
              "      <td>NaN</td>\n",
              "      <td>UNDETECTED</td>\n",
              "    </tr>\n",
              "    <tr>\n",
              "      <th>1</th>\n",
              "      <td>\\n\\nПалестинские СМИ прокомментировали отставк...</td>\n",
              "      <td>EVENT</td>\n",
              "      <td>37</td>\n",
              "      <td>45</td>\n",
              "      <td>отставку</td>\n",
              "      <td>1252.0</td>\n",
              "      <td>158.0</td>\n",
              "      <td>EVENT</td>\n",
              "      <td>\\n\\nПалестинские СМИ прокомментировали отставк...</td>\n",
              "      <td>NaN</td>\n",
              "      <td>UNDETECTED</td>\n",
              "    </tr>\n",
              "    <tr>\n",
              "      <th>2</th>\n",
              "      <td>\\n\\nПалестинские СМИ прокомментировали отставк...</td>\n",
              "      <td>PROFESSION</td>\n",
              "      <td>46</td>\n",
              "      <td>70</td>\n",
              "      <td>министра обороны Израиля</td>\n",
              "      <td>1252.0</td>\n",
              "      <td>158.0</td>\n",
              "      <td>PROFESSION</td>\n",
              "      <td>\\n\\nПалестинские СМИ прокомментировали отставк...</td>\n",
              "      <td>NaN</td>\n",
              "      <td>UNDETECTED</td>\n",
              "    </tr>\n",
              "    <tr>\n",
              "      <th>5</th>\n",
              "      <td>\\n\\nПалестинские СМИ прокомментировали отставк...</td>\n",
              "      <td>PERSON</td>\n",
              "      <td>71</td>\n",
              "      <td>83</td>\n",
              "      <td>Эхуда Барака</td>\n",
              "      <td>1252.0</td>\n",
              "      <td>158.0</td>\n",
              "      <td>PER</td>\n",
              "      <td>\\n\\nПалестинские СМИ прокомментировали отставк...</td>\n",
              "      <td>PER</td>\n",
              "      <td>PER</td>\n",
              "    </tr>\n",
              "    <tr>\n",
              "      <th>6</th>\n",
              "      <td>\\n\\nПалестинские СМИ прокомментировали отставк...</td>\n",
              "      <td>ORGANIZATION</td>\n",
              "      <td>190</td>\n",
              "      <td>195</td>\n",
              "      <td>Хамас</td>\n",
              "      <td>1252.0</td>\n",
              "      <td>158.0</td>\n",
              "      <td>ORG</td>\n",
              "      <td>\\n\\nПалестинские СМИ прокомментировали отставк...</td>\n",
              "      <td>ORG</td>\n",
              "      <td>ORG</td>\n",
              "    </tr>\n",
              "    <tr>\n",
              "      <th>...</th>\n",
              "      <td>...</td>\n",
              "      <td>...</td>\n",
              "      <td>...</td>\n",
              "      <td>...</td>\n",
              "      <td>...</td>\n",
              "      <td>...</td>\n",
              "      <td>...</td>\n",
              "      <td>...</td>\n",
              "      <td>...</td>\n",
              "      <td>...</td>\n",
              "      <td>...</td>\n",
              "    </tr>\n",
              "    <tr>\n",
              "      <th>56250</th>\n",
              "      <td>Ярослав Песков: очередной заплыв не за горами\\...</td>\n",
              "      <td>LOCATION</td>\n",
              "      <td>785</td>\n",
              "      <td>791</td>\n",
              "      <td>Енисея</td>\n",
              "      <td>872.0</td>\n",
              "      <td>122.0</td>\n",
              "      <td>LOC</td>\n",
              "      <td>Ярослав Песков: очередной заплыв не за горами\\...</td>\n",
              "      <td>LOC</td>\n",
              "      <td>LOC</td>\n",
              "    </tr>\n",
              "    <tr>\n",
              "      <th>56251</th>\n",
              "      <td>Ярослав Песков: очередной заплыв не за горами\\...</td>\n",
              "      <td>PERSON</td>\n",
              "      <td>800</td>\n",
              "      <td>806</td>\n",
              "      <td>Песков</td>\n",
              "      <td>872.0</td>\n",
              "      <td>122.0</td>\n",
              "      <td>PER</td>\n",
              "      <td>Ярослав Песков: очередной заплыв не за горами\\...</td>\n",
              "      <td>NaN</td>\n",
              "      <td>UNDETECTED</td>\n",
              "    </tr>\n",
              "    <tr>\n",
              "      <th>56252</th>\n",
              "      <td>Ярослав Песков: очередной заплыв не за горами\\...</td>\n",
              "      <td>LOCATION</td>\n",
              "      <td>848</td>\n",
              "      <td>852</td>\n",
              "      <td>Неву</td>\n",
              "      <td>872.0</td>\n",
              "      <td>122.0</td>\n",
              "      <td>LOC</td>\n",
              "      <td>Ярослав Песков: очередной заплыв не за горами\\...</td>\n",
              "      <td>PER</td>\n",
              "      <td>PER</td>\n",
              "    </tr>\n",
              "    <tr>\n",
              "      <th>56253</th>\n",
              "      <td>Ярослав Песков: очередной заплыв не за горами\\...</td>\n",
              "      <td>LOCATION</td>\n",
              "      <td>854</td>\n",
              "      <td>860</td>\n",
              "      <td>Днестр</td>\n",
              "      <td>872.0</td>\n",
              "      <td>122.0</td>\n",
              "      <td>LOC</td>\n",
              "      <td>Ярослав Песков: очередной заплыв не за горами\\...</td>\n",
              "      <td>LOC</td>\n",
              "      <td>LOC</td>\n",
              "    </tr>\n",
              "    <tr>\n",
              "      <th>56254</th>\n",
              "      <td>Ярослав Песков: очередной заплыв не за горами\\...</td>\n",
              "      <td>LOCATION</td>\n",
              "      <td>863</td>\n",
              "      <td>870</td>\n",
              "      <td>Ла-Манш</td>\n",
              "      <td>872.0</td>\n",
              "      <td>122.0</td>\n",
              "      <td>LOC</td>\n",
              "      <td>Ярослав Песков: очередной заплыв не за горами\\...</td>\n",
              "      <td>LOC</td>\n",
              "      <td>LOC</td>\n",
              "    </tr>\n",
              "  </tbody>\n",
              "</table>\n",
              "<p>46054 rows × 11 columns</p>\n",
              "</div>\n",
              "    <div class=\"colab-df-buttons\">\n",
              "\n",
              "  <div class=\"colab-df-container\">\n",
              "    <button class=\"colab-df-convert\" onclick=\"convertToInteractive('df-2f31dc1f-c415-4d5a-a20c-d30628c7eddc')\"\n",
              "            title=\"Convert this dataframe to an interactive table.\"\n",
              "            style=\"display:none;\">\n",
              "\n",
              "  <svg xmlns=\"http://www.w3.org/2000/svg\" height=\"24px\" viewBox=\"0 -960 960 960\">\n",
              "    <path d=\"M120-120v-720h720v720H120Zm60-500h600v-160H180v160Zm220 220h160v-160H400v160Zm0 220h160v-160H400v160ZM180-400h160v-160H180v160Zm440 0h160v-160H620v160ZM180-180h160v-160H180v160Zm440 0h160v-160H620v160Z\"/>\n",
              "  </svg>\n",
              "    </button>\n",
              "\n",
              "  <style>\n",
              "    .colab-df-container {\n",
              "      display:flex;\n",
              "      gap: 12px;\n",
              "    }\n",
              "\n",
              "    .colab-df-convert {\n",
              "      background-color: #E8F0FE;\n",
              "      border: none;\n",
              "      border-radius: 50%;\n",
              "      cursor: pointer;\n",
              "      display: none;\n",
              "      fill: #1967D2;\n",
              "      height: 32px;\n",
              "      padding: 0 0 0 0;\n",
              "      width: 32px;\n",
              "    }\n",
              "\n",
              "    .colab-df-convert:hover {\n",
              "      background-color: #E2EBFA;\n",
              "      box-shadow: 0px 1px 2px rgba(60, 64, 67, 0.3), 0px 1px 3px 1px rgba(60, 64, 67, 0.15);\n",
              "      fill: #174EA6;\n",
              "    }\n",
              "\n",
              "    .colab-df-buttons div {\n",
              "      margin-bottom: 4px;\n",
              "    }\n",
              "\n",
              "    [theme=dark] .colab-df-convert {\n",
              "      background-color: #3B4455;\n",
              "      fill: #D2E3FC;\n",
              "    }\n",
              "\n",
              "    [theme=dark] .colab-df-convert:hover {\n",
              "      background-color: #434B5C;\n",
              "      box-shadow: 0px 1px 3px 1px rgba(0, 0, 0, 0.15);\n",
              "      filter: drop-shadow(0px 1px 2px rgba(0, 0, 0, 0.3));\n",
              "      fill: #FFFFFF;\n",
              "    }\n",
              "  </style>\n",
              "\n",
              "    <script>\n",
              "      const buttonEl =\n",
              "        document.querySelector('#df-2f31dc1f-c415-4d5a-a20c-d30628c7eddc button.colab-df-convert');\n",
              "      buttonEl.style.display =\n",
              "        google.colab.kernel.accessAllowed ? 'block' : 'none';\n",
              "\n",
              "      async function convertToInteractive(key) {\n",
              "        const element = document.querySelector('#df-2f31dc1f-c415-4d5a-a20c-d30628c7eddc');\n",
              "        const dataTable =\n",
              "          await google.colab.kernel.invokeFunction('convertToInteractive',\n",
              "                                                    [key], {});\n",
              "        if (!dataTable) return;\n",
              "\n",
              "        const docLinkHtml = 'Like what you see? Visit the ' +\n",
              "          '<a target=\"_blank\" href=https://colab.research.google.com/notebooks/data_table.ipynb>data table notebook</a>'\n",
              "          + ' to learn more about interactive tables.';\n",
              "        element.innerHTML = '';\n",
              "        dataTable['output_type'] = 'display_data';\n",
              "        await google.colab.output.renderOutput(dataTable, element);\n",
              "        const docLink = document.createElement('div');\n",
              "        docLink.innerHTML = docLinkHtml;\n",
              "        element.appendChild(docLink);\n",
              "      }\n",
              "    </script>\n",
              "  </div>\n",
              "\n",
              "\n",
              "<div id=\"df-4034290e-9f1a-4d85-8dab-d06665e3a832\">\n",
              "  <button class=\"colab-df-quickchart\" onclick=\"quickchart('df-4034290e-9f1a-4d85-8dab-d06665e3a832')\"\n",
              "            title=\"Suggest charts\"\n",
              "            style=\"display:none;\">\n",
              "\n",
              "<svg xmlns=\"http://www.w3.org/2000/svg\" height=\"24px\"viewBox=\"0 0 24 24\"\n",
              "     width=\"24px\">\n",
              "    <g>\n",
              "        <path d=\"M19 3H5c-1.1 0-2 .9-2 2v14c0 1.1.9 2 2 2h14c1.1 0 2-.9 2-2V5c0-1.1-.9-2-2-2zM9 17H7v-7h2v7zm4 0h-2V7h2v10zm4 0h-2v-4h2v4z\"/>\n",
              "    </g>\n",
              "</svg>\n",
              "  </button>\n",
              "\n",
              "<style>\n",
              "  .colab-df-quickchart {\n",
              "      --bg-color: #E8F0FE;\n",
              "      --fill-color: #1967D2;\n",
              "      --hover-bg-color: #E2EBFA;\n",
              "      --hover-fill-color: #174EA6;\n",
              "      --disabled-fill-color: #AAA;\n",
              "      --disabled-bg-color: #DDD;\n",
              "  }\n",
              "\n",
              "  [theme=dark] .colab-df-quickchart {\n",
              "      --bg-color: #3B4455;\n",
              "      --fill-color: #D2E3FC;\n",
              "      --hover-bg-color: #434B5C;\n",
              "      --hover-fill-color: #FFFFFF;\n",
              "      --disabled-bg-color: #3B4455;\n",
              "      --disabled-fill-color: #666;\n",
              "  }\n",
              "\n",
              "  .colab-df-quickchart {\n",
              "    background-color: var(--bg-color);\n",
              "    border: none;\n",
              "    border-radius: 50%;\n",
              "    cursor: pointer;\n",
              "    display: none;\n",
              "    fill: var(--fill-color);\n",
              "    height: 32px;\n",
              "    padding: 0;\n",
              "    width: 32px;\n",
              "  }\n",
              "\n",
              "  .colab-df-quickchart:hover {\n",
              "    background-color: var(--hover-bg-color);\n",
              "    box-shadow: 0 1px 2px rgba(60, 64, 67, 0.3), 0 1px 3px 1px rgba(60, 64, 67, 0.15);\n",
              "    fill: var(--button-hover-fill-color);\n",
              "  }\n",
              "\n",
              "  .colab-df-quickchart-complete:disabled,\n",
              "  .colab-df-quickchart-complete:disabled:hover {\n",
              "    background-color: var(--disabled-bg-color);\n",
              "    fill: var(--disabled-fill-color);\n",
              "    box-shadow: none;\n",
              "  }\n",
              "\n",
              "  .colab-df-spinner {\n",
              "    border: 2px solid var(--fill-color);\n",
              "    border-color: transparent;\n",
              "    border-bottom-color: var(--fill-color);\n",
              "    animation:\n",
              "      spin 1s steps(1) infinite;\n",
              "  }\n",
              "\n",
              "  @keyframes spin {\n",
              "    0% {\n",
              "      border-color: transparent;\n",
              "      border-bottom-color: var(--fill-color);\n",
              "      border-left-color: var(--fill-color);\n",
              "    }\n",
              "    20% {\n",
              "      border-color: transparent;\n",
              "      border-left-color: var(--fill-color);\n",
              "      border-top-color: var(--fill-color);\n",
              "    }\n",
              "    30% {\n",
              "      border-color: transparent;\n",
              "      border-left-color: var(--fill-color);\n",
              "      border-top-color: var(--fill-color);\n",
              "      border-right-color: var(--fill-color);\n",
              "    }\n",
              "    40% {\n",
              "      border-color: transparent;\n",
              "      border-right-color: var(--fill-color);\n",
              "      border-top-color: var(--fill-color);\n",
              "    }\n",
              "    60% {\n",
              "      border-color: transparent;\n",
              "      border-right-color: var(--fill-color);\n",
              "    }\n",
              "    80% {\n",
              "      border-color: transparent;\n",
              "      border-right-color: var(--fill-color);\n",
              "      border-bottom-color: var(--fill-color);\n",
              "    }\n",
              "    90% {\n",
              "      border-color: transparent;\n",
              "      border-bottom-color: var(--fill-color);\n",
              "    }\n",
              "  }\n",
              "</style>\n",
              "\n",
              "  <script>\n",
              "    async function quickchart(key) {\n",
              "      const quickchartButtonEl =\n",
              "        document.querySelector('#' + key + ' button');\n",
              "      quickchartButtonEl.disabled = true;  // To prevent multiple clicks.\n",
              "      quickchartButtonEl.classList.add('colab-df-spinner');\n",
              "      try {\n",
              "        const charts = await google.colab.kernel.invokeFunction(\n",
              "            'suggestCharts', [key], {});\n",
              "      } catch (error) {\n",
              "        console.error('Error during call to suggestCharts:', error);\n",
              "      }\n",
              "      quickchartButtonEl.classList.remove('colab-df-spinner');\n",
              "      quickchartButtonEl.classList.add('colab-df-quickchart-complete');\n",
              "    }\n",
              "    (() => {\n",
              "      let quickchartButtonEl =\n",
              "        document.querySelector('#df-4034290e-9f1a-4d85-8dab-d06665e3a832 button');\n",
              "      quickchartButtonEl.style.display =\n",
              "        google.colab.kernel.accessAllowed ? 'block' : 'none';\n",
              "    })();\n",
              "  </script>\n",
              "</div>\n",
              "\n",
              "  <div id=\"id_3205d8f7-e5c0-489a-9503-dd07235472ce\">\n",
              "    <style>\n",
              "      .colab-df-generate {\n",
              "        background-color: #E8F0FE;\n",
              "        border: none;\n",
              "        border-radius: 50%;\n",
              "        cursor: pointer;\n",
              "        display: none;\n",
              "        fill: #1967D2;\n",
              "        height: 32px;\n",
              "        padding: 0 0 0 0;\n",
              "        width: 32px;\n",
              "      }\n",
              "\n",
              "      .colab-df-generate:hover {\n",
              "        background-color: #E2EBFA;\n",
              "        box-shadow: 0px 1px 2px rgba(60, 64, 67, 0.3), 0px 1px 3px 1px rgba(60, 64, 67, 0.15);\n",
              "        fill: #174EA6;\n",
              "      }\n",
              "\n",
              "      [theme=dark] .colab-df-generate {\n",
              "        background-color: #3B4455;\n",
              "        fill: #D2E3FC;\n",
              "      }\n",
              "\n",
              "      [theme=dark] .colab-df-generate:hover {\n",
              "        background-color: #434B5C;\n",
              "        box-shadow: 0px 1px 3px 1px rgba(0, 0, 0, 0.15);\n",
              "        filter: drop-shadow(0px 1px 2px rgba(0, 0, 0, 0.3));\n",
              "        fill: #FFFFFF;\n",
              "      }\n",
              "    </style>\n",
              "    <button class=\"colab-df-generate\" onclick=\"generateWithVariable('train_without_overlaps')\"\n",
              "            title=\"Generate code using this dataframe.\"\n",
              "            style=\"display:none;\">\n",
              "\n",
              "  <svg xmlns=\"http://www.w3.org/2000/svg\" height=\"24px\"viewBox=\"0 0 24 24\"\n",
              "       width=\"24px\">\n",
              "    <path d=\"M7,19H8.4L18.45,9,17,7.55,7,17.6ZM5,21V16.75L18.45,3.32a2,2,0,0,1,2.83,0l1.4,1.43a1.91,1.91,0,0,1,.58,1.4,1.91,1.91,0,0,1-.58,1.4L9.25,21ZM18.45,9,17,7.55Zm-12,3A5.31,5.31,0,0,0,4.9,8.1,5.31,5.31,0,0,0,1,6.5,5.31,5.31,0,0,0,4.9,4.9,5.31,5.31,0,0,0,6.5,1,5.31,5.31,0,0,0,8.1,4.9,5.31,5.31,0,0,0,12,6.5,5.46,5.46,0,0,0,6.5,12Z\"/>\n",
              "  </svg>\n",
              "    </button>\n",
              "    <script>\n",
              "      (() => {\n",
              "      const buttonEl =\n",
              "        document.querySelector('#id_3205d8f7-e5c0-489a-9503-dd07235472ce button.colab-df-generate');\n",
              "      buttonEl.style.display =\n",
              "        google.colab.kernel.accessAllowed ? 'block' : 'none';\n",
              "\n",
              "      buttonEl.onclick = () => {\n",
              "        google.colab.notebook.generateWithVariable('train_without_overlaps');\n",
              "      }\n",
              "      })();\n",
              "    </script>\n",
              "  </div>\n",
              "\n",
              "    </div>\n",
              "  </div>\n"
            ],
            "application/vnd.google.colaboratory.intrinsic+json": {
              "type": "dataframe",
              "variable_name": "train_without_overlaps",
              "summary": "{\n  \"name\": \"train_without_overlaps\",\n  \"rows\": 46054,\n  \"fields\": [\n    {\n      \"column\": \"text\",\n      \"properties\": {\n        \"dtype\": \"category\",\n        \"num_unique_values\": 933,\n        \"samples\": [\n          \"\\u0423\\u043c\\u0435\\u0440 \\u0424\\u0438\\u0434\\u0435\\u043b\\u044c \\u041a\\u0430\\u0441\\u0442\\u0440\\u043e\\n\\n\\u0424\\u0438\\u0434\\u0435\\u043b\\u044c \\u041a\\u0430\\u0441\\u0442\\u0440\\u043e\\n26 \\u043d\\u043e\\u044f\\u0431\\u0440\\u044f 2016 \\u0433\\u043e\\u0434\\u0430 \\u0443\\u043c\\u0435\\u0440 \\u043b\\u0438\\u0434\\u0435\\u0440 \\u043a\\u0443\\u0431\\u0438\\u043d\\u0441\\u043a\\u043e\\u0439 \\u0440\\u0435\\u0432\\u043e\\u043b\\u044e\\u0446\\u0438\\u0438 \\u0424\\u0438\\u0434\\u0435\\u043b\\u044c \\u041a\\u0430\\u0441\\u0442\\u0440\\u043e. \\u041d\\u0430 \\u043c\\u043e\\u043c\\u0435\\u043d\\u0442 \\u0441\\u043c\\u0435\\u0440\\u0442\\u0438 \\u0435\\u043c\\u0443 \\u0431\\u044b\\u043b\\u043e 90 \\u043b\\u0435\\u0442.\\n\\n\\u041e\\u0431 \\u044d\\u0442\\u043e\\u043c \\u0441\\u043e\\u043e\\u0431\\u0449\\u0438\\u043b \\u0435\\u0433\\u043e \\u0431\\u0440\\u0430\\u0442 \\u0420\\u0430\\u0443\\u043b\\u044c \\u041a\\u0430\\u0441\\u0442\\u0440\\u043e, \\u043f\\u0440\\u0435\\u0434\\u0441\\u0435\\u0434\\u0430\\u0442\\u0435\\u043b\\u044c \\u0413\\u043e\\u0441\\u0443\\u0434\\u0430\\u0440\\u0441\\u0442\\u0432\\u0435\\u043d\\u043d\\u043e\\u0433\\u043e \\u0441\\u043e\\u0432\\u0435\\u0442\\u0430 \\u041a\\u0443\\u0431\\u044b, \\u0432 \\u044d\\u0444\\u0438\\u0440\\u0435 \\u0433\\u043e\\u0441\\u0443\\u0434\\u0430\\u0440\\u0441\\u0442\\u0432\\u0435\\u043d\\u043d\\u043e\\u0433\\u043e \\u0442\\u0435\\u043b\\u0435\\u0432\\u0438\\u0434\\u0435\\u043d\\u0438\\u044f. \\u041f\\u043e \\u0435\\u0433\\u043e \\u0441\\u043e\\u043e\\u0431\\u0449\\u0435\\u043d\\u0438\\u044e, \\u0424\\u0438\\u0434\\u0435\\u043b\\u044c \\u0443\\u043c\\u0435\\u0440 \\u0432 19:00 25 \\u043d\\u043e\\u044f\\u0431\\u0440\\u044f 2016 \\u0433\\u043e\\u0434\\u0430 (3:00 \\u043f\\u043e \\u043c\\u043e\\u0441\\u043a\\u043e\\u0432\\u0441\\u043a\\u043e\\u043c\\u0443 \\u0432\\u0440\\u0435\\u043c\\u0435\\u043d\\u0438).\\n\\n\\u0412 \\u0430\\u043f\\u0440\\u0435\\u043b\\u0435 \\u0424\\u0438\\u0434\\u0435\\u043b\\u044c \\u041a\\u0430\\u0441\\u0442\\u0440\\u043e \\u0432\\u044b\\u0441\\u0442\\u0443\\u043f\\u0438\\u043b \\u0441 \\u0440\\u0435\\u0447\\u044c\\u044e:\\n\\n\\n\\u0424\\u0438\\u0434\\u0435\\u043b\\u044c \\u0410\\u043b\\u0435\\u0445\\u0430\\u043d\\u0434\\u0440\\u043e \\u041a\\u0430\\u0441\\u0442\\u0440\\u043e \\u0420\\u0443\\u0441 \\u0440\\u043e\\u0434\\u0438\\u043b\\u0441\\u044f 13 \\u0430\\u0432\\u0433\\u0443\\u0441\\u0442\\u0430 1926 \\u0433\\u043e\\u0434\\u0430 \\u0432 \\u0411\\u0438\\u0440\\u0430\\u043d\\u0435, \\u041a\\u0443\\u0431\\u0430 \\u0432 \\u0441\\u0435\\u043c\\u044c\\u0435 \\u043a\\u0440\\u0443\\u043f\\u043d\\u043e\\u0433\\u043e \\u0437\\u0435\\u043c\\u043b\\u0435\\u0432\\u043b\\u0430\\u0434\\u0435\\u043b\\u044c\\u0446\\u0430. \\u0412\\u043e \\u0432\\u0440\\u0435\\u043c\\u044f \\u0443\\u0447\\u0451\\u0431\\u044b \\u043d\\u0430 \\u044e\\u0440\\u0438\\u0434\\u0438\\u0447\\u0435\\u0441\\u043a\\u043e\\u043c \\u0444\\u0430\\u043a\\u0443\\u043b\\u044c\\u0442\\u0435\\u0442\\u0435 \\u0413\\u0430\\u0432\\u0430\\u043d\\u0441\\u043a\\u043e\\u0433\\u043e \\u0443\\u043d\\u0438\\u0432\\u0435\\u0440\\u0441\\u0438\\u0442\\u0435\\u0442\\u0430 \\u041a\\u0430\\u0441\\u0442\\u0440\\u043e \\u043f\\u0440\\u0438\\u043e\\u0431\\u0440\\u0451\\u043b \\u043b\\u0435\\u0432\\u044b\\u0435 \\u0430\\u043d\\u0442\\u0438\\u0438\\u043c\\u043f\\u0435\\u0440\\u0438\\u0430\\u043b\\u0438\\u0441\\u0442\\u0438\\u0447\\u0435\\u0441\\u043a\\u0438\\u0435 \\u0432\\u0437\\u0433\\u043b\\u044f\\u0434\\u044b. \\u0412 1954 \\u0433\\u043e\\u0434\\u0443 \\u0441\\u043e\\u0432\\u043c\\u0435\\u0441\\u0442\\u043d\\u043e \\u0441 \\u0427\\u0435 \\u0413\\u0435\\u0432\\u0430\\u0440\\u043e\\u0439 \\u0438 \\u0441\\u0432\\u043e\\u0438\\u043c \\u0431\\u0440\\u0430\\u0442\\u043e\\u043c \\u0420\\u0430\\u0443\\u043b\\u0435\\u043c \\u043e\\u0440\\u0433\\u0430\\u043d\\u0438\\u0437\\u043e\\u0432\\u0430\\u043b \\u0440\\u0435\\u0432\\u043e\\u043b\\u044e\\u0446\\u0438\\u043e\\u043d\\u043d\\u043e\\u0435 \\u0414\\u0432\\u0438\\u0436\\u0435\\u043d\\u0438\\u0435 26 \\u0438\\u044e\\u043b\\u044f. \\u0412\\u0435\\u0440\\u043d\\u0443\\u0432\\u0448\\u0438\\u0441\\u044c \\u043d\\u0430 \\u041a\\u0443\\u0431\\u0443, \\u043e\\u043d \\u0432\\u043e\\u0437\\u0433\\u043b\\u0430\\u0432\\u0438\\u043b \\u043f\\u0430\\u0440\\u0442\\u0438\\u0437\\u0430\\u043d\\u0441\\u043a\\u0443\\u044e \\u0432\\u043e\\u0439\\u043d\\u0443 \\u043f\\u0440\\u043e\\u0442\\u0438\\u0432 \\u0440\\u0435\\u0436\\u0438\\u043c\\u0430 \\u0411\\u0430\\u0442\\u0438\\u0441\\u0442\\u044b. \\u0412 1959 \\u0433\\u043e\\u0434\\u0443 \\u0440\\u0435\\u0432\\u043e\\u043b\\u044e\\u0446\\u0438\\u043e\\u043d\\u0435\\u0440\\u044b \\u043f\\u0440\\u0438\\u0448\\u043b\\u0438 \\u043a \\u0432\\u043b\\u0430\\u0441\\u0442\\u0438. \\u0412 1961 \\u0433\\u043e\\u0434\\u0443 \\u0421\\u0428\\u0410 \\u043f\\u0440\\u0435\\u0434\\u043f\\u0440\\u0438\\u043d\\u044f\\u043b\\u0438 \\u043f\\u043e\\u043f\\u044b\\u0442\\u043a\\u0443 \\u0441\\u0432\\u0435\\u0440\\u0436\\u0435\\u043d\\u0438\\u044f \\u041a\\u0430\\u0441\\u0442\\u0440\\u043e, \\u043e\\u0434\\u043d\\u0430\\u043a\\u043e \\u0432\\u044b\\u0441\\u0430\\u0434\\u043a\\u0430 \\u0432 \\u0417\\u0430\\u043b\\u0438\\u0432\\u0435 \\u0421\\u0432\\u0438\\u043d\\u0435\\u0439 \\u0437\\u0430\\u0432\\u0435\\u0440\\u0448\\u0438\\u043b\\u0430\\u0441\\u044c \\u0443\\u043d\\u0438\\u0447\\u0442\\u043e\\u0436\\u0435\\u043d\\u0438\\u0435\\u043c \\u0434\\u0435\\u0441\\u0430\\u043d\\u0442\\u0430.\\n\\n\\u0412 1961 \\u0433\\u043e\\u0434\\u0443 \\u041a\\u0430\\u0441\\u0442\\u0440\\u043e \\u043f\\u0440\\u043e\\u0432\\u043e\\u0437\\u0433\\u043b\\u0430\\u0441\\u0438\\u043b \\u0441\\u043e\\u0446\\u0438\\u0430\\u043b\\u0438\\u0441\\u0442\\u0438\\u0447\\u0435\\u0441\\u043a\\u0438\\u0439 \\u0445\\u0430\\u0440\\u0430\\u043a\\u0442\\u0435\\u0440 \\u043a\\u0443\\u0431\\u0438\\u043d\\u0441\\u043a\\u043e\\u0439 \\u0440\\u0435\\u0432\\u043e\\u043b\\u044e\\u0446\\u0438\\u0438. \\u041a\\u0443\\u0431\\u0430 \\u0441\\u0442\\u0430\\u043b\\u0430 \\u043e\\u0434\\u043d\\u043e\\u043f\\u0430\\u0440\\u0442\\u0438\\u0439\\u043d\\u044b\\u043c \\u0433\\u043e\\u0441\\u0443\\u0434\\u0430\\u0440\\u0441\\u0442\\u0432\\u043e\\u043c \\u043f\\u043e\\u0434 \\u0440\\u0443\\u043a\\u043e\\u0432\\u043e\\u0434\\u0441\\u0442\\u0432\\u043e\\u043c \\u043a\\u043e\\u043c\\u043f\\u0430\\u0440\\u0442\\u0438\\u0438, \\u043f\\u0435\\u0440\\u0432\\u044b\\u043c \\u0432 \\u0417\\u0430\\u043f\\u0430\\u0434\\u043d\\u043e\\u043c \\u043f\\u043e\\u043b\\u0443\\u0448\\u0430\\u0440\\u0438\\u0438. \\u0411\\u044b\\u043b\\u0430 \\u043f\\u0440\\u0438\\u043d\\u044f\\u0442\\u0430 \\u043c\\u0430\\u0440\\u043a\\u0441\\u0438\\u0441\\u0442\\u0441\\u043a\\u043e-\\u043b\\u0435\\u043d\\u0438\\u043d\\u0441\\u043a\\u0430\\u044f \\u043c\\u043e\\u0434\\u0435\\u043b\\u044c \\u0440\\u0430\\u0437\\u0432\\u0438\\u0442\\u0438\\u044f, \\u043f\\u0440\\u043e\\u0432\\u0435\\u0434\\u0435\\u043d\\u044b \\u0441\\u043e\\u0446\\u0438\\u0430\\u043b\\u0438\\u0441\\u0442\\u0438\\u0447\\u0435\\u0441\\u043a\\u0438\\u0435 \\u0440\\u0435\\u0444\\u043e\\u0440\\u043c\\u044b, \\u044d\\u043a\\u043e\\u043d\\u043e\\u043c\\u0438\\u043a\\u0430 \\u043f\\u043e\\u0441\\u0442\\u0430\\u0432\\u043b\\u0435\\u043d\\u0430 \\u043f\\u043e\\u0434 \\u0446\\u0435\\u043d\\u0442\\u0440\\u0430\\u043b\\u0438\\u0437\\u043e\\u0432\\u0430\\u043d\\u043d\\u044b\\u0439 \\u043a\\u043e\\u043d\\u0442\\u0440\\u043e\\u043b\\u044c, \\u043f\\u0440\\u0438\\u043d\\u044f\\u0442\\u044b \\u043c\\u0435\\u0440\\u044b \\u043f\\u043e \\u0440\\u0430\\u0437\\u0432\\u0438\\u0442\\u0438\\u044e \\u043e\\u0431\\u0440\\u0430\\u0437\\u043e\\u0432\\u0430\\u043d\\u0438\\u044f \\u0438 \\u0437\\u0434\\u0440\\u0430\\u0432\\u043e\\u043e\\u0445\\u0440\\u0430\\u043d\\u0435\\u043d\\u0438\\u044f, \\u043a\\u043e\\u0442\\u043e\\u0440\\u044b\\u0435, \\u0432\\u043c\\u0435\\u0441\\u0442\\u0435 \\u0441 \\u0442\\u0435\\u043c, \\u0441\\u043e\\u043f\\u0440\\u043e\\u0432\\u043e\\u0436\\u0434\\u0430\\u043b\\u0438\\u0441\\u044c \\u0443\\u0441\\u0442\\u0430\\u043d\\u043e\\u0432\\u043b\\u0435\\u043d\\u0438\\u0435\\u043c \\u0433\\u043e\\u0441\\u0443\\u0434\\u0430\\u0440\\u0441\\u0442\\u0432\\u0435\\u043d\\u043d\\u043e\\u0433\\u043e \\u043a\\u043e\\u043d\\u0442\\u0440\\u043e\\u043b\\u044f \\u043d\\u0430\\u0434 \\u043f\\u0440\\u0435\\u0441\\u0441\\u043e\\u0439 \\u0438 \\u043f\\u043e\\u0434\\u0430\\u0432\\u043b\\u0435\\u043d\\u0438\\u0435\\u043c \\u0438\\u043d\\u0430\\u043a\\u043e\\u043c\\u044b\\u0441\\u043b\\u0438\\u044f. 31 \\u0438\\u044e\\u043b\\u044f 2006 \\u0433\\u043e\\u0434\\u0430 \\u041a\\u0430\\u0441\\u0442\\u0440\\u043e \\u043f\\u043e \\u0441\\u043e\\u0441\\u0442\\u043e\\u044f\\u043d\\u0438\\u044e \\u0437\\u0434\\u043e\\u0440\\u043e\\u0432\\u044c\\u044f \\u043f\\u0435\\u0440\\u0435\\u0434\\u0430\\u043b \\u0438\\u0441\\u043f\\u043e\\u043b\\u043d\\u0435\\u043d\\u0438\\u0435 \\u043e\\u0431\\u044f\\u0437\\u0430\\u043d\\u043d\\u043e\\u0441\\u0442\\u0435\\u0439 \\u043d\\u0430 \\u0432\\u0441\\u0435\\u0445 \\u0441\\u0432\\u043e\\u0438\\u0445 \\u043a\\u043b\\u044e\\u0447\\u0435\\u0432\\u044b\\u0445 \\u0434\\u043e\\u043b\\u0436\\u043d\\u043e\\u0441\\u0442\\u044f\\u0445 \\u0441\\u0432\\u043e\\u0435\\u043c\\u0443 \\u0431\\u0440\\u0430\\u0442\\u0443 \\u0420\\u0430\\u0443\\u043b\\u044e. 24 \\u0444\\u0435\\u0432\\u0440\\u0430\\u043b\\u044f 2008 \\u0433\\u043e\\u0434\\u0430 \\u043e\\u043d \\u043f\\u043e\\u043a\\u0438\\u043d\\u0443\\u043b \\u0432\\u0441\\u0435 \\u0433\\u043e\\u0441\\u0443\\u0434\\u0430\\u0440\\u0441\\u0442\\u0432\\u0435\\u043d\\u043d\\u044b\\u0435 \\u0434\\u043e\\u043b\\u0436\\u043d\\u043e\\u0441\\u0442\\u0438, \\u0430 19 \\u0430\\u043f\\u0440\\u0435\\u043b\\u044f 2011 \\u0433\\u043e\\u0434\\u0430 \\u0443\\u0448\\u0451\\u043b \\u0438 \\u0441 \\u043f\\u043e\\u0441\\u0442\\u0430 \\u0433\\u043b\\u0430\\u0432\\u044b \\u043f\\u0440\\u0430\\u0432\\u044f\\u0449\\u0435\\u0439 \\u043f\\u0430\\u0440\\u0442\\u0438\\u0438.\\n\\n\\n\\n\",\n          \"\\u0411.\\u041e\\u0431\\u0430\\u043c\\u0430 \\u043d\\u0430\\u0437\\u043d\\u0430\\u0447\\u0438\\u043b \\u043d\\u043e\\u0432\\u043e\\u0433\\u043e \\u0441\\u043e\\u0432\\u0435\\u0442\\u043d\\u0438\\u043a\\u0430 \\u043f\\u043e \\u043d\\u0430\\u0446\\u0438\\u043e\\u043d\\u0430\\u043b\\u044c\\u043d\\u043e\\u0439 \\u0431\\u0435\\u0437\\u043e\\u043f\\u0430\\u0441\\u043d\\u043e\\u0441\\u0442\\u0438\\n\\n\\u041f\\u0440\\u0435\\u0437\\u0438\\u0434\\u0435\\u043d\\u0442 \\u0421\\u0428\\u0410 \\u0411\\u0430\\u0440\\u0430\\u043a \\u041e\\u0431\\u0430\\u043c\\u0430 \\u043e\\u0444\\u0438\\u0446\\u0438\\u0430\\u043b\\u044c\\u043d\\u043e \\u043e\\u0431\\u044a\\u044f\\u0432\\u0438\\u043b \\u043e \\u043d\\u0430\\u0437\\u043d\\u0430\\u0447\\u0435\\u043d\\u0438\\u0438 \\u0422\\u043e\\u043c\\u0430 \\u0414\\u043e\\u043d\\u0438\\u043b\\u043e\\u043d\\u0430 \\u0441\\u0432\\u043e\\u0438\\u043c \\u0441\\u043e\\u0432\\u0435\\u0442\\u043d\\u0438\\u043a\\u043e\\u043c \\u043f\\u043e \\u043d\\u0430\\u0446\\u0438\\u043e\\u043d\\u0430\\u043b\\u044c\\u043d\\u043e\\u0439 \\u0431\\u0435\\u0437\\u043e\\u043f\\u0430\\u0441\\u043d\\u043e\\u0441\\u0442\\u0438. \\u041d\\u0430 \\u044d\\u0442\\u043e\\u043c \\u043f\\u043e\\u0441\\u0442\\u0443 \\u043e\\u043d \\u0441\\u043c\\u0435\\u043d\\u0438\\u0442 \\u043e\\u0442\\u0441\\u0442\\u0430\\u0432\\u043d\\u043e\\u0433\\u043e \\u0433\\u0435\\u043d\\u0435\\u0440\\u0430\\u043b\\u0430 \\u043c\\u043e\\u0440\\u0441\\u043a\\u043e\\u0439 \\u043f\\u0435\\u0445\\u043e\\u0442\\u044b \\u0421\\u0428\\u0410 \\u0414\\u0436\\u0435\\u0439\\u043c\\u0441\\u0430 \\u0414\\u0436\\u043e\\u043d\\u0441\\u0430, \\u043e\\u0431 \\u0443\\u0445\\u043e\\u0434\\u0435 \\u043a\\u043e\\u0442\\u043e\\u0440\\u043e\\u0433\\u043e \\u0431\\u044b\\u043b\\u043e \\u043e\\u0431\\u044a\\u044f\\u0432\\u043b\\u0435\\u043d\\u043e \\u043d\\u0430\\u043a\\u0430\\u043d\\u0443\\u043d\\u0435.\\n\\n\\u041f\\u0440\\u0435\\u0434\\u0441\\u0442\\u0430\\u0432\\u0438\\u0442\\u0435\\u043b\\u0438 \\u0430\\u0434\\u043c\\u0438\\u043d\\u0438\\u0441\\u0442\\u0440\\u0430\\u0446\\u0438\\u0438 \\u043f\\u0440\\u0435\\u0437\\u0438\\u0434\\u0435\\u043d\\u0442\\u0430 \\u043d\\u0430\\u043a\\u0430\\u043d\\u0443\\u043d\\u0435 \\u0432\\u0435\\u0447\\u0435\\u0440\\u043e\\u043c \\u043d\\u0430 \\u0443\\u0441\\u043b\\u043e\\u0432\\u0438\\u044f\\u0445 \\u0430\\u043d\\u043e\\u043d\\u0438\\u043c\\u043d\\u043e\\u0441\\u0442\\u0438 \\u0441\\u043e\\u043e\\u0431\\u0449\\u0438\\u043b\\u0438 \\u043e\\u0431 \\u043e\\u0442\\u0441\\u0442\\u0430\\u0432\\u043a\\u0435 \\u0414\\u0436.\\u0414\\u0436\\u043e\\u043d\\u0441\\u0430, \\u043e\\u0434\\u043d\\u0430\\u043a\\u043e \\u044d\\u0442\\u0430 \\u0438\\u043d\\u0444\\u043e\\u0440\\u043c\\u0430\\u0446\\u0438\\u044f \\u043d\\u0435 \\u0441\\u0440\\u0430\\u0437\\u0443 \\u0431\\u044b\\u043b\\u0430 \\u043e\\u0444\\u0438\\u0446\\u0438\\u0430\\u043b\\u044c\\u043d\\u043e \\u043f\\u043e\\u0434\\u0442\\u0432\\u0435\\u0440\\u0436\\u0434\\u0435\\u043d\\u0430.\\n\\n\\u041a\\u0430\\u043a \\u0441\\u043e\\u043e\\u0431\\u0449\\u0430\\u044e\\u0442 \\u0430\\u043c\\u0435\\u0440\\u0438\\u043a\\u0430\\u043d\\u0441\\u043a\\u0438\\u0435 \\u0421\\u041c\\u0418, 55-\\u043b\\u0435\\u0442\\u043d\\u0438\\u0439 \\u0422.\\u0414\\u043e\\u043d\\u0438\\u043b\\u043e\\u043d \\u0434\\u043e\\u043b\\u0433\\u043e\\u0435 \\u0432\\u0440\\u0435\\u043c\\u044f \\u0431\\u044b\\u043b \\u044e\\u0440\\u0438\\u0441\\u043a\\u043e\\u043d\\u0441\\u0443\\u043b\\u044c\\u0442\\u043e\\u043c, \\u043e\\u043a\\u0430\\u0437\\u044b\\u0432\\u0430\\u0432\\u0448\\u0438\\u043c \\u0443\\u0441\\u043b\\u0443\\u0433\\u0438 \\u043a\\u0440\\u0443\\u043f\\u043d\\u044b\\u043c \\u0430\\u043c\\u0435\\u0440\\u0438\\u043a\\u0430\\u043d\\u0441\\u043a\\u0438\\u043c \\u043a\\u043e\\u043c\\u043f\\u0430\\u043d\\u0438\\u044f\\u043c. \\u041e\\u043d \\u0442\\u0430\\u043a\\u0436\\u0435 \\u0431\\u043b\\u0438\\u0437\\u043e\\u043a \\u043a \\u043d\\u044b\\u043d\\u0435\\u0448\\u043d\\u0435\\u043c\\u0443 \\u0432\\u0438\\u0446\\u0435-\\u043f\\u0440\\u0435\\u0437\\u0438\\u0434\\u0435\\u043d\\u0442\\u0443 \\u0421\\u0428\\u0410 \\u0414\\u0436\\u043e \\u0411\\u0430\\u0439\\u0434\\u0435\\u043d\\u0443: \\u0431\\u0440\\u0430\\u0442 \\u0422.\\u0414\\u043e\\u043d\\u0438\\u043b\\u043e\\u043d\\u0430 \\u041c\\u0430\\u0439\\u043a\\u043b \\u0440\\u0430\\u0431\\u043e\\u0442\\u0430\\u0435\\u0442 \\u0441\\u043e\\u0432\\u0435\\u0442\\u043d\\u0438\\u043a\\u043e\\u043c \\u044d\\u0442\\u043e\\u0433\\u043e \\u043f\\u043e\\u043b\\u0438\\u0442\\u0438\\u043a\\u0430. \\u041d\\u0435\\u043a\\u043e\\u0442\\u043e\\u0440\\u043e\\u0435 \\u0432\\u0440\\u0435\\u043c\\u044f \\u043d\\u0430\\u0437\\u0430\\u0434 \\u0422.\\u0414\\u043e\\u043d\\u0438\\u043b\\u043e\\u043d\\u0430 \\u0441\\u0447\\u0438\\u0442\\u0430\\u043b\\u0438 \\u043f\\u0440\\u043e\\u0442\\u0438\\u0432\\u043d\\u0438\\u043a\\u043e\\u043c \\u0440\\u0430\\u0437\\u0432\\u0438\\u0442\\u0438\\u044f \\u0431\\u043e\\u0435\\u0432\\u044b\\u0445 \\u0434\\u0435\\u0439\\u0441\\u0442\\u0432\\u0438\\u0439 \\u0432 \\u0410\\u0444\\u0433\\u0430\\u043d\\u0438\\u0441\\u0442\\u0430\\u043d\\u0435.\\n\\n\\u0412 \\u0446\\u0435\\u043b\\u043e\\u043c, \\u043a\\u0430\\u043a \\u043e\\u0442\\u043c\\u0435\\u0447\\u0430\\u044e\\u0442 \\u044d\\u043a\\u0441\\u043f\\u0435\\u0440\\u0442\\u044b, \\u0434\\u0430\\u043d\\u043d\\u0430\\u044f \\u043d\\u043e\\u0432\\u043e\\u0441\\u0442\\u044c \\u043d\\u0435 \\u0441\\u0442\\u0430\\u043b\\u0430 \\u043d\\u0435\\u043e\\u0436\\u0438\\u0434\\u0430\\u043d\\u043d\\u043e\\u0441\\u0442\\u044c\\u044e. \\u0413\\u0435\\u043d\\u0435\\u0440\\u0430\\u043b \\u0414\\u0436.\\u0414\\u0436\\u043e\\u043d\\u0441 \\u0443\\u0448\\u0435\\u043b \\u0432 \\u043e\\u0442\\u0441\\u0442\\u0430\\u0432\\u043a\\u0443 \\u0438\\u0437 \\u043a\\u043e\\u0440\\u043f\\u0443\\u0441\\u0430 \\u043c\\u043e\\u0440\\u0441\\u043a\\u043e\\u0439 \\u043f\\u0435\\u0445\\u043e\\u0442\\u044b 1 \\u0444\\u0435\\u0432\\u0440\\u0430\\u043b\\u044f 2007\\u0433. \\u043f\\u043e\\u0441\\u043b\\u0435 40-\\u043b\\u0435\\u0442\\u043d\\u0435\\u0439 \\u0432\\u043e\\u0435\\u043d\\u043d\\u043e\\u0439 \\u0441\\u043b\\u0443\\u0436\\u0431\\u044b, \\u043d\\u043e \\u043e\\u0441\\u0442\\u0430\\u043b\\u0441\\u044f \\u0432\\u043e\\u0432\\u043b\\u0435\\u0447\\u0435\\u043d\\u043d\\u044b\\u043c \\u0432 \\u0432\\u043e\\u043f\\u0440\\u043e\\u0441\\u044b \\u043d\\u0430\\u0446\\u0438\\u043e\\u043d\\u0430\\u043b\\u044c\\u043d\\u043e\\u0439 \\u0431\\u0435\\u0437\\u043e\\u043f\\u0430\\u0441\\u043d\\u043e\\u0441\\u0442\\u0438. \\u0420\\u0430\\u043d\\u0435\\u0435 \\u043e\\u043d \\u0437\\u0430\\u044f\\u0432\\u043b\\u044f\\u043b, \\u0447\\u0442\\u043e \\u0436\\u0435\\u043b\\u0430\\u0435\\u0442 \\u043f\\u043e\\u043a\\u0438\\u043d\\u0443\\u0442\\u044c \\u043f\\u043e\\u0441\\u0442 \\u0441\\u043e\\u0432\\u0435\\u0442\\u043d\\u0438\\u043a\\u0430 \\u043f\\u0440\\u0435\\u0437\\u0438\\u0434\\u0435\\u043d\\u0442\\u0430 \\u0421\\u0428\\u0410 \\u0432 \\u0442\\u0435\\u0447\\u0435\\u043d\\u0438\\u0435 \\u0434\\u0432\\u0443\\u0445 \\u043b\\u0435\\u0442.\\n\\n\\u041d\\u0430\\u043f\\u043e\\u043c\\u043d\\u0438\\u043c, 1 \\u043e\\u043a\\u0442\\u044f\\u0431\\u0440\\u044f 2010\\u0433. \\u0443\\u0448\\u0435\\u043b \\u0432 \\u043e\\u0442\\u0441\\u0442\\u0430\\u0432\\u043a\\u0443 \\u0441 \\u0434\\u043e\\u043b\\u0436\\u043d\\u043e\\u0441\\u0442\\u0438 \\u0433\\u043b\\u0430\\u0432\\u044b \\u0430\\u0434\\u043c\\u0438\\u043d\\u0438\\u0441\\u0442\\u0440\\u0430\\u0446\\u0438\\u0438 \\u0411\\u0435\\u043b\\u043e\\u0433\\u043e \\u0434\\u043e\\u043c\\u0430 \\u0420.\\u042d\\u043c\\u0430\\u043d\\u0443\\u044d\\u043b\\u044c, \\u043a\\u043e\\u0442\\u043e\\u0440\\u044b\\u0439 \\u043f\\u043b\\u0430\\u043d\\u0438\\u0440\\u0443\\u0435\\u0442 \\u0431\\u0430\\u043b\\u043b\\u043e\\u0442\\u0438\\u0440\\u043e\\u0432\\u0430\\u0442\\u044c\\u0441\\u044f \\u043d\\u0430 \\u043f\\u043e\\u0441\\u0442 \\u043c\\u044d\\u0440\\u0430 \\u0427\\u0438\\u043a\\u0430\\u0433\\u043e. \\u041f\\u043e \\u043c\\u043d\\u0435\\u043d\\u0438\\u044e \\u044d\\u043a\\u0441\\u043f\\u0435\\u0440\\u0442\\u043e\\u0432, \\u0438\\u043d\\u0442\\u0435\\u0440\\u0435\\u0441 \\u043a \\u0434\\u043e\\u043b\\u0436\\u043d\\u043e\\u0441\\u0442\\u0438 \\u043c\\u044d\\u0440\\u0430 \\u0427\\u0438\\u043a\\u0430\\u0433\\u043e, \\u043a\\u043e\\u0442\\u043e\\u0440\\u044b\\u0439 \\u0431\\u044b\\u0432\\u0448\\u0438\\u0439 \\u0433\\u043b\\u0430\\u0432\\u0430 \\u043f\\u0440\\u0435\\u0437\\u0438\\u0434\\u0435\\u043d\\u0442\\u0441\\u043a\\u043e\\u0439 \\u0430\\u0434\\u043c\\u0438\\u043d\\u0438\\u0441\\u0442\\u0440\\u0430\\u0446\\u0438\\u0438 \\u043f\\u0440\\u043e\\u044f\\u0432\\u043b\\u044f\\u043b \\u0438 \\u0440\\u0430\\u043d\\u044c\\u0448\\u0435, \\u0435\\u0449\\u0435 \\u0431\\u043e\\u043b\\u044c\\u0448\\u0435 \\u0443\\u0441\\u0438\\u043b\\u0438\\u043b\\u0441\\u044f \\u043f\\u043e\\u0441\\u043b\\u0435 \\u0437\\u0430\\u044f\\u0432\\u043b\\u0435\\u043d\\u0438\\u0439 \\u043d\\u044b\\u043d\\u0435\\u0448\\u043d\\u0435\\u0433\\u043e \\u043c\\u044d\\u0440\\u0430 \\u0433\\u043e\\u0440\\u043e\\u0434\\u0430 \\u0420\\u0438\\u0447\\u0430\\u0440\\u0434\\u0430 \\u0414\\u044d\\u0439\\u043b\\u0438 \\u043e \\u043d\\u0435\\u0436\\u0435\\u043b\\u0430\\u043d\\u0438\\u0438 \\u043f\\u0435\\u0440\\u0435\\u0438\\u0437\\u0431\\u0438\\u0440\\u0430\\u0442\\u044c\\u0441\\u044f \\u043d\\u0430 \\u043d\\u043e\\u0432\\u044b\\u0439 \\u0441\\u0440\\u043e\\u043a. \\u041f\\u0440\\u0435\\u0437\\u0438\\u0434\\u0435\\u043d\\u0442 \\u0421\\u0428\\u0410 \\u043d\\u0430\\u0437\\u043d\\u0430\\u0447\\u0438\\u043b \\u0441\\u0442\\u0430\\u0440\\u0448\\u0435\\u0433\\u043e \\u0441\\u043e\\u0432\\u0435\\u0442\\u043d\\u0438\\u043a\\u0430 \\u0411\\u0435\\u043b\\u043e\\u0433\\u043e \\u0434\\u043e\\u043c\\u0430 \\u041f\\u0438\\u0442\\u0430 \\u0420\\u0430\\u0443\\u0441\\u0430 \\u0432\\u0440\\u0435\\u043c\\u0435\\u043d\\u043d\\u044b\\u043c \\u0433\\u043b\\u0430\\u0432\\u043e\\u0439 \\u043f\\u0440\\u0435\\u0437\\u0438\\u0434\\u0435\\u043d\\u0442\\u0441\\u043a\\u043e\\u0439 \\u0430\\u0434\\u043c\\u0438\\u043d\\u0438\\u0441\\u0442\\u0440\\u0430\\u0446\\u0438\\u0438.\\n\\n\",\n          \"\\u041f\\u044f\\u0442\\u044b\\u0439 \\u043a\\u043e\\u0441\\u043c\\u0438\\u0447\\u0435\\u0441\\u043a\\u0438\\u0439 \\u0442\\u0443\\u0440\\u0438\\u0441\\u0442 \\u0433\\u043e\\u0442\\u043e\\u0432\\u0438\\u0442\\u0441\\u044f \\u043a \\u043f\\u043e\\u043b\\u0451\\u0442\\u0443\\n58-\\u043b\\u0435\\u0442\\u043d\\u0438\\u0439 \\u043f\\u0440\\u043e\\u0433\\u0440\\u0430\\u043c\\u043c\\u0438\\u0441\\u0442 \\u0438 \\u043c\\u0438\\u043b\\u043b\\u0438\\u0430\\u0440\\u0434\\u0435\\u0440 \\u0433\\u043e\\u0442\\u043e\\u0432\\u0438\\u0442\\u0441\\u044f \\u043a \\u043a\\u043e\\u0441\\u043c\\u0438\\u0447\\u0435\\u0441\\u043a\\u043e\\u043c\\u0443 \\u043f\\u043e\\u043b\\u0451\\u0442\\u0443. \\u0427\\u0430\\u0440\\u043b\\u044c\\u0437 \\u0421\\u0438\\u043c\\u043e\\u043d\\u0438, \\u0430\\u043c\\u0435\\u0440\\u0438\\u043a\\u0430\\u043d\\u0435\\u0446 \\u0432\\u0435\\u043d\\u0433\\u0435\\u0440\\u0441\\u043a\\u043e\\u0433\\u043e \\u043f\\u0440\\u043e\\u0438\\u0441\\u0445\\u043e\\u0436\\u0434\\u0435\\u043d\\u0438\\u044f, \\u043a\\u043e\\u0442\\u043e\\u0440\\u044b\\u0439 \\u0440\\u0430\\u0431\\u043e\\u0442\\u0430\\u043b \\u0432 \\u043a\\u043e\\u0440\\u043f\\u043e\\u0440\\u0430\\u0446\\u0438\\u0438 \\u00ab\\u041c\\u0430\\u0439\\u043a\\u0440\\u043e\\u0441\\u043e\\u0444\\u0442\\u00bb, \\u0433\\u0434\\u0435 \\u043e\\u043d \\u0440\\u0430\\u0437\\u0440\\u0430\\u0431\\u0430\\u0442\\u044b\\u0432\\u0430\\u043b \\u0432\\u0441\\u0435\\u043c\\u0438\\u0440\\u043d\\u043e \\u0438\\u0437\\u0432\\u0435\\u0441\\u0442\\u043d\\u044b\\u0435 \\u043f\\u0440\\u043e\\u0433\\u0440\\u0430\\u043c\\u043c\\u044b Word \\u0438 Excel, \\u0433\\u043e\\u0442\\u043e\\u0432\\u0438\\u0442\\u0441\\u044f \\u0441\\u0442\\u0430\\u0440\\u0442\\u043e\\u0432\\u0430\\u0442\\u044c \\u0432 \\u043a\\u043e\\u0441\\u043c\\u043e\\u0441 9 \\u043c\\u0430\\u0440\\u0442\\u0430 \\u043d\\u0430 \\u043a\\u043e\\u0440\\u0430\\u0431\\u043b\\u0435 \\u00ab\\u0421\\u043e\\u044e\\u0437 \\u0422\\u041c\\u0410-10\\u00bb. \\u0421\\u0438\\u043c\\u043e\\u043d\\u0438 \\u043e\\u0442\\u043f\\u0440\\u0430\\u0432\\u0438\\u0442\\u0441\\u044f \\u043d\\u0430 \\u041c\\u0435\\u0436\\u0434\\u0443\\u043d\\u0430\\u0440\\u043e\\u0434\\u043d\\u0443\\u044e \\u043a\\u043e\\u0441\\u043c\\u0438\\u0447\\u0435\\u0441\\u043a\\u0443\\u044e \\u0441\\u0442\\u0430\\u043d\\u0446\\u0438\\u044e \\u0432\\u043c\\u0435\\u0441\\u0442\\u0435 \\u0441 15-\\u043c \\u044d\\u043a\\u0438\\u043f\\u0430\\u0436\\u0435\\u043c \\u041c\\u041a\\u0421, \\u0424\\u0451\\u0434\\u043e\\u0440\\u043e\\u043c \\u042e\\u0440\\u0447\\u0438\\u0445\\u0438\\u043d\\u044b\\u043c \\u0438 \\u041e\\u043b\\u0435\\u0433\\u043e\\u043c \\u041a\\u043e\\u0442\\u043e\\u0432\\u044b\\u043c, \\u0430 \\u0432\\u0435\\u0440\\u043d\\u0451\\u0442\\u0441\\u044f \\u043d\\u0430 \\u0417\\u0435\\u043c\\u043b\\u044e \\u0441 \\u0447\\u043b\\u0435\\u043d\\u0430\\u043c\\u0438 14-\\u043e \\u044d\\u043a\\u0438\\u043f\\u0430\\u0436\\u0430 \\u041c\\u041a\\u0421 \\u041c\\u0430\\u0439\\u043a\\u043b\\u043e\\u043c \\u041b\\u043e\\u043f\\u0435\\u0441\\u043e\\u043c-\\u0410\\u043b\\u0435\\u0433\\u0440\\u0438\\u044f \\u0438 \\u041c\\u0438\\u0445\\u0430\\u0438\\u043b\\u043e\\u043c \\u0422\\u044e\\u0440\\u0438\\u043d\\u044b\\u043c.\\n\\n\\u0421\\u0438\\u043c\\u043e\\u043d\\u0438 \\u0433\\u043e\\u0432\\u043e\\u0440\\u0438\\u0442, \\u0447\\u0442\\u043e \\u043e\\u043d \\u0431\\u0443\\u0434\\u0435\\u0442 \\u043f\\u0435\\u0440\\u0432\\u044b\\u043c \\u00ab\\u0443\\u043c\\u043d\\u0438\\u043a\\u043e\\u043c\\u00bb (nerd) \\u0432 \\u043a\\u043e\\u0441\\u043c\\u043e\\u0441\\u0435.\\n\\n\\u041f\\u043e\\u043b\\u0451\\u0442 \\u0421\\u0438\\u043c\\u043e\\u043d\\u0438 \\u043e\\u0440\\u0433\\u0430\\u043d\\u0438\\u0437\\u0443\\u0435\\u0442 \\u043a\\u043e\\u043c\\u043f\\u0430\\u043d\\u0438\\u044f Space Adventures, \\u043a\\u043e\\u0442\\u043e\\u0440\\u0430\\u044f \\u0437\\u0430\\u043d\\u0438\\u043c\\u0430\\u0435\\u0442\\u0441\\u044f \\u043a\\u043e\\u0441\\u043c\\u0438\\u0447\\u0435\\u0441\\u043a\\u0438\\u043c \\u0442\\u0443\\u0440\\u0438\\u0437\\u043c\\u043e\\u043c, \\u0438 \\u043a\\u043e\\u0442\\u043e\\u0440\\u0430\\u044f \\u043e\\u0442\\u043f\\u0440\\u0430\\u0432\\u0438\\u043b\\u0430 \\u0432 \\u043a\\u043e\\u0441\\u043c\\u043e\\u0441 \\u0443\\u0436\\u0435 \\u0447\\u0435\\u0442\\u0432\\u0435\\u0440\\u044b\\u0445 \\u043a\\u043e\\u0441\\u043c\\u043e\\u043d\\u0430\\u0432\\u0442\\u043e\\u0432-\\u043b\\u044e\\u0431\\u0438\\u0442\\u0435\\u043b\\u0435\\u0439.\\n\\n\\u041f\\u043e\\u043b\\u0451\\u0442 \\u0421\\u0438\\u043c\\u043e\\u043d\\u0438 \\u0431\\u0443\\u0434\\u0435\\u0442 \\u043f\\u0440\\u043e\\u0434\\u043e\\u043b\\u0436\\u0430\\u0442\\u044c\\u0441\\u044f 10 \\u0441\\u0443\\u0442\\u043e\\u043a, \\u0434\\u0432\\u043e\\u0435 \\u0441\\u0443\\u0442\\u043e\\u043a \\u043f\\u043e\\u043b\\u0451\\u0442 \\u043a \\u041c\\u041a\\u0421 \\u0438 8 \\u0441\\u0443\\u0442\\u043e\\u043a \\u043d\\u0430 \\u0441\\u0442\\u0430\\u043d\\u0446\\u0438\\u0438, \\u0437\\u0430 \\u044d\\u0442\\u043e \\u0432\\u0440\\u0435\\u043c\\u044f \\u0421\\u0438\\u043c\\u043e\\u043d\\u0438\\u0438 160 \\u0440\\u0430\\u0437 \\u043e\\u0431\\u043b\\u0435\\u0442\\u0438\\u0442 \\u0417\\u0435\\u043c\\u043b\\u044e \\u0438 \\u043f\\u0440\\u0435\\u043e\\u0434\\u043e\\u043b\\u0435\\u0435\\u0442 6,5 \\u043c\\u0438\\u043b\\u043b\\u0438\\u043e\\u043d\\u043e\\u0432 \\u043a\\u0438\\u043b\\u043e\\u043c\\u0435\\u0442\\u0440\\u043e\\u0432.\\n\\n\\u00ab\\u042f \\u0438\\u043c\\u0435\\u044e \\u0442\\u0440\\u0438 \\u0446\\u0435\\u043b\\u0438\\u00bb, \\u0441\\u043a\\u0430\\u0437\\u0430\\u043b \\u0421\\u0438\\u043c\\u043e\\u043d\\u0438: \\u00ab\\u041e\\u0434\\u043d\\u0430 \\u0438\\u0437 \\u043d\\u0438\\u0445 \\u2014 \\u0440\\u0430\\u0437\\u0432\\u0438\\u0442\\u0438\\u0435 \\u043a\\u043e\\u0441\\u043c\\u0438\\u0447\\u0435\\u0441\\u043a\\u043e\\u0433\\u043e \\u0442\\u0443\\u0440\\u0438\\u0437\\u043c\\u0430, \\u0432\\u0442\\u043e\\u0440\\u0430\\u044f \\u2014 \\u0443\\u0447\\u0430\\u0441\\u0442\\u0432\\u043e\\u0432\\u0430\\u0442\\u044c \\u0432 \\u043d\\u0430\\u0443\\u0447\\u043d\\u044b\\u0445 \\u0438\\u0441\\u0441\\u043b\\u0435\\u0434\\u043e\\u0432\\u0430\\u043d\\u0438\\u044f\\u0445 \\u043d\\u0430 \\u041c\\u041a\\u0421, \\u0442\\u0440\\u0435\\u0442\\u044c\\u044f \\u2014 \\u0432\\u043e\\u0432\\u043b\\u0435\\u0447\\u0435\\u043d\\u0438\\u0435 \\u0434\\u0435\\u0442\\u0435\\u0439 \\u043a \\u043a\\u043e\\u0441\\u043c\\u0438\\u0447\\u0435\\u0441\\u043a\\u0438\\u043c \\u0438\\u0441\\u0441\\u043b\\u0435\\u0434\\u043e\\u0432\\u0430\\u043d\\u0438\\u044f\\u043c\\u00bb.\\n\\n\\u0421\\u0438\\u043c\\u043e\\u043d\\u0438 \\u043e\\u0440\\u0433\\u0430\\u043d\\u0438\\u0437\\u043e\\u0432\\u0430\\u043b \\u0418\\u043d\\u0442\\u0435\\u0440\\u043d\\u0435\\u0442 \\u0441\\u0442\\u0440\\u0430\\u043d\\u0438\\u0446\\u0443, \\u043f\\u043e\\u0441\\u0432\\u044f\\u0449\\u0451\\u043d\\u043d\\u0443\\u044e \\u0435\\u0433\\u043e \\u043f\\u043e\\u043b\\u0451\\u0442\\u0443: charlesinspace.com.\\n\\n\\u0421\\u0438\\u043c\\u043e\\u043d\\u0438\\u0438 \\u043f\\u043b\\u0430\\u043d\\u0438\\u0440\\u0443\\u0435\\u0442 \\u043f\\u043e\\u043b\\u043e\\u0436\\u0438\\u0442\\u044c \\u043d\\u0430\\u0447\\u0430\\u043b\\u043e \\u0441\\u043e\\u0437\\u0434\\u0430\\u043d\\u0438\\u044f \\u0431\\u0438\\u0431\\u043b\\u0438\\u043e\\u0442\\u0435\\u043a\\u0438 \\u043d\\u0430 \\u041c\\u041a\\u0421. \\u041f\\u0435\\u0440\\u0432\\u044b\\u043c \\u0432\\u043a\\u043b\\u0430\\u0434\\u043e\\u043c \\u0432 \\u0431\\u0438\\u0431\\u043b\\u0438\\u043e\\u0442\\u0435\\u043a\\u0443 \\u0431\\u0443\\u0434\\u0443\\u0442 \\u0440\\u043e\\u043c\\u0430\\u043d \\u0420\\u043e\\u0431\\u0435\\u0440\\u0442\\u0430 \\u0425\\u0430\\u0439\\u043d\\u043b\\u0430\\u0439\\u043d\\u0430 \\u00ab\\u041b\\u0443\\u043d\\u0430-\\u0441\\u0443\\u0440\\u043e\\u0432\\u0430\\u044f \\u0445\\u043e\\u0437\\u044f\\u0439\\u043a\\u0430\\u00bb \\u0438 \\u00ab\\u0424\\u0430\\u0443\\u0441\\u0442\\u00bb \\u0413\\u0451\\u0442\\u0435.\\n\\n\\u0421\\u043b\\u0435\\u0434\\u0443\\u044e\\u0449\\u0438\\u0435 \\u043f\\u044f\\u0442\\u044c \\u043c\\u0435\\u0441\\u044f\\u0446\\u0435\\u0432 \\u0421\\u0438\\u043c\\u043e\\u043d\\u0438 \\u043f\\u0440\\u043e\\u0432\\u0435\\u0434\\u0451\\u0442 \\u0432 \\u0417\\u0432\\u0451\\u0437\\u0434\\u043d\\u043e\\u043c \\u0433\\u043e\\u0440\\u043e\\u0434\\u043a\\u0435 \\u0438 \\u043d\\u0430 \\u0411\\u0430\\u0439\\u043a\\u043e\\u043d\\u0443\\u0440\\u0435, \\u0433\\u043e\\u0442\\u043e\\u0432\\u044f\\u0441\\u044c \\u043a \\u043f\\u043e\\u043b\\u0451\\u0442\\u0443.\\n\\n\\u0412 \\u043e\\u0442\\u043b\\u0438\\u0447\\u0438\\u0435 \\u043e\\u0442 \\u0441\\u0432\\u043e\\u0438\\u0445 \\u043f\\u0440\\u0435\\u0434\\u0448\\u0435\\u0441\\u0442\\u0432\\u0435\\u043d\\u043d\\u0438\\u043a\\u043e\\u0432, \\u0421\\u0438\\u043c\\u043e\\u043d\\u0438 \\u043b\\u0443\\u0447\\u0448\\u0435 \\u043f\\u043e\\u0434\\u0433\\u043e\\u0442\\u043e\\u0432\\u043b\\u0435\\u043d \\u043a \\u043a\\u043e\\u0441\\u043c\\u0438\\u0447\\u0435\\u0441\\u043a\\u043e\\u043c\\u0443 \\u043f\\u043e\\u043b\\u0451\\u0442\\u0443. \\u041e\\u043d \\u0438\\u043c\\u0435\\u0435\\u0442 \\u043b\\u0438\\u0446\\u0435\\u043d\\u0437\\u0438\\u044e \\u043b\\u0451\\u0442\\u0447\\u0438\\u043a\\u0430 \\u0440\\u0435\\u0430\\u043a\\u0442\\u0438\\u0432\\u043d\\u043e\\u0433\\u043e \\u0441\\u0430\\u043c\\u043e\\u043b\\u0451\\u0442\\u0430 \\u0438 \\u0432\\u0435\\u0440\\u0442\\u043e\\u043b\\u0451\\u0442\\u0430 \\u0438 \\u0438\\u043c\\u0435\\u0435\\u0442 \\u0431\\u043e\\u043b\\u0435\\u0435 2000 \\u0447\\u0430\\u0441\\u043e\\u0432 \\u043d\\u0430\\u043b\\u0451\\u0442\\u0430.\\n\\n\\u0414\\u043e\\u043a\\u0442\\u043e\\u0440 \\u0421\\u0438\\u043c\\u043e\\u043d\\u0438 \\u0442\\u0430\\u043a\\u0436\\u0435 \\u0441\\u0442\\u0440\\u0435\\u043c\\u0438\\u0442\\u0441\\u044f \\u0445\\u043e\\u0440\\u043e\\u0448\\u043e \\u0438\\u0437\\u0443\\u0447\\u0438\\u0442\\u044c \\u0440\\u0443\\u0441\\u0441\\u043a\\u0438\\u0439 \\u044f\\u0437\\u044b\\u043a \\u0438 \\u0441\\u0438\\u0441\\u0442\\u0435\\u043c\\u044b \\u043a\\u043e\\u0440\\u0430\\u0431\\u043b\\u044f \\u00ab\\u0421\\u043e\\u044e\\u0437\\u00bb. \\u00ab\\u042f \\u0441\\u0447\\u0438\\u0442\\u0430\\u044e \\u044d\\u0442\\u043e \\u043e\\u0442\\u043b\\u0438\\u0447\\u043d\\u0430\\u044f \\u0432\\u043e\\u0437\\u043c\\u043e\\u0436\\u043d\\u043e\\u0441\\u0442\\u044c, \\u0447\\u0442\\u043e\\u0431\\u044b \\u0438\\u0437\\u0443\\u0447\\u0438\\u0442\\u044c \\u044d\\u0442\\u0438 \\u0432\\u0435\\u0449\\u0438\\u00bb, \\u0441\\u043a\\u0430\\u0437\\u0430\\u043b \\u0421\\u0438\\u043c\\u043e\\u043d\\u0438.\\n\"\n        ],\n        \"semantic_type\": \"\",\n        \"description\": \"\"\n      }\n    },\n    {\n      \"column\": \"entity_type\",\n      \"properties\": {\n        \"dtype\": \"category\",\n        \"num_unique_values\": 29,\n        \"samples\": [\n          \"RELIGION\",\n          \"MONEY\",\n          \"LAW\"\n        ],\n        \"semantic_type\": \"\",\n        \"description\": \"\"\n      }\n    },\n    {\n      \"column\": \"start_pos\",\n      \"properties\": {\n        \"dtype\": \"number\",\n        \"std\": 1044,\n        \"min\": 0,\n        \"max\": 12918,\n        \"num_unique_values\": 3741,\n        \"samples\": [\n          6388,\n          2001,\n          721\n        ],\n        \"semantic_type\": \"\",\n        \"description\": \"\"\n      }\n    },\n    {\n      \"column\": \"end_pos\",\n      \"properties\": {\n        \"dtype\": \"number\",\n        \"std\": 1044,\n        \"min\": 2,\n        \"max\": 12930,\n        \"num_unique_values\": 3722,\n        \"samples\": [\n          2046,\n          2276,\n          2428\n        ],\n        \"semantic_type\": \"\",\n        \"description\": \"\"\n      }\n    },\n    {\n      \"column\": \"entity_text\",\n      \"properties\": {\n        \"dtype\": \"string\",\n        \"num_unique_values\": 25212,\n        \"samples\": [\n          \"\\u043f\\u0440\\u0430\\u0432\\u043e\\u043e\\u0445\\u0440\\u0430\\u043d\\u0438\\u0442\\u0435\\u043b\\u044c\\u043d\\u044b\\u0435 \\u043e\\u0440\\u0433\\u0430\\u043d\\u044b\",\n          \"\\u041c\\u0430\\u0440\\u043a\",\n          \"\\u0413\\u043b\\u0430\\u0432\\u0430 Samsung\"\n        ],\n        \"semantic_type\": \"\",\n        \"description\": \"\"\n      }\n    },\n    {\n      \"column\": \"length\",\n      \"properties\": {\n        \"dtype\": \"number\",\n        \"std\": 1523.701743942736,\n        \"min\": 426.0,\n        \"max\": 12932.0,\n        \"num_unique_values\": 735,\n        \"samples\": [\n          1177.0,\n          2374.0,\n          1596.0\n        ],\n        \"semantic_type\": \"\",\n        \"description\": \"\"\n      }\n    },\n    {\n      \"column\": \"word_count\",\n      \"properties\": {\n        \"dtype\": \"number\",\n        \"std\": 203.10867858768788,\n        \"min\": 60.0,\n        \"max\": 1710.0,\n        \"num_unique_values\": 300,\n        \"samples\": [\n          194.0,\n          118.0,\n          224.0\n        ],\n        \"semantic_type\": \"\",\n        \"description\": \"\"\n      }\n    },\n    {\n      \"column\": \"mapped_entity_type\",\n      \"properties\": {\n        \"dtype\": \"category\",\n        \"num_unique_values\": 24,\n        \"samples\": [\n          \"NUMBER\",\n          \"PRODUCT\",\n          \"LOC\"\n        ],\n        \"semantic_type\": \"\",\n        \"description\": \"\"\n      }\n    },\n    {\n      \"column\": \"entity_id\",\n      \"properties\": {\n        \"dtype\": \"string\",\n        \"num_unique_values\": 46054,\n        \"samples\": [\n          \"\\u0418\\u0442\\u0430\\u043b\\u044c\\u044f\\u043d\\u0441\\u043a\\u0438\\u0439 \\u0431\\u043e\\u043a\\u0441\\u0451\\u0440, \\u044d\\u043a\\u0441-\\u0447\\u0435\\u043c\\u043f\\u0438\\u043e\\u043d \\u043c\\u0438\\u0440\\u0430 \\u0438 \\u0415\\u0432\\u0440\\u043e\\u043f\\u044b \\u0443\\u043c\\u0435\\u0440 \\u043e\\u0442 \\u043a\\u043e\\u0440\\u043e\\u043d\\u0430\\u0432\\u0438\\u0440\\u0443\\u0441\\u0430 \\u0432 \\u0432\\u043e\\u0437\\u0440\\u0430\\u0441\\u0442\\u0435 61 \\u0433\\u043e\\u0434\\n\\u041f\\u043e\\u043d\\u0442\\u0435-\\u0421\\u0430\\u043d-\\u041f\\u044c\\u0435\\u0442\\u0440\\u043e\\n\\u0412 \\u0411\\u0435\\u0440\\u0433\\u0430\\u043c\\u043e \\u0443\\u043c\\u0435\\u0440 \\u043e\\u0442 COVID-19 \\u0438\\u0442\\u0430\\u043b\\u044c\\u044f\\u043d\\u0441\\u043a\\u0438\\u0439 \\u0431\\u043e\\u043a\\u0441\\u0451\\u0440, \\u0447\\u0435\\u043c\\u043f\\u0438\\u043e\\u043d \\u043c\\u0438\\u0440\\u0430 \\u0438 \\u0415\\u0432\\u0440\\u043e\\u043f\\u044b 1987 \\u0433\\u043e\\u0434\\u0430 \\u0432 \\u043f\\u043e\\u043b\\u0443\\u0442\\u044f\\u0436\\u0451\\u043b\\u043e\\u043c \\u0432\\u0435\\u0441\\u0435, \\u0410\\u043d\\u0434\\u0436\\u0435\\u043b\\u043e \\u0420\\u043e\\u0442\\u0442\\u043e\\u043b\\u0438 (Angelo Rottoli).\\n\\n\\u041a\\u0430\\u043a \\u0438 \\u0431\\u043e\\u043b\\u044c\\u0448\\u0438\\u043d\\u0441\\u0442\\u0432\\u043e \\u0431\\u043e\\u043a\\u0441\\u0451\\u0440\\u043e\\u0432 \\u0410\\u043d\\u0434\\u0436\\u0435\\u043b\\u043e \\u0420\\u043e\\u0442\\u0442\\u043e\\u043b\\u0438 \\u043d\\u0430\\u0447\\u0438\\u043d\\u0430\\u043b \\u043a\\u0430\\u043a \\u043b\\u044e\\u0431\\u0438\\u0442\\u0435\\u043b\\u044c \\u0432 1977 \\u0433\\u043e\\u0434\\u0443, \\u043d\\u043e \\u0443\\u0436\\u0435 \\u0447\\u0435\\u0440\\u0435\\u0437 \\u0447\\u0435\\u0442\\u044b\\u0440\\u0435 \\u0433\\u043e\\u0434\\u0430, \\u0432 \\u0434\\u0435\\u043a\\u0430\\u0431\\u0440\\u0435 1981, \\u0410\\u043d\\u0434\\u0436\\u0435\\u043b\\u043e \\u0441\\u0442\\u0430\\u043b \\u043f\\u0440\\u043e\\u0444\\u0435\\u0441\\u0441\\u0438\\u043e\\u043d\\u0430\\u043b\\u043e\\u043c. \\u0412 1983 \\u0433\\u043e\\u0434\\u0443 \\u043e\\u043d \\u0437\\u0430\\u0432\\u043e\\u0435\\u0432\\u0430\\u043b \\u0442\\u0438\\u0442\\u0443\\u043b \\u0447\\u0435\\u043c\\u043f\\u0438\\u043e\\u043d\\u0430 \\u0418\\u0442\\u0430\\u043b\\u0438\\u0438 \\u0432 \\u0442\\u044f\\u0436\\u0451\\u043b\\u043e\\u043c \\u0432\\u0435\\u0441\\u0435.\\n\\n\\u041f\\u043e\\u0441\\u043b\\u0435 \\u043f\\u0435\\u0440\\u0435\\u0445\\u043e\\u0434\\u0430 \\u0432 \\u043f\\u043e\\u043b\\u0443\\u0442\\u044f\\u0436\\u0451\\u043b\\u044b\\u0439 \\u0432\\u0435\\u0441 \\u0410\\u043d\\u0434\\u0436\\u0435\\u043b\\u043e \\u0420\\u043e\\u0442\\u0442\\u043e\\u043b\\u0438 \\u0432 1987 \\u0433\\u043e\\u0434\\u0443 \\u0441\\u0442\\u0430\\u043b \\u043c\\u0435\\u0436\\u043a\\u043e\\u043d\\u0442\\u0438\\u043d\\u0435\\u043d\\u0442\\u0430\\u043b\\u044c\\u043d\\u044b\\u043c \\u0447\\u0435\\u043c\\u043f\\u0438\\u043e\\u043d\\u043e\\u043c WBC \\u0438 \\u0447\\u0435\\u043c\\u043f\\u0438\\u043e\\u043d\\u043e\\u043c \\u0432 \\u0442\\u043e\\u0439 \\u0436\\u0435 \\u043a\\u0430\\u0442\\u0435\\u0433\\u043e\\u0440\\u0438\\u0438 \\u0432 1988 \\u0433\\u043e\\u0434\\u0443. \\u0413\\u043e\\u0434\\u043e\\u043c \\u043f\\u043e\\u0437\\u0436\\u0435 \\u0410\\u043d\\u0434\\u0436\\u0435\\u043b\\u043e \\u0420\\u043e\\u0442\\u0442\\u043e\\u043b\\u0438 \\u0437\\u0430\\u0432\\u043e\\u0435\\u0432\\u0430\\u043b \\u0442\\u0438\\u0442\\u0443\\u043b \\u0447\\u0435\\u043c\\u043f\\u0438\\u043e\\u043d\\u0430 \\u0415\\u0432\\u0440\\u043e\\u043f\\u044b. \\u041e\\u043d \\u043f\\u043e\\u0442\\u0435\\u0440\\u044f\\u043b \\u044d\\u0442\\u043e\\u0442 \\u0442\\u0438\\u0442\\u0443\\u043b \\u043f\\u0440\\u043e\\u0438\\u0433\\u0440\\u0430\\u0432 11 \\u043d\\u043e\\u044f\\u0431\\u0440\\u044f 1989 \\u0433\\u043e\\u0434\\u0430 \\u0444\\u0440\\u0430\\u043d\\u0446\\u0443\\u0437\\u0443 \\u0410\\u043d\\u0430\\u043a\\u043b\\u0435\\u0442\\u0443 \\u0412\\u0430\\u043c\\u0431\\u0435. \\u0412 \\u0430\\u043f\\u0440\\u0435\\u043b\\u0435 1990 \\u0433\\u043e\\u0434\\u0430 \\u0420\\u043e\\u0442\\u0442\\u043e\\u043b\\u0438 \\u0437\\u0430\\u0432\\u0435\\u0440\\u0448\\u0438\\u043b \\u0441\\u0432\\u043e\\u044e \\u043a\\u0430\\u0440\\u044c\\u0435\\u0440\\u0443 \\u043f\\u043e\\u0441\\u043b\\u0435 35 \\u0431\\u043e\\u0435\\u0432.\\n\\n\\u0410\\u043d\\u0434\\u0436\\u0435\\u043b\\u043e \\u0420\\u043e\\u0442\\u0442\\u043e\\u043b\\u0438 \\u0441\\u0442\\u0430\\u0432 \\u0436\\u0435\\u0440\\u0442\\u0432\\u043e\\u0439 \\u043a\\u043e\\u0440\\u043e\\u043d\\u0430\\u0432\\u0438\\u0440\\u0443\\u0441\\u0430 \\u0443\\u043c\\u0435\\u0440 28 \\u043c\\u0430\\u0440\\u0442\\u0430 2020 \\u0433\\u043e\\u0434\\u0430 \\u0432 \\u043f\\u043e\\u043b\\u0438\\u043a\\u043b\\u0438\\u043d\\u0438\\u043a\\u0435 \\u041f\\u043e\\u043d\\u0442\\u0435-\\u0421\\u0430\\u043d-\\u041f\\u044c\\u0435\\u0442\\u0440\\u043e (Ponte San Pietro) \\u0432 \\u0432\\u043e\\u0437\\u0440\\u0430\\u0441\\u0442\\u0435 61 \\u0433\\u043e\\u0434\\u0430, \\u0414\\u0432\\u0443\\u043c\\u044f \\u043d\\u0435\\u0434\\u0435\\u043b\\u044f\\u043c\\u0438 \\u0440\\u0430\\u043d\\u0435\\u0435 \\u0410\\u043d\\u0434\\u0436\\u0435\\u043b\\u043e \\u043f\\u043e\\u0442\\u0435\\u0440\\u044f\\u043b \\u0441\\u0432\\u043e\\u044e \\u043c\\u0430\\u0442\\u044c \\u0438 \\u0431\\u0440\\u0430\\u0442\\u0430, \\u0443\\u043c\\u0435\\u0440\\u0448\\u0438\\u0445 \\u0442\\u0430\\u043a\\u0436\\u0435 \\u0438\\u0437-\\u0437\\u0430 \\u043a\\u043e\\u0440\\u043e\\u043d\\u0430\\u0432\\u0438\\u0440\\u0443\\u0441\\u0430 SARS-CoV-2.\\n_838_856\",\n          \"\\u041c\\u0430\\u043d\\u0434\\u0435\\u043b\\u0430 \\u043e\\u043a\\u0430\\u0437\\u0430\\u043b \\u0432\\u043b\\u0438\\u044f\\u043d\\u0438\\u0435 \\u043d\\u0430 \\u043b\\u044e\\u0434\\u0435\\u0439 \\u043f\\u043e \\u0432\\u0441\\u0435\\u043c\\u0443 \\u043c\\u0438\\u0440\\u0443, \\u0437\\u0430\\u044f\\u0432\\u0438\\u043b \\u041e\\u0431\\u0430\\u043c\\u0430\\n\\n\\n\\u041e\\u0431\\u0430\\u043c\\u0430 \\u043d\\u0430\\u0445\\u043e\\u0434\\u0438\\u0442\\u0441\\u044f \\u0441 \\u0432\\u0438\\u0437\\u0438\\u0442\\u043e\\u043c \\u0432 \\u042e\\u0410\\u0420. \\u041f\\u0440\\u0435\\u0437\\u0438\\u0434\\u0435\\u043d\\u0442 \\u0421\\u0428\\u0410 \\u0432\\u0441\\u0442\\u0440\\u0435\\u0442\\u0438\\u043b\\u0441\\u044f \\u0441 \\u0441\\u0435\\u043c\\u044c\\u0435\\u0439 \\u041d\\u0435\\u043b\\u044c\\u0441\\u043e\\u043d\\u0430 \\u041c\\u0430\\u043d\\u0434\\u0435\\u043b\\u044b \\u0438 \\u043f\\u043e\\u0433\\u043e\\u0432\\u043e\\u0440\\u0438\\u043b \\u043f\\u043e \\u0442\\u0435\\u043b\\u0435\\u0444\\u043e\\u043d\\u0443 \\u0441 \\u0436\\u0435\\u043d\\u043e\\u0439 94-\\u043b\\u0435\\u0442\\u043d\\u0435\\u0433\\u043e \\u043f\\u043e\\u043b\\u0438\\u0442\\u0438\\u043a\\u0430 \\u0413\\u0440\\u0430\\u0441\\u043e\\u0439 \\u041c\\u0430\\u0448\\u0435\\u043b, \\u043a\\u043e\\u0442\\u043e\\u0440\\u0430\\u044f \\u043d\\u0435\\u043e\\u0442\\u043b\\u0443\\u0447\\u043d\\u043e \\u043d\\u0430\\u0445\\u043e\\u0434\\u0438\\u0442\\u0441\\u044f \\u0443 \\u0431\\u043e\\u043b\\u044c\\u043d\\u0438\\u0447\\u043d\\u043e\\u0439 \\u043f\\u043e\\u0441\\u0442\\u0435\\u043b\\u0438 \\u0431\\u044b\\u0432\\u0448\\u0435\\u0433\\u043e \\u043f\\u0440\\u0435\\u0437\\u0438\\u0434\\u0435\\u043d\\u0442\\u0430 \\u042e\\u0410\\u0420.\\n \\u041f\\u0440\\u0435\\u0437\\u0438\\u0434\\u0435\\u043d\\u0442 \\u0421\\u0428\\u0410 \\u0411\\u0430\\u0440\\u0430\\u043a \\u041e\\u0431\\u0430\\u043c\\u0430, \\u043d\\u0430\\u0445\\u043e\\u0434\\u044f\\u0449\\u0438\\u0439\\u0441\\u044f \\u0441 \\u0432\\u0438\\u0437\\u0438\\u0442\\u043e\\u043c \\u0432 \\u042e\\u0410\\u0420, \\u0432\\u0441\\u0442\\u0440\\u0435\\u0442\\u0438\\u043b\\u0441\\u044f \\u0432 \\u0441\\u0443\\u0431\\u0431\\u043e\\u0442\\u0443 \\u0432 \\u0419\\u043e\\u0445\\u0430\\u043d\\u043d\\u0435\\u0441\\u0431\\u0443\\u0440\\u0433\\u0435 \\u0441 \\u0441\\u0435\\u043c\\u044c\\u0435\\u0439 \\u0431\\u044b\\u0432\\u0448\\u0435\\u0433\\u043e \\u043f\\u0440\\u0435\\u0437\\u0438\\u0434\\u0435\\u043d\\u0442\\u0430 \\u042e\\u0410\\u0420 \\u041d\\u0435\\u043b\\u044c\\u0441\\u043e\\u043d\\u0430 \\u041c\\u0430\\u043d\\u0434\\u0435\\u043b\\u044b, \\u0441\\u043e\\u043e\\u0431\\u0449\\u0438\\u043b \\u0411\\u0435\\u043b\\u044b\\u0439 \\u0434\\u043e\\u043c.\\n\\n\\u041f\\u043e \\u0437\\u0430\\u044f\\u0432\\u043b\\u0435\\u043d\\u0438\\u044e \\u041e\\u0431\\u0430\\u043c\\u044b, \\u043e\\u043d \\u043f\\u043e\\u0433\\u043e\\u0432\\u043e\\u0440\\u0438\\u043b \\u0441 \\u0447\\u043b\\u0435\\u043d\\u0430\\u043c\\u0438 \\u0441\\u0435\\u043c\\u044c\\u0438 \\u041c\\u0430\\u043d\\u0434\\u0435\\u043b\\u044b \\u0438 \\u0441\\u0432\\u044f\\u0437\\u0430\\u043b\\u0441\\u044f \\u043f\\u043e \\u0442\\u0435\\u043b\\u0435\\u0444\\u043e\\u043d\\u0443 \\u0441 \\u0435\\u0433\\u043e \\u0436\\u0435\\u043d\\u043e\\u0439 \\u0413\\u0440\\u0430\\u0441\\u043e\\u0439 \\u041c\\u0430\\u0448\\u0435\\u043b, \\u043a\\u043e\\u0442\\u043e\\u0440\\u0430\\u044f \\u043d\\u0435\\u043e\\u0442\\u043b\\u0443\\u0447\\u043d\\u043e \\u043d\\u0430\\u0445\\u043e\\u0434\\u0438\\u0442\\u0441\\u044f \\u0443 \\u0431\\u043e\\u043b\\u044c\\u043d\\u0438\\u0447\\u043d\\u043e\\u0439 \\u043f\\u043e\\u0441\\u0442\\u0435\\u043b\\u0438 94-\\u043b\\u0435\\u0442\\u043d\\u0435\\u0433\\u043e \\u043f\\u043e\\u043b\\u0438\\u0442\\u0438\\u043a\\u0430. \\u041c\\u0430\\u043d\\u0434\\u0435\\u043b\\u0430 \\u043d\\u0430\\u0445\\u043e\\u0434\\u0438\\u0442\\u0441\\u044f \\u0432 \\u043a\\u0440\\u0438\\u0442\\u0438\\u0447\\u0435\\u0441\\u043a\\u043e\\u043c \\u0441\\u043e\\u0441\\u0442\\u043e\\u044f\\u043d\\u0438\\u0438, \\u0438 \\u041e\\u0431\\u0430\\u043c\\u0430 \\u0437\\u0430\\u044f\\u0432\\u043b\\u044f\\u043b \\u0440\\u0430\\u043d\\u0435\\u0435, \\u0447\\u0442\\u043e \\u043d\\u0435 \\u0443\\u0432\\u0435\\u0440\\u0435\\u043d \\u0432 \\u0432\\u043e\\u0437\\u043c\\u043e\\u0436\\u043d\\u043e\\u0441\\u0442\\u0438 \\u043b\\u0438\\u0447\\u043d\\u043e\\u0439 \\u0432\\u0441\\u0442\\u0440\\u0435\\u0447\\u0438 \\u0441 \\u043d\\u0438\\u043c.\\n\\n\\u041f\\u043e \\u0441\\u043b\\u043e\\u0432\\u0430\\u043c \\u043f\\u0440\\u0435\\u0437\\u0438\\u0434\\u0435\\u043d\\u0442\\u0430 \\u0421\\u0428\\u0410, \\u043e\\u043d \\u0432\\u044b\\u0440\\u0430\\u0437\\u0438\\u043b \\u043f\\u043e\\u0434\\u0434\\u0435\\u0440\\u0436\\u043a\\u0443 \\u041c\\u0430\\u043d\\u0434\\u0435\\u043b\\u0435 \\u0438 \\u0435\\u0433\\u043e \\u0441\\u0435\\u043c\\u044c\\u0435 \\u0432 \\u0442\\u0440\\u0443\\u0434\\u043d\\u044b\\u0435 \\u0447\\u0430\\u0441\\u044b, \\u043a\\u043e\\u0442\\u043e\\u0440\\u044b\\u0435 \\u043e\\u043d\\u0438 \\u043f\\u0435\\u0440\\u0435\\u0436\\u0438\\u0432\\u0430\\u044e\\u0442. \\\"\\u0414\\u0435\\u043b\\u0430 \\u041c\\u0430\\u043d\\u0434\\u0435\\u043b\\u044b \\u043e\\u043a\\u0430\\u0437\\u0430\\u043b\\u0438 \\u0433\\u043b\\u0443\\u0431\\u043e\\u043a\\u043e\\u0435 \\u0432\\u043b\\u0438\\u044f\\u043d\\u0438\\u0435 \\u043d\\u0430 \\u0441\\u0442\\u0440\\u043e\\u0438\\u0442\\u0435\\u043b\\u044c\\u0441\\u0442\\u0432\\u043e \\u0441\\u0432\\u043e\\u0431\\u043e\\u0434\\u043d\\u043e\\u0439 \\u042e\\u0436\\u043d\\u043e\\u0439 \\u0410\\u0444\\u0440\\u0438\\u043a\\u0438 \\u0438 \\u0432\\u0434\\u043e\\u0445\\u043d\\u043e\\u0432\\u043b\\u044f\\u044e\\u0442 \\u043b\\u044e\\u0434\\u0435\\u0439 \\u043f\\u043e \\u0432\\u0441\\u0435\\u043c\\u0443 \\u043c\\u0438\\u0440\\u0443, \\u0432\\u043a\\u043b\\u044e\\u0447\\u0430\\u044f \\u043c\\u0435\\u043d\\u044f. \\u042d\\u0442\\u043e \\u043d\\u0430\\u0441\\u043b\\u0435\\u0434\\u0438\\u0435, \\u043a\\u043e\\u0442\\u043e\\u0440\\u043e\\u0435 \\u043c\\u044b \\u0432\\u0441\\u0435 \\u0434\\u043e\\u043b\\u0436\\u043d\\u044b \\u0447\\u0442\\u0438\\u0442\\u044c\\\", \\u2014 \\u0441\\u043a\\u0430\\u0437\\u0430\\u043b \\u041e\\u0431\\u0430\\u043c\\u0430.\\n\\n\\u0412 \\u043d\\u0430\\u0447\\u0430\\u043b\\u0435 \\u0438\\u044e\\u043d\\u044f \\u041c\\u0430\\u043d\\u0434\\u0435\\u043b\\u0430 \\u043f\\u043e\\u043f\\u0430\\u043b \\u0432 \\u0433\\u043e\\u0441\\u043f\\u0438\\u0442\\u0430\\u043b\\u044c \\u0432 \\u041f\\u0440\\u0435\\u0442\\u043e\\u0440\\u0438\\u0438 \\u0441 \\u0440\\u0435\\u0446\\u0438\\u0434\\u0438\\u0432\\u043e\\u043c \\u043b\\u0435\\u0433\\u043e\\u0447\\u043d\\u043e\\u0439 \\u0438\\u043d\\u0444\\u0435\\u043a\\u0446\\u0438\\u0438. \\u041d\\u0435\\u0441\\u043a\\u043e\\u043b\\u044c\\u043a\\u043e \\u0434\\u043d\\u0435\\u0439 \\u043d\\u0430\\u0437\\u0430\\u0434 \\u0435\\u0433\\u043e \\u0441\\u043e\\u0441\\u0442\\u043e\\u044f\\u043d\\u0438\\u0435 \\u0441\\u0442\\u0430\\u043b\\u043e \\u043a\\u0440\\u0438\\u0442\\u0438\\u0447\\u0435\\u0441\\u043a\\u0438\\u043c, \\u0445\\u043e\\u0442\\u044f \\u0437\\u0430\\u0442\\u0435\\u043c \\u0432\\u043d\\u043e\\u0432\\u044c \\u0443\\u043b\\u0443\\u0447\\u0448\\u0438\\u043b\\u043e\\u0441\\u044c. \\u0412 \\u0441\\u0443\\u0431\\u0431\\u043e\\u0442\\u0443 \\u043f\\u0440\\u0435\\u0437\\u0438\\u0434\\u0435\\u043d\\u0442 \\u042e\\u0410\\u0420 \\u0414\\u0436\\u0435\\u0439\\u043a\\u043e\\u0431 \\u0417\\u0443\\u043c\\u0430 \\u0441\\u043e\\u043e\\u0431\\u0449\\u0438\\u043b, \\u0447\\u0442\\u043e \\u041c\\u0430\\u043d\\u0434\\u0435\\u043b\\u0430 \\u043f\\u043e-\\u043f\\u0440\\u0435\\u0436\\u043d\\u0435\\u043c\\u0443 \\u043d\\u0430\\u0445\\u043e\\u0434\\u0438\\u0442\\u0441\\u044f \\u0432 \\u043a\\u0440\\u0438\\u0442\\u0438\\u0447\\u0435\\u0441\\u043a\\u043e\\u043c \\u0441\\u043e\\u0441\\u0442\\u043e\\u044f\\u043d\\u0438\\u0438, \\u043d\\u043e \\u0432\\u043b\\u0430\\u0441\\u0442\\u0438 \\u043d\\u0430\\u0434\\u0435\\u044e\\u0442\\u0441\\u044f, \\u0447\\u0442\\u043e \\u0435\\u043c\\u0443 \\u0441\\u0442\\u0430\\u043d\\u0435\\u0442 \\u043b\\u0443\\u0447\\u0448\\u0435 \\u0438 \\u0435\\u0433\\u043e \\u043e\\u0447\\u0435\\u043d\\u044c \\u0441\\u043a\\u043e\\u0440\\u043e \\u0432\\u044b\\u043f\\u0438\\u0448\\u0443\\u0442.\\n\\n_90_93\",\n          \"\\u0421\\u044b\\u043d \\u0431\\u044b\\u0432\\u0448\\u0435\\u0433\\u043e \\u0433\\u043b\\u0430\\u0432\\u044b \\u0424\\u0421\\u0411 \\u0437\\u0430\\u043d\\u044f\\u043b \\u0440\\u0443\\u043a\\u043e\\u0432\\u043e\\u0434\\u044f\\u0449\\u0438\\u0439 \\u043f\\u043e\\u0441\\u0442 \\u0432 \\\"\\u0417\\u0430\\u0440\\u0443\\u0431\\u0435\\u0436\\u043d\\u0435\\u0444\\u0442\\u0438\\\"\\n\\n\\u041c\\u043b\\u0430\\u0434\\u0448\\u0438\\u0439 \\u0441\\u044b\\u043d \\u0431\\u044b\\u0432\\u0448\\u0435\\u0433\\u043e \\u0440\\u0443\\u043a\\u043e\\u0432\\u043e\\u0434\\u0438\\u0442\\u0435\\u043b\\u044f \\u0424\\u0421\\u0411 \\u041d\\u0438\\u043a\\u043e\\u043b\\u0430\\u044f \\u041f\\u0430\\u0442\\u0440\\u0443\\u0448\\u0435\\u0432\\u0430 - \\u0410\\u043d\\u0434\\u0440\\u0435\\u0439 - \\u043d\\u0430\\u0437\\u043d\\u0430\\u0447\\u0435\\u043d \\u043d\\u0430 \\u043f\\u043e\\u0441\\u0442 \\u043f\\u0435\\u0440\\u0432\\u043e\\u0433\\u043e \\u0437\\u0430\\u043c\\u0435\\u0441\\u0442\\u0438\\u0442\\u0435\\u043b\\u044f \\u0433\\u0435\\u043d\\u0434\\u0438\\u0440\\u0435\\u043a\\u0442\\u043e\\u0440\\u0430 \\\"\\u0412\\u044c\\u0435\\u0442\\u0441\\u043e\\u0432\\u043f\\u0435\\u0442\\u0440\\u043e\\\" - \\u043e\\u0441\\u043d\\u043e\\u0432\\u043d\\u043e\\u0433\\u043e \\u0430\\u043a\\u0442\\u0438\\u0432\\u0430 \\\"\\u0417\\u0430\\u0440\\u0443\\u0431\\u0435\\u0436\\u043d\\u0435\\u0444\\u0442\\u0438\\\" \\u0432\\u043e \\u0412\\u044c\\u0435\\u0442\\u043d\\u0430\\u043c\\u0435. \\u041e\\u0431 \\u044d\\u0442\\u043e\\u043c \\u043f\\u0438\\u0448\\u0435\\u0442 \\\"\\u041a\\u043e\\u043c\\u043c\\u0435\\u0440\\u0441\\u0430\\u043d\\u0442\\u044a\\\" \\u0441\\u043e \\u0441\\u0441\\u044b\\u043b\\u043a\\u043e\\u0439 \\u043d\\u0430 \\u043d\\u0435\\u043d\\u0430\\u0437\\u0432\\u0430\\u043d\\u043d\\u044b\\u0435 \\u0438\\u0441\\u0442\\u043e\\u0447\\u043d\\u0438\\u043a\\u0438 \\u0432 \\u043a\\u043e\\u043c\\u043f\\u0430\\u043d\\u0438\\u044f\\u0445.\\n\\n\\u041f\\u043e \\u0434\\u0430\\u043d\\u043d\\u044b\\u043c \\u0438\\u0437\\u0434\\u0430\\u043d\\u0438\\u044f, \\u0444\\u0430\\u043a\\u0442\\u0438\\u0447\\u0435\\u0441\\u043a\\u0438 \\u041f\\u0430\\u0442\\u0440\\u0443\\u0448\\u0435\\u0432 \\u0431\\u0443\\u0434\\u0435\\u0442 \\u044f\\u0432\\u043b\\u044f\\u0442\\u044c\\u0441\\u044f \\u0441\\u043e\\u0440\\u0443\\u043a\\u043e\\u0432\\u043e\\u0434\\u0438\\u0442\\u0435\\u043b\\u0435\\u043c \\u043a\\u043e\\u043c\\u043f\\u0430\\u043d\\u0438\\u0438 \\u0441 \\u043f\\u0440\\u0430\\u0432\\u043e\\u043c \\u043f\\u043e\\u0434\\u043f\\u0438\\u0441\\u0438. \\u0421\\u043b\\u0435\\u0434\\u0443\\u044e\\u0449\\u0435\\u0439 \\u0441\\u0442\\u0443\\u043f\\u0435\\u043d\\u044c\\u044e \\u0432 \\u043a\\u0430\\u0440\\u044c\\u0435\\u0440\\u0435 \\u0441\\u044b\\u043d\\u0430 \\u044d\\u043a\\u0441-\\u0433\\u043b\\u0430\\u0432\\u044b \\u0424\\u0421\\u0411 \\u043c\\u043e\\u0436\\u0435\\u0442 \\u0441\\u0442\\u0430\\u0442\\u044c \\u043f\\u043e\\u0441\\u0442 \\u0440\\u0443\\u043a\\u043e\\u0432\\u043e\\u0434\\u0438\\u0442\\u0435\\u043b\\u044f \\\"\\u0412\\u044c\\u0435\\u0442\\u0441\\u043e\\u0432\\u043f\\u0435\\u0442\\u0440\\u043e\\\". \\u0412 \\\"\\u0417\\u0430\\u0440\\u0443\\u0431\\u0435\\u0436\\u043d\\u0435\\u0444\\u0442\\u044c\\\" \\u043e\\u043d \\u043f\\u0440\\u0438\\u0448\\u0435\\u043b \\u043e\\u0441\\u0435\\u043d\\u044c\\u044e 2011 \\u0433\\u043e\\u0434\\u0430, \\u0435\\u043c\\u0443 \\u0441\\u0440\\u0430\\u0437\\u0443 \\u0431\\u044b\\u043b\\u043e \\u043f\\u043e\\u0440\\u0443\\u0447\\u0435\\u043d\\u043e \\u043a\\u0443\\u0440\\u0438\\u0440\\u043e\\u0432\\u0430\\u0442\\u044c \\u0432\\u044c\\u0435\\u0442\\u043d\\u0430\\u043c\\u0441\\u043a\\u043e\\u0435 \\u043d\\u0430\\u043f\\u0440\\u0430\\u0432\\u043b\\u0435\\u043d\\u0438\\u0435.\\n\\n\\\"\\u0412\\u044c\\u0435\\u0442\\u0441\\u043e\\u0432\\u043f\\u0435\\u0442\\u0440\\u043e\\\" \\u0431\\u044b\\u043b\\u043e \\u0441\\u043e\\u0437\\u0434\\u0430\\u043d\\u043e \\u0432 1981 \\u0433\\u043e\\u0434\\u0443. \\u0412 \\u0441\\u043e\\u0432\\u043c\\u0435\\u0441\\u0442\\u043d\\u043e\\u043c \\u043f\\u0440\\u0435\\u0434\\u043f\\u0440\\u0438\\u044f\\u0442\\u0438\\u0438 \\\"\\u0417\\u0430\\u0440\\u0443\\u0431\\u0435\\u0436\\u043d\\u0435\\u0444\\u0442\\u0438\\\" \\u043f\\u0440\\u0438\\u043d\\u0430\\u0434\\u043b\\u0435\\u0436\\u0438\\u0442 49 \\u043f\\u0440\\u043e\\u0446\\u0435\\u043d\\u0442\\u043e\\u0432, \\u0430 \\u0432\\u044c\\u0435\\u0442\\u043d\\u0430\\u043c\\u0441\\u043a\\u043e\\u0439 \\u0433\\u043e\\u0441\\u0443\\u0434\\u0430\\u0440\\u0441\\u0442\\u0432\\u0435\\u043d\\u043d\\u043e\\u0439 PetroVietnam - 51 \\u043f\\u0440\\u043e\\u0446\\u0435\\u043d\\u0442. \\u041a\\u043e\\u043c\\u043f\\u0430\\u043d\\u0438\\u044f \\u0432\\u0435\\u0434\\u0435\\u0442 \\u0434\\u043e\\u0431\\u044b\\u0447\\u0443 \\u043d\\u0430 \\u043c\\u0435\\u0441\\u0442\\u043e\\u0440\\u043e\\u0436\\u0434\\u0435\\u043d\\u0438\\u044f\\u0445 \\u0411\\u0435\\u043b\\u044b\\u0439 \\u0422\\u0438\\u0433\\u0440, \\u0414\\u0440\\u0430\\u043a\\u043e\\u043d, \\u042e\\u0436\\u043d\\u044b\\u0439 \\u0414\\u0440\\u0430\\u043a\\u043e\\u043d - \\u041c\\u043e\\u0440\\u0441\\u043a\\u0430\\u044f \\u0427\\u0435\\u0440\\u0435\\u043f\\u0430\\u0445\\u0430. \\u0412 \\u043a\\u043e\\u043d\\u0446\\u0435 2010 \\u0433\\u043e\\u0434\\u0430 \\u043c\\u0435\\u0436\\u043f\\u0440\\u0430\\u0432\\u0438\\u0442\\u0435\\u043b\\u044c\\u0441\\u0442\\u0432\\u0435\\u043d\\u043d\\u043e\\u0435 \\u0441\\u043e\\u0433\\u043b\\u0430\\u0448\\u0435\\u043d\\u0438\\u0435 \\u0434\\u0432\\u0443\\u0445 \\u0441\\u0442\\u0440\\u0430\\u043d \\u043f\\u043e \\u0440\\u0430\\u0431\\u043e\\u0442\\u0435 \\u0421\\u041f \\u0431\\u044b\\u043b\\u043e \\u043f\\u0440\\u043e\\u0434\\u043b\\u0435\\u043d\\u043e \\u0434\\u043e 2030 \\u0433\\u043e\\u0434\\u0430.\\n\\n\\u0421 2006 \\u0433\\u043e\\u0434\\u0430 \\u0410\\u043d\\u0434\\u0440\\u0435\\u0439 \\u041f\\u0430\\u0442\\u0440\\u0443\\u0448\\u0435\\u0432 \\u0437\\u0430\\u043d\\u0438\\u043c\\u0430\\u043b \\u043f\\u043e\\u0441\\u0442 \\u0441\\u043e\\u0432\\u0435\\u0442\\u043d\\u0438\\u043a\\u0430 \\u043f\\u0440\\u0435\\u0434\\u0441\\u0435\\u0434\\u0430\\u0442\\u0435\\u043b\\u044f \\\"\\u0420\\u043e\\u0441\\u043d\\u0435\\u0444\\u0442\\u0438\\\" (\\u0432 \\u0442\\u043e \\u0432\\u0440\\u0435\\u043c\\u044f \\u0433\\u043e\\u0441\\u043a\\u043e\\u043c\\u043f\\u0430\\u043d\\u0438\\u044e \\u0432\\u043e\\u0437\\u0433\\u043b\\u0430\\u0432\\u043b\\u044f\\u043b \\u0432\\u0438\\u0446\\u0435-\\u043f\\u0440\\u0435\\u043c\\u044c\\u0435\\u0440 \\u0418\\u0433\\u043e\\u0440\\u044c \\u0421\\u0435\\u0447\\u0438\\u043d). \\u041f\\u043e \\u0434\\u0430\\u043d\\u043d\\u044b\\u043c \\u0421\\u041c\\u0418, \\u0434\\u043e \\u044d\\u0442\\u043e\\u0433\\u043e \\u043e\\u043d \\u0431\\u044b\\u043b \\u043a\\u0430\\u0434\\u0440\\u043e\\u0432\\u044b\\u043c \\u0441\\u043e\\u0442\\u0440\\u0443\\u0434\\u043d\\u0438\\u043a\\u043e\\u043c \\u0424\\u0421\\u0411, \\u0441\\u043b\\u0443\\u0436\\u0438\\u043b \\u0437\\u0430\\u043c\\u0435\\u0441\\u0442\\u0438\\u0442\\u0435\\u043b\\u0435\\u043c \\u043d\\u0430\\u0447\\u0430\\u043b\\u044c\\u043d\\u0438\\u043a\\u0430 9-\\u0433\\u043e \\u0443\\u043f\\u0440\\u0430\\u0432\\u043b\\u0435\\u043d\\u0438\\u044f \\\"\\u041f\\\" \\u0424\\u0421\\u0411 (\\\"\\u041f\\u0440\\u043e\\u043c\\u044b\\u0448\\u043b\\u0435\\u043d\\u043d\\u043e\\u0441\\u0442\\u044c\\\"). \\u0412 \\u043d\\u0430\\u0441\\u0442\\u043e\\u044f\\u0449\\u0435\\u0435 \\u0432\\u0440\\u0435\\u043c\\u044f \\u0410\\u043d\\u0434\\u0440\\u0435\\u044e \\u041f\\u0430\\u0442\\u0440\\u0443\\u0448\\u0435\\u0432\\u0443 30 \\u043b\\u0435\\u0442.\\n\\n\\u0421\\u0442\\u0430\\u0440\\u0448\\u0438\\u0439 \\u0441\\u044b\\u043d \\u0431\\u044b\\u0432\\u0448\\u0435\\u0433\\u043e \\u0440\\u0443\\u043a\\u043e\\u0432\\u043e\\u0434\\u0438\\u0442\\u0435\\u043b\\u044f \\u0424\\u0421\\u0411 - \\u0414\\u043c\\u0438\\u0442\\u0440\\u0438\\u0439 - \\u0440\\u0430\\u0431\\u043e\\u0442\\u0430\\u0435\\u0442 \\u0432 \\u0431\\u0430\\u043d\\u043a\\u043e\\u0432\\u0441\\u043a\\u043e\\u043c \\u0431\\u0438\\u0437\\u043d\\u0435\\u0441\\u0435. \\u0412 2010 \\u0433\\u043e\\u0434\\u0443 \\u043e\\u043d \\u0441\\u0442\\u0430\\u043b \\u043f\\u0440\\u0435\\u0434\\u0441\\u0435\\u0434\\u0430\\u0442\\u0435\\u043b\\u0435\\u043c \\u043f\\u0440\\u0430\\u0432\\u043b\\u0435\\u043d\\u0438\\u044f \\u0420\\u043e\\u0441\\u0441\\u0435\\u043b\\u044c\\u0445\\u043e\\u0437\\u0431\\u0430\\u043d\\u043a\\u0430, \\u043a\\u043e\\u0442\\u043e\\u0440\\u044b\\u0439 \\u0432\\u0445\\u043e\\u0434\\u0438\\u0442 \\u0432 \\u043f\\u0435\\u0440\\u0432\\u0443\\u044e \\u0434\\u0435\\u0441\\u044f\\u0442\\u043a\\u0443 \\u0440\\u043e\\u0441\\u0441\\u0438\\u0439\\u0441\\u043a\\u0438\\u0445 \\u0431\\u0430\\u043d\\u043a\\u043e\\u0432 \\u043f\\u043e \\u043e\\u0431\\u044a\\u0435\\u043c\\u0443 \\u0430\\u043a\\u0442\\u0438\\u0432\\u043e\\u0432. \\u0414\\u043e \\u044d\\u0442\\u043e\\u0433\\u043e \\u0414\\u043c\\u0438\\u0442\\u0440\\u0438\\u0439 \\u041f\\u0430\\u0442\\u0440\\u0443\\u0448\\u0435\\u0432 \\u0440\\u0430\\u0431\\u043e\\u0442\\u0430\\u043b \\u0432 \\u0431\\u0430\\u043d\\u043a\\u0435 \\u0412\\u0422\\u0411 - \\u0432 2004 \\u0433\\u043e\\u0434\\u0443 \\u043e\\u043d \\u043f\\u0440\\u0438\\u0448\\u0435\\u043b \\u0432 \\u0433\\u043e\\u0441\\u0431\\u0430\\u043d\\u043a, \\u0430 \\u0432 2007-\\u043c \\u0441\\u0442\\u0430\\u043b \\u0441\\u0442\\u0430\\u0440\\u0448\\u0438\\u043c \\u0432\\u0438\\u0446\\u0435-\\u043f\\u0440\\u0435\\u0437\\u0438\\u0434\\u0435\\u043d\\u0442\\u043e\\u043c. _100_117\"\n        ],\n        \"semantic_type\": \"\",\n        \"description\": \"\"\n      }\n    },\n    {\n      \"column\": \"predicted_entity_type\",\n      \"properties\": {\n        \"dtype\": \"category\",\n        \"num_unique_values\": 3,\n        \"samples\": [\n          \"PER\",\n          \"ORG\",\n          \"LOC\"\n        ],\n        \"semantic_type\": \"\",\n        \"description\": \"\"\n      }\n    },\n    {\n      \"column\": \"final_entity_type\",\n      \"properties\": {\n        \"dtype\": \"category\",\n        \"num_unique_values\": 4,\n        \"samples\": [\n          \"PER\",\n          \"LOC\",\n          \"UNDETECTED\"\n        ],\n        \"semantic_type\": \"\",\n        \"description\": \"\"\n      }\n    }\n  ]\n}"
            }
          },
          "metadata": {},
          "execution_count": 45
        }
      ],
      "source": [
        "train_without_overlaps"
      ]
    },
    {
      "cell_type": "markdown",
      "metadata": {
        "id": "MxVhoJvvwDYI"
      },
      "source": [
        "Посмотрим на метрики"
      ]
    },
    {
      "cell_type": "code",
      "execution_count": null,
      "metadata": {
        "id": "Sou1E_--_aLX"
      },
      "outputs": [],
      "source": [
        "from sklearn.metrics import classification_report, accuracy_score, f1_score"
      ]
    },
    {
      "cell_type": "code",
      "execution_count": null,
      "metadata": {
        "id": "6GqE47pA_aOD"
      },
      "outputs": [],
      "source": [
        "# Истинные метки\n",
        "y_true = train_without_overlaps['mapped_entity_type']\n",
        "\n",
        "# Предсказанные метки\n",
        "y_pred = train_without_overlaps['final_entity_type']\n"
      ]
    },
    {
      "cell_type": "code",
      "execution_count": null,
      "metadata": {
        "colab": {
          "base_uri": "https://localhost:8080/"
        },
        "id": "6Tf3ogMF_aQ1",
        "outputId": "767c7d69-0689-4848-eaa8-3742b6e47670"
      },
      "outputs": [
        {
          "output_type": "stream",
          "name": "stdout",
          "text": [
            "Accuracy (все классы): 0.3349\n",
            "Classification Report (все классы):\n",
            "               precision    recall  f1-score   support\n",
            "\n",
            "         AGE       0.00      0.00      0.00      1175\n",
            "       AWARD       0.00      0.00      0.00       583\n",
            "       CRIME       0.00      0.00      0.00       493\n",
            "        DATE       0.00      0.00      0.00      4692\n",
            "     DISEASE       0.00      0.00      0.00       473\n",
            "       EVENT       0.00      0.00      0.00      5525\n",
            "      FAMILY       0.00      0.00      0.00        44\n",
            "    IDEOLOGY       0.00      0.00      0.00       418\n",
            "    LANGUAGE       0.00      0.00      0.00        82\n",
            "         LAW       0.00      0.00      0.00       419\n",
            "         LOC       0.97      0.68      0.80      6785\n",
            "       MONEY       0.00      0.00      0.00       299\n",
            " NATIONALITY       0.00      0.00      0.00       702\n",
            "      NUMBER       0.00      0.00      0.00      1692\n",
            "     ORDINAL       0.00      0.00      0.00       648\n",
            "         ORG       0.85      0.58      0.69      4525\n",
            "     PENALTY       0.00      0.00      0.00       248\n",
            "         PER       0.99      0.90      0.94      9181\n",
            "     PERCENT       0.00      0.00      0.00       118\n",
            "     PRODUCT       0.00      0.00      0.00       452\n",
            "  PROFESSION       0.00      0.00      0.00      6495\n",
            "    RELIGION       0.00      0.00      0.00       101\n",
            "        TIME       0.00      0.00      0.00       283\n",
            "  UNDETECTED       0.00      0.00      0.00         0\n",
            " WORK_OF_ART       0.00      0.00      0.00       621\n",
            "\n",
            "    accuracy                           0.33     46054\n",
            "   macro avg       0.11      0.09      0.10     46054\n",
            "weighted avg       0.42      0.33      0.37     46054\n",
            "\n"
          ]
        }
      ],
      "source": [
        "# Accuracy\n",
        "accuracy = accuracy_score(y_true, y_pred)\n",
        "print(f\"Accuracy (все классы): {accuracy:.4f}\")\n",
        "\n",
        "# Classification Report\n",
        "report_all = classification_report(y_true, y_pred, zero_division=0)\n",
        "print(\"Classification Report (все классы):\\n\", report_all)\n"
      ]
    },
    {
      "cell_type": "code",
      "execution_count": null,
      "metadata": {
        "id": "736yn7AGyaIP",
        "colab": {
          "base_uri": "https://localhost:8080/"
        },
        "outputId": "ac232650-a6dd-4520-92d9-2934baf748cb"
      },
      "outputs": [
        {
          "output_type": "stream",
          "name": "stdout",
          "text": [
            "Accuracy (только смаппленные классы): 0.7528\n",
            "Classification Report (только смаппленные классы):\n",
            "               precision    recall  f1-score   support\n",
            "\n",
            "         LOC       0.98      0.68      0.80      6785\n",
            "         ORG       0.94      0.58      0.71      4525\n",
            "         PER       0.99      0.90      0.94      9181\n",
            "  UNDETECTED       0.00      0.00      0.00         0\n",
            "\n",
            "    accuracy                           0.75     20491\n",
            "   macro avg       0.73      0.54      0.61     20491\n",
            "weighted avg       0.97      0.75      0.84     20491\n",
            "\n"
          ]
        }
      ],
      "source": [
        "# Определяем смаппленные классы\n",
        "mapped_classes = ['PER', 'ORG', 'LOC']\n",
        "\n",
        "# Фильтруем данные для смаппленных классов\n",
        "mask_mapped = y_true.isin(mapped_classes)\n",
        "y_true_mapped = y_true[mask_mapped]\n",
        "y_pred_mapped = y_pred[mask_mapped]\n",
        "\n",
        "# Accuracy\n",
        "accuracy_mapped = accuracy_score(y_true_mapped, y_pred_mapped)\n",
        "print(f\"Accuracy (только смаппленные классы): {accuracy_mapped:.4f}\")\n",
        "\n",
        "# Classification Report\n",
        "report_mapped = classification_report(y_true_mapped, y_pred_mapped, zero_division=0)\n",
        "print(\"Classification Report (только смаппленные классы):\\n\", report_mapped)\n"
      ]
    },
    {
      "cell_type": "code",
      "execution_count": null,
      "metadata": {
        "id": "AYk9IxEWA58I",
        "colab": {
          "base_uri": "https://localhost:8080/"
        },
        "outputId": "2937d37a-2e71-451a-cbc9-77f78c33bfdd"
      },
      "outputs": [
        {
          "output_type": "stream",
          "name": "stdout",
          "text": [
            "F1-score для класса LOC: 0.7982\n",
            "F1-score для класса EVENT: 0.0000\n",
            "F1-score для класса PROFESSION: 0.0000\n",
            "F1-score для класса PER: 0.9385\n",
            "F1-score для класса ORG: 0.6894\n",
            "F1-score для класса IDEOLOGY: 0.0000\n",
            "F1-score для класса AGE: 0.0000\n",
            "F1-score для класса DATE: 0.0000\n",
            "F1-score для класса NUMBER: 0.0000\n",
            "F1-score для класса NATIONALITY: 0.0000\n",
            "F1-score для класса LAW: 0.0000\n",
            "F1-score для класса TIME: 0.0000\n",
            "F1-score для класса PENALTY: 0.0000\n",
            "F1-score для класса CRIME: 0.0000\n",
            "F1-score для класса MONEY: 0.0000\n",
            "F1-score для класса WORK_OF_ART: 0.0000\n",
            "F1-score для класса PRODUCT: 0.0000\n",
            "F1-score для класса ORDINAL: 0.0000\n",
            "F1-score для класса AWARD: 0.0000\n",
            "F1-score для класса DISEASE: 0.0000\n",
            "F1-score для класса LANGUAGE: 0.0000\n",
            "F1-score для класса PERCENT: 0.0000\n",
            "F1-score для класса RELIGION: 0.0000\n",
            "F1-score для класса FAMILY: 0.0000\n"
          ]
        }
      ],
      "source": [
        "# F1-score по индивидуальным классам\n",
        "f1_per_class = f1_score(y_true, y_pred, average=None, labels=y_true.unique())\n",
        "\n",
        "for cls, f1 in zip(y_true.unique(), f1_per_class):\n",
        "    print(f\"F1-score для класса {cls}: {f1:.4f}\")\n"
      ]
    },
    {
      "cell_type": "code",
      "execution_count": null,
      "metadata": {
        "id": "Jw2zadnJF5Ye",
        "colab": {
          "base_uri": "https://localhost:8080/"
        },
        "outputId": "1508c702-77e2-4ff8-a2ad-d5fbcaf44d32"
      },
      "outputs": [
        {
          "output_type": "stream",
          "name": "stdout",
          "text": [
            "Accuracy для класса PER: 0.8958\n",
            "Accuracy для класса ORG: 0.5781\n",
            "Accuracy для класса LOC: 0.6758\n"
          ]
        }
      ],
      "source": [
        "from sklearn.metrics import confusion_matrix\n",
        "import numpy as np\n",
        "\n",
        "cm = confusion_matrix(y_true, y_pred)\n",
        "\n",
        "classes = np.unique(y_true)\n",
        "\n",
        "for cls in ['PER', 'ORG', 'LOC']:\n",
        "    cls_index = np.where(classes == cls)[0][0]\n",
        "\n",
        "    true_positives = cm[cls_index, cls_index]\n",
        "\n",
        "    total_samples = np.sum(cm[cls_index, :])\n",
        "\n",
        "    accuracy_per_class = true_positives / total_samples if total_samples > 0 else 0\n",
        "\n",
        "    print(f\"Accuracy для класса {cls}: {accuracy_per_class:.4f}\")"
      ]
    },
    {
      "cell_type": "markdown",
      "metadata": {
        "id": "H4zeERQlEwm9"
      },
      "source": [
        "Наташа предсказывает то, что умеет, хорошо. Видно, что для 3 смаппленных классов Presicion близок к 1, т.е. определяет почти всё верно, а вот Recall несколько ниже, т.е. не всё находит, не все паттерны"
      ]
    },
    {
      "cell_type": "markdown",
      "metadata": {
        "id": "dUJIt_8v18ap"
      },
      "source": [
        "Следующий шаг - разработка правил."
      ]
    },
    {
      "cell_type": "code",
      "execution_count": null,
      "metadata": {
        "id": "A3h3TjKuA63j"
      },
      "outputs": [],
      "source": [
        "from sklearn.model_selection import train_test_split"
      ]
    },
    {
      "cell_type": "code",
      "source": [
        "# Сначала наконец почистим тексты\n",
        "def clean_text(text):\n",
        "    if not isinstance(text, str):\n",
        "        return text\n",
        "    cleaned_text = re.sub(r'[\\n\\r\\t]', ' ', text)\n",
        "    cleaned_text = re.sub(r'\\s+', ' ', cleaned_text)\n",
        "    return cleaned_text.strip()\n",
        "\n",
        "train_without_overlaps['text'] = train_without_overlaps['text'].apply(clean_text)"
      ],
      "metadata": {
        "id": "z7TyaYdyIynJ"
      },
      "execution_count": null,
      "outputs": []
    },
    {
      "cell_type": "code",
      "source": [
        "# Поделим на трейн и тест по текстам\n",
        "unique_texts = train_without_overlaps['text'].unique()\n",
        "\n",
        "train_texts, test_texts = train_test_split(unique_texts, test_size=0.1, random_state=42)\n",
        "\n",
        "train_data = train_without_overlaps[train_without_overlaps['text'].isin(train_texts)]\n",
        "test_data = train_without_overlaps[train_without_overlaps['text'].isin(test_texts)]\n"
      ],
      "metadata": {
        "id": "cHg7mM9VBlP6"
      },
      "execution_count": null,
      "outputs": []
    },
    {
      "cell_type": "code",
      "source": [
        "train_data"
      ],
      "metadata": {
        "colab": {
          "base_uri": "https://localhost:8080/",
          "height": 857
        },
        "id": "33DaoX1ZAio7",
        "outputId": "3ef465a6-769e-4320-b4ac-fa71af5d184a"
      },
      "execution_count": null,
      "outputs": [
        {
          "output_type": "execute_result",
          "data": {
            "text/plain": [
              "                                                    text   entity_type  \\\n",
              "0      Палестинские СМИ прокомментировали отставку ми...       COUNTRY   \n",
              "1      Палестинские СМИ прокомментировали отставку ми...         EVENT   \n",
              "2      Палестинские СМИ прокомментировали отставку ми...    PROFESSION   \n",
              "5      Палестинские СМИ прокомментировали отставку ми...        PERSON   \n",
              "6      Палестинские СМИ прокомментировали отставку ми...  ORGANIZATION   \n",
              "...                                                  ...           ...   \n",
              "56250  Ярослав Песков: очередной заплыв не за горами ...      LOCATION   \n",
              "56251  Ярослав Песков: очередной заплыв не за горами ...        PERSON   \n",
              "56252  Ярослав Песков: очередной заплыв не за горами ...      LOCATION   \n",
              "56253  Ярослав Песков: очередной заплыв не за горами ...      LOCATION   \n",
              "56254  Ярослав Песков: очередной заплыв не за горами ...      LOCATION   \n",
              "\n",
              "       start_pos  end_pos               entity_text  length  word_count  \\\n",
              "0              2       14              Палестинские  1252.0       158.0   \n",
              "1             37       45                  отставку  1252.0       158.0   \n",
              "2             46       70  министра обороны Израиля  1252.0       158.0   \n",
              "5             71       83              Эхуда Барака  1252.0       158.0   \n",
              "6            190      195                     Хамас  1252.0       158.0   \n",
              "...          ...      ...                       ...     ...         ...   \n",
              "56250        785      791                    Енисея   872.0       122.0   \n",
              "56251        800      806                    Песков   872.0       122.0   \n",
              "56252        848      852                      Неву   872.0       122.0   \n",
              "56253        854      860                    Днестр   872.0       122.0   \n",
              "56254        863      870                   Ла-Манш   872.0       122.0   \n",
              "\n",
              "      mapped_entity_type                                          entity_id  \\\n",
              "0                    LOC  \\n\\nПалестинские СМИ прокомментировали отставк...   \n",
              "1                  EVENT  \\n\\nПалестинские СМИ прокомментировали отставк...   \n",
              "2             PROFESSION  \\n\\nПалестинские СМИ прокомментировали отставк...   \n",
              "5                    PER  \\n\\nПалестинские СМИ прокомментировали отставк...   \n",
              "6                    ORG  \\n\\nПалестинские СМИ прокомментировали отставк...   \n",
              "...                  ...                                                ...   \n",
              "56250                LOC  Ярослав Песков: очередной заплыв не за горами\\...   \n",
              "56251                PER  Ярослав Песков: очередной заплыв не за горами\\...   \n",
              "56252                LOC  Ярослав Песков: очередной заплыв не за горами\\...   \n",
              "56253                LOC  Ярослав Песков: очередной заплыв не за горами\\...   \n",
              "56254                LOC  Ярослав Песков: очередной заплыв не за горами\\...   \n",
              "\n",
              "      predicted_entity_type final_entity_type  \n",
              "0                       NaN        UNDETECTED  \n",
              "1                       NaN        UNDETECTED  \n",
              "2                       NaN        UNDETECTED  \n",
              "5                       PER               PER  \n",
              "6                       ORG               ORG  \n",
              "...                     ...               ...  \n",
              "56250                   LOC               LOC  \n",
              "56251                   NaN        UNDETECTED  \n",
              "56252                   PER               PER  \n",
              "56253                   LOC               LOC  \n",
              "56254                   LOC               LOC  \n",
              "\n",
              "[41349 rows x 11 columns]"
            ],
            "text/html": [
              "\n",
              "  <div id=\"df-0c935082-e2fc-4f8b-a963-d6ff76e21746\" class=\"colab-df-container\">\n",
              "    <div>\n",
              "<style scoped>\n",
              "    .dataframe tbody tr th:only-of-type {\n",
              "        vertical-align: middle;\n",
              "    }\n",
              "\n",
              "    .dataframe tbody tr th {\n",
              "        vertical-align: top;\n",
              "    }\n",
              "\n",
              "    .dataframe thead th {\n",
              "        text-align: right;\n",
              "    }\n",
              "</style>\n",
              "<table border=\"1\" class=\"dataframe\">\n",
              "  <thead>\n",
              "    <tr style=\"text-align: right;\">\n",
              "      <th></th>\n",
              "      <th>text</th>\n",
              "      <th>entity_type</th>\n",
              "      <th>start_pos</th>\n",
              "      <th>end_pos</th>\n",
              "      <th>entity_text</th>\n",
              "      <th>length</th>\n",
              "      <th>word_count</th>\n",
              "      <th>mapped_entity_type</th>\n",
              "      <th>entity_id</th>\n",
              "      <th>predicted_entity_type</th>\n",
              "      <th>final_entity_type</th>\n",
              "    </tr>\n",
              "  </thead>\n",
              "  <tbody>\n",
              "    <tr>\n",
              "      <th>0</th>\n",
              "      <td>Палестинские СМИ прокомментировали отставку ми...</td>\n",
              "      <td>COUNTRY</td>\n",
              "      <td>2</td>\n",
              "      <td>14</td>\n",
              "      <td>Палестинские</td>\n",
              "      <td>1252.0</td>\n",
              "      <td>158.0</td>\n",
              "      <td>LOC</td>\n",
              "      <td>\\n\\nПалестинские СМИ прокомментировали отставк...</td>\n",
              "      <td>NaN</td>\n",
              "      <td>UNDETECTED</td>\n",
              "    </tr>\n",
              "    <tr>\n",
              "      <th>1</th>\n",
              "      <td>Палестинские СМИ прокомментировали отставку ми...</td>\n",
              "      <td>EVENT</td>\n",
              "      <td>37</td>\n",
              "      <td>45</td>\n",
              "      <td>отставку</td>\n",
              "      <td>1252.0</td>\n",
              "      <td>158.0</td>\n",
              "      <td>EVENT</td>\n",
              "      <td>\\n\\nПалестинские СМИ прокомментировали отставк...</td>\n",
              "      <td>NaN</td>\n",
              "      <td>UNDETECTED</td>\n",
              "    </tr>\n",
              "    <tr>\n",
              "      <th>2</th>\n",
              "      <td>Палестинские СМИ прокомментировали отставку ми...</td>\n",
              "      <td>PROFESSION</td>\n",
              "      <td>46</td>\n",
              "      <td>70</td>\n",
              "      <td>министра обороны Израиля</td>\n",
              "      <td>1252.0</td>\n",
              "      <td>158.0</td>\n",
              "      <td>PROFESSION</td>\n",
              "      <td>\\n\\nПалестинские СМИ прокомментировали отставк...</td>\n",
              "      <td>NaN</td>\n",
              "      <td>UNDETECTED</td>\n",
              "    </tr>\n",
              "    <tr>\n",
              "      <th>5</th>\n",
              "      <td>Палестинские СМИ прокомментировали отставку ми...</td>\n",
              "      <td>PERSON</td>\n",
              "      <td>71</td>\n",
              "      <td>83</td>\n",
              "      <td>Эхуда Барака</td>\n",
              "      <td>1252.0</td>\n",
              "      <td>158.0</td>\n",
              "      <td>PER</td>\n",
              "      <td>\\n\\nПалестинские СМИ прокомментировали отставк...</td>\n",
              "      <td>PER</td>\n",
              "      <td>PER</td>\n",
              "    </tr>\n",
              "    <tr>\n",
              "      <th>6</th>\n",
              "      <td>Палестинские СМИ прокомментировали отставку ми...</td>\n",
              "      <td>ORGANIZATION</td>\n",
              "      <td>190</td>\n",
              "      <td>195</td>\n",
              "      <td>Хамас</td>\n",
              "      <td>1252.0</td>\n",
              "      <td>158.0</td>\n",
              "      <td>ORG</td>\n",
              "      <td>\\n\\nПалестинские СМИ прокомментировали отставк...</td>\n",
              "      <td>ORG</td>\n",
              "      <td>ORG</td>\n",
              "    </tr>\n",
              "    <tr>\n",
              "      <th>...</th>\n",
              "      <td>...</td>\n",
              "      <td>...</td>\n",
              "      <td>...</td>\n",
              "      <td>...</td>\n",
              "      <td>...</td>\n",
              "      <td>...</td>\n",
              "      <td>...</td>\n",
              "      <td>...</td>\n",
              "      <td>...</td>\n",
              "      <td>...</td>\n",
              "      <td>...</td>\n",
              "    </tr>\n",
              "    <tr>\n",
              "      <th>56250</th>\n",
              "      <td>Ярослав Песков: очередной заплыв не за горами ...</td>\n",
              "      <td>LOCATION</td>\n",
              "      <td>785</td>\n",
              "      <td>791</td>\n",
              "      <td>Енисея</td>\n",
              "      <td>872.0</td>\n",
              "      <td>122.0</td>\n",
              "      <td>LOC</td>\n",
              "      <td>Ярослав Песков: очередной заплыв не за горами\\...</td>\n",
              "      <td>LOC</td>\n",
              "      <td>LOC</td>\n",
              "    </tr>\n",
              "    <tr>\n",
              "      <th>56251</th>\n",
              "      <td>Ярослав Песков: очередной заплыв не за горами ...</td>\n",
              "      <td>PERSON</td>\n",
              "      <td>800</td>\n",
              "      <td>806</td>\n",
              "      <td>Песков</td>\n",
              "      <td>872.0</td>\n",
              "      <td>122.0</td>\n",
              "      <td>PER</td>\n",
              "      <td>Ярослав Песков: очередной заплыв не за горами\\...</td>\n",
              "      <td>NaN</td>\n",
              "      <td>UNDETECTED</td>\n",
              "    </tr>\n",
              "    <tr>\n",
              "      <th>56252</th>\n",
              "      <td>Ярослав Песков: очередной заплыв не за горами ...</td>\n",
              "      <td>LOCATION</td>\n",
              "      <td>848</td>\n",
              "      <td>852</td>\n",
              "      <td>Неву</td>\n",
              "      <td>872.0</td>\n",
              "      <td>122.0</td>\n",
              "      <td>LOC</td>\n",
              "      <td>Ярослав Песков: очередной заплыв не за горами\\...</td>\n",
              "      <td>PER</td>\n",
              "      <td>PER</td>\n",
              "    </tr>\n",
              "    <tr>\n",
              "      <th>56253</th>\n",
              "      <td>Ярослав Песков: очередной заплыв не за горами ...</td>\n",
              "      <td>LOCATION</td>\n",
              "      <td>854</td>\n",
              "      <td>860</td>\n",
              "      <td>Днестр</td>\n",
              "      <td>872.0</td>\n",
              "      <td>122.0</td>\n",
              "      <td>LOC</td>\n",
              "      <td>Ярослав Песков: очередной заплыв не за горами\\...</td>\n",
              "      <td>LOC</td>\n",
              "      <td>LOC</td>\n",
              "    </tr>\n",
              "    <tr>\n",
              "      <th>56254</th>\n",
              "      <td>Ярослав Песков: очередной заплыв не за горами ...</td>\n",
              "      <td>LOCATION</td>\n",
              "      <td>863</td>\n",
              "      <td>870</td>\n",
              "      <td>Ла-Манш</td>\n",
              "      <td>872.0</td>\n",
              "      <td>122.0</td>\n",
              "      <td>LOC</td>\n",
              "      <td>Ярослав Песков: очередной заплыв не за горами\\...</td>\n",
              "      <td>LOC</td>\n",
              "      <td>LOC</td>\n",
              "    </tr>\n",
              "  </tbody>\n",
              "</table>\n",
              "<p>41349 rows × 11 columns</p>\n",
              "</div>\n",
              "    <div class=\"colab-df-buttons\">\n",
              "\n",
              "  <div class=\"colab-df-container\">\n",
              "    <button class=\"colab-df-convert\" onclick=\"convertToInteractive('df-0c935082-e2fc-4f8b-a963-d6ff76e21746')\"\n",
              "            title=\"Convert this dataframe to an interactive table.\"\n",
              "            style=\"display:none;\">\n",
              "\n",
              "  <svg xmlns=\"http://www.w3.org/2000/svg\" height=\"24px\" viewBox=\"0 -960 960 960\">\n",
              "    <path d=\"M120-120v-720h720v720H120Zm60-500h600v-160H180v160Zm220 220h160v-160H400v160Zm0 220h160v-160H400v160ZM180-400h160v-160H180v160Zm440 0h160v-160H620v160ZM180-180h160v-160H180v160Zm440 0h160v-160H620v160Z\"/>\n",
              "  </svg>\n",
              "    </button>\n",
              "\n",
              "  <style>\n",
              "    .colab-df-container {\n",
              "      display:flex;\n",
              "      gap: 12px;\n",
              "    }\n",
              "\n",
              "    .colab-df-convert {\n",
              "      background-color: #E8F0FE;\n",
              "      border: none;\n",
              "      border-radius: 50%;\n",
              "      cursor: pointer;\n",
              "      display: none;\n",
              "      fill: #1967D2;\n",
              "      height: 32px;\n",
              "      padding: 0 0 0 0;\n",
              "      width: 32px;\n",
              "    }\n",
              "\n",
              "    .colab-df-convert:hover {\n",
              "      background-color: #E2EBFA;\n",
              "      box-shadow: 0px 1px 2px rgba(60, 64, 67, 0.3), 0px 1px 3px 1px rgba(60, 64, 67, 0.15);\n",
              "      fill: #174EA6;\n",
              "    }\n",
              "\n",
              "    .colab-df-buttons div {\n",
              "      margin-bottom: 4px;\n",
              "    }\n",
              "\n",
              "    [theme=dark] .colab-df-convert {\n",
              "      background-color: #3B4455;\n",
              "      fill: #D2E3FC;\n",
              "    }\n",
              "\n",
              "    [theme=dark] .colab-df-convert:hover {\n",
              "      background-color: #434B5C;\n",
              "      box-shadow: 0px 1px 3px 1px rgba(0, 0, 0, 0.15);\n",
              "      filter: drop-shadow(0px 1px 2px rgba(0, 0, 0, 0.3));\n",
              "      fill: #FFFFFF;\n",
              "    }\n",
              "  </style>\n",
              "\n",
              "    <script>\n",
              "      const buttonEl =\n",
              "        document.querySelector('#df-0c935082-e2fc-4f8b-a963-d6ff76e21746 button.colab-df-convert');\n",
              "      buttonEl.style.display =\n",
              "        google.colab.kernel.accessAllowed ? 'block' : 'none';\n",
              "\n",
              "      async function convertToInteractive(key) {\n",
              "        const element = document.querySelector('#df-0c935082-e2fc-4f8b-a963-d6ff76e21746');\n",
              "        const dataTable =\n",
              "          await google.colab.kernel.invokeFunction('convertToInteractive',\n",
              "                                                    [key], {});\n",
              "        if (!dataTable) return;\n",
              "\n",
              "        const docLinkHtml = 'Like what you see? Visit the ' +\n",
              "          '<a target=\"_blank\" href=https://colab.research.google.com/notebooks/data_table.ipynb>data table notebook</a>'\n",
              "          + ' to learn more about interactive tables.';\n",
              "        element.innerHTML = '';\n",
              "        dataTable['output_type'] = 'display_data';\n",
              "        await google.colab.output.renderOutput(dataTable, element);\n",
              "        const docLink = document.createElement('div');\n",
              "        docLink.innerHTML = docLinkHtml;\n",
              "        element.appendChild(docLink);\n",
              "      }\n",
              "    </script>\n",
              "  </div>\n",
              "\n",
              "\n",
              "<div id=\"df-9aef450a-ad43-49d6-b36e-0c22fe3216cc\">\n",
              "  <button class=\"colab-df-quickchart\" onclick=\"quickchart('df-9aef450a-ad43-49d6-b36e-0c22fe3216cc')\"\n",
              "            title=\"Suggest charts\"\n",
              "            style=\"display:none;\">\n",
              "\n",
              "<svg xmlns=\"http://www.w3.org/2000/svg\" height=\"24px\"viewBox=\"0 0 24 24\"\n",
              "     width=\"24px\">\n",
              "    <g>\n",
              "        <path d=\"M19 3H5c-1.1 0-2 .9-2 2v14c0 1.1.9 2 2 2h14c1.1 0 2-.9 2-2V5c0-1.1-.9-2-2-2zM9 17H7v-7h2v7zm4 0h-2V7h2v10zm4 0h-2v-4h2v4z\"/>\n",
              "    </g>\n",
              "</svg>\n",
              "  </button>\n",
              "\n",
              "<style>\n",
              "  .colab-df-quickchart {\n",
              "      --bg-color: #E8F0FE;\n",
              "      --fill-color: #1967D2;\n",
              "      --hover-bg-color: #E2EBFA;\n",
              "      --hover-fill-color: #174EA6;\n",
              "      --disabled-fill-color: #AAA;\n",
              "      --disabled-bg-color: #DDD;\n",
              "  }\n",
              "\n",
              "  [theme=dark] .colab-df-quickchart {\n",
              "      --bg-color: #3B4455;\n",
              "      --fill-color: #D2E3FC;\n",
              "      --hover-bg-color: #434B5C;\n",
              "      --hover-fill-color: #FFFFFF;\n",
              "      --disabled-bg-color: #3B4455;\n",
              "      --disabled-fill-color: #666;\n",
              "  }\n",
              "\n",
              "  .colab-df-quickchart {\n",
              "    background-color: var(--bg-color);\n",
              "    border: none;\n",
              "    border-radius: 50%;\n",
              "    cursor: pointer;\n",
              "    display: none;\n",
              "    fill: var(--fill-color);\n",
              "    height: 32px;\n",
              "    padding: 0;\n",
              "    width: 32px;\n",
              "  }\n",
              "\n",
              "  .colab-df-quickchart:hover {\n",
              "    background-color: var(--hover-bg-color);\n",
              "    box-shadow: 0 1px 2px rgba(60, 64, 67, 0.3), 0 1px 3px 1px rgba(60, 64, 67, 0.15);\n",
              "    fill: var(--button-hover-fill-color);\n",
              "  }\n",
              "\n",
              "  .colab-df-quickchart-complete:disabled,\n",
              "  .colab-df-quickchart-complete:disabled:hover {\n",
              "    background-color: var(--disabled-bg-color);\n",
              "    fill: var(--disabled-fill-color);\n",
              "    box-shadow: none;\n",
              "  }\n",
              "\n",
              "  .colab-df-spinner {\n",
              "    border: 2px solid var(--fill-color);\n",
              "    border-color: transparent;\n",
              "    border-bottom-color: var(--fill-color);\n",
              "    animation:\n",
              "      spin 1s steps(1) infinite;\n",
              "  }\n",
              "\n",
              "  @keyframes spin {\n",
              "    0% {\n",
              "      border-color: transparent;\n",
              "      border-bottom-color: var(--fill-color);\n",
              "      border-left-color: var(--fill-color);\n",
              "    }\n",
              "    20% {\n",
              "      border-color: transparent;\n",
              "      border-left-color: var(--fill-color);\n",
              "      border-top-color: var(--fill-color);\n",
              "    }\n",
              "    30% {\n",
              "      border-color: transparent;\n",
              "      border-left-color: var(--fill-color);\n",
              "      border-top-color: var(--fill-color);\n",
              "      border-right-color: var(--fill-color);\n",
              "    }\n",
              "    40% {\n",
              "      border-color: transparent;\n",
              "      border-right-color: var(--fill-color);\n",
              "      border-top-color: var(--fill-color);\n",
              "    }\n",
              "    60% {\n",
              "      border-color: transparent;\n",
              "      border-right-color: var(--fill-color);\n",
              "    }\n",
              "    80% {\n",
              "      border-color: transparent;\n",
              "      border-right-color: var(--fill-color);\n",
              "      border-bottom-color: var(--fill-color);\n",
              "    }\n",
              "    90% {\n",
              "      border-color: transparent;\n",
              "      border-bottom-color: var(--fill-color);\n",
              "    }\n",
              "  }\n",
              "</style>\n",
              "\n",
              "  <script>\n",
              "    async function quickchart(key) {\n",
              "      const quickchartButtonEl =\n",
              "        document.querySelector('#' + key + ' button');\n",
              "      quickchartButtonEl.disabled = true;  // To prevent multiple clicks.\n",
              "      quickchartButtonEl.classList.add('colab-df-spinner');\n",
              "      try {\n",
              "        const charts = await google.colab.kernel.invokeFunction(\n",
              "            'suggestCharts', [key], {});\n",
              "      } catch (error) {\n",
              "        console.error('Error during call to suggestCharts:', error);\n",
              "      }\n",
              "      quickchartButtonEl.classList.remove('colab-df-spinner');\n",
              "      quickchartButtonEl.classList.add('colab-df-quickchart-complete');\n",
              "    }\n",
              "    (() => {\n",
              "      let quickchartButtonEl =\n",
              "        document.querySelector('#df-9aef450a-ad43-49d6-b36e-0c22fe3216cc button');\n",
              "      quickchartButtonEl.style.display =\n",
              "        google.colab.kernel.accessAllowed ? 'block' : 'none';\n",
              "    })();\n",
              "  </script>\n",
              "</div>\n",
              "\n",
              "  <div id=\"id_30bb4809-1aef-4970-bc92-6523f9c3244f\">\n",
              "    <style>\n",
              "      .colab-df-generate {\n",
              "        background-color: #E8F0FE;\n",
              "        border: none;\n",
              "        border-radius: 50%;\n",
              "        cursor: pointer;\n",
              "        display: none;\n",
              "        fill: #1967D2;\n",
              "        height: 32px;\n",
              "        padding: 0 0 0 0;\n",
              "        width: 32px;\n",
              "      }\n",
              "\n",
              "      .colab-df-generate:hover {\n",
              "        background-color: #E2EBFA;\n",
              "        box-shadow: 0px 1px 2px rgba(60, 64, 67, 0.3), 0px 1px 3px 1px rgba(60, 64, 67, 0.15);\n",
              "        fill: #174EA6;\n",
              "      }\n",
              "\n",
              "      [theme=dark] .colab-df-generate {\n",
              "        background-color: #3B4455;\n",
              "        fill: #D2E3FC;\n",
              "      }\n",
              "\n",
              "      [theme=dark] .colab-df-generate:hover {\n",
              "        background-color: #434B5C;\n",
              "        box-shadow: 0px 1px 3px 1px rgba(0, 0, 0, 0.15);\n",
              "        filter: drop-shadow(0px 1px 2px rgba(0, 0, 0, 0.3));\n",
              "        fill: #FFFFFF;\n",
              "      }\n",
              "    </style>\n",
              "    <button class=\"colab-df-generate\" onclick=\"generateWithVariable('train_data')\"\n",
              "            title=\"Generate code using this dataframe.\"\n",
              "            style=\"display:none;\">\n",
              "\n",
              "  <svg xmlns=\"http://www.w3.org/2000/svg\" height=\"24px\"viewBox=\"0 0 24 24\"\n",
              "       width=\"24px\">\n",
              "    <path d=\"M7,19H8.4L18.45,9,17,7.55,7,17.6ZM5,21V16.75L18.45,3.32a2,2,0,0,1,2.83,0l1.4,1.43a1.91,1.91,0,0,1,.58,1.4,1.91,1.91,0,0,1-.58,1.4L9.25,21ZM18.45,9,17,7.55Zm-12,3A5.31,5.31,0,0,0,4.9,8.1,5.31,5.31,0,0,0,1,6.5,5.31,5.31,0,0,0,4.9,4.9,5.31,5.31,0,0,0,6.5,1,5.31,5.31,0,0,0,8.1,4.9,5.31,5.31,0,0,0,12,6.5,5.46,5.46,0,0,0,6.5,12Z\"/>\n",
              "  </svg>\n",
              "    </button>\n",
              "    <script>\n",
              "      (() => {\n",
              "      const buttonEl =\n",
              "        document.querySelector('#id_30bb4809-1aef-4970-bc92-6523f9c3244f button.colab-df-generate');\n",
              "      buttonEl.style.display =\n",
              "        google.colab.kernel.accessAllowed ? 'block' : 'none';\n",
              "\n",
              "      buttonEl.onclick = () => {\n",
              "        google.colab.notebook.generateWithVariable('train_data');\n",
              "      }\n",
              "      })();\n",
              "    </script>\n",
              "  </div>\n",
              "\n",
              "    </div>\n",
              "  </div>\n"
            ],
            "application/vnd.google.colaboratory.intrinsic+json": {
              "type": "dataframe",
              "variable_name": "train_data",
              "summary": "{\n  \"name\": \"train_data\",\n  \"rows\": 41349,\n  \"fields\": [\n    {\n      \"column\": \"text\",\n      \"properties\": {\n        \"dtype\": \"category\",\n        \"num_unique_values\": 839,\n        \"samples\": [\n          \"\\u0412\\u043f\\u0435\\u0440\\u0432\\u044b\\u0435 \\u0437\\u0430 10 \\u043b\\u0435\\u0442 \\u0417\\u043e\\u043b\\u043e\\u0442\\u043e\\u0439 \\u043c\\u044f\\u0447 \\u043d\\u0435 \\u043f\\u043e\\u043b\\u0443\\u0447\\u0438\\u043b\\u0438 \\u043d\\u0438 \\u0420\\u043e\\u043d\\u0430\\u043b\\u0434\\u0443, \\u043d\\u0438 \\u041c\\u0435\\u0441\\u0441\\u0438 \\u041b\\u0443\\u043a\\u0430 \\u041c\\u043e\\u0434\\u0440\\u0438\\u0447 \\u041b\\u0443\\u043a\\u0430 \\u041c\\u043e\\u0434\\u0440\\u0438\\u0447, \\u043f\\u043e\\u043b\\u0443\\u0437\\u0430\\u0449\\u0438\\u0442\\u043d\\u0438\\u043a \\u043c\\u0430\\u0434\\u0440\\u0438\\u0434\\u0441\\u043a\\u043e\\u0433\\u043e \\u00ab\\u0420\\u0435\\u0430\\u043b\\u0430\\u00bb \\u0438 \\u0441\\u0431\\u043e\\u0440\\u043d\\u043e\\u0439 \\u0425\\u043e\\u0440\\u0432\\u0430\\u0442\\u0438\\u0438, \\u043f\\u043e\\u043b\\u0443\\u0447\\u0438\\u043b \\u043d\\u0430\\u0433\\u0440\\u0430\\u0434\\u0443 \\u043b\\u0443\\u0447\\u0448\\u0435\\u043c\\u0443 \\u0444\\u0443\\u0442\\u0431\\u043e\\u043b\\u0438\\u0441\\u0442\\u0443 \\u0433\\u043e\\u0434\\u0430 \\u043f\\u043e \\u0432\\u0435\\u0440\\u0441\\u0438\\u0438 \\u0435\\u0436\\u0435\\u043d\\u0435\\u0434\\u0435\\u043b\\u044c\\u043d\\u0438\\u043a\\u0430 France Football \\u2014 \\u00ab\\u0417\\u043e\\u043b\\u043e\\u0442\\u043e\\u0439 \\u043c\\u044f\\u0447\\u00bb. \\u0412 \\u043c\\u0430\\u0435 \\u044d\\u0442\\u043e\\u0433\\u043e \\u0433\\u043e\\u0434\\u0430 \\u0444\\u0443\\u0442\\u0431\\u043e\\u043b\\u0438\\u0441\\u0442 \\u0432\\u044b\\u0438\\u0433\\u0440\\u0430\\u043b \\u0441 \\u0420\\u0435\\u0430\\u043b \\u041c\\u0430\\u0434\\u0440\\u0438\\u0434\\u043e\\u043c \\u041b\\u0438\\u0433\\u0443 \\u0447\\u0435\\u043c\\u043f\\u0438\\u043e\\u043d\\u043e\\u0432. \\u0412 \\u0438\\u044e\\u043b\\u0435 \\u043d\\u0430 \\u0427\\u041c-2018 \\u043e\\u043d \\u0432\\u043c\\u0435\\u0441\\u0442\\u0435 \\u0441\\u043e \\u0441\\u0431\\u043e\\u0440\\u043d\\u043e\\u0439 \\u0425\\u043e\\u0440\\u0432\\u0430\\u0442\\u0438\\u0438, \\u0433\\u0434\\u0435 \\u0431\\u044b\\u043b \\u043a\\u0430\\u043f\\u0438\\u0442\\u0430\\u043d\\u043e\\u043c, \\u0434\\u043e\\u0448\\u0451\\u043b \\u0434\\u043e \\u0444\\u0438\\u043d\\u0430\\u043b\\u0430. 33-\\u043b\\u0435\\u0442\\u043d\\u0438\\u0439 \\u0445\\u043e\\u0440\\u0432\\u0430\\u0442 \\u043e\\u043f\\u0435\\u0440\\u0435\\u0434\\u0438\\u043b \\u0432 \\u0433\\u043e\\u043b\\u043e\\u0441\\u043e\\u0432\\u0430\\u043d\\u0438\\u0438 \\u043d\\u0430\\u043f\\u0430\\u0434\\u0430\\u044e\\u0449\\u0435\\u0433\\u043e \\u00ab\\u042e\\u0432\\u0435\\u043d\\u0442\\u0443\\u0441\\u0430\\u00bb \\u041a\\u0440\\u0438\\u0448\\u0442\\u0438\\u0430\\u043d\\u0443 \\u0420\\u043e\\u043d\\u0430\\u043b\\u0434\\u0443 \\u0438 \\u0444\\u043e\\u0440\\u0432\\u0430\\u0440\\u0434\\u0430 \\u00ab\\u0410\\u0442\\u043b\\u0435\\u0442\\u0438\\u043a\\u043e\\u00bb \\u0410\\u043d\\u0442\\u0443\\u0430\\u043d\\u0430 \\u0413\\u0440\\u0438\\u0437\\u043c\\u0430\\u043d\\u043d\\u0430. \\u0412 \\u043d\\u043e\\u044f\\u0431\\u0440\\u0435 \\u043f\\u043e\\u043b\\u0443\\u0437\\u0430\\u0449\\u0438\\u0442\\u043d\\u0438\\u043a \\u043f\\u0440\\u0438\\u0437\\u043d\\u0430\\u043d \\u0438\\u0433\\u0440\\u043e\\u043a\\u043e\\u043c \\u0433\\u043e\\u0434\\u0430 \\u043f\\u043e \\u0432\\u0435\\u0440\\u0441\\u0438\\u0438 \\u0424\\u0418\\u0424\\u0410. \\u041f\\u043e\\u0441\\u043b\\u0435 \\u043f\\u043e\\u043b\\u0443\\u0447\\u0435\\u043d\\u0438\\u044f \\u043d\\u0430\\u0433\\u0440\\u0430\\u0434\\u044b \\u041b\\u0443\\u043a\\u0430 \\u041c\\u043e\\u0434\\u0440\\u0438\\u0447 \\u0441\\u043a\\u0430\\u0437\\u0430\\u043b: \\u0425\\u043e\\u0447\\u0443 \\u043f\\u043e\\u0431\\u043b\\u0430\\u0433\\u043e\\u0434\\u0430\\u0440\\u0438\\u0442\\u044c \\u0442\\u0435\\u0445, \\u043a\\u0442\\u043e \\u043f\\u043e\\u043c\\u043e\\u0433\\u0430\\u043b \\u043c\\u043d\\u0435, \\u0432\\u0441\\u0435\\u0445, \\u043a\\u0442\\u043e \\u0440\\u0430\\u0431\\u043e\\u0442\\u0430\\u0435\\u0442 \\u0432 \\u00ab\\u0420\\u0435\\u0430\\u043b\\u0435\\u00bb \\u0438 \\u0432 \\u0441\\u0431\\u043e\\u0440\\u043d\\u043e\\u0439 \\u0425\\u043e\\u0440\\u0432\\u0430\\u0442\\u0438\\u0438. \\u0412\\u0441\\u0435\\u0445 \\u043c\\u043e\\u0438\\u0445 \\u0431\\u043b\\u0438\\u0437\\u043a\\u0438\\u0445, \\u043c\\u043e\\u044e \\u0436\\u0435\\u043d\\u0443 \\u0438 \\u0434\\u0435\\u0442\\u0435\\u0439. \\u041a\\u043e\\u0433\\u0434\\u0430 \\u044f \\u0431\\u044b\\u043b \\u0440\\u0435\\u0431\\u0435\\u043d\\u043a\\u043e\\u043c, \\u044f \\u043c\\u0435\\u0447\\u0442\\u0430\\u043b \\u0438\\u0433\\u0440\\u0430\\u0442\\u044c \\u0432 \\u0432\\u0435\\u043b\\u0438\\u043a\\u043e\\u043c \\u043a\\u043b\\u0443\\u0431\\u0435, \\u043d\\u043e \\u00ab\\u0417\\u043e\\u043b\\u043e\\u0442\\u043e\\u0439 \\u043c\\u044f\\u0447\\u00bb \\u0431\\u044b\\u043b \\u0434\\u043b\\u044f \\u043c\\u0435\\u043d\\u044f \\u0447\\u0435\\u043c-\\u0442\\u043e \\u0431\\u043e\\u043b\\u044c\\u0448\\u0438\\u043c. \\u042d\\u0442\\u043e \\u043d\\u0435\\u0432\\u0435\\u0440\\u043e\\u044f\\u0442\\u043d\\u043e. \\u041d\\u0435 \\u0442\\u043e\\u043b\\u044c\\u043a\\u043e \\u043f\\u043e\\u0442\\u043e\\u043c\\u0443, \\u0447\\u0442\\u043e \\u044f \\u0432\\u044b\\u0438\\u0433\\u0440\\u0430\\u043b \\u044d\\u0442\\u0443 \\u043d\\u0430\\u0433\\u0440\\u0430\\u0434\\u0443 \\u043f\\u043e\\u0441\\u043b\\u0435 \\u0420\\u043e\\u043d\\u0430\\u043b\\u0434\\u0443 \\u0438 \\u041c\\u0435\\u0441\\u0441\\u0438. \\u0421\\u0440\\u0435\\u0434\\u0438 \\u0442\\u0435\\u0445, \\u043a\\u0442\\u043e \\u0443\\u0447\\u0430\\u0441\\u0442\\u0432\\u043e\\u0432\\u0430\\u043b \\u0432 \\u0431\\u043e\\u0440\\u044c\\u0431\\u0435 \\u0437\\u0430 \\u044d\\u0442\\u0443 \\u043d\\u0430\\u0433\\u0440\\u0430\\u0434\\u0443, \\u0435\\u0441\\u0442\\u044c \\u0431\\u043e\\u043b\\u044c\\u0448\\u0438\\u0435 \\u0442\\u0430\\u043b\\u0430\\u043d\\u0442\\u044b. \\u0415\\u0441\\u043b\\u0438 \\u044f \\u0432\\u044b\\u0438\\u0433\\u0440\\u0430\\u043b, \\u0442\\u043e \\u0442\\u043e\\u043b\\u044c\\u043a\\u043e \\u043f\\u043e\\u0442\\u043e\\u043c\\u0443, \\u0447\\u0442\\u043e \\u0441\\u0434\\u0435\\u043b\\u0430\\u043b \\u043d\\u0435\\u0447\\u0442\\u043e \\u043e\\u0441\\u043e\\u0431\\u0435\\u043d\\u043d\\u043e\\u0435. \\u0414\\u043b\\u044f \\u043c\\u0435\\u043d\\u044f \\u0431\\u043e\\u043b\\u044c\\u0448\\u0430\\u044f \\u0447\\u0435\\u0441\\u0442\\u044c \\u0431\\u044b\\u0442\\u044c \\u0441\\u0440\\u0435\\u0434\\u0438 \\u0432\\u0435\\u043b\\u0438\\u043a\\u0438\\u0445 \\u0444\\u0443\\u0442\\u0431\\u043e\\u043b\\u0438\\u0441\\u0442\\u043e\\u0432. \\u041f\\u044b\\u0442\\u0430\\u044e\\u0441\\u044c \\u0441\\u0432\\u044b\\u043a\\u043d\\u0443\\u0442\\u044c\\u0441\\u044f \\u0441 \\u043c\\u044b\\u0441\\u043b\\u044c\\u044e, \\u0447\\u0442\\u043e \\u044f \\u0432\\u043e\\u0448\\u0435\\u043b \\u0432 \\u0447\\u0438\\u0441\\u043b\\u043e \\u0438\\u0441\\u043a\\u043b\\u044e\\u0447\\u0438\\u0442\\u0435\\u043b\\u044c\\u043d\\u044b\\u0445 \\u0438\\u0433\\u0440\\u043e\\u043a\\u043e\\u0432, \\u043f\\u043e\\u043b\\u0443\\u0447\\u0430\\u0432\\u0448\\u0438\\u0445 \\u00ab\\u0417\\u043e\\u043b\\u043e\\u0442\\u043e\\u0439 \\u043c\\u044f\\u0447\\u00bb. \\u041a\\u043b\\u044e\\u0447 \\u043a \\u0443\\u0441\\u043f\\u0435\\u0445\\u0443? \\u0422\\u0440\\u0443\\u0434\\u043d\\u043e \\u0441\\u043a\\u0430\\u0437\\u0430\\u0442\\u044c... \\u0422\\u0440\\u0443\\u0434, \\u0443\\u043f\\u043e\\u0440\\u0441\\u0442\\u0432\\u043e \\u0432 \\u0442\\u044f\\u0436\\u0435\\u043b\\u044b\\u0435 \\u043c\\u043e\\u043c\\u0435\\u043d\\u0442\\u044b. \\u0412\\u0441\\u0435\\u0433\\u0434\\u0430 \\u043d\\u0435\\u043f\\u0440\\u043e\\u0441\\u0442\\u043e \\u0434\\u043e\\u0441\\u0442\\u0438\\u0447\\u044c \\u0442\\u043e\\u0433\\u043e, \\u043a \\u0447\\u0435\\u043c\\u0443 \\u0442\\u044b \\u0441\\u0442\\u0440\\u0435\\u043c\\u0438\\u0448\\u044c\\u0441\\u044f. \\u041d\\u043e \\u0440\\u0430\\u043d\\u043e \\u0438\\u043b\\u0438 \\u043f\\u043e\\u0437\\u0434\\u043d\\u043e \\u0432\\u043e\\u0437\\u043c\\u043e\\u0436\\u043d\\u043e\\u0441\\u0442\\u044c \\u043f\\u043e\\u044f\\u0432\\u0438\\u0442\\u0441\\u044f, \\u043d\\u043e \\u0432\\u044b \\u0434\\u043e\\u043b\\u0436\\u043d\\u044b \\u0431\\u044b\\u0442\\u044c \\u0433\\u043e\\u0442\\u043e\\u0432\\u044b \\u0432\\u043e\\u0441\\u043f\\u043e\\u043b\\u044c\\u0437\\u043e\\u0432\\u0430\\u0442\\u044c\\u0441\\u044f \\u043c\\u043e\\u043c\\u0435\\u043d\\u0442\\u043e\\u043c. \\u0418\\u043d\\u0442\\u0435\\u0440\\u0435\\u0441\\u043d\\u043e, \\u0447\\u0442\\u043e \\u0441 2008 \\u0433\\u043e\\u0434\\u0430 \\u043f\\u0440\\u0438\\u0437 \\u043f\\u043e\\u043b\\u0443\\u0447\\u0430\\u043b\\u0438 \\u0442\\u043e\\u043b\\u044c\\u043a\\u043e \\u041a\\u0440\\u0438\\u0448\\u0442\\u0438\\u0430\\u043d\\u0443 \\u0420\\u043e\\u043d\\u0430\\u043b\\u0434\\u0443 \\u0438 \\u041b\\u0438\\u043e\\u043d\\u0435\\u043b\\u044c \\u041c\\u0435\\u0441\\u0441\\u0438. \\u0423 \\u043e\\u0431\\u043e\\u0438\\u0445 \\u043f\\u043e \\u043f\\u044f\\u0442\\u044c \\u043d\\u0430\\u0433\\u0440\\u0430\\u0434. \\u0412 \\u0433\\u043e\\u043b\\u043e\\u0441\\u043e\\u0432\\u0430\\u043d\\u0438\\u0438 \\u044d\\u0442\\u043e\\u0433\\u043e \\u0433\\u043e\\u0434\\u0430 \\u0420\\u043e\\u043d\\u0430\\u043b\\u0434\\u0443 \\u0437\\u0430\\u043d\\u044f\\u043b \\u0432\\u0442\\u043e\\u0440\\u043e\\u0435 \\u043c\\u0435\\u0441\\u0442\\u043e, \\u0430 \\u041c\\u0435\\u0441\\u0441\\u0438 \\u043d\\u0430 \\u043f\\u044f\\u0442\\u043e\\u043c. \\u00ab\\u0417\\u043e\\u043b\\u043e\\u0442\\u043e\\u0439 \\u043c\\u044f\\u0447\\u00bb \\u2014 \\u0435\\u0436\\u0435\\u0433\\u043e\\u0434\\u043d\\u0430\\u044f \\u0444\\u0443\\u0442\\u0431\\u043e\\u043b\\u044c\\u043d\\u0430\\u044f \\u043d\\u0430\\u0433\\u0440\\u0430\\u0434\\u0430, \\u0438\\u0437\\u0432\\u0435\\u0441\\u0442\\u043d\\u0430\\u044f \\u0442\\u0430\\u043a\\u0436\\u0435 \\u043a\\u0430\\u043a \\u043d\\u0430\\u0433\\u0440\\u0430\\u0434\\u0430 \\u043b\\u0443\\u0447\\u0448\\u0435\\u043c\\u0443 \\u0444\\u0443\\u0442\\u0431\\u043e\\u043b\\u0438\\u0441\\u0442\\u0443 \\u0433\\u043e\\u0434\\u0430 \\u0432 \\u0415\\u0432\\u0440\\u043e\\u043f\\u0435. \\u0412\\u0440\\u0443\\u0447\\u0430\\u0435\\u0442\\u0441\\u044f \\u0444\\u0443\\u0442\\u0431\\u043e\\u043b\\u0438\\u0441\\u0442\\u0443, \\u043a\\u043e\\u0442\\u043e\\u0440\\u044b\\u0439 \\u043f\\u0440\\u0438\\u0437\\u043d\\u0430\\u0435\\u0442\\u0441\\u044f \\u043b\\u0443\\u0447\\u0448\\u0438\\u043c \\u0432 \\u043a\\u0430\\u0436\\u0434\\u043e\\u043c \\u043a\\u0430\\u043b\\u0435\\u043d\\u0434\\u0430\\u0440\\u043d\\u043e\\u043c \\u0433\\u043e\\u0434\\u0443.\",\n          \"\\u042d\\u043b\\u0442\\u043e\\u043d \\u0414\\u0436\\u043e\\u043d: \\u044f \\u043c\\u043e\\u0433 \\u0443\\u043c\\u0435\\u0440\\u0435\\u0442\\u044c \\u0432 \\u043b\\u044e\\u0431\\u043e\\u0439 \\u043c\\u043e\\u043c\\u0435\\u043d\\u0442 \\u042d\\u043b\\u0442\\u043e\\u043d \\u0414\\u0436\\u043e\\u043d \\u041f\\u043e\\u043f\\u0443\\u043b\\u044f\\u0440\\u043d\\u044b\\u0439 \\u0431\\u0440\\u0438\\u0442\\u0430\\u043d\\u0441\\u043a\\u0438\\u0439 \\u043f\\u0435\\u0432\\u0435\\u0446 \\u042d\\u043b\\u0442\\u043e\\u043d \\u0414\\u0436\\u043e\\u043d \\u0437\\u0430\\u044f\\u0432\\u0438\\u043b, \\u0447\\u0442\\u043e \\u0435\\u043c\\u0443 \\u043f\\u043e\\u0432\\u0435\\u0437\\u043b\\u043e, \\u0447\\u0442\\u043e \\u043e\\u043d \\u043d\\u0435 \\u0443\\u043c\\u0435\\u0440 \\u043e\\u0442 \\u0430\\u043f\\u043f\\u0435\\u043d\\u0434\\u0438\\u0446\\u0438\\u0442\\u0430 \\u0432\\u043e \\u0432\\u0440\\u0435\\u043c\\u044f \\u043d\\u0435\\u0434\\u0430\\u0432\\u043d\\u0435\\u0433\\u043e \\u0433\\u0430\\u0441\\u0442\\u0440\\u043e\\u043b\\u044c\\u043d\\u043e\\u0433\\u043e \\u0442\\u0443\\u0440\\u043d\\u0435 \\u043f\\u043e \\u0415\\u0432\\u0440\\u043e\\u043f\\u0435. \\u0412 \\u0438\\u043d\\u0442\\u0435\\u0440\\u0432\\u044c\\u044e \\u0431\\u0440\\u0438\\u0442\\u0430\\u043d\\u0441\\u043a\\u043e\\u0439 \\u0433\\u0430\\u0437\\u0435\\u0442\\u0435 Sun, \\u043e\\u043f\\u0443\\u0431\\u043b\\u0438\\u043a\\u043e\\u0432\\u0430\\u043d\\u043d\\u043e\\u043c \\u0432 \\u0441\\u0440\\u0435\\u0434\\u0443 \\u2014 10 \\u0438\\u044e\\u043b\\u044f 2013 \\u0433\\u043e\\u0434\\u0430, 66-\\u043b\\u0435\\u0442\\u043d\\u0438\\u0439 \\u043c\\u0443\\u0437\\u044b\\u043a\\u0430\\u043d\\u0442 \\u0441\\u043e\\u043e\\u0431\\u0449\\u0438\\u043b, \\u0447\\u0442\\u043e \\u0432 \\u0445\\u043e\\u0434\\u0435 \\u043a\\u043e\\u043d\\u0446\\u0435\\u0440\\u0442\\u043e\\u0432 \\u0435\\u043c\\u0443 \\u043f\\u0440\\u0438\\u0445\\u043e\\u0434\\u0438\\u043b\\u043e\\u0441\\u044c \\u0431\\u043e\\u0440\\u043e\\u0442\\u044c\\u0441\\u044f \\u0441 \\u0431\\u043e\\u043b\\u044c\\u044e \\u0432 \\u0431\\u0440\\u044e\\u0448\\u043d\\u043e\\u0439 \\u043f\\u043e\\u043b\\u043e\\u0441\\u0442\\u0438, \\u043d\\u043e \\u043e\\u043d \\u0434\\u0443\\u043c\\u0430\\u043b, \\u0447\\u0442\\u043e \\u043e\\u043d\\u0430 \\u0432\\u044b\\u0437\\u0432\\u0430\\u043d\\u0430 \\u043f\\u0438\\u0449\\u0435\\u0432\\u044b\\u043c \\u043e\\u0442\\u0440\\u0430\\u0432\\u043b\\u0435\\u043d\\u0438\\u0435\\u043c. \\u041f\\u043e\\u0437\\u0434\\u043d\\u0435\\u0435 \\u043e\\u043d \\u0443\\u0437\\u043d\\u0430\\u043b, \\u0447\\u0442\\u043e \\u043d\\u0430 \\u0441\\u0430\\u043c\\u043e\\u043c \\u0434\\u0435\\u043b\\u0435 \\u0435\\u0433\\u043e \\u0442\\u0435\\u043b\\u043e \\u0431\\u044b\\u043b\\u043e \\u00ab\\u0431\\u043e\\u043c\\u0431\\u043e\\u0439 \\u0441 \\u0442\\u0438\\u043a\\u0430\\u044e\\u0449\\u0438\\u043c \\u0447\\u0430\\u0441\\u043e\\u0432\\u044b\\u043c \\u043c\\u0435\\u0445\\u0430\\u043d\\u0438\\u0437\\u043c\\u043e\\u043c\\u00bb. \\u00ab\\u042f \\u043c\\u043e\\u0433 \\u0443\\u043c\\u0435\\u0440\\u0435\\u0442\\u044c \\u0432 \\u043b\\u044e\\u0431\\u043e\\u0439 \\u043c\\u043e\\u043c\\u0435\\u043d\\u0442\\u00bb, \\u2014 \\u0441\\u043a\\u0430\\u0437\\u0430\\u043b \\u043e\\u043d. \\u041c\\u0443\\u0437\\u044b\\u043a\\u0430\\u043d\\u0442 \\u0434\\u043e\\u0431\\u0430\\u0432\\u0438\\u043b, \\u0447\\u0442\\u043e \\u043e\\u0447\\u0435\\u043d\\u044c \\u0440\\u0430\\u0434 \\u0442\\u043e\\u043c\\u0443, \\u0447\\u0442\\u043e \\u043e\\u0441\\u0442\\u0430\\u043b\\u0441\\u044f \\u0436\\u0438\\u0432. \\u0412\\u043e \\u0432\\u0442\\u043e\\u0440\\u043d\\u0438\\u043a \\u0414\\u0436\\u043e\\u043d \\u043e\\u0442\\u043c\\u0435\\u043d\\u0438\\u043b \\u043a\\u043e\\u043d\\u0446\\u0435\\u0440\\u0442 \\u0432 \\u043b\\u043e\\u043d\\u0434\\u043e\\u043d\\u0441\\u043a\\u043e\\u043c \\u0413\\u0430\\u0439\\u0434-\\u043f\\u0430\\u0440\\u043a\\u0435 \\u0438 \\u0434\\u0440\\u0443\\u0433\\u0438\\u0435 \\u043b\\u0435\\u0442\\u043d\\u0438\\u0435 \\u0432\\u044b\\u0441\\u0442\\u0443\\u043f\\u043b\\u0435\\u043d\\u0438\\u044f, \\u043f\\u043e\\u043a\\u0430 \\u043e\\u043d \\u0431\\u0443\\u0434\\u0435\\u0442 \\u043f\\u0440\\u043e\\u0445\\u043e\\u0434\\u0438\\u0442\\u044c \\u043a\\u0443\\u0440\\u0441 \\u043b\\u0435\\u0447\\u0435\\u043d\\u0438\\u044f \\u043e\\u0442 \\u0432\\u043e\\u0441\\u043f\\u0430\\u043b\\u0438\\u0432\\u0448\\u0435\\u0433\\u043e\\u0441\\u044f \\u0430\\u043f\\u043f\\u0435\\u043d\\u0434\\u0438\\u043a\\u0441\\u0430 \\u0438 \\u0430\\u0431\\u0441\\u0446\\u0435\\u0441\\u0441\\u0430 \\u043e\\u043a\\u0440\\u0443\\u0436\\u0430\\u044e\\u0449\\u0438\\u0445 \\u0442\\u043a\\u0430\\u043d\\u0435\\u0439. \\u041e\\u0436\\u0438\\u0434\\u0430\\u0435\\u0442\\u0441\\u044f, \\u0447\\u0442\\u043e \\u043f\\u043e\\u0441\\u043b\\u0435 \\u043a\\u0443\\u0440\\u0441\\u0430 \\u0430\\u043d\\u0442\\u0438\\u0431\\u0438\\u043e\\u0442\\u0438\\u043a\\u043e\\u0432 \\u0432 \\u0431\\u043b\\u0438\\u0436\\u0430\\u0439\\u0448\\u0438\\u0435 \\u043d\\u0435\\u0441\\u043a\\u043e\\u043b\\u044c\\u043a\\u043e \\u043d\\u0435\\u0434\\u0435\\u043b\\u044c \\u0435\\u043c\\u0443 \\u0441\\u0434\\u0435\\u043b\\u0430\\u044e\\u0442 \\u043e\\u043f\\u0435\\u0440\\u0430\\u0446\\u0438\\u044e.\",\n          \"\\u0411\\u043e\\u0441\\u0442\\u043e\\u043d \\u0432\\u0437\\u043e\\u0440\\u0432\\u0430\\u043b\\u0438 \\u0422\\u0430\\u043c\\u0435\\u0440\\u043b\\u0430\\u043d \\u0438 \\u0414\\u0436\\u043e\\u0445\\u0430\\u0440 \\u0426\\u0430\\u0440\\u043d\\u0430\\u0435\\u0432\\u044b \\u0438\\u0437 \\u0421\\u0435\\u0432\\u0435\\u0440\\u043d\\u043e\\u0433\\u043e \\u041a\\u0430\\u0432\\u043a\\u0430\\u0437\\u0430 19 \\u0430\\u043f\\u0440\\u0435\\u043b\\u044f 2013 \\u0433\\u043e\\u0434\\u0430 \\u0432 \\u043f\\u0440\\u0438\\u0433\\u043e\\u0440\\u043e\\u0434\\u0435 \\u0411\\u043e\\u0441\\u0442\\u043e\\u043d\\u0430 \\u043f\\u0440\\u043e\\u0445\\u043e\\u0434\\u0438\\u0442 \\u0441\\u043f\\u0435\\u0446\\u043e\\u043f\\u0435\\u0440\\u0430\\u0446\\u0438\\u044f \\u043f\\u043e \\u043f\\u043e\\u0438\\u043c\\u043a\\u0435 19-\\u043b\\u0435\\u0442\\u043d\\u0435\\u0433\\u043e \\u0414\\u0436\\u043e\\u0445\\u0430\\u0440\\u0430 \\u0426\\u0430\\u0440\\u043d\\u0430\\u0435\\u0432\\u0430, \\u043f\\u043e\\u0434\\u043e\\u0437\\u0440\\u0435\\u0432\\u0430\\u0435\\u043c\\u043e\\u0433\\u043e \\u0432 \\u0442\\u0435\\u0440\\u0430\\u043a\\u0442\\u0435 \\u043d\\u0430 \\u0411\\u043e\\u0441\\u0442\\u043e\\u043d\\u0441\\u043a\\u043e\\u043c \\u043c\\u0430\\u0440\\u0430\\u0444\\u043e\\u043d\\u0435 15 \\u0430\\u043f\\u0440\\u0435\\u043b\\u044f \\u0438 \\u0432 \\u0441\\u043c\\u0435\\u0440\\u0442\\u0435\\u043b\\u044c\\u043d\\u043e\\u043c \\u0440\\u0430\\u043d\\u0435\\u043d\\u0438\\u0438 \\u043f\\u043e\\u043b\\u0438\\u0446\\u0435\\u0439\\u0441\\u043a\\u043e\\u0433\\u043e \\u043d\\u0430 \\u043a\\u0430\\u043c\\u043f\\u0443\\u0441\\u0435 \\u041c\\u0430\\u0441\\u0441\\u0430\\u0447\\u0443\\u0441\\u0435\\u0442\\u0441\\u043a\\u043e\\u0433\\u043e \\u0442\\u0435\\u0445\\u043d\\u043e\\u043b\\u043e\\u0433\\u0438\\u0447\\u0435\\u0441\\u043a\\u043e\\u0433\\u043e \\u0438\\u043d\\u0441\\u0442\\u0438\\u0442\\u0443\\u0442\\u0430 18 \\u0430\\u043f\\u0440\\u0435\\u043b\\u044f. \\u0412\\u0442\\u043e\\u0440\\u043e\\u0439 \\u043f\\u043e\\u0434\\u043e\\u0437\\u0440\\u0435\\u0432\\u0430\\u0435\\u043c\\u044b\\u0439, \\u0435\\u0433\\u043e \\u0431\\u0440\\u0430\\u0442, 26-\\u043b\\u0435\\u0442\\u043d\\u0438\\u0439 \\u0422\\u0430\\u043c\\u0435\\u0440\\u043b\\u0430\\u043d \\u0426\\u0430\\u0440\\u043d\\u0430\\u0435\\u0432, \\u0431\\u044b\\u043b \\u0440\\u0430\\u043d\\u0435\\u043d \\u0432 \\u043f\\u0435\\u0440\\u0435\\u0441\\u0442\\u0440\\u0435\\u043b\\u043a\\u0435 \\u0432 \\u0423\\u043e\\u0442\\u0435\\u0440\\u0442\\u0430\\u0443\\u043d\\u0435 \\u0438 \\u043f\\u043e\\u0437\\u0436\\u0435 \\u0441\\u043a\\u043e\\u043d\\u0447\\u0430\\u043b\\u0441\\u044f \\u0432 \\u0431\\u043e\\u043b\\u044c\\u043d\\u0438\\u0446\\u0435. \\u0423\\u043e\\u0442\\u0435\\u0440\\u0442\\u0430\\u0443\\u043d \\u0438 \\u0435\\u0433\\u043e \\u043e\\u043a\\u0440\\u0435\\u0441\\u0442\\u043d\\u043e\\u0441\\u0442\\u0438 \\u0444\\u0430\\u043a\\u0442\\u0438\\u0447\\u0435\\u0441\\u043a\\u0438 \\u043f\\u0435\\u0440\\u0435\\u0432\\u0435\\u0434\\u0435\\u043d\\u044b \\u043d\\u0430 \\u043e\\u0441\\u0430\\u0434\\u043d\\u043e\\u0435 \\u043f\\u043e\\u043b\\u043e\\u0436\\u0435\\u043d\\u0438\\u0435: \\u043e\\u043a\\u0440\\u0435\\u0441\\u0442\\u043d\\u043e\\u0441\\u0442\\u0438 \\u043e\\u0446\\u0435\\u043f\\u043b\\u0435\\u043d\\u044b, \\u0434\\u043e\\u0440\\u043e\\u0433\\u0438 \\u043f\\u0435\\u0440\\u0435\\u043a\\u0440\\u044b\\u0442\\u044b, \\u043c\\u0430\\u0433\\u0430\\u0437\\u0438\\u043d\\u044b \\u0438 \\u0431\\u0438\\u0437\\u043d\\u0435\\u0441\\u044b \\u0437\\u0430\\u043a\\u0440\\u044b\\u0442\\u044b, \\u0436\\u0438\\u0442\\u0435\\u043b\\u0435\\u0439 \\u043f\\u0440\\u043e\\u0441\\u044f\\u0442 \\u043d\\u0435 \\u0432\\u044b\\u0445\\u043e\\u0434\\u0438\\u0442\\u044c \\u0438\\u0437 \\u0434\\u043e\\u043c\\u043e\\u0432 \\u0438 \\u043d\\u0435 \\u043f\\u0440\\u0438\\u0431\\u043b\\u0438\\u0436\\u0430\\u0442\\u044c\\u0441\\u044f \\u043a \\u043e\\u043a\\u043d\\u0430\\u043c, \\u043d\\u0430\\u0434 \\u0440\\u0430\\u0439\\u043e\\u043d\\u043e\\u043c \\u0441\\u043f\\u0435\\u0446\\u043e\\u043f\\u0435\\u0440\\u0430\\u0446\\u0438\\u0438 \\u043f\\u0435\\u0440\\u0435\\u043a\\u0440\\u044b\\u0442\\u044b \\u043f\\u043e\\u043b\\u0451\\u0442\\u044b \\u0430\\u0432\\u0438\\u0430\\u0446\\u0438\\u0438. \\u0412 \\u0411\\u043e\\u0441\\u0442\\u043e\\u043d\\u0435 \\u043f\\u0440\\u0438\\u043e\\u0441\\u0442\\u0430\\u043d\\u043e\\u0432\\u043b\\u0435\\u043d\\u0430 \\u0440\\u0430\\u0431\\u043e\\u0442\\u0430 \\u043e\\u0431\\u0449\\u0435\\u0441\\u0442\\u0432\\u0435\\u043d\\u043d\\u043e\\u0433\\u043e \\u0442\\u0440\\u0430\\u043d\\u0441\\u043f\\u043e\\u0440\\u0442\\u0430, \\u0432\\u043a\\u043b\\u044e\\u0447\\u0430\\u044f \\u043c\\u0435\\u0442\\u0440\\u043e, \\u0430\\u0432\\u0442\\u043e\\u0431\\u0443\\u0441\\u044b, \\u0442\\u0430\\u043a\\u0441\\u0438 \\u0438 \\u043f\\u0440\\u0438\\u0433\\u043e\\u0440\\u043e\\u0434\\u043d\\u044b\\u0435 \\u043f\\u043e\\u0435\\u0437\\u0434\\u0430. \\u041e\\u0442\\u043c\\u0435\\u043d\\u0435\\u043d\\u044b \\u0437\\u0430\\u043d\\u044f\\u0442\\u0438\\u044f \\u0432 \\u0413\\u0430\\u0440\\u0432\\u0430\\u0440\\u0434\\u0435, \\u041c\\u0430\\u0441\\u0441\\u0430\\u0447\\u0443\\u0441\\u0435\\u0442\\u0441\\u043a\\u043e\\u043c \\u0442\\u0435\\u0445\\u043d\\u043e\\u043b\\u043e\\u0433\\u0438\\u0447\\u0435\\u0441\\u043a\\u043e\\u043c \\u0438\\u043d\\u0441\\u0442\\u0438\\u0442\\u0443\\u0442\\u0435, \\u0423\\u043d\\u0438\\u0432\\u0435\\u0440\\u0441\\u0438\\u0442\\u0435\\u0442\\u0435 \\u0421\\u0430\\u0444\\u0444\\u043e\\u043b\\u043a\\u0430, \\u0411\\u043e\\u0441\\u0442\\u043e\\u043d\\u0441\\u043a\\u043e\\u043c \\u0443\\u043d\\u0438\\u0432\\u0435\\u0440\\u0441\\u0438\\u0442\\u0435\\u0442\\u0435 \\u0438 \\u0432\\u043e \\u0432\\u0441\\u0435\\u0445 \\u0433\\u043e\\u0440\\u043e\\u0434\\u0441\\u043a\\u0438\\u0445 \\u0448\\u043a\\u043e\\u043b\\u0430\\u0445. \\u041d\\u0430 \\u0441\\u0430\\u0439\\u0442\\u0435 \\u0424\\u0411\\u0420 \\u043e\\u043f\\u0443\\u0431\\u043b\\u0438\\u043a\\u043e\\u0432\\u0430\\u043d\\u044b \\u0444\\u043e\\u0442\\u043e \\u0438 \\u0432\\u0438\\u0434\\u0435\\u043e \\u0440\\u0430\\u0437\\u044b\\u0441\\u043a\\u0438\\u0432\\u0430\\u0435\\u043c\\u043e\\u0433\\u043e. 19-\\u043b\\u0435\\u0442\\u043d\\u0438\\u0439 \\u0441\\u0442\\u0443\\u0434\\u0435\\u043d\\u0442 \\u0423\\u043d\\u0438\\u0432\\u0435\\u0440\\u0441\\u0438\\u0442\\u0435\\u0442\\u0430 \\u0448\\u0442\\u0430\\u0442\\u0430 \\u041c\\u0430\\u0441\\u0441\\u0430\\u0447\\u0443\\u0441\\u0435\\u0442\\u0441 \\u0414\\u0436\\u043e\\u0445\\u0430\\u0440 \\u0426\\u0430\\u0440\\u043d\\u0430\\u0435\\u0432 \\u043e\\u0431\\u0443\\u0447\\u0430\\u043b\\u0441\\u044f \\u0432 \\u0441\\u0440\\u0435\\u0434\\u043d\\u0435\\u0439 \\u0448\\u043a\\u043e\\u043b\\u0435 \\u041c\\u0430\\u0445\\u0430\\u0447\\u043a\\u0430\\u043b\\u044b, \\u0437\\u0430\\u0442\\u0435\\u043c \\u0432 \\u0448\\u043a\\u043e\\u043b\\u0435 \\u041a\\u0435\\u043c\\u0431\\u0440\\u0438\\u0434\\u0436\\u0430 (\\u0440\\u0430\\u0439\\u043e\\u043d \\u0411\\u043e\\u0441\\u0442\\u043e\\u043d\\u0430), \\u0432\\u0445\\u043e\\u0434\\u0438\\u043b \\u0432 \\u0441\\u043f\\u0438\\u0441\\u043e\\u043a \\u0441\\u0442\\u0438\\u043f\\u0435\\u043d\\u0434\\u0438\\u0430\\u0442\\u043e\\u0432 \\u041a\\u0435\\u043c\\u0431\\u0440\\u0438\\u0434\\u0436\\u0430. \\u0421\\u0435\\u043a\\u0440\\u0435\\u0442\\u0430\\u0440\\u044c \\u0434\\u0438\\u0440\\u0435\\u043a\\u0442\\u043e\\u0440\\u0430 \\u0448\\u043a\\u043e\\u043b\\u044b \\u2116 1 \\u041c\\u0430\\u0445\\u0430\\u0447\\u043a\\u0430\\u043b\\u044b \\u0418\\u0440\\u0438\\u043d\\u0430 \\u0411\\u0430\\u043d\\u0434\\u0443\\u0440\\u0438\\u043d\\u0430 \\u043f\\u043e\\u0434\\u0442\\u0432\\u0435\\u0440\\u0434\\u0438\\u043b\\u0430 \\u00ab\\u042d\\u0445\\u0443 \\u041c\\u043e\\u0441\\u043a\\u0432\\u044b\\u00bb, \\u0447\\u0442\\u043e \\u0414\\u0436\\u043e\\u0445\\u0430\\u0440 \\u0426\\u0430\\u0440\\u043d\\u0430\\u0435\\u0432 \\u0443\\u0447\\u0438\\u043b\\u0441\\u044f \\u0432 \\u0434\\u0430\\u043d\\u043d\\u043e\\u043c \\u0443\\u0447\\u0435\\u0431\\u043d\\u043e\\u043c \\u0437\\u0430\\u0432\\u0435\\u0434\\u0435\\u043d\\u0438\\u0438, \\u043d\\u043e \\u043f\\u043e\\u043a\\u0438\\u043d\\u0443\\u043b \\u0435\\u0433\\u043e, \\u043d\\u0435 \\u0437\\u0430\\u043a\\u043e\\u043d\\u0447\\u0438\\u0432 \\u043f\\u0435\\u0440\\u0432\\u044b\\u0439 \\u043a\\u043b\\u0430\\u0441\\u0441. \\u041e\\u0434\\u0438\\u043d \\u0438\\u0437 \\u0431\\u0440\\u0430\\u0442\\u044c\\u0435\\u0432 \\u043f\\u0440\\u0438\\u0435\\u0445\\u0430\\u043b \\u0432 \\u0421\\u0428\\u0410 \\u0432\\u043c\\u0435\\u0441\\u0442\\u0435 \\u0441 \\u0440\\u043e\\u0434\\u0438\\u0442\\u0435\\u043b\\u044f\\u043c\\u0438 \\u0432 2002 \\u0433\\u043e\\u0434\\u0443, \\u0430 \\u0434\\u0440\\u0443\\u0433\\u043e\\u0439 \\u2014 \\u0441\\u0430\\u043c\\u043e\\u0441\\u0442\\u043e\\u044f\\u0442\\u0435\\u043b\\u044c\\u043d\\u043e \\u0432 2004 \\u0433\\u043e\\u0434\\u0443. \\u0418\\u043d\\u0446\\u0438\\u0434\\u0435\\u043d\\u0442 \\u043f\\u0440\\u043e\\u0438\\u0437\\u043e\\u0448\\u0435\\u043b \\u0441\\u043f\\u0443\\u0441\\u0442\\u044f \\u043d\\u0435\\u0441\\u043a\\u043e\\u043b\\u044c\\u043a\\u043e \\u0434\\u043d\\u0435\\u0439 \\u043f\\u043e\\u0441\\u043b\\u0435 \\u0442\\u0435\\u0440\\u0430\\u043a\\u0442\\u0430 \\u043d\\u0430 \\u0411\\u043e\\u0441\\u0442\\u043e\\u043d\\u0441\\u043a\\u043e\\u043c \\u043c\\u0430\\u0440\\u0430\\u0444\\u043e\\u043d\\u0435, \\u0432\\u043e \\u0432\\u0440\\u0435\\u043c\\u044f \\u043a\\u043e\\u0442\\u043e\\u0440\\u043e\\u0433\\u043e \\u043f\\u0440\\u043e\\u0433\\u0440\\u0435\\u043c\\u0435\\u043b\\u0438 \\u0434\\u0432\\u0430 \\u0432\\u0437\\u0440\\u044b\\u0432\\u0430. \\u0418\\u0445 \\u0436\\u0435\\u0440\\u0442\\u0432\\u0430\\u043c\\u0438 \\u0441\\u0442\\u0430\\u043b\\u0438 \\u0442\\u0440\\u0438 \\u0447\\u0435\\u043b\\u043e\\u0432\\u0435\\u043a\\u0430, \\u0431\\u043e\\u043b\\u0435\\u0435 180 \\u043f\\u043e\\u043b\\u0443\\u0447\\u0438\\u043b\\u0438 \\u0440\\u0430\\u043d\\u0435\\u043d\\u0438\\u044f.\"\n        ],\n        \"semantic_type\": \"\",\n        \"description\": \"\"\n      }\n    },\n    {\n      \"column\": \"entity_type\",\n      \"properties\": {\n        \"dtype\": \"category\",\n        \"num_unique_values\": 29,\n        \"samples\": [\n          \"RELIGION\",\n          \"MONEY\",\n          \"LAW\"\n        ],\n        \"semantic_type\": \"\",\n        \"description\": \"\"\n      }\n    },\n    {\n      \"column\": \"start_pos\",\n      \"properties\": {\n        \"dtype\": \"number\",\n        \"std\": 1028,\n        \"min\": 0,\n        \"max\": 12918,\n        \"num_unique_values\": 3577,\n        \"samples\": [\n          2191,\n          4015,\n          1969\n        ],\n        \"semantic_type\": \"\",\n        \"description\": \"\"\n      }\n    },\n    {\n      \"column\": \"end_pos\",\n      \"properties\": {\n        \"dtype\": \"number\",\n        \"std\": 1028,\n        \"min\": 2,\n        \"max\": 12930,\n        \"num_unique_values\": 3548,\n        \"samples\": [\n          1112,\n          1254,\n          8750\n        ],\n        \"semantic_type\": \"\",\n        \"description\": \"\"\n      }\n    },\n    {\n      \"column\": \"entity_text\",\n      \"properties\": {\n        \"dtype\": \"string\",\n        \"num_unique_values\": 23000,\n        \"samples\": [\n          \"\\u0441\\u0431\\u0438\\u0432 \\u043f\\u043e \\u043f\\u0443\\u0442\\u0438 \\u0447\\u0435\\u0442\\u044b\\u0440\\u0451\\u0445 \\u043b\\u044e\\u0434\\u0435\\u0439\",\n          \"\\u0430\\u0444\\u0433\\u0430\\u043d\\u0441\\u043a\\u0438\\u0435\",\n          \"2001-2002 \\u0433\\u043e\\u0434\\u0430\\u0445\"\n        ],\n        \"semantic_type\": \"\",\n        \"description\": \"\"\n      }\n    },\n    {\n      \"column\": \"length\",\n      \"properties\": {\n        \"dtype\": \"number\",\n        \"std\": 1496.0533286172965,\n        \"min\": 426.0,\n        \"max\": 12932.0,\n        \"num_unique_values\": 678,\n        \"samples\": [\n          1903.0,\n          504.0,\n          2383.0\n        ],\n        \"semantic_type\": \"\",\n        \"description\": \"\"\n      }\n    },\n    {\n      \"column\": \"word_count\",\n      \"properties\": {\n        \"dtype\": \"number\",\n        \"std\": 199.0138596751637,\n        \"min\": 60.0,\n        \"max\": 1710.0,\n        \"num_unique_values\": 291,\n        \"samples\": [\n          257.0,\n          124.0,\n          159.0\n        ],\n        \"semantic_type\": \"\",\n        \"description\": \"\"\n      }\n    },\n    {\n      \"column\": \"mapped_entity_type\",\n      \"properties\": {\n        \"dtype\": \"category\",\n        \"num_unique_values\": 24,\n        \"samples\": [\n          \"NUMBER\",\n          \"PRODUCT\",\n          \"LOC\"\n        ],\n        \"semantic_type\": \"\",\n        \"description\": \"\"\n      }\n    },\n    {\n      \"column\": \"entity_id\",\n      \"properties\": {\n        \"dtype\": \"string\",\n        \"num_unique_values\": 41349,\n        \"samples\": [\n          \"\\u0423\\u043c\\u0435\\u0440 \\u0440\\u0430\\u043d\\u0435\\u043d\\u043d\\u044b\\u0439 \\u0432 \\u0410\\u0444\\u0433\\u0430\\u043d\\u0438\\u0441\\u0442\\u0430\\u043d\\u0435 \\u0430\\u043c\\u0435\\u0440\\u0438\\u043a\\u0430\\u043d\\u0441\\u043a\\u0438\\u0439 \\u0432\\u043e\\u0435\\u043d\\u043d\\u044b\\u0439\\n\\u0410\\u043c\\u0435\\u0440\\u0438\\u043a\\u0430\\u043d\\u0441\\u043a\\u0438\\u0435 \\u0432\\u043e\\u0435\\u043d\\u043d\\u044b\\u0435 \\u0432 \\u043f\\u0440\\u043e\\u0432\\u0438\\u043d\\u0446\\u0438\\u0438 \\u0411\\u0430\\u0434\\u0433\\u0438\\u0441, \\u0410\\u0444\\u0433\\u0430\\u043d\\u0438\\u0441\\u0442\\u0430\\u043d, 2011 \\u0433\\u043e\\u0434\\n\\u0410\\u043c\\u0435\\u0440\\u0438\\u043a\\u0430\\u043d\\u0441\\u043a\\u0438\\u0439 \\u0432\\u043e\\u0435\\u043d\\u043d\\u044b\\u0439 \\u0443\\u043c\\u0435\\u0440 \\u043e\\u0442 \\u0440\\u0430\\u043d\\u0435\\u043d\\u0438\\u0439, \\u043f\\u043e\\u043b\\u0443\\u0447\\u0435\\u043d\\u043d\\u044b\\u0445 \\u0432\\u043e \\u0432\\u0440\\u0435\\u043c\\u044f \\u0431\\u043e\\u044f \\u0432 \\u0410\\u0444\\u0433\\u0430\\u043d\\u0438\\u0441\\u0442\\u0430\\u043d\\u0435. \\u041e\\u0431 \\u044d\\u0442\\u043e\\u043c 18 \\u044f\\u043d\\u0432\\u0430\\u0440\\u044f \\u0441\\u043e\\u043e\\u0431\\u0449\\u0438\\u043b\\u043e \\u041c\\u0438\\u043d\\u0438\\u0441\\u0442\\u0435\\u0440\\u0441\\u0442\\u0432\\u043e \\u043e\\u0431\\u043e\\u0440\\u043e\\u043d\\u044b \\u0421\\u0428\\u0410.\\n\\n26-\\u043b\\u0435\\u0442\\u043d\\u0438\\u0439 \\u0441\\u0435\\u0440\\u0436\\u0430\\u043d\\u0442 \\u041a\\u044d\\u043c\\u0435\\u0440\\u043e\\u043d \\u041c\\u044d\\u0434\\u0434\\u043e\\u043a (Cameron A. Meddock) \\u0438\\u0437 \\u0421\\u043f\\u0438\\u0440\\u043c\\u0435\\u043d\\u0430, \\u0448\\u0442\\u0430\\u0442 \\u0422\\u0435\\u0445\\u0430\\u0441, \\u0441\\u043a\\u043e\\u043d\\u0447\\u0430\\u043b\\u0441\\u044f 17 \\u044f\\u043d\\u0432\\u0430\\u0440\\u044f \\u0432 \\u043c\\u0435\\u0434\\u0438\\u0446\\u0438\\u043d\\u0441\\u043a\\u043e\\u043c \\u0446\\u0435\\u043d\\u0442\\u0440\\u0435 \\u041b\\u0430\\u043d\\u0434\\u0448\\u0442\\u0443\\u043b\\u044f \\u0432 \\u0413\\u0435\\u0440\\u043c\\u0430\\u043d\\u0438\\u0438. \\u0415\\u0433\\u043e \\u0440\\u0430\\u043d\\u0438\\u043b\\u0438 \\u0441\\u0442\\u0440\\u0435\\u043b\\u043a\\u043e\\u0432\\u044b\\u043c \\u043e\\u0440\\u0443\\u0436\\u0438\\u0435\\u043c \\u0432\\u043e \\u0432\\u0440\\u0435\\u043c\\u044f \\u0431\\u043e\\u0435\\u0432\\u044b\\u0445 \\u0434\\u0435\\u0439\\u0441\\u0442\\u0432\\u0438\\u0439 13 \\u044f\\u043d\\u0432\\u0430\\u0440\\u044f \\u0432 \\u0440\\u0430\\u0439\\u043e\\u043d\\u0435 \\u0414\\u0436\\u0430\\u0432\\u0430\\u043d\\u0434 \\u0430\\u0444\\u0433\\u0430\\u043d\\u0441\\u043a\\u043e\\u0439 \\u043f\\u0440\\u043e\\u0432\\u0438\\u043d\\u0446\\u0438\\u0438 \\u0411\\u0430\\u0434\\u0433\\u0438\\u0441, \\u043e\\u0442\\u043c\\u0435\\u0447\\u0430\\u0435\\u0442 \\u0432\\u0435\\u0434\\u043e\\u043c\\u0441\\u0442\\u0432\\u043e. \\u0414\\u0440\\u0443\\u0433\\u0438\\u0435 \\u043f\\u043e\\u0434\\u0440\\u043e\\u0431\\u043d\\u043e\\u0441\\u0442\\u0438 \\u043d\\u0435 \\u0441\\u043e\\u043e\\u0431\\u0449\\u0430\\u044e\\u0442\\u0441\\u044f.\\n\\n\\u041f\\u043e\\u0433\\u0438\\u0431\\u0448\\u0438\\u0439 \\u0441\\u043b\\u0443\\u0436\\u0438\\u043b \\u0432 75-\\u043c \\u0440\\u0435\\u0439\\u043d\\u0434\\u0436\\u0435\\u0440\\u0441\\u043a\\u043e\\u043c \\u043f\\u043e\\u043b\\u043a\\u0443 \\u0441\\u043f\\u0435\\u0446\\u0438\\u0430\\u043b\\u044c\\u043d\\u043e\\u0433\\u043e \\u043d\\u0430\\u0437\\u043d\\u0430\\u0447\\u0435\\u043d\\u0438\\u044f. \\u041e\\u043d \\u043f\\u043e\\u0441\\u0442\\u0443\\u043f\\u0438\\u043b \\u043d\\u0430 \\u0441\\u043b\\u0443\\u0436\\u0431\\u0443 \\u0432 2014 \\u0433\\u043e\\u0434\\u0443, \\u0432 \\u0410\\u0444\\u0433\\u0430\\u043d\\u0438\\u0441\\u0442\\u0430\\u043d\\u0435 \\u0431\\u044b\\u043b \\u0432\\u0442\\u043e\\u0440\\u043e\\u0439 \\u0440\\u0430\\u0437. \\u0421\\u0440\\u0435\\u0434\\u0438 \\u0435\\u0433\\u043e \\u043d\\u0430\\u0433\\u0440\\u0430\\u0434 \\u2014 \\u00ab\\u041f\\u0443\\u0440\\u043f\\u0443\\u0440\\u043d\\u043e\\u0435 \\u0441\\u0435\\u0440\\u0434\\u0446\\u0435\\u00bb \\u0438 \\u00ab\\u041c\\u0435\\u0434\\u0430\\u043b\\u044c \\u0437\\u0430 \\u0434\\u043e\\u0441\\u0442\\u0438\\u0436\\u0435\\u043d\\u0438\\u044f\\u00bb. \\u0414\\u043e\\u043c\\u0430 \\u0443 \\u043d\\u0435\\u0433\\u043e \\u043e\\u0441\\u0442\\u0430\\u043b\\u0430\\u0441\\u044c \\u0431\\u0435\\u0440\\u0435\\u043c\\u0435\\u043d\\u043d\\u0430\\u044f \\u0436\\u0435\\u043d\\u0430, \\u043f\\u0438\\u0448\\u0443\\u0442 \\u0421\\u041c\\u0418.\\n\\n\\u0410\\u0444\\u0433\\u0430\\u043d\\u0441\\u043a\\u043e\\u0435 \\u0430\\u0433\\u0435\\u043d\\u0442\\u0441\\u0442\\u0432\\u043e Khaama Press \\u0441\\u043e\\u043e\\u0431\\u0449\\u0430\\u043b\\u043e 13 \\u044f\\u043d\\u0432\\u0430\\u0440\\u044f \\u043e \\u043f\\u0440\\u043e\\u0432\\u0435\\u0434\\u0435\\u043d\\u0438\\u0438 \\u0432 \\u044d\\u0442\\u043e\\u043c \\u0440\\u0430\\u0439\\u043e\\u043d\\u0435 \\u043e\\u043f\\u0435\\u0440\\u0430\\u0446\\u0438\\u0438 \\u043f\\u0440\\u043e\\u0442\\u0438\\u0432 \\u043c\\u0435\\u0441\\u0442\\u043d\\u044b\\u0445 \\u0431\\u043e\\u0439\\u0446\\u043e\\u0432 \\u0418\\u0441\\u043b\\u0430\\u043c\\u0441\\u043a\\u043e\\u0433\\u043e \\u0433\\u043e\\u0441\\u0443\\u0434\\u0430\\u0440\\u0441\\u0442\\u0432\\u0430 (\\u0425\\u043e\\u0440\\u0430\\u0441\\u0430\\u043d). \\u041f\\u043e \\u043c\\u0435\\u043d\\u044c\\u0448\\u0435\\u0439 \\u043c\\u0435\\u0440\\u0435 10 \\u0431\\u043e\\u0435\\u0432\\u0438\\u043a\\u043e\\u0432 \\u0418\\u0413 \\u0443\\u0431\\u0438\\u0442\\u044b \\u0438 16 \\u0438\\u043d\\u043e\\u0441\\u0442\\u0440\\u0430\\u043d\\u0446\\u0435\\u0432 \\u0430\\u0440\\u0435\\u0441\\u0442\\u043e\\u0432\\u0430\\u043d\\u044b, \\u0433\\u043e\\u0432\\u043e\\u0440\\u0438\\u043b\\u043e\\u0441\\u044c \\u0432 \\u0441\\u043e\\u043e\\u0431\\u0449\\u0435\\u043d\\u0438\\u0438.\\n\\n\\u0414\\u0432\\u0438\\u0436\\u0435\\u043d\\u0438\\u0435 \\u00ab\\u0422\\u0430\\u043b\\u0438\\u0431\\u0430\\u043d\\u00bb \\u0437\\u0430\\u044f\\u0432\\u0438\\u043b\\u043e 13 \\u044f\\u043d\\u0432\\u0430\\u0440\\u044f, \\u0447\\u0442\\u043e \\u0430\\u043c\\u0435\\u0440\\u0438\\u043a\\u0430\\u043d\\u0441\\u043a\\u0438\\u0435 \\u0438 \\u0430\\u0444\\u0433\\u0430\\u043d\\u0441\\u043a\\u0438\\u0435 \\u0432\\u043e\\u0439\\u0441\\u043a\\u0430 \\u043d\\u0430\\u043f\\u0430\\u043b\\u0438 \\u0432 \\u0440\\u0430\\u0439\\u043e\\u043d\\u0435 \\u043d\\u0430 \\u0442\\u044e\\u0440\\u044c\\u043c\\u0443, \\u0433\\u0434\\u0435 \\u0442\\u0430\\u043b\\u0438\\u0431\\u044b \\u0434\\u0435\\u0440\\u0436\\u0430\\u043b\\u0438 \\u043f\\u043b\\u0435\\u043d\\u043d\\u044b\\u0445 \\u0431\\u043e\\u0439\\u0446\\u043e\\u0432 \\u0418\\u0413. \\u041f\\u0440\\u0435\\u0441\\u0441-\\u0441\\u0435\\u043a\\u0440\\u0435\\u0442\\u0430\\u0440\\u044c \\u0442\\u0430\\u043b\\u0438\\u0431\\u043e\\u0432 \\u042e\\u0441\\u0435\\u0444 \\u0410\\u0445\\u043c\\u0430\\u0434\\u0438 \\u0437\\u0430\\u044f\\u0432\\u0438\\u043b, \\u0447\\u0442\\u043e \\u0432\\u0440\\u0430\\u0433\\u0438 \\u0443\\u0431\\u0438\\u043b\\u0438 \\u0434\\u0432\\u0443\\u0445 \\u0442\\u0430\\u043b\\u0438\\u0431\\u043e\\u0432-\\u043e\\u0445\\u0440\\u0430\\u043d\\u043d\\u0438\\u043a\\u043e\\u0432 \\u0432 \\u043c\\u0435\\u0441\\u0442\\u043d\\u043e\\u0441\\u0442\\u0438 \\u041f\\u0430\\u043d\\u0434\\u0436 \\u0411\\u0443\\u0437 \\u0438 \\u043e\\u0441\\u0432\\u043e\\u0431\\u043e\\u0434\\u0438\\u043b\\u0438 40 \\u0437\\u0430\\u043a\\u043b\\u044e\\u0447\\u0451\\u043d\\u043d\\u044b\\u0445. \\u041e\\u043d \\u043f\\u043e\\u0432\\u0442\\u043e\\u0440\\u0438\\u043b \\u043e\\u0431\\u0432\\u0438\\u043d\\u0435\\u043d\\u0438\\u044f, \\u0447\\u0442\\u043e \\u0421\\u0428\\u0410 \\u043f\\u044b\\u0442\\u0430\\u044e\\u0442\\u0441\\u044f \\u0440\\u0430\\u0441\\u0448\\u0438\\u0440\\u0438\\u0442\\u044c \\u043f\\u0440\\u0438\\u0441\\u0443\\u0442\\u0441\\u0442\\u0432\\u0438\\u0435 \\u0418\\u0413 \\u0432 \\u0410\\u0444\\u0433\\u0430\\u043d\\u0438\\u0441\\u0442\\u0430\\u043d\\u0435.\\n_486_492\",\n          \"\\u041f\\u0440\\u043e\\u043a\\u0443\\u0440\\u043e\\u0440 \\u043f\\u043e\\u043f\\u0440\\u043e\\u0441\\u0438\\u043b \\u0441\\u0443\\u0434 \\u0437\\u0430\\u043e\\u0447\\u043d\\u043e \\u043f\\u0440\\u0438\\u0433\\u043e\\u0432\\u043e\\u0440\\u0438\\u0442\\u044c \\u0411\\u0440\\u0430\\u0443\\u0434\\u0435\\u0440\\u0430 \\u043a \\u0434\\u0435\\u0432\\u044f\\u0442\\u0438 \\u0433\\u043e\\u0434\\u0430\\u043c \\u0442\\u044e\\u0440\\u044c\\u043c\\u044b\\n\\u0423\\u0438\\u043b\\u044c\\u044f\\u043c \\u0411\\u0440\\u0430\\u0443\\u0434\\u0435\\u0440\\n\\u0421\\u0435\\u0440\\u0433\\u0435\\u0439 \\u041c\\u0430\\u0433\\u043d\\u0438\\u0442\\u0441\\u043a\\u0438\\u0439\\n\\u0412 \\u0441\\u0440\\u0435\\u0434\\u0443 \\u2014 3 \\u0438\\u044e\\u043b\\u044f 2013 \\u0433\\u043e\\u0434\\u0430 \\u0440\\u043e\\u0441\\u0441\\u0438\\u0439\\u0441\\u043a\\u0438\\u0439 \\u043f\\u0440\\u043e\\u043a\\u0443\\u0440\\u043e\\u0440 \\u043f\\u043e\\u043f\\u0440\\u043e\\u0441\\u0438\\u043b \\u0422\\u0432\\u0435\\u0440\\u0441\\u043a\\u043e\\u0439 \\u0441\\u0443\\u0434 \\u041c\\u043e\\u0441\\u043a\\u0432\\u044b \\u0437\\u0430\\u043e\\u0447\\u043d\\u043e \\u043f\\u0440\\u0438\\u0433\\u043e\\u0432\\u043e\\u0440\\u0438\\u0442\\u044c \\u0440\\u0443\\u043a\\u043e\\u0432\\u043e\\u0434\\u0438\\u0442\\u0435\\u043b\\u044f \\u0444\\u043e\\u043d\\u0434\\u0430 Hermitage Capital Management \\u0423\\u0438\\u043b\\u044c\\u044f\\u043c\\u0430 \\u0411\\u0440\\u0430\\u0443\\u0434\\u0435\\u0440\\u0430 \\u043a \\u0434\\u0435\\u0432\\u044f\\u0442\\u0438 \\u0433\\u043e\\u0434\\u0430\\u043c \\u0442\\u044e\\u0440\\u044c\\u043c\\u044b, \\u0430 \\u0442\\u0430\\u043a\\u0436\\u0435 \\u043f\\u0440\\u0438\\u0437\\u043d\\u0430\\u0442\\u044c \\u0432\\u0438\\u043d\\u043e\\u0432\\u043d\\u044b\\u043c \\u0432 \\u0443\\u043a\\u043b\\u043e\\u043d\\u0435\\u043d\\u0438\\u0438 \\u043e\\u0442 \\u0443\\u043f\\u043b\\u0430\\u0442\\u044b \\u043d\\u0430\\u043b\\u043e\\u0433\\u043e\\u0432 \\u0443\\u043c\\u0435\\u0440\\u0448\\u0435\\u0433\\u043e \\u0432 \\u0421\\u0418\\u0417\\u041e \\u0430\\u0443\\u0434\\u0438\\u0442\\u043e\\u0440\\u0430 \\u0444\\u043e\\u043d\\u0434\\u0430 \\u0421\\u0435\\u0440\\u0433\\u0435\\u044f \\u041c\\u0430\\u0433\\u043d\\u0438\\u0442\\u0441\\u043a\\u043e\\u0433\\u043e \\u0438 \\u0437\\u0430\\u043a\\u0440\\u044b\\u0442\\u044c \\u043f\\u0440\\u043e\\u0442\\u0438\\u0432 \\u043d\\u0435\\u0433\\u043e \\u0434\\u0435\\u043b\\u043e \\u0432 \\u0441\\u0432\\u044f\\u0437\\u0438 \\u0441\\u043e \\u0441\\u043c\\u0435\\u0440\\u0442\\u044c\\u044e.\\n\\n\\u041f\\u0440\\u043e\\u043a\\u0443\\u0440\\u043e\\u0440 \\u0441\\u0434\\u0435\\u043b\\u0430\\u043b \\u044d\\u0442\\u043e \\u0437\\u0430\\u044f\\u0432\\u043b\\u0435\\u043d\\u0438\\u0435 \\u0432 \\u0441\\u0432\\u043e\\u0451\\u043c \\u0437\\u0430\\u043a\\u043b\\u044e\\u0447\\u0438\\u0442\\u0435\\u043b\\u044c\\u043d\\u043e\\u043c \\u0441\\u043b\\u043e\\u0432\\u0435 \\u0432 \\u043f\\u043e\\u0441\\u043c\\u0435\\u0440\\u0442\\u043d\\u043e\\u043c \\u043f\\u0440\\u043e\\u0446\\u0435\\u0441\\u0441\\u0435 \\u043d\\u0430\\u0434 \\u041c\\u0430\\u0433\\u043d\\u0438\\u0442\\u0441\\u043a\\u0438\\u043c, \\u0447\\u044c\\u044f \\u043a\\u043e\\u043d\\u0447\\u0438\\u043d\\u0430 \\u0432 2009 \\u0433\\u043e\\u0434\\u0443 \\u0432\\u044b\\u0437\\u0432\\u0430\\u043b\\u0430 \\u043c\\u0435\\u0436\\u0434\\u0443\\u043d\\u0430\\u0440\\u043e\\u0434\\u043d\\u043e\\u0435 \\u0432\\u043e\\u0437\\u043c\\u0443\\u0449\\u0435\\u043d\\u0438\\u0435 \\u0438 \\u0443\\u0441\\u0438\\u043b\\u0438\\u043b\\u0430 \\u043e\\u043f\\u0430\\u0441\\u0435\\u043d\\u0438\\u044f \\u0440\\u043e\\u0441\\u0441\\u0438\\u0439\\u0441\\u043a\\u0438\\u0445 \\u0433\\u0440\\u0430\\u0436\\u0434\\u0430\\u043d, \\u043f\\u044b\\u0442\\u0430\\u044e\\u0449\\u0438\\u0445\\u0441\\u044f \\u043f\\u0440\\u043e\\u0442\\u0438\\u0432\\u043e\\u0441\\u0442\\u043e\\u044f\\u0442\\u044c \\u043d\\u0435\\u0437\\u0430\\u043a\\u043e\\u043d\\u043d\\u044b\\u043c \\u0434\\u0435\\u0439\\u0441\\u0442\\u0432\\u0438\\u044f\\u043c \\u0440\\u043e\\u0441\\u0441\\u0438\\u0439\\u0441\\u043a\\u0438\\u0445 \\u0432\\u043b\\u0430\\u0441\\u0442\\u0435\\u0439.\\n\\n\\u041f\\u0440\\u043e\\u0446\\u0435\\u0441\\u0441 \\u043d\\u0430\\u0434 \\u0411\\u0440\\u0430\\u0443\\u0434\\u0435\\u0440\\u043e\\u043c \\u2014 \\u0433\\u043b\\u0430\\u0432\\u043e\\u0439 \\u0438\\u043d\\u0432\\u0435\\u0441\\u0442\\u0438\\u0446\\u0438\\u043e\\u043d\\u043d\\u043e\\u0433\\u043e \\u0444\\u043e\\u043d\\u0434\\u0430 Hermitage Capital \\u0438 \\u043a\\u043e\\u0433\\u0434\\u0430-\\u0442\\u043e \\u043e\\u0434\\u043d\\u0438\\u043c \\u0438\\u0437 \\u043a\\u0440\\u0443\\u043f\\u043d\\u0435\\u0439\\u0448\\u0438\\u0445 \\u0438\\u043d\\u043e\\u0441\\u0442\\u0440\\u0430\\u043d\\u043d\\u044b\\u0445 \\u0438\\u043d\\u0432\\u0435\\u0441\\u0442\\u043e\\u0440\\u043e\\u0432 \\u0432 \\u0420\\u043e\\u0441\\u0441\\u0438\\u0438 \\u2014 \\u043f\\u0440\\u043e\\u0445\\u043e\\u0434\\u0438\\u0442 \\u0432 \\u0435\\u0433\\u043e \\u043e\\u0442\\u0441\\u0443\\u0442\\u0441\\u0442\\u0432\\u0438\\u0435, \\u0447\\u0442\\u043e \\u0432\\u044b\\u0437\\u044b\\u0432\\u0430\\u0435\\u0442 \\u043d\\u043e\\u0432\\u044b\\u0435 \\u0442\\u0440\\u0435\\u0432\\u043e\\u0433\\u0438 \\u0443 \\u0417\\u0430\\u043f\\u0430\\u0434\\u0430 \\u043e \\u0441\\u043e\\u0431\\u043b\\u044e\\u0434\\u0435\\u043d\\u0438\\u0438 \\u0432 \\u0420\\u043e\\u0441\\u0441\\u0438\\u0438 \\u043f\\u0440\\u0438\\u043d\\u0446\\u0438\\u043f\\u0430 \\u0432\\u0435\\u0440\\u0445\\u043e\\u0432\\u0435\\u043d\\u0441\\u0442\\u0432\\u0430 \\u0437\\u0430\\u043a\\u043e\\u043d\\u0430.\\n\\n\\u0420\\u043e\\u0434\\u0441\\u0442\\u0432\\u0435\\u043d\\u043d\\u0438\\u043a\\u0438 \\u0421\\u0435\\u0440\\u0433\\u0435\\u044f \\u041c\\u0430\\u0433\\u043d\\u0438\\u0442\\u0441\\u043a\\u043e\\u0433\\u043e \\u0432\\u044b\\u0441\\u0442\\u0443\\u043f\\u0430\\u043b\\u0438 \\u043f\\u0440\\u043e\\u0442\\u0438\\u0432 \\u043f\\u043e\\u0441\\u043c\\u0435\\u0440\\u0442\\u043d\\u043e\\u0433\\u043e \\u0440\\u0430\\u0441\\u0441\\u043c\\u043e\\u0442\\u0440\\u0435\\u043d\\u0438\\u044f \\u0434\\u0435\\u043b\\u0430 \\u043f\\u0440\\u043e\\u0442\\u0438\\u0432 \\u043d\\u0435\\u0433\\u043e. \\u041c\\u0430\\u0442\\u044c \\u041c\\u0430\\u0433\\u043d\\u0438\\u0442\\u0441\\u043a\\u043e\\u0433\\u043e \\u043d\\u0430\\u0437\\u044b\\u0432\\u0430\\u043b\\u0430 \\u043f\\u0440\\u043e\\u0446\\u0435\\u0441\\u0441 \\u00ab\\u043d\\u0430\\u0434\\u0440\\u0443\\u0433\\u0430\\u0442\\u0435\\u043b\\u044c\\u0441\\u0442\\u0432\\u043e\\u043c \\u043d\\u0430\\u0434 \\u043f\\u0430\\u043c\\u044f\\u0442\\u044c\\u044e \\u0441\\u044b\\u043d\\u0430\\u00bb.\\n\\n\\u041c\\u0430\\u0433\\u043d\\u0438\\u0442\\u0441\\u043a\\u0438\\u0439, \\u0440\\u0430\\u0431\\u043e\\u0442\\u0430\\u0432\\u0448\\u0438\\u0439 \\u044e\\u0440\\u0438\\u0441\\u0442\\u043e\\u043c \\u0432 \\u043a\\u0440\\u0443\\u043f\\u043d\\u0435\\u0439\\u0448\\u0435\\u0439 \\u0432 \\u0420\\u043e\\u0441\\u0441\\u0438\\u0438 \\u0437\\u0430\\u043f\\u0430\\u0434\\u043d\\u043e\\u0439 \\u0438\\u043d\\u0432\\u0435\\u0441\\u0442\\u0438\\u0446\\u0438\\u043e\\u043d\\u043d\\u043e\\u0439 \\u043a\\u043e\\u043c\\u043f\\u0430\\u043d\\u0438\\u0438 Hermitage Capital Management, \\u0440\\u0430\\u0441\\u043a\\u0440\\u044b\\u043b \\u0441\\u0445\\u0435\\u043c\\u0443 \\u0445\\u0438\\u0449\\u0435\\u043d\\u0438\\u044f 5,4 \\u043c\\u0438\\u043b\\u043b\\u0438\\u0430\\u0440\\u0434\\u043e\\u0432 \\u0440\\u0443\\u0431\\u043b\\u0435\\u0439, \\u0432 \\u043a\\u043e\\u0442\\u043e\\u0440\\u043e\\u0439 \\u0431\\u044b\\u043b\\u0438 \\u0437\\u0430\\u043c\\u0435\\u0448\\u0430\\u043d\\u044b \\u0441\\u043e\\u0442\\u0440\\u0443\\u0434\\u043d\\u0438\\u043a\\u0438 \\u041c\\u0438\\u043d\\u0438\\u0441\\u0442\\u0435\\u0440\\u0441\\u0442\\u0432\\u0430 \\u0432\\u043d\\u0443\\u0442\\u0440\\u0435\\u043d\\u043d\\u0438\\u0445 \\u0434\\u0435\\u043b.\\n\\n\\u041f\\u043e\\u0437\\u0434\\u043d\\u0435\\u0435 \\u0441\\u0430\\u043c \\u041c\\u0430\\u0433\\u043d\\u0438\\u0442\\u0441\\u043a\\u0438\\u0439 \\u0431\\u044b\\u043b \\u0430\\u0440\\u0435\\u0441\\u0442\\u043e\\u0432\\u0430\\u043d \\u043f\\u043e \\u043e\\u0431\\u0432\\u0438\\u043d\\u0435\\u043d\\u0438\\u044e \\u0432 \\u043a\\u043e\\u0440\\u0440\\u0443\\u043f\\u0446\\u0438\\u0438 \\u0442\\u0435\\u043c\\u0438 \\u0441\\u0430\\u043c\\u044b\\u043c\\u0438 \\u0447\\u0438\\u043d\\u043e\\u0432\\u043d\\u0438\\u043a\\u0430\\u043c\\u0438, \\u043a\\u043e\\u0442\\u043e\\u0440\\u044b\\u0435 \\u0431\\u044b\\u043b\\u0438 \\u043f\\u0440\\u0438\\u0447\\u0430\\u0441\\u0442\\u043d\\u044b \\u043a \\u0440\\u0430\\u0441\\u043a\\u0440\\u044b\\u0442\\u043e\\u0439 \\u0438\\u043c \\u043f\\u0440\\u0435\\u0441\\u0442\\u0443\\u043f\\u043d\\u043e\\u0439 \\u0441\\u0445\\u0435\\u043c\\u0435. \\u0412 2009 \\u0433\\u043e\\u0434\\u0443 37-\\u043b\\u0435\\u0442\\u043d\\u0438\\u0439 \\u044e\\u0440\\u0438\\u0441\\u0442 \\u0441\\u043a\\u043e\\u043d\\u0447\\u0430\\u043b\\u0441\\u044f \\u0432 \\u0441\\u043b\\u0435\\u0434\\u0441\\u0442\\u0432\\u0435\\u043d\\u043d\\u043e\\u043c \\u0438\\u0437\\u043e\\u043b\\u044f\\u0442\\u043e\\u0440\\u0435, \\u043a\\u0443\\u0434\\u0430 \\u0435\\u0433\\u043e \\u043f\\u043e\\u043c\\u0435\\u0441\\u0442\\u0438\\u043b\\u0438 \\u0432 \\u043e\\u0436\\u0438\\u0434\\u0430\\u043d\\u0438\\u0438 \\u0441\\u0443\\u0434\\u0430.\\n_1072_1079\",\n          \"\\u041f\\u0440\\u0435\\u0434\\u0441\\u0442\\u0430\\u0432\\u0438\\u0442\\u0435\\u043b\\u044c\\u043d\\u0438\\u0446\\u0443 \\u0411\\u0435\\u043b\\u043e\\u0440\\u0443\\u0441\\u0441\\u0438\\u0438 \\u043b\\u0438\\u0448\\u0438\\u043b\\u0438 \\u043e\\u043b\\u0438\\u043c\\u043f\\u0438\\u0439\\u0441\\u043a\\u043e\\u0433\\u043e \\u0437\\u043e\\u043b\\u043e\\u0442\\u0430\\n\\n\\n\\u0411\\u0435\\u043b\\u043e\\u0440\\u0443\\u0441\\u0441\\u043a\\u0430\\u044f \\u0442\\u043e\\u043b\\u043a\\u0430\\u0442\\u0435\\u043b\\u044c\\u043d\\u0438\\u0446\\u0430 \\u044f\\u0434\\u0440\\u0430 \\u041d\\u0430\\u0434\\u0435\\u0436\\u0434\\u0430 \\u041e\\u0441\\u0442\\u0430\\u043f\\u0447\\u0443\\u043a, \\u0437\\u0430\\u0432\\u043e\\u0435\\u0432\\u0430\\u0432\\u0448\\u0430\\u044f \\u0437\\u043e\\u043b\\u043e\\u0442\\u0443\\u044e \\u043c\\u0435\\u0434\\u0430\\u043b\\u044c \\u043d\\u0430 \\u041e\\u043b\\u0438\\u043c\\u043f\\u0438\\u0430\\u0434\\u0435 \\u0432 \\u041b\\u043e\\u043d\\u0434\\u043e\\u043d\\u0435, \\u0440\\u0435\\u0448\\u0435\\u043d\\u0438\\u0435\\u043c \\u041c\\u0435\\u0436\\u0434\\u0443\\u043d\\u0430\\u0440\\u043e\\u0434\\u043d\\u043e\\u0433\\u043e \\u043e\\u043b\\u0438\\u043c\\u043f\\u0438\\u0439\\u0441\\u043a\\u043e\\u0433\\u043e \\u043a\\u043e\\u043c\\u0438\\u0442\\u0435\\u0442\\u0430 \\u043b\\u0438\\u0448\\u0435\\u043d\\u0430 \\u043d\\u0430\\u0433\\u0440\\u0430\\u0434\\u044b \\u0438\\u0437-\\u0437\\u0430 \\u043f\\u043e\\u043b\\u043e\\u0436\\u0438\\u0442\\u0435\\u043b\\u044c\\u043d\\u043e\\u0433\\u043e \\u0440\\u0435\\u0437\\u0443\\u043b\\u044c\\u0442\\u0430\\u0442\\u0430 \\u0434\\u043e\\u043f\\u0438\\u043d\\u0433-\\u0442\\u0435\\u0441\\u0442\\u0430. \\u041e\\u0431 \\u044d\\u0442\\u043e\\u043c \\u043f\\u0440\\u0435\\u0434\\u0441\\u0442\\u0430\\u0432\\u0438\\u0442\\u0435\\u043b\\u0438 \\u041c\\u041e\\u041a \\u0441\\u043e\\u043e\\u0431\\u0449\\u0438\\u043b\\u0438 \\u0432 \\u043f\\u043e\\u043d\\u0435\\u0434\\u0435\\u043b\\u044c\\u043d\\u0438\\u043a 13 \\u0430\\u0432\\u0433\\u0443\\u0441\\u0442\\u0430.\\n\\n\\u041d\\u0430\\u043f\\u043e\\u043c\\u043d\\u0438\\u043c, 31-\\u043b\\u0435\\u0442\\u043d\\u044f\\u044f \\u0431\\u0435\\u043b\\u043e\\u0440\\u0443\\u0441\\u043a\\u0430 \\u0437\\u0430\\u0432\\u043e\\u0435\\u0432\\u0430\\u043b\\u0430 \\u0437\\u043e\\u043b\\u043e\\u0442\\u0443\\u044e \\u043d\\u0430\\u0433\\u0440\\u0430\\u0434\\u0443 \\u043d\\u0430 \\u043f\\u0440\\u043e\\u0448\\u043b\\u043e\\u0439 \\u043d\\u0435\\u0434\\u0435\\u043b\\u0435, \\u043a\\u043e\\u0433\\u0434\\u0430 \\u0441 \\u0442\\u0440\\u0435\\u0442\\u044c\\u0435\\u0439 \\u043f\\u043e\\u043f\\u044b\\u0442\\u043a\\u0438 \\u043c\\u0435\\u0442\\u043d\\u0443\\u043b\\u0430 \\u0441\\u043d\\u0430\\u0440\\u044f\\u0434 \\u043d\\u0430 21 \\u043c\\u0435\\u0442\\u0440 36 \\u0441\\u0430\\u043d\\u0442\\u0438\\u043c\\u0435\\u0442\\u0440\\u043e\\u0432. \\u041e\\u0434\\u043d\\u0430\\u043a\\u043e \\u0430\\u043d\\u0430\\u043b\\u0438\\u0437 \\u0434\\u043e\\u043f\\u0438\\u043d\\u0433-\\u043f\\u0440\\u043e\\u0431, \\u0432\\u0437\\u044f\\u0442\\u044b\\u0445 \\u0443 \\u043d\\u0435\\u0435 \\u043d\\u0430\\u043a\\u0430\\u043d\\u0443\\u043d\\u0435 \\u0438 \\u043f\\u043e\\u0441\\u043b\\u0435 \\u0437\\u0430\\u0432\\u0435\\u0440\\u0448\\u0435\\u043d\\u0438\\u044f \\u0441\\u043e\\u0440\\u0435\\u0432\\u043d\\u043e\\u0432\\u0430\\u043d\\u0438\\u0439, \\u0432\\u044b\\u044f\\u0432\\u0438\\u043b \\u043d\\u0430\\u043b\\u0438\\u0447\\u0438\\u0435 \\u0432 \\u0435\\u0435 \\u043e\\u0440\\u0433\\u0430\\u043d\\u0438\\u0437\\u043c\\u0435 \\u0437\\u0430\\u043f\\u0440\\u0435\\u0449\\u0435\\u043d\\u043d\\u043e\\u0433\\u043e \\u043f\\u0440\\u0435\\u043f\\u0430\\u0440\\u0430\\u0442\\u0430.\\n\\n\\u00ab\\u0421\\u043f\\u043e\\u0440\\u0442\\u0441\\u043c\\u0435\\u043d\\u043a\\u0430 \\u0434\\u043e\\u043b\\u0436\\u043d\\u0430 \\u0431\\u044b\\u043b\\u0430 \\u043f\\u0440\\u0435\\u0434\\u043e\\u0441\\u0442\\u0430\\u0432\\u0438\\u0442\\u044c \\u0430\\u043d\\u0430\\u043b\\u0438\\u0437 \\u043c\\u043e\\u0447\\u0438 \\u0432 \\u0440\\u0430\\u043c\\u043a\\u0430\\u0445 \\u0434\\u043e\\u043f\\u0438\\u043d\\u0433-\\u0442\\u0435\\u0441\\u0442\\u043e\\u0432 5 \\u0430\\u0432\\u0433\\u0443\\u0441\\u0442\\u0430. \\u041d\\u0430 \\u0441\\u043b\\u0435\\u0434\\u0443\\u044e\\u0449\\u0438\\u0439 \\u0434\\u0435\\u043d\\u044c \\u043e\\u043d\\u0430 \\u0443\\u0447\\u0430\\u0441\\u0442\\u0432\\u043e\\u0432\\u0430\\u043b\\u0430 \\u0432 \\u0441\\u043e\\u0440\\u0435\\u0432\\u043d\\u043e\\u0432\\u0430\\u043d\\u0438\\u044f\\u0445, \\u0433\\u0434\\u0435 \\u0437\\u0430\\u043d\\u044f\\u043b\\u0430 \\u043f\\u0435\\u0440\\u0432\\u043e\\u0435 \\u043c\\u0435\\u0441\\u0442\\u043e. \\u0415\\u0435 \\u043f\\u043e\\u043f\\u0440\\u043e\\u0441\\u0438\\u043b\\u0438 \\u0441\\u0434\\u0430\\u0442\\u044c \\u0435\\u0449\\u0435 \\u043e\\u0434\\u0438\\u043d \\u0430\\u043d\\u0430\\u043b\\u0438\\u0437 \\u0441\\u0440\\u0430\\u0437\\u0443 \\u043f\\u043e\\u0441\\u043b\\u0435 \\u0441\\u043e\\u0440\\u0435\\u0432\\u043d\\u043e\\u0432\\u0430\\u043d\\u0438\\u0439. \\u041e\\u0431\\u0430 \\u0430\\u043d\\u0430\\u043b\\u0438\\u0437\\u0430 \\u043f\\u043e\\u043a\\u0430\\u0437\\u0430\\u043b\\u0438 \\u043d\\u0430\\u043b\\u0438\\u0447\\u0438\\u0435 \\u043c\\u0435\\u0442\\u0435\\u043d\\u043e\\u043b\\u043e\\u043d\\u0430, \\u043a\\u043e\\u0442\\u043e\\u0440\\u044b\\u0439 \\u0441\\u0447\\u0438\\u0442\\u0430\\u0435\\u0442\\u0441\\u044f \\u0430\\u043d\\u0430\\u0431\\u043e\\u043b\\u0438\\u043a\\u043e\\u043c \\u0438 \\u0432\\u043d\\u0435\\u0441\\u0435\\u043d \\u0432 \\u0441\\u043f\\u0438\\u0441\\u043e\\u043a \\u0437\\u0430\\u043f\\u0440\\u0435\\u0449\\u0435\\u043d\\u043d\\u044b\\u0445 \\u043f\\u0440\\u0435\\u043f\\u0430\\u0440\\u0430\\u0442\\u043e\\u0432\\u00bb, \\u2013 \\u043f\\u0435\\u0440\\u0435\\u0432\\u043e\\u0434\\u0438\\u0442 \\u043e\\u0444\\u0438\\u0446\\u0438\\u0430\\u043b\\u044c\\u043d\\u043e\\u0435 \\u0437\\u0430\\u044f\\u0432\\u043b\\u0435\\u043d\\u0438\\u0435 \\u041c\\u041e\\u041a \\u043f\\u043e \\u044d\\u0442\\u043e\\u043c\\u0443 \\u0434\\u0435\\u043b\\u0443 \\u0431\\u0440\\u0438\\u0442\\u0430\\u043d\\u0441\\u043a\\u0430\\u044f \\u00ab\\u0411\\u0438-\\u0431\\u0438-\\u0441\\u0438\\u00bb.\\n\\n\\u041d\\u043e\\u0432\\u043e\\u0437\\u0435\\u043b\\u0430\\u043d\\u0434\\u043a\\u0430 \\u0412\\u0430\\u043b\\u0435\\u0440\\u0438 \\u0410\\u0434\\u0430\\u043c\\u0441, \\u0437\\u0430\\u0432\\u043e\\u0435\\u0432\\u0430\\u0432\\u0448\\u0430\\u044f \\u0441\\u0435\\u0440\\u0435\\u0431\\u0440\\u043e \\u0441 \\u0440\\u0435\\u0437\\u0443\\u043b\\u044c\\u0442\\u0430\\u0442\\u043e\\u043c 20 \\u043c\\u0435\\u0442\\u0440\\u043e\\u0432 70 \\u0441\\u0430\\u043d\\u0442\\u0438\\u043c\\u0435\\u0442\\u0440\\u043e\\u0432, \\u0442\\u0435\\u043f\\u0435\\u0440\\u044c \\u0441\\u0442\\u0430\\u043d\\u0435\\u0442 \\u0437\\u043e\\u043b\\u043e\\u0442\\u043e\\u0439 \\u043c\\u0435\\u0434\\u0430\\u043b\\u0438\\u0441\\u0442\\u043a\\u043e\\u0439. \\u0420\\u043e\\u0441\\u0441\\u0438\\u044f\\u043d\\u043a\\u0430 \\u0415\\u0432\\u0433\\u0435\\u043d\\u0438\\u044f \\u041a\\u043e\\u043b\\u043e\\u0434\\u044c\\u043a\\u043e (20,48 \\u043c) \\u0441 \\u0442\\u0440\\u0435\\u0442\\u044c\\u0435\\u0439 \\u043f\\u043e\\u0437\\u0438\\u0446\\u0438\\u0438 \\u043f\\u0435\\u0440\\u0435\\u043c\\u0435\\u0441\\u0442\\u0438\\u0442\\u0441\\u044f \\u043d\\u0430 \\u0432\\u0442\\u043e\\u0440\\u0443\\u044e, \\u0434\\u043e\\u0431\\u0430\\u0432\\u0438\\u0432 \\u0432 \\u043a\\u043e\\u043f\\u0438\\u043b\\u043a\\u0443 \\u0441\\u0431\\u043e\\u0440\\u043d\\u043e\\u0439 \\u0420\\u043e\\u0441\\u0441\\u0438\\u0438 \\u0435\\u0449\\u0435 \\u043e\\u0434\\u043d\\u043e \\u0441\\u0435\\u0440\\u0435\\u0431\\u0440\\u043e.\\n\\n\\u041f\\u0440\\u0438\\u043c\\u0435\\u0447\\u0430\\u0442\\u0435\\u043b\\u044c\\u043d\\u043e, \\u0447\\u0442\\u043e \\u0432\\u0441\\u043a\\u043e\\u0440\\u0435 \\u043f\\u043e\\u0441\\u043b\\u0435 \\u043f\\u043e\\u0431\\u0435\\u0434\\u044b \\u041e\\u0441\\u0442\\u0430\\u043f\\u0447\\u0443\\u043a \\u043d\\u0430 \\u041e\\u043b\\u0438\\u043c\\u043f\\u0438\\u0430\\u0434\\u0435 \\u0432 \\u041b\\u043e\\u043d\\u0434\\u043e\\u043d\\u0435 \\u043f\\u0440\\u0435\\u0437\\u0438\\u0434\\u0435\\u043d\\u0442 \\u0411\\u0435\\u043b\\u0430\\u0440\\u0443\\u0441\\u0438 \\u0410\\u043b\\u0435\\u043a\\u0441\\u0430\\u043d\\u0434\\u0440 \\u041b\\u0443\\u043a\\u0430\\u0448\\u0435\\u043d\\u043a\\u043e \\u043f\\u043e\\u0437\\u0434\\u0440\\u0430\\u0432\\u0438\\u043b \\u0435\\u0435 \\u0441\\u043e \\u0441\\u043f\\u043e\\u0440\\u0442\\u0438\\u0432\\u043d\\u044b\\u043c \\u0434\\u043e\\u0441\\u0442\\u0438\\u0436\\u0435\\u043d\\u0438\\u0435\\u043c \\u0438 \\u043d\\u0430\\u0433\\u0440\\u0430\\u0434\\u0438\\u043b \\u043e\\u0440\\u0434\\u0435\\u043d\\u043e\\u043c \\u041e\\u0442\\u0435\\u0447\\u0435\\u0441\\u0442\\u0432\\u0430 III \\u0441\\u0442\\u0435\\u043f\\u0435\\u043d\\u0438.\\n\\n\\u0422\\u0430\\u043a\\u0438\\u043c \\u043e\\u0431\\u0440\\u0430\\u0437\\u043e\\u043c, \\u041e\\u0441\\u0442\\u0430\\u043f\\u0447\\u0443\\u043a \\u0441\\u0442\\u0430\\u043b\\u0430 \\u0442\\u0440\\u0435\\u0442\\u044c\\u0438\\u043c \\u0431\\u0435\\u043b\\u043e\\u0440\\u0443\\u0441\\u0441\\u043a\\u0438\\u043c \\u0430\\u0442\\u043b\\u0435\\u0442\\u043e\\u043c, \\u043d\\u0430\\u0433\\u0440\\u0430\\u0436\\u0434\\u0435\\u043d\\u043d\\u044b\\u043c \\u043f\\u043e\\u0434\\u043e\\u0431\\u043d\\u044b\\u043c \\u043e\\u0440\\u0434\\u0435\\u043d\\u043e\\u043c \\u0441 \\u043d\\u0430\\u0447\\u0430\\u043b\\u0430 \\u041e\\u043b\\u0438\\u043c\\u043f\\u0438\\u0430\\u0434\\u044b \\u0432 \\u041b\\u043e\\u043d\\u0434\\u043e\\u043d\\u0435. \\u0420\\u0430\\u043d\\u0435\\u0435 \\u0430\\u043d\\u0430\\u043b\\u043e\\u0433\\u0438\\u0447\\u043d\\u044b\\u0445 \\u043d\\u0430\\u0433\\u0440\\u0430\\u0434 \\u0431\\u044b\\u043b\\u0438 \\u0443\\u0434\\u043e\\u0441\\u0442\\u043e\\u0435\\u043d\\u044b \\u0437\\u043e\\u043b\\u043e\\u0442\\u043e\\u0439 \\u043c\\u0435\\u0434\\u0430\\u043b\\u0438\\u0441\\u0442, \\u0441\\u0442\\u0440\\u0435\\u043b\\u043e\\u043a \\u0421\\u0435\\u0440\\u0433\\u0435\\u0439 \\u041c\\u0430\\u0440\\u0442\\u044b\\u043d\\u043e\\u0432 \\u0438 \\u0437\\u0430\\u0432\\u043e\\u0435\\u0432\\u0430\\u0432\\u0448\\u0430\\u044f \\u0441\\u0435\\u0440\\u0435\\u0431\\u0440\\u043e \\u043f\\u043b\\u043e\\u0432\\u0447\\u0438\\u0445\\u0430 \\u0410\\u043b\\u0435\\u043a\\u0441\\u0430\\u043d\\u0434\\u0440\\u0430 \\u0413\\u0435\\u0440\\u0430\\u0441\\u0438\\u043c\\u0435\\u043d\\u044f, \\u043f\\u0435\\u0440\\u0435\\u0434\\u0430\\u0435\\u0442 \\u00ab\\u0418\\u043d\\u0442\\u0435\\u0440\\u0444\\u0430\\u043a\\u0441\\u00bb.\\n\\n\\u041f\\u043e\\u0441\\u043b\\u0435 \\u0430\\u043d\\u043d\\u0443\\u043b\\u0438\\u0440\\u043e\\u0432\\u0430\\u043d\\u0438\\u044f \\u0437\\u043e\\u043b\\u043e\\u0442\\u043e\\u0439 \\u043c\\u0435\\u0434\\u0430\\u043b\\u0438 \\u041e\\u0441\\u0442\\u0430\\u043f\\u0447\\u0443\\u043a \\u0431\\u0435\\u043b\\u043e\\u0440\\u0443\\u0441\\u0441\\u043a\\u0430\\u044f \\u043e\\u043b\\u0438\\u043c\\u043f\\u0438\\u0439\\u0441\\u043a\\u0430\\u044f \\u0441\\u0431\\u043e\\u0440\\u043d\\u0430\\u044f, \\u0437\\u0430\\u0432\\u043e\\u0435\\u0432\\u0430\\u0432\\u0448\\u0430\\u044f \\u0432 \\u041b\\u043e\\u043d\\u0434\\u043e\\u043d\\u0435 12 \\u043c\\u0435\\u0434\\u0430\\u043b\\u0435\\u0439 (2 \\u0437\\u043e\\u043b\\u043e\\u0442\\u044b\\u0445, 5 \\u0441\\u0435\\u0440\\u0435\\u0431\\u0440\\u044f\\u043d\\u044b\\u0445 \\u0438 5 \\u0431\\u0440\\u043e\\u043d\\u0437\\u043e\\u0432\\u044b\\u0445), \\u043e\\u0442\\u043a\\u0430\\u0442\\u0438\\u043b\\u0430\\u0441\\u044c \\u0441 \\u043e\\u0431\\u0449\\u0435\\u0433\\u043e 23-\\u0435\\u0433\\u043e \\u043d\\u0430 26 \\u043c\\u0435\\u0441\\u0442\\u043e \\u0432 \\u043a\\u043e\\u043c\\u0430\\u043d\\u0434\\u043d\\u043e\\u043c \\u043f\\u043e\\u0434\\u0441\\u0447\\u0435\\u0442\\u0435 \\u043e\\u043b\\u0438\\u043c\\u043f\\u0438\\u0439\\u0441\\u043a\\u0438\\u0445 \\u0442\\u0440\\u043e\\u0444\\u0435\\u0435\\u0432.\\n_1015_1027\"\n        ],\n        \"semantic_type\": \"\",\n        \"description\": \"\"\n      }\n    },\n    {\n      \"column\": \"predicted_entity_type\",\n      \"properties\": {\n        \"dtype\": \"category\",\n        \"num_unique_values\": 3,\n        \"samples\": [\n          \"PER\",\n          \"ORG\",\n          \"LOC\"\n        ],\n        \"semantic_type\": \"\",\n        \"description\": \"\"\n      }\n    },\n    {\n      \"column\": \"final_entity_type\",\n      \"properties\": {\n        \"dtype\": \"category\",\n        \"num_unique_values\": 4,\n        \"samples\": [\n          \"PER\",\n          \"LOC\",\n          \"UNDETECTED\"\n        ],\n        \"semantic_type\": \"\",\n        \"description\": \"\"\n      }\n    }\n  ]\n}"
            }
          },
          "metadata": {},
          "execution_count": 82
        }
      ]
    },
    {
      "cell_type": "markdown",
      "source": [
        "# Внутри - неудачные попытки использовать апишку Gemini для генерации правил на основе датасета. Подход получился слишком топорным и не сработал("
      ],
      "metadata": {
        "id": "S1KD3RxTanmq"
      }
    },
    {
      "cell_type": "code",
      "execution_count": null,
      "metadata": {
        "id": "7gTcnYAeA66_"
      },
      "outputs": [],
      "source": [
        "grouped = train_data.groupby('text').apply(lambda df: df[['entity_type','start_pos','end_pos','entity_text']].to_dict(orient='records'))\n",
        "train_dict_data = grouped.to_dict()\n",
        "train_dict_data"
      ]
    },
    {
      "cell_type": "code",
      "source": [
        "import json\n",
        "\n",
        "# Сохранение словаря в файл JSON\n",
        "file_path = \"train_dict_data.json\"\n",
        "\n",
        "with open(file_path, \"w\", encoding=\"utf-8\") as file:\n",
        "    json.dump(train_dict_data, file, ensure_ascii=False, indent=4)\n",
        "\n",
        "print(f\"Словарь успешно сохранен в файл '{file_path}'.\")\n"
      ],
      "metadata": {
        "colab": {
          "base_uri": "https://localhost:8080/"
        },
        "id": "vIaXav8CWdkX",
        "outputId": "f5526e70-03b9-4dbc-8004-50edea88b2dd"
      },
      "execution_count": null,
      "outputs": [
        {
          "output_type": "stream",
          "name": "stdout",
          "text": [
            "Словарь успешно сохранен в файл 'train_dict_data.json'.\n"
          ]
        }
      ]
    },
    {
      "cell_type": "code",
      "source": [],
      "metadata": {
        "id": "r9Aog40XF_Fb"
      },
      "execution_count": null,
      "outputs": []
    },
    {
      "cell_type": "code",
      "source": [],
      "metadata": {
        "id": "j1fm0iSoF_IQ"
      },
      "execution_count": null,
      "outputs": []
    },
    {
      "cell_type": "code",
      "source": [
        "import json\n",
        "import math\n",
        "from typing import List, Tuple, Dict"
      ],
      "metadata": {
        "id": "QjQGHqOjF_LP"
      },
      "execution_count": null,
      "outputs": []
    },
    {
      "cell_type": "code",
      "execution_count": null,
      "metadata": {
        "id": "A0JdL964A6Jl"
      },
      "outputs": [],
      "source": [
        "import google.generativeai as genai\n",
        "from google.colab import userdata\n",
        "\n",
        "genai.configure(api_key=userdata.get('GOOGLE_API_KEY'))\n"
      ]
    },
    {
      "cell_type": "code",
      "source": [
        "generation_config = {\n",
        "    \"temperature\": 0.3,\n",
        "    \"top_k\": 5,\n",
        "    \"max_output_tokens\": 256,\n",
        "    \"response_mime_type\": \"text/plain\",\n",
        "}\n",
        "\n",
        "model = genai.GenerativeModel(\n",
        "  model_name=\"gemini-exp-1206\",\n",
        "  generation_config=generation_config,\n",
        ")"
      ],
      "metadata": {
        "id": "Et4q88kMOdZ8"
      },
      "execution_count": null,
      "outputs": []
    },
    {
      "cell_type": "code",
      "source": [
        "items_list: List[Tuple[str, List[Dict]]] = list(train_dict_data.items())\n",
        "total_items = len(items_list)\n",
        "print(f\"Всего элементов: {total_items}\")\n",
        "\n",
        "def split_into_chunks(data: List, chunk_size: int) -> List[List]:\n",
        "    return [data[i:i + chunk_size] for i in range(0, len(data), chunk_size)]\n",
        "\n",
        "chunk_size = 1000\n",
        "chunks = split_into_chunks(items_list, chunk_size)\n",
        "total_chunks = len(chunks)\n",
        "print(f\"Всего чанков: {total_chunks}\")"
      ],
      "metadata": {
        "colab": {
          "base_uri": "https://localhost:8080/"
        },
        "id": "2uJFG_5xGAnD",
        "outputId": "557488af-2bc6-4dc8-cd15-0a7b895de76b"
      },
      "execution_count": null,
      "outputs": [
        {
          "output_type": "stream",
          "name": "stdout",
          "text": [
            "Всего элементов: 839\n",
            "Всего чанков: 1\n"
          ]
        }
      ]
    },
    {
      "cell_type": "code",
      "execution_count": null,
      "metadata": {
        "id": "lejySUTlEPRn"
      },
      "outputs": [],
      "source": [
        "base_prompt = \"\"\"\n",
        "Сгенерируй правила для обнаружения сущностей: COUNTRY, EVENT, PROFESSION, PERSON, ORGANIZATION, IDEOLOGY, DISTRICT, AGE, DATE, LAW, TIME, PENALTY, CRIME, NUMBER, MONEY, CITY, NATIONALITY, WORK_OF_ART, PRODUCT, ORDINAL, FACILITY, AWARD, LOCATION, STATE_OR_PROVINCE, DISEASE, LANGUAGE, PERCENT, RELIGION, FAMILY.\n",
        "Используй обучающий словарь:\n",
        "{dict1}\n",
        "\n",
        "В качестве правил - только регулярные выражения\n",
        "\n",
        "## Формат вывода:\n",
        "json\n",
        "{\n",
        "  \"PERSON\": [\n",
        "    {\n",
        "      \"type\": \"regex\",\n",
        "      \"pattern\": \"([А-ЯЁ][а-яё]+ [А-ЯЁ][а-яё]+)\",\n",
        "      \"description\": \"Двухсловные имена с заглавными буквами\"\n",
        "    },\n",
        "  ],\n",
        "  \"ORGANIZATION\": [\n",
        "    {\n",
        "      \"type\": \"regex\",\n",
        "      \"pattern\": \"ООО|АО|ЗАО [А-ЯЁ][а-яё]+\",\n",
        "      \"description\": \"Организационные формы с названием\"\n",
        "    }\n",
        "  ]\n",
        "}\n",
        "```\n",
        "\n",
        "**Дополнительные требования:**\n",
        "\n",
        " - Избегай конфликтов между правилами разных типов сущностей.\n",
        " - Убедись, что регулярные выражения корректны и не содержат синтаксических ошибок.\n",
        " - Не более 5 простых правил для каждого типа сущности.\n",
        " - Избегай повторяющихся правил\n",
        "\n",
        "\n",
        "Давай быстрый и лаконичный ответ\n",
        "\"\"\""
      ]
    },
    {
      "cell_type": "code",
      "execution_count": null,
      "metadata": {
        "id": "zh2P4msgoYLD"
      },
      "outputs": [],
      "source": [
        "# Список для хранения ответов от Gemini\n",
        "gemini_responses = []"
      ]
    },
    {
      "cell_type": "code",
      "source": [
        "for idx, chunk in enumerate(tqdm(chunks, desc=\"Обработка чанков\", unit=\"чанк\"), start=1):\n",
        "    current_dict = dict(chunk)\n",
        "\n",
        "    dict1_str = json.dumps(current_dict, ensure_ascii=False, indent=2)\n",
        "\n",
        "    # С .format были ошибка\n",
        "    prompt = base_prompt.replace(\"{dict1}\", dict1_str)\n",
        "\n",
        "    try:\n",
        "        chat_session = model.start_chat(history=[])\n",
        "\n",
        "        response = chat_session.send_message(prompt)\n",
        "\n",
        "        if response and hasattr(response, 'text'):\n",
        "            gemini_responses.append(response.text)\n",
        "        else:\n",
        "            tqdm.write(f\"Чанк {idx} не получил корректный ответ.\")\n",
        "\n",
        "    except Exception as e:\n",
        "        tqdm.write(f\"Произошла ошибка при обработке чанка {idx}: {e}\")\n",
        "        continue\n",
        "\n",
        "print(\"Все чанки обработаны.\")"
      ],
      "metadata": {
        "colab": {
          "base_uri": "https://localhost:8080/"
        },
        "id": "j4VrBO2RH2Js",
        "outputId": "1b3c1bae-f3cf-4bf4-c2c9-f4a3c030d794"
      },
      "execution_count": null,
      "outputs": [
        {
          "output_type": "stream",
          "name": "stderr",
          "text": [
            "Обработка чанков: 100%|██████████| 1/1 [10:00<00:00, 600.95s/чанк]"
          ]
        },
        {
          "output_type": "stream",
          "name": "stdout",
          "text": [
            "Произошла ошибка при обработке чанка 1: ('Connection aborted.', TimeoutError('timed out'))\n",
            "Все чанки обработаны.\n"
          ]
        },
        {
          "output_type": "stream",
          "name": "stderr",
          "text": [
            "\n"
          ]
        }
      ]
    },
    {
      "cell_type": "code",
      "source": [],
      "metadata": {
        "id": "n3MIYcJmG6c9"
      },
      "execution_count": null,
      "outputs": []
    },
    {
      "cell_type": "code",
      "source": [],
      "metadata": {
        "id": "_vskW1WCG6fL"
      },
      "execution_count": null,
      "outputs": []
    },
    {
      "cell_type": "markdown",
      "source": [
        "# Продолжаем"
      ],
      "metadata": {
        "id": "MEmaH15Vb9IQ"
      }
    },
    {
      "cell_type": "markdown",
      "source": [
        "В пожарном режиме нагенерил правил по категориям для текстов моего формата, плюс попробовал дополнить по каждой категории топ 50 самых популярных сущностей"
      ],
      "metadata": {
        "id": "c9KdZxnQj3x5"
      }
    },
    {
      "cell_type": "code",
      "source": [
        "regex_rules = {\n",
        "    \"COUNTRY\": [\n",
        "        # 1) Словарный подход для некоторых стран и аббревиатур\n",
        "        r\"\\b(Россия|Российская\\sФедерация|РФ|Беларусь|Украина|США|Соединённые\\sШтаты\\sАмерики|Германия|Франция|Великобритания|Китай|Япония|Канада|Бразилия|Италия)\\b\",\n",
        "        # 2) Государство + название (например, \"Государство Израиль\", \"Государство Катар\")\n",
        "        r\"\\bГосударство\\s[А-ЯЁA-Z][а-яёa-z]+\",\n",
        "        # 3) Республика + название (например, \"Республика Казахстан\", \"Республика Польша\")\n",
        "        r\"\\bРеспублика\\s[А-ЯЁA-Z][а-яёa-z]+\",\n",
        "        # 4) Некий общий шаблон для страны: \"страна\" + прилагательное (например, \"страна-агрессор\")\n",
        "        r\"\\bстрана-[а-яёA-Z0-9-]+\\b\"\n",
        "    ],\n",
        "    \"EVENT\": [\n",
        "        # 1) Ключевые слова для событий (конференция, съезд, митинг, фестиваль, форум и т.д.)\n",
        "        r\"\\b(конференци[яия]|форум|съезд|митинг|фестиваль|конгресс|выборы|референдум|саммит)\\b\",\n",
        "        # 2) Слово \"событие\" + название\n",
        "        r\"\\bсобытие\\s+[А-ЯЁA-Z][а-яёa-zA-Z-]+\\b\",\n",
        "        # 3) Упоминание мероприятий: \"Олимпиада 20\\d{2}\", \"Чемпионат мира 20\\d{2}\" и т.д.\n",
        "        r\"\\b(Олимпиада|Чемпионат\\sмира|Чемпионат\\sЕвропы)\\s20\\d{2}\\b\",\n",
        "        # 4) Всемирный день/год чего-либо\n",
        "        r\"\\bВсемирный\\sдень\\s[а-яёa-zA-Z]+\\b\"\n",
        "    ],\n",
        "    \"PROFESSION\": [\n",
        "        # 1) Простые регулярки по профессиям\n",
        "        r\"\\b(профессор|учител[ья]|директор|менеджер|программист|журналис[тка]|врач|юрист|адвокат|сантехник|экономист)\\b\",\n",
        "        # 2) Слово \"специалист\" + род деятельности\n",
        "        r\"\\bспециалист\\sпо\\s[а-яёa-zA-Z]+\\b\",\n",
        "        # 3) Эвристика должностей: \"главный инженер\", \"старший научный сотрудник\" и т.д.\n",
        "        r\"\\b(главный\\sинженер|старший\\sнаучный\\sсотрудник|ведущий\\sразработчик)\\b\",\n",
        "        # 4) Шаблон \"работает в должности <...>\"\n",
        "        r\"\\bработает\\sв\\sдолжности\\s[а-яёa-zA-Z]+\\b\"\n",
        "    ],\n",
        "    \"PERSON\": [\n",
        "        # 1) Имя Фамилия (упрощённый вариант: обе части с заглавной)\n",
        "        r\"\\b[А-ЯЁ][а-яё]+\\s[А-ЯЁ][а-яё]+\\b\",\n",
        "        # 2) Имя + Отчество + Фамилия\n",
        "        r\"\\b[А-ЯЁ][а-яё]+(?:\\s[А-ЯЁ][а-яё]+){1,2}\\b\",\n",
        "        # 3) Фамилия + Инициалы (например, \"Иванов И.И.\")\n",
        "        r\"\\b[А-ЯЁ][а-яё]+(?:\\s[А-ЯЁ]\\.[А-ЯЁ]\\.)\\b\",\n",
        "        # 4) Возможный паттерн с дефисной фамилией: \"Имя Фамилия-Фамилия\"\n",
        "        r\"\\b[А-ЯЁ][а-яё]+\\s[А-ЯЁ][а-яё]+-[А-ЯЁ][а-яё]+\\b\"\n",
        "    ],\n",
        "    \"ORGANIZATION\": [\n",
        "        # 1) Ключевые слова, часто указывающие на организацию + кавычки\n",
        "        r\"\\b(компан(?:ия|ии)|фирм(?:а|ы)|АО\\s«[^»]+»|ООО\\s«[^»]+»|ПАО\\s«[^»]+»)\\b\",\n",
        "        # 2) Аббревиатуры (минимум 2 заглавные буквы): \"МВД\", \"ФСБ\", \"ООН\", \"ЦБ\", и т.п.\n",
        "        r\"\\b[А-ЯЁ]{2,}\\b\",\n",
        "        # 3) Расширенный шаблон для упоминания организаций \"ОАО\", \"ЗАО\", \"НКО\", \"ЧП\" и т.д. + название\n",
        "        r\"\\b(ОАО|ЗАО|НКО|ЧП)\\s«[^»]+»\\b\",\n",
        "        # 4) \"Банк\" + название (например, \"Банк ВТБ\", \"Банк России\", \"Сбербанк\")\n",
        "        r\"\\bБанк\\s[А-ЯЁA-Z][а-яёa-zA-Z]+\\b\"\n",
        "    ],\n",
        "    \"IDEOLOGY\": [\n",
        "        # 1) Основные идеологии по ключевым суффиксам -изм\n",
        "        r\"\\b(либерализм|консерватизм|социализм|коммунизм|фашизм|нацизм|анархизм|монархизм)\\b\",\n",
        "        # 2) Слова на -изм (общий паттерн)\n",
        "        r\"\\b[а-яёa-zA-Z]+изм\\b\",\n",
        "        # 3) \"идеология X\"\n",
        "        r\"\\bидеология\\s[а-яёa-zA-Z]+\\b\",\n",
        "        # 4) \"учение\" или \"доктрина\" + название\n",
        "        r\"\\b(учение|доктрина)\\s[а-яёa-zA-Z]+\\b\"\n",
        "    ],\n",
        "    \"DISTRICT\": [\n",
        "        # 1) Районы: \"район\", \"округ\" + заглавное слово\n",
        "        r\"\\b[А-ЯЁ][а-яё]+(?:\\sрайон|\\sокруг)\\b\",\n",
        "        # 2) Пример: \"район имени XYZ\"\n",
        "        r\"\\bрайон\\sимени\\s[А-ЯЁ][а-яё]+\\b\",\n",
        "        # 3) Городской округ: \"Городской округ + название\"\n",
        "        r\"\\bГородской\\sокруг\\s[А-ЯЁ][а-яё]+\\b\",\n",
        "        # 4) \"административный округ\" + название\n",
        "        r\"\\bадминистративный\\sокруг\\s[А-ЯЁ][а-яё]+\\b\"\n",
        "    ],\n",
        "    \"AGE\": [\n",
        "        # 1) \"XX год(а/ов/лет)\" - возраст\n",
        "        r\"\\b\\d{1,2}\\s+(год(?:а|ов)?|лет)\\b\",\n",
        "        # 2) \"возраст XX\"\n",
        "        r\"\\bвозраст\\s+\\d{1,2}\\b\",\n",
        "        # 3) \"N-летний/летняя\" (например, \"25-летний\")\n",
        "        r\"\\b\\d{1,2}-летн(?:ий|яя|ее|ие)\\b\",\n",
        "        # 4) \"достиг(ла) возраста N лет\"\n",
        "        r\"\\bдостиг(?:ла)?\\sвозраста\\s\\d{1,2}\\sлет\\b\"\n",
        "    ],\n",
        "    \"DATE\": [\n",
        "        # 1) Формат dd.mm.yyyy\n",
        "        r\"\\b\\d{1,2}\\.\\d{1,2}\\.\\d{4}\\b\",\n",
        "        # 2) Формат с месяцами прописью: 1 января 2021\n",
        "        r\"\\b\\d{1,2}\\s+(января|февраля|марта|апреля|мая|июня|июля|августа|сентября|октября|ноября|декабря)\\s+\\d{4}\\b\",\n",
        "        # 3) Формат: год в скобках, например \"(2021)\"\n",
        "        r\"\\(\\d{4}\\)\",\n",
        "        # 4) Формат: yyyy-mm-dd\n",
        "        r\"\\b\\d{4}-\\d{2}-\\d{2}\\b\"\n",
        "    ],\n",
        "    \"LAW\": [\n",
        "        # 1) Указ Президента №\n",
        "        r\"\\bУказ\\sПрезидента\\s№\\s?\\d+\\b\",\n",
        "        # 2) Федеральный закон №\n",
        "        r\"\\bФедеральный\\sзакон\\s№\\s?\\d+\\b\",\n",
        "        # 3) Статья УК РФ: \"ст. 105 УК РФ\"\n",
        "        r\"\\bст\\.\\s?\\d+\\sУК\\sРФ\\b\",\n",
        "        # 4) Общий паттерн: \"закон №XXXX\" (где XXXX — любые цифры)\n",
        "        r\"\\bзакон\\s№\\s?\\d+\\b\"\n",
        "    ],\n",
        "    \"TIME\": [\n",
        "        # 1) Формат HH:MM (24-часовое)\n",
        "        r\"\\b([01]\\d|2[0-3]):([0-5]\\d)\\b\",\n",
        "        # 2) \"XX часов\" / \"XX минут\"\n",
        "        r\"\\b\\d{1,2}\\s*(час(?:а|ов)|минут(?:а|ы)?)\\b\",\n",
        "        # 3) Формат HH:MM:SS (расширенный)\n",
        "        r\"\\b([01]\\d|2[0-3]):([0-5]\\d):([0-5]\\d)\\b\",\n",
        "        # 4) \"в N часов утра/вечера\"\n",
        "        r\"\\bв\\s\\d{1,2}\\sчас(?:а|ов)?\\s(утра|вечера)\\b\"\n",
        "    ],\n",
        "    \"PENALTY\": [\n",
        "        # 1) Штраф в рублях: \"штраф в N руб.\"\n",
        "        r\"\\bштраф\\s+в\\s+\\d+(?:\\s?\\d{3})*\\s*руб\\.?\\b\",\n",
        "        # 2) \"лишение свободы на X год(а/лет)\"\n",
        "        r\"\\bлишение\\sсвободы\\sна\\s\\d+\\s(год(?:а|ов)?|лет)\\b\",\n",
        "        # 3) \"приговорен(а) к X годам заключения\"\n",
        "        r\"\\bприговорен(?:а)?\\sк\\s\\d+\\sгодам?\\sзаключения\\b\",\n",
        "        # 4) \"административный штраф\" + сумма\n",
        "        r\"\\bадминистративный\\sштраф\\sв\\sразмере\\s\\d+(?:\\s?\\d{3})*\\s*руб\\.?\\b\"\n",
        "    ],\n",
        "    \"CRIME\": [\n",
        "        # 1) Ключевые слова: убийство, кража, разбой, мошенничество, коррупция\n",
        "        r\"\\b(убийств[оа]|краж[аеи]|разбо[йя]|мошенничеств[оа]|коррупци[яи])\\b\",\n",
        "        # 2) Слово \"преступление\" + род деятельности\n",
        "        r\"\\bпреступление\\sпротив\\s[а-яёa-zA-Z]+\\b\",\n",
        "        # 3) \"злоупотребление полномочиями\"\n",
        "        r\"\\bзлоупотребление\\sслужебными\\sполномочиями\\b\",\n",
        "        # 4) \"торговля наркотиками\"\n",
        "        r\"\\bторговля\\sнаркотиками\\b\"\n",
        "    ],\n",
        "    \"NUMBER\": [\n",
        "        # 1) Простое целое число\n",
        "        r\"\\b\\d+\\b\",\n",
        "        # 2) Десятичное число с запятой или точкой\n",
        "        r\"\\b\\d+[.,]\\d+\\b\",\n",
        "        # 3) Римские цифры (I, II, III, IV, V, ...)\n",
        "        r\"\\b[IVXLCDM]+\\b\",\n",
        "        # 4) Число с суффиксом (например, \"100к\", \"5млн\")\n",
        "        r\"\\b\\d+(?:k|к|млн|тыс\\.?)\\b\"\n",
        "    ],\n",
        "    \"MONEY\": [\n",
        "        # 1) Сумма в рублях c символом руб. или словом руб\n",
        "        r\"\\b\\d+(?:\\s?\\d{3})*\\s?(руб\\.?|рубл(?:ей|я))\\b\",\n",
        "        # 2) Сумма в долларах, евро\n",
        "        r\"\\b\\d+(?:\\s?\\d{3})*\\s?(?:\\$|доллар(?:ов|а)?|€|евро)\\b\",\n",
        "        # 3) Формат: \"100 USD/EUR\"\n",
        "        r\"\\b\\d+(?:\\s?\\d{3})*\\s?(USD|EUR)\\b\",\n",
        "        # 4) Валюта в словесном формате: \"тысяча рублей\"\n",
        "        r\"\\b(тысяч[аи]?|миллион[а]?|миллиард[а]?|сот[ня]?)\\sрубл(?:ей|я)\\b\"\n",
        "    ],\n",
        "    \"CITY\": [\n",
        "        # 1) Частый словарный набор городов\n",
        "        r\"\\b(Москва|Санкт-Петербург|Казань|Новосибирск|Екатеринбург|Нижний\\sНовгород|Киев|Минск|Ростов-на-Дону|Владивосток)\\b\",\n",
        "        # 2) Шаблон \"город X\"\n",
        "        r\"\\bгород\\s[А-ЯЁ][а-яё]+(?:[\\s-][А-ЯЁ][а-яё]+)*\\b\",\n",
        "        # 3) \"г.\\sX\" (сокращение слова \"город\")\n",
        "        r\"\\bg\\.\\s?[А-ЯЁ][а-яё]+\\b\",\n",
        "        # 4) \"столица\" + название\n",
        "        r\"\\bстолица\\s[А-ЯЁ][а-яё]+\\b\"\n",
        "    ],\n",
        "    \"NATIONALITY\": [\n",
        "        # 1) Типичные прилагательные национальностей\n",
        "        r\"\\b(русск(?:ий|ая|ие)|американ(?:ец|ка|цы)|китай(?:ский|ская|ские)|нем(?:ец|ка|цы)|француз(?:ка|ы)|беларус(?:ец|ка|ы)|итальянец|итальянка|испан(?:ец|ка))\\b\",\n",
        "        # 2) Слово \"гражданин\" + страны\n",
        "        r\"\\bгражданин\\s(России|Беларуси|США|Германии|Франции|Украины)\\b\",\n",
        "        # 3) \"национальность: X\"\n",
        "        r\"\\bнациональность:\\s[а-яёa-zA-Z]+\\b\",\n",
        "        # 4) \"этнический\" + прилагательное\n",
        "        r\"\\bэтнический\\s[а-яёa-zA-Z]+\\b\"\n",
        "    ],\n",
        "    \"WORK_OF_ART\": [\n",
        "        # 1) Ключевые слова: \"роман\", \"фильм\", \"картина\", \"пьеса\" + название в кавычках\n",
        "        r\"\\b(роман|фильм|картина|пьеса)\\s«[^»]+»\",\n",
        "        # 2) Любой объект в «кавычках»\n",
        "        r\"«[^»]+»\",\n",
        "        # 3) \"книга\" + название\n",
        "        r\"\\bкнига\\s«[^»]+»\",\n",
        "        # 4) \"спектакль\" + название\n",
        "        r\"\\bспектакль\\s«[^»]+»\"\n",
        "    ],\n",
        "    \"PRODUCT\": [\n",
        "        # 1) Ключевые слова, обозначающие товар, + название\n",
        "        r\"\\b(товар|продукт|устройство|гаджет|модель)\\s[A-ZА-ЯЁ0-9][^\\s]*\",\n",
        "        # 2) \"iPhone X\" или \"Samsung Galaxy S21\"\n",
        "        r\"\\b(iPhone\\s\\S+|Samsung\\sGalaxy\\s\\S+|Huawei\\s\\S+)\\b\",\n",
        "        # 3) \"марка X\"\n",
        "        r\"\\bмарка\\s[А-ЯЁA-Z][а-яёa-zA-Z0-9]+\\b\",\n",
        "        # 4) \"бренд\" + название\n",
        "        r\"\\bбренд\\s«[^»]+»\"\n",
        "    ],\n",
        "    \"ORDINAL\": [\n",
        "        # 1) Порядковые числительные: 1-й, 2-я, 3-е и т.д.\n",
        "        r\"\\b\\d{1,2}-?(й|я|е)\\b\",\n",
        "        # 2) Слово \"первый\", \"второй\", \"третий\" и т.д.\n",
        "        r\"\\b(перв(?:ый|ая|ое|ые)|втор(?:ой|ая|ое|ые)|трет(?:ий|ья|ье|ьи)|четвёрт(?:ый|ая|ое|ые)|пятый|шестой|седьмой|восьмой|девятый|десятый)\\b\",\n",
        "        # 3) Двузначные порядковые: \"21-й\", \"32-я\" и т.д.\n",
        "        r\"\\b\\d{2}-?(й|я|е)\\b\",\n",
        "        # 4) Словесные порядковые: \"одиннадцатый\", \"двенадцатый\" и т.д.\n",
        "        r\"\\b(одиннадцатый|двенадцатый|тринадцатый|четырнадцатый|пятнадцатый)\\b\"\n",
        "    ],\n",
        "    \"FACILITY\": [\n",
        "        # 1) Объекты инфраструктуры: аэропорт, вокзал, станция, стадион\n",
        "        r\"\\b(аэропорт|вокзал|станция|стадион)\\s[А-ЯЁ][а-яё]+\",\n",
        "        # 2) \"здание\" + название в кавычках\n",
        "        r\"\\bздание\\s«[^»]+»\",\n",
        "        # 3) \"ТЦ\" или \"ТРЦ\" + название\n",
        "        r\"\\bТ(?:Р)?Ц\\s«[^»]+»\",\n",
        "        # 4) \"мост\" + название\n",
        "        r\"\\bмост\\s[А-ЯЁ][а-яё]+\"\n",
        "    ],\n",
        "    \"AWARD\": [\n",
        "        # 1) Известные награды: \"Оскар\", \"Нобелевская премия\", \"Грэмми\", \"Золотой глобус\"\n",
        "        r\"\\b(Оскар|Нобелевская\\sпремия|Грэмми|Золотой\\sглобус|Пулитцеровская\\sпремия)\\b\",\n",
        "        # 2) Слово \"премия\" + название\n",
        "        r\"\\bпремия\\s«[^»]+»\",\n",
        "        # 3) \"лауреат\" + название премии\n",
        "        r\"\\bлауреат\\s(Оскара|Нобелевской\\sпремии|Грэмми)\\b\",\n",
        "        # 4) \"награда\" + название\n",
        "        r\"\\bнаграда\\s«[^»]+»\"\n",
        "    ],\n",
        "    \"LOCATION\": [\n",
        "        # 1) Общее обозначение местоположений: район, область, регион, место происшествия\n",
        "        r\"\\b(область|регион|место\\sпроисшествия)\\b\",\n",
        "        # 2) \"деревня X\", \"посёлок X\"\n",
        "        r\"\\b(деревня|посёлок)\\s[А-ЯЁ][а-яё]+\\b\",\n",
        "        # 3) \"местность\" + название\n",
        "        r\"\\bместность\\s[А-ЯЁ][а-яё]+\\b\",\n",
        "        # 4) Любое упоминание \"окрестности X\"\n",
        "        r\"\\bокрестности\\s[А-ЯЁ][а-яё]+\\b\"\n",
        "    ],\n",
        "    \"STATE_OR_PROVINCE\": [\n",
        "        # 1) Некоторые области и края\n",
        "        r\"\\b(Московская\\sобласть|Ленинградская\\sобласть|Краснодарский\\sкрай|Приморский\\sкрай|Тверская\\sобласть)\\b\",\n",
        "        # 2) \"область\" + название\n",
        "        r\"\\b[А-ЯЁ][а-яё]+\\sобласть\\b\",\n",
        "        # 3) \"край\" + название\n",
        "        r\"\\b[А-ЯЁ][а-яё]+\\sкрай\\b\",\n",
        "        # 4) \"Автономный округ\" + название (например, \"Ханты-Мансийский автономный округ\")\n",
        "        r\"\\b[А-ЯЁ][а-яё]+\\sавтономный\\sокруг\\b\"\n",
        "    ],\n",
        "    \"DISEASE\": [\n",
        "        # 1) Наименования болезней: \"COVID-19\", \"грипп\", \"рак\", \"пневмония\", \"диабет\"\n",
        "        r\"\\b(COVID-19|грипп|рак|пневмония|диабет|ВИЧ)\\b\",\n",
        "        # 2) Общая форма \"заболевание + тип\"\n",
        "        r\"\\bзаболевание\\s[а-яёa-zA-Z]+\\b\",\n",
        "        # 3) \"синдром\" + название\n",
        "        r\"\\bсиндром\\s[А-ЯЁa-zA-Z][а-яёa-zA-Z]+\\b\",\n",
        "        # 4) \"инфекция\" + тип\n",
        "        r\"\\bинфекция\\s[а-яёa-zA-Z]+\\b\"\n",
        "    ],\n",
        "    \"LANGUAGE\": [\n",
        "        # 1) Наименование языков: \"русский язык\", \"английский язык\" и т.д.\n",
        "        r\"\\b(русский|английский|немецкий|французский|китайский|испанский)\\sязык\\b\",\n",
        "        # 2) Язык в виде \"<прилагательное> язык\"\n",
        "        r\"\\b[а-яёa-zA-Z]+ский\\sязык\\b\",\n",
        "        # 3) \"говорит на X языке\"\n",
        "        r\"\\bговорит\\sна\\s[а-яёa-zA-Z]+(?:ском)?\\sязыке\\b\",\n",
        "        # 4) \"перевод\" с языка X на язык Y\n",
        "        r\"\\bперевод\\sс\\s[а-яёa-zA-Z]+(?:ского)?\\sна\\s[а-яёa-zA-Z]+(?:ский)?\\b\"\n",
        "    ],\n",
        "    \"PERCENT\": [\n",
        "        # 1) Проценты формата \"XX%\"\n",
        "        r\"\\b\\d{1,3}%\\b\",\n",
        "        # 2) Слово \"процент(ов)\" после числа\n",
        "        r\"\\b\\d{1,3}\\sпроцент(?:ов|а)?\\b\",\n",
        "        # 3) Десятичный процент \"XX.X%\"\n",
        "        r\"\\b\\d{1,3}\\.\\d+\\%\\b\",\n",
        "        # 4) \"доля X %\"\n",
        "        r\"\\bдоля\\s\\d{1,3}%\\b\"\n",
        "    ],\n",
        "    \"RELIGION\": [\n",
        "        # 1) Основные религии\n",
        "        r\"\\b(христианств[оа]|ислам|буддизм|иудаизм|индуизм)\\b\",\n",
        "        # 2) Принадлежность: \"православие\", \"католицизм\", \"протестантизм\"\n",
        "        r\"\\b(православие|католицизм|протестантизм)\\b\",\n",
        "        # 3) \"религия\" + название\n",
        "        r\"\\bрелигия\\s[а-яёa-zA-Z]+\\b\",\n",
        "        # 4) \"конфессия\" + название\n",
        "        r\"\\bконфессия\\s[а-яёa-zA-Z]+\\b\"\n",
        "    ],\n",
        "    \"FAMILY\": [\n",
        "        # 1) Ключевые слова про семью: \"отец\", \"мать\", \"сын\", \"дочь\", \"брат\", \"сестра\" и т.д.\n",
        "        r\"\\b(отец|мать|сын|дочь|брат|сестра|дедушка|бабушка|внук|внучка)\\b\",\n",
        "        # 2) Фразы \"муж/жена + Фамилия\"\n",
        "        r\"\\b(муж|жена)\\s[А-ЯЁ][а-яё]+\\b\",\n",
        "        # 3) \"родственник(и)\" + фамилия/имя\n",
        "        r\"\\bродственник(?:и)?\\s[А-ЯЁ][а-яё]+\\b\",\n",
        "        # 4) \"семья\" + фамилия\n",
        "        r\"\\bсемья\\s[А-ЯЁ][а-яё]+\\b\"\n",
        "    ]\n",
        "}\n"
      ],
      "metadata": {
        "id": "W6pDKsSrG6oW"
      },
      "execution_count": null,
      "outputs": []
    },
    {
      "cell_type": "code",
      "source": [
        "# Функция для экранирования специальных символов в регулярных выражениях\n",
        "def escape_regex(text):\n",
        "    return re.escape(text)\n",
        "\n",
        "# Максимальное количество популярных значений для каждой сущности\n",
        "TOP_N = 50\n",
        "\n",
        "# Получение списка всех типов сущностей\n",
        "entity_types = train_data['entity_type'].unique()\n",
        "\n",
        "for entity in entity_types:\n",
        "    # Фильтрация данных для текущей сущности\n",
        "    entity_data = train_data[train_data['entity_type'] == entity]\n",
        "\n",
        "    # Подсчет частоты каждого entity_text\n",
        "    top_entities = entity_data['entity_text'].value_counts().head(TOP_N).index.tolist()\n",
        "\n",
        "    # Экранирование специальных символов и добавление границ слова\n",
        "    escaped_entities = [escape_regex(text) for text in top_entities]\n",
        "\n",
        "    # Создание одного регулярного выражения с использованием альтернатив (|)\n",
        "    # Разбиение на подгруппы по, например, 10 элементов для избежания слишком длинных регулярных выражений\n",
        "    chunk_size = 10\n",
        "    regex_chunks = [escaped_entities[i:i + chunk_size] for i in range(0, len(escaped_entities), chunk_size)]\n",
        "\n",
        "    for chunk in regex_chunks:\n",
        "        # Создание паттерна с границами слов\n",
        "        pattern = r'\\b(' + '|'.join(chunk) + r')\\b'\n",
        "        # Добавление паттерна в список регулярных выражений для текущей сущности\n",
        "        if entity in regex_rules:\n",
        "            regex_rules[entity].append(pattern)\n",
        "        else:\n",
        "            regex_rules[entity] = [pattern]"
      ],
      "metadata": {
        "id": "dKRwUFE4G6qH"
      },
      "execution_count": null,
      "outputs": []
    },
    {
      "cell_type": "code",
      "execution_count": null,
      "metadata": {
        "id": "sh_R4iqUoYP2"
      },
      "outputs": [],
      "source": [
        "for entity, patterns in regex_rules.items():\n",
        "    print(f\"Entity Type: {entity}\")\n",
        "    for pattern in patterns:\n",
        "        print(f\"  Pattern: {pattern}\")\n",
        "    print(\"\\n\")"
      ]
    },
    {
      "cell_type": "code",
      "source": [
        "from collections import defaultdict"
      ],
      "metadata": {
        "id": "SaggB3Bcghq3"
      },
      "execution_count": null,
      "outputs": []
    },
    {
      "cell_type": "code",
      "source": [
        "def predict_entities(text, regex_rules):\n",
        "    predicted_entities = []\n",
        "\n",
        "    for entity_type, patterns in regex_rules.items():\n",
        "        for pattern in patterns:\n",
        "            for match in re.finditer(pattern, text, re.IGNORECASE):\n",
        "                start, end = match.span()\n",
        "                entity_text = match.group().strip()\n",
        "                predicted_entities.append((start, end, entity_type, entity_text))\n",
        "\n",
        "    return predicted_entities\n"
      ],
      "metadata": {
        "id": "b_MlaSMzhjiM"
      },
      "execution_count": null,
      "outputs": []
    },
    {
      "cell_type": "code",
      "source": [
        "\n",
        "test_data = test_data.reset_index().rename(columns={'index': 'text_id'})\n",
        "\n",
        "unique_texts = test_data[['text_id', 'text']].drop_duplicates()\n",
        "\n",
        "predicted_entities_dict = defaultdict(list)\n",
        "\n",
        "for _, row in unique_texts.iterrows():\n",
        "    text_id = row['text_id']\n",
        "    text = row['text']\n",
        "    predicted = predict_entities(text, regex_rules)\n",
        "    predicted_entities_dict[text_id] = predicted\n",
        "\n",
        "predicted_entities = []\n",
        "for text_id, entities in predicted_entities_dict.items():\n",
        "    for entity in entities:\n",
        "        predicted_entities.append({\n",
        "            'text_id': text_id,\n",
        "            'start_pos': entity[0],\n",
        "            'end_pos': entity[1],\n",
        "            'entity_text': entity[3],\n",
        "            'entity_type': entity[2]\n",
        "        })\n",
        "\n",
        "predicted_df = pd.DataFrame(predicted_entities)\n"
      ],
      "metadata": {
        "id": "PH8yn3tHhjlS"
      },
      "execution_count": null,
      "outputs": []
    },
    {
      "cell_type": "code",
      "source": [
        "true_entities = test_data[['text_id', 'start_pos', 'end_pos', 'entity_text', 'entity_type']]\n",
        "\n",
        "true_set = set(tuple(row) for row in true_entities.to_numpy())\n",
        "pred_set = set(tuple(row) for row in predicted_df.to_numpy())\n"
      ],
      "metadata": {
        "id": "4oXdRiTIinLP"
      },
      "execution_count": null,
      "outputs": []
    },
    {
      "cell_type": "code",
      "source": [
        "true_positives = true_set & pred_set\n",
        "\n",
        "false_positives = pred_set - true_set\n",
        "\n",
        "false_negatives = true_set - pred_set\n"
      ],
      "metadata": {
        "id": "e_wNNBONhjou"
      },
      "execution_count": null,
      "outputs": []
    },
    {
      "cell_type": "code",
      "source": [
        "tp_counts = defaultdict(int)\n",
        "fp_counts = defaultdict(int)\n",
        "fn_counts = defaultdict(int)\n",
        "\n",
        "for entity in true_positives:\n",
        "    tp_counts[entity[4]] += 1\n",
        "\n",
        "for entity in false_positives:\n",
        "    fp_counts[entity[4]] += 1\n",
        "\n",
        "for entity in false_negatives:\n",
        "    fn_counts[entity[4]] += 1\n"
      ],
      "metadata": {
        "id": "0XIvwwCdhjr7"
      },
      "execution_count": null,
      "outputs": []
    },
    {
      "cell_type": "code",
      "source": [
        "all_entity_types = set(regex_rules.keys()).union(set(test_data['entity_type'].unique()))\n",
        "\n",
        "y_true = []\n",
        "y_pred = []\n",
        "\n",
        "labels = sorted(all_entity_types)\n",
        "report = defaultdict(lambda: {'TP': 0, 'FP': 0, 'FN': 0})\n",
        "\n",
        "for entity_type in labels:\n",
        "    report[entity_type]['TP'] = tp_counts.get(entity_type, 0)\n",
        "    report[entity_type]['FP'] = fp_counts.get(entity_type, 0)\n",
        "    report[entity_type]['FN'] = fn_counts.get(entity_type, 0)\n",
        "\n",
        "report_data = []\n",
        "for entity_type in labels:\n",
        "    TP = report[entity_type]['TP']\n",
        "    FP = report[entity_type]['FP']\n",
        "    FN = report[entity_type]['FN']\n",
        "\n",
        "    precision = TP / (TP + FP) if (TP + FP) > 0 else 0\n",
        "    recall = TP / (TP + FN) if (TP + FN) > 0 else 0\n",
        "    f1 = 2 * precision * recall / (precision + recall) if (precision + recall) > 0 else 0\n",
        "\n",
        "    report_data.append({\n",
        "        'entity_type': entity_type,\n",
        "        'precision': precision,\n",
        "        'recall': recall,\n",
        "        'f1-score': f1,\n",
        "        'support': TP + FN\n",
        "    })\n",
        "\n",
        "report_df = pd.DataFrame(report_data).set_index('entity_type').sort_index()\n",
        "\n",
        "macro_f1 = report_df['f1-score'].mean()\n"
      ],
      "metadata": {
        "id": "c6ffrcpphjvT"
      },
      "execution_count": null,
      "outputs": []
    },
    {
      "cell_type": "code",
      "source": [
        "print(\"Classification Report by Entity Type:\")\n",
        "print(report_df)\n",
        "\n",
        "print(\"\\nMacro F1-Score:\", macro_f1)\n"
      ],
      "metadata": {
        "colab": {
          "base_uri": "https://localhost:8080/"
        },
        "id": "3s_1mMf5hjzG",
        "outputId": "153b34c2-80a9-4163-8161-0ba3075fc658"
      },
      "execution_count": null,
      "outputs": [
        {
          "output_type": "stream",
          "name": "stdout",
          "text": [
            "Classification Report by Entity Type:\n",
            "                   precision    recall  f1-score  support\n",
            "entity_type                                              \n",
            "AGE                 0.001794  0.075472  0.003505      106\n",
            "AWARD               0.000000  0.000000  0.000000       46\n",
            "CITY                0.002456  0.048128  0.004674      187\n",
            "COUNTRY             0.001686  0.060790  0.003280      329\n",
            "CRIME               0.000633  0.016393  0.001219       61\n",
            "DATE                0.000856  0.025424  0.001656      472\n",
            "DISEASE             0.002923  0.116667  0.005703       60\n",
            "DISTRICT            0.000000  0.000000  0.000000       22\n",
            "EVENT               0.002974  0.052548  0.005629      628\n",
            "FACILITY            0.003181  0.039474  0.005888       76\n",
            "FAMILY              0.000000  0.000000  0.000000        2\n",
            "IDEOLOGY            0.001145  0.028571  0.002203       35\n",
            "LANGUAGE            0.000000  0.000000  0.000000        8\n",
            "LAW                 0.000000  0.000000  0.000000       43\n",
            "LOCATION            0.001033  0.021739  0.001972       46\n",
            "MONEY               0.000000  0.000000  0.000000       24\n",
            "NATIONALITY         0.001890  0.074074  0.003687       81\n",
            "NUMBER              0.000168  0.056180  0.000336      178\n",
            "ORDINAL             0.001001  0.116279  0.001985       86\n",
            "ORGANIZATION        0.000031  0.089330  0.000063      403\n",
            "PENALTY             0.002157  0.075000  0.004193       40\n",
            "PERCENT             0.000000  0.000000  0.000000        9\n",
            "PERSON              0.000104  0.088071  0.000208      897\n",
            "PRODUCT             0.005337  0.189655  0.010382       58\n",
            "PROFESSION          0.002291  0.045161  0.004360      620\n",
            "RELIGION            0.001623  0.076923  0.003180       13\n",
            "STATE_OR_PROVINCE   0.003309  0.066667  0.006305       75\n",
            "TIME                0.000492  0.022727  0.000963       44\n",
            "WORK_OF_ART         0.000000  0.000000  0.000000       56\n",
            "\n",
            "Macro F1-Score: 0.002461713268023146\n"
          ]
        }
      ]
    },
    {
      "cell_type": "code",
      "source": [
        "total_tp = len(true_positives)\n",
        "total_fp = len(false_positives)\n",
        "total_fn = len(false_negatives)\n",
        "\n",
        "accuracy = total_tp / (total_tp + total_fp + total_fn) if (total_tp + total_fp + total_fn) > 0 else 0\n",
        "\n",
        "print(\"\\nOverall Accuracy:\", accuracy)\n"
      ],
      "metadata": {
        "colab": {
          "base_uri": "https://localhost:8080/"
        },
        "id": "UQQzqfcDhj1Y",
        "outputId": "43cf7c94-7358-4dfb-f383-1df0dc4fc2a4"
      },
      "execution_count": null,
      "outputs": [
        {
          "output_type": "stream",
          "name": "stdout",
          "text": [
            "\n",
            "Overall Accuracy: 0.00013721872568580476\n"
          ]
        }
      ]
    },
    {
      "cell_type": "markdown",
      "source": [
        "Ну в общем-то ничего внятного не вышло, поэтому нет смысла объединять Natasha для дететекции стандартных сущностей и кастомный классификатор для остальных, как планировалось в начале."
      ],
      "metadata": {
        "id": "zCtS7GQ0kU1M"
      }
    },
    {
      "cell_type": "markdown",
      "source": [
        "В целом, лаба получилась слабая, по факту поставленная задача не решена.\n",
        "\n"
      ],
      "metadata": {
        "id": "Ag17FPuSlEgW"
      }
    },
    {
      "cell_type": "markdown",
      "source": [
        "Судя по всему, эксперименты с LLM для генерации правил были не оправданы (и/или плохо реализованы). В целом, Rule-based подход может быть довольно точным, но не мастшабируемый, требует большого количества времени и квалификации (и базовой лингвистической, и хорошей работы с регулярками). Видел, кстати, недавно интересный [лонгрид](https://sysblok.ru/blog/gorkij-urok-abbyy-kak-lingvisty-proigrali-poslednjuju-bitvu-za-nlp/?fbclid=IwZXh0bgNhZW0CMTEAAR3tK6uhlR7FcLw7Li61PTrrBPqcmme30EhlZAKfkcdk3-LHZqikmovbapo_aem_t3P6qofoPk4Y7WvhCEBNYQ) косвенно на эту тему про ABBYY.  "
      ],
      "metadata": {
        "id": "Mp40GR7GlRKC"
      }
    },
    {
      "cell_type": "code",
      "source": [],
      "metadata": {
        "id": "3QZ6GdCwhj3i"
      },
      "execution_count": null,
      "outputs": []
    },
    {
      "cell_type": "code",
      "source": [],
      "metadata": {
        "id": "5D2MhCqHhj6e"
      },
      "execution_count": null,
      "outputs": []
    },
    {
      "cell_type": "code",
      "source": [],
      "metadata": {
        "id": "CuzBNd3hhj9C"
      },
      "execution_count": null,
      "outputs": []
    },
    {
      "cell_type": "code",
      "source": [],
      "metadata": {
        "id": "7MU8XvgogbMz"
      },
      "execution_count": null,
      "outputs": []
    },
    {
      "cell_type": "code",
      "source": [],
      "metadata": {
        "id": "GdxgvGtIbu5W"
      },
      "execution_count": null,
      "outputs": []
    },
    {
      "cell_type": "code",
      "source": [],
      "metadata": {
        "id": "h8IPH9qbbwP0"
      },
      "execution_count": null,
      "outputs": []
    },
    {
      "cell_type": "code",
      "source": [],
      "metadata": {
        "id": "5Xik8738bwR0"
      },
      "execution_count": null,
      "outputs": []
    }
  ],
  "metadata": {
    "colab": {
      "provenance": [],
      "authorship_tag": "ABX9TyMzlbDNoeydUf1jodc2mx9y",
      "include_colab_link": true
    },
    "kernelspec": {
      "display_name": "Python 3",
      "name": "python3"
    },
    "language_info": {
      "name": "python"
    }
  },
  "nbformat": 4,
  "nbformat_minor": 0
}